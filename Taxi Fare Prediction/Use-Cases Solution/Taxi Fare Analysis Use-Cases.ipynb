{
 "cells": [
  {
   "cell_type": "markdown",
   "metadata": {},
   "source": [
    "# PROBLEM STATEMENT "
   ]
  },
  {
   "cell_type": "markdown",
   "metadata": {},
   "source": [
    "#                                Taxi Fare Prediction\n",
    "   \n",
    "Abstract: In the last few years, the number of for-hire vehicles(renting a car) operating in NY has grown from 63,000 to more than 100,000. However, while the number of trips in app-based vehicles has increased from 6 million to 17 million a year, taxi trips have fallen from 11 million to 8.5 million. Hence, the NY Yellow Cab organization decided to become more data-centric. Then we have apps like Uber, OLA, Lyft, Gett, etc. how do these apps work? After all, that set price is not a random guess."
   ]
  },
  {
   "cell_type": "markdown",
   "metadata": {},
   "source": [
    "# IMPORTING THE NECESSARY LIBRARIES "
   ]
  },
  {
   "cell_type": "code",
   "execution_count": 1,
   "metadata": {},
   "outputs": [],
   "source": [
    "import numpy as np\n",
    "import pandas as pd\n",
    "import matplotlib.pyplot as plt\n",
    "import seaborn as sns\n",
    "from sklearn.preprocessing import StandardScaler,MinMaxScaler\n",
    "from sklearn.model_selection import train_test_split,GridSearchCV,RandomizedSearchCV\n",
    "from sklearn.linear_model import LinearRegression\n",
    "from sklearn.neighbors import KNeighborsRegressor\n",
    "from sklearn.tree import DecisionTreeRegressor\n",
    "from sklearn.ensemble import RandomForestRegressor,AdaBoostRegressor,GradientBoostingRegressor\n",
    "from sklearn import metrics"
   ]
  },
  {
   "cell_type": "markdown",
   "metadata": {},
   "source": [
    "# LOADING THE DATASET "
   ]
  },
  {
   "cell_type": "code",
   "execution_count": 2,
   "metadata": {},
   "outputs": [],
   "source": [
    "df=pd.read_csv('E:\\Python Imarticus\\Taxi Fare Prediction\\Dataset\\TaxiFare.csv')"
   ]
  },
  {
   "cell_type": "markdown",
   "metadata": {},
   "source": [
    "#Checking the first five rows of the dataset"
   ]
  },
  {
   "cell_type": "code",
   "execution_count": 3,
   "metadata": {},
   "outputs": [
    {
     "data": {
      "text/html": [
       "<div>\n",
       "<style scoped>\n",
       "    .dataframe tbody tr th:only-of-type {\n",
       "        vertical-align: middle;\n",
       "    }\n",
       "\n",
       "    .dataframe tbody tr th {\n",
       "        vertical-align: top;\n",
       "    }\n",
       "\n",
       "    .dataframe thead th {\n",
       "        text-align: right;\n",
       "    }\n",
       "</style>\n",
       "<table border=\"1\" class=\"dataframe\">\n",
       "  <thead>\n",
       "    <tr style=\"text-align: right;\">\n",
       "      <th></th>\n",
       "      <th>unique_id</th>\n",
       "      <th>amount</th>\n",
       "      <th>date_time_of_pickup</th>\n",
       "      <th>longitude_of_pickup</th>\n",
       "      <th>latitude_of_pickup</th>\n",
       "      <th>longitude_of_dropoff</th>\n",
       "      <th>latitude_of_dropoff</th>\n",
       "      <th>no_of_passenger</th>\n",
       "    </tr>\n",
       "  </thead>\n",
       "  <tbody>\n",
       "    <tr>\n",
       "      <th>0</th>\n",
       "      <td>26:21.0</td>\n",
       "      <td>4.5</td>\n",
       "      <td>2009-06-15 17:26:21 UTC</td>\n",
       "      <td>-73.844311</td>\n",
       "      <td>40.721319</td>\n",
       "      <td>-73.841610</td>\n",
       "      <td>40.712278</td>\n",
       "      <td>1</td>\n",
       "    </tr>\n",
       "    <tr>\n",
       "      <th>1</th>\n",
       "      <td>52:16.0</td>\n",
       "      <td>16.9</td>\n",
       "      <td>2010-01-05 16:52:16 UTC</td>\n",
       "      <td>-74.016048</td>\n",
       "      <td>40.711303</td>\n",
       "      <td>-73.979268</td>\n",
       "      <td>40.782004</td>\n",
       "      <td>1</td>\n",
       "    </tr>\n",
       "    <tr>\n",
       "      <th>2</th>\n",
       "      <td>35:00.0</td>\n",
       "      <td>5.7</td>\n",
       "      <td>2011-08-18 00:35:00 UTC</td>\n",
       "      <td>-73.982738</td>\n",
       "      <td>40.761270</td>\n",
       "      <td>-73.991242</td>\n",
       "      <td>40.750562</td>\n",
       "      <td>2</td>\n",
       "    </tr>\n",
       "    <tr>\n",
       "      <th>3</th>\n",
       "      <td>30:42.0</td>\n",
       "      <td>7.7</td>\n",
       "      <td>2012-04-21 04:30:42 UTC</td>\n",
       "      <td>-73.987130</td>\n",
       "      <td>40.733143</td>\n",
       "      <td>-73.991567</td>\n",
       "      <td>40.758092</td>\n",
       "      <td>1</td>\n",
       "    </tr>\n",
       "    <tr>\n",
       "      <th>4</th>\n",
       "      <td>51:00.0</td>\n",
       "      <td>5.3</td>\n",
       "      <td>2010-03-09 07:51:00 UTC</td>\n",
       "      <td>-73.968095</td>\n",
       "      <td>40.768008</td>\n",
       "      <td>-73.956655</td>\n",
       "      <td>40.783762</td>\n",
       "      <td>1</td>\n",
       "    </tr>\n",
       "  </tbody>\n",
       "</table>\n",
       "</div>"
      ],
      "text/plain": [
       "  unique_id  amount      date_time_of_pickup  longitude_of_pickup  \\\n",
       "0   26:21.0     4.5  2009-06-15 17:26:21 UTC           -73.844311   \n",
       "1   52:16.0    16.9  2010-01-05 16:52:16 UTC           -74.016048   \n",
       "2   35:00.0     5.7  2011-08-18 00:35:00 UTC           -73.982738   \n",
       "3   30:42.0     7.7  2012-04-21 04:30:42 UTC           -73.987130   \n",
       "4   51:00.0     5.3  2010-03-09 07:51:00 UTC           -73.968095   \n",
       "\n",
       "   latitude_of_pickup  longitude_of_dropoff  latitude_of_dropoff  \\\n",
       "0           40.721319            -73.841610            40.712278   \n",
       "1           40.711303            -73.979268            40.782004   \n",
       "2           40.761270            -73.991242            40.750562   \n",
       "3           40.733143            -73.991567            40.758092   \n",
       "4           40.768008            -73.956655            40.783762   \n",
       "\n",
       "   no_of_passenger  \n",
       "0                1  \n",
       "1                1  \n",
       "2                2  \n",
       "3                1  \n",
       "4                1  "
      ]
     },
     "execution_count": 3,
     "metadata": {},
     "output_type": "execute_result"
    }
   ],
   "source": [
    "df.head()"
   ]
  },
  {
   "cell_type": "code",
   "execution_count": 4,
   "metadata": {},
   "outputs": [
    {
     "data": {
      "text/html": [
       "<div>\n",
       "<style scoped>\n",
       "    .dataframe tbody tr th:only-of-type {\n",
       "        vertical-align: middle;\n",
       "    }\n",
       "\n",
       "    .dataframe tbody tr th {\n",
       "        vertical-align: top;\n",
       "    }\n",
       "\n",
       "    .dataframe thead th {\n",
       "        text-align: right;\n",
       "    }\n",
       "</style>\n",
       "<table border=\"1\" class=\"dataframe\">\n",
       "  <thead>\n",
       "    <tr style=\"text-align: right;\">\n",
       "      <th></th>\n",
       "      <th>unique_id</th>\n",
       "      <th>amount</th>\n",
       "      <th>date_time_of_pickup</th>\n",
       "      <th>longitude_of_pickup</th>\n",
       "      <th>latitude_of_pickup</th>\n",
       "      <th>longitude_of_dropoff</th>\n",
       "      <th>latitude_of_dropoff</th>\n",
       "      <th>no_of_passenger</th>\n",
       "    </tr>\n",
       "  </thead>\n",
       "  <tbody>\n",
       "    <tr>\n",
       "      <th>49995</th>\n",
       "      <td>25:15.0</td>\n",
       "      <td>15.0</td>\n",
       "      <td>2013-06-12 23:25:15 UTC</td>\n",
       "      <td>-73.999973</td>\n",
       "      <td>40.748531</td>\n",
       "      <td>-74.016899</td>\n",
       "      <td>40.705993</td>\n",
       "      <td>1</td>\n",
       "    </tr>\n",
       "    <tr>\n",
       "      <th>49996</th>\n",
       "      <td>19:18.0</td>\n",
       "      <td>7.5</td>\n",
       "      <td>2015-06-22 17:19:18 UTC</td>\n",
       "      <td>-73.984756</td>\n",
       "      <td>40.768211</td>\n",
       "      <td>-73.987366</td>\n",
       "      <td>40.760597</td>\n",
       "      <td>1</td>\n",
       "    </tr>\n",
       "    <tr>\n",
       "      <th>49997</th>\n",
       "      <td>53:00.0</td>\n",
       "      <td>6.9</td>\n",
       "      <td>2011-01-30 04:53:00 UTC</td>\n",
       "      <td>-74.002698</td>\n",
       "      <td>40.739428</td>\n",
       "      <td>-73.998108</td>\n",
       "      <td>40.759483</td>\n",
       "      <td>1</td>\n",
       "    </tr>\n",
       "    <tr>\n",
       "      <th>49998</th>\n",
       "      <td>09:00.0</td>\n",
       "      <td>4.5</td>\n",
       "      <td>2012-11-06 07:09:00 UTC</td>\n",
       "      <td>-73.946062</td>\n",
       "      <td>40.777567</td>\n",
       "      <td>-73.953450</td>\n",
       "      <td>40.779687</td>\n",
       "      <td>2</td>\n",
       "    </tr>\n",
       "    <tr>\n",
       "      <th>49999</th>\n",
       "      <td>13:14.0</td>\n",
       "      <td>10.9</td>\n",
       "      <td>2010-01-13 08:13:14 UTC</td>\n",
       "      <td>-73.932603</td>\n",
       "      <td>40.763805</td>\n",
       "      <td>-73.932603</td>\n",
       "      <td>40.763805</td>\n",
       "      <td>1</td>\n",
       "    </tr>\n",
       "  </tbody>\n",
       "</table>\n",
       "</div>"
      ],
      "text/plain": [
       "      unique_id  amount      date_time_of_pickup  longitude_of_pickup  \\\n",
       "49995   25:15.0    15.0  2013-06-12 23:25:15 UTC           -73.999973   \n",
       "49996   19:18.0     7.5  2015-06-22 17:19:18 UTC           -73.984756   \n",
       "49997   53:00.0     6.9  2011-01-30 04:53:00 UTC           -74.002698   \n",
       "49998   09:00.0     4.5  2012-11-06 07:09:00 UTC           -73.946062   \n",
       "49999   13:14.0    10.9  2010-01-13 08:13:14 UTC           -73.932603   \n",
       "\n",
       "       latitude_of_pickup  longitude_of_dropoff  latitude_of_dropoff  \\\n",
       "49995           40.748531            -74.016899            40.705993   \n",
       "49996           40.768211            -73.987366            40.760597   \n",
       "49997           40.739428            -73.998108            40.759483   \n",
       "49998           40.777567            -73.953450            40.779687   \n",
       "49999           40.763805            -73.932603            40.763805   \n",
       "\n",
       "       no_of_passenger  \n",
       "49995                1  \n",
       "49996                1  \n",
       "49997                1  \n",
       "49998                2  \n",
       "49999                1  "
      ]
     },
     "execution_count": 4,
     "metadata": {},
     "output_type": "execute_result"
    }
   ],
   "source": [
    "#Checking the last five rows of the dataset\n",
    "df.tail()"
   ]
  },
  {
   "cell_type": "code",
   "execution_count": 5,
   "metadata": {},
   "outputs": [
    {
     "name": "stdout",
     "output_type": "stream",
     "text": [
      "<class 'pandas.core.frame.DataFrame'>\n",
      "RangeIndex: 50000 entries, 0 to 49999\n",
      "Data columns (total 8 columns):\n",
      " #   Column                Non-Null Count  Dtype  \n",
      "---  ------                --------------  -----  \n",
      " 0   unique_id             50000 non-null  object \n",
      " 1   amount                50000 non-null  float64\n",
      " 2   date_time_of_pickup   50000 non-null  object \n",
      " 3   longitude_of_pickup   50000 non-null  float64\n",
      " 4   latitude_of_pickup    50000 non-null  float64\n",
      " 5   longitude_of_dropoff  50000 non-null  float64\n",
      " 6   latitude_of_dropoff   50000 non-null  float64\n",
      " 7   no_of_passenger       50000 non-null  int64  \n",
      "dtypes: float64(5), int64(1), object(2)\n",
      "memory usage: 3.1+ MB\n"
     ]
    }
   ],
   "source": [
    "# Checking the information of the Dataset\n",
    "df.info()"
   ]
  },
  {
   "cell_type": "code",
   "execution_count": 6,
   "metadata": {},
   "outputs": [
    {
     "data": {
      "text/html": [
       "<div>\n",
       "<style scoped>\n",
       "    .dataframe tbody tr th:only-of-type {\n",
       "        vertical-align: middle;\n",
       "    }\n",
       "\n",
       "    .dataframe tbody tr th {\n",
       "        vertical-align: top;\n",
       "    }\n",
       "\n",
       "    .dataframe thead th {\n",
       "        text-align: right;\n",
       "    }\n",
       "</style>\n",
       "<table border=\"1\" class=\"dataframe\">\n",
       "  <thead>\n",
       "    <tr style=\"text-align: right;\">\n",
       "      <th></th>\n",
       "      <th>amount</th>\n",
       "      <th>longitude_of_pickup</th>\n",
       "      <th>latitude_of_pickup</th>\n",
       "      <th>longitude_of_dropoff</th>\n",
       "      <th>latitude_of_dropoff</th>\n",
       "      <th>no_of_passenger</th>\n",
       "    </tr>\n",
       "  </thead>\n",
       "  <tbody>\n",
       "    <tr>\n",
       "      <th>count</th>\n",
       "      <td>50000.000000</td>\n",
       "      <td>50000.000000</td>\n",
       "      <td>50000.000000</td>\n",
       "      <td>50000.000000</td>\n",
       "      <td>50000.000000</td>\n",
       "      <td>50000.000000</td>\n",
       "    </tr>\n",
       "    <tr>\n",
       "      <th>mean</th>\n",
       "      <td>11.364171</td>\n",
       "      <td>-72.509756</td>\n",
       "      <td>39.933759</td>\n",
       "      <td>-72.504616</td>\n",
       "      <td>39.926251</td>\n",
       "      <td>1.667840</td>\n",
       "    </tr>\n",
       "    <tr>\n",
       "      <th>std</th>\n",
       "      <td>9.685557</td>\n",
       "      <td>10.393860</td>\n",
       "      <td>6.224857</td>\n",
       "      <td>10.407570</td>\n",
       "      <td>6.014737</td>\n",
       "      <td>1.289195</td>\n",
       "    </tr>\n",
       "    <tr>\n",
       "      <th>min</th>\n",
       "      <td>-5.000000</td>\n",
       "      <td>-75.423848</td>\n",
       "      <td>-74.006893</td>\n",
       "      <td>-84.654241</td>\n",
       "      <td>-74.006377</td>\n",
       "      <td>0.000000</td>\n",
       "    </tr>\n",
       "    <tr>\n",
       "      <th>25%</th>\n",
       "      <td>6.000000</td>\n",
       "      <td>-73.992062</td>\n",
       "      <td>40.734880</td>\n",
       "      <td>-73.991152</td>\n",
       "      <td>40.734371</td>\n",
       "      <td>1.000000</td>\n",
       "    </tr>\n",
       "    <tr>\n",
       "      <th>50%</th>\n",
       "      <td>8.500000</td>\n",
       "      <td>-73.981840</td>\n",
       "      <td>40.752678</td>\n",
       "      <td>-73.980082</td>\n",
       "      <td>40.753372</td>\n",
       "      <td>1.000000</td>\n",
       "    </tr>\n",
       "    <tr>\n",
       "      <th>75%</th>\n",
       "      <td>12.500000</td>\n",
       "      <td>-73.967148</td>\n",
       "      <td>40.767360</td>\n",
       "      <td>-73.963584</td>\n",
       "      <td>40.768167</td>\n",
       "      <td>2.000000</td>\n",
       "    </tr>\n",
       "    <tr>\n",
       "      <th>max</th>\n",
       "      <td>200.000000</td>\n",
       "      <td>40.783472</td>\n",
       "      <td>401.083332</td>\n",
       "      <td>40.851027</td>\n",
       "      <td>43.415190</td>\n",
       "      <td>6.000000</td>\n",
       "    </tr>\n",
       "  </tbody>\n",
       "</table>\n",
       "</div>"
      ],
      "text/plain": [
       "             amount  longitude_of_pickup  latitude_of_pickup  \\\n",
       "count  50000.000000         50000.000000        50000.000000   \n",
       "mean      11.364171           -72.509756           39.933759   \n",
       "std        9.685557            10.393860            6.224857   \n",
       "min       -5.000000           -75.423848          -74.006893   \n",
       "25%        6.000000           -73.992062           40.734880   \n",
       "50%        8.500000           -73.981840           40.752678   \n",
       "75%       12.500000           -73.967148           40.767360   \n",
       "max      200.000000            40.783472          401.083332   \n",
       "\n",
       "       longitude_of_dropoff  latitude_of_dropoff  no_of_passenger  \n",
       "count          50000.000000         50000.000000     50000.000000  \n",
       "mean             -72.504616            39.926251         1.667840  \n",
       "std               10.407570             6.014737         1.289195  \n",
       "min              -84.654241           -74.006377         0.000000  \n",
       "25%              -73.991152            40.734371         1.000000  \n",
       "50%              -73.980082            40.753372         1.000000  \n",
       "75%              -73.963584            40.768167         2.000000  \n",
       "max               40.851027            43.415190         6.000000  "
      ]
     },
     "execution_count": 6,
     "metadata": {},
     "output_type": "execute_result"
    }
   ],
   "source": [
    "#Check the description of the Dataset\n",
    "df.describe()"
   ]
  },
  {
   "cell_type": "code",
   "execution_count": 7,
   "metadata": {},
   "outputs": [
    {
     "data": {
      "text/plain": [
       "unique_id                object\n",
       "amount                  float64\n",
       "date_time_of_pickup      object\n",
       "longitude_of_pickup     float64\n",
       "latitude_of_pickup      float64\n",
       "longitude_of_dropoff    float64\n",
       "latitude_of_dropoff     float64\n",
       "no_of_passenger           int64\n",
       "dtype: object"
      ]
     },
     "execution_count": 7,
     "metadata": {},
     "output_type": "execute_result"
    }
   ],
   "source": [
    "# Checking the columns of the dataset whether they have proper datatype or not\n",
    "df.dtypes"
   ]
  },
  {
   "cell_type": "code",
   "execution_count": 8,
   "metadata": {},
   "outputs": [
    {
     "data": {
      "text/plain": [
       "dtype('O')"
      ]
     },
     "execution_count": 8,
     "metadata": {},
     "output_type": "execute_result"
    }
   ],
   "source": [
    "# Checking the datatype of the date_time_of_pickup column\n",
    "df['date_time_of_pickup'].dtypes"
   ]
  },
  {
   "cell_type": "code",
   "execution_count": 9,
   "metadata": {},
   "outputs": [],
   "source": [
    "# Converting date_time_of_pickup column of object to datetime  \n",
    "df['date_time_of_pickup']=pd.to_datetime(df['date_time_of_pickup'])"
   ]
  },
  {
   "cell_type": "code",
   "execution_count": 10,
   "metadata": {},
   "outputs": [
    {
     "data": {
      "text/plain": [
       "0   2009-06-15 17:26:21+00:00\n",
       "1   2010-01-05 16:52:16+00:00\n",
       "2   2011-08-18 00:35:00+00:00\n",
       "3   2012-04-21 04:30:42+00:00\n",
       "4   2010-03-09 07:51:00+00:00\n",
       "Name: date_time_of_pickup, dtype: datetime64[ns, UTC]"
      ]
     },
     "execution_count": 10,
     "metadata": {},
     "output_type": "execute_result"
    }
   ],
   "source": [
    "# Checking some values of the date_time_of_pickup columns\n",
    "df['date_time_of_pickup'].head()"
   ]
  },
  {
   "cell_type": "code",
   "execution_count": 11,
   "metadata": {},
   "outputs": [],
   "source": [
    "# Making a copy of the Original Dataset and storing it into a new DataFrame\n",
    "df_1=df.copy()"
   ]
  },
  {
   "cell_type": "code",
   "execution_count": 12,
   "metadata": {},
   "outputs": [],
   "source": [
    "# Extracting Year,Month,Day,Week_day from the date_time_of_pickup\n",
    "df_1['Year']=df_1['date_time_of_pickup'].dt.year\n",
    "df_1['Month']=df_1['date_time_of_pickup'].dt.month\n",
    "df_1['Day']=df_1['date_time_of_pickup'].dt.day\n",
    "df_1['Week_day']=df_1['date_time_of_pickup'].dt.weekday"
   ]
  },
  {
   "cell_type": "code",
   "execution_count": 13,
   "metadata": {},
   "outputs": [],
   "source": [
    "# Extracting Hours,Minute from the date_time_of_pickup\n",
    "import datetime\n",
    "df_1['Hours']=df_1['date_time_of_pickup'].dt.hour\n",
    "#df_1['Minute']=df_1['date_time_of_pickup'].dt.minute"
   ]
  },
  {
   "cell_type": "code",
   "execution_count": 14,
   "metadata": {},
   "outputs": [
    {
     "data": {
      "text/html": [
       "<div>\n",
       "<style scoped>\n",
       "    .dataframe tbody tr th:only-of-type {\n",
       "        vertical-align: middle;\n",
       "    }\n",
       "\n",
       "    .dataframe tbody tr th {\n",
       "        vertical-align: top;\n",
       "    }\n",
       "\n",
       "    .dataframe thead th {\n",
       "        text-align: right;\n",
       "    }\n",
       "</style>\n",
       "<table border=\"1\" class=\"dataframe\">\n",
       "  <thead>\n",
       "    <tr style=\"text-align: right;\">\n",
       "      <th></th>\n",
       "      <th>unique_id</th>\n",
       "      <th>amount</th>\n",
       "      <th>date_time_of_pickup</th>\n",
       "      <th>longitude_of_pickup</th>\n",
       "      <th>latitude_of_pickup</th>\n",
       "      <th>longitude_of_dropoff</th>\n",
       "      <th>latitude_of_dropoff</th>\n",
       "      <th>no_of_passenger</th>\n",
       "      <th>Year</th>\n",
       "      <th>Month</th>\n",
       "      <th>Day</th>\n",
       "      <th>Week_day</th>\n",
       "      <th>Hours</th>\n",
       "    </tr>\n",
       "  </thead>\n",
       "  <tbody>\n",
       "    <tr>\n",
       "      <th>0</th>\n",
       "      <td>26:21.0</td>\n",
       "      <td>4.5</td>\n",
       "      <td>2009-06-15 17:26:21+00:00</td>\n",
       "      <td>-73.844311</td>\n",
       "      <td>40.721319</td>\n",
       "      <td>-73.841610</td>\n",
       "      <td>40.712278</td>\n",
       "      <td>1</td>\n",
       "      <td>2009</td>\n",
       "      <td>6</td>\n",
       "      <td>15</td>\n",
       "      <td>0</td>\n",
       "      <td>17</td>\n",
       "    </tr>\n",
       "    <tr>\n",
       "      <th>1</th>\n",
       "      <td>52:16.0</td>\n",
       "      <td>16.9</td>\n",
       "      <td>2010-01-05 16:52:16+00:00</td>\n",
       "      <td>-74.016048</td>\n",
       "      <td>40.711303</td>\n",
       "      <td>-73.979268</td>\n",
       "      <td>40.782004</td>\n",
       "      <td>1</td>\n",
       "      <td>2010</td>\n",
       "      <td>1</td>\n",
       "      <td>5</td>\n",
       "      <td>1</td>\n",
       "      <td>16</td>\n",
       "    </tr>\n",
       "    <tr>\n",
       "      <th>2</th>\n",
       "      <td>35:00.0</td>\n",
       "      <td>5.7</td>\n",
       "      <td>2011-08-18 00:35:00+00:00</td>\n",
       "      <td>-73.982738</td>\n",
       "      <td>40.761270</td>\n",
       "      <td>-73.991242</td>\n",
       "      <td>40.750562</td>\n",
       "      <td>2</td>\n",
       "      <td>2011</td>\n",
       "      <td>8</td>\n",
       "      <td>18</td>\n",
       "      <td>3</td>\n",
       "      <td>0</td>\n",
       "    </tr>\n",
       "    <tr>\n",
       "      <th>3</th>\n",
       "      <td>30:42.0</td>\n",
       "      <td>7.7</td>\n",
       "      <td>2012-04-21 04:30:42+00:00</td>\n",
       "      <td>-73.987130</td>\n",
       "      <td>40.733143</td>\n",
       "      <td>-73.991567</td>\n",
       "      <td>40.758092</td>\n",
       "      <td>1</td>\n",
       "      <td>2012</td>\n",
       "      <td>4</td>\n",
       "      <td>21</td>\n",
       "      <td>5</td>\n",
       "      <td>4</td>\n",
       "    </tr>\n",
       "    <tr>\n",
       "      <th>4</th>\n",
       "      <td>51:00.0</td>\n",
       "      <td>5.3</td>\n",
       "      <td>2010-03-09 07:51:00+00:00</td>\n",
       "      <td>-73.968095</td>\n",
       "      <td>40.768008</td>\n",
       "      <td>-73.956655</td>\n",
       "      <td>40.783762</td>\n",
       "      <td>1</td>\n",
       "      <td>2010</td>\n",
       "      <td>3</td>\n",
       "      <td>9</td>\n",
       "      <td>1</td>\n",
       "      <td>7</td>\n",
       "    </tr>\n",
       "  </tbody>\n",
       "</table>\n",
       "</div>"
      ],
      "text/plain": [
       "  unique_id  amount       date_time_of_pickup  longitude_of_pickup  \\\n",
       "0   26:21.0     4.5 2009-06-15 17:26:21+00:00           -73.844311   \n",
       "1   52:16.0    16.9 2010-01-05 16:52:16+00:00           -74.016048   \n",
       "2   35:00.0     5.7 2011-08-18 00:35:00+00:00           -73.982738   \n",
       "3   30:42.0     7.7 2012-04-21 04:30:42+00:00           -73.987130   \n",
       "4   51:00.0     5.3 2010-03-09 07:51:00+00:00           -73.968095   \n",
       "\n",
       "   latitude_of_pickup  longitude_of_dropoff  latitude_of_dropoff  \\\n",
       "0           40.721319            -73.841610            40.712278   \n",
       "1           40.711303            -73.979268            40.782004   \n",
       "2           40.761270            -73.991242            40.750562   \n",
       "3           40.733143            -73.991567            40.758092   \n",
       "4           40.768008            -73.956655            40.783762   \n",
       "\n",
       "   no_of_passenger  Year  Month  Day  Week_day  Hours  \n",
       "0                1  2009      6   15         0     17  \n",
       "1                1  2010      1    5         1     16  \n",
       "2                2  2011      8   18         3      0  \n",
       "3                1  2012      4   21         5      4  \n",
       "4                1  2010      3    9         1      7  "
      ]
     },
     "execution_count": 14,
     "metadata": {},
     "output_type": "execute_result"
    }
   ],
   "source": [
    "# Checking if the changes that we have done in the code is reflected or not \n",
    "df_1.head()"
   ]
  },
  {
   "cell_type": "code",
   "execution_count": 15,
   "metadata": {},
   "outputs": [],
   "source": [
    "# Renaming some columns of the dataset to be more readable format\n",
    "df_1.rename(columns={'amount':'Fare','longitude_of_pickup':'pickup_longitude',\n",
    "                    'latitude_of_pickup':'pickup_latitude','longitude_of_dropoff':'dropoff_longitude',\n",
    "                    'latitude_of_dropoff':'dropoff_latitude','no_of_passenger':'PassengerInTaxi'},inplace=True)"
   ]
  },
  {
   "cell_type": "code",
   "execution_count": 16,
   "metadata": {},
   "outputs": [
    {
     "data": {
      "text/html": [
       "<div>\n",
       "<style scoped>\n",
       "    .dataframe tbody tr th:only-of-type {\n",
       "        vertical-align: middle;\n",
       "    }\n",
       "\n",
       "    .dataframe tbody tr th {\n",
       "        vertical-align: top;\n",
       "    }\n",
       "\n",
       "    .dataframe thead th {\n",
       "        text-align: right;\n",
       "    }\n",
       "</style>\n",
       "<table border=\"1\" class=\"dataframe\">\n",
       "  <thead>\n",
       "    <tr style=\"text-align: right;\">\n",
       "      <th></th>\n",
       "      <th>unique_id</th>\n",
       "      <th>Fare</th>\n",
       "      <th>date_time_of_pickup</th>\n",
       "      <th>pickup_longitude</th>\n",
       "      <th>pickup_latitude</th>\n",
       "      <th>dropoff_longitude</th>\n",
       "      <th>dropoff_latitude</th>\n",
       "      <th>PassengerInTaxi</th>\n",
       "      <th>Year</th>\n",
       "      <th>Month</th>\n",
       "      <th>Day</th>\n",
       "      <th>Week_day</th>\n",
       "      <th>Hours</th>\n",
       "    </tr>\n",
       "  </thead>\n",
       "  <tbody>\n",
       "    <tr>\n",
       "      <th>0</th>\n",
       "      <td>26:21.0</td>\n",
       "      <td>4.5</td>\n",
       "      <td>2009-06-15 17:26:21+00:00</td>\n",
       "      <td>-73.844311</td>\n",
       "      <td>40.721319</td>\n",
       "      <td>-73.841610</td>\n",
       "      <td>40.712278</td>\n",
       "      <td>1</td>\n",
       "      <td>2009</td>\n",
       "      <td>6</td>\n",
       "      <td>15</td>\n",
       "      <td>0</td>\n",
       "      <td>17</td>\n",
       "    </tr>\n",
       "    <tr>\n",
       "      <th>1</th>\n",
       "      <td>52:16.0</td>\n",
       "      <td>16.9</td>\n",
       "      <td>2010-01-05 16:52:16+00:00</td>\n",
       "      <td>-74.016048</td>\n",
       "      <td>40.711303</td>\n",
       "      <td>-73.979268</td>\n",
       "      <td>40.782004</td>\n",
       "      <td>1</td>\n",
       "      <td>2010</td>\n",
       "      <td>1</td>\n",
       "      <td>5</td>\n",
       "      <td>1</td>\n",
       "      <td>16</td>\n",
       "    </tr>\n",
       "    <tr>\n",
       "      <th>2</th>\n",
       "      <td>35:00.0</td>\n",
       "      <td>5.7</td>\n",
       "      <td>2011-08-18 00:35:00+00:00</td>\n",
       "      <td>-73.982738</td>\n",
       "      <td>40.761270</td>\n",
       "      <td>-73.991242</td>\n",
       "      <td>40.750562</td>\n",
       "      <td>2</td>\n",
       "      <td>2011</td>\n",
       "      <td>8</td>\n",
       "      <td>18</td>\n",
       "      <td>3</td>\n",
       "      <td>0</td>\n",
       "    </tr>\n",
       "    <tr>\n",
       "      <th>3</th>\n",
       "      <td>30:42.0</td>\n",
       "      <td>7.7</td>\n",
       "      <td>2012-04-21 04:30:42+00:00</td>\n",
       "      <td>-73.987130</td>\n",
       "      <td>40.733143</td>\n",
       "      <td>-73.991567</td>\n",
       "      <td>40.758092</td>\n",
       "      <td>1</td>\n",
       "      <td>2012</td>\n",
       "      <td>4</td>\n",
       "      <td>21</td>\n",
       "      <td>5</td>\n",
       "      <td>4</td>\n",
       "    </tr>\n",
       "    <tr>\n",
       "      <th>4</th>\n",
       "      <td>51:00.0</td>\n",
       "      <td>5.3</td>\n",
       "      <td>2010-03-09 07:51:00+00:00</td>\n",
       "      <td>-73.968095</td>\n",
       "      <td>40.768008</td>\n",
       "      <td>-73.956655</td>\n",
       "      <td>40.783762</td>\n",
       "      <td>1</td>\n",
       "      <td>2010</td>\n",
       "      <td>3</td>\n",
       "      <td>9</td>\n",
       "      <td>1</td>\n",
       "      <td>7</td>\n",
       "    </tr>\n",
       "    <tr>\n",
       "      <th>...</th>\n",
       "      <td>...</td>\n",
       "      <td>...</td>\n",
       "      <td>...</td>\n",
       "      <td>...</td>\n",
       "      <td>...</td>\n",
       "      <td>...</td>\n",
       "      <td>...</td>\n",
       "      <td>...</td>\n",
       "      <td>...</td>\n",
       "      <td>...</td>\n",
       "      <td>...</td>\n",
       "      <td>...</td>\n",
       "      <td>...</td>\n",
       "    </tr>\n",
       "    <tr>\n",
       "      <th>49995</th>\n",
       "      <td>25:15.0</td>\n",
       "      <td>15.0</td>\n",
       "      <td>2013-06-12 23:25:15+00:00</td>\n",
       "      <td>-73.999973</td>\n",
       "      <td>40.748531</td>\n",
       "      <td>-74.016899</td>\n",
       "      <td>40.705993</td>\n",
       "      <td>1</td>\n",
       "      <td>2013</td>\n",
       "      <td>6</td>\n",
       "      <td>12</td>\n",
       "      <td>2</td>\n",
       "      <td>23</td>\n",
       "    </tr>\n",
       "    <tr>\n",
       "      <th>49996</th>\n",
       "      <td>19:18.0</td>\n",
       "      <td>7.5</td>\n",
       "      <td>2015-06-22 17:19:18+00:00</td>\n",
       "      <td>-73.984756</td>\n",
       "      <td>40.768211</td>\n",
       "      <td>-73.987366</td>\n",
       "      <td>40.760597</td>\n",
       "      <td>1</td>\n",
       "      <td>2015</td>\n",
       "      <td>6</td>\n",
       "      <td>22</td>\n",
       "      <td>0</td>\n",
       "      <td>17</td>\n",
       "    </tr>\n",
       "    <tr>\n",
       "      <th>49997</th>\n",
       "      <td>53:00.0</td>\n",
       "      <td>6.9</td>\n",
       "      <td>2011-01-30 04:53:00+00:00</td>\n",
       "      <td>-74.002698</td>\n",
       "      <td>40.739428</td>\n",
       "      <td>-73.998108</td>\n",
       "      <td>40.759483</td>\n",
       "      <td>1</td>\n",
       "      <td>2011</td>\n",
       "      <td>1</td>\n",
       "      <td>30</td>\n",
       "      <td>6</td>\n",
       "      <td>4</td>\n",
       "    </tr>\n",
       "    <tr>\n",
       "      <th>49998</th>\n",
       "      <td>09:00.0</td>\n",
       "      <td>4.5</td>\n",
       "      <td>2012-11-06 07:09:00+00:00</td>\n",
       "      <td>-73.946062</td>\n",
       "      <td>40.777567</td>\n",
       "      <td>-73.953450</td>\n",
       "      <td>40.779687</td>\n",
       "      <td>2</td>\n",
       "      <td>2012</td>\n",
       "      <td>11</td>\n",
       "      <td>6</td>\n",
       "      <td>1</td>\n",
       "      <td>7</td>\n",
       "    </tr>\n",
       "    <tr>\n",
       "      <th>49999</th>\n",
       "      <td>13:14.0</td>\n",
       "      <td>10.9</td>\n",
       "      <td>2010-01-13 08:13:14+00:00</td>\n",
       "      <td>-73.932603</td>\n",
       "      <td>40.763805</td>\n",
       "      <td>-73.932603</td>\n",
       "      <td>40.763805</td>\n",
       "      <td>1</td>\n",
       "      <td>2010</td>\n",
       "      <td>1</td>\n",
       "      <td>13</td>\n",
       "      <td>2</td>\n",
       "      <td>8</td>\n",
       "    </tr>\n",
       "  </tbody>\n",
       "</table>\n",
       "<p>50000 rows × 13 columns</p>\n",
       "</div>"
      ],
      "text/plain": [
       "      unique_id  Fare       date_time_of_pickup  pickup_longitude  \\\n",
       "0       26:21.0   4.5 2009-06-15 17:26:21+00:00        -73.844311   \n",
       "1       52:16.0  16.9 2010-01-05 16:52:16+00:00        -74.016048   \n",
       "2       35:00.0   5.7 2011-08-18 00:35:00+00:00        -73.982738   \n",
       "3       30:42.0   7.7 2012-04-21 04:30:42+00:00        -73.987130   \n",
       "4       51:00.0   5.3 2010-03-09 07:51:00+00:00        -73.968095   \n",
       "...         ...   ...                       ...               ...   \n",
       "49995   25:15.0  15.0 2013-06-12 23:25:15+00:00        -73.999973   \n",
       "49996   19:18.0   7.5 2015-06-22 17:19:18+00:00        -73.984756   \n",
       "49997   53:00.0   6.9 2011-01-30 04:53:00+00:00        -74.002698   \n",
       "49998   09:00.0   4.5 2012-11-06 07:09:00+00:00        -73.946062   \n",
       "49999   13:14.0  10.9 2010-01-13 08:13:14+00:00        -73.932603   \n",
       "\n",
       "       pickup_latitude  dropoff_longitude  dropoff_latitude  PassengerInTaxi  \\\n",
       "0            40.721319         -73.841610         40.712278                1   \n",
       "1            40.711303         -73.979268         40.782004                1   \n",
       "2            40.761270         -73.991242         40.750562                2   \n",
       "3            40.733143         -73.991567         40.758092                1   \n",
       "4            40.768008         -73.956655         40.783762                1   \n",
       "...                ...                ...               ...              ...   \n",
       "49995        40.748531         -74.016899         40.705993                1   \n",
       "49996        40.768211         -73.987366         40.760597                1   \n",
       "49997        40.739428         -73.998108         40.759483                1   \n",
       "49998        40.777567         -73.953450         40.779687                2   \n",
       "49999        40.763805         -73.932603         40.763805                1   \n",
       "\n",
       "       Year  Month  Day  Week_day  Hours  \n",
       "0      2009      6   15         0     17  \n",
       "1      2010      1    5         1     16  \n",
       "2      2011      8   18         3      0  \n",
       "3      2012      4   21         5      4  \n",
       "4      2010      3    9         1      7  \n",
       "...     ...    ...  ...       ...    ...  \n",
       "49995  2013      6   12         2     23  \n",
       "49996  2015      6   22         0     17  \n",
       "49997  2011      1   30         6      4  \n",
       "49998  2012     11    6         1      7  \n",
       "49999  2010      1   13         2      8  \n",
       "\n",
       "[50000 rows x 13 columns]"
      ]
     },
     "execution_count": 16,
     "metadata": {},
     "output_type": "execute_result"
    }
   ],
   "source": [
    "df_1"
   ]
  },
  {
   "cell_type": "code",
   "execution_count": 17,
   "metadata": {},
   "outputs": [
    {
     "data": {
      "text/html": [
       "<div>\n",
       "<style scoped>\n",
       "    .dataframe tbody tr th:only-of-type {\n",
       "        vertical-align: middle;\n",
       "    }\n",
       "\n",
       "    .dataframe tbody tr th {\n",
       "        vertical-align: top;\n",
       "    }\n",
       "\n",
       "    .dataframe thead th {\n",
       "        text-align: right;\n",
       "    }\n",
       "</style>\n",
       "<table border=\"1\" class=\"dataframe\">\n",
       "  <thead>\n",
       "    <tr style=\"text-align: right;\">\n",
       "      <th></th>\n",
       "      <th>unique_id</th>\n",
       "      <th>Fare</th>\n",
       "      <th>date_time_of_pickup</th>\n",
       "      <th>pickup_longitude</th>\n",
       "      <th>pickup_latitude</th>\n",
       "      <th>dropoff_longitude</th>\n",
       "      <th>dropoff_latitude</th>\n",
       "      <th>PassengerInTaxi</th>\n",
       "      <th>Year</th>\n",
       "      <th>Month</th>\n",
       "      <th>Day</th>\n",
       "      <th>Week_day</th>\n",
       "      <th>Hours</th>\n",
       "    </tr>\n",
       "  </thead>\n",
       "  <tbody>\n",
       "    <tr>\n",
       "      <th>10002</th>\n",
       "      <td>26:01.0</td>\n",
       "      <td>0.0</td>\n",
       "      <td>2010-02-15 14:26:01+00:00</td>\n",
       "      <td>-73.987115</td>\n",
       "      <td>40.738808</td>\n",
       "      <td>-74.005911</td>\n",
       "      <td>40.713960</td>\n",
       "      <td>1</td>\n",
       "      <td>2010</td>\n",
       "      <td>2</td>\n",
       "      <td>15</td>\n",
       "      <td>0</td>\n",
       "      <td>14</td>\n",
       "    </tr>\n",
       "    <tr>\n",
       "      <th>27891</th>\n",
       "      <td>40:28.0</td>\n",
       "      <td>0.0</td>\n",
       "      <td>2015-05-15 21:40:28+00:00</td>\n",
       "      <td>-74.077927</td>\n",
       "      <td>40.805714</td>\n",
       "      <td>-74.077919</td>\n",
       "      <td>40.805721</td>\n",
       "      <td>1</td>\n",
       "      <td>2015</td>\n",
       "      <td>5</td>\n",
       "      <td>15</td>\n",
       "      <td>4</td>\n",
       "      <td>21</td>\n",
       "    </tr>\n",
       "    <tr>\n",
       "      <th>47302</th>\n",
       "      <td>13:39.0</td>\n",
       "      <td>0.0</td>\n",
       "      <td>2010-03-18 19:13:39+00:00</td>\n",
       "      <td>-73.942346</td>\n",
       "      <td>40.806269</td>\n",
       "      <td>-73.942463</td>\n",
       "      <td>40.806129</td>\n",
       "      <td>1</td>\n",
       "      <td>2010</td>\n",
       "      <td>3</td>\n",
       "      <td>18</td>\n",
       "      <td>3</td>\n",
       "      <td>19</td>\n",
       "    </tr>\n",
       "  </tbody>\n",
       "</table>\n",
       "</div>"
      ],
      "text/plain": [
       "      unique_id  Fare       date_time_of_pickup  pickup_longitude  \\\n",
       "10002   26:01.0   0.0 2010-02-15 14:26:01+00:00        -73.987115   \n",
       "27891   40:28.0   0.0 2015-05-15 21:40:28+00:00        -74.077927   \n",
       "47302   13:39.0   0.0 2010-03-18 19:13:39+00:00        -73.942346   \n",
       "\n",
       "       pickup_latitude  dropoff_longitude  dropoff_latitude  PassengerInTaxi  \\\n",
       "10002        40.738808         -74.005911         40.713960                1   \n",
       "27891        40.805714         -74.077919         40.805721                1   \n",
       "47302        40.806269         -73.942463         40.806129                1   \n",
       "\n",
       "       Year  Month  Day  Week_day  Hours  \n",
       "10002  2010      2   15         0     14  \n",
       "27891  2015      5   15         4     21  \n",
       "47302  2010      3   18         3     19  "
      ]
     },
     "execution_count": 17,
     "metadata": {},
     "output_type": "execute_result"
    }
   ],
   "source": [
    "# Checking some Anomalies in the Dataset and investigate if the situation is valid or not\n",
    "df_1[df_1['Fare']==0]"
   ]
  },
  {
   "cell_type": "markdown",
   "metadata": {},
   "source": [
    "We can see that there are some Fare price which are zero but the PassengerinTaxi is 1 maybe this \n",
    "is a bad data or any other reason but for now we are just focusing on Predicting Taxi Fare so we will\n",
    "eliminate this rows"
   ]
  },
  {
   "cell_type": "code",
   "execution_count": 18,
   "metadata": {},
   "outputs": [],
   "source": [
    "# Eliminate the invalid and bad data of the dataset\n",
    "#df_1.drop(index=[10002,27891,47302],inplace=True)"
   ]
  },
  {
   "cell_type": "code",
   "execution_count": 19,
   "metadata": {},
   "outputs": [
    {
     "data": {
      "text/html": [
       "<div>\n",
       "<style scoped>\n",
       "    .dataframe tbody tr th:only-of-type {\n",
       "        vertical-align: middle;\n",
       "    }\n",
       "\n",
       "    .dataframe tbody tr th {\n",
       "        vertical-align: top;\n",
       "    }\n",
       "\n",
       "    .dataframe thead th {\n",
       "        text-align: right;\n",
       "    }\n",
       "</style>\n",
       "<table border=\"1\" class=\"dataframe\">\n",
       "  <thead>\n",
       "    <tr style=\"text-align: right;\">\n",
       "      <th></th>\n",
       "      <th>unique_id</th>\n",
       "      <th>Fare</th>\n",
       "      <th>date_time_of_pickup</th>\n",
       "      <th>pickup_longitude</th>\n",
       "      <th>pickup_latitude</th>\n",
       "      <th>dropoff_longitude</th>\n",
       "      <th>dropoff_latitude</th>\n",
       "      <th>PassengerInTaxi</th>\n",
       "      <th>Year</th>\n",
       "      <th>Month</th>\n",
       "      <th>Day</th>\n",
       "      <th>Week_day</th>\n",
       "      <th>Hours</th>\n",
       "    </tr>\n",
       "  </thead>\n",
       "  <tbody>\n",
       "    <tr>\n",
       "      <th>10002</th>\n",
       "      <td>26:01.0</td>\n",
       "      <td>0.0</td>\n",
       "      <td>2010-02-15 14:26:01+00:00</td>\n",
       "      <td>-73.987115</td>\n",
       "      <td>40.738808</td>\n",
       "      <td>-74.005911</td>\n",
       "      <td>40.713960</td>\n",
       "      <td>1</td>\n",
       "      <td>2010</td>\n",
       "      <td>2</td>\n",
       "      <td>15</td>\n",
       "      <td>0</td>\n",
       "      <td>14</td>\n",
       "    </tr>\n",
       "    <tr>\n",
       "      <th>27891</th>\n",
       "      <td>40:28.0</td>\n",
       "      <td>0.0</td>\n",
       "      <td>2015-05-15 21:40:28+00:00</td>\n",
       "      <td>-74.077927</td>\n",
       "      <td>40.805714</td>\n",
       "      <td>-74.077919</td>\n",
       "      <td>40.805721</td>\n",
       "      <td>1</td>\n",
       "      <td>2015</td>\n",
       "      <td>5</td>\n",
       "      <td>15</td>\n",
       "      <td>4</td>\n",
       "      <td>21</td>\n",
       "    </tr>\n",
       "    <tr>\n",
       "      <th>47302</th>\n",
       "      <td>13:39.0</td>\n",
       "      <td>0.0</td>\n",
       "      <td>2010-03-18 19:13:39+00:00</td>\n",
       "      <td>-73.942346</td>\n",
       "      <td>40.806269</td>\n",
       "      <td>-73.942463</td>\n",
       "      <td>40.806129</td>\n",
       "      <td>1</td>\n",
       "      <td>2010</td>\n",
       "      <td>3</td>\n",
       "      <td>18</td>\n",
       "      <td>3</td>\n",
       "      <td>19</td>\n",
       "    </tr>\n",
       "  </tbody>\n",
       "</table>\n",
       "</div>"
      ],
      "text/plain": [
       "      unique_id  Fare       date_time_of_pickup  pickup_longitude  \\\n",
       "10002   26:01.0   0.0 2010-02-15 14:26:01+00:00        -73.987115   \n",
       "27891   40:28.0   0.0 2015-05-15 21:40:28+00:00        -74.077927   \n",
       "47302   13:39.0   0.0 2010-03-18 19:13:39+00:00        -73.942346   \n",
       "\n",
       "       pickup_latitude  dropoff_longitude  dropoff_latitude  PassengerInTaxi  \\\n",
       "10002        40.738808         -74.005911         40.713960                1   \n",
       "27891        40.805714         -74.077919         40.805721                1   \n",
       "47302        40.806269         -73.942463         40.806129                1   \n",
       "\n",
       "       Year  Month  Day  Week_day  Hours  \n",
       "10002  2010      2   15         0     14  \n",
       "27891  2015      5   15         4     21  \n",
       "47302  2010      3   18         3     19  "
      ]
     },
     "execution_count": 19,
     "metadata": {},
     "output_type": "execute_result"
    }
   ],
   "source": [
    "#Check if the condition is applied or not\n",
    "df_1[df_1['Fare']==0]"
   ]
  },
  {
   "cell_type": "markdown",
   "metadata": {},
   "source": [
    "The condition is applied sucessfully and we will see whether there is some more anomalies so that when we start our model building process it should have good data"
   ]
  },
  {
   "cell_type": "markdown",
   "metadata": {},
   "source": [
    "# MORE ANOMALIES IN THE DATASET"
   ]
  },
  {
   "cell_type": "code",
   "execution_count": 20,
   "metadata": {},
   "outputs": [
    {
     "data": {
      "text/plain": [
       "unique_id                           object\n",
       "Fare                               float64\n",
       "date_time_of_pickup    datetime64[ns, UTC]\n",
       "pickup_longitude                   float64\n",
       "pickup_latitude                    float64\n",
       "dropoff_longitude                  float64\n",
       "dropoff_latitude                   float64\n",
       "PassengerInTaxi                      int64\n",
       "Year                                 int64\n",
       "Month                                int64\n",
       "Day                                  int64\n",
       "Week_day                             int64\n",
       "Hours                                int64\n",
       "dtype: object"
      ]
     },
     "execution_count": 20,
     "metadata": {},
     "output_type": "execute_result"
    }
   ],
   "source": [
    "df_1.dtypes"
   ]
  },
  {
   "cell_type": "code",
   "execution_count": 21,
   "metadata": {},
   "outputs": [
    {
     "data": {
      "text/plain": [
       "dtype('float64')"
      ]
     },
     "execution_count": 21,
     "metadata": {},
     "output_type": "execute_result"
    }
   ],
   "source": [
    "df_1['Fare'].dtypes"
   ]
  },
  {
   "cell_type": "code",
   "execution_count": 22,
   "metadata": {},
   "outputs": [
    {
     "data": {
      "text/html": [
       "<div>\n",
       "<style scoped>\n",
       "    .dataframe tbody tr th:only-of-type {\n",
       "        vertical-align: middle;\n",
       "    }\n",
       "\n",
       "    .dataframe tbody tr th {\n",
       "        vertical-align: top;\n",
       "    }\n",
       "\n",
       "    .dataframe thead th {\n",
       "        text-align: right;\n",
       "    }\n",
       "</style>\n",
       "<table border=\"1\" class=\"dataframe\">\n",
       "  <thead>\n",
       "    <tr style=\"text-align: right;\">\n",
       "      <th></th>\n",
       "      <th>unique_id</th>\n",
       "      <th>Fare</th>\n",
       "      <th>date_time_of_pickup</th>\n",
       "      <th>pickup_longitude</th>\n",
       "      <th>pickup_latitude</th>\n",
       "      <th>dropoff_longitude</th>\n",
       "      <th>dropoff_latitude</th>\n",
       "      <th>PassengerInTaxi</th>\n",
       "      <th>Year</th>\n",
       "      <th>Month</th>\n",
       "      <th>Day</th>\n",
       "      <th>Week_day</th>\n",
       "      <th>Hours</th>\n",
       "    </tr>\n",
       "  </thead>\n",
       "  <tbody>\n",
       "    <tr>\n",
       "      <th>2039</th>\n",
       "      <td>37:10.0</td>\n",
       "      <td>-2.9</td>\n",
       "      <td>2010-03-09 23:37:10+00:00</td>\n",
       "      <td>-73.789450</td>\n",
       "      <td>40.643498</td>\n",
       "      <td>-73.788665</td>\n",
       "      <td>40.641952</td>\n",
       "      <td>1</td>\n",
       "      <td>2010</td>\n",
       "      <td>3</td>\n",
       "      <td>9</td>\n",
       "      <td>1</td>\n",
       "      <td>23</td>\n",
       "    </tr>\n",
       "    <tr>\n",
       "      <th>2486</th>\n",
       "      <td>14:27.0</td>\n",
       "      <td>-2.5</td>\n",
       "      <td>2015-03-22 05:14:27+00:00</td>\n",
       "      <td>-74.000031</td>\n",
       "      <td>40.720631</td>\n",
       "      <td>-73.999809</td>\n",
       "      <td>40.720539</td>\n",
       "      <td>1</td>\n",
       "      <td>2015</td>\n",
       "      <td>3</td>\n",
       "      <td>22</td>\n",
       "      <td>6</td>\n",
       "      <td>5</td>\n",
       "    </tr>\n",
       "    <tr>\n",
       "      <th>13032</th>\n",
       "      <td>57:10.0</td>\n",
       "      <td>-3.0</td>\n",
       "      <td>2013-08-30 08:57:10+00:00</td>\n",
       "      <td>-73.995062</td>\n",
       "      <td>40.740755</td>\n",
       "      <td>-73.995885</td>\n",
       "      <td>40.741357</td>\n",
       "      <td>4</td>\n",
       "      <td>2013</td>\n",
       "      <td>8</td>\n",
       "      <td>30</td>\n",
       "      <td>4</td>\n",
       "      <td>8</td>\n",
       "    </tr>\n",
       "    <tr>\n",
       "      <th>28839</th>\n",
       "      <td>39:10.0</td>\n",
       "      <td>-2.5</td>\n",
       "      <td>2013-08-11 13:39:10+00:00</td>\n",
       "      <td>-73.785260</td>\n",
       "      <td>40.648442</td>\n",
       "      <td>0.000000</td>\n",
       "      <td>0.000000</td>\n",
       "      <td>1</td>\n",
       "      <td>2013</td>\n",
       "      <td>8</td>\n",
       "      <td>11</td>\n",
       "      <td>6</td>\n",
       "      <td>13</td>\n",
       "    </tr>\n",
       "    <tr>\n",
       "      <th>36722</th>\n",
       "      <td>19:45.0</td>\n",
       "      <td>-2.5</td>\n",
       "      <td>2015-04-30 15:19:45+00:00</td>\n",
       "      <td>-73.952187</td>\n",
       "      <td>40.790112</td>\n",
       "      <td>-73.950043</td>\n",
       "      <td>40.792839</td>\n",
       "      <td>1</td>\n",
       "      <td>2015</td>\n",
       "      <td>4</td>\n",
       "      <td>30</td>\n",
       "      <td>3</td>\n",
       "      <td>15</td>\n",
       "    </tr>\n",
       "    <tr>\n",
       "      <th>42337</th>\n",
       "      <td>29:46.0</td>\n",
       "      <td>-5.0</td>\n",
       "      <td>2015-03-09 10:29:46+00:00</td>\n",
       "      <td>-73.990974</td>\n",
       "      <td>40.755985</td>\n",
       "      <td>-73.980820</td>\n",
       "      <td>40.759869</td>\n",
       "      <td>1</td>\n",
       "      <td>2015</td>\n",
       "      <td>3</td>\n",
       "      <td>9</td>\n",
       "      <td>0</td>\n",
       "      <td>10</td>\n",
       "    </tr>\n",
       "  </tbody>\n",
       "</table>\n",
       "</div>"
      ],
      "text/plain": [
       "      unique_id  Fare       date_time_of_pickup  pickup_longitude  \\\n",
       "2039    37:10.0  -2.9 2010-03-09 23:37:10+00:00        -73.789450   \n",
       "2486    14:27.0  -2.5 2015-03-22 05:14:27+00:00        -74.000031   \n",
       "13032   57:10.0  -3.0 2013-08-30 08:57:10+00:00        -73.995062   \n",
       "28839   39:10.0  -2.5 2013-08-11 13:39:10+00:00        -73.785260   \n",
       "36722   19:45.0  -2.5 2015-04-30 15:19:45+00:00        -73.952187   \n",
       "42337   29:46.0  -5.0 2015-03-09 10:29:46+00:00        -73.990974   \n",
       "\n",
       "       pickup_latitude  dropoff_longitude  dropoff_latitude  PassengerInTaxi  \\\n",
       "2039         40.643498         -73.788665         40.641952                1   \n",
       "2486         40.720631         -73.999809         40.720539                1   \n",
       "13032        40.740755         -73.995885         40.741357                4   \n",
       "28839        40.648442           0.000000          0.000000                1   \n",
       "36722        40.790112         -73.950043         40.792839                1   \n",
       "42337        40.755985         -73.980820         40.759869                1   \n",
       "\n",
       "       Year  Month  Day  Week_day  Hours  \n",
       "2039   2010      3    9         1     23  \n",
       "2486   2015      3   22         6      5  \n",
       "13032  2013      8   30         4      8  \n",
       "28839  2013      8   11         6     13  \n",
       "36722  2015      4   30         3     15  \n",
       "42337  2015      3    9         0     10  "
      ]
     },
     "execution_count": 22,
     "metadata": {},
     "output_type": "execute_result"
    }
   ],
   "source": [
    "df_1[df_1['Fare']<0]"
   ]
  },
  {
   "cell_type": "markdown",
   "metadata": {},
   "source": [
    "We can see that there are five records where Fare is less than 0 which is invalid so  we need to \n",
    "eliminate the records"
   ]
  },
  {
   "cell_type": "code",
   "execution_count": 23,
   "metadata": {},
   "outputs": [],
   "source": [
    "#df_1.drop(index=[2039,2486,13032,28839,36722,42337],inplace=True)"
   ]
  },
  {
   "cell_type": "code",
   "execution_count": 24,
   "metadata": {},
   "outputs": [
    {
     "data": {
      "text/html": [
       "<div>\n",
       "<style scoped>\n",
       "    .dataframe tbody tr th:only-of-type {\n",
       "        vertical-align: middle;\n",
       "    }\n",
       "\n",
       "    .dataframe tbody tr th {\n",
       "        vertical-align: top;\n",
       "    }\n",
       "\n",
       "    .dataframe thead th {\n",
       "        text-align: right;\n",
       "    }\n",
       "</style>\n",
       "<table border=\"1\" class=\"dataframe\">\n",
       "  <thead>\n",
       "    <tr style=\"text-align: right;\">\n",
       "      <th></th>\n",
       "      <th>unique_id</th>\n",
       "      <th>Fare</th>\n",
       "      <th>date_time_of_pickup</th>\n",
       "      <th>pickup_longitude</th>\n",
       "      <th>pickup_latitude</th>\n",
       "      <th>dropoff_longitude</th>\n",
       "      <th>dropoff_latitude</th>\n",
       "      <th>PassengerInTaxi</th>\n",
       "      <th>Year</th>\n",
       "      <th>Month</th>\n",
       "      <th>Day</th>\n",
       "      <th>Week_day</th>\n",
       "      <th>Hours</th>\n",
       "    </tr>\n",
       "  </thead>\n",
       "  <tbody>\n",
       "    <tr>\n",
       "      <th>2039</th>\n",
       "      <td>37:10.0</td>\n",
       "      <td>-2.9</td>\n",
       "      <td>2010-03-09 23:37:10+00:00</td>\n",
       "      <td>-73.789450</td>\n",
       "      <td>40.643498</td>\n",
       "      <td>-73.788665</td>\n",
       "      <td>40.641952</td>\n",
       "      <td>1</td>\n",
       "      <td>2010</td>\n",
       "      <td>3</td>\n",
       "      <td>9</td>\n",
       "      <td>1</td>\n",
       "      <td>23</td>\n",
       "    </tr>\n",
       "    <tr>\n",
       "      <th>2486</th>\n",
       "      <td>14:27.0</td>\n",
       "      <td>-2.5</td>\n",
       "      <td>2015-03-22 05:14:27+00:00</td>\n",
       "      <td>-74.000031</td>\n",
       "      <td>40.720631</td>\n",
       "      <td>-73.999809</td>\n",
       "      <td>40.720539</td>\n",
       "      <td>1</td>\n",
       "      <td>2015</td>\n",
       "      <td>3</td>\n",
       "      <td>22</td>\n",
       "      <td>6</td>\n",
       "      <td>5</td>\n",
       "    </tr>\n",
       "    <tr>\n",
       "      <th>13032</th>\n",
       "      <td>57:10.0</td>\n",
       "      <td>-3.0</td>\n",
       "      <td>2013-08-30 08:57:10+00:00</td>\n",
       "      <td>-73.995062</td>\n",
       "      <td>40.740755</td>\n",
       "      <td>-73.995885</td>\n",
       "      <td>40.741357</td>\n",
       "      <td>4</td>\n",
       "      <td>2013</td>\n",
       "      <td>8</td>\n",
       "      <td>30</td>\n",
       "      <td>4</td>\n",
       "      <td>8</td>\n",
       "    </tr>\n",
       "    <tr>\n",
       "      <th>28839</th>\n",
       "      <td>39:10.0</td>\n",
       "      <td>-2.5</td>\n",
       "      <td>2013-08-11 13:39:10+00:00</td>\n",
       "      <td>-73.785260</td>\n",
       "      <td>40.648442</td>\n",
       "      <td>0.000000</td>\n",
       "      <td>0.000000</td>\n",
       "      <td>1</td>\n",
       "      <td>2013</td>\n",
       "      <td>8</td>\n",
       "      <td>11</td>\n",
       "      <td>6</td>\n",
       "      <td>13</td>\n",
       "    </tr>\n",
       "    <tr>\n",
       "      <th>36722</th>\n",
       "      <td>19:45.0</td>\n",
       "      <td>-2.5</td>\n",
       "      <td>2015-04-30 15:19:45+00:00</td>\n",
       "      <td>-73.952187</td>\n",
       "      <td>40.790112</td>\n",
       "      <td>-73.950043</td>\n",
       "      <td>40.792839</td>\n",
       "      <td>1</td>\n",
       "      <td>2015</td>\n",
       "      <td>4</td>\n",
       "      <td>30</td>\n",
       "      <td>3</td>\n",
       "      <td>15</td>\n",
       "    </tr>\n",
       "    <tr>\n",
       "      <th>42337</th>\n",
       "      <td>29:46.0</td>\n",
       "      <td>-5.0</td>\n",
       "      <td>2015-03-09 10:29:46+00:00</td>\n",
       "      <td>-73.990974</td>\n",
       "      <td>40.755985</td>\n",
       "      <td>-73.980820</td>\n",
       "      <td>40.759869</td>\n",
       "      <td>1</td>\n",
       "      <td>2015</td>\n",
       "      <td>3</td>\n",
       "      <td>9</td>\n",
       "      <td>0</td>\n",
       "      <td>10</td>\n",
       "    </tr>\n",
       "  </tbody>\n",
       "</table>\n",
       "</div>"
      ],
      "text/plain": [
       "      unique_id  Fare       date_time_of_pickup  pickup_longitude  \\\n",
       "2039    37:10.0  -2.9 2010-03-09 23:37:10+00:00        -73.789450   \n",
       "2486    14:27.0  -2.5 2015-03-22 05:14:27+00:00        -74.000031   \n",
       "13032   57:10.0  -3.0 2013-08-30 08:57:10+00:00        -73.995062   \n",
       "28839   39:10.0  -2.5 2013-08-11 13:39:10+00:00        -73.785260   \n",
       "36722   19:45.0  -2.5 2015-04-30 15:19:45+00:00        -73.952187   \n",
       "42337   29:46.0  -5.0 2015-03-09 10:29:46+00:00        -73.990974   \n",
       "\n",
       "       pickup_latitude  dropoff_longitude  dropoff_latitude  PassengerInTaxi  \\\n",
       "2039         40.643498         -73.788665         40.641952                1   \n",
       "2486         40.720631         -73.999809         40.720539                1   \n",
       "13032        40.740755         -73.995885         40.741357                4   \n",
       "28839        40.648442           0.000000          0.000000                1   \n",
       "36722        40.790112         -73.950043         40.792839                1   \n",
       "42337        40.755985         -73.980820         40.759869                1   \n",
       "\n",
       "       Year  Month  Day  Week_day  Hours  \n",
       "2039   2010      3    9         1     23  \n",
       "2486   2015      3   22         6      5  \n",
       "13032  2013      8   30         4      8  \n",
       "28839  2013      8   11         6     13  \n",
       "36722  2015      4   30         3     15  \n",
       "42337  2015      3    9         0     10  "
      ]
     },
     "execution_count": 24,
     "metadata": {},
     "output_type": "execute_result"
    }
   ],
   "source": [
    "# The condition is applied sucessfully and now we have no Fare Price Less than 0\n",
    "df_1[df_1['Fare']<0]"
   ]
  },
  {
   "cell_type": "markdown",
   "metadata": {},
   "source": [
    "# NOW DOING EXPLORATORY DATA ANALYSIS"
   ]
  },
  {
   "cell_type": "code",
   "execution_count": 25,
   "metadata": {},
   "outputs": [
    {
     "data": {
      "text/plain": [
       "unique_id              0\n",
       "Fare                   0\n",
       "date_time_of_pickup    0\n",
       "pickup_longitude       0\n",
       "pickup_latitude        0\n",
       "dropoff_longitude      0\n",
       "dropoff_latitude       0\n",
       "PassengerInTaxi        0\n",
       "Year                   0\n",
       "Month                  0\n",
       "Day                    0\n",
       "Week_day               0\n",
       "Hours                  0\n",
       "dtype: int64"
      ]
     },
     "execution_count": 25,
     "metadata": {},
     "output_type": "execute_result"
    }
   ],
   "source": [
    "# Check if the dataset has missing value or not\n",
    "df_1.isnull().sum()"
   ]
  },
  {
   "cell_type": "markdown",
   "metadata": {},
   "source": [
    "The Target Columns are Fare,Pickup_longitude,pickup_latitude,dropoff_latitude,dropoff_longitude and etc need to be explored"
   ]
  },
  {
   "cell_type": "code",
   "execution_count": 26,
   "metadata": {},
   "outputs": [
    {
     "data": {
      "image/png": "[encoded data removed]",
      "text/plain": [
       "<Figure size 432x288 with 1 Axes>"
      ]
     },
     "metadata": {
      "needs_background": "light"
     },
     "output_type": "display_data"
    }
   ],
   "source": [
    "# Checking the histogram of the Fare Columns\n",
    "plt.hist(df_1['Fare'])\n",
    "plt.show()"
   ]
  },
  {
   "cell_type": "markdown",
   "metadata": {},
   "source": [
    "We can see that the (Dependent Variable) Fare Distribution is Right Skewed which is obvious because\n",
    "of the kind of pickup_location,drop_location and many others thing are considered \n",
    "while it is predicted"
   ]
  },
  {
   "cell_type": "code",
   "execution_count": 27,
   "metadata": {},
   "outputs": [
    {
     "data": {
      "image/png": "[encoded data removed]",
      "text/plain": [
       "<Figure size 432x288 with 1 Axes>"
      ]
     },
     "metadata": {
      "needs_background": "light"
     },
     "output_type": "display_data"
    }
   ],
   "source": [
    "#Checking If the Fare has outlier as it is right skewed so there will some values which will be\n",
    "#influencing it using seaborn boxplot\n",
    "sns.boxplot(x=df_1['Fare'])\n",
    "plt.show()"
   ]
  },
  {
   "cell_type": "code",
   "execution_count": 28,
   "metadata": {},
   "outputs": [
    {
     "name": "stdout",
     "output_type": "stream",
     "text": [
      "The Inter Quartile Range of the Fare column: 6.5\n"
     ]
    }
   ],
   "source": [
    "# Checking IQR(InterQuartile Range)\n",
    "Q1=df_1['Fare'].quantile(0.25)\n",
    "Q3=df_1['Fare'].quantile(0.75)\n",
    "IQR=Q3-Q1\n",
    "print('The Inter Quartile Range of the Fare column:',IQR)"
   ]
  },
  {
   "cell_type": "code",
   "execution_count": 29,
   "metadata": {},
   "outputs": [
    {
     "name": "stdout",
     "output_type": "stream",
     "text": [
      "The lower whisker value: -3.75\n",
      "The higher whisker value: 22.25\n"
     ]
    }
   ],
   "source": [
    "# Check lower_value and higher_value\n",
    "lower_whisker=Q1-1.5*IQR\n",
    "higher_whisker=Q3+1.5*IQR\n",
    "print('The lower whisker value:',lower_whisker)\n",
    "print('The higher whisker value:',higher_whisker)"
   ]
  },
  {
   "cell_type": "code",
   "execution_count": 30,
   "metadata": {},
   "outputs": [
    {
     "name": "stdout",
     "output_type": "stream",
     "text": [
      "The lower extreme value : -17.692500973638843\n",
      "The higher extreme value : 40.42084377363885\n"
     ]
    }
   ],
   "source": [
    "# Checking lower_extreme and higher_extreme greater than 3 standard deviation\n",
    "lower_extreme=df_1['Fare'].mean()-3*df_1['Fare'].std()\n",
    "higher_extreme=df_1['Fare'].mean()+3*df_1['Fare'].std()\n",
    "print('The lower extreme value :',lower_extreme)\n",
    "print('The higher extreme value :',higher_extreme)"
   ]
  },
  {
   "cell_type": "code",
   "execution_count": 31,
   "metadata": {},
   "outputs": [
    {
     "data": {
      "text/plain": [
       "unique_id                           object\n",
       "Fare                               float64\n",
       "date_time_of_pickup    datetime64[ns, UTC]\n",
       "pickup_longitude                   float64\n",
       "pickup_latitude                    float64\n",
       "dropoff_longitude                  float64\n",
       "dropoff_latitude                   float64\n",
       "PassengerInTaxi                      int64\n",
       "Year                                 int64\n",
       "Month                                int64\n",
       "Day                                  int64\n",
       "Week_day                             int64\n",
       "Hours                                int64\n",
       "dtype: object"
      ]
     },
     "execution_count": 31,
     "metadata": {},
     "output_type": "execute_result"
    }
   ],
   "source": [
    "df_1.dtypes"
   ]
  },
  {
   "cell_type": "code",
   "execution_count": 32,
   "metadata": {},
   "outputs": [
    {
     "data": {
      "text/html": [
       "<div>\n",
       "<style scoped>\n",
       "    .dataframe tbody tr th:only-of-type {\n",
       "        vertical-align: middle;\n",
       "    }\n",
       "\n",
       "    .dataframe tbody tr th {\n",
       "        vertical-align: top;\n",
       "    }\n",
       "\n",
       "    .dataframe thead th {\n",
       "        text-align: right;\n",
       "    }\n",
       "</style>\n",
       "<table border=\"1\" class=\"dataframe\">\n",
       "  <thead>\n",
       "    <tr style=\"text-align: right;\">\n",
       "      <th></th>\n",
       "      <th>unique_id</th>\n",
       "      <th>Fare</th>\n",
       "      <th>date_time_of_pickup</th>\n",
       "      <th>pickup_longitude</th>\n",
       "      <th>pickup_latitude</th>\n",
       "      <th>dropoff_longitude</th>\n",
       "      <th>dropoff_latitude</th>\n",
       "      <th>PassengerInTaxi</th>\n",
       "      <th>Year</th>\n",
       "      <th>Month</th>\n",
       "      <th>Day</th>\n",
       "      <th>Week_day</th>\n",
       "      <th>Hours</th>\n",
       "    </tr>\n",
       "  </thead>\n",
       "  <tbody>\n",
       "    <tr>\n",
       "      <th>0</th>\n",
       "      <td>26:21.0</td>\n",
       "      <td>4.5</td>\n",
       "      <td>2009-06-15 17:26:21+00:00</td>\n",
       "      <td>-73.844311</td>\n",
       "      <td>40.721319</td>\n",
       "      <td>-73.841610</td>\n",
       "      <td>40.712278</td>\n",
       "      <td>1</td>\n",
       "      <td>2009</td>\n",
       "      <td>6</td>\n",
       "      <td>15</td>\n",
       "      <td>0</td>\n",
       "      <td>17</td>\n",
       "    </tr>\n",
       "    <tr>\n",
       "      <th>1</th>\n",
       "      <td>52:16.0</td>\n",
       "      <td>16.9</td>\n",
       "      <td>2010-01-05 16:52:16+00:00</td>\n",
       "      <td>-74.016048</td>\n",
       "      <td>40.711303</td>\n",
       "      <td>-73.979268</td>\n",
       "      <td>40.782004</td>\n",
       "      <td>1</td>\n",
       "      <td>2010</td>\n",
       "      <td>1</td>\n",
       "      <td>5</td>\n",
       "      <td>1</td>\n",
       "      <td>16</td>\n",
       "    </tr>\n",
       "    <tr>\n",
       "      <th>2</th>\n",
       "      <td>35:00.0</td>\n",
       "      <td>5.7</td>\n",
       "      <td>2011-08-18 00:35:00+00:00</td>\n",
       "      <td>-73.982738</td>\n",
       "      <td>40.761270</td>\n",
       "      <td>-73.991242</td>\n",
       "      <td>40.750562</td>\n",
       "      <td>2</td>\n",
       "      <td>2011</td>\n",
       "      <td>8</td>\n",
       "      <td>18</td>\n",
       "      <td>3</td>\n",
       "      <td>0</td>\n",
       "    </tr>\n",
       "    <tr>\n",
       "      <th>3</th>\n",
       "      <td>30:42.0</td>\n",
       "      <td>7.7</td>\n",
       "      <td>2012-04-21 04:30:42+00:00</td>\n",
       "      <td>-73.987130</td>\n",
       "      <td>40.733143</td>\n",
       "      <td>-73.991567</td>\n",
       "      <td>40.758092</td>\n",
       "      <td>1</td>\n",
       "      <td>2012</td>\n",
       "      <td>4</td>\n",
       "      <td>21</td>\n",
       "      <td>5</td>\n",
       "      <td>4</td>\n",
       "    </tr>\n",
       "    <tr>\n",
       "      <th>4</th>\n",
       "      <td>51:00.0</td>\n",
       "      <td>5.3</td>\n",
       "      <td>2010-03-09 07:51:00+00:00</td>\n",
       "      <td>-73.968095</td>\n",
       "      <td>40.768008</td>\n",
       "      <td>-73.956655</td>\n",
       "      <td>40.783762</td>\n",
       "      <td>1</td>\n",
       "      <td>2010</td>\n",
       "      <td>3</td>\n",
       "      <td>9</td>\n",
       "      <td>1</td>\n",
       "      <td>7</td>\n",
       "    </tr>\n",
       "  </tbody>\n",
       "</table>\n",
       "</div>"
      ],
      "text/plain": [
       "  unique_id  Fare       date_time_of_pickup  pickup_longitude  \\\n",
       "0   26:21.0   4.5 2009-06-15 17:26:21+00:00        -73.844311   \n",
       "1   52:16.0  16.9 2010-01-05 16:52:16+00:00        -74.016048   \n",
       "2   35:00.0   5.7 2011-08-18 00:35:00+00:00        -73.982738   \n",
       "3   30:42.0   7.7 2012-04-21 04:30:42+00:00        -73.987130   \n",
       "4   51:00.0   5.3 2010-03-09 07:51:00+00:00        -73.968095   \n",
       "\n",
       "   pickup_latitude  dropoff_longitude  dropoff_latitude  PassengerInTaxi  \\\n",
       "0        40.721319         -73.841610         40.712278                1   \n",
       "1        40.711303         -73.979268         40.782004                1   \n",
       "2        40.761270         -73.991242         40.750562                2   \n",
       "3        40.733143         -73.991567         40.758092                1   \n",
       "4        40.768008         -73.956655         40.783762                1   \n",
       "\n",
       "   Year  Month  Day  Week_day  Hours  \n",
       "0  2009      6   15         0     17  \n",
       "1  2010      1    5         1     16  \n",
       "2  2011      8   18         3      0  \n",
       "3  2012      4   21         5      4  \n",
       "4  2010      3    9         1      7  "
      ]
     },
     "execution_count": 32,
     "metadata": {},
     "output_type": "execute_result"
    }
   ],
   "source": [
    "df_1.head()"
   ]
  },
  {
   "cell_type": "code",
   "execution_count": 33,
   "metadata": {},
   "outputs": [
    {
     "data": {
      "image/png": "[encoded data removed]",
      "text/plain": [
       "<Figure size 432x288 with 1 Axes>"
      ]
     },
     "metadata": {
      "needs_background": "light"
     },
     "output_type": "display_data"
    }
   ],
   "source": [
    "# Checking the relation of Fare vs Week_day\n",
    "sns.scatterplot(x=df_1['Week_day'],y=df_1['Fare'])\n",
    "plt.title('Fare Vs Week_Day Analysis',size=20)\n",
    "plt.show()"
   ]
  },
  {
   "cell_type": "code",
   "execution_count": 34,
   "metadata": {},
   "outputs": [
    {
     "data": {
      "image/png": "[encoded data removed]",
      "text/plain": [
       "<Figure size 432x288 with 1 Axes>"
      ]
     },
     "metadata": {
      "needs_background": "light"
     },
     "output_type": "display_data"
    }
   ],
   "source": [
    "sns.scatterplot(x=df_1['PassengerInTaxi'],y=df_1['Fare'])\n",
    "plt.title('Fare vs PassengerInTaxi',size=20)\n",
    "plt.show()"
   ]
  },
  {
   "cell_type": "code",
   "execution_count": 35,
   "metadata": {},
   "outputs": [
    {
     "data": {
      "image/png": "[encoded data removed]",
      "text/plain": [
       "<Figure size 432x288 with 1 Axes>"
      ]
     },
     "metadata": {
      "needs_background": "light"
     },
     "output_type": "display_data"
    }
   ],
   "source": [
    "sns.scatterplot(x=df_1['Day'],y=df_1['Fare'])\n",
    "plt.title('Fare vs Day',size=20)\n",
    "plt.show()"
   ]
  },
  {
   "cell_type": "code",
   "execution_count": 36,
   "metadata": {},
   "outputs": [
    {
     "data": {
      "image/png": "[encoded data removed]",
      "text/plain": [
       "<Figure size 432x288 with 1 Axes>"
      ]
     },
     "metadata": {
      "needs_background": "light"
     },
     "output_type": "display_data"
    }
   ],
   "source": [
    "sns.scatterplot(x=df_1['Month'],y=df_1['Fare'])\n",
    "plt.title('Fare vs Month',size=20)\n",
    "plt.show()"
   ]
  },
  {
   "cell_type": "code",
   "execution_count": 37,
   "metadata": {},
   "outputs": [
    {
     "data": {
      "image/png": "[encoded data removed]",
      "text/plain": [
       "<Figure size 432x288 with 1 Axes>"
      ]
     },
     "metadata": {
      "needs_background": "light"
     },
     "output_type": "display_data"
    }
   ],
   "source": [
    "sns.barplot(x=df_1['Year'],y=df_1['Fare'])\n",
    "plt.show()"
   ]
  },
  {
   "cell_type": "code",
   "execution_count": 38,
   "metadata": {},
   "outputs": [
    {
     "data": {
      "image/png": "[encoded data removed]",
      "text/plain": [
       "<Figure size 432x288 with 1 Axes>"
      ]
     },
     "metadata": {
      "needs_background": "light"
     },
     "output_type": "display_data"
    }
   ],
   "source": [
    "sns.scatterplot(x=df_1['Hours'],y=df_1['Fare'])\n",
    "plt.title('Hours vs Fare Analysis',size=20)\n",
    "plt.xticks([0,4,8,12,16,20,24])\n",
    "plt.show()"
   ]
  },
  {
   "cell_type": "code",
   "execution_count": 39,
   "metadata": {},
   "outputs": [
    {
     "data": {
      "text/plain": [
       "<AxesSubplot:xlabel='PassengerInTaxi', ylabel='Fare'>"
      ]
     },
     "execution_count": 39,
     "metadata": {},
     "output_type": "execute_result"
    },
    {
     "data": {
      "image/png": "[encoded data removed]",
      "text/plain": [
       "<Figure size 432x288 with 1 Axes>"
      ]
     },
     "metadata": {
      "needs_background": "light"
     },
     "output_type": "display_data"
    }
   ],
   "source": [
    "sns.barplot(x=df_1['PassengerInTaxi'],y=df_1['Fare'])"
   ]
  },
  {
   "cell_type": "code",
   "execution_count": 40,
   "metadata": {},
   "outputs": [
    {
     "data": {
      "text/plain": [
       "(50000, 13)"
      ]
     },
     "execution_count": 40,
     "metadata": {},
     "output_type": "execute_result"
    }
   ],
   "source": [
    "df_1.shape"
   ]
  },
  {
   "cell_type": "code",
   "execution_count": 41,
   "metadata": {},
   "outputs": [],
   "source": [
    "#df_1[df_1['PassengerInTaxi']==0]"
   ]
  },
  {
   "cell_type": "code",
   "execution_count": 42,
   "metadata": {},
   "outputs": [],
   "source": [
    "#df_5[df_5['Fare']>40]"
   ]
  },
  {
   "cell_type": "code",
   "execution_count": 43,
   "metadata": {},
   "outputs": [
    {
     "data": {
      "text/html": [
       "<div>\n",
       "<style scoped>\n",
       "    .dataframe tbody tr th:only-of-type {\n",
       "        vertical-align: middle;\n",
       "    }\n",
       "\n",
       "    .dataframe tbody tr th {\n",
       "        vertical-align: top;\n",
       "    }\n",
       "\n",
       "    .dataframe thead th {\n",
       "        text-align: right;\n",
       "    }\n",
       "</style>\n",
       "<table border=\"1\" class=\"dataframe\">\n",
       "  <thead>\n",
       "    <tr style=\"text-align: right;\">\n",
       "      <th></th>\n",
       "      <th>unique_id</th>\n",
       "      <th>Fare</th>\n",
       "      <th>date_time_of_pickup</th>\n",
       "      <th>pickup_longitude</th>\n",
       "      <th>pickup_latitude</th>\n",
       "      <th>dropoff_longitude</th>\n",
       "      <th>dropoff_latitude</th>\n",
       "      <th>PassengerInTaxi</th>\n",
       "      <th>Year</th>\n",
       "      <th>Month</th>\n",
       "      <th>Day</th>\n",
       "      <th>Week_day</th>\n",
       "      <th>Hours</th>\n",
       "    </tr>\n",
       "  </thead>\n",
       "  <tbody>\n",
       "    <tr>\n",
       "      <th>0</th>\n",
       "      <td>26:21.0</td>\n",
       "      <td>4.5</td>\n",
       "      <td>2009-06-15 17:26:21+00:00</td>\n",
       "      <td>-73.844311</td>\n",
       "      <td>40.721319</td>\n",
       "      <td>-73.841610</td>\n",
       "      <td>40.712278</td>\n",
       "      <td>1</td>\n",
       "      <td>2009</td>\n",
       "      <td>6</td>\n",
       "      <td>15</td>\n",
       "      <td>0</td>\n",
       "      <td>17</td>\n",
       "    </tr>\n",
       "    <tr>\n",
       "      <th>1</th>\n",
       "      <td>52:16.0</td>\n",
       "      <td>16.9</td>\n",
       "      <td>2010-01-05 16:52:16+00:00</td>\n",
       "      <td>-74.016048</td>\n",
       "      <td>40.711303</td>\n",
       "      <td>-73.979268</td>\n",
       "      <td>40.782004</td>\n",
       "      <td>1</td>\n",
       "      <td>2010</td>\n",
       "      <td>1</td>\n",
       "      <td>5</td>\n",
       "      <td>1</td>\n",
       "      <td>16</td>\n",
       "    </tr>\n",
       "    <tr>\n",
       "      <th>2</th>\n",
       "      <td>35:00.0</td>\n",
       "      <td>5.7</td>\n",
       "      <td>2011-08-18 00:35:00+00:00</td>\n",
       "      <td>-73.982738</td>\n",
       "      <td>40.761270</td>\n",
       "      <td>-73.991242</td>\n",
       "      <td>40.750562</td>\n",
       "      <td>2</td>\n",
       "      <td>2011</td>\n",
       "      <td>8</td>\n",
       "      <td>18</td>\n",
       "      <td>3</td>\n",
       "      <td>0</td>\n",
       "    </tr>\n",
       "    <tr>\n",
       "      <th>3</th>\n",
       "      <td>30:42.0</td>\n",
       "      <td>7.7</td>\n",
       "      <td>2012-04-21 04:30:42+00:00</td>\n",
       "      <td>-73.987130</td>\n",
       "      <td>40.733143</td>\n",
       "      <td>-73.991567</td>\n",
       "      <td>40.758092</td>\n",
       "      <td>1</td>\n",
       "      <td>2012</td>\n",
       "      <td>4</td>\n",
       "      <td>21</td>\n",
       "      <td>5</td>\n",
       "      <td>4</td>\n",
       "    </tr>\n",
       "    <tr>\n",
       "      <th>4</th>\n",
       "      <td>51:00.0</td>\n",
       "      <td>5.3</td>\n",
       "      <td>2010-03-09 07:51:00+00:00</td>\n",
       "      <td>-73.968095</td>\n",
       "      <td>40.768008</td>\n",
       "      <td>-73.956655</td>\n",
       "      <td>40.783762</td>\n",
       "      <td>1</td>\n",
       "      <td>2010</td>\n",
       "      <td>3</td>\n",
       "      <td>9</td>\n",
       "      <td>1</td>\n",
       "      <td>7</td>\n",
       "    </tr>\n",
       "  </tbody>\n",
       "</table>\n",
       "</div>"
      ],
      "text/plain": [
       "  unique_id  Fare       date_time_of_pickup  pickup_longitude  \\\n",
       "0   26:21.0   4.5 2009-06-15 17:26:21+00:00        -73.844311   \n",
       "1   52:16.0  16.9 2010-01-05 16:52:16+00:00        -74.016048   \n",
       "2   35:00.0   5.7 2011-08-18 00:35:00+00:00        -73.982738   \n",
       "3   30:42.0   7.7 2012-04-21 04:30:42+00:00        -73.987130   \n",
       "4   51:00.0   5.3 2010-03-09 07:51:00+00:00        -73.968095   \n",
       "\n",
       "   pickup_latitude  dropoff_longitude  dropoff_latitude  PassengerInTaxi  \\\n",
       "0        40.721319         -73.841610         40.712278                1   \n",
       "1        40.711303         -73.979268         40.782004                1   \n",
       "2        40.761270         -73.991242         40.750562                2   \n",
       "3        40.733143         -73.991567         40.758092                1   \n",
       "4        40.768008         -73.956655         40.783762                1   \n",
       "\n",
       "   Year  Month  Day  Week_day  Hours  \n",
       "0  2009      6   15         0     17  \n",
       "1  2010      1    5         1     16  \n",
       "2  2011      8   18         3      0  \n",
       "3  2012      4   21         5      4  \n",
       "4  2010      3    9         1      7  "
      ]
     },
     "execution_count": 43,
     "metadata": {},
     "output_type": "execute_result"
    }
   ],
   "source": [
    "df_1.head()"
   ]
  },
  {
   "cell_type": "code",
   "execution_count": 44,
   "metadata": {},
   "outputs": [
    {
     "data": {
      "text/plain": [
       "unique_id              0\n",
       "Fare                   0\n",
       "date_time_of_pickup    0\n",
       "pickup_longitude       0\n",
       "pickup_latitude        0\n",
       "dropoff_longitude      0\n",
       "dropoff_latitude       0\n",
       "PassengerInTaxi        0\n",
       "Year                   0\n",
       "Month                  0\n",
       "Day                    0\n",
       "Week_day               0\n",
       "Hours                  0\n",
       "dtype: int64"
      ]
     },
     "execution_count": 44,
     "metadata": {},
     "output_type": "execute_result"
    }
   ],
   "source": [
    "df_1.isnull().sum()"
   ]
  },
  {
   "cell_type": "code",
   "execution_count": 45,
   "metadata": {},
   "outputs": [
    {
     "data": {
      "text/plain": [
       "unique_id                           object\n",
       "Fare                               float64\n",
       "date_time_of_pickup    datetime64[ns, UTC]\n",
       "pickup_longitude                   float64\n",
       "pickup_latitude                    float64\n",
       "dropoff_longitude                  float64\n",
       "dropoff_latitude                   float64\n",
       "PassengerInTaxi                      int64\n",
       "Year                                 int64\n",
       "Month                                int64\n",
       "Day                                  int64\n",
       "Week_day                             int64\n",
       "Hours                                int64\n",
       "dtype: object"
      ]
     },
     "execution_count": 45,
     "metadata": {},
     "output_type": "execute_result"
    }
   ],
   "source": [
    "df_1.dtypes"
   ]
  },
  {
   "cell_type": "code",
   "execution_count": 46,
   "metadata": {},
   "outputs": [],
   "source": [
    "df_1.dropna(axis=1,inplace=True)"
   ]
  },
  {
   "cell_type": "code",
   "execution_count": 47,
   "metadata": {},
   "outputs": [
    {
     "data": {
      "text/plain": [
       "(50000, 13)"
      ]
     },
     "execution_count": 47,
     "metadata": {},
     "output_type": "execute_result"
    }
   ],
   "source": [
    "df_1.shape"
   ]
  },
  {
   "cell_type": "code",
   "execution_count": 48,
   "metadata": {},
   "outputs": [
    {
     "name": "stdout",
     "output_type": "stream",
     "text": [
      "(50000, 10)\n",
      "(50000,)\n"
     ]
    }
   ],
   "source": [
    "# Splitting it into Independent and Dependent Variables\n",
    "#Independent Variables\n",
    "X=df_1.drop(['Fare','unique_id','date_time_of_pickup'],axis=1)\n",
    "#dependent variables\n",
    "y=df_1['Fare'].values\n",
    "print(X.shape)\n",
    "print(y.shape)"
   ]
  },
  {
   "cell_type": "code",
   "execution_count": 49,
   "metadata": {},
   "outputs": [
    {
     "name": "stdout",
     "output_type": "stream",
     "text": [
      "(40000, 10) (40000,)\n",
      "(10000, 10) (10000,)\n"
     ]
    }
   ],
   "source": [
    "X_train,X_test,y_train,y_test=train_test_split(X,y,test_size=0.2,random_state=45)\n",
    "print(X_train.shape,y_train.shape)\n",
    "print(X_test.shape,y_test.shape)"
   ]
  },
  {
   "cell_type": "markdown",
   "metadata": {},
   "source": [
    "MODEL BUILDING PROCESS:-\n",
    "\n",
    "1. HOW TO CHOOSE THE BEST MACHINE LEARNING MODEL:-\n",
    "\n",
    "- There is No answer to which machine learning algorithm is the best.We have to try and test \n",
    "   all the algorithm available and the model which suit our data with the help of the evaluation     \n",
    "   Metrics will be best model in that moment.\n",
    "  \n",
    "2. WHAT ARE THE PERFORMANCE METRICS IN REGRESSION PROBLEM STATEMENT:-\n",
    "\n",
    "- R2_SCORE\n",
    "\n",
    "- ROOT_MEAN_SQUARED_ERROR\n",
    "\n",
    "- MEAN_SQUARED_ERROR\n",
    "\n",
    "-  EXPLAINED_VARIANCE_SCORE AND MANY MORE\n",
    "\n",
    "    Conclusion:-\n",
    "    The model with highest R2_score and lowest root_mean_squared_error will be chosen as the best model at that moment\n",
    "\n",
    "3. THE MODEL THAT WE BUILD IN FIRST PLACE ARE THE BASE MODEL DO THEY ARE SUFFICIENT?\n",
    "\n",
    "- The Answer is No\n",
    "\n",
    "- The process to optimize and tuned the model is called as Hyperparameter Tuning\n",
    "\n",
    "\n",
    "    Conclusion:-\n",
    "    \n",
    "    Hyperparamter Tuning is not a easily approach.We have to try and test different paramters.\n",
    "    \n",
    "4. HOW TO SAVE AND LOAD MODELS:-\n",
    "\n",
    "- using Pickle Approach\n",
    "\n",
    "- using Joblib Approach\n",
    "\n",
    "\n",
    "\n",
    "5. THREE THING TO CONSIDER WHEN WE ARE TRAINING AND TESTING THE MODEL\n",
    "\n",
    "- OVERFITTING\n",
    "\n",
    "- Low Bias High Variance\n",
    "\n",
    "- UNDERFITTING\n",
    "\n",
    "- High Bias High Variance\n",
    "\n",
    "- SUITABLE MODEL\n",
    "\n",
    "- Low Bias Low Variance"
   ]
  },
  {
   "cell_type": "markdown",
   "metadata": {},
   "source": [
    "Where to use which Metric to determine the Performance of a Machine Learning Model?\n",
    "\n",
    "MAE: It is not very sensitive to outliers in comparison to MSE since it doesn't punish huge errors. It is usually used when the performance is measured on continuous variable data. It gives a linear value, which averages the weighted individual differences equally. The lower the value, better is the model's performance.\n",
    "\n",
    "MSE: It is one of the most commonly used metrics, but least useful when a single bad prediction would ruin the entire model's predicting abilities, i.e when the dataset contains a lot of noise. It is most useful when the dataset contains outliers, or unexpected values (too high or too low values).\n",
    "\n",
    "RMSE: In RMSE, the errors are squared before they are averaged. This basically implies that RMSE assigns a higher weight to larger errors. This indicates that RMSE is much more useful when large errors are present and they drastically affect the model's performance. It avoids taking the absolute value of the error and this trait is useful in many mathematical calculations. In this metric also, lower the value, better is the performance of the model."
   ]
  },
  {
   "cell_type": "code",
   "execution_count": 50,
   "metadata": {},
   "outputs": [],
   "source": [
    "# We will be creating Class for fit,predict and display results of the data(This will save your time)\n",
    "\n",
    "class Regression:\n",
    "    def __init__(self,Model):\n",
    "        self.Model=Model\n",
    "    \n",
    "    def fit_data(self,features,targets):\n",
    "        self.Model=self.Model.fit(features,targets)\n",
    "        return self.Model\n",
    "    def predict_data(self,data):\n",
    "        self.y_predict=self.Model.predict(data)\n",
    "        \n",
    "    def result_training_data(self,y_true,y_pred):\n",
    "        print()\n",
    "        print('-----RESULTS OF TRAINING DATA----')\n",
    "        accuracy_train=metrics.r2_score(y_true,self.Model.predict(y_pred))\n",
    "        print('r2 score =',accuracy_train)\n",
    "        rmse_train=np.sqrt(metrics.mean_squared_error(y_true,self.Model.predict(y_pred)))\n",
    "        print('root mean squared error =',rmse_train)\n",
    "        mae_train=metrics.mean_absolute_error(y_true,self.Model.predict(y_pred))\n",
    "        print('mean absolute error=',mae_train)\n",
    "        explained_variance_train=metrics.explained_variance_score(y_true,self.Model.predict(y_pred))\n",
    "        print('explained variance=',explained_variance_train)\n",
    "        \n",
    "    def result_testing_data(self,y_true,y_pred):\n",
    "        print()\n",
    "        print('-----RESULT OF TESTING DATA-----')\n",
    "        accuracy_test=metrics.r2_score(y_true,self.y_predict)\n",
    "        print('r2 score=',accuracy_test)\n",
    "        rmse_test=np.sqrt(metrics.mean_squared_error(y_true,self.y_predict))\n",
    "        print('root mean squared error=',rmse_test)\n",
    "        mae_test=metrics.mean_absolute_error(y_true,self.y_predict)\n",
    "        print('mean absolute error=',mae_test)\n",
    "        explained_variance_test=metrics.explained_variance_score(y_true,self.y_predict)\n",
    "        print('explained variance=',explained_variance_test)\n",
    "    \n",
    "    "
   ]
  },
  {
   "cell_type": "code",
   "execution_count": 51,
   "metadata": {},
   "outputs": [
    {
     "name": "stdout",
     "output_type": "stream",
     "text": [
      "\n",
      "-----RESULTS OF TRAINING DATA----\n",
      "r2 score = 0.9998944291379823\n",
      "root mean squared error = 0.09856787001858161\n",
      "mean absolute error= 0.0010625000000000445\n",
      "explained variance= 0.9998944291379823\n",
      "\n",
      "-----RESULT OF TESTING DATA-----\n",
      "r2 score= 0.5649183936035325\n",
      "root mean squared error= 6.626343529428579\n",
      "mean absolute error= 3.0394010000000002\n",
      "explained variance= 0.5649288308528038\n"
     ]
    }
   ],
   "source": [
    "decision_model=Regression(DecisionTreeRegressor(random_state=45))\n",
    "decision_model.fit_data(X_train,y_train)\n",
    "y_pred=decision_model.predict_data(X_test)\n",
    "decision_model.result_training_data(y_train,X_train)\n",
    "decision_model.result_testing_data(y_test,y_pred)"
   ]
  },
  {
   "cell_type": "code",
   "execution_count": 52,
   "metadata": {},
   "outputs": [],
   "source": [
    "class Tuned_Model:\n",
    "    def __init__(self,Model):\n",
    "        self.Model=Model\n",
    "        \n",
    "    def params(self,param_grid):\n",
    "        self.param_grid=param_grid\n",
    "        return self.param_grid\n",
    "    \n",
    "    def fit_data(self,features,targets):\n",
    "\n",
    "        self.Model=GridSearchCV(self.Model,param_grid=self.param_grid,cv=5,scoring='r2',verbose=3,n_jobs=-1)\n",
    "        self.Model=self.Model.fit(features,targets)\n",
    "    \n",
    "    def predict_data(self,data):\n",
    "        self.y_pred=self.Model.predict(data)\n",
    "        \n",
    "    def result_training_data(self,y_true,y_pred):\n",
    "        print()\n",
    "        print('-----RESULTS OF TRAINING DATA----')\n",
    "        accuracy_train=metrics.r2_score(y_true,self.Model.predict(y_pred))\n",
    "        print('r2 score =',accuracy_train)\n",
    "        rmse_train=np.sqrt(metrics.mean_squared_error(y_true,self.Model.predict(y_pred)))\n",
    "        print('root mean squared error =',rmse_train)\n",
    "        mae_train=metrics.mean_absolute_error(y_true,self.Model.predict(y_pred))\n",
    "        print('mean absolute error=',mae_train)\n",
    "        explained_variance_train=metrics.explained_variance_score(y_true,self.Model.predict(y_pred))\n",
    "        print('explained variance=',explained_variance_train)\n",
    "        \n",
    "    def result_testing_data(self,y_true,y_pred):\n",
    "        print()\n",
    "        print('-----RESULT OF TESTING DATA-----')\n",
    "        accuracy_test=metrics.r2_score(y_true,self.y_pred)\n",
    "        print('r2 score=',accuracy_test)\n",
    "        rmse_test=np.sqrt(metrics.mean_squared_error(y_true,self.y_pred))\n",
    "        print('root mean squared error=',rmse_test)\n",
    "        mae_test=metrics.mean_absolute_error(y_true,self.y_pred)\n",
    "        print('mean absolute error=',mae_test)\n",
    "        explained_variance_test=metrics.explained_variance_score(y_true,self.y_pred)\n",
    "        print('explained variance=',explained_variance_test)"
   ]
  },
  {
   "cell_type": "code",
   "execution_count": 53,
   "metadata": {},
   "outputs": [
    {
     "name": "stdout",
     "output_type": "stream",
     "text": [
      "Fitting 5 folds for each of 117 candidates, totalling 585 fits\n",
      "\n",
      "-----RESULTS OF TRAINING DATA----\n",
      "r2 score = 0.721964069875274\n",
      "root mean squared error = 5.058407344291272\n",
      "mean absolute error= 3.3275075922421653\n",
      "explained variance= 0.7219640698752738\n",
      "\n",
      "-----RESULT OF TESTING DATA-----\n",
      "r2 score= 0.6309219696575525\n",
      "root mean squared error= 6.10306060587118\n",
      "mean absolute error= 3.485394030003434\n",
      "explained variance= 0.6310382288424703\n"
     ]
    }
   ],
   "source": [
    "decision_tuning=Tuned_Model(DecisionTreeRegressor())\n",
    "decision_tuning.params({\n",
    "    'max_features':['auto', 'sqrt', 'log2'],\n",
    "    'ccp_alpha':[0.1,0.2,0.3],\n",
    "    'max_depth':np.arange(2,15,1)\n",
    "})\n",
    "decision_tuning.fit_data(X_train,y_train)\n",
    "y_pred_grid=decision_tuning.predict_data(X_test)\n",
    "decision_tuning.result_training_data(y_train,X_train)\n",
    "decision_tuning.result_testing_data(y_test,y_pred_grid)"
   ]
  },
  {
   "cell_type": "code",
   "execution_count": 54,
   "metadata": {},
   "outputs": [
    {
     "name": "stdout",
     "output_type": "stream",
     "text": [
      "Fitting 5 folds for each of 16 candidates, totalling 80 fits\n",
      "\n",
      "-----RESULTS OF TRAINING DATA----\n",
      "r2 score = 0.7167881844641546\n",
      "root mean squared error = 5.105273605138803\n",
      "mean absolute error= 3.394876005459725\n",
      "explained variance= 0.7167886204252432\n",
      "\n",
      "-----RESULT OF TESTING DATA-----\n",
      "r2 score= 0.636514813099403\n",
      "root mean squared error= 6.056642559262063\n",
      "mean absolute error= 3.552928505531567\n",
      "explained variance= 0.636646355814363\n"
     ]
    }
   ],
   "source": [
    "rf_model=Tuned_Model(RandomForestRegressor(random_state=45))\n",
    "rf_model.params({\n",
    "    'ccp_alpha':[0.1,0.2],\n",
    "    'max_depth':np.arange(2,10,1)\n",
    "})\n",
    "rf_model.fit_data(X_train,y_train)\n",
    "y_pred_rf=rf_model.predict_data(X_test)\n",
    "rf_model.result_training_data(y_train,X_train)\n",
    "rf_model.result_testing_data(y_test,y_pred_rf)"
   ]
  },
  {
   "cell_type": "code",
   "execution_count": 55,
   "metadata": {},
   "outputs": [
    {
     "name": "stdout",
     "output_type": "stream",
     "text": [
      "\n",
      "-----RESULTS OF TRAINING DATA----\n",
      "r2 score = 0.7579266425588889\n",
      "root mean squared error = 4.7199438792492\n",
      "mean absolute error= 2.8905539891869334\n",
      "explained variance= 0.7579266425588889\n",
      "\n",
      "-----RESULT OF TESTING DATA-----\n",
      "r2 score= 0.6981701460563012\n",
      "root mean squared error= 5.519118036564328\n",
      "mean absolute error= 3.011548539731199\n",
      "explained variance= 0.6982801060740921\n"
     ]
    }
   ],
   "source": [
    "gradient_model=Regression(GradientBoostingRegressor(random_state=45))\n",
    "gradient_model.fit_data(X_train,y_train)\n",
    "y_pred=gradient_model.predict_data(X_test)\n",
    "gradient_model.result_training_data(y_train,X_train)\n",
    "gradient_model.result_testing_data(y_test,y_pred)"
   ]
  },
  {
   "cell_type": "code",
   "execution_count": 56,
   "metadata": {},
   "outputs": [
    {
     "name": "stdout",
     "output_type": "stream",
     "text": [
      "Fitting 5 folds for each of 18 candidates, totalling 90 fits\n",
      "\n",
      "-----RESULTS OF TRAINING DATA----\n",
      "r2 score = 0.749802180720901\n",
      "root mean squared error = 4.798495568259134\n",
      "mean absolute error= 3.072401115284441\n",
      "explained variance= 0.749802180720901\n",
      "\n",
      "-----RESULT OF TESTING DATA-----\n",
      "r2 score= 0.6733365223078356\n",
      "root mean squared error= 5.7416785700923265\n",
      "mean absolute error= 3.2074570693478117\n",
      "explained variance= 0.6734246188948758\n"
     ]
    }
   ],
   "source": [
    "gradient_model_grid=Tuned_Model(GradientBoostingRegressor(random_state=45))\n",
    "gradient_model_grid.params({\n",
    "    'ccp_alpha':[0.1,0.2],\n",
    "    'max_depth':[4,5,6,7,8,9,10,11,12]\n",
    "})\n",
    "gradient_model_grid.fit_data(X_train,y_train)\n",
    "y_pred_g=gradient_model_grid.predict_data(X_test)\n",
    "gradient_model_grid.result_training_data(y_train,X_train)\n",
    "gradient_model_grid.result_testing_data(y_test,y_pred_g)"
   ]
  },
  {
   "cell_type": "markdown",
   "metadata": {},
   "source": [
    "Using Different Techniques of HyperParameter Tuning Techniques:-[In this UseCase We Will Use Hyperopt\n",
    "and TPOT]\n",
    "\n",
    "1. HyperOpt\n",
    "\n",
    "2. TPOT\n",
    "\n",
    "3. Skopt\n",
    "\n",
    "4. Optuna\n"
   ]
  },
  {
   "cell_type": "code",
   "execution_count": 78,
   "metadata": {},
   "outputs": [],
   "source": [
    "from hyperopt import hp,tpe,fmin,STATUS_OK,Trials"
   ]
  },
  {
   "cell_type": "code",
   "execution_count": 124,
   "metadata": {},
   "outputs": [],
   "source": [
    "space = {\n",
    "        'max_depth': hp.quniform('max_depth', 2, 20, 1),\n",
    "        'ccp_alpha':hp.quniform('ccp_alpha',0.01,0.5,0.1)\n",
    "}"
   ]
  },
  {
   "cell_type": "code",
   "execution_count": 125,
   "metadata": {},
   "outputs": [
    {
     "data": {
      "text/plain": [
       "{'max_depth': <hyperopt.pyll.base.Apply at 0x1d6e9121198>,\n",
       " 'ccp_alpha': <hyperopt.pyll.base.Apply at 0x1d6e9121208>}"
      ]
     },
     "execution_count": 125,
     "metadata": {},
     "output_type": "execute_result"
    }
   ],
   "source": [
    "space"
   ]
  },
  {
   "cell_type": "code",
   "execution_count": 86,
   "metadata": {},
   "outputs": [],
   "source": [
    "from sklearn.model_selection import cross_val_score\n",
    "def objective(space):\n",
    "    model = DecisionTreeRegressor(max_depth=space['max_depth'])\n",
    "    \n",
    "    accuracy = cross_val_score(model, X_train, y_train, cv = 5).mean()\n",
    "\n",
    "    # We aim to maximize accuracy, therefore we return it as a negative value\n",
    "    return {'loss': -accuracy, 'status': STATUS_OK }"
   ]
  },
  {
   "cell_type": "code",
   "execution_count": 87,
   "metadata": {},
   "outputs": [
    {
     "name": "stdout",
     "output_type": "stream",
     "text": [
      "100%|███████████████████████████████████████████████████████████████████████████████████████████████| 80/80 [01:45<00:00,  1.32s/trial, best loss: -0.6330401973119233]\n"
     ]
    },
    {
     "data": {
      "text/plain": [
       "{'max_depth': 9.0}"
      ]
     },
     "execution_count": 87,
     "metadata": {},
     "output_type": "execute_result"
    }
   ],
   "source": [
    "trials = Trials()\n",
    "best = fmin(fn= objective,\n",
    "            space= space,\n",
    "            algo= tpe.suggest,\n",
    "            max_evals = 80,\n",
    "            trials= trials)\n",
    "best"
   ]
  },
  {
   "cell_type": "code",
   "execution_count": 88,
   "metadata": {},
   "outputs": [
    {
     "name": "stdout",
     "output_type": "stream",
     "text": [
      "0.7463096941352017\n",
      "4.83187036527398\n",
      "0.6164929923840117\n",
      "6.221215388358037\n"
     ]
    }
   ],
   "source": [
    "from sklearn.metrics import r2_score,mean_squared_error,mean_absolute_error\n",
    "traineddecision = DecisionTreeRegressor(max_depth=best['max_depth']).fit(X_train,y_train)\n",
    "predictiondecision=traineddecision.predict(X_test)\n",
    "r2_score_train=r2_score(y_train,traineddecision.predict(X_train))\n",
    "print(r2_score_train)\n",
    "rmse_train=np.sqrt(mean_squared_error(y_train,traineddecision.predict(X_train)))\n",
    "print(rmse_train)\n",
    "r2_score_test=r2_score(y_test,predictiondecision)\n",
    "print(r2_score_test)\n",
    "rmse_test=np.sqrt(mean_squared_error(y_test,predictiondecision))\n",
    "print(rmse_test)"
   ]
  },
  {
   "cell_type": "code",
   "execution_count": 111,
   "metadata": {},
   "outputs": [
    {
     "name": "stdout",
     "output_type": "stream",
     "text": [
      "{'max_depth': [4, 5, 6, 7, 8, 9, 10, 11, 12], 'ccp_alpha': [0.1, 0.2]}\n"
     ]
    }
   ],
   "source": [
    "##TPOTRegressor\n",
    "max_depth =[4,5,6,7,8,9,10,11,12]\n",
    "ccp_alpha=[0.1,0.2]\n",
    "param={\n",
    "    'max_depth':max_depth\n",
    "}\n",
    "print(param)"
   ]
  },
  {
   "cell_type": "code",
   "execution_count": 92,
   "metadata": {},
   "outputs": [
    {
     "data": {
      "application/vnd.jupyter.widget-view+json": {
       "model_id": "",
       "version_major": 2,
       "version_minor": 0
      },
      "text/plain": [
       "Optimization Progress:   0%|          | 0/144 [00:00<?, ?pipeline/s]"
      ]
     },
     "metadata": {},
     "output_type": "display_data"
    },
    {
     "name": "stdout",
     "output_type": "stream",
     "text": [
      "\n",
      "Generation 1 - Current best internal CV score: -32.17384068832311\n",
      "\n",
      "Generation 2 - Current best internal CV score: -32.17384068832311\n",
      "\n",
      "Generation 3 - Current best internal CV score: -31.565362585637114\n",
      "\n",
      "Generation 4 - Current best internal CV score: -31.565362585637114\n",
      "\n",
      "Generation 5 - Current best internal CV score: -31.565362585637114\n",
      "\n",
      "Generation 6 - Current best internal CV score: -31.125961157521537\n",
      "\n",
      "Generation 7 - Current best internal CV score: -31.125961157521537\n",
      "\n",
      "Generation 8 - Current best internal CV score: -30.926046492858802\n",
      "\n",
      "Generation 9 - Current best internal CV score: -30.926046492858802\n",
      "\n",
      "Generation 10 - Current best internal CV score: -30.926046492858802\n",
      "\n",
      "Best pipeline: DecisionTreeRegressor(DecisionTreeRegressor(DecisionTreeRegressor(DecisionTreeRegressor(DecisionTreeRegressor(CombineDFs(input_matrix, input_matrix), max_depth=4), max_depth=8), max_depth=6), max_depth=7), max_depth=10)\n"
     ]
    },
    {
     "data": {
      "text/plain": [
       "TPOTRegressor(config_dict={'sklearn.tree.DecisionTreeRegressor': {'max_depth': [4,\n",
       "                                                                                5,\n",
       "                                                                                6,\n",
       "                                                                                7,\n",
       "                                                                                8,\n",
       "                                                                                9,\n",
       "                                                                                10]}},\n",
       "              cv=4, early_stop=12, generations=10, offspring_size=12,\n",
       "              population_size=24, random_state=1,\n",
       "              scoring='neg_mean_squared_error', verbosity=2)"
      ]
     },
     "execution_count": 92,
     "metadata": {},
     "output_type": "execute_result"
    }
   ],
   "source": [
    "from tpot import TPOTRegressor\n",
    "\n",
    "\n",
    "tpot_regressor = TPOTRegressor(generations= 10, population_size= 24, offspring_size= 12,\n",
    "                                 verbosity= 2, early_stop= 12,\n",
    "                                 config_dict={'sklearn.tree.DecisionTreeRegressor': param}, \n",
    "                                 cv = 4, scoring = 'neg_mean_squared_error',random_state=1)\n",
    "tpot_regressor.fit(X_train,y_train)"
   ]
  },
  {
   "cell_type": "code",
   "execution_count": 93,
   "metadata": {},
   "outputs": [
    {
     "name": "stdout",
     "output_type": "stream",
     "text": [
      "0.8483440727041489\n",
      "3.735880985889508\n",
      "0.5995169302992955\n",
      "6.357416520493936\n"
     ]
    }
   ],
   "source": [
    "tpot_pred=tpot_regressor.predict(X_test)\n",
    "r2_score_train=r2_score(y_train,tpot_regressor.predict(X_train))\n",
    "print(r2_score_train)\n",
    "rmse_train=np.sqrt(mean_squared_error(y_train,tpot_regressor.predict(X_train)))\n",
    "print(rmse_train)\n",
    "r2_score_test=r2_score(y_test,tpot_pred)\n",
    "print(r2_score_test)\n",
    "rmse_test=np.sqrt(mean_squared_error(y_test,tpot_pred))\n",
    "print(rmse_test)"
   ]
  },
  {
   "cell_type": "code",
   "execution_count": 130,
   "metadata": {},
   "outputs": [],
   "source": [
    "def objective_gradient(space):\n",
    "    model = GradientBoostingRegressor(max_depth=space['max_depth'],ccp_alpha=space['ccp_alpha'])\n",
    "    \n",
    "    accuracy = cross_val_score(model, X_train, y_train, cv = 5).mean()\n",
    "\n",
    "    # We aim to maximize accuracy, therefore we return it as a negative value\n",
    "    return {'loss': -accuracy, 'status': STATUS_OK }"
   ]
  },
  {
   "cell_type": "code",
   "execution_count": 131,
   "metadata": {},
   "outputs": [
    {
     "data": {
      "text/plain": [
       "{'max_depth': <hyperopt.pyll.base.Apply at 0x1d6e9121198>,\n",
       " 'ccp_alpha': <hyperopt.pyll.base.Apply at 0x1d6e9121208>}"
      ]
     },
     "execution_count": 131,
     "metadata": {},
     "output_type": "execute_result"
    }
   ],
   "source": [
    "space"
   ]
  },
  {
   "cell_type": "markdown",
   "metadata": {},
   "source": [
    "# Save the Model"
   ]
  },
  {
   "cell_type": "code",
   "execution_count": 136,
   "metadata": {},
   "outputs": [],
   "source": [
    "import pickle\n",
    "PKL_Filename='taxifaremodel.pkl'\n",
    "with open(PKL_Filename,'wb') as file:\n",
    "    pickle.dump(gradient_model_grid,file)"
   ]
  }
 ],
 "metadata": {
  "kernelspec": {
   "display_name": "Python 3",
   "language": "python",
   "name": "python3"
  },
  "language_info": {
   "codemirror_mode": {
    "name": "ipython",
    "version": 3
   },
   "file_extension": ".py",
   "mimetype": "text/x-python",
   "name": "python",
   "nbconvert_exporter": "python",
   "pygments_lexer": "ipython3",
   "version": "3.6.9"
  }
 },
 "nbformat": 4,
 "nbformat_minor": 4
}
