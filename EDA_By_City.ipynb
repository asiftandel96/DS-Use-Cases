{
  "nbformat": 4,
  "nbformat_minor": 0,
  "metadata": {
    "kernelspec": {
      "display_name": "Python 3",
      "language": "python",
      "name": "python3"
    },
    "language_info": {
      "codemirror_mode": {
        "name": "ipython",
        "version": 3
      },
      "file_extension": ".py",
      "mimetype": "text/x-python",
      "name": "python",
      "nbconvert_exporter": "python",
      "pygments_lexer": "ipython3",
      "version": "3.8.0"
    },
    "colab": {
      "name": "EDA By City.ipynb",
      "provenance": [],
      "collapsed_sections": [],
      "toc_visible": true,
      "include_colab_link": true
    }
  },
  "cells": [
    {
      "cell_type": "markdown",
      "metadata": {
        "id": "view-in-github",
        "colab_type": "text"
      },
      "source": [
        "<a href=\"https://colab.research.google.com/github/asiftandel96/DS-Use-Cases/blob/main/EDA_By_City.ipynb\" target=\"_parent\"><img src=\"https://colab.research.google.com/assets/colab-badge.svg\" alt=\"Open In Colab\"/></a>"
      ]
    },
    {
      "cell_type": "markdown",
      "metadata": {
        "id": "QmiRVAueFE4m"
      },
      "source": [
        "# Exploratory Data Analysis"
      ]
    },
    {
      "cell_type": "code",
      "metadata": {
        "id": "pgqOH9OuFE41"
      },
      "source": [
        "#Loading the necessary libraries\n",
        "import numpy as np\n",
        "import pandas as pd\n",
        "import matplotlib.pyplot as plt\n",
        "import seaborn as sns\n",
        "% matplotlib inline"
      ],
      "execution_count": null,
      "outputs": []
    },
    {
      "cell_type": "code",
      "metadata": {
        "id": "APmzRhy8FE43"
      },
      "source": [
        "# Loading the dataset\n",
        "df=pd.read_csv('/content/sample_data/GlobalLandTemperaturesByMajorCity.csv')"
      ],
      "execution_count": null,
      "outputs": []
    },
    {
      "cell_type": "code",
      "metadata": {
        "colab": {
          "base_uri": "https://localhost:8080/",
          "height": 204
        },
        "id": "arezDfeuFE43",
        "outputId": "f913c34b-9b5b-4ff6-ed63-03ce33d59eeb"
      },
      "source": [
        "# Checking the first five rows of the data\n",
        "df.head()"
      ],
      "execution_count": null,
      "outputs": [
        {
          "output_type": "execute_result",
          "data": {
            "text/html": [
              "<div>\n",
              "<style scoped>\n",
              "    .dataframe tbody tr th:only-of-type {\n",
              "        vertical-align: middle;\n",
              "    }\n",
              "\n",
              "    .dataframe tbody tr th {\n",
              "        vertical-align: top;\n",
              "    }\n",
              "\n",
              "    .dataframe thead th {\n",
              "        text-align: right;\n",
              "    }\n",
              "</style>\n",
              "<table border=\"1\" class=\"dataframe\">\n",
              "  <thead>\n",
              "    <tr style=\"text-align: right;\">\n",
              "      <th></th>\n",
              "      <th>dt</th>\n",
              "      <th>AverageTemperature</th>\n",
              "      <th>AverageTemperatureUncertainty</th>\n",
              "      <th>City</th>\n",
              "      <th>Country</th>\n",
              "      <th>Latitude</th>\n",
              "      <th>Longitude</th>\n",
              "    </tr>\n",
              "  </thead>\n",
              "  <tbody>\n",
              "    <tr>\n",
              "      <th>0</th>\n",
              "      <td>1849-01-01</td>\n",
              "      <td>26.704</td>\n",
              "      <td>1.435</td>\n",
              "      <td>Abidjan</td>\n",
              "      <td>Côte D'Ivoire</td>\n",
              "      <td>5.63N</td>\n",
              "      <td>3.23W</td>\n",
              "    </tr>\n",
              "    <tr>\n",
              "      <th>1</th>\n",
              "      <td>1849-02-01</td>\n",
              "      <td>27.434</td>\n",
              "      <td>1.362</td>\n",
              "      <td>Abidjan</td>\n",
              "      <td>Côte D'Ivoire</td>\n",
              "      <td>5.63N</td>\n",
              "      <td>3.23W</td>\n",
              "    </tr>\n",
              "    <tr>\n",
              "      <th>2</th>\n",
              "      <td>1849-03-01</td>\n",
              "      <td>28.101</td>\n",
              "      <td>1.612</td>\n",
              "      <td>Abidjan</td>\n",
              "      <td>Côte D'Ivoire</td>\n",
              "      <td>5.63N</td>\n",
              "      <td>3.23W</td>\n",
              "    </tr>\n",
              "    <tr>\n",
              "      <th>3</th>\n",
              "      <td>1849-04-01</td>\n",
              "      <td>26.140</td>\n",
              "      <td>1.387</td>\n",
              "      <td>Abidjan</td>\n",
              "      <td>Côte D'Ivoire</td>\n",
              "      <td>5.63N</td>\n",
              "      <td>3.23W</td>\n",
              "    </tr>\n",
              "    <tr>\n",
              "      <th>4</th>\n",
              "      <td>1849-05-01</td>\n",
              "      <td>25.427</td>\n",
              "      <td>1.200</td>\n",
              "      <td>Abidjan</td>\n",
              "      <td>Côte D'Ivoire</td>\n",
              "      <td>5.63N</td>\n",
              "      <td>3.23W</td>\n",
              "    </tr>\n",
              "  </tbody>\n",
              "</table>\n",
              "</div>"
            ],
            "text/plain": [
              "           dt  AverageTemperature  ...  Latitude Longitude\n",
              "0  1849-01-01              26.704  ...     5.63N     3.23W\n",
              "1  1849-02-01              27.434  ...     5.63N     3.23W\n",
              "2  1849-03-01              28.101  ...     5.63N     3.23W\n",
              "3  1849-04-01              26.140  ...     5.63N     3.23W\n",
              "4  1849-05-01              25.427  ...     5.63N     3.23W\n",
              "\n",
              "[5 rows x 7 columns]"
            ]
          },
          "metadata": {
            "tags": []
          },
          "execution_count": 254
        }
      ]
    },
    {
      "cell_type": "code",
      "metadata": {
        "colab": {
          "base_uri": "https://localhost:8080/"
        },
        "id": "GmieleFNFE45",
        "outputId": "b2bf245e-561f-4bbc-dc89-e64ae0ddf397"
      },
      "source": [
        "#Checking the columns of the dataset\n",
        "df.columns"
      ],
      "execution_count": null,
      "outputs": [
        {
          "output_type": "execute_result",
          "data": {
            "text/plain": [
              "Index(['dt', 'AverageTemperature', 'AverageTemperatureUncertainty', 'City',\n",
              "       'Country', 'Latitude', 'Longitude'],\n",
              "      dtype='object')"
            ]
          },
          "metadata": {
            "tags": []
          },
          "execution_count": 255
        }
      ]
    },
    {
      "cell_type": "code",
      "metadata": {
        "colab": {
          "base_uri": "https://localhost:8080/",
          "height": 297
        },
        "id": "FNtnUuEpFE46",
        "outputId": "5dd5f6dc-61a2-4fce-bdb8-7c2d1cf327cf"
      },
      "source": [
        "# Describe of the data\n",
        "df.describe()"
      ],
      "execution_count": null,
      "outputs": [
        {
          "output_type": "execute_result",
          "data": {
            "text/html": [
              "<div>\n",
              "<style scoped>\n",
              "    .dataframe tbody tr th:only-of-type {\n",
              "        vertical-align: middle;\n",
              "    }\n",
              "\n",
              "    .dataframe tbody tr th {\n",
              "        vertical-align: top;\n",
              "    }\n",
              "\n",
              "    .dataframe thead th {\n",
              "        text-align: right;\n",
              "    }\n",
              "</style>\n",
              "<table border=\"1\" class=\"dataframe\">\n",
              "  <thead>\n",
              "    <tr style=\"text-align: right;\">\n",
              "      <th></th>\n",
              "      <th>AverageTemperature</th>\n",
              "      <th>AverageTemperatureUncertainty</th>\n",
              "    </tr>\n",
              "  </thead>\n",
              "  <tbody>\n",
              "    <tr>\n",
              "      <th>count</th>\n",
              "      <td>228175.000000</td>\n",
              "      <td>228175.000000</td>\n",
              "    </tr>\n",
              "    <tr>\n",
              "      <th>mean</th>\n",
              "      <td>18.125969</td>\n",
              "      <td>0.969343</td>\n",
              "    </tr>\n",
              "    <tr>\n",
              "      <th>std</th>\n",
              "      <td>10.024800</td>\n",
              "      <td>0.979644</td>\n",
              "    </tr>\n",
              "    <tr>\n",
              "      <th>min</th>\n",
              "      <td>-26.772000</td>\n",
              "      <td>0.040000</td>\n",
              "    </tr>\n",
              "    <tr>\n",
              "      <th>25%</th>\n",
              "      <td>12.710000</td>\n",
              "      <td>0.340000</td>\n",
              "    </tr>\n",
              "    <tr>\n",
              "      <th>50%</th>\n",
              "      <td>20.428000</td>\n",
              "      <td>0.592000</td>\n",
              "    </tr>\n",
              "    <tr>\n",
              "      <th>75%</th>\n",
              "      <td>25.918000</td>\n",
              "      <td>1.320000</td>\n",
              "    </tr>\n",
              "    <tr>\n",
              "      <th>max</th>\n",
              "      <td>38.283000</td>\n",
              "      <td>14.037000</td>\n",
              "    </tr>\n",
              "  </tbody>\n",
              "</table>\n",
              "</div>"
            ],
            "text/plain": [
              "       AverageTemperature  AverageTemperatureUncertainty\n",
              "count       228175.000000                  228175.000000\n",
              "mean            18.125969                       0.969343\n",
              "std             10.024800                       0.979644\n",
              "min            -26.772000                       0.040000\n",
              "25%             12.710000                       0.340000\n",
              "50%             20.428000                       0.592000\n",
              "75%             25.918000                       1.320000\n",
              "max             38.283000                      14.037000"
            ]
          },
          "metadata": {
            "tags": []
          },
          "execution_count": 256
        }
      ]
    },
    {
      "cell_type": "code",
      "metadata": {
        "colab": {
          "base_uri": "https://localhost:8080/"
        },
        "id": "nA8Y6x_5FE47",
        "outputId": "6571ef21-19b5-4f57-a602-294a23695b74"
      },
      "source": [
        "# Shape of the data\n",
        "df.shape"
      ],
      "execution_count": null,
      "outputs": [
        {
          "output_type": "execute_result",
          "data": {
            "text/plain": [
              "(239177, 7)"
            ]
          },
          "metadata": {
            "tags": []
          },
          "execution_count": 257
        }
      ]
    },
    {
      "cell_type": "code",
      "metadata": {
        "colab": {
          "base_uri": "https://localhost:8080/",
          "height": 204
        },
        "id": "YrFaVnCK8knN",
        "outputId": "04e328ff-839a-4493-9c4d-18e2f6d43ede"
      },
      "source": [
        "# Checking the first five rows of the data\r\n",
        "df.head()"
      ],
      "execution_count": null,
      "outputs": [
        {
          "output_type": "execute_result",
          "data": {
            "text/html": [
              "<div>\n",
              "<style scoped>\n",
              "    .dataframe tbody tr th:only-of-type {\n",
              "        vertical-align: middle;\n",
              "    }\n",
              "\n",
              "    .dataframe tbody tr th {\n",
              "        vertical-align: top;\n",
              "    }\n",
              "\n",
              "    .dataframe thead th {\n",
              "        text-align: right;\n",
              "    }\n",
              "</style>\n",
              "<table border=\"1\" class=\"dataframe\">\n",
              "  <thead>\n",
              "    <tr style=\"text-align: right;\">\n",
              "      <th></th>\n",
              "      <th>dt</th>\n",
              "      <th>AverageTemperature</th>\n",
              "      <th>AverageTemperatureUncertainty</th>\n",
              "      <th>City</th>\n",
              "      <th>Country</th>\n",
              "      <th>Latitude</th>\n",
              "      <th>Longitude</th>\n",
              "    </tr>\n",
              "  </thead>\n",
              "  <tbody>\n",
              "    <tr>\n",
              "      <th>0</th>\n",
              "      <td>1849-01-01</td>\n",
              "      <td>26.704</td>\n",
              "      <td>1.435</td>\n",
              "      <td>Abidjan</td>\n",
              "      <td>Côte D'Ivoire</td>\n",
              "      <td>5.63N</td>\n",
              "      <td>3.23W</td>\n",
              "    </tr>\n",
              "    <tr>\n",
              "      <th>1</th>\n",
              "      <td>1849-02-01</td>\n",
              "      <td>27.434</td>\n",
              "      <td>1.362</td>\n",
              "      <td>Abidjan</td>\n",
              "      <td>Côte D'Ivoire</td>\n",
              "      <td>5.63N</td>\n",
              "      <td>3.23W</td>\n",
              "    </tr>\n",
              "    <tr>\n",
              "      <th>2</th>\n",
              "      <td>1849-03-01</td>\n",
              "      <td>28.101</td>\n",
              "      <td>1.612</td>\n",
              "      <td>Abidjan</td>\n",
              "      <td>Côte D'Ivoire</td>\n",
              "      <td>5.63N</td>\n",
              "      <td>3.23W</td>\n",
              "    </tr>\n",
              "    <tr>\n",
              "      <th>3</th>\n",
              "      <td>1849-04-01</td>\n",
              "      <td>26.140</td>\n",
              "      <td>1.387</td>\n",
              "      <td>Abidjan</td>\n",
              "      <td>Côte D'Ivoire</td>\n",
              "      <td>5.63N</td>\n",
              "      <td>3.23W</td>\n",
              "    </tr>\n",
              "    <tr>\n",
              "      <th>4</th>\n",
              "      <td>1849-05-01</td>\n",
              "      <td>25.427</td>\n",
              "      <td>1.200</td>\n",
              "      <td>Abidjan</td>\n",
              "      <td>Côte D'Ivoire</td>\n",
              "      <td>5.63N</td>\n",
              "      <td>3.23W</td>\n",
              "    </tr>\n",
              "  </tbody>\n",
              "</table>\n",
              "</div>"
            ],
            "text/plain": [
              "           dt  AverageTemperature  ...  Latitude Longitude\n",
              "0  1849-01-01              26.704  ...     5.63N     3.23W\n",
              "1  1849-02-01              27.434  ...     5.63N     3.23W\n",
              "2  1849-03-01              28.101  ...     5.63N     3.23W\n",
              "3  1849-04-01              26.140  ...     5.63N     3.23W\n",
              "4  1849-05-01              25.427  ...     5.63N     3.23W\n",
              "\n",
              "[5 rows x 7 columns]"
            ]
          },
          "metadata": {
            "tags": []
          },
          "execution_count": 258
        }
      ]
    },
    {
      "cell_type": "code",
      "metadata": {
        "id": "qj12dmCq9ktz"
      },
      "source": [
        "# Rename columns of the data \r\n",
        "df.rename(columns={'AverageTemperature':'Temperature','AverageTemperatureUncertainty':'deviation'},inplace=True)"
      ],
      "execution_count": null,
      "outputs": []
    },
    {
      "cell_type": "code",
      "metadata": {
        "colab": {
          "base_uri": "https://localhost:8080/"
        },
        "id": "8teN9EwK8_zv",
        "outputId": "47faef7a-b9ea-44e1-ce60-2e346f34cdf8"
      },
      "source": [
        "# Checking the missing values in the dataset\r\n",
        "df.isnull().sum()"
      ],
      "execution_count": null,
      "outputs": [
        {
          "output_type": "execute_result",
          "data": {
            "text/plain": [
              "dt                 0\n",
              "Temperature    11002\n",
              "deviation      11002\n",
              "City               0\n",
              "Country            0\n",
              "Latitude           0\n",
              "Longitude          0\n",
              "dtype: int64"
            ]
          },
          "metadata": {
            "tags": []
          },
          "execution_count": 260
        }
      ]
    },
    {
      "cell_type": "code",
      "metadata": {
        "colab": {
          "base_uri": "https://localhost:8080/"
        },
        "id": "7jlGLTPx-9sI",
        "outputId": "c86a3a46-6f4c-4c28-b478-25181962cb48"
      },
      "source": [
        "# Checking dtypes of the columns\r\n",
        "df.dtypes"
      ],
      "execution_count": null,
      "outputs": [
        {
          "output_type": "execute_result",
          "data": {
            "text/plain": [
              "dt              object\n",
              "Temperature    float64\n",
              "deviation      float64\n",
              "City            object\n",
              "Country         object\n",
              "Latitude        object\n",
              "Longitude       object\n",
              "dtype: object"
            ]
          },
          "metadata": {
            "tags": []
          },
          "execution_count": 261
        }
      ]
    },
    {
      "cell_type": "markdown",
      "metadata": {
        "id": "3nsvQC3A_0mF"
      },
      "source": [
        "We can see that dt columns is a object here but we want to \r\n",
        "convert the column into datetime"
      ]
    },
    {
      "cell_type": "code",
      "metadata": {
        "id": "4bjvcyzV8580"
      },
      "source": [
        "df['dt']=pd.to_datetime(df['dt'])"
      ],
      "execution_count": null,
      "outputs": []
    },
    {
      "cell_type": "code",
      "metadata": {
        "id": "rFPgOeN5AKuH"
      },
      "source": [
        "# Extracting year from the dt columns\r\n",
        "df['year']=df['dt'].dt.year"
      ],
      "execution_count": null,
      "outputs": []
    },
    {
      "cell_type": "code",
      "metadata": {
        "id": "Yt2rRP5VAXkM"
      },
      "source": [
        "# Extracting month from the dt columns\r\n",
        "df['month']=df['dt'].dt.month"
      ],
      "execution_count": null,
      "outputs": []
    },
    {
      "cell_type": "code",
      "metadata": {
        "id": "VAFmn8peAiJO"
      },
      "source": [
        "# Extracting quarter from the dt columns\r\n",
        "df['quarter']=df['dt'].dt.quarter"
      ],
      "execution_count": null,
      "outputs": []
    },
    {
      "cell_type": "code",
      "metadata": {
        "colab": {
          "base_uri": "https://localhost:8080/"
        },
        "id": "d9cRDWIFAvl_",
        "outputId": "406f1c91-1bdf-441e-c7f3-839f7b673e0a"
      },
      "source": [
        "df.columns"
      ],
      "execution_count": null,
      "outputs": [
        {
          "output_type": "execute_result",
          "data": {
            "text/plain": [
              "Index(['dt', 'Temperature', 'deviation', 'City', 'Country', 'Latitude',\n",
              "       'Longitude', 'year', 'month', 'quarter'],\n",
              "      dtype='object')"
            ]
          },
          "metadata": {
            "tags": []
          },
          "execution_count": 266
        }
      ]
    },
    {
      "cell_type": "code",
      "metadata": {
        "colab": {
          "base_uri": "https://localhost:8080/"
        },
        "id": "2O0nhtQAFE47",
        "outputId": "504b53ee-2582-4442-80e0-2990ecda84a5"
      },
      "source": [
        "# Checking the missing values of the dataset\n",
        "df.isnull().mean()"
      ],
      "execution_count": null,
      "outputs": [
        {
          "output_type": "execute_result",
          "data": {
            "text/plain": [
              "dt             0.000000\n",
              "Temperature    0.045999\n",
              "deviation      0.045999\n",
              "City           0.000000\n",
              "Country        0.000000\n",
              "Latitude       0.000000\n",
              "Longitude      0.000000\n",
              "year           0.000000\n",
              "month          0.000000\n",
              "quarter        0.000000\n",
              "dtype: float64"
            ]
          },
          "metadata": {
            "tags": []
          },
          "execution_count": 267
        }
      ]
    },
    {
      "cell_type": "markdown",
      "metadata": {
        "id": "0Zc4kNXtFE48"
      },
      "source": [
        "So we can see that the columns (AverageTemperature,AverageTemperatureUncertainty) has missing values."
      ]
    },
    {
      "cell_type": "code",
      "metadata": {
        "id": "vf873YXCFE48"
      },
      "source": [
        "# Dropping missing values from the data\n",
        "df.dropna(inplace=True)"
      ],
      "execution_count": null,
      "outputs": []
    },
    {
      "cell_type": "code",
      "metadata": {
        "colab": {
          "base_uri": "https://localhost:8080/",
          "height": 1000
        },
        "id": "i-C2lmjaBIU4",
        "outputId": "08d5455f-78db-4f41-f631-01ada8d0452b"
      },
      "source": [
        "# Check the distribution of columns\r\n",
        "for i in df.columns:\r\n",
        "    plt.hist(df[i])\r\n",
        "    plt.xticks(rotation=90)\r\n",
        "    plt.show()"
      ],
      "execution_count": null,
      "outputs": [
        {
          "output_type": "display_data",
          "data": {
            "image/png": "[encoded data removed]",
            "text/plain": [
              "<Figure size 432x288 with 1 Axes>"
            ]
          },
          "metadata": {
            "tags": [],
            "needs_background": "light"
          }
        },
        {
          "output_type": "display_data",
          "data": {
            "image/png": "[encoded data removed]",
            "text/plain": [
              "<Figure size 432x288 with 1 Axes>"
            ]
          },
          "metadata": {
            "tags": [],
            "needs_background": "light"
          }
        },
        {
          "output_type": "display_data",
          "data": {
            "image/png": "[encoded data removed]",
            "text/plain": [
              "<Figure size 432x288 with 1 Axes>"
            ]
          },
          "metadata": {
            "tags": [],
            "needs_background": "light"
          }
        },
        {
          "output_type": "display_data",
          "data": {
            "image/png": "[encoded data removed]",
            "text/plain": [
              "<Figure size 432x288 with 1 Axes>"
            ]
          },
          "metadata": {
            "tags": [],
            "needs_background": "light"
          }
        },
        {
          "output_type": "display_data",
          "data": {
            "image/png": "[encoded data removed]",
            "text/plain": [
              "<Figure size 432x288 with 1 Axes>"
            ]
          },
          "metadata": {
            "tags": [],
            "needs_background": "light"
          }
        },
        {
          "output_type": "display_data",
          "data": {
            "image/png": "[encoded data removed]",
            "text/plain": [
              "<Figure size 432x288 with 1 Axes>"
            ]
          },
          "metadata": {
            "tags": [],
            "needs_background": "light"
          }
        },
        {
          "output_type": "display_data",
          "data": {
            "image/png": "[encoded data removed]",
            "text/plain": [
              "<Figure size 432x288 with 1 Axes>"
            ]
          },
          "metadata": {
            "tags": [],
            "needs_background": "light"
          }
        },
        {
          "output_type": "display_data",
          "data": {
            "image/png": "[encoded data removed]",
            "text/plain": [
              "<Figure size 432x288 with 1 Axes>"
            ]
          },
          "metadata": {
            "tags": [],
            "needs_background": "light"
          }
        },
        {
          "output_type": "display_data",
          "data": {
            "image/png": "[encoded data removed]",
            "text/plain": [
              "<Figure size 432x288 with 1 Axes>"
            ]
          },
          "metadata": {
            "tags": [],
            "needs_background": "light"
          }
        },
        {
          "output_type": "display_data",
          "data": {
            "image/png": "[encoded data removed]",
            "text/plain": [
              "<Figure size 432x288 with 1 Axes>"
            ]
          },
          "metadata": {
            "tags": [],
            "needs_background": "light"
          }
        }
      ]
    },
    {
      "cell_type": "code",
      "metadata": {
        "id": "2YZ1X8PDFE4_"
      },
      "source": [
        "# dropping the columns dt\n",
        "df.drop(['dt'],axis=1,inplace=True)"
      ],
      "execution_count": null,
      "outputs": []
    },
    {
      "cell_type": "code",
      "metadata": {
        "colab": {
          "base_uri": "https://localhost:8080/",
          "height": 281
        },
        "id": "kwRwwRSKEH9z",
        "outputId": "3f3f5a75-64f5-4497-dc46-2cdccf115d0a"
      },
      "source": [
        "# Visualizing Deviation with Country\r\n",
        "sns.barplot(x=df['deviation'],y=df['Country'],orient='h')\r\n",
        "plt.show()"
      ],
      "execution_count": null,
      "outputs": [
        {
          "output_type": "display_data",
          "data": {
            "image/png": "[encoded data removed]",
            "text/plain": [
              "<Figure size 432x288 with 1 Axes>"
            ]
          },
          "metadata": {
            "tags": [],
            "needs_background": "light"
          }
        }
      ]
    },
    {
      "cell_type": "code",
      "metadata": {
        "colab": {
          "base_uri": "https://localhost:8080/",
          "height": 338
        },
        "id": "0yrY0C9WHXnV",
        "outputId": "6eba67cd-6ca6-4721-fcc0-22028b488499"
      },
      "source": [
        "# Visualization Temperature with Country\r\n",
        "sns.barplot(df['Temperature'],y=df['Country'],orient='h')\r\n",
        "plt.xticks(rotation=90)\r\n",
        "plt.show()"
      ],
      "execution_count": null,
      "outputs": [
        {
          "output_type": "stream",
          "text": [
            "/usr/local/lib/python3.6/dist-packages/seaborn/_decorators.py:43: FutureWarning: Pass the following variable as a keyword arg: x. From version 0.12, the only valid positional argument will be `data`, and passing other arguments without an explicit keyword will result in an error or misinterpretation.\n",
            "  FutureWarning\n"
          ],
          "name": "stderr"
        },
        {
          "output_type": "display_data",
          "data": {
            "image/png": "[encoded data removed]",
            "text/plain": [
              "<Figure size 432x288 with 1 Axes>"
            ]
          },
          "metadata": {
            "tags": [],
            "needs_background": "light"
          }
        }
      ]
    },
    {
      "cell_type": "code",
      "metadata": {
        "colab": {
          "base_uri": "https://localhost:8080/",
          "height": 322
        },
        "id": "uq_UetqcEI1q",
        "outputId": "a9899eee-0142-4d3b-b368-f82c15051a42"
      },
      "source": [
        "sns.barplot(x=df['deviation'],y=df['City'])\r\n",
        "plt.xticks(rotation=90)"
      ],
      "execution_count": null,
      "outputs": [
        {
          "output_type": "execute_result",
          "data": {
            "text/plain": [
              "(array([0. , 0.2, 0.4, 0.6, 0.8, 1. , 1.2, 1.4, 1.6, 1.8]),\n",
              " <a list of 10 Text major ticklabel objects>)"
            ]
          },
          "metadata": {
            "tags": []
          },
          "execution_count": 273
        },
        {
          "output_type": "display_data",
          "data": {
            "image/png": "[encoded data removed]",
            "text/plain": [
              "<Figure size 432x288 with 1 Axes>"
            ]
          },
          "metadata": {
            "tags": [],
            "needs_background": "light"
          }
        }
      ]
    },
    {
      "cell_type": "code",
      "metadata": {
        "colab": {
          "base_uri": "https://localhost:8080/",
          "height": 299
        },
        "id": "Vaq4_if8EJd8",
        "outputId": "5a58ec87-bf96-4626-93dd-0e03f6e113be"
      },
      "source": [
        "sns.barplot(x=df['Temperature'],y=df['City'])"
      ],
      "execution_count": null,
      "outputs": [
        {
          "output_type": "execute_result",
          "data": {
            "text/plain": [
              "<matplotlib.axes._subplots.AxesSubplot at 0x7fda76085f98>"
            ]
          },
          "metadata": {
            "tags": []
          },
          "execution_count": 274
        },
        {
          "output_type": "display_data",
          "data": {
            "image/png": "[encoded data removed]",
            "text/plain": [
              "<Figure size 432x288 with 1 Axes>"
            ]
          },
          "metadata": {
            "tags": [],
            "needs_background": "light"
          }
        }
      ]
    },
    {
      "cell_type": "code",
      "metadata": {
        "colab": {
          "base_uri": "https://localhost:8080/"
        },
        "id": "zgiYx-B_EJ5P",
        "outputId": "580967ce-a8b5-42f4-874d-0383e7158359"
      },
      "source": [
        "# The maximum temperature of 10 Country \r\n",
        "df.groupby('Country')['Temperature'].agg('max').sort_values(ascending=False).head()"
      ],
      "execution_count": null,
      "outputs": [
        {
          "output_type": "execute_result",
          "data": {
            "text/plain": [
              "Country\n",
              "Iraq            38.283\n",
              "Saudi Arabia    37.859\n",
              "India           36.477\n",
              "Pakistan        36.346\n",
              "Sudan           35.700\n",
              "Name: Temperature, dtype: float64"
            ]
          },
          "metadata": {
            "tags": []
          },
          "execution_count": 275
        }
      ]
    },
    {
      "cell_type": "markdown",
      "metadata": {
        "id": "CcaHWDWH0B6n"
      },
      "source": [
        "Asian Country are more warm than Europe/Australia etc"
      ]
    },
    {
      "cell_type": "code",
      "metadata": {
        "colab": {
          "base_uri": "https://localhost:8080/"
        },
        "id": "GI6-TvrwEKj9",
        "outputId": "81271b1e-0085-4919-9c06-8ceceae15e81"
      },
      "source": [
        "# The minimum temperature of 10 Country\r\n",
        "df.groupby('Country')['Temperature'].agg('min').sort_values().head()"
      ],
      "execution_count": null,
      "outputs": [
        {
          "output_type": "execute_result",
          "data": {
            "text/plain": [
              "Country\n",
              "China     -26.772\n",
              "Russia    -19.376\n",
              "Canada    -18.363\n",
              "Ukraine   -16.191\n",
              "Germany   -10.125\n",
              "Name: Temperature, dtype: float64"
            ]
          },
          "metadata": {
            "tags": []
          },
          "execution_count": 276
        }
      ]
    },
    {
      "cell_type": "markdown",
      "metadata": {
        "id": "RTm-eB1k0cIp"
      },
      "source": [
        "European Country are colder than Asian Countries.Now we want\r\n",
        "to see which Country and City have more deviation(Change in\r\n",
        "temperature over a period of Time)"
      ]
    },
    {
      "cell_type": "code",
      "metadata": {
        "colab": {
          "base_uri": "https://localhost:8080/",
          "height": 235
        },
        "id": "KOI9Dy4qMW1x",
        "outputId": "1b2a63be-1fa3-4db7-f4cc-7198859d7d22"
      },
      "source": [
        "# The maximum temperature of City\r\n",
        "df.groupby('City')[['year','month','Temperature']].agg('max').sort_values('Temperature',ascending=False).head()"
      ],
      "execution_count": null,
      "outputs": [
        {
          "output_type": "execute_result",
          "data": {
            "text/html": [
              "<div>\n",
              "<style scoped>\n",
              "    .dataframe tbody tr th:only-of-type {\n",
              "        vertical-align: middle;\n",
              "    }\n",
              "\n",
              "    .dataframe tbody tr th {\n",
              "        vertical-align: top;\n",
              "    }\n",
              "\n",
              "    .dataframe thead th {\n",
              "        text-align: right;\n",
              "    }\n",
              "</style>\n",
              "<table border=\"1\" class=\"dataframe\">\n",
              "  <thead>\n",
              "    <tr style=\"text-align: right;\">\n",
              "      <th></th>\n",
              "      <th>year</th>\n",
              "      <th>month</th>\n",
              "      <th>Temperature</th>\n",
              "    </tr>\n",
              "    <tr>\n",
              "      <th>City</th>\n",
              "      <th></th>\n",
              "      <th></th>\n",
              "      <th></th>\n",
              "    </tr>\n",
              "  </thead>\n",
              "  <tbody>\n",
              "    <tr>\n",
              "      <th>Baghdad</th>\n",
              "      <td>2013</td>\n",
              "      <td>12</td>\n",
              "      <td>38.283</td>\n",
              "    </tr>\n",
              "    <tr>\n",
              "      <th>Riyadh</th>\n",
              "      <td>2013</td>\n",
              "      <td>12</td>\n",
              "      <td>37.859</td>\n",
              "    </tr>\n",
              "    <tr>\n",
              "      <th>Jaipur</th>\n",
              "      <td>2013</td>\n",
              "      <td>12</td>\n",
              "      <td>36.477</td>\n",
              "    </tr>\n",
              "    <tr>\n",
              "      <th>Lahore</th>\n",
              "      <td>2013</td>\n",
              "      <td>12</td>\n",
              "      <td>36.346</td>\n",
              "    </tr>\n",
              "    <tr>\n",
              "      <th>Faisalabad</th>\n",
              "      <td>2013</td>\n",
              "      <td>12</td>\n",
              "      <td>36.346</td>\n",
              "    </tr>\n",
              "  </tbody>\n",
              "</table>\n",
              "</div>"
            ],
            "text/plain": [
              "            year  month  Temperature\n",
              "City                                \n",
              "Baghdad     2013     12       38.283\n",
              "Riyadh      2013     12       37.859\n",
              "Jaipur      2013     12       36.477\n",
              "Lahore      2013     12       36.346\n",
              "Faisalabad  2013     12       36.346"
            ]
          },
          "metadata": {
            "tags": []
          },
          "execution_count": 277
        }
      ]
    },
    {
      "cell_type": "markdown",
      "metadata": {
        "id": "ruDRPrJM1UCI"
      },
      "source": [
        "Asian City are warmer in Winter Season also that's very \r\n",
        "interesting!!!"
      ]
    },
    {
      "cell_type": "code",
      "metadata": {
        "colab": {
          "base_uri": "https://localhost:8080/"
        },
        "id": "OYDT6xw5MnyU",
        "outputId": "36ea7fc0-d281-4301-8937-3228b3acba73"
      },
      "source": [
        "# The minimum temperature of the City with respect to Temperatures\r\n",
        "df.groupby('City')['Temperature'].agg('min').sort_values().head()"
      ],
      "execution_count": null,
      "outputs": [
        {
          "output_type": "execute_result",
          "data": {
            "text/plain": [
              "City\n",
              "Harbin             -26.772\n",
              "Changchun          -23.272\n",
              "Moscow             -19.376\n",
              "Saint Petersburg   -18.644\n",
              "Montreal           -18.363\n",
              "Name: Temperature, dtype: float64"
            ]
          },
          "metadata": {
            "tags": []
          },
          "execution_count": 278
        }
      ]
    },
    {
      "cell_type": "code",
      "metadata": {
        "id": "T6GbOn5wNA_X",
        "colab": {
          "base_uri": "https://localhost:8080/",
          "height": 235
        },
        "outputId": "4caae3ff-4608-4fb2-df3a-fe0819e9c71e"
      },
      "source": [
        "# groupby City\r\n",
        "df.groupby('City')[['year','month','Temperature','deviation']].agg('max').sort_values('deviation',ascending=False).head()"
      ],
      "execution_count": null,
      "outputs": [
        {
          "output_type": "execute_result",
          "data": {
            "text/html": [
              "<div>\n",
              "<style scoped>\n",
              "    .dataframe tbody tr th:only-of-type {\n",
              "        vertical-align: middle;\n",
              "    }\n",
              "\n",
              "    .dataframe tbody tr th {\n",
              "        vertical-align: top;\n",
              "    }\n",
              "\n",
              "    .dataframe thead th {\n",
              "        text-align: right;\n",
              "    }\n",
              "</style>\n",
              "<table border=\"1\" class=\"dataframe\">\n",
              "  <thead>\n",
              "    <tr style=\"text-align: right;\">\n",
              "      <th></th>\n",
              "      <th>year</th>\n",
              "      <th>month</th>\n",
              "      <th>Temperature</th>\n",
              "      <th>deviation</th>\n",
              "    </tr>\n",
              "    <tr>\n",
              "      <th>City</th>\n",
              "      <th></th>\n",
              "      <th></th>\n",
              "      <th></th>\n",
              "      <th></th>\n",
              "    </tr>\n",
              "  </thead>\n",
              "  <tbody>\n",
              "    <tr>\n",
              "      <th>Berlin</th>\n",
              "      <td>2013</td>\n",
              "      <td>12</td>\n",
              "      <td>23.795</td>\n",
              "      <td>14.037</td>\n",
              "    </tr>\n",
              "    <tr>\n",
              "      <th>London</th>\n",
              "      <td>2013</td>\n",
              "      <td>12</td>\n",
              "      <td>20.743</td>\n",
              "      <td>13.560</td>\n",
              "    </tr>\n",
              "    <tr>\n",
              "      <th>Paris</th>\n",
              "      <td>2013</td>\n",
              "      <td>12</td>\n",
              "      <td>23.264</td>\n",
              "      <td>13.224</td>\n",
              "    </tr>\n",
              "    <tr>\n",
              "      <th>Rome</th>\n",
              "      <td>2013</td>\n",
              "      <td>12</td>\n",
              "      <td>25.951</td>\n",
              "      <td>12.166</td>\n",
              "    </tr>\n",
              "    <tr>\n",
              "      <th>Saint Petersburg</th>\n",
              "      <td>2013</td>\n",
              "      <td>12</td>\n",
              "      <td>21.921</td>\n",
              "      <td>11.685</td>\n",
              "    </tr>\n",
              "  </tbody>\n",
              "</table>\n",
              "</div>"
            ],
            "text/plain": [
              "                  year  month  Temperature  deviation\n",
              "City                                                 \n",
              "Berlin            2013     12       23.795     14.037\n",
              "London            2013     12       20.743     13.560\n",
              "Paris             2013     12       23.264     13.224\n",
              "Rome              2013     12       25.951     12.166\n",
              "Saint Petersburg  2013     12       21.921     11.685"
            ]
          },
          "metadata": {
            "tags": []
          },
          "execution_count": 279
        }
      ]
    },
    {
      "cell_type": "code",
      "metadata": {
        "colab": {
          "base_uri": "https://localhost:8080/",
          "height": 235
        },
        "id": "MbJuXRQd4QPA",
        "outputId": "660eabd9-9fe4-4339-f49b-3dbe377c5088"
      },
      "source": [
        "df.groupby('City')[['Country','Temperature','deviation']].agg('max').sort_values('deviation',ascending=False).tail()"
      ],
      "execution_count": null,
      "outputs": [
        {
          "output_type": "execute_result",
          "data": {
            "text/html": [
              "<div>\n",
              "<style scoped>\n",
              "    .dataframe tbody tr th:only-of-type {\n",
              "        vertical-align: middle;\n",
              "    }\n",
              "\n",
              "    .dataframe tbody tr th {\n",
              "        vertical-align: top;\n",
              "    }\n",
              "\n",
              "    .dataframe thead th {\n",
              "        text-align: right;\n",
              "    }\n",
              "</style>\n",
              "<table border=\"1\" class=\"dataframe\">\n",
              "  <thead>\n",
              "    <tr style=\"text-align: right;\">\n",
              "      <th></th>\n",
              "      <th>Country</th>\n",
              "      <th>Temperature</th>\n",
              "      <th>deviation</th>\n",
              "    </tr>\n",
              "    <tr>\n",
              "      <th>City</th>\n",
              "      <th></th>\n",
              "      <th></th>\n",
              "      <th></th>\n",
              "    </tr>\n",
              "  </thead>\n",
              "  <tbody>\n",
              "    <tr>\n",
              "      <th>Nairobi</th>\n",
              "      <td>Kenya</td>\n",
              "      <td>19.446</td>\n",
              "      <td>2.701</td>\n",
              "    </tr>\n",
              "    <tr>\n",
              "      <th>Lagos</th>\n",
              "      <td>Nigeria</td>\n",
              "      <td>29.032</td>\n",
              "      <td>2.682</td>\n",
              "    </tr>\n",
              "    <tr>\n",
              "      <th>Dar Es Salaam</th>\n",
              "      <td>Tanzania</td>\n",
              "      <td>29.131</td>\n",
              "      <td>2.651</td>\n",
              "    </tr>\n",
              "    <tr>\n",
              "      <th>Jakarta</th>\n",
              "      <td>Indonesia</td>\n",
              "      <td>28.756</td>\n",
              "      <td>2.531</td>\n",
              "    </tr>\n",
              "    <tr>\n",
              "      <th>Kinshasa</th>\n",
              "      <td>Congo (Democratic Republic Of The)</td>\n",
              "      <td>26.426</td>\n",
              "      <td>2.407</td>\n",
              "    </tr>\n",
              "  </tbody>\n",
              "</table>\n",
              "</div>"
            ],
            "text/plain": [
              "                                          Country  Temperature  deviation\n",
              "City                                                                     \n",
              "Nairobi                                     Kenya       19.446      2.701\n",
              "Lagos                                     Nigeria       29.032      2.682\n",
              "Dar Es Salaam                            Tanzania       29.131      2.651\n",
              "Jakarta                                 Indonesia       28.756      2.531\n",
              "Kinshasa       Congo (Democratic Republic Of The)       26.426      2.407"
            ]
          },
          "metadata": {
            "tags": []
          },
          "execution_count": 280
        }
      ]
    },
    {
      "cell_type": "code",
      "metadata": {
        "colab": {
          "base_uri": "https://localhost:8080/",
          "height": 390
        },
        "id": "vXqAFF6GFE5n",
        "outputId": "43e1999a-82cf-49b2-df6c-34b513c75a97"
      },
      "source": [
        "df.groupby('City')[['year','month','Temperature','deviation']].agg('min').sort_values('deviation').head(10)"
      ],
      "execution_count": null,
      "outputs": [
        {
          "output_type": "execute_result",
          "data": {
            "text/html": [
              "<div>\n",
              "<style scoped>\n",
              "    .dataframe tbody tr th:only-of-type {\n",
              "        vertical-align: middle;\n",
              "    }\n",
              "\n",
              "    .dataframe tbody tr th {\n",
              "        vertical-align: top;\n",
              "    }\n",
              "\n",
              "    .dataframe thead th {\n",
              "        text-align: right;\n",
              "    }\n",
              "</style>\n",
              "<table border=\"1\" class=\"dataframe\">\n",
              "  <thead>\n",
              "    <tr style=\"text-align: right;\">\n",
              "      <th></th>\n",
              "      <th>year</th>\n",
              "      <th>month</th>\n",
              "      <th>Temperature</th>\n",
              "      <th>deviation</th>\n",
              "    </tr>\n",
              "    <tr>\n",
              "      <th>City</th>\n",
              "      <th></th>\n",
              "      <th></th>\n",
              "      <th></th>\n",
              "      <th></th>\n",
              "    </tr>\n",
              "  </thead>\n",
              "  <tbody>\n",
              "    <tr>\n",
              "      <th>Belo Horizonte</th>\n",
              "      <td>1832</td>\n",
              "      <td>1</td>\n",
              "      <td>15.920</td>\n",
              "      <td>0.040</td>\n",
              "    </tr>\n",
              "    <tr>\n",
              "      <th>Tokyo</th>\n",
              "      <td>1845</td>\n",
              "      <td>1</td>\n",
              "      <td>-1.580</td>\n",
              "      <td>0.049</td>\n",
              "    </tr>\n",
              "    <tr>\n",
              "      <th>Calcutta</th>\n",
              "      <td>1796</td>\n",
              "      <td>1</td>\n",
              "      <td>15.253</td>\n",
              "      <td>0.056</td>\n",
              "    </tr>\n",
              "    <tr>\n",
              "      <th>Changchun</th>\n",
              "      <td>1820</td>\n",
              "      <td>1</td>\n",
              "      <td>-23.272</td>\n",
              "      <td>0.056</td>\n",
              "    </tr>\n",
              "    <tr>\n",
              "      <th>Moscow</th>\n",
              "      <td>1743</td>\n",
              "      <td>1</td>\n",
              "      <td>-19.376</td>\n",
              "      <td>0.060</td>\n",
              "    </tr>\n",
              "    <tr>\n",
              "      <th>Nagoya</th>\n",
              "      <td>1841</td>\n",
              "      <td>1</td>\n",
              "      <td>1.423</td>\n",
              "      <td>0.060</td>\n",
              "    </tr>\n",
              "    <tr>\n",
              "      <th>London</th>\n",
              "      <td>1743</td>\n",
              "      <td>1</td>\n",
              "      <td>-2.781</td>\n",
              "      <td>0.060</td>\n",
              "    </tr>\n",
              "    <tr>\n",
              "      <th>Izmir</th>\n",
              "      <td>1753</td>\n",
              "      <td>1</td>\n",
              "      <td>5.607</td>\n",
              "      <td>0.062</td>\n",
              "    </tr>\n",
              "    <tr>\n",
              "      <th>Montreal</th>\n",
              "      <td>1743</td>\n",
              "      <td>1</td>\n",
              "      <td>-18.363</td>\n",
              "      <td>0.065</td>\n",
              "    </tr>\n",
              "    <tr>\n",
              "      <th>Singapore</th>\n",
              "      <td>1825</td>\n",
              "      <td>1</td>\n",
              "      <td>24.032</td>\n",
              "      <td>0.065</td>\n",
              "    </tr>\n",
              "  </tbody>\n",
              "</table>\n",
              "</div>"
            ],
            "text/plain": [
              "                year  month  Temperature  deviation\n",
              "City                                               \n",
              "Belo Horizonte  1832      1       15.920      0.040\n",
              "Tokyo           1845      1       -1.580      0.049\n",
              "Calcutta        1796      1       15.253      0.056\n",
              "Changchun       1820      1      -23.272      0.056\n",
              "Moscow          1743      1      -19.376      0.060\n",
              "Nagoya          1841      1        1.423      0.060\n",
              "London          1743      1       -2.781      0.060\n",
              "Izmir           1753      1        5.607      0.062\n",
              "Montreal        1743      1      -18.363      0.065\n",
              "Singapore       1825      1       24.032      0.065"
            ]
          },
          "metadata": {
            "tags": []
          },
          "execution_count": 281
        }
      ]
    },
    {
      "cell_type": "code",
      "metadata": {
        "colab": {
          "base_uri": "https://localhost:8080/",
          "height": 204
        },
        "id": "CexvE_ZaFE5u",
        "outputId": "760c8bb1-baf7-4a27-8c74-36c6ebb6ab9c"
      },
      "source": [
        "# Correlation with Independent Variables\r\n",
        "df.corr()"
      ],
      "execution_count": null,
      "outputs": [
        {
          "output_type": "execute_result",
          "data": {
            "text/html": [
              "<div>\n",
              "<style scoped>\n",
              "    .dataframe tbody tr th:only-of-type {\n",
              "        vertical-align: middle;\n",
              "    }\n",
              "\n",
              "    .dataframe tbody tr th {\n",
              "        vertical-align: top;\n",
              "    }\n",
              "\n",
              "    .dataframe thead th {\n",
              "        text-align: right;\n",
              "    }\n",
              "</style>\n",
              "<table border=\"1\" class=\"dataframe\">\n",
              "  <thead>\n",
              "    <tr style=\"text-align: right;\">\n",
              "      <th></th>\n",
              "      <th>Temperature</th>\n",
              "      <th>deviation</th>\n",
              "      <th>year</th>\n",
              "      <th>month</th>\n",
              "      <th>quarter</th>\n",
              "    </tr>\n",
              "  </thead>\n",
              "  <tbody>\n",
              "    <tr>\n",
              "      <th>Temperature</th>\n",
              "      <td>1.000000</td>\n",
              "      <td>-0.199380</td>\n",
              "      <td>0.146691</td>\n",
              "      <td>0.102462</td>\n",
              "      <td>0.105495</td>\n",
              "    </tr>\n",
              "    <tr>\n",
              "      <th>deviation</th>\n",
              "      <td>-0.199380</td>\n",
              "      <td>1.000000</td>\n",
              "      <td>-0.748272</td>\n",
              "      <td>-0.039538</td>\n",
              "      <td>-0.039238</td>\n",
              "    </tr>\n",
              "    <tr>\n",
              "      <th>year</th>\n",
              "      <td>0.146691</td>\n",
              "      <td>-0.748272</td>\n",
              "      <td>1.000000</td>\n",
              "      <td>-0.004004</td>\n",
              "      <td>-0.003906</td>\n",
              "    </tr>\n",
              "    <tr>\n",
              "      <th>month</th>\n",
              "      <td>0.102462</td>\n",
              "      <td>-0.039538</td>\n",
              "      <td>-0.004004</td>\n",
              "      <td>1.000000</td>\n",
              "      <td>0.971616</td>\n",
              "    </tr>\n",
              "    <tr>\n",
              "      <th>quarter</th>\n",
              "      <td>0.105495</td>\n",
              "      <td>-0.039238</td>\n",
              "      <td>-0.003906</td>\n",
              "      <td>0.971616</td>\n",
              "      <td>1.000000</td>\n",
              "    </tr>\n",
              "  </tbody>\n",
              "</table>\n",
              "</div>"
            ],
            "text/plain": [
              "             Temperature  deviation      year     month   quarter\n",
              "Temperature     1.000000  -0.199380  0.146691  0.102462  0.105495\n",
              "deviation      -0.199380   1.000000 -0.748272 -0.039538 -0.039238\n",
              "year            0.146691  -0.748272  1.000000 -0.004004 -0.003906\n",
              "month           0.102462  -0.039538 -0.004004  1.000000  0.971616\n",
              "quarter         0.105495  -0.039238 -0.003906  0.971616  1.000000"
            ]
          },
          "metadata": {
            "tags": []
          },
          "execution_count": 282
        }
      ]
    },
    {
      "cell_type": "code",
      "metadata": {
        "id": "Hnbdy27oHbLr"
      },
      "source": [
        "df1=df.copy()"
      ],
      "execution_count": null,
      "outputs": []
    },
    {
      "cell_type": "code",
      "metadata": {
        "id": "cSWxEVjdBbkn"
      },
      "source": [
        "# Import library for VIF\r\n",
        "from statsmodels.stats.outliers_influence import variance_inflation_factor\r\n",
        "\r\n",
        "def calc_vif(X):\r\n",
        "\r\n",
        "    # Calculating VIF\r\n",
        "    vif = pd.DataFrame()\r\n",
        "    vif[\"variables\"] = X.columns\r\n",
        "    vif[\"VIF\"] = [variance_inflation_factor(X.values, i) for i in range(X.shape[1])]\r\n",
        "\r\n",
        "    return(vif)"
      ],
      "execution_count": null,
      "outputs": []
    },
    {
      "cell_type": "code",
      "metadata": {
        "id": "hnNk57f2Bp6i"
      },
      "source": [
        "X=df1.drop(['City','Country','Latitude','Longitude','deviation','month'],axis=1)"
      ],
      "execution_count": null,
      "outputs": []
    },
    {
      "cell_type": "code",
      "metadata": {
        "colab": {
          "base_uri": "https://localhost:8080/",
          "height": 204
        },
        "id": "k4cXboSXXAav",
        "outputId": "7d01406b-13f4-4455-ffc2-1c9264d43add"
      },
      "source": [
        "df1.head()"
      ],
      "execution_count": null,
      "outputs": [
        {
          "output_type": "execute_result",
          "data": {
            "text/html": [
              "<div>\n",
              "<style scoped>\n",
              "    .dataframe tbody tr th:only-of-type {\n",
              "        vertical-align: middle;\n",
              "    }\n",
              "\n",
              "    .dataframe tbody tr th {\n",
              "        vertical-align: top;\n",
              "    }\n",
              "\n",
              "    .dataframe thead th {\n",
              "        text-align: right;\n",
              "    }\n",
              "</style>\n",
              "<table border=\"1\" class=\"dataframe\">\n",
              "  <thead>\n",
              "    <tr style=\"text-align: right;\">\n",
              "      <th></th>\n",
              "      <th>Temperature</th>\n",
              "      <th>deviation</th>\n",
              "      <th>City</th>\n",
              "      <th>Country</th>\n",
              "      <th>Latitude</th>\n",
              "      <th>Longitude</th>\n",
              "      <th>year</th>\n",
              "      <th>month</th>\n",
              "      <th>quarter</th>\n",
              "    </tr>\n",
              "  </thead>\n",
              "  <tbody>\n",
              "    <tr>\n",
              "      <th>0</th>\n",
              "      <td>26.704</td>\n",
              "      <td>1.435</td>\n",
              "      <td>Abidjan</td>\n",
              "      <td>Côte D'Ivoire</td>\n",
              "      <td>5.63N</td>\n",
              "      <td>3.23W</td>\n",
              "      <td>1849</td>\n",
              "      <td>1</td>\n",
              "      <td>1</td>\n",
              "    </tr>\n",
              "    <tr>\n",
              "      <th>1</th>\n",
              "      <td>27.434</td>\n",
              "      <td>1.362</td>\n",
              "      <td>Abidjan</td>\n",
              "      <td>Côte D'Ivoire</td>\n",
              "      <td>5.63N</td>\n",
              "      <td>3.23W</td>\n",
              "      <td>1849</td>\n",
              "      <td>2</td>\n",
              "      <td>1</td>\n",
              "    </tr>\n",
              "    <tr>\n",
              "      <th>2</th>\n",
              "      <td>28.101</td>\n",
              "      <td>1.612</td>\n",
              "      <td>Abidjan</td>\n",
              "      <td>Côte D'Ivoire</td>\n",
              "      <td>5.63N</td>\n",
              "      <td>3.23W</td>\n",
              "      <td>1849</td>\n",
              "      <td>3</td>\n",
              "      <td>1</td>\n",
              "    </tr>\n",
              "    <tr>\n",
              "      <th>3</th>\n",
              "      <td>26.140</td>\n",
              "      <td>1.387</td>\n",
              "      <td>Abidjan</td>\n",
              "      <td>Côte D'Ivoire</td>\n",
              "      <td>5.63N</td>\n",
              "      <td>3.23W</td>\n",
              "      <td>1849</td>\n",
              "      <td>4</td>\n",
              "      <td>2</td>\n",
              "    </tr>\n",
              "    <tr>\n",
              "      <th>4</th>\n",
              "      <td>25.427</td>\n",
              "      <td>1.200</td>\n",
              "      <td>Abidjan</td>\n",
              "      <td>Côte D'Ivoire</td>\n",
              "      <td>5.63N</td>\n",
              "      <td>3.23W</td>\n",
              "      <td>1849</td>\n",
              "      <td>5</td>\n",
              "      <td>2</td>\n",
              "    </tr>\n",
              "  </tbody>\n",
              "</table>\n",
              "</div>"
            ],
            "text/plain": [
              "   Temperature  deviation     City  ...  year month quarter\n",
              "0       26.704      1.435  Abidjan  ...  1849     1       1\n",
              "1       27.434      1.362  Abidjan  ...  1849     2       1\n",
              "2       28.101      1.612  Abidjan  ...  1849     3       1\n",
              "3       26.140      1.387  Abidjan  ...  1849     4       2\n",
              "4       25.427      1.200  Abidjan  ...  1849     5       2\n",
              "\n",
              "[5 rows x 9 columns]"
            ]
          },
          "metadata": {
            "tags": []
          },
          "execution_count": 286
        }
      ]
    },
    {
      "cell_type": "code",
      "metadata": {
        "id": "JCfb0cgqtBYI"
      },
      "source": [
        "df1.drop(['City','Country','Latitude','Longitude'],axis=1,inplace=True)"
      ],
      "execution_count": null,
      "outputs": []
    },
    {
      "cell_type": "code",
      "metadata": {
        "id": "gbvHmu8WsjD_"
      },
      "source": [
        "from sklearn.preprocessing import StandardScaler\r\n",
        "scaled=StandardScaler()\r\n",
        "df_2=scaled.fit_transform(df1)"
      ],
      "execution_count": null,
      "outputs": []
    },
    {
      "cell_type": "code",
      "metadata": {
        "colab": {
          "base_uri": "https://localhost:8080/",
          "height": 419
        },
        "id": "pSDMeKuftQTc",
        "outputId": "1ca5f81b-b313-41e4-9e78-68225441109b"
      },
      "source": [
        "df_scaled=pd.DataFrame(df_2)\r\n",
        "df_scaled"
      ],
      "execution_count": null,
      "outputs": [
        {
          "output_type": "execute_result",
          "data": {
            "text/html": [
              "<div>\n",
              "<style scoped>\n",
              "    .dataframe tbody tr th:only-of-type {\n",
              "        vertical-align: middle;\n",
              "    }\n",
              "\n",
              "    .dataframe tbody tr th {\n",
              "        vertical-align: top;\n",
              "    }\n",
              "\n",
              "    .dataframe thead th {\n",
              "        text-align: right;\n",
              "    }\n",
              "</style>\n",
              "<table border=\"1\" class=\"dataframe\">\n",
              "  <thead>\n",
              "    <tr style=\"text-align: right;\">\n",
              "      <th></th>\n",
              "      <th>0</th>\n",
              "      <th>1</th>\n",
              "      <th>2</th>\n",
              "      <th>3</th>\n",
              "      <th>4</th>\n",
              "    </tr>\n",
              "  </thead>\n",
              "  <tbody>\n",
              "    <tr>\n",
              "      <th>0</th>\n",
              "      <td>0.855683</td>\n",
              "      <td>0.475334</td>\n",
              "      <td>-1.046229</td>\n",
              "      <td>-1.592023</td>\n",
              "      <td>-1.340426</td>\n",
              "    </tr>\n",
              "    <tr>\n",
              "      <th>1</th>\n",
              "      <td>0.928502</td>\n",
              "      <td>0.400816</td>\n",
              "      <td>-1.046229</td>\n",
              "      <td>-1.302288</td>\n",
              "      <td>-1.340426</td>\n",
              "    </tr>\n",
              "    <tr>\n",
              "      <th>2</th>\n",
              "      <td>0.995038</td>\n",
              "      <td>0.656012</td>\n",
              "      <td>-1.046229</td>\n",
              "      <td>-1.012554</td>\n",
              "      <td>-1.340426</td>\n",
              "    </tr>\n",
              "    <tr>\n",
              "      <th>3</th>\n",
              "      <td>0.799422</td>\n",
              "      <td>0.426336</td>\n",
              "      <td>-1.046229</td>\n",
              "      <td>-0.722819</td>\n",
              "      <td>-0.445861</td>\n",
              "    </tr>\n",
              "    <tr>\n",
              "      <th>4</th>\n",
              "      <td>0.728299</td>\n",
              "      <td>0.235450</td>\n",
              "      <td>-1.046229</td>\n",
              "      <td>-0.433084</td>\n",
              "      <td>-0.445861</td>\n",
              "    </tr>\n",
              "    <tr>\n",
              "      <th>...</th>\n",
              "      <td>...</td>\n",
              "      <td>...</td>\n",
              "      <td>...</td>\n",
              "      <td>...</td>\n",
              "      <td>...</td>\n",
              "    </tr>\n",
              "    <tr>\n",
              "      <th>228170</th>\n",
              "      <td>-0.554922</td>\n",
              "      <td>0.871397</td>\n",
              "      <td>1.597831</td>\n",
              "      <td>-0.722819</td>\n",
              "      <td>-0.445861</td>\n",
              "    </tr>\n",
              "    <tr>\n",
              "      <th>228171</th>\n",
              "      <td>0.085092</td>\n",
              "      <td>-0.165717</td>\n",
              "      <td>1.597831</td>\n",
              "      <td>-0.433084</td>\n",
              "      <td>-0.445861</td>\n",
              "    </tr>\n",
              "    <tr>\n",
              "      <th>228172</th>\n",
              "      <td>0.538269</td>\n",
              "      <td>-0.329042</td>\n",
              "      <td>1.597831</td>\n",
              "      <td>-0.143349</td>\n",
              "      <td>-0.445861</td>\n",
              "    </tr>\n",
              "    <tr>\n",
              "      <th>228173</th>\n",
              "      <td>0.710742</td>\n",
              "      <td>0.074166</td>\n",
              "      <td>1.597831</td>\n",
              "      <td>0.146385</td>\n",
              "      <td>0.448703</td>\n",
              "    </tr>\n",
              "    <tr>\n",
              "      <th>228174</th>\n",
              "      <td>0.638621</td>\n",
              "      <td>-0.132031</td>\n",
              "      <td>1.597831</td>\n",
              "      <td>0.436120</td>\n",
              "      <td>0.448703</td>\n",
              "    </tr>\n",
              "  </tbody>\n",
              "</table>\n",
              "<p>228175 rows × 5 columns</p>\n",
              "</div>"
            ],
            "text/plain": [
              "               0         1         2         3         4\n",
              "0       0.855683  0.475334 -1.046229 -1.592023 -1.340426\n",
              "1       0.928502  0.400816 -1.046229 -1.302288 -1.340426\n",
              "2       0.995038  0.656012 -1.046229 -1.012554 -1.340426\n",
              "3       0.799422  0.426336 -1.046229 -0.722819 -0.445861\n",
              "4       0.728299  0.235450 -1.046229 -0.433084 -0.445861\n",
              "...          ...       ...       ...       ...       ...\n",
              "228170 -0.554922  0.871397  1.597831 -0.722819 -0.445861\n",
              "228171  0.085092 -0.165717  1.597831 -0.433084 -0.445861\n",
              "228172  0.538269 -0.329042  1.597831 -0.143349 -0.445861\n",
              "228173  0.710742  0.074166  1.597831  0.146385  0.448703\n",
              "228174  0.638621 -0.132031  1.597831  0.436120  0.448703\n",
              "\n",
              "[228175 rows x 5 columns]"
            ]
          },
          "metadata": {
            "tags": []
          },
          "execution_count": 289
        }
      ]
    },
    {
      "cell_type": "code",
      "metadata": {
        "colab": {
          "base_uri": "https://localhost:8080/"
        },
        "id": "pGde1VSRtfP2",
        "outputId": "c3b26f09-f88f-48f7-c8a9-5aa594e41d7c"
      },
      "source": [
        "df1.columns"
      ],
      "execution_count": null,
      "outputs": [
        {
          "output_type": "execute_result",
          "data": {
            "text/plain": [
              "Index(['Temperature', 'deviation', 'year', 'month', 'quarter'], dtype='object')"
            ]
          },
          "metadata": {
            "tags": []
          },
          "execution_count": 290
        }
      ]
    },
    {
      "cell_type": "code",
      "metadata": {
        "id": "qthpD-actlJg"
      },
      "source": [
        "df_scaled.rename(columns={0:'Temperature', 1:'deviation',2:'year',3:'month',4:'quarter'},inplace=True)"
      ],
      "execution_count": null,
      "outputs": []
    },
    {
      "cell_type": "code",
      "metadata": {
        "colab": {
          "base_uri": "https://localhost:8080/",
          "height": 142
        },
        "id": "MePyoL2CBw1R",
        "outputId": "ba2e22b4-2f16-403a-9c28-493d24926aa9"
      },
      "source": [
        "calc_vif(X)"
      ],
      "execution_count": null,
      "outputs": [
        {
          "output_type": "execute_result",
          "data": {
            "text/html": [
              "<div>\n",
              "<style scoped>\n",
              "    .dataframe tbody tr th:only-of-type {\n",
              "        vertical-align: middle;\n",
              "    }\n",
              "\n",
              "    .dataframe tbody tr th {\n",
              "        vertical-align: top;\n",
              "    }\n",
              "\n",
              "    .dataframe thead th {\n",
              "        text-align: right;\n",
              "    }\n",
              "</style>\n",
              "<table border=\"1\" class=\"dataframe\">\n",
              "  <thead>\n",
              "    <tr style=\"text-align: right;\">\n",
              "      <th></th>\n",
              "      <th>variables</th>\n",
              "      <th>VIF</th>\n",
              "    </tr>\n",
              "  </thead>\n",
              "  <tbody>\n",
              "    <tr>\n",
              "      <th>0</th>\n",
              "      <td>Temperature</td>\n",
              "      <td>4.372385</td>\n",
              "    </tr>\n",
              "    <tr>\n",
              "      <th>1</th>\n",
              "      <td>year</td>\n",
              "      <td>8.553901</td>\n",
              "    </tr>\n",
              "    <tr>\n",
              "      <th>2</th>\n",
              "      <td>quarter</td>\n",
              "      <td>6.020481</td>\n",
              "    </tr>\n",
              "  </tbody>\n",
              "</table>\n",
              "</div>"
            ],
            "text/plain": [
              "     variables       VIF\n",
              "0  Temperature  4.372385\n",
              "1         year  8.553901\n",
              "2      quarter  6.020481"
            ]
          },
          "metadata": {
            "tags": []
          },
          "execution_count": 292
        }
      ]
    },
    {
      "cell_type": "code",
      "metadata": {
        "colab": {
          "base_uri": "https://localhost:8080/"
        },
        "id": "3rd9Zw3SILSx",
        "outputId": "f61e623a-adb4-4fdf-d288-2821f0691dd8"
      },
      "source": [
        "df_scaled.dtypes"
      ],
      "execution_count": null,
      "outputs": [
        {
          "output_type": "execute_result",
          "data": {
            "text/plain": [
              "Temperature    float64\n",
              "deviation      float64\n",
              "year           float64\n",
              "month          float64\n",
              "quarter        float64\n",
              "dtype: object"
            ]
          },
          "metadata": {
            "tags": []
          },
          "execution_count": 293
        }
      ]
    },
    {
      "cell_type": "code",
      "metadata": {
        "colab": {
          "base_uri": "https://localhost:8080/"
        },
        "id": "XaIK4-_rFE5x",
        "outputId": "074b2e2b-07ca-4081-ff7f-4418638638bd"
      },
      "source": [
        "# Check the Outliers in the dataset(Is it affecting or not is the question or show we take it depend\r\n",
        "#on the context or data we are handling)\r\n",
        "# Checking For Temperature Feature\r\n",
        "IQR=df1.Temperature.quantile(0.75) - df1.Temperature.quantile(0.25)\r\n",
        "IQR"
      ],
      "execution_count": null,
      "outputs": [
        {
          "output_type": "execute_result",
          "data": {
            "text/plain": [
              "13.208000000000009"
            ]
          },
          "metadata": {
            "tags": []
          },
          "execution_count": 294
        }
      ]
    },
    {
      "cell_type": "code",
      "metadata": {
        "colab": {
          "base_uri": "https://localhost:8080/",
          "height": 350
        },
        "id": "WxaDnCT76n9Y",
        "outputId": "5ebf8b81-7cf3-4176-b178-97c455258d05"
      },
      "source": [
        "# Visualize of Outliers using Boxplot\r\n",
        "sns.boxplot(df1['Temperature'])"
      ],
      "execution_count": null,
      "outputs": [
        {
          "output_type": "stream",
          "text": [
            "/usr/local/lib/python3.6/dist-packages/seaborn/_decorators.py:43: FutureWarning: Pass the following variable as a keyword arg: x. From version 0.12, the only valid positional argument will be `data`, and passing other arguments without an explicit keyword will result in an error or misinterpretation.\n",
            "  FutureWarning\n"
          ],
          "name": "stderr"
        },
        {
          "output_type": "execute_result",
          "data": {
            "text/plain": [
              "<matplotlib.axes._subplots.AxesSubplot at 0x7fda75d5df98>"
            ]
          },
          "metadata": {
            "tags": []
          },
          "execution_count": 295
        },
        {
          "output_type": "display_data",
          "data": {
            "image/png": "[encoded data removed]",
            "text/plain": [
              "<Figure size 432x288 with 1 Axes>"
            ]
          },
          "metadata": {
            "tags": [],
            "needs_background": "light"
          }
        }
      ]
    },
    {
      "cell_type": "code",
      "metadata": {
        "colab": {
          "base_uri": "https://localhost:8080/"
        },
        "id": "-7YDIS627F4t",
        "outputId": "19e6edc5-7398-4c38-9f3e-35b10bc096f8"
      },
      "source": [
        "# Check lower_bridge and upper_bridge of Temperature Features\r\n",
        "lower_bridge=df1.Temperature.quantile(0.25) -(1.5*IQR)\r\n",
        "upper_bridge=df1.Temperature.quantile(0.75) + (1.5*IQR)\r\n",
        "print(lower_bridge)\r\n",
        "print(upper_bridge)"
      ],
      "execution_count": null,
      "outputs": [
        {
          "output_type": "stream",
          "text": [
            "-7.102000000000011\n",
            "45.73000000000002\n"
          ],
          "name": "stdout"
        }
      ]
    },
    {
      "cell_type": "code",
      "metadata": {
        "colab": {
          "base_uri": "https://localhost:8080/"
        },
        "id": "B3egrco77mKo",
        "outputId": "985be571-9a24-4342-a14e-0864d8373390"
      },
      "source": [
        "# Checking lower_extreme and upper extreme of Temperature Features\r\n",
        "lower_extreme=df1.Temperature.mean() - 3*df.Temperature.std()\r\n",
        "upper_extreme=df1.Temperature.mean() + 3*df.Temperature.std()\r\n",
        "print(lower_extreme)\r\n",
        "print(upper_extreme)"
      ],
      "execution_count": null,
      "outputs": [
        {
          "output_type": "stream",
          "text": [
            "-11.94843027860064\n",
            "48.20036798430904\n"
          ],
          "name": "stdout"
        }
      ]
    },
    {
      "cell_type": "code",
      "metadata": {
        "colab": {
          "base_uri": "https://localhost:8080/"
        },
        "id": "9spNqtIP9SGh",
        "outputId": "e3c5fb47-44a0-4520-8603-7fc9c6257b24"
      },
      "source": [
        "# Checking IQR of deviation features\r\n",
        "IQR=df1.deviation.quantile(0.75) - df1.deviation.quantile(0.25)\r\n",
        "IQR"
      ],
      "execution_count": null,
      "outputs": [
        {
          "output_type": "execute_result",
          "data": {
            "text/plain": [
              "0.98"
            ]
          },
          "metadata": {
            "tags": []
          },
          "execution_count": 298
        }
      ]
    },
    {
      "cell_type": "code",
      "metadata": {
        "colab": {
          "base_uri": "https://localhost:8080/"
        },
        "id": "MyD9O3Hh9p_z",
        "outputId": "4a04399f-5e64-4c8b-f67a-d66d301a80f1"
      },
      "source": [
        "# Checking lower_bridge and upper_bridge\r\n",
        "lower_bridge=df1.deviation.quantile(0.25) - (1.5*IQR)\r\n",
        "upper_bridge=df1.deviation.quantile(0.75) + (1.5*IQR)\r\n",
        "print(lower_bridge)\r\n",
        "print(upper_bridge)"
      ],
      "execution_count": null,
      "outputs": [
        {
          "output_type": "stream",
          "text": [
            "-1.13\n",
            "2.79\n"
          ],
          "name": "stdout"
        }
      ]
    },
    {
      "cell_type": "code",
      "metadata": {
        "colab": {
          "base_uri": "https://localhost:8080/",
          "height": 350
        },
        "id": "M_FIJQ_k_zTi",
        "outputId": "fb7d7457-9d6f-46b1-a586-5740f163e38b"
      },
      "source": [
        "# Checking Visualization of deviation Features with boxplot\r\n",
        "sns.boxplot(df1['deviation'])"
      ],
      "execution_count": null,
      "outputs": [
        {
          "output_type": "stream",
          "text": [
            "/usr/local/lib/python3.6/dist-packages/seaborn/_decorators.py:43: FutureWarning: Pass the following variable as a keyword arg: x. From version 0.12, the only valid positional argument will be `data`, and passing other arguments without an explicit keyword will result in an error or misinterpretation.\n",
            "  FutureWarning\n"
          ],
          "name": "stderr"
        },
        {
          "output_type": "execute_result",
          "data": {
            "text/plain": [
              "<matplotlib.axes._subplots.AxesSubplot at 0x7fda75cb6a58>"
            ]
          },
          "metadata": {
            "tags": []
          },
          "execution_count": 300
        },
        {
          "output_type": "display_data",
          "data": {
            "image/png": "[encoded data removed]",
            "text/plain": [
              "<Figure size 432x288 with 1 Axes>"
            ]
          },
          "metadata": {
            "tags": [],
            "needs_background": "light"
          }
        }
      ]
    },
    {
      "cell_type": "code",
      "metadata": {
        "colab": {
          "base_uri": "https://localhost:8080/"
        },
        "id": "mSpZh57mAFUv",
        "outputId": "92e12c8b-0a8f-4a50-a1a4-f0bb874cf505"
      },
      "source": [
        "# Calculating lower_extreme and upper_extreme values\r\n",
        "lower_extreme_dev=df1.deviation.mean() - 3*df1.deviation.std()\r\n",
        "upper_extreme_dev=df1.deviation.mean() + 3*df1.deviation.std()\r\n",
        "print(lower_extreme_dev)\r\n",
        "print(upper_extreme_dev)"
      ],
      "execution_count": null,
      "outputs": [
        {
          "output_type": "stream",
          "text": [
            "-1.9695882961603548\n",
            "3.908275172461476\n"
          ],
          "name": "stdout"
        }
      ]
    },
    {
      "cell_type": "code",
      "metadata": {
        "colab": {
          "base_uri": "https://localhost:8080/"
        },
        "id": "f5yF8iDzAuxD",
        "outputId": "d7f5aa91-361c-45e0-c298-20f2361f7f94"
      },
      "source": [
        "# Now Handling Categorical Features  Like City,Country\r\n",
        "df['City'].unique()"
      ],
      "execution_count": null,
      "outputs": [
        {
          "output_type": "execute_result",
          "data": {
            "text/plain": [
              "array(['Abidjan', 'Addis Abeba', 'Ahmadabad', 'Aleppo', 'Alexandria',\n",
              "       'Ankara', 'Baghdad', 'Bangalore', 'Bangkok', 'Belo Horizonte',\n",
              "       'Berlin', 'Bogotá', 'Bombay', 'Brasília', 'Cairo', 'Calcutta',\n",
              "       'Cali', 'Cape Town', 'Casablanca', 'Changchun', 'Chengdu',\n",
              "       'Chicago', 'Chongqing', 'Dakar', 'Dalian', 'Dar Es Salaam',\n",
              "       'Delhi', 'Dhaka', 'Durban', 'Faisalabad', 'Fortaleza', 'Gizeh',\n",
              "       'Guangzhou', 'Harare', 'Harbin', 'Ho Chi Minh City', 'Hyderabad',\n",
              "       'Ibadan', 'Istanbul', 'Izmir', 'Jaipur', 'Jakarta', 'Jiddah',\n",
              "       'Jinan', 'Kabul', 'Kano', 'Kanpur', 'Karachi', 'Kiev', 'Kinshasa',\n",
              "       'Lagos', 'Lahore', 'Lakhnau', 'Lima', 'London', 'Los Angeles',\n",
              "       'Luanda', 'Madras', 'Madrid', 'Manila', 'Mashhad', 'Melbourne',\n",
              "       'Mexico', 'Mogadishu', 'Montreal', 'Moscow', 'Nagoya', 'Nagpur',\n",
              "       'Nairobi', 'Nanjing', 'New Delhi', 'New York', 'Paris', 'Peking',\n",
              "       'Pune', 'Rangoon', 'Rio De Janeiro', 'Riyadh', 'Rome', 'São Paulo',\n",
              "       'Saint Petersburg', 'Salvador', 'Santiago', 'Santo Domingo',\n",
              "       'Seoul', 'Shanghai', 'Shenyang', 'Singapore', 'Surabaya', 'Surat',\n",
              "       'Sydney', 'Taipei', 'Taiyuan', 'Tangshan', 'Tianjin', 'Tokyo',\n",
              "       'Toronto', 'Umm Durman', 'Wuhan', 'Xian'], dtype=object)"
            ]
          },
          "metadata": {
            "tags": []
          },
          "execution_count": 302
        }
      ]
    },
    {
      "cell_type": "code",
      "metadata": {
        "colab": {
          "base_uri": "https://localhost:8080/"
        },
        "id": "15B5UdntCLoy",
        "outputId": "01a372b8-dddf-47c2-af8c-88435a25cf75"
      },
      "source": [
        "df['Country'].unique()"
      ],
      "execution_count": null,
      "outputs": [
        {
          "output_type": "execute_result",
          "data": {
            "text/plain": [
              "array([\"Côte D'Ivoire\", 'Ethiopia', 'India', 'Syria', 'Egypt', 'Turkey',\n",
              "       'Iraq', 'Thailand', 'Brazil', 'Germany', 'Colombia',\n",
              "       'South Africa', 'Morocco', 'China', 'United States', 'Senegal',\n",
              "       'Tanzania', 'Bangladesh', 'Pakistan', 'Zimbabwe', 'Vietnam',\n",
              "       'Nigeria', 'Indonesia', 'Saudi Arabia', 'Afghanistan', 'Ukraine',\n",
              "       'Congo (Democratic Republic Of The)', 'Peru', 'United Kingdom',\n",
              "       'Angola', 'Spain', 'Philippines', 'Iran', 'Australia', 'Mexico',\n",
              "       'Somalia', 'Canada', 'Russia', 'Japan', 'Kenya', 'France', 'Burma',\n",
              "       'Italy', 'Chile', 'Dominican Republic', 'South Korea', 'Singapore',\n",
              "       'Taiwan', 'Sudan'], dtype=object)"
            ]
          },
          "metadata": {
            "tags": []
          },
          "execution_count": 305
        }
      ]
    },
    {
      "cell_type": "code",
      "metadata": {
        "colab": {
          "base_uri": "https://localhost:8080/"
        },
        "id": "YMqJaFFYCtdd",
        "outputId": "23639fc7-33f5-49be-897c-6cf9dfe49671"
      },
      "source": [
        "len(df.Country.unique())"
      ],
      "execution_count": null,
      "outputs": [
        {
          "output_type": "execute_result",
          "data": {
            "text/plain": [
              "49"
            ]
          },
          "metadata": {
            "tags": []
          },
          "execution_count": 307
        }
      ]
    },
    {
      "cell_type": "code",
      "metadata": {
        "colab": {
          "base_uri": "https://localhost:8080/"
        },
        "id": "IcGV6kLbCaPN",
        "outputId": "750d9301-3602-474d-c494-ee0d8ac27c1d"
      },
      "source": [
        "df['Country'].value_counts(normalize=True).head(25)"
      ],
      "execution_count": null,
      "outputs": [
        {
          "output_type": "execute_result",
          "data": {
            "text/plain": [
              "China             0.153181\n",
              "India             0.151756\n",
              "Brazil            0.053200\n",
              "Turkey            0.040491\n",
              "United States     0.036099\n",
              "Egypt             0.033089\n",
              "Pakistan          0.028443\n",
              "Russia            0.027751\n",
              "Canada            0.027531\n",
              "Nigeria           0.022790\n",
              "Australia         0.018135\n",
              "Japan             0.017750\n",
              "Colombia          0.017544\n",
              "Saudi Arabia      0.016899\n",
              "Indonesia         0.016470\n",
              "South Africa      0.016417\n",
              "Germany           0.013875\n",
              "France            0.013875\n",
              "United Kingdom    0.013875\n",
              "Spain             0.013875\n",
              "Ukraine           0.013875\n",
              "Italy             0.013875\n",
              "Morocco           0.012771\n",
              "Burma             0.011097\n",
              "Bangladesh        0.011097\n",
              "Name: Country, dtype: float64"
            ]
          },
          "metadata": {
            "tags": []
          },
          "execution_count": 308
        }
      ]
    },
    {
      "cell_type": "code",
      "metadata": {
        "colab": {
          "base_uri": "https://localhost:8080/"
        },
        "id": "1nP3q3IEI0KE",
        "outputId": "252c2a9c-f149-4ca5-f244-8635c547c767"
      },
      "source": [
        "# Let take the most frequent label for the feature Country \r\n",
        "df.Country.value_counts().sort_values(ascending=False).head(25)"
      ],
      "execution_count": null,
      "outputs": [
        {
          "output_type": "execute_result",
          "data": {
            "text/plain": [
              "China             34952\n",
              "India             34627\n",
              "Brazil            12139\n",
              "Turkey             9239\n",
              "United States      8237\n",
              "Egypt              7550\n",
              "Pakistan           6490\n",
              "Russia             6332\n",
              "Canada             6282\n",
              "Nigeria            5200\n",
              "Australia          4138\n",
              "Japan              4050\n",
              "Colombia           4003\n",
              "Saudi Arabia       3856\n",
              "Indonesia          3758\n",
              "South Africa       3746\n",
              "Germany            3166\n",
              "France             3166\n",
              "United Kingdom     3166\n",
              "Spain              3166\n",
              "Ukraine            3166\n",
              "Italy              3166\n",
              "Morocco            2914\n",
              "Burma              2532\n",
              "Bangladesh         2532\n",
              "Name: Country, dtype: int64"
            ]
          },
          "metadata": {
            "tags": []
          },
          "execution_count": 309
        }
      ]
    },
    {
      "cell_type": "code",
      "metadata": {
        "colab": {
          "base_uri": "https://localhost:8080/"
        },
        "id": "W5tEHgGYJIZX",
        "outputId": "a02c1474-5f25-4439-bbdd-c5b4e0496f6a"
      },
      "source": [
        "# Let make a list with the most frequent label for Feature Country\r\n",
        "top_25_country=[y for y in df.Country.value_counts().sort_values(ascending=False).head(25).index]\r\n",
        "print(top_25_country,end=\" \")"
      ],
      "execution_count": null,
      "outputs": [
        {
          "output_type": "stream",
          "text": [
            "['China', 'India', 'Brazil', 'Turkey', 'United States', 'Egypt', 'Pakistan', 'Russia', 'Canada', 'Nigeria', 'Australia', 'Japan', 'Colombia', 'Saudi Arabia', 'Indonesia', 'South Africa', 'Germany', 'France', 'United Kingdom', 'Spain', 'Ukraine', 'Italy', 'Morocco', 'Burma', 'Bangladesh'] "
          ],
          "name": "stdout"
        }
      ]
    },
    {
      "cell_type": "code",
      "metadata": {
        "id": "hXaDp8qpJtcR"
      },
      "source": [
        "# get whole set of dummy variables for all the categorical variables\r\n",
        "def one_hot_encoding(df,variables,top_x_labels):\r\n",
        "  for labels in top_x_labels:\r\n",
        "    df[variables+'_'+labels]=np.where(df[variables]==labels,1,0)"
      ],
      "execution_count": null,
      "outputs": []
    },
    {
      "cell_type": "code",
      "metadata": {
        "id": "9IDxa-WNKMZ8"
      },
      "source": [
        "# Using Custom made Function one_hot_encoding into df\r\n",
        "one_hot_encoding(df,'Country',top_25_country)"
      ],
      "execution_count": null,
      "outputs": []
    },
    {
      "cell_type": "code",
      "metadata": {
        "id": "y9BnkfCvDavE"
      },
      "source": [
        "df.drop(['Country_China'],axis=1,inplace=True)"
      ],
      "execution_count": null,
      "outputs": []
    },
    {
      "cell_type": "code",
      "metadata": {
        "colab": {
          "base_uri": "https://localhost:8080/",
          "height": 326
        },
        "id": "28-5UY7ZKhWj",
        "outputId": "c1e66547-4cff-4a43-9bb5-8b7c4280132c"
      },
      "source": [
        "df.head()"
      ],
      "execution_count": null,
      "outputs": [
        {
          "output_type": "execute_result",
          "data": {
            "text/html": [
              "<div>\n",
              "<style scoped>\n",
              "    .dataframe tbody tr th:only-of-type {\n",
              "        vertical-align: middle;\n",
              "    }\n",
              "\n",
              "    .dataframe tbody tr th {\n",
              "        vertical-align: top;\n",
              "    }\n",
              "\n",
              "    .dataframe thead th {\n",
              "        text-align: right;\n",
              "    }\n",
              "</style>\n",
              "<table border=\"1\" class=\"dataframe\">\n",
              "  <thead>\n",
              "    <tr style=\"text-align: right;\">\n",
              "      <th></th>\n",
              "      <th>Temperature</th>\n",
              "      <th>deviation</th>\n",
              "      <th>City</th>\n",
              "      <th>Country</th>\n",
              "      <th>Latitude</th>\n",
              "      <th>Longitude</th>\n",
              "      <th>year</th>\n",
              "      <th>month</th>\n",
              "      <th>quarter</th>\n",
              "      <th>Country_India</th>\n",
              "      <th>Country_Brazil</th>\n",
              "      <th>Country_Turkey</th>\n",
              "      <th>Country_United States</th>\n",
              "      <th>Country_Egypt</th>\n",
              "      <th>Country_Pakistan</th>\n",
              "      <th>Country_Russia</th>\n",
              "      <th>Country_Canada</th>\n",
              "      <th>Country_Nigeria</th>\n",
              "      <th>Country_Australia</th>\n",
              "      <th>Country_Japan</th>\n",
              "      <th>Country_Colombia</th>\n",
              "      <th>Country_Saudi Arabia</th>\n",
              "      <th>Country_Indonesia</th>\n",
              "      <th>Country_South Africa</th>\n",
              "      <th>Country_Germany</th>\n",
              "      <th>Country_France</th>\n",
              "      <th>Country_United Kingdom</th>\n",
              "      <th>Country_Spain</th>\n",
              "      <th>Country_Ukraine</th>\n",
              "      <th>Country_Italy</th>\n",
              "      <th>Country_Morocco</th>\n",
              "      <th>Country_Burma</th>\n",
              "      <th>Country_Bangladesh</th>\n",
              "    </tr>\n",
              "  </thead>\n",
              "  <tbody>\n",
              "    <tr>\n",
              "      <th>0</th>\n",
              "      <td>26.704</td>\n",
              "      <td>1.435</td>\n",
              "      <td>Abidjan</td>\n",
              "      <td>Côte D'Ivoire</td>\n",
              "      <td>5.63N</td>\n",
              "      <td>3.23W</td>\n",
              "      <td>1849</td>\n",
              "      <td>1</td>\n",
              "      <td>1</td>\n",
              "      <td>0</td>\n",
              "      <td>0</td>\n",
              "      <td>0</td>\n",
              "      <td>0</td>\n",
              "      <td>0</td>\n",
              "      <td>0</td>\n",
              "      <td>0</td>\n",
              "      <td>0</td>\n",
              "      <td>0</td>\n",
              "      <td>0</td>\n",
              "      <td>0</td>\n",
              "      <td>0</td>\n",
              "      <td>0</td>\n",
              "      <td>0</td>\n",
              "      <td>0</td>\n",
              "      <td>0</td>\n",
              "      <td>0</td>\n",
              "      <td>0</td>\n",
              "      <td>0</td>\n",
              "      <td>0</td>\n",
              "      <td>0</td>\n",
              "      <td>0</td>\n",
              "      <td>0</td>\n",
              "      <td>0</td>\n",
              "    </tr>\n",
              "    <tr>\n",
              "      <th>1</th>\n",
              "      <td>27.434</td>\n",
              "      <td>1.362</td>\n",
              "      <td>Abidjan</td>\n",
              "      <td>Côte D'Ivoire</td>\n",
              "      <td>5.63N</td>\n",
              "      <td>3.23W</td>\n",
              "      <td>1849</td>\n",
              "      <td>2</td>\n",
              "      <td>1</td>\n",
              "      <td>0</td>\n",
              "      <td>0</td>\n",
              "      <td>0</td>\n",
              "      <td>0</td>\n",
              "      <td>0</td>\n",
              "      <td>0</td>\n",
              "      <td>0</td>\n",
              "      <td>0</td>\n",
              "      <td>0</td>\n",
              "      <td>0</td>\n",
              "      <td>0</td>\n",
              "      <td>0</td>\n",
              "      <td>0</td>\n",
              "      <td>0</td>\n",
              "      <td>0</td>\n",
              "      <td>0</td>\n",
              "      <td>0</td>\n",
              "      <td>0</td>\n",
              "      <td>0</td>\n",
              "      <td>0</td>\n",
              "      <td>0</td>\n",
              "      <td>0</td>\n",
              "      <td>0</td>\n",
              "      <td>0</td>\n",
              "    </tr>\n",
              "    <tr>\n",
              "      <th>2</th>\n",
              "      <td>28.101</td>\n",
              "      <td>1.612</td>\n",
              "      <td>Abidjan</td>\n",
              "      <td>Côte D'Ivoire</td>\n",
              "      <td>5.63N</td>\n",
              "      <td>3.23W</td>\n",
              "      <td>1849</td>\n",
              "      <td>3</td>\n",
              "      <td>1</td>\n",
              "      <td>0</td>\n",
              "      <td>0</td>\n",
              "      <td>0</td>\n",
              "      <td>0</td>\n",
              "      <td>0</td>\n",
              "      <td>0</td>\n",
              "      <td>0</td>\n",
              "      <td>0</td>\n",
              "      <td>0</td>\n",
              "      <td>0</td>\n",
              "      <td>0</td>\n",
              "      <td>0</td>\n",
              "      <td>0</td>\n",
              "      <td>0</td>\n",
              "      <td>0</td>\n",
              "      <td>0</td>\n",
              "      <td>0</td>\n",
              "      <td>0</td>\n",
              "      <td>0</td>\n",
              "      <td>0</td>\n",
              "      <td>0</td>\n",
              "      <td>0</td>\n",
              "      <td>0</td>\n",
              "      <td>0</td>\n",
              "    </tr>\n",
              "    <tr>\n",
              "      <th>3</th>\n",
              "      <td>26.140</td>\n",
              "      <td>1.387</td>\n",
              "      <td>Abidjan</td>\n",
              "      <td>Côte D'Ivoire</td>\n",
              "      <td>5.63N</td>\n",
              "      <td>3.23W</td>\n",
              "      <td>1849</td>\n",
              "      <td>4</td>\n",
              "      <td>2</td>\n",
              "      <td>0</td>\n",
              "      <td>0</td>\n",
              "      <td>0</td>\n",
              "      <td>0</td>\n",
              "      <td>0</td>\n",
              "      <td>0</td>\n",
              "      <td>0</td>\n",
              "      <td>0</td>\n",
              "      <td>0</td>\n",
              "      <td>0</td>\n",
              "      <td>0</td>\n",
              "      <td>0</td>\n",
              "      <td>0</td>\n",
              "      <td>0</td>\n",
              "      <td>0</td>\n",
              "      <td>0</td>\n",
              "      <td>0</td>\n",
              "      <td>0</td>\n",
              "      <td>0</td>\n",
              "      <td>0</td>\n",
              "      <td>0</td>\n",
              "      <td>0</td>\n",
              "      <td>0</td>\n",
              "      <td>0</td>\n",
              "    </tr>\n",
              "    <tr>\n",
              "      <th>4</th>\n",
              "      <td>25.427</td>\n",
              "      <td>1.200</td>\n",
              "      <td>Abidjan</td>\n",
              "      <td>Côte D'Ivoire</td>\n",
              "      <td>5.63N</td>\n",
              "      <td>3.23W</td>\n",
              "      <td>1849</td>\n",
              "      <td>5</td>\n",
              "      <td>2</td>\n",
              "      <td>0</td>\n",
              "      <td>0</td>\n",
              "      <td>0</td>\n",
              "      <td>0</td>\n",
              "      <td>0</td>\n",
              "      <td>0</td>\n",
              "      <td>0</td>\n",
              "      <td>0</td>\n",
              "      <td>0</td>\n",
              "      <td>0</td>\n",
              "      <td>0</td>\n",
              "      <td>0</td>\n",
              "      <td>0</td>\n",
              "      <td>0</td>\n",
              "      <td>0</td>\n",
              "      <td>0</td>\n",
              "      <td>0</td>\n",
              "      <td>0</td>\n",
              "      <td>0</td>\n",
              "      <td>0</td>\n",
              "      <td>0</td>\n",
              "      <td>0</td>\n",
              "      <td>0</td>\n",
              "      <td>0</td>\n",
              "    </tr>\n",
              "  </tbody>\n",
              "</table>\n",
              "</div>"
            ],
            "text/plain": [
              "   Temperature  deviation  ... Country_Burma Country_Bangladesh\n",
              "0       26.704      1.435  ...             0                  0\n",
              "1       27.434      1.362  ...             0                  0\n",
              "2       28.101      1.612  ...             0                  0\n",
              "3       26.140      1.387  ...             0                  0\n",
              "4       25.427      1.200  ...             0                  0\n",
              "\n",
              "[5 rows x 33 columns]"
            ]
          },
          "metadata": {
            "tags": []
          },
          "execution_count": 314
        }
      ]
    },
    {
      "cell_type": "code",
      "metadata": {
        "colab": {
          "base_uri": "https://localhost:8080/"
        },
        "id": "OZigL2lWK-QT",
        "outputId": "1c0de81c-8811-41c5-cad2-553c210a56d0"
      },
      "source": [
        "df.isnull().sum()"
      ],
      "execution_count": null,
      "outputs": [
        {
          "output_type": "execute_result",
          "data": {
            "text/plain": [
              "Temperature               0\n",
              "deviation                 0\n",
              "City                      0\n",
              "Country                   0\n",
              "Latitude                  0\n",
              "Longitude                 0\n",
              "year                      0\n",
              "month                     0\n",
              "quarter                   0\n",
              "Country_India             0\n",
              "Country_Brazil            0\n",
              "Country_Turkey            0\n",
              "Country_United States     0\n",
              "Country_Egypt             0\n",
              "Country_Pakistan          0\n",
              "Country_Russia            0\n",
              "Country_Canada            0\n",
              "Country_Nigeria           0\n",
              "Country_Australia         0\n",
              "Country_Japan             0\n",
              "Country_Colombia          0\n",
              "Country_Saudi Arabia      0\n",
              "Country_Indonesia         0\n",
              "Country_South Africa      0\n",
              "Country_Germany           0\n",
              "Country_France            0\n",
              "Country_United Kingdom    0\n",
              "Country_Spain             0\n",
              "Country_Ukraine           0\n",
              "Country_Italy             0\n",
              "Country_Morocco           0\n",
              "Country_Burma             0\n",
              "Country_Bangladesh        0\n",
              "dtype: int64"
            ]
          },
          "metadata": {
            "tags": []
          },
          "execution_count": 315
        }
      ]
    },
    {
      "cell_type": "code",
      "metadata": {
        "colab": {
          "base_uri": "https://localhost:8080/"
        },
        "id": "MwPW1hu3LH-X",
        "outputId": "c4b0276a-0c78-4359-fefd-232b3229d8c1"
      },
      "source": [
        "# Top_50_City\r\n",
        "top_50_City=[y for y in df.City.value_counts().sort_values(ascending=False).head(50).index]\r\n",
        "print(top_50_City)"
      ],
      "execution_count": null,
      "outputs": [
        {
          "output_type": "stream",
          "text": [
            "['Moscow', 'Istanbul', 'Berlin', 'Madrid', 'Saint Petersburg', 'Kiev', 'Rome', 'Paris', 'London', 'Montreal', 'Toronto', 'Chicago', 'Izmir', 'New York', 'Ankara', 'Casablanca', 'Alexandria', 'Rangoon', 'Calcutta', 'Dhaka', 'Surat', 'Nagpur', 'Madras', 'Pune', 'Bombay', 'Bangalore', 'Hyderabad', 'Aleppo', 'Kanpur', 'Lakhnau', 'Ahmadabad', 'Gizeh', 'Cairo', 'Jaipur', 'Delhi', 'New Delhi', 'Karachi', 'Baghdad', 'Harbin', 'Changchun', 'Taiyuan', 'Tianjin', 'Peking', 'Tangshan', 'Bangkok', 'Santo Domingo', 'Shenyang', 'Chengdu', 'Mashhad', 'Mexico']\n"
          ],
          "name": "stdout"
        }
      ]
    },
    {
      "cell_type": "code",
      "metadata": {
        "id": "YYkt9SCvLd5a"
      },
      "source": [
        "one_hot_encoding(df,'City',top_50_City)"
      ],
      "execution_count": null,
      "outputs": []
    },
    {
      "cell_type": "code",
      "metadata": {
        "colab": {
          "base_uri": "https://localhost:8080/",
          "height": 355
        },
        "id": "nRkeY4i7Dr2g",
        "outputId": "53b0549d-44bc-4686-9328-221d15ec315a"
      },
      "source": [
        "df.head()"
      ],
      "execution_count": null,
      "outputs": [
        {
          "output_type": "execute_result",
          "data": {
            "text/html": [
              "<div>\n",
              "<style scoped>\n",
              "    .dataframe tbody tr th:only-of-type {\n",
              "        vertical-align: middle;\n",
              "    }\n",
              "\n",
              "    .dataframe tbody tr th {\n",
              "        vertical-align: top;\n",
              "    }\n",
              "\n",
              "    .dataframe thead th {\n",
              "        text-align: right;\n",
              "    }\n",
              "</style>\n",
              "<table border=\"1\" class=\"dataframe\">\n",
              "  <thead>\n",
              "    <tr style=\"text-align: right;\">\n",
              "      <th></th>\n",
              "      <th>Temperature</th>\n",
              "      <th>deviation</th>\n",
              "      <th>City</th>\n",
              "      <th>Country</th>\n",
              "      <th>Latitude</th>\n",
              "      <th>Longitude</th>\n",
              "      <th>year</th>\n",
              "      <th>month</th>\n",
              "      <th>quarter</th>\n",
              "      <th>Country_India</th>\n",
              "      <th>Country_Brazil</th>\n",
              "      <th>Country_Turkey</th>\n",
              "      <th>Country_United States</th>\n",
              "      <th>Country_Egypt</th>\n",
              "      <th>Country_Pakistan</th>\n",
              "      <th>Country_Russia</th>\n",
              "      <th>Country_Canada</th>\n",
              "      <th>Country_Nigeria</th>\n",
              "      <th>Country_Australia</th>\n",
              "      <th>Country_Japan</th>\n",
              "      <th>Country_Colombia</th>\n",
              "      <th>Country_Saudi Arabia</th>\n",
              "      <th>Country_Indonesia</th>\n",
              "      <th>Country_South Africa</th>\n",
              "      <th>Country_Germany</th>\n",
              "      <th>Country_France</th>\n",
              "      <th>Country_United Kingdom</th>\n",
              "      <th>Country_Spain</th>\n",
              "      <th>Country_Ukraine</th>\n",
              "      <th>Country_Italy</th>\n",
              "      <th>Country_Morocco</th>\n",
              "      <th>Country_Burma</th>\n",
              "      <th>Country_Bangladesh</th>\n",
              "      <th>City_Moscow</th>\n",
              "      <th>City_Istanbul</th>\n",
              "      <th>City_Berlin</th>\n",
              "      <th>City_Madrid</th>\n",
              "      <th>City_Saint Petersburg</th>\n",
              "      <th>City_Kiev</th>\n",
              "      <th>City_Rome</th>\n",
              "      <th>...</th>\n",
              "      <th>City_Toronto</th>\n",
              "      <th>City_Chicago</th>\n",
              "      <th>City_Izmir</th>\n",
              "      <th>City_New York</th>\n",
              "      <th>City_Ankara</th>\n",
              "      <th>City_Casablanca</th>\n",
              "      <th>City_Alexandria</th>\n",
              "      <th>City_Rangoon</th>\n",
              "      <th>City_Calcutta</th>\n",
              "      <th>City_Dhaka</th>\n",
              "      <th>City_Surat</th>\n",
              "      <th>City_Nagpur</th>\n",
              "      <th>City_Madras</th>\n",
              "      <th>City_Pune</th>\n",
              "      <th>City_Bombay</th>\n",
              "      <th>City_Bangalore</th>\n",
              "      <th>City_Hyderabad</th>\n",
              "      <th>City_Aleppo</th>\n",
              "      <th>City_Kanpur</th>\n",
              "      <th>City_Lakhnau</th>\n",
              "      <th>City_Ahmadabad</th>\n",
              "      <th>City_Gizeh</th>\n",
              "      <th>City_Cairo</th>\n",
              "      <th>City_Jaipur</th>\n",
              "      <th>City_Delhi</th>\n",
              "      <th>City_New Delhi</th>\n",
              "      <th>City_Karachi</th>\n",
              "      <th>City_Baghdad</th>\n",
              "      <th>City_Harbin</th>\n",
              "      <th>City_Changchun</th>\n",
              "      <th>City_Taiyuan</th>\n",
              "      <th>City_Tianjin</th>\n",
              "      <th>City_Peking</th>\n",
              "      <th>City_Tangshan</th>\n",
              "      <th>City_Bangkok</th>\n",
              "      <th>City_Santo Domingo</th>\n",
              "      <th>City_Shenyang</th>\n",
              "      <th>City_Chengdu</th>\n",
              "      <th>City_Mashhad</th>\n",
              "      <th>City_Mexico</th>\n",
              "    </tr>\n",
              "  </thead>\n",
              "  <tbody>\n",
              "    <tr>\n",
              "      <th>0</th>\n",
              "      <td>26.704</td>\n",
              "      <td>1.435</td>\n",
              "      <td>Abidjan</td>\n",
              "      <td>Côte D'Ivoire</td>\n",
              "      <td>5.63N</td>\n",
              "      <td>3.23W</td>\n",
              "      <td>1849</td>\n",
              "      <td>1</td>\n",
              "      <td>1</td>\n",
              "      <td>0</td>\n",
              "      <td>0</td>\n",
              "      <td>0</td>\n",
              "      <td>0</td>\n",
              "      <td>0</td>\n",
              "      <td>0</td>\n",
              "      <td>0</td>\n",
              "      <td>0</td>\n",
              "      <td>0</td>\n",
              "      <td>0</td>\n",
              "      <td>0</td>\n",
              "      <td>0</td>\n",
              "      <td>0</td>\n",
              "      <td>0</td>\n",
              "      <td>0</td>\n",
              "      <td>0</td>\n",
              "      <td>0</td>\n",
              "      <td>0</td>\n",
              "      <td>0</td>\n",
              "      <td>0</td>\n",
              "      <td>0</td>\n",
              "      <td>0</td>\n",
              "      <td>0</td>\n",
              "      <td>0</td>\n",
              "      <td>0</td>\n",
              "      <td>0</td>\n",
              "      <td>0</td>\n",
              "      <td>0</td>\n",
              "      <td>0</td>\n",
              "      <td>0</td>\n",
              "      <td>0</td>\n",
              "      <td>...</td>\n",
              "      <td>0</td>\n",
              "      <td>0</td>\n",
              "      <td>0</td>\n",
              "      <td>0</td>\n",
              "      <td>0</td>\n",
              "      <td>0</td>\n",
              "      <td>0</td>\n",
              "      <td>0</td>\n",
              "      <td>0</td>\n",
              "      <td>0</td>\n",
              "      <td>0</td>\n",
              "      <td>0</td>\n",
              "      <td>0</td>\n",
              "      <td>0</td>\n",
              "      <td>0</td>\n",
              "      <td>0</td>\n",
              "      <td>0</td>\n",
              "      <td>0</td>\n",
              "      <td>0</td>\n",
              "      <td>0</td>\n",
              "      <td>0</td>\n",
              "      <td>0</td>\n",
              "      <td>0</td>\n",
              "      <td>0</td>\n",
              "      <td>0</td>\n",
              "      <td>0</td>\n",
              "      <td>0</td>\n",
              "      <td>0</td>\n",
              "      <td>0</td>\n",
              "      <td>0</td>\n",
              "      <td>0</td>\n",
              "      <td>0</td>\n",
              "      <td>0</td>\n",
              "      <td>0</td>\n",
              "      <td>0</td>\n",
              "      <td>0</td>\n",
              "      <td>0</td>\n",
              "      <td>0</td>\n",
              "      <td>0</td>\n",
              "      <td>0</td>\n",
              "    </tr>\n",
              "    <tr>\n",
              "      <th>1</th>\n",
              "      <td>27.434</td>\n",
              "      <td>1.362</td>\n",
              "      <td>Abidjan</td>\n",
              "      <td>Côte D'Ivoire</td>\n",
              "      <td>5.63N</td>\n",
              "      <td>3.23W</td>\n",
              "      <td>1849</td>\n",
              "      <td>2</td>\n",
              "      <td>1</td>\n",
              "      <td>0</td>\n",
              "      <td>0</td>\n",
              "      <td>0</td>\n",
              "      <td>0</td>\n",
              "      <td>0</td>\n",
              "      <td>0</td>\n",
              "      <td>0</td>\n",
              "      <td>0</td>\n",
              "      <td>0</td>\n",
              "      <td>0</td>\n",
              "      <td>0</td>\n",
              "      <td>0</td>\n",
              "      <td>0</td>\n",
              "      <td>0</td>\n",
              "      <td>0</td>\n",
              "      <td>0</td>\n",
              "      <td>0</td>\n",
              "      <td>0</td>\n",
              "      <td>0</td>\n",
              "      <td>0</td>\n",
              "      <td>0</td>\n",
              "      <td>0</td>\n",
              "      <td>0</td>\n",
              "      <td>0</td>\n",
              "      <td>0</td>\n",
              "      <td>0</td>\n",
              "      <td>0</td>\n",
              "      <td>0</td>\n",
              "      <td>0</td>\n",
              "      <td>0</td>\n",
              "      <td>0</td>\n",
              "      <td>...</td>\n",
              "      <td>0</td>\n",
              "      <td>0</td>\n",
              "      <td>0</td>\n",
              "      <td>0</td>\n",
              "      <td>0</td>\n",
              "      <td>0</td>\n",
              "      <td>0</td>\n",
              "      <td>0</td>\n",
              "      <td>0</td>\n",
              "      <td>0</td>\n",
              "      <td>0</td>\n",
              "      <td>0</td>\n",
              "      <td>0</td>\n",
              "      <td>0</td>\n",
              "      <td>0</td>\n",
              "      <td>0</td>\n",
              "      <td>0</td>\n",
              "      <td>0</td>\n",
              "      <td>0</td>\n",
              "      <td>0</td>\n",
              "      <td>0</td>\n",
              "      <td>0</td>\n",
              "      <td>0</td>\n",
              "      <td>0</td>\n",
              "      <td>0</td>\n",
              "      <td>0</td>\n",
              "      <td>0</td>\n",
              "      <td>0</td>\n",
              "      <td>0</td>\n",
              "      <td>0</td>\n",
              "      <td>0</td>\n",
              "      <td>0</td>\n",
              "      <td>0</td>\n",
              "      <td>0</td>\n",
              "      <td>0</td>\n",
              "      <td>0</td>\n",
              "      <td>0</td>\n",
              "      <td>0</td>\n",
              "      <td>0</td>\n",
              "      <td>0</td>\n",
              "    </tr>\n",
              "    <tr>\n",
              "      <th>2</th>\n",
              "      <td>28.101</td>\n",
              "      <td>1.612</td>\n",
              "      <td>Abidjan</td>\n",
              "      <td>Côte D'Ivoire</td>\n",
              "      <td>5.63N</td>\n",
              "      <td>3.23W</td>\n",
              "      <td>1849</td>\n",
              "      <td>3</td>\n",
              "      <td>1</td>\n",
              "      <td>0</td>\n",
              "      <td>0</td>\n",
              "      <td>0</td>\n",
              "      <td>0</td>\n",
              "      <td>0</td>\n",
              "      <td>0</td>\n",
              "      <td>0</td>\n",
              "      <td>0</td>\n",
              "      <td>0</td>\n",
              "      <td>0</td>\n",
              "      <td>0</td>\n",
              "      <td>0</td>\n",
              "      <td>0</td>\n",
              "      <td>0</td>\n",
              "      <td>0</td>\n",
              "      <td>0</td>\n",
              "      <td>0</td>\n",
              "      <td>0</td>\n",
              "      <td>0</td>\n",
              "      <td>0</td>\n",
              "      <td>0</td>\n",
              "      <td>0</td>\n",
              "      <td>0</td>\n",
              "      <td>0</td>\n",
              "      <td>0</td>\n",
              "      <td>0</td>\n",
              "      <td>0</td>\n",
              "      <td>0</td>\n",
              "      <td>0</td>\n",
              "      <td>0</td>\n",
              "      <td>0</td>\n",
              "      <td>...</td>\n",
              "      <td>0</td>\n",
              "      <td>0</td>\n",
              "      <td>0</td>\n",
              "      <td>0</td>\n",
              "      <td>0</td>\n",
              "      <td>0</td>\n",
              "      <td>0</td>\n",
              "      <td>0</td>\n",
              "      <td>0</td>\n",
              "      <td>0</td>\n",
              "      <td>0</td>\n",
              "      <td>0</td>\n",
              "      <td>0</td>\n",
              "      <td>0</td>\n",
              "      <td>0</td>\n",
              "      <td>0</td>\n",
              "      <td>0</td>\n",
              "      <td>0</td>\n",
              "      <td>0</td>\n",
              "      <td>0</td>\n",
              "      <td>0</td>\n",
              "      <td>0</td>\n",
              "      <td>0</td>\n",
              "      <td>0</td>\n",
              "      <td>0</td>\n",
              "      <td>0</td>\n",
              "      <td>0</td>\n",
              "      <td>0</td>\n",
              "      <td>0</td>\n",
              "      <td>0</td>\n",
              "      <td>0</td>\n",
              "      <td>0</td>\n",
              "      <td>0</td>\n",
              "      <td>0</td>\n",
              "      <td>0</td>\n",
              "      <td>0</td>\n",
              "      <td>0</td>\n",
              "      <td>0</td>\n",
              "      <td>0</td>\n",
              "      <td>0</td>\n",
              "    </tr>\n",
              "    <tr>\n",
              "      <th>3</th>\n",
              "      <td>26.140</td>\n",
              "      <td>1.387</td>\n",
              "      <td>Abidjan</td>\n",
              "      <td>Côte D'Ivoire</td>\n",
              "      <td>5.63N</td>\n",
              "      <td>3.23W</td>\n",
              "      <td>1849</td>\n",
              "      <td>4</td>\n",
              "      <td>2</td>\n",
              "      <td>0</td>\n",
              "      <td>0</td>\n",
              "      <td>0</td>\n",
              "      <td>0</td>\n",
              "      <td>0</td>\n",
              "      <td>0</td>\n",
              "      <td>0</td>\n",
              "      <td>0</td>\n",
              "      <td>0</td>\n",
              "      <td>0</td>\n",
              "      <td>0</td>\n",
              "      <td>0</td>\n",
              "      <td>0</td>\n",
              "      <td>0</td>\n",
              "      <td>0</td>\n",
              "      <td>0</td>\n",
              "      <td>0</td>\n",
              "      <td>0</td>\n",
              "      <td>0</td>\n",
              "      <td>0</td>\n",
              "      <td>0</td>\n",
              "      <td>0</td>\n",
              "      <td>0</td>\n",
              "      <td>0</td>\n",
              "      <td>0</td>\n",
              "      <td>0</td>\n",
              "      <td>0</td>\n",
              "      <td>0</td>\n",
              "      <td>0</td>\n",
              "      <td>0</td>\n",
              "      <td>0</td>\n",
              "      <td>...</td>\n",
              "      <td>0</td>\n",
              "      <td>0</td>\n",
              "      <td>0</td>\n",
              "      <td>0</td>\n",
              "      <td>0</td>\n",
              "      <td>0</td>\n",
              "      <td>0</td>\n",
              "      <td>0</td>\n",
              "      <td>0</td>\n",
              "      <td>0</td>\n",
              "      <td>0</td>\n",
              "      <td>0</td>\n",
              "      <td>0</td>\n",
              "      <td>0</td>\n",
              "      <td>0</td>\n",
              "      <td>0</td>\n",
              "      <td>0</td>\n",
              "      <td>0</td>\n",
              "      <td>0</td>\n",
              "      <td>0</td>\n",
              "      <td>0</td>\n",
              "      <td>0</td>\n",
              "      <td>0</td>\n",
              "      <td>0</td>\n",
              "      <td>0</td>\n",
              "      <td>0</td>\n",
              "      <td>0</td>\n",
              "      <td>0</td>\n",
              "      <td>0</td>\n",
              "      <td>0</td>\n",
              "      <td>0</td>\n",
              "      <td>0</td>\n",
              "      <td>0</td>\n",
              "      <td>0</td>\n",
              "      <td>0</td>\n",
              "      <td>0</td>\n",
              "      <td>0</td>\n",
              "      <td>0</td>\n",
              "      <td>0</td>\n",
              "      <td>0</td>\n",
              "    </tr>\n",
              "    <tr>\n",
              "      <th>4</th>\n",
              "      <td>25.427</td>\n",
              "      <td>1.200</td>\n",
              "      <td>Abidjan</td>\n",
              "      <td>Côte D'Ivoire</td>\n",
              "      <td>5.63N</td>\n",
              "      <td>3.23W</td>\n",
              "      <td>1849</td>\n",
              "      <td>5</td>\n",
              "      <td>2</td>\n",
              "      <td>0</td>\n",
              "      <td>0</td>\n",
              "      <td>0</td>\n",
              "      <td>0</td>\n",
              "      <td>0</td>\n",
              "      <td>0</td>\n",
              "      <td>0</td>\n",
              "      <td>0</td>\n",
              "      <td>0</td>\n",
              "      <td>0</td>\n",
              "      <td>0</td>\n",
              "      <td>0</td>\n",
              "      <td>0</td>\n",
              "      <td>0</td>\n",
              "      <td>0</td>\n",
              "      <td>0</td>\n",
              "      <td>0</td>\n",
              "      <td>0</td>\n",
              "      <td>0</td>\n",
              "      <td>0</td>\n",
              "      <td>0</td>\n",
              "      <td>0</td>\n",
              "      <td>0</td>\n",
              "      <td>0</td>\n",
              "      <td>0</td>\n",
              "      <td>0</td>\n",
              "      <td>0</td>\n",
              "      <td>0</td>\n",
              "      <td>0</td>\n",
              "      <td>0</td>\n",
              "      <td>0</td>\n",
              "      <td>...</td>\n",
              "      <td>0</td>\n",
              "      <td>0</td>\n",
              "      <td>0</td>\n",
              "      <td>0</td>\n",
              "      <td>0</td>\n",
              "      <td>0</td>\n",
              "      <td>0</td>\n",
              "      <td>0</td>\n",
              "      <td>0</td>\n",
              "      <td>0</td>\n",
              "      <td>0</td>\n",
              "      <td>0</td>\n",
              "      <td>0</td>\n",
              "      <td>0</td>\n",
              "      <td>0</td>\n",
              "      <td>0</td>\n",
              "      <td>0</td>\n",
              "      <td>0</td>\n",
              "      <td>0</td>\n",
              "      <td>0</td>\n",
              "      <td>0</td>\n",
              "      <td>0</td>\n",
              "      <td>0</td>\n",
              "      <td>0</td>\n",
              "      <td>0</td>\n",
              "      <td>0</td>\n",
              "      <td>0</td>\n",
              "      <td>0</td>\n",
              "      <td>0</td>\n",
              "      <td>0</td>\n",
              "      <td>0</td>\n",
              "      <td>0</td>\n",
              "      <td>0</td>\n",
              "      <td>0</td>\n",
              "      <td>0</td>\n",
              "      <td>0</td>\n",
              "      <td>0</td>\n",
              "      <td>0</td>\n",
              "      <td>0</td>\n",
              "      <td>0</td>\n",
              "    </tr>\n",
              "  </tbody>\n",
              "</table>\n",
              "<p>5 rows × 83 columns</p>\n",
              "</div>"
            ],
            "text/plain": [
              "   Temperature  deviation     City  ... City_Chengdu City_Mashhad City_Mexico\n",
              "0       26.704      1.435  Abidjan  ...            0            0           0\n",
              "1       27.434      1.362  Abidjan  ...            0            0           0\n",
              "2       28.101      1.612  Abidjan  ...            0            0           0\n",
              "3       26.140      1.387  Abidjan  ...            0            0           0\n",
              "4       25.427      1.200  Abidjan  ...            0            0           0\n",
              "\n",
              "[5 rows x 83 columns]"
            ]
          },
          "metadata": {
            "tags": []
          },
          "execution_count": 318
        }
      ]
    },
    {
      "cell_type": "code",
      "metadata": {
        "id": "N8gzuN6YGQw3"
      },
      "source": [
        "Country_encoded=pd.get_dummies(df['Country'],drop_first=True)"
      ],
      "execution_count": null,
      "outputs": []
    },
    {
      "cell_type": "code",
      "metadata": {
        "colab": {
          "base_uri": "https://localhost:8080/",
          "height": 490
        },
        "id": "5XcsdXDjGiIj",
        "outputId": "7fe0196f-28ad-43e3-a571-7dcf3b87477e"
      },
      "source": [
        "Country_encoded"
      ],
      "execution_count": null,
      "outputs": [
        {
          "output_type": "execute_result",
          "data": {
            "text/html": [
              "<div>\n",
              "<style scoped>\n",
              "    .dataframe tbody tr th:only-of-type {\n",
              "        vertical-align: middle;\n",
              "    }\n",
              "\n",
              "    .dataframe tbody tr th {\n",
              "        vertical-align: top;\n",
              "    }\n",
              "\n",
              "    .dataframe thead th {\n",
              "        text-align: right;\n",
              "    }\n",
              "</style>\n",
              "<table border=\"1\" class=\"dataframe\">\n",
              "  <thead>\n",
              "    <tr style=\"text-align: right;\">\n",
              "      <th></th>\n",
              "      <th>Angola</th>\n",
              "      <th>Australia</th>\n",
              "      <th>Bangladesh</th>\n",
              "      <th>Brazil</th>\n",
              "      <th>Burma</th>\n",
              "      <th>Canada</th>\n",
              "      <th>Chile</th>\n",
              "      <th>China</th>\n",
              "      <th>Colombia</th>\n",
              "      <th>Congo (Democratic Republic Of The)</th>\n",
              "      <th>Côte D'Ivoire</th>\n",
              "      <th>Dominican Republic</th>\n",
              "      <th>Egypt</th>\n",
              "      <th>Ethiopia</th>\n",
              "      <th>France</th>\n",
              "      <th>Germany</th>\n",
              "      <th>India</th>\n",
              "      <th>Indonesia</th>\n",
              "      <th>Iran</th>\n",
              "      <th>Iraq</th>\n",
              "      <th>Italy</th>\n",
              "      <th>Japan</th>\n",
              "      <th>Kenya</th>\n",
              "      <th>Mexico</th>\n",
              "      <th>Morocco</th>\n",
              "      <th>Nigeria</th>\n",
              "      <th>Pakistan</th>\n",
              "      <th>Peru</th>\n",
              "      <th>Philippines</th>\n",
              "      <th>Russia</th>\n",
              "      <th>Saudi Arabia</th>\n",
              "      <th>Senegal</th>\n",
              "      <th>Singapore</th>\n",
              "      <th>Somalia</th>\n",
              "      <th>South Africa</th>\n",
              "      <th>South Korea</th>\n",
              "      <th>Spain</th>\n",
              "      <th>Sudan</th>\n",
              "      <th>Syria</th>\n",
              "      <th>Taiwan</th>\n",
              "      <th>Tanzania</th>\n",
              "      <th>Thailand</th>\n",
              "      <th>Turkey</th>\n",
              "      <th>Ukraine</th>\n",
              "      <th>United Kingdom</th>\n",
              "      <th>United States</th>\n",
              "      <th>Vietnam</th>\n",
              "      <th>Zimbabwe</th>\n",
              "    </tr>\n",
              "  </thead>\n",
              "  <tbody>\n",
              "    <tr>\n",
              "      <th>0</th>\n",
              "      <td>0</td>\n",
              "      <td>0</td>\n",
              "      <td>0</td>\n",
              "      <td>0</td>\n",
              "      <td>0</td>\n",
              "      <td>0</td>\n",
              "      <td>0</td>\n",
              "      <td>0</td>\n",
              "      <td>0</td>\n",
              "      <td>0</td>\n",
              "      <td>1</td>\n",
              "      <td>0</td>\n",
              "      <td>0</td>\n",
              "      <td>0</td>\n",
              "      <td>0</td>\n",
              "      <td>0</td>\n",
              "      <td>0</td>\n",
              "      <td>0</td>\n",
              "      <td>0</td>\n",
              "      <td>0</td>\n",
              "      <td>0</td>\n",
              "      <td>0</td>\n",
              "      <td>0</td>\n",
              "      <td>0</td>\n",
              "      <td>0</td>\n",
              "      <td>0</td>\n",
              "      <td>0</td>\n",
              "      <td>0</td>\n",
              "      <td>0</td>\n",
              "      <td>0</td>\n",
              "      <td>0</td>\n",
              "      <td>0</td>\n",
              "      <td>0</td>\n",
              "      <td>0</td>\n",
              "      <td>0</td>\n",
              "      <td>0</td>\n",
              "      <td>0</td>\n",
              "      <td>0</td>\n",
              "      <td>0</td>\n",
              "      <td>0</td>\n",
              "      <td>0</td>\n",
              "      <td>0</td>\n",
              "      <td>0</td>\n",
              "      <td>0</td>\n",
              "      <td>0</td>\n",
              "      <td>0</td>\n",
              "      <td>0</td>\n",
              "      <td>0</td>\n",
              "    </tr>\n",
              "    <tr>\n",
              "      <th>1</th>\n",
              "      <td>0</td>\n",
              "      <td>0</td>\n",
              "      <td>0</td>\n",
              "      <td>0</td>\n",
              "      <td>0</td>\n",
              "      <td>0</td>\n",
              "      <td>0</td>\n",
              "      <td>0</td>\n",
              "      <td>0</td>\n",
              "      <td>0</td>\n",
              "      <td>1</td>\n",
              "      <td>0</td>\n",
              "      <td>0</td>\n",
              "      <td>0</td>\n",
              "      <td>0</td>\n",
              "      <td>0</td>\n",
              "      <td>0</td>\n",
              "      <td>0</td>\n",
              "      <td>0</td>\n",
              "      <td>0</td>\n",
              "      <td>0</td>\n",
              "      <td>0</td>\n",
              "      <td>0</td>\n",
              "      <td>0</td>\n",
              "      <td>0</td>\n",
              "      <td>0</td>\n",
              "      <td>0</td>\n",
              "      <td>0</td>\n",
              "      <td>0</td>\n",
              "      <td>0</td>\n",
              "      <td>0</td>\n",
              "      <td>0</td>\n",
              "      <td>0</td>\n",
              "      <td>0</td>\n",
              "      <td>0</td>\n",
              "      <td>0</td>\n",
              "      <td>0</td>\n",
              "      <td>0</td>\n",
              "      <td>0</td>\n",
              "      <td>0</td>\n",
              "      <td>0</td>\n",
              "      <td>0</td>\n",
              "      <td>0</td>\n",
              "      <td>0</td>\n",
              "      <td>0</td>\n",
              "      <td>0</td>\n",
              "      <td>0</td>\n",
              "      <td>0</td>\n",
              "    </tr>\n",
              "    <tr>\n",
              "      <th>2</th>\n",
              "      <td>0</td>\n",
              "      <td>0</td>\n",
              "      <td>0</td>\n",
              "      <td>0</td>\n",
              "      <td>0</td>\n",
              "      <td>0</td>\n",
              "      <td>0</td>\n",
              "      <td>0</td>\n",
              "      <td>0</td>\n",
              "      <td>0</td>\n",
              "      <td>1</td>\n",
              "      <td>0</td>\n",
              "      <td>0</td>\n",
              "      <td>0</td>\n",
              "      <td>0</td>\n",
              "      <td>0</td>\n",
              "      <td>0</td>\n",
              "      <td>0</td>\n",
              "      <td>0</td>\n",
              "      <td>0</td>\n",
              "      <td>0</td>\n",
              "      <td>0</td>\n",
              "      <td>0</td>\n",
              "      <td>0</td>\n",
              "      <td>0</td>\n",
              "      <td>0</td>\n",
              "      <td>0</td>\n",
              "      <td>0</td>\n",
              "      <td>0</td>\n",
              "      <td>0</td>\n",
              "      <td>0</td>\n",
              "      <td>0</td>\n",
              "      <td>0</td>\n",
              "      <td>0</td>\n",
              "      <td>0</td>\n",
              "      <td>0</td>\n",
              "      <td>0</td>\n",
              "      <td>0</td>\n",
              "      <td>0</td>\n",
              "      <td>0</td>\n",
              "      <td>0</td>\n",
              "      <td>0</td>\n",
              "      <td>0</td>\n",
              "      <td>0</td>\n",
              "      <td>0</td>\n",
              "      <td>0</td>\n",
              "      <td>0</td>\n",
              "      <td>0</td>\n",
              "    </tr>\n",
              "    <tr>\n",
              "      <th>3</th>\n",
              "      <td>0</td>\n",
              "      <td>0</td>\n",
              "      <td>0</td>\n",
              "      <td>0</td>\n",
              "      <td>0</td>\n",
              "      <td>0</td>\n",
              "      <td>0</td>\n",
              "      <td>0</td>\n",
              "      <td>0</td>\n",
              "      <td>0</td>\n",
              "      <td>1</td>\n",
              "      <td>0</td>\n",
              "      <td>0</td>\n",
              "      <td>0</td>\n",
              "      <td>0</td>\n",
              "      <td>0</td>\n",
              "      <td>0</td>\n",
              "      <td>0</td>\n",
              "      <td>0</td>\n",
              "      <td>0</td>\n",
              "      <td>0</td>\n",
              "      <td>0</td>\n",
              "      <td>0</td>\n",
              "      <td>0</td>\n",
              "      <td>0</td>\n",
              "      <td>0</td>\n",
              "      <td>0</td>\n",
              "      <td>0</td>\n",
              "      <td>0</td>\n",
              "      <td>0</td>\n",
              "      <td>0</td>\n",
              "      <td>0</td>\n",
              "      <td>0</td>\n",
              "      <td>0</td>\n",
              "      <td>0</td>\n",
              "      <td>0</td>\n",
              "      <td>0</td>\n",
              "      <td>0</td>\n",
              "      <td>0</td>\n",
              "      <td>0</td>\n",
              "      <td>0</td>\n",
              "      <td>0</td>\n",
              "      <td>0</td>\n",
              "      <td>0</td>\n",
              "      <td>0</td>\n",
              "      <td>0</td>\n",
              "      <td>0</td>\n",
              "      <td>0</td>\n",
              "    </tr>\n",
              "    <tr>\n",
              "      <th>4</th>\n",
              "      <td>0</td>\n",
              "      <td>0</td>\n",
              "      <td>0</td>\n",
              "      <td>0</td>\n",
              "      <td>0</td>\n",
              "      <td>0</td>\n",
              "      <td>0</td>\n",
              "      <td>0</td>\n",
              "      <td>0</td>\n",
              "      <td>0</td>\n",
              "      <td>1</td>\n",
              "      <td>0</td>\n",
              "      <td>0</td>\n",
              "      <td>0</td>\n",
              "      <td>0</td>\n",
              "      <td>0</td>\n",
              "      <td>0</td>\n",
              "      <td>0</td>\n",
              "      <td>0</td>\n",
              "      <td>0</td>\n",
              "      <td>0</td>\n",
              "      <td>0</td>\n",
              "      <td>0</td>\n",
              "      <td>0</td>\n",
              "      <td>0</td>\n",
              "      <td>0</td>\n",
              "      <td>0</td>\n",
              "      <td>0</td>\n",
              "      <td>0</td>\n",
              "      <td>0</td>\n",
              "      <td>0</td>\n",
              "      <td>0</td>\n",
              "      <td>0</td>\n",
              "      <td>0</td>\n",
              "      <td>0</td>\n",
              "      <td>0</td>\n",
              "      <td>0</td>\n",
              "      <td>0</td>\n",
              "      <td>0</td>\n",
              "      <td>0</td>\n",
              "      <td>0</td>\n",
              "      <td>0</td>\n",
              "      <td>0</td>\n",
              "      <td>0</td>\n",
              "      <td>0</td>\n",
              "      <td>0</td>\n",
              "      <td>0</td>\n",
              "      <td>0</td>\n",
              "    </tr>\n",
              "    <tr>\n",
              "      <th>...</th>\n",
              "      <td>...</td>\n",
              "      <td>...</td>\n",
              "      <td>...</td>\n",
              "      <td>...</td>\n",
              "      <td>...</td>\n",
              "      <td>...</td>\n",
              "      <td>...</td>\n",
              "      <td>...</td>\n",
              "      <td>...</td>\n",
              "      <td>...</td>\n",
              "      <td>...</td>\n",
              "      <td>...</td>\n",
              "      <td>...</td>\n",
              "      <td>...</td>\n",
              "      <td>...</td>\n",
              "      <td>...</td>\n",
              "      <td>...</td>\n",
              "      <td>...</td>\n",
              "      <td>...</td>\n",
              "      <td>...</td>\n",
              "      <td>...</td>\n",
              "      <td>...</td>\n",
              "      <td>...</td>\n",
              "      <td>...</td>\n",
              "      <td>...</td>\n",
              "      <td>...</td>\n",
              "      <td>...</td>\n",
              "      <td>...</td>\n",
              "      <td>...</td>\n",
              "      <td>...</td>\n",
              "      <td>...</td>\n",
              "      <td>...</td>\n",
              "      <td>...</td>\n",
              "      <td>...</td>\n",
              "      <td>...</td>\n",
              "      <td>...</td>\n",
              "      <td>...</td>\n",
              "      <td>...</td>\n",
              "      <td>...</td>\n",
              "      <td>...</td>\n",
              "      <td>...</td>\n",
              "      <td>...</td>\n",
              "      <td>...</td>\n",
              "      <td>...</td>\n",
              "      <td>...</td>\n",
              "      <td>...</td>\n",
              "      <td>...</td>\n",
              "      <td>...</td>\n",
              "    </tr>\n",
              "    <tr>\n",
              "      <th>239171</th>\n",
              "      <td>0</td>\n",
              "      <td>0</td>\n",
              "      <td>0</td>\n",
              "      <td>0</td>\n",
              "      <td>0</td>\n",
              "      <td>0</td>\n",
              "      <td>0</td>\n",
              "      <td>1</td>\n",
              "      <td>0</td>\n",
              "      <td>0</td>\n",
              "      <td>0</td>\n",
              "      <td>0</td>\n",
              "      <td>0</td>\n",
              "      <td>0</td>\n",
              "      <td>0</td>\n",
              "      <td>0</td>\n",
              "      <td>0</td>\n",
              "      <td>0</td>\n",
              "      <td>0</td>\n",
              "      <td>0</td>\n",
              "      <td>0</td>\n",
              "      <td>0</td>\n",
              "      <td>0</td>\n",
              "      <td>0</td>\n",
              "      <td>0</td>\n",
              "      <td>0</td>\n",
              "      <td>0</td>\n",
              "      <td>0</td>\n",
              "      <td>0</td>\n",
              "      <td>0</td>\n",
              "      <td>0</td>\n",
              "      <td>0</td>\n",
              "      <td>0</td>\n",
              "      <td>0</td>\n",
              "      <td>0</td>\n",
              "      <td>0</td>\n",
              "      <td>0</td>\n",
              "      <td>0</td>\n",
              "      <td>0</td>\n",
              "      <td>0</td>\n",
              "      <td>0</td>\n",
              "      <td>0</td>\n",
              "      <td>0</td>\n",
              "      <td>0</td>\n",
              "      <td>0</td>\n",
              "      <td>0</td>\n",
              "      <td>0</td>\n",
              "      <td>0</td>\n",
              "    </tr>\n",
              "    <tr>\n",
              "      <th>239172</th>\n",
              "      <td>0</td>\n",
              "      <td>0</td>\n",
              "      <td>0</td>\n",
              "      <td>0</td>\n",
              "      <td>0</td>\n",
              "      <td>0</td>\n",
              "      <td>0</td>\n",
              "      <td>1</td>\n",
              "      <td>0</td>\n",
              "      <td>0</td>\n",
              "      <td>0</td>\n",
              "      <td>0</td>\n",
              "      <td>0</td>\n",
              "      <td>0</td>\n",
              "      <td>0</td>\n",
              "      <td>0</td>\n",
              "      <td>0</td>\n",
              "      <td>0</td>\n",
              "      <td>0</td>\n",
              "      <td>0</td>\n",
              "      <td>0</td>\n",
              "      <td>0</td>\n",
              "      <td>0</td>\n",
              "      <td>0</td>\n",
              "      <td>0</td>\n",
              "      <td>0</td>\n",
              "      <td>0</td>\n",
              "      <td>0</td>\n",
              "      <td>0</td>\n",
              "      <td>0</td>\n",
              "      <td>0</td>\n",
              "      <td>0</td>\n",
              "      <td>0</td>\n",
              "      <td>0</td>\n",
              "      <td>0</td>\n",
              "      <td>0</td>\n",
              "      <td>0</td>\n",
              "      <td>0</td>\n",
              "      <td>0</td>\n",
              "      <td>0</td>\n",
              "      <td>0</td>\n",
              "      <td>0</td>\n",
              "      <td>0</td>\n",
              "      <td>0</td>\n",
              "      <td>0</td>\n",
              "      <td>0</td>\n",
              "      <td>0</td>\n",
              "      <td>0</td>\n",
              "    </tr>\n",
              "    <tr>\n",
              "      <th>239173</th>\n",
              "      <td>0</td>\n",
              "      <td>0</td>\n",
              "      <td>0</td>\n",
              "      <td>0</td>\n",
              "      <td>0</td>\n",
              "      <td>0</td>\n",
              "      <td>0</td>\n",
              "      <td>1</td>\n",
              "      <td>0</td>\n",
              "      <td>0</td>\n",
              "      <td>0</td>\n",
              "      <td>0</td>\n",
              "      <td>0</td>\n",
              "      <td>0</td>\n",
              "      <td>0</td>\n",
              "      <td>0</td>\n",
              "      <td>0</td>\n",
              "      <td>0</td>\n",
              "      <td>0</td>\n",
              "      <td>0</td>\n",
              "      <td>0</td>\n",
              "      <td>0</td>\n",
              "      <td>0</td>\n",
              "      <td>0</td>\n",
              "      <td>0</td>\n",
              "      <td>0</td>\n",
              "      <td>0</td>\n",
              "      <td>0</td>\n",
              "      <td>0</td>\n",
              "      <td>0</td>\n",
              "      <td>0</td>\n",
              "      <td>0</td>\n",
              "      <td>0</td>\n",
              "      <td>0</td>\n",
              "      <td>0</td>\n",
              "      <td>0</td>\n",
              "      <td>0</td>\n",
              "      <td>0</td>\n",
              "      <td>0</td>\n",
              "      <td>0</td>\n",
              "      <td>0</td>\n",
              "      <td>0</td>\n",
              "      <td>0</td>\n",
              "      <td>0</td>\n",
              "      <td>0</td>\n",
              "      <td>0</td>\n",
              "      <td>0</td>\n",
              "      <td>0</td>\n",
              "    </tr>\n",
              "    <tr>\n",
              "      <th>239174</th>\n",
              "      <td>0</td>\n",
              "      <td>0</td>\n",
              "      <td>0</td>\n",
              "      <td>0</td>\n",
              "      <td>0</td>\n",
              "      <td>0</td>\n",
              "      <td>0</td>\n",
              "      <td>1</td>\n",
              "      <td>0</td>\n",
              "      <td>0</td>\n",
              "      <td>0</td>\n",
              "      <td>0</td>\n",
              "      <td>0</td>\n",
              "      <td>0</td>\n",
              "      <td>0</td>\n",
              "      <td>0</td>\n",
              "      <td>0</td>\n",
              "      <td>0</td>\n",
              "      <td>0</td>\n",
              "      <td>0</td>\n",
              "      <td>0</td>\n",
              "      <td>0</td>\n",
              "      <td>0</td>\n",
              "      <td>0</td>\n",
              "      <td>0</td>\n",
              "      <td>0</td>\n",
              "      <td>0</td>\n",
              "      <td>0</td>\n",
              "      <td>0</td>\n",
              "      <td>0</td>\n",
              "      <td>0</td>\n",
              "      <td>0</td>\n",
              "      <td>0</td>\n",
              "      <td>0</td>\n",
              "      <td>0</td>\n",
              "      <td>0</td>\n",
              "      <td>0</td>\n",
              "      <td>0</td>\n",
              "      <td>0</td>\n",
              "      <td>0</td>\n",
              "      <td>0</td>\n",
              "      <td>0</td>\n",
              "      <td>0</td>\n",
              "      <td>0</td>\n",
              "      <td>0</td>\n",
              "      <td>0</td>\n",
              "      <td>0</td>\n",
              "      <td>0</td>\n",
              "    </tr>\n",
              "    <tr>\n",
              "      <th>239175</th>\n",
              "      <td>0</td>\n",
              "      <td>0</td>\n",
              "      <td>0</td>\n",
              "      <td>0</td>\n",
              "      <td>0</td>\n",
              "      <td>0</td>\n",
              "      <td>0</td>\n",
              "      <td>1</td>\n",
              "      <td>0</td>\n",
              "      <td>0</td>\n",
              "      <td>0</td>\n",
              "      <td>0</td>\n",
              "      <td>0</td>\n",
              "      <td>0</td>\n",
              "      <td>0</td>\n",
              "      <td>0</td>\n",
              "      <td>0</td>\n",
              "      <td>0</td>\n",
              "      <td>0</td>\n",
              "      <td>0</td>\n",
              "      <td>0</td>\n",
              "      <td>0</td>\n",
              "      <td>0</td>\n",
              "      <td>0</td>\n",
              "      <td>0</td>\n",
              "      <td>0</td>\n",
              "      <td>0</td>\n",
              "      <td>0</td>\n",
              "      <td>0</td>\n",
              "      <td>0</td>\n",
              "      <td>0</td>\n",
              "      <td>0</td>\n",
              "      <td>0</td>\n",
              "      <td>0</td>\n",
              "      <td>0</td>\n",
              "      <td>0</td>\n",
              "      <td>0</td>\n",
              "      <td>0</td>\n",
              "      <td>0</td>\n",
              "      <td>0</td>\n",
              "      <td>0</td>\n",
              "      <td>0</td>\n",
              "      <td>0</td>\n",
              "      <td>0</td>\n",
              "      <td>0</td>\n",
              "      <td>0</td>\n",
              "      <td>0</td>\n",
              "      <td>0</td>\n",
              "    </tr>\n",
              "  </tbody>\n",
              "</table>\n",
              "<p>228175 rows × 48 columns</p>\n",
              "</div>"
            ],
            "text/plain": [
              "        Angola  Australia  Bangladesh  ...  United States  Vietnam  Zimbabwe\n",
              "0            0          0           0  ...              0        0         0\n",
              "1            0          0           0  ...              0        0         0\n",
              "2            0          0           0  ...              0        0         0\n",
              "3            0          0           0  ...              0        0         0\n",
              "4            0          0           0  ...              0        0         0\n",
              "...        ...        ...         ...  ...            ...      ...       ...\n",
              "239171       0          0           0  ...              0        0         0\n",
              "239172       0          0           0  ...              0        0         0\n",
              "239173       0          0           0  ...              0        0         0\n",
              "239174       0          0           0  ...              0        0         0\n",
              "239175       0          0           0  ...              0        0         0\n",
              "\n",
              "[228175 rows x 48 columns]"
            ]
          },
          "metadata": {
            "tags": []
          },
          "execution_count": 321
        }
      ]
    },
    {
      "cell_type": "code",
      "metadata": {
        "id": "6HRQGYL0GnvX"
      },
      "source": [
        "City_encoded=pd.get_dummies(df['City'],drop_first=True)"
      ],
      "execution_count": null,
      "outputs": []
    },
    {
      "cell_type": "code",
      "metadata": {
        "colab": {
          "base_uri": "https://localhost:8080/",
          "height": 304
        },
        "id": "8yqqbmAiG1BR",
        "outputId": "e0dce9ac-391d-488a-94fa-863428ac301d"
      },
      "source": [
        "City_encoded.head()"
      ],
      "execution_count": null,
      "outputs": [
        {
          "output_type": "execute_result",
          "data": {
            "text/html": [
              "<div>\n",
              "<style scoped>\n",
              "    .dataframe tbody tr th:only-of-type {\n",
              "        vertical-align: middle;\n",
              "    }\n",
              "\n",
              "    .dataframe tbody tr th {\n",
              "        vertical-align: top;\n",
              "    }\n",
              "\n",
              "    .dataframe thead th {\n",
              "        text-align: right;\n",
              "    }\n",
              "</style>\n",
              "<table border=\"1\" class=\"dataframe\">\n",
              "  <thead>\n",
              "    <tr style=\"text-align: right;\">\n",
              "      <th></th>\n",
              "      <th>Addis Abeba</th>\n",
              "      <th>Ahmadabad</th>\n",
              "      <th>Aleppo</th>\n",
              "      <th>Alexandria</th>\n",
              "      <th>Ankara</th>\n",
              "      <th>Baghdad</th>\n",
              "      <th>Bangalore</th>\n",
              "      <th>Bangkok</th>\n",
              "      <th>Belo Horizonte</th>\n",
              "      <th>Berlin</th>\n",
              "      <th>Bogotá</th>\n",
              "      <th>Bombay</th>\n",
              "      <th>Brasília</th>\n",
              "      <th>Cairo</th>\n",
              "      <th>Calcutta</th>\n",
              "      <th>Cali</th>\n",
              "      <th>Cape Town</th>\n",
              "      <th>Casablanca</th>\n",
              "      <th>Changchun</th>\n",
              "      <th>Chengdu</th>\n",
              "      <th>Chicago</th>\n",
              "      <th>Chongqing</th>\n",
              "      <th>Dakar</th>\n",
              "      <th>Dalian</th>\n",
              "      <th>Dar Es Salaam</th>\n",
              "      <th>Delhi</th>\n",
              "      <th>Dhaka</th>\n",
              "      <th>Durban</th>\n",
              "      <th>Faisalabad</th>\n",
              "      <th>Fortaleza</th>\n",
              "      <th>Gizeh</th>\n",
              "      <th>Guangzhou</th>\n",
              "      <th>Harare</th>\n",
              "      <th>Harbin</th>\n",
              "      <th>Ho Chi Minh City</th>\n",
              "      <th>Hyderabad</th>\n",
              "      <th>Ibadan</th>\n",
              "      <th>Istanbul</th>\n",
              "      <th>Izmir</th>\n",
              "      <th>Jaipur</th>\n",
              "      <th>...</th>\n",
              "      <th>Mashhad</th>\n",
              "      <th>Melbourne</th>\n",
              "      <th>Mexico</th>\n",
              "      <th>Mogadishu</th>\n",
              "      <th>Montreal</th>\n",
              "      <th>Moscow</th>\n",
              "      <th>Nagoya</th>\n",
              "      <th>Nagpur</th>\n",
              "      <th>Nairobi</th>\n",
              "      <th>Nanjing</th>\n",
              "      <th>New Delhi</th>\n",
              "      <th>New York</th>\n",
              "      <th>Paris</th>\n",
              "      <th>Peking</th>\n",
              "      <th>Pune</th>\n",
              "      <th>Rangoon</th>\n",
              "      <th>Rio De Janeiro</th>\n",
              "      <th>Riyadh</th>\n",
              "      <th>Rome</th>\n",
              "      <th>Saint Petersburg</th>\n",
              "      <th>Salvador</th>\n",
              "      <th>Santiago</th>\n",
              "      <th>Santo Domingo</th>\n",
              "      <th>Seoul</th>\n",
              "      <th>Shanghai</th>\n",
              "      <th>Shenyang</th>\n",
              "      <th>Singapore</th>\n",
              "      <th>Surabaya</th>\n",
              "      <th>Surat</th>\n",
              "      <th>Sydney</th>\n",
              "      <th>São Paulo</th>\n",
              "      <th>Taipei</th>\n",
              "      <th>Taiyuan</th>\n",
              "      <th>Tangshan</th>\n",
              "      <th>Tianjin</th>\n",
              "      <th>Tokyo</th>\n",
              "      <th>Toronto</th>\n",
              "      <th>Umm Durman</th>\n",
              "      <th>Wuhan</th>\n",
              "      <th>Xian</th>\n",
              "    </tr>\n",
              "  </thead>\n",
              "  <tbody>\n",
              "    <tr>\n",
              "      <th>0</th>\n",
              "      <td>0</td>\n",
              "      <td>0</td>\n",
              "      <td>0</td>\n",
              "      <td>0</td>\n",
              "      <td>0</td>\n",
              "      <td>0</td>\n",
              "      <td>0</td>\n",
              "      <td>0</td>\n",
              "      <td>0</td>\n",
              "      <td>0</td>\n",
              "      <td>0</td>\n",
              "      <td>0</td>\n",
              "      <td>0</td>\n",
              "      <td>0</td>\n",
              "      <td>0</td>\n",
              "      <td>0</td>\n",
              "      <td>0</td>\n",
              "      <td>0</td>\n",
              "      <td>0</td>\n",
              "      <td>0</td>\n",
              "      <td>0</td>\n",
              "      <td>0</td>\n",
              "      <td>0</td>\n",
              "      <td>0</td>\n",
              "      <td>0</td>\n",
              "      <td>0</td>\n",
              "      <td>0</td>\n",
              "      <td>0</td>\n",
              "      <td>0</td>\n",
              "      <td>0</td>\n",
              "      <td>0</td>\n",
              "      <td>0</td>\n",
              "      <td>0</td>\n",
              "      <td>0</td>\n",
              "      <td>0</td>\n",
              "      <td>0</td>\n",
              "      <td>0</td>\n",
              "      <td>0</td>\n",
              "      <td>0</td>\n",
              "      <td>0</td>\n",
              "      <td>...</td>\n",
              "      <td>0</td>\n",
              "      <td>0</td>\n",
              "      <td>0</td>\n",
              "      <td>0</td>\n",
              "      <td>0</td>\n",
              "      <td>0</td>\n",
              "      <td>0</td>\n",
              "      <td>0</td>\n",
              "      <td>0</td>\n",
              "      <td>0</td>\n",
              "      <td>0</td>\n",
              "      <td>0</td>\n",
              "      <td>0</td>\n",
              "      <td>0</td>\n",
              "      <td>0</td>\n",
              "      <td>0</td>\n",
              "      <td>0</td>\n",
              "      <td>0</td>\n",
              "      <td>0</td>\n",
              "      <td>0</td>\n",
              "      <td>0</td>\n",
              "      <td>0</td>\n",
              "      <td>0</td>\n",
              "      <td>0</td>\n",
              "      <td>0</td>\n",
              "      <td>0</td>\n",
              "      <td>0</td>\n",
              "      <td>0</td>\n",
              "      <td>0</td>\n",
              "      <td>0</td>\n",
              "      <td>0</td>\n",
              "      <td>0</td>\n",
              "      <td>0</td>\n",
              "      <td>0</td>\n",
              "      <td>0</td>\n",
              "      <td>0</td>\n",
              "      <td>0</td>\n",
              "      <td>0</td>\n",
              "      <td>0</td>\n",
              "      <td>0</td>\n",
              "    </tr>\n",
              "    <tr>\n",
              "      <th>1</th>\n",
              "      <td>0</td>\n",
              "      <td>0</td>\n",
              "      <td>0</td>\n",
              "      <td>0</td>\n",
              "      <td>0</td>\n",
              "      <td>0</td>\n",
              "      <td>0</td>\n",
              "      <td>0</td>\n",
              "      <td>0</td>\n",
              "      <td>0</td>\n",
              "      <td>0</td>\n",
              "      <td>0</td>\n",
              "      <td>0</td>\n",
              "      <td>0</td>\n",
              "      <td>0</td>\n",
              "      <td>0</td>\n",
              "      <td>0</td>\n",
              "      <td>0</td>\n",
              "      <td>0</td>\n",
              "      <td>0</td>\n",
              "      <td>0</td>\n",
              "      <td>0</td>\n",
              "      <td>0</td>\n",
              "      <td>0</td>\n",
              "      <td>0</td>\n",
              "      <td>0</td>\n",
              "      <td>0</td>\n",
              "      <td>0</td>\n",
              "      <td>0</td>\n",
              "      <td>0</td>\n",
              "      <td>0</td>\n",
              "      <td>0</td>\n",
              "      <td>0</td>\n",
              "      <td>0</td>\n",
              "      <td>0</td>\n",
              "      <td>0</td>\n",
              "      <td>0</td>\n",
              "      <td>0</td>\n",
              "      <td>0</td>\n",
              "      <td>0</td>\n",
              "      <td>...</td>\n",
              "      <td>0</td>\n",
              "      <td>0</td>\n",
              "      <td>0</td>\n",
              "      <td>0</td>\n",
              "      <td>0</td>\n",
              "      <td>0</td>\n",
              "      <td>0</td>\n",
              "      <td>0</td>\n",
              "      <td>0</td>\n",
              "      <td>0</td>\n",
              "      <td>0</td>\n",
              "      <td>0</td>\n",
              "      <td>0</td>\n",
              "      <td>0</td>\n",
              "      <td>0</td>\n",
              "      <td>0</td>\n",
              "      <td>0</td>\n",
              "      <td>0</td>\n",
              "      <td>0</td>\n",
              "      <td>0</td>\n",
              "      <td>0</td>\n",
              "      <td>0</td>\n",
              "      <td>0</td>\n",
              "      <td>0</td>\n",
              "      <td>0</td>\n",
              "      <td>0</td>\n",
              "      <td>0</td>\n",
              "      <td>0</td>\n",
              "      <td>0</td>\n",
              "      <td>0</td>\n",
              "      <td>0</td>\n",
              "      <td>0</td>\n",
              "      <td>0</td>\n",
              "      <td>0</td>\n",
              "      <td>0</td>\n",
              "      <td>0</td>\n",
              "      <td>0</td>\n",
              "      <td>0</td>\n",
              "      <td>0</td>\n",
              "      <td>0</td>\n",
              "    </tr>\n",
              "    <tr>\n",
              "      <th>2</th>\n",
              "      <td>0</td>\n",
              "      <td>0</td>\n",
              "      <td>0</td>\n",
              "      <td>0</td>\n",
              "      <td>0</td>\n",
              "      <td>0</td>\n",
              "      <td>0</td>\n",
              "      <td>0</td>\n",
              "      <td>0</td>\n",
              "      <td>0</td>\n",
              "      <td>0</td>\n",
              "      <td>0</td>\n",
              "      <td>0</td>\n",
              "      <td>0</td>\n",
              "      <td>0</td>\n",
              "      <td>0</td>\n",
              "      <td>0</td>\n",
              "      <td>0</td>\n",
              "      <td>0</td>\n",
              "      <td>0</td>\n",
              "      <td>0</td>\n",
              "      <td>0</td>\n",
              "      <td>0</td>\n",
              "      <td>0</td>\n",
              "      <td>0</td>\n",
              "      <td>0</td>\n",
              "      <td>0</td>\n",
              "      <td>0</td>\n",
              "      <td>0</td>\n",
              "      <td>0</td>\n",
              "      <td>0</td>\n",
              "      <td>0</td>\n",
              "      <td>0</td>\n",
              "      <td>0</td>\n",
              "      <td>0</td>\n",
              "      <td>0</td>\n",
              "      <td>0</td>\n",
              "      <td>0</td>\n",
              "      <td>0</td>\n",
              "      <td>0</td>\n",
              "      <td>...</td>\n",
              "      <td>0</td>\n",
              "      <td>0</td>\n",
              "      <td>0</td>\n",
              "      <td>0</td>\n",
              "      <td>0</td>\n",
              "      <td>0</td>\n",
              "      <td>0</td>\n",
              "      <td>0</td>\n",
              "      <td>0</td>\n",
              "      <td>0</td>\n",
              "      <td>0</td>\n",
              "      <td>0</td>\n",
              "      <td>0</td>\n",
              "      <td>0</td>\n",
              "      <td>0</td>\n",
              "      <td>0</td>\n",
              "      <td>0</td>\n",
              "      <td>0</td>\n",
              "      <td>0</td>\n",
              "      <td>0</td>\n",
              "      <td>0</td>\n",
              "      <td>0</td>\n",
              "      <td>0</td>\n",
              "      <td>0</td>\n",
              "      <td>0</td>\n",
              "      <td>0</td>\n",
              "      <td>0</td>\n",
              "      <td>0</td>\n",
              "      <td>0</td>\n",
              "      <td>0</td>\n",
              "      <td>0</td>\n",
              "      <td>0</td>\n",
              "      <td>0</td>\n",
              "      <td>0</td>\n",
              "      <td>0</td>\n",
              "      <td>0</td>\n",
              "      <td>0</td>\n",
              "      <td>0</td>\n",
              "      <td>0</td>\n",
              "      <td>0</td>\n",
              "    </tr>\n",
              "    <tr>\n",
              "      <th>3</th>\n",
              "      <td>0</td>\n",
              "      <td>0</td>\n",
              "      <td>0</td>\n",
              "      <td>0</td>\n",
              "      <td>0</td>\n",
              "      <td>0</td>\n",
              "      <td>0</td>\n",
              "      <td>0</td>\n",
              "      <td>0</td>\n",
              "      <td>0</td>\n",
              "      <td>0</td>\n",
              "      <td>0</td>\n",
              "      <td>0</td>\n",
              "      <td>0</td>\n",
              "      <td>0</td>\n",
              "      <td>0</td>\n",
              "      <td>0</td>\n",
              "      <td>0</td>\n",
              "      <td>0</td>\n",
              "      <td>0</td>\n",
              "      <td>0</td>\n",
              "      <td>0</td>\n",
              "      <td>0</td>\n",
              "      <td>0</td>\n",
              "      <td>0</td>\n",
              "      <td>0</td>\n",
              "      <td>0</td>\n",
              "      <td>0</td>\n",
              "      <td>0</td>\n",
              "      <td>0</td>\n",
              "      <td>0</td>\n",
              "      <td>0</td>\n",
              "      <td>0</td>\n",
              "      <td>0</td>\n",
              "      <td>0</td>\n",
              "      <td>0</td>\n",
              "      <td>0</td>\n",
              "      <td>0</td>\n",
              "      <td>0</td>\n",
              "      <td>0</td>\n",
              "      <td>...</td>\n",
              "      <td>0</td>\n",
              "      <td>0</td>\n",
              "      <td>0</td>\n",
              "      <td>0</td>\n",
              "      <td>0</td>\n",
              "      <td>0</td>\n",
              "      <td>0</td>\n",
              "      <td>0</td>\n",
              "      <td>0</td>\n",
              "      <td>0</td>\n",
              "      <td>0</td>\n",
              "      <td>0</td>\n",
              "      <td>0</td>\n",
              "      <td>0</td>\n",
              "      <td>0</td>\n",
              "      <td>0</td>\n",
              "      <td>0</td>\n",
              "      <td>0</td>\n",
              "      <td>0</td>\n",
              "      <td>0</td>\n",
              "      <td>0</td>\n",
              "      <td>0</td>\n",
              "      <td>0</td>\n",
              "      <td>0</td>\n",
              "      <td>0</td>\n",
              "      <td>0</td>\n",
              "      <td>0</td>\n",
              "      <td>0</td>\n",
              "      <td>0</td>\n",
              "      <td>0</td>\n",
              "      <td>0</td>\n",
              "      <td>0</td>\n",
              "      <td>0</td>\n",
              "      <td>0</td>\n",
              "      <td>0</td>\n",
              "      <td>0</td>\n",
              "      <td>0</td>\n",
              "      <td>0</td>\n",
              "      <td>0</td>\n",
              "      <td>0</td>\n",
              "    </tr>\n",
              "    <tr>\n",
              "      <th>4</th>\n",
              "      <td>0</td>\n",
              "      <td>0</td>\n",
              "      <td>0</td>\n",
              "      <td>0</td>\n",
              "      <td>0</td>\n",
              "      <td>0</td>\n",
              "      <td>0</td>\n",
              "      <td>0</td>\n",
              "      <td>0</td>\n",
              "      <td>0</td>\n",
              "      <td>0</td>\n",
              "      <td>0</td>\n",
              "      <td>0</td>\n",
              "      <td>0</td>\n",
              "      <td>0</td>\n",
              "      <td>0</td>\n",
              "      <td>0</td>\n",
              "      <td>0</td>\n",
              "      <td>0</td>\n",
              "      <td>0</td>\n",
              "      <td>0</td>\n",
              "      <td>0</td>\n",
              "      <td>0</td>\n",
              "      <td>0</td>\n",
              "      <td>0</td>\n",
              "      <td>0</td>\n",
              "      <td>0</td>\n",
              "      <td>0</td>\n",
              "      <td>0</td>\n",
              "      <td>0</td>\n",
              "      <td>0</td>\n",
              "      <td>0</td>\n",
              "      <td>0</td>\n",
              "      <td>0</td>\n",
              "      <td>0</td>\n",
              "      <td>0</td>\n",
              "      <td>0</td>\n",
              "      <td>0</td>\n",
              "      <td>0</td>\n",
              "      <td>0</td>\n",
              "      <td>...</td>\n",
              "      <td>0</td>\n",
              "      <td>0</td>\n",
              "      <td>0</td>\n",
              "      <td>0</td>\n",
              "      <td>0</td>\n",
              "      <td>0</td>\n",
              "      <td>0</td>\n",
              "      <td>0</td>\n",
              "      <td>0</td>\n",
              "      <td>0</td>\n",
              "      <td>0</td>\n",
              "      <td>0</td>\n",
              "      <td>0</td>\n",
              "      <td>0</td>\n",
              "      <td>0</td>\n",
              "      <td>0</td>\n",
              "      <td>0</td>\n",
              "      <td>0</td>\n",
              "      <td>0</td>\n",
              "      <td>0</td>\n",
              "      <td>0</td>\n",
              "      <td>0</td>\n",
              "      <td>0</td>\n",
              "      <td>0</td>\n",
              "      <td>0</td>\n",
              "      <td>0</td>\n",
              "      <td>0</td>\n",
              "      <td>0</td>\n",
              "      <td>0</td>\n",
              "      <td>0</td>\n",
              "      <td>0</td>\n",
              "      <td>0</td>\n",
              "      <td>0</td>\n",
              "      <td>0</td>\n",
              "      <td>0</td>\n",
              "      <td>0</td>\n",
              "      <td>0</td>\n",
              "      <td>0</td>\n",
              "      <td>0</td>\n",
              "      <td>0</td>\n",
              "    </tr>\n",
              "  </tbody>\n",
              "</table>\n",
              "<p>5 rows × 99 columns</p>\n",
              "</div>"
            ],
            "text/plain": [
              "   Addis Abeba  Ahmadabad  Aleppo  Alexandria  ...  Toronto  Umm Durman  Wuhan  Xian\n",
              "0            0          0       0           0  ...        0           0      0     0\n",
              "1            0          0       0           0  ...        0           0      0     0\n",
              "2            0          0       0           0  ...        0           0      0     0\n",
              "3            0          0       0           0  ...        0           0      0     0\n",
              "4            0          0       0           0  ...        0           0      0     0\n",
              "\n",
              "[5 rows x 99 columns]"
            ]
          },
          "metadata": {
            "tags": []
          },
          "execution_count": 324
        }
      ]
    },
    {
      "cell_type": "code",
      "metadata": {
        "id": "7Lmr0wX3uXRq"
      },
      "source": [
        "df_standard=pd.concat([df_scaled,Country_encoded,City_encoded],axis=1)"
      ],
      "execution_count": null,
      "outputs": []
    },
    {
      "cell_type": "code",
      "metadata": {
        "colab": {
          "base_uri": "https://localhost:8080/"
        },
        "id": "yjTMrUmuuvb8",
        "outputId": "3ea95d08-0c11-4e81-b952-90a3c1f9410d"
      },
      "source": [
        "df_standard.shape"
      ],
      "execution_count": null,
      "outputs": [
        {
          "output_type": "execute_result",
          "data": {
            "text/plain": [
              "(238796, 152)"
            ]
          },
          "metadata": {
            "tags": []
          },
          "execution_count": 326
        }
      ]
    },
    {
      "cell_type": "code",
      "metadata": {
        "id": "Hu0HgiLNHE_F"
      },
      "source": [
        "df_climate=pd.concat([df1,City_encoded],axis=1)"
      ],
      "execution_count": null,
      "outputs": []
    },
    {
      "cell_type": "code",
      "metadata": {
        "colab": {
          "base_uri": "https://localhost:8080/"
        },
        "id": "22F5GjLxLp9d",
        "outputId": "bb0b3b36-ec1f-4b45-dffd-ae8f79880b2a"
      },
      "source": [
        "df_climate.shape"
      ],
      "execution_count": null,
      "outputs": [
        {
          "output_type": "execute_result",
          "data": {
            "text/plain": [
              "(228175, 104)"
            ]
          },
          "metadata": {
            "tags": []
          },
          "execution_count": 328
        }
      ]
    },
    {
      "cell_type": "code",
      "metadata": {
        "colab": {
          "base_uri": "https://localhost:8080/"
        },
        "id": "5OanAmi5EC5f",
        "outputId": "43ad1a72-89ab-4333-8273-dbfe7bf88427"
      },
      "source": [
        "df['City'].value_counts(normalize=True).head()"
      ],
      "execution_count": null,
      "outputs": [
        {
          "output_type": "execute_result",
          "data": {
            "text/plain": [
              "Moscow              0.013875\n",
              "Istanbul            0.013875\n",
              "Berlin              0.013875\n",
              "Madrid              0.013875\n",
              "Saint Petersburg    0.013875\n",
              "Name: City, dtype: float64"
            ]
          },
          "metadata": {
            "tags": []
          },
          "execution_count": 329
        }
      ]
    },
    {
      "cell_type": "code",
      "metadata": {
        "id": "iSa-ZDgFvwkr"
      },
      "source": [
        "X=df.drop(['Latitude','Longitude','City','Country','month','deviation'],axis=1)\r\n",
        "y=df.deviation.values"
      ],
      "execution_count": null,
      "outputs": []
    },
    {
      "cell_type": "code",
      "metadata": {
        "colab": {
          "base_uri": "https://localhost:8080/",
          "height": 241
        },
        "id": "Mot6nGAiFE6G",
        "outputId": "15722c53-4d49-44fd-8186-d28bfb51dae6"
      },
      "source": [
        "X.head()"
      ],
      "execution_count": null,
      "outputs": [
        {
          "output_type": "execute_result",
          "data": {
            "text/html": [
              "<div>\n",
              "<style scoped>\n",
              "    .dataframe tbody tr th:only-of-type {\n",
              "        vertical-align: middle;\n",
              "    }\n",
              "\n",
              "    .dataframe tbody tr th {\n",
              "        vertical-align: top;\n",
              "    }\n",
              "\n",
              "    .dataframe thead th {\n",
              "        text-align: right;\n",
              "    }\n",
              "</style>\n",
              "<table border=\"1\" class=\"dataframe\">\n",
              "  <thead>\n",
              "    <tr style=\"text-align: right;\">\n",
              "      <th></th>\n",
              "      <th>Temperature</th>\n",
              "      <th>year</th>\n",
              "      <th>quarter</th>\n",
              "      <th>Country_India</th>\n",
              "      <th>Country_Brazil</th>\n",
              "      <th>Country_Turkey</th>\n",
              "      <th>Country_United States</th>\n",
              "      <th>Country_Egypt</th>\n",
              "      <th>Country_Pakistan</th>\n",
              "      <th>Country_Russia</th>\n",
              "      <th>Country_Canada</th>\n",
              "      <th>Country_Nigeria</th>\n",
              "      <th>Country_Australia</th>\n",
              "      <th>Country_Japan</th>\n",
              "      <th>Country_Colombia</th>\n",
              "      <th>Country_Saudi Arabia</th>\n",
              "      <th>Country_Indonesia</th>\n",
              "      <th>Country_South Africa</th>\n",
              "      <th>Country_Germany</th>\n",
              "      <th>Country_France</th>\n",
              "      <th>Country_United Kingdom</th>\n",
              "      <th>Country_Spain</th>\n",
              "      <th>Country_Ukraine</th>\n",
              "      <th>Country_Italy</th>\n",
              "      <th>Country_Morocco</th>\n",
              "      <th>Country_Burma</th>\n",
              "      <th>Country_Bangladesh</th>\n",
              "      <th>City_Moscow</th>\n",
              "      <th>City_Istanbul</th>\n",
              "      <th>City_Berlin</th>\n",
              "      <th>City_Madrid</th>\n",
              "      <th>City_Saint Petersburg</th>\n",
              "      <th>City_Kiev</th>\n",
              "      <th>City_Rome</th>\n",
              "      <th>City_Paris</th>\n",
              "      <th>City_London</th>\n",
              "      <th>City_Montreal</th>\n",
              "      <th>City_Toronto</th>\n",
              "      <th>City_Chicago</th>\n",
              "      <th>City_Izmir</th>\n",
              "      <th>City_New York</th>\n",
              "      <th>City_Ankara</th>\n",
              "      <th>City_Casablanca</th>\n",
              "      <th>City_Alexandria</th>\n",
              "      <th>City_Rangoon</th>\n",
              "      <th>City_Calcutta</th>\n",
              "      <th>City_Dhaka</th>\n",
              "      <th>City_Surat</th>\n",
              "      <th>City_Nagpur</th>\n",
              "      <th>City_Madras</th>\n",
              "      <th>City_Pune</th>\n",
              "      <th>City_Bombay</th>\n",
              "      <th>City_Bangalore</th>\n",
              "      <th>City_Hyderabad</th>\n",
              "      <th>City_Aleppo</th>\n",
              "      <th>City_Kanpur</th>\n",
              "      <th>City_Lakhnau</th>\n",
              "      <th>City_Ahmadabad</th>\n",
              "      <th>City_Gizeh</th>\n",
              "      <th>City_Cairo</th>\n",
              "      <th>City_Jaipur</th>\n",
              "      <th>City_Delhi</th>\n",
              "      <th>City_New Delhi</th>\n",
              "      <th>City_Karachi</th>\n",
              "      <th>City_Baghdad</th>\n",
              "      <th>City_Harbin</th>\n",
              "      <th>City_Changchun</th>\n",
              "      <th>City_Taiyuan</th>\n",
              "      <th>City_Tianjin</th>\n",
              "      <th>City_Peking</th>\n",
              "      <th>City_Tangshan</th>\n",
              "      <th>City_Bangkok</th>\n",
              "      <th>City_Santo Domingo</th>\n",
              "      <th>City_Shenyang</th>\n",
              "      <th>City_Chengdu</th>\n",
              "      <th>City_Mashhad</th>\n",
              "      <th>City_Mexico</th>\n",
              "    </tr>\n",
              "  </thead>\n",
              "  <tbody>\n",
              "    <tr>\n",
              "      <th>0</th>\n",
              "      <td>26.704</td>\n",
              "      <td>1849</td>\n",
              "      <td>1</td>\n",
              "      <td>0</td>\n",
              "      <td>0</td>\n",
              "      <td>0</td>\n",
              "      <td>0</td>\n",
              "      <td>0</td>\n",
              "      <td>0</td>\n",
              "      <td>0</td>\n",
              "      <td>0</td>\n",
              "      <td>0</td>\n",
              "      <td>0</td>\n",
              "      <td>0</td>\n",
              "      <td>0</td>\n",
              "      <td>0</td>\n",
              "      <td>0</td>\n",
              "      <td>0</td>\n",
              "      <td>0</td>\n",
              "      <td>0</td>\n",
              "      <td>0</td>\n",
              "      <td>0</td>\n",
              "      <td>0</td>\n",
              "      <td>0</td>\n",
              "      <td>0</td>\n",
              "      <td>0</td>\n",
              "      <td>0</td>\n",
              "      <td>0</td>\n",
              "      <td>0</td>\n",
              "      <td>0</td>\n",
              "      <td>0</td>\n",
              "      <td>0</td>\n",
              "      <td>0</td>\n",
              "      <td>0</td>\n",
              "      <td>0</td>\n",
              "      <td>0</td>\n",
              "      <td>0</td>\n",
              "      <td>0</td>\n",
              "      <td>0</td>\n",
              "      <td>0</td>\n",
              "      <td>0</td>\n",
              "      <td>0</td>\n",
              "      <td>0</td>\n",
              "      <td>0</td>\n",
              "      <td>0</td>\n",
              "      <td>0</td>\n",
              "      <td>0</td>\n",
              "      <td>0</td>\n",
              "      <td>0</td>\n",
              "      <td>0</td>\n",
              "      <td>0</td>\n",
              "      <td>0</td>\n",
              "      <td>0</td>\n",
              "      <td>0</td>\n",
              "      <td>0</td>\n",
              "      <td>0</td>\n",
              "      <td>0</td>\n",
              "      <td>0</td>\n",
              "      <td>0</td>\n",
              "      <td>0</td>\n",
              "      <td>0</td>\n",
              "      <td>0</td>\n",
              "      <td>0</td>\n",
              "      <td>0</td>\n",
              "      <td>0</td>\n",
              "      <td>0</td>\n",
              "      <td>0</td>\n",
              "      <td>0</td>\n",
              "      <td>0</td>\n",
              "      <td>0</td>\n",
              "      <td>0</td>\n",
              "      <td>0</td>\n",
              "      <td>0</td>\n",
              "      <td>0</td>\n",
              "      <td>0</td>\n",
              "      <td>0</td>\n",
              "      <td>0</td>\n",
              "    </tr>\n",
              "    <tr>\n",
              "      <th>1</th>\n",
              "      <td>27.434</td>\n",
              "      <td>1849</td>\n",
              "      <td>1</td>\n",
              "      <td>0</td>\n",
              "      <td>0</td>\n",
              "      <td>0</td>\n",
              "      <td>0</td>\n",
              "      <td>0</td>\n",
              "      <td>0</td>\n",
              "      <td>0</td>\n",
              "      <td>0</td>\n",
              "      <td>0</td>\n",
              "      <td>0</td>\n",
              "      <td>0</td>\n",
              "      <td>0</td>\n",
              "      <td>0</td>\n",
              "      <td>0</td>\n",
              "      <td>0</td>\n",
              "      <td>0</td>\n",
              "      <td>0</td>\n",
              "      <td>0</td>\n",
              "      <td>0</td>\n",
              "      <td>0</td>\n",
              "      <td>0</td>\n",
              "      <td>0</td>\n",
              "      <td>0</td>\n",
              "      <td>0</td>\n",
              "      <td>0</td>\n",
              "      <td>0</td>\n",
              "      <td>0</td>\n",
              "      <td>0</td>\n",
              "      <td>0</td>\n",
              "      <td>0</td>\n",
              "      <td>0</td>\n",
              "      <td>0</td>\n",
              "      <td>0</td>\n",
              "      <td>0</td>\n",
              "      <td>0</td>\n",
              "      <td>0</td>\n",
              "      <td>0</td>\n",
              "      <td>0</td>\n",
              "      <td>0</td>\n",
              "      <td>0</td>\n",
              "      <td>0</td>\n",
              "      <td>0</td>\n",
              "      <td>0</td>\n",
              "      <td>0</td>\n",
              "      <td>0</td>\n",
              "      <td>0</td>\n",
              "      <td>0</td>\n",
              "      <td>0</td>\n",
              "      <td>0</td>\n",
              "      <td>0</td>\n",
              "      <td>0</td>\n",
              "      <td>0</td>\n",
              "      <td>0</td>\n",
              "      <td>0</td>\n",
              "      <td>0</td>\n",
              "      <td>0</td>\n",
              "      <td>0</td>\n",
              "      <td>0</td>\n",
              "      <td>0</td>\n",
              "      <td>0</td>\n",
              "      <td>0</td>\n",
              "      <td>0</td>\n",
              "      <td>0</td>\n",
              "      <td>0</td>\n",
              "      <td>0</td>\n",
              "      <td>0</td>\n",
              "      <td>0</td>\n",
              "      <td>0</td>\n",
              "      <td>0</td>\n",
              "      <td>0</td>\n",
              "      <td>0</td>\n",
              "      <td>0</td>\n",
              "      <td>0</td>\n",
              "      <td>0</td>\n",
              "    </tr>\n",
              "    <tr>\n",
              "      <th>2</th>\n",
              "      <td>28.101</td>\n",
              "      <td>1849</td>\n",
              "      <td>1</td>\n",
              "      <td>0</td>\n",
              "      <td>0</td>\n",
              "      <td>0</td>\n",
              "      <td>0</td>\n",
              "      <td>0</td>\n",
              "      <td>0</td>\n",
              "      <td>0</td>\n",
              "      <td>0</td>\n",
              "      <td>0</td>\n",
              "      <td>0</td>\n",
              "      <td>0</td>\n",
              "      <td>0</td>\n",
              "      <td>0</td>\n",
              "      <td>0</td>\n",
              "      <td>0</td>\n",
              "      <td>0</td>\n",
              "      <td>0</td>\n",
              "      <td>0</td>\n",
              "      <td>0</td>\n",
              "      <td>0</td>\n",
              "      <td>0</td>\n",
              "      <td>0</td>\n",
              "      <td>0</td>\n",
              "      <td>0</td>\n",
              "      <td>0</td>\n",
              "      <td>0</td>\n",
              "      <td>0</td>\n",
              "      <td>0</td>\n",
              "      <td>0</td>\n",
              "      <td>0</td>\n",
              "      <td>0</td>\n",
              "      <td>0</td>\n",
              "      <td>0</td>\n",
              "      <td>0</td>\n",
              "      <td>0</td>\n",
              "      <td>0</td>\n",
              "      <td>0</td>\n",
              "      <td>0</td>\n",
              "      <td>0</td>\n",
              "      <td>0</td>\n",
              "      <td>0</td>\n",
              "      <td>0</td>\n",
              "      <td>0</td>\n",
              "      <td>0</td>\n",
              "      <td>0</td>\n",
              "      <td>0</td>\n",
              "      <td>0</td>\n",
              "      <td>0</td>\n",
              "      <td>0</td>\n",
              "      <td>0</td>\n",
              "      <td>0</td>\n",
              "      <td>0</td>\n",
              "      <td>0</td>\n",
              "      <td>0</td>\n",
              "      <td>0</td>\n",
              "      <td>0</td>\n",
              "      <td>0</td>\n",
              "      <td>0</td>\n",
              "      <td>0</td>\n",
              "      <td>0</td>\n",
              "      <td>0</td>\n",
              "      <td>0</td>\n",
              "      <td>0</td>\n",
              "      <td>0</td>\n",
              "      <td>0</td>\n",
              "      <td>0</td>\n",
              "      <td>0</td>\n",
              "      <td>0</td>\n",
              "      <td>0</td>\n",
              "      <td>0</td>\n",
              "      <td>0</td>\n",
              "      <td>0</td>\n",
              "      <td>0</td>\n",
              "      <td>0</td>\n",
              "    </tr>\n",
              "    <tr>\n",
              "      <th>3</th>\n",
              "      <td>26.140</td>\n",
              "      <td>1849</td>\n",
              "      <td>2</td>\n",
              "      <td>0</td>\n",
              "      <td>0</td>\n",
              "      <td>0</td>\n",
              "      <td>0</td>\n",
              "      <td>0</td>\n",
              "      <td>0</td>\n",
              "      <td>0</td>\n",
              "      <td>0</td>\n",
              "      <td>0</td>\n",
              "      <td>0</td>\n",
              "      <td>0</td>\n",
              "      <td>0</td>\n",
              "      <td>0</td>\n",
              "      <td>0</td>\n",
              "      <td>0</td>\n",
              "      <td>0</td>\n",
              "      <td>0</td>\n",
              "      <td>0</td>\n",
              "      <td>0</td>\n",
              "      <td>0</td>\n",
              "      <td>0</td>\n",
              "      <td>0</td>\n",
              "      <td>0</td>\n",
              "      <td>0</td>\n",
              "      <td>0</td>\n",
              "      <td>0</td>\n",
              "      <td>0</td>\n",
              "      <td>0</td>\n",
              "      <td>0</td>\n",
              "      <td>0</td>\n",
              "      <td>0</td>\n",
              "      <td>0</td>\n",
              "      <td>0</td>\n",
              "      <td>0</td>\n",
              "      <td>0</td>\n",
              "      <td>0</td>\n",
              "      <td>0</td>\n",
              "      <td>0</td>\n",
              "      <td>0</td>\n",
              "      <td>0</td>\n",
              "      <td>0</td>\n",
              "      <td>0</td>\n",
              "      <td>0</td>\n",
              "      <td>0</td>\n",
              "      <td>0</td>\n",
              "      <td>0</td>\n",
              "      <td>0</td>\n",
              "      <td>0</td>\n",
              "      <td>0</td>\n",
              "      <td>0</td>\n",
              "      <td>0</td>\n",
              "      <td>0</td>\n",
              "      <td>0</td>\n",
              "      <td>0</td>\n",
              "      <td>0</td>\n",
              "      <td>0</td>\n",
              "      <td>0</td>\n",
              "      <td>0</td>\n",
              "      <td>0</td>\n",
              "      <td>0</td>\n",
              "      <td>0</td>\n",
              "      <td>0</td>\n",
              "      <td>0</td>\n",
              "      <td>0</td>\n",
              "      <td>0</td>\n",
              "      <td>0</td>\n",
              "      <td>0</td>\n",
              "      <td>0</td>\n",
              "      <td>0</td>\n",
              "      <td>0</td>\n",
              "      <td>0</td>\n",
              "      <td>0</td>\n",
              "      <td>0</td>\n",
              "      <td>0</td>\n",
              "    </tr>\n",
              "    <tr>\n",
              "      <th>4</th>\n",
              "      <td>25.427</td>\n",
              "      <td>1849</td>\n",
              "      <td>2</td>\n",
              "      <td>0</td>\n",
              "      <td>0</td>\n",
              "      <td>0</td>\n",
              "      <td>0</td>\n",
              "      <td>0</td>\n",
              "      <td>0</td>\n",
              "      <td>0</td>\n",
              "      <td>0</td>\n",
              "      <td>0</td>\n",
              "      <td>0</td>\n",
              "      <td>0</td>\n",
              "      <td>0</td>\n",
              "      <td>0</td>\n",
              "      <td>0</td>\n",
              "      <td>0</td>\n",
              "      <td>0</td>\n",
              "      <td>0</td>\n",
              "      <td>0</td>\n",
              "      <td>0</td>\n",
              "      <td>0</td>\n",
              "      <td>0</td>\n",
              "      <td>0</td>\n",
              "      <td>0</td>\n",
              "      <td>0</td>\n",
              "      <td>0</td>\n",
              "      <td>0</td>\n",
              "      <td>0</td>\n",
              "      <td>0</td>\n",
              "      <td>0</td>\n",
              "      <td>0</td>\n",
              "      <td>0</td>\n",
              "      <td>0</td>\n",
              "      <td>0</td>\n",
              "      <td>0</td>\n",
              "      <td>0</td>\n",
              "      <td>0</td>\n",
              "      <td>0</td>\n",
              "      <td>0</td>\n",
              "      <td>0</td>\n",
              "      <td>0</td>\n",
              "      <td>0</td>\n",
              "      <td>0</td>\n",
              "      <td>0</td>\n",
              "      <td>0</td>\n",
              "      <td>0</td>\n",
              "      <td>0</td>\n",
              "      <td>0</td>\n",
              "      <td>0</td>\n",
              "      <td>0</td>\n",
              "      <td>0</td>\n",
              "      <td>0</td>\n",
              "      <td>0</td>\n",
              "      <td>0</td>\n",
              "      <td>0</td>\n",
              "      <td>0</td>\n",
              "      <td>0</td>\n",
              "      <td>0</td>\n",
              "      <td>0</td>\n",
              "      <td>0</td>\n",
              "      <td>0</td>\n",
              "      <td>0</td>\n",
              "      <td>0</td>\n",
              "      <td>0</td>\n",
              "      <td>0</td>\n",
              "      <td>0</td>\n",
              "      <td>0</td>\n",
              "      <td>0</td>\n",
              "      <td>0</td>\n",
              "      <td>0</td>\n",
              "      <td>0</td>\n",
              "      <td>0</td>\n",
              "      <td>0</td>\n",
              "      <td>0</td>\n",
              "      <td>0</td>\n",
              "    </tr>\n",
              "  </tbody>\n",
              "</table>\n",
              "</div>"
            ],
            "text/plain": [
              "   Temperature  year  quarter  ...  City_Chengdu  City_Mashhad  City_Mexico\n",
              "0       26.704  1849        1  ...             0             0            0\n",
              "1       27.434  1849        1  ...             0             0            0\n",
              "2       28.101  1849        1  ...             0             0            0\n",
              "3       26.140  1849        2  ...             0             0            0\n",
              "4       25.427  1849        2  ...             0             0            0\n",
              "\n",
              "[5 rows x 77 columns]"
            ]
          },
          "metadata": {
            "tags": []
          },
          "execution_count": 331
        }
      ]
    },
    {
      "cell_type": "code",
      "metadata": {
        "colab": {
          "base_uri": "https://localhost:8080/"
        },
        "id": "4E1_0-b_FE6H",
        "outputId": "dc5eb687-cec0-4e82-e3cc-84e8b713138a"
      },
      "source": [
        "y"
      ],
      "execution_count": null,
      "outputs": [
        {
          "output_type": "execute_result",
          "data": {
            "text/plain": [
              "array([1.435, 1.362, 1.612, ..., 0.647, 1.042, 0.84 ])"
            ]
          },
          "metadata": {
            "tags": []
          },
          "execution_count": 332
        }
      ]
    },
    {
      "cell_type": "code",
      "metadata": {
        "colab": {
          "base_uri": "https://localhost:8080/"
        },
        "id": "4DVwPFJhFE6H",
        "outputId": "e3c0fb82-7521-4340-dee7-57d71887950a"
      },
      "source": [
        "# Splitting Data into training and testing\n",
        "from sklearn.model_selection import train_test_split\n",
        "X_train,X_test,y_train,y_test=train_test_split(X,y,test_size=0.20,random_state=1)\n",
        "print('The training data of the model is:',X_train.shape,y_train.shape)\n",
        "print('The testing data of the model is:',X_test.shape,y_test.shape)"
      ],
      "execution_count": null,
      "outputs": [
        {
          "output_type": "stream",
          "text": [
            "The training data of the model is: (182540, 77) (182540,)\n",
            "The testing data of the model is: (45635, 77) (45635,)\n"
          ],
          "name": "stdout"
        }
      ]
    },
    {
      "cell_type": "code",
      "metadata": {
        "colab": {
          "base_uri": "https://localhost:8080/"
        },
        "id": "uUQ-V3QxFE6I",
        "outputId": "8324a445-b2be-4095-9531-96029d6db24c"
      },
      "source": [
        "# Using Linear Regression model\n",
        "from sklearn.linear_model import LinearRegression\n",
        "model_lm=LinearRegression()\n",
        "model_lm.fit(X_train,y_train)"
      ],
      "execution_count": null,
      "outputs": [
        {
          "output_type": "execute_result",
          "data": {
            "text/plain": [
              "LinearRegression(copy_X=True, fit_intercept=True, n_jobs=None, normalize=False)"
            ]
          },
          "metadata": {
            "tags": []
          },
          "execution_count": 334
        }
      ]
    },
    {
      "cell_type": "code",
      "metadata": {
        "id": "hQzeU9DVFE6I"
      },
      "source": [
        "# predicting the model\n",
        "y_pred=model_lm.predict(X_test)"
      ],
      "execution_count": null,
      "outputs": []
    },
    {
      "cell_type": "code",
      "metadata": {
        "colab": {
          "base_uri": "https://localhost:8080/"
        },
        "id": "KA-6PnDjFE6I",
        "outputId": "eb895cb6-a841-4ae2-aaa5-159f43d16cde"
      },
      "source": [
        "# Evaluating the metrics of Model\n",
        "from sklearn.metrics import r2_score,mean_squared_error\n",
        "print(\"Train Accuracy is:\", r2_score(y_train, model_lm.predict(X_train)))\n",
        "print(\"Test Accuracy is :\", r2_score(y_pred,y_test))\n",
        "print('The mean_squared_error is:',mean_squared_error(y_test,y_pred))"
      ],
      "execution_count": null,
      "outputs": [
        {
          "output_type": "stream",
          "text": [
            "Train Accuracy is: 0.5781796655619034\n",
            "Test Accuracy is : 0.22945745275497498\n",
            "The mean_squared_error is: 0.42668129280972156\n"
          ],
          "name": "stdout"
        }
      ]
    },
    {
      "cell_type": "code",
      "metadata": {
        "colab": {
          "base_uri": "https://localhost:8080/"
        },
        "id": "Zqkp1NPWFE6J",
        "outputId": "897e53ee-1efc-4223-9346-e0f96bfab590"
      },
      "source": [
        "from sklearn.linear_model import Lasso\n",
        "model_ls=Lasso(alpha=0.75,random_state=1)\n",
        "model_ls.fit(X_train,y_train)"
      ],
      "execution_count": null,
      "outputs": [
        {
          "output_type": "execute_result",
          "data": {
            "text/plain": [
              "Lasso(alpha=0.75, copy_X=True, fit_intercept=True, max_iter=1000,\n",
              "      normalize=False, positive=False, precompute=False, random_state=1,\n",
              "      selection='cyclic', tol=0.0001, warm_start=False)"
            ]
          },
          "metadata": {
            "tags": []
          },
          "execution_count": 337
        }
      ]
    },
    {
      "cell_type": "code",
      "metadata": {
        "id": "1YpB_bP0FE6K"
      },
      "source": [
        "y_pred_1=model_ls.predict(X_test)"
      ],
      "execution_count": null,
      "outputs": []
    },
    {
      "cell_type": "code",
      "metadata": {
        "colab": {
          "base_uri": "https://localhost:8080/"
        },
        "id": "0IPYza5PFE6K",
        "outputId": "9fbc4769-d363-4213-cdfa-e1202838311b"
      },
      "source": [
        "from sklearn.metrics import r2_score,mean_squared_error\n",
        "print(\"Train Accuracy :: \", r2_score(y_train, model_ls.predict(X_train)))\n",
        "print(\"Test Accuracy :: \", r2_score(y_pred_1,y_test))\n",
        "print('The mean_squared_error is:',mean_squared_error(y_test,y_pred_1))"
      ],
      "execution_count": null,
      "outputs": [
        {
          "output_type": "stream",
          "text": [
            "Train Accuracy ::  0.5623270048633648\n",
            "Test Accuracy ::  0.14580760315403973\n",
            "The mean_squared_error is: 0.44354091236933\n"
          ],
          "name": "stdout"
        }
      ]
    },
    {
      "cell_type": "code",
      "metadata": {
        "colab": {
          "base_uri": "https://localhost:8080/"
        },
        "id": "GH4NbdQRFE6K",
        "outputId": "e728a30f-934a-481c-e076-10f15f3732a8"
      },
      "source": [
        "from sklearn.tree import DecisionTreeRegressor\n",
        "model_dt=DecisionTreeRegressor(random_state=1)\n",
        "model_dt.fit(X_train,y_train)"
      ],
      "execution_count": null,
      "outputs": [
        {
          "output_type": "execute_result",
          "data": {
            "text/plain": [
              "DecisionTreeRegressor(ccp_alpha=0.0, criterion='mse', max_depth=None,\n",
              "                      max_features=None, max_leaf_nodes=None,\n",
              "                      min_impurity_decrease=0.0, min_impurity_split=None,\n",
              "                      min_samples_leaf=1, min_samples_split=2,\n",
              "                      min_weight_fraction_leaf=0.0, presort='deprecated',\n",
              "                      random_state=1, splitter='best')"
            ]
          },
          "metadata": {
            "tags": []
          },
          "execution_count": 340
        }
      ]
    },
    {
      "cell_type": "code",
      "metadata": {
        "id": "PErq6XpzFE6L"
      },
      "source": [
        "y_pred_dt=model_dt.predict(X_test)"
      ],
      "execution_count": null,
      "outputs": []
    },
    {
      "cell_type": "code",
      "metadata": {
        "colab": {
          "base_uri": "https://localhost:8080/"
        },
        "id": "GTJBMNVsFE6L",
        "outputId": "f6a1f960-f8fc-46a7-f0af-a09ff2b4120d"
      },
      "source": [
        "print('Training accuracy of Decision Tree Regressor is:',r2_score(y_train,model_dt.predict(X_train)))\r\n",
        "print('Testing accuracy of Decision Tree Regressor is:',r2_score(y_pred_dt,y_test))\r\n",
        "print('The mean_squared_error is:',mean_squared_error(y_test,y_pred_dt))"
      ],
      "execution_count": null,
      "outputs": [
        {
          "output_type": "stream",
          "text": [
            "Training accuracy of Decision Tree Regressor is: 0.9999619922488199\n",
            "Testing accuracy of Decision Tree Regressor is: 0.6102233602625324\n",
            "The mean_squared_error is: 0.39162194096636344\n"
          ],
          "name": "stdout"
        }
      ]
    },
    {
      "cell_type": "code",
      "metadata": {
        "id": "KrJQe9M9FE6O"
      },
      "source": [
        "#from sklearn.ensemble import RandomForestRegressor\n",
        "#model_rf=RandomForestRegressor()\n",
        "#model_rf.fit(X_train,y_train)"
      ],
      "execution_count": null,
      "outputs": []
    },
    {
      "cell_type": "code",
      "metadata": {
        "id": "5P6OihAiMv6y"
      },
      "source": [
        "#y_pred_rf=model_rf.predict(X_test)"
      ],
      "execution_count": null,
      "outputs": []
    },
    {
      "cell_type": "code",
      "metadata": {
        "id": "NTiU786DP4HG"
      },
      "source": [
        "#print('The training accuracy is:',r2_score(y_train,model_rf.predict(X_train)))\r\n",
        "#print('The testing accuracy is:',r2_score(y_pred_rf,y_test))\r\n",
        "#print('The mean_squared error is:',mean_squared_error(y_test,y_pred_rf))"
      ],
      "execution_count": null,
      "outputs": []
    },
    {
      "cell_type": "code",
      "metadata": {
        "id": "mveC-mO-QjZs",
        "colab": {
          "base_uri": "https://localhost:8080/"
        },
        "outputId": "06b73f09-e871-4d74-9f32-b2139c1bbf51"
      },
      "source": [
        "from sklearn.neighbors import KNeighborsRegressor\r\n",
        "model_knn=KNeighborsRegressor()\r\n",
        "model_knn.fit(X_train,y_train)"
      ],
      "execution_count": null,
      "outputs": [
        {
          "output_type": "execute_result",
          "data": {
            "text/plain": [
              "KNeighborsRegressor(algorithm='auto', leaf_size=30, metric='minkowski',\n",
              "                    metric_params=None, n_jobs=None, n_neighbors=5, p=2,\n",
              "                    weights='uniform')"
            ]
          },
          "metadata": {
            "tags": []
          },
          "execution_count": 346
        }
      ]
    },
    {
      "cell_type": "code",
      "metadata": {
        "id": "4js4-4fahr6J"
      },
      "source": [
        "#List Hyperparameters that we want to tune.\r\n",
        "#from sklearn.model_selection import GridSearchCV\r\n",
        "#leaf_size = range(1,50)\r\n",
        "#n_neighbors = range(1,30)\r\n",
        "#p=[1,2]\r\n",
        "#Convert to dictionary\r\n",
        "#hyperparameters = dict(leaf_size=leaf_size, n_neighbors=n_neighbors, p=p)\r\n",
        "#Create new KNN object\r\n",
        "#knn_2 = KNeighborsRegressor()\r\n",
        "#Use GridSearch\r\n",
        "#clf = GridSearchCV(knn_2, hyperparameters, cv=3,n_jobs=-1)\r\n",
        "#Fit the model\r\n",
        "#best_model = clf.fit(X,y)\r\n",
        "#Print The value of best Hyperparameters\r\n",
        "#print('Best leaf_size:', best_model.best_estimator_.get_params()['leaf_size'])\r\n",
        "#print('Best p:', best_model.best_estimator_.get_params()['p'])\r\n",
        "#print('Best n_neighbors:', best_model.best_estimator_.get_params()['n_neighbors'])"
      ],
      "execution_count": null,
      "outputs": []
    },
    {
      "cell_type": "code",
      "metadata": {
        "id": "O5CbRwv4rZ3g"
      },
      "source": [
        "y_pred_knn=model_knn.predict(X_test)"
      ],
      "execution_count": null,
      "outputs": []
    },
    {
      "cell_type": "code",
      "metadata": {
        "id": "zzsPLpn_RGQl",
        "colab": {
          "base_uri": "https://localhost:8080/"
        },
        "outputId": "5eb40894-45e8-450b-d324-f7c21fcf586e"
      },
      "source": [
        "print('The training accuracy is:',r2_score(y_train,model_knn.predict(X_train)))\r\n",
        "print('The testing accuracy is:',r2_score(y_pred_knn,y_test))\r\n",
        "print('The mean_squared_error is:',mean_squared_error(y_test,y_pred_knn))"
      ],
      "execution_count": null,
      "outputs": [
        {
          "output_type": "stream",
          "text": [
            "The training accuracy is: 0.8264950981430473\n",
            "The testing accuracy is: 0.6598618530113176\n",
            "The mean_squared_error is: 0.2595668499958365\n"
          ],
          "name": "stdout"
        }
      ]
    },
    {
      "cell_type": "code",
      "metadata": {
        "id": "6Mba6kL8RGvm",
        "colab": {
          "base_uri": "https://localhost:8080/"
        },
        "outputId": "3dc78189-4aa4-4fc6-9f83-00c99a58d5b4"
      },
      "source": [
        "# Ordinary Least Squares\r\n",
        "import statsmodels.api as sm\r\n",
        "model_ols=sm.OLS(y,X)\r\n",
        "res=model_ols.fit()\r\n",
        "print(res.summary())"
      ],
      "execution_count": null,
      "outputs": [
        {
          "output_type": "stream",
          "text": [
            "                                 OLS Regression Results                                \n",
            "=======================================================================================\n",
            "Dep. Variable:                      y   R-squared (uncentered):                   0.521\n",
            "Model:                            OLS   Adj. R-squared (uncentered):              0.521\n",
            "Method:                 Least Squares   F-statistic:                              3945.\n",
            "Date:                Fri, 08 Jan 2021   Prob (F-statistic):                        0.00\n",
            "Time:                        16:08:56   Log-Likelihood:                     -3.1288e+05\n",
            "No. Observations:              228175   AIC:                                  6.259e+05\n",
            "Df Residuals:                  228112   BIC:                                  6.265e+05\n",
            "Df Model:                          63                                                  \n",
            "Covariance Type:            nonrobust                                                  \n",
            "==========================================================================================\n",
            "                             coef    std err          t      P>|t|      [0.025      0.975]\n",
            "------------------------------------------------------------------------------------------\n",
            "Temperature               -0.0082      0.000    -29.700      0.000      -0.009      -0.008\n",
            "year                       0.0004   3.99e-06     99.174      0.000       0.000       0.000\n",
            "quarter                    0.0167      0.002      9.261      0.000       0.013       0.020\n",
            "Country_India              0.3370      0.006     52.364      0.000       0.324       0.350\n",
            "Country_Brazil             0.2604      0.010     26.857      0.000       0.241       0.279\n",
            "Country_Turkey             0.5361      0.008     65.862      0.000       0.520       0.552\n",
            "Country_United States      0.1223      0.022      5.591      0.000       0.079       0.165\n",
            "Country_Egypt              0.2255      0.009     25.539      0.000       0.208       0.243\n",
            "Country_Pakistan           0.1624      0.015     10.521      0.000       0.132       0.193\n",
            "Country_Russia             0.4958      0.009     55.806      0.000       0.478       0.513\n",
            "Country_Canada             0.3754      0.009     42.410      0.000       0.358       0.393\n",
            "Country_Nigeria            0.0901      0.014      6.422      0.000       0.063       0.118\n",
            "Country_Australia         -0.0964      0.015     -6.234      0.000      -0.127      -0.066\n",
            "Country_Japan             -0.0947      0.016     -6.050      0.000      -0.125      -0.064\n",
            "Country_Colombia           0.0756      0.016      4.823      0.000       0.045       0.106\n",
            "Country_Saudi Arabia       0.3470      0.016     21.605      0.000       0.316       0.379\n",
            "Country_Indonesia          0.0154      0.016      0.948      0.343      -0.016       0.047\n",
            "Country_South Africa       0.1777      0.016     10.999      0.000       0.146       0.209\n",
            "Country_Germany            0.4417      0.009     50.020      0.000       0.424       0.459\n",
            "Country_France             0.4474      0.009     50.838      0.000       0.430       0.465\n",
            "Country_United Kingdom     0.4502      0.009     51.047      0.000       0.433       0.467\n",
            "Country_Spain              0.3886      0.009     44.251      0.000       0.371       0.406\n",
            "Country_Ukraine            0.3723      0.009     41.960      0.000       0.355       0.390\n",
            "Country_Italy              0.4326      0.009     49.304      0.000       0.415       0.450\n",
            "Country_Morocco            0.3382      0.009     37.252      0.000       0.320       0.356\n",
            "Country_Burma              0.1786      0.010     18.291      0.000       0.159       0.198\n",
            "Country_Bangladesh         0.1399      0.010     14.355      0.000       0.121       0.159\n",
            "City_Moscow                0.2089      0.013     16.349      0.000       0.184       0.234\n",
            "City_Istanbul              0.2327      0.014     16.445      0.000       0.205       0.260\n",
            "City_Berlin                0.4417      0.009     50.020      0.000       0.424       0.459\n",
            "City_Madrid                0.3886      0.009     44.251      0.000       0.371       0.406\n",
            "City_Saint Petersburg      0.2869      0.013     22.447      0.000       0.262       0.312\n",
            "City_Kiev                  0.3723      0.009     41.960      0.000       0.355       0.390\n",
            "City_Rome                  0.4326      0.009     49.304      0.000       0.415       0.450\n",
            "City_Paris                 0.4474      0.009     50.838      0.000       0.430       0.465\n",
            "City_London                0.4502      0.009     51.047      0.000       0.433       0.467\n",
            "City_Montreal              0.2127      0.013     16.571      0.000       0.188       0.238\n",
            "City_Toronto               0.1626      0.013     12.705      0.000       0.138       0.188\n",
            "City_Chicago               0.5006      0.027     18.260      0.000       0.447       0.554\n",
            "City_Izmir                 0.2362      0.014     16.609      0.000       0.208       0.264\n",
            "City_New York              0.4967      0.027     18.087      0.000       0.443       0.551\n",
            "City_Ankara                0.0672      0.015      4.610      0.000       0.039       0.096\n",
            "City_Casablanca            0.3382      0.009     37.252      0.000       0.320       0.356\n",
            "City_Alexandria            0.1406      0.015      9.088      0.000       0.110       0.171\n",
            "City_Rangoon               0.1786      0.010     18.291      0.000       0.159       0.198\n",
            "City_Calcutta             -0.0393      0.018     -2.150      0.032      -0.075      -0.003\n",
            "City_Dhaka                 0.1399      0.010     14.355      0.000       0.121       0.159\n",
            "City_Surat                 0.0164      0.018      0.893      0.372      -0.020       0.052\n",
            "City_Nagpur                0.0314      0.018      1.712      0.087      -0.005       0.067\n",
            "City_Madras                0.0991      0.018      5.394      0.000       0.063       0.135\n",
            "City_Pune                  0.0142      0.018      0.776      0.438      -0.022       0.050\n",
            "City_Bombay                0.0251      0.018      1.367      0.171      -0.011       0.061\n",
            "City_Bangalore            -0.0171      0.018     -0.932      0.351      -0.053       0.019\n",
            "City_Hyderabad             0.0432      0.018      2.354      0.019       0.007       0.079\n",
            "City_Aleppo                0.3240      0.020     16.519      0.000       0.286       0.362\n",
            "City_Kanpur                0.0312      0.019      1.684      0.092      -0.005       0.068\n",
            "City_Lakhnau               0.0312      0.019      1.684      0.092      -0.005       0.068\n",
            "City_Ahmadabad             0.0345      0.019      1.858      0.063      -0.002       0.071\n",
            "City_Gizeh                 0.0425      0.016      2.658      0.008       0.011       0.074\n",
            "City_Cairo                 0.0425      0.016      2.658      0.008       0.011       0.074\n",
            "City_Jaipur                0.0256      0.019      1.363      0.173      -0.011       0.062\n",
            "City_Delhi                 0.0207      0.019      1.101      0.271      -0.016       0.057\n",
            "City_New Delhi             0.0207      0.019      1.101      0.271      -0.016       0.057\n",
            "City_Karachi               0.1744      0.025      7.063      0.000       0.126       0.223\n",
            "City_Baghdad               0.4059      0.020     20.029      0.000       0.366       0.446\n",
            "City_Harbin                0.2396      0.021     11.576      0.000       0.199       0.280\n",
            "City_Changchun             0.2354      0.021     11.405      0.000       0.195       0.276\n",
            "City_Taiyuan               0.3016      0.021     14.704      0.000       0.261       0.342\n",
            "City_Tianjin               0.2993      0.020     14.666      0.000       0.259       0.339\n",
            "City_Peking                0.2993      0.020     14.666      0.000       0.259       0.339\n",
            "City_Tangshan              0.2934      0.020     14.328      0.000       0.253       0.334\n",
            "City_Bangkok               0.1754      0.021      8.483      0.000       0.135       0.216\n",
            "City_Santo Domingo         0.1207      0.021      5.795      0.000       0.080       0.161\n",
            "City_Shenyang              0.1150      0.021      5.466      0.000       0.074       0.156\n",
            "City_Chengdu               0.1513      0.021      7.214      0.000       0.110       0.192\n",
            "City_Mashhad               0.2966      0.021     14.087      0.000       0.255       0.338\n",
            "City_Mexico                0.1381      0.021      6.564      0.000       0.097       0.179\n",
            "==============================================================================\n",
            "Omnibus:                   120162.958   Durbin-Watson:                   0.447\n",
            "Prob(Omnibus):                  0.000   Jarque-Bera (JB):          1369482.892\n",
            "Skew:                           2.295   Prob(JB):                         0.00\n",
            "Kurtosis:                      14.090   Cond. No.                     1.72e+20\n",
            "==============================================================================\n",
            "\n",
            "Warnings:\n",
            "[1] Standard Errors assume that the covariance matrix of the errors is correctly specified.\n",
            "[2] The smallest eigenvalue is 2.82e-29. This might indicate that there are\n",
            "strong multicollinearity problems or that the design matrix is singular.\n"
          ],
          "name": "stdout"
        }
      ]
    },
    {
      "cell_type": "code",
      "metadata": {
        "id": "0y5us3mUWpoW"
      },
      "source": [
        "from statsmodels.stats.outliers_influence import variance_inflation_factor\r\n",
        "\r\n",
        "def calc_vif(X):\r\n",
        "\r\n",
        "    # Calculating VIF\r\n",
        "    vif = pd.DataFrame()\r\n",
        "    vif[\"variables\"] = X.columns\r\n",
        "    vif[\"VIF\"] = [variance_inflation_factor(X.values, i) for i in range(X.shape[1])]\r\n",
        "\r\n",
        "    return(vif)"
      ],
      "execution_count": null,
      "outputs": []
    }
  ]
}