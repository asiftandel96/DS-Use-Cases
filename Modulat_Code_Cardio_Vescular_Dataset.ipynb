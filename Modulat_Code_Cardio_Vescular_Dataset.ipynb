{
  "nbformat": 4,
  "nbformat_minor": 0,
  "metadata": {
    "colab": {
      "name": "Modulat Code Cardio Vescular Dataset.ipynb",
      "provenance": [],
      "collapsed_sections": [],
      "include_colab_link": true
    },
    "kernelspec": {
      "display_name": "Python 3",
      "language": "python",
      "name": "python3"
    },
    "language_info": {
      "codemirror_mode": {
        "name": "ipython",
        "version": 3
      },
      "file_extension": ".py",
      "mimetype": "text/x-python",
      "name": "python",
      "nbconvert_exporter": "python",
      "pygments_lexer": "ipython3",
      "version": "3.8.0"
    }
  },
  "cells": [
    {
      "cell_type": "markdown",
      "metadata": {
        "id": "view-in-github",
        "colab_type": "text"
      },
      "source": [
        "<a href=\"https://colab.research.google.com/github/asiftandel96/Data-Science-Use-Cases/blob/main/Modulat_Code_Cardio_Vescular_Dataset.ipynb\" target=\"_parent\"><img src=\"https://colab.research.google.com/assets/colab-badge.svg\" alt=\"Open In Colab\"/></a>"
      ]
    },
    {
      "cell_type": "markdown",
      "metadata": {
        "id": "nosj2F2ds6Ix"
      },
      "source": [
        "PROBLEM STATEMENT:-\n",
        "\n",
        "We need to predict the absence of cardio vescular disease on the basis of some independent features\n"
      ]
    },
    {
      "cell_type": "markdown",
      "metadata": {
        "id": "s8kdrvsrs6JE"
      },
      "source": [
        "Dataset Description:-\n",
        "    \n",
        "There are 3 types of input features:\n",
        "\n",
        "Objective: factual information;\n",
        "    \n",
        "Examination: results of medical examination;\n",
        "    \n",
        "Subjective: information given by the patient.\n",
        "    \n",
        "Features:\n",
        "\n",
        "1. Age | Objective Feature | age | int (days)\n",
        "\n",
        "2. Height | Objective Feature | height | int (cm) |\n",
        "\n",
        "3. Weight | Objective Feature | weight | float (kg) |\n",
        "\n",
        "4. Gender | Objective Feature | gender | categorical code |\n",
        "\n",
        "5. Systolic blood pressure | Examination Feature | ap_hi | int |\n",
        "\n",
        "6. Diastolic blood pressure | Examination Feature | ap_lo | int |\n",
        "\n",
        "7. Cholesterol | Examination Feature | cholesterol | 1: normal, 2: above normal, 3: well above normal |\n",
        "8. Glucose | Examination Feature | gluc | 1: normal, 2: above normal, 3: well above normal |\n",
        "\n",
        "9. Smoking | Subjective Feature | smoke | binary |\n",
        "\n",
        "10. Alcohol intake | Subjective Feature | alco | binary |\n",
        "\n",
        "11. Physical activity | Subjective Feature | active | binary |\n",
        "\n",
        "Target Variable:-\n",
        "\n",
        "12. Presence or absence of cardiovascular disease | Target Variable | cardio | binary |"
      ]
    },
    {
      "cell_type": "code",
      "metadata": {
        "id": "4eSAIzmBs6JI"
      },
      "source": [
        "#Importing all the necessary libraries\n",
        "import pandas as pd\n",
        "from sklearn.preprocessing import OneHotEncoder,LabelEncoder\n",
        "from sklearn.model_selection import train_test_split\n",
        "from sklearn.linear_model import LogisticRegression\n",
        "from sklearn.tree import DecisionTreeClassifier\n",
        "from sklearn.metrics import accuracy_score,classification_report,roc_auc_score,confusion_matrix,roc_curve\n",
        "from sklearn.model_selection import GridSearchCV\n",
        "from skopt import BayesSearchCV"
      ],
      "execution_count": 109,
      "outputs": []
    },
    {
      "cell_type": "code",
      "metadata": {
        "colab": {
          "base_uri": "https://localhost:8080/"
        },
        "id": "FjgUCjNctSn_",
        "outputId": "92e99223-c8c0-427f-ffe8-8c35a57164c0"
      },
      "source": [
        "!pip install scikit-optimize"
      ],
      "execution_count": 110,
      "outputs": [
        {
          "output_type": "stream",
          "text": [
            "Requirement already satisfied: scikit-optimize in /usr/local/lib/python3.7/dist-packages (0.8.1)\n",
            "Requirement already satisfied: scipy>=0.19.1 in /usr/local/lib/python3.7/dist-packages (from scikit-optimize) (1.4.1)\n",
            "Requirement already satisfied: joblib>=0.11 in /usr/local/lib/python3.7/dist-packages (from scikit-optimize) (1.0.1)\n",
            "Requirement already satisfied: scikit-learn>=0.20.0 in /usr/local/lib/python3.7/dist-packages (from scikit-optimize) (0.22.2.post1)\n",
            "Requirement already satisfied: pyaml>=16.9 in /usr/local/lib/python3.7/dist-packages (from scikit-optimize) (20.4.0)\n",
            "Requirement already satisfied: numpy>=1.13.3 in /usr/local/lib/python3.7/dist-packages (from scikit-optimize) (1.19.5)\n",
            "Requirement already satisfied: PyYAML in /usr/local/lib/python3.7/dist-packages (from pyaml>=16.9->scikit-optimize) (3.13)\n"
          ],
          "name": "stdout"
        }
      ]
    },
    {
      "cell_type": "code",
      "metadata": {
        "id": "82IPd6tHs6JP"
      },
      "source": [
        "#Importing the dataset into the notebook\n",
        "#Creating A Cleaning Class\n",
        "class FirstProcess:\n",
        "        def __init__(self):\n",
        "            pass\n",
        "    \n",
        "        def loading_data(self,filename):\n",
        "            \"\"\"Loading the data\"\"\"\n",
        "            df=pd.read_csv(filename,sep=';')\n",
        "            return df"
      ],
      "execution_count": 111,
      "outputs": []
    },
    {
      "cell_type": "code",
      "metadata": {
        "colab": {
          "base_uri": "https://localhost:8080/",
          "height": 419
        },
        "id": "zxOEB8hes6JQ",
        "outputId": "61348db7-62d9-4628-fb55-871e78b69425"
      },
      "source": [
        "#Checking the shape of the dataset\n",
        "a=FirstProcess()\n",
        "df=a.loading_data('/content/sample_data/cardio_train.csv')\n",
        "df"
      ],
      "execution_count": 112,
      "outputs": [
        {
          "output_type": "execute_result",
          "data": {
            "text/html": [
              "<div>\n",
              "<style scoped>\n",
              "    .dataframe tbody tr th:only-of-type {\n",
              "        vertical-align: middle;\n",
              "    }\n",
              "\n",
              "    .dataframe tbody tr th {\n",
              "        vertical-align: top;\n",
              "    }\n",
              "\n",
              "    .dataframe thead th {\n",
              "        text-align: right;\n",
              "    }\n",
              "</style>\n",
              "<table border=\"1\" class=\"dataframe\">\n",
              "  <thead>\n",
              "    <tr style=\"text-align: right;\">\n",
              "      <th></th>\n",
              "      <th>id</th>\n",
              "      <th>age</th>\n",
              "      <th>gender</th>\n",
              "      <th>height</th>\n",
              "      <th>weight</th>\n",
              "      <th>ap_hi</th>\n",
              "      <th>ap_lo</th>\n",
              "      <th>cholesterol</th>\n",
              "      <th>gluc</th>\n",
              "      <th>smoke</th>\n",
              "      <th>alco</th>\n",
              "      <th>active</th>\n",
              "      <th>cardio</th>\n",
              "    </tr>\n",
              "  </thead>\n",
              "  <tbody>\n",
              "    <tr>\n",
              "      <th>0</th>\n",
              "      <td>0</td>\n",
              "      <td>18393</td>\n",
              "      <td>2</td>\n",
              "      <td>168</td>\n",
              "      <td>62.0</td>\n",
              "      <td>110</td>\n",
              "      <td>80</td>\n",
              "      <td>1</td>\n",
              "      <td>1</td>\n",
              "      <td>0</td>\n",
              "      <td>0</td>\n",
              "      <td>1</td>\n",
              "      <td>0</td>\n",
              "    </tr>\n",
              "    <tr>\n",
              "      <th>1</th>\n",
              "      <td>1</td>\n",
              "      <td>20228</td>\n",
              "      <td>1</td>\n",
              "      <td>156</td>\n",
              "      <td>85.0</td>\n",
              "      <td>140</td>\n",
              "      <td>90</td>\n",
              "      <td>3</td>\n",
              "      <td>1</td>\n",
              "      <td>0</td>\n",
              "      <td>0</td>\n",
              "      <td>1</td>\n",
              "      <td>1</td>\n",
              "    </tr>\n",
              "    <tr>\n",
              "      <th>2</th>\n",
              "      <td>2</td>\n",
              "      <td>18857</td>\n",
              "      <td>1</td>\n",
              "      <td>165</td>\n",
              "      <td>64.0</td>\n",
              "      <td>130</td>\n",
              "      <td>70</td>\n",
              "      <td>3</td>\n",
              "      <td>1</td>\n",
              "      <td>0</td>\n",
              "      <td>0</td>\n",
              "      <td>0</td>\n",
              "      <td>1</td>\n",
              "    </tr>\n",
              "    <tr>\n",
              "      <th>3</th>\n",
              "      <td>3</td>\n",
              "      <td>17623</td>\n",
              "      <td>2</td>\n",
              "      <td>169</td>\n",
              "      <td>82.0</td>\n",
              "      <td>150</td>\n",
              "      <td>100</td>\n",
              "      <td>1</td>\n",
              "      <td>1</td>\n",
              "      <td>0</td>\n",
              "      <td>0</td>\n",
              "      <td>1</td>\n",
              "      <td>1</td>\n",
              "    </tr>\n",
              "    <tr>\n",
              "      <th>4</th>\n",
              "      <td>4</td>\n",
              "      <td>17474</td>\n",
              "      <td>1</td>\n",
              "      <td>156</td>\n",
              "      <td>56.0</td>\n",
              "      <td>100</td>\n",
              "      <td>60</td>\n",
              "      <td>1</td>\n",
              "      <td>1</td>\n",
              "      <td>0</td>\n",
              "      <td>0</td>\n",
              "      <td>0</td>\n",
              "      <td>0</td>\n",
              "    </tr>\n",
              "    <tr>\n",
              "      <th>...</th>\n",
              "      <td>...</td>\n",
              "      <td>...</td>\n",
              "      <td>...</td>\n",
              "      <td>...</td>\n",
              "      <td>...</td>\n",
              "      <td>...</td>\n",
              "      <td>...</td>\n",
              "      <td>...</td>\n",
              "      <td>...</td>\n",
              "      <td>...</td>\n",
              "      <td>...</td>\n",
              "      <td>...</td>\n",
              "      <td>...</td>\n",
              "    </tr>\n",
              "    <tr>\n",
              "      <th>69995</th>\n",
              "      <td>99993</td>\n",
              "      <td>19240</td>\n",
              "      <td>2</td>\n",
              "      <td>168</td>\n",
              "      <td>76.0</td>\n",
              "      <td>120</td>\n",
              "      <td>80</td>\n",
              "      <td>1</td>\n",
              "      <td>1</td>\n",
              "      <td>1</td>\n",
              "      <td>0</td>\n",
              "      <td>1</td>\n",
              "      <td>0</td>\n",
              "    </tr>\n",
              "    <tr>\n",
              "      <th>69996</th>\n",
              "      <td>99995</td>\n",
              "      <td>22601</td>\n",
              "      <td>1</td>\n",
              "      <td>158</td>\n",
              "      <td>126.0</td>\n",
              "      <td>140</td>\n",
              "      <td>90</td>\n",
              "      <td>2</td>\n",
              "      <td>2</td>\n",
              "      <td>0</td>\n",
              "      <td>0</td>\n",
              "      <td>1</td>\n",
              "      <td>1</td>\n",
              "    </tr>\n",
              "    <tr>\n",
              "      <th>69997</th>\n",
              "      <td>99996</td>\n",
              "      <td>19066</td>\n",
              "      <td>2</td>\n",
              "      <td>183</td>\n",
              "      <td>105.0</td>\n",
              "      <td>180</td>\n",
              "      <td>90</td>\n",
              "      <td>3</td>\n",
              "      <td>1</td>\n",
              "      <td>0</td>\n",
              "      <td>1</td>\n",
              "      <td>0</td>\n",
              "      <td>1</td>\n",
              "    </tr>\n",
              "    <tr>\n",
              "      <th>69998</th>\n",
              "      <td>99998</td>\n",
              "      <td>22431</td>\n",
              "      <td>1</td>\n",
              "      <td>163</td>\n",
              "      <td>72.0</td>\n",
              "      <td>135</td>\n",
              "      <td>80</td>\n",
              "      <td>1</td>\n",
              "      <td>2</td>\n",
              "      <td>0</td>\n",
              "      <td>0</td>\n",
              "      <td>0</td>\n",
              "      <td>1</td>\n",
              "    </tr>\n",
              "    <tr>\n",
              "      <th>69999</th>\n",
              "      <td>99999</td>\n",
              "      <td>20540</td>\n",
              "      <td>1</td>\n",
              "      <td>170</td>\n",
              "      <td>72.0</td>\n",
              "      <td>120</td>\n",
              "      <td>80</td>\n",
              "      <td>2</td>\n",
              "      <td>1</td>\n",
              "      <td>0</td>\n",
              "      <td>0</td>\n",
              "      <td>1</td>\n",
              "      <td>0</td>\n",
              "    </tr>\n",
              "  </tbody>\n",
              "</table>\n",
              "<p>70000 rows × 13 columns</p>\n",
              "</div>"
            ],
            "text/plain": [
              "          id    age  gender  height  weight  ...  gluc  smoke  alco  active  cardio\n",
              "0          0  18393       2     168    62.0  ...     1      0     0       1       0\n",
              "1          1  20228       1     156    85.0  ...     1      0     0       1       1\n",
              "2          2  18857       1     165    64.0  ...     1      0     0       0       1\n",
              "3          3  17623       2     169    82.0  ...     1      0     0       1       1\n",
              "4          4  17474       1     156    56.0  ...     1      0     0       0       0\n",
              "...      ...    ...     ...     ...     ...  ...   ...    ...   ...     ...     ...\n",
              "69995  99993  19240       2     168    76.0  ...     1      1     0       1       0\n",
              "69996  99995  22601       1     158   126.0  ...     2      0     0       1       1\n",
              "69997  99996  19066       2     183   105.0  ...     1      0     1       0       1\n",
              "69998  99998  22431       1     163    72.0  ...     2      0     0       0       1\n",
              "69999  99999  20540       1     170    72.0  ...     1      0     0       1       0\n",
              "\n",
              "[70000 rows x 13 columns]"
            ]
          },
          "metadata": {
            "tags": []
          },
          "execution_count": 112
        }
      ]
    },
    {
      "cell_type": "code",
      "metadata": {
        "colab": {
          "base_uri": "https://localhost:8080/",
          "height": 204
        },
        "id": "jYusVayEs6JS",
        "outputId": "27b64ff7-d7a8-4cb1-f878-798a8f308df7"
      },
      "source": [
        "# Converting age(in days) to age in years by dividing it by 1 years=365 converting_some_data(df,'age')\n",
        "df['age']=df['age']/365\n",
        "df.head()"
      ],
      "execution_count": 113,
      "outputs": [
        {
          "output_type": "execute_result",
          "data": {
            "text/html": [
              "<div>\n",
              "<style scoped>\n",
              "    .dataframe tbody tr th:only-of-type {\n",
              "        vertical-align: middle;\n",
              "    }\n",
              "\n",
              "    .dataframe tbody tr th {\n",
              "        vertical-align: top;\n",
              "    }\n",
              "\n",
              "    .dataframe thead th {\n",
              "        text-align: right;\n",
              "    }\n",
              "</style>\n",
              "<table border=\"1\" class=\"dataframe\">\n",
              "  <thead>\n",
              "    <tr style=\"text-align: right;\">\n",
              "      <th></th>\n",
              "      <th>id</th>\n",
              "      <th>age</th>\n",
              "      <th>gender</th>\n",
              "      <th>height</th>\n",
              "      <th>weight</th>\n",
              "      <th>ap_hi</th>\n",
              "      <th>ap_lo</th>\n",
              "      <th>cholesterol</th>\n",
              "      <th>gluc</th>\n",
              "      <th>smoke</th>\n",
              "      <th>alco</th>\n",
              "      <th>active</th>\n",
              "      <th>cardio</th>\n",
              "    </tr>\n",
              "  </thead>\n",
              "  <tbody>\n",
              "    <tr>\n",
              "      <th>0</th>\n",
              "      <td>0</td>\n",
              "      <td>50.391781</td>\n",
              "      <td>2</td>\n",
              "      <td>168</td>\n",
              "      <td>62.0</td>\n",
              "      <td>110</td>\n",
              "      <td>80</td>\n",
              "      <td>1</td>\n",
              "      <td>1</td>\n",
              "      <td>0</td>\n",
              "      <td>0</td>\n",
              "      <td>1</td>\n",
              "      <td>0</td>\n",
              "    </tr>\n",
              "    <tr>\n",
              "      <th>1</th>\n",
              "      <td>1</td>\n",
              "      <td>55.419178</td>\n",
              "      <td>1</td>\n",
              "      <td>156</td>\n",
              "      <td>85.0</td>\n",
              "      <td>140</td>\n",
              "      <td>90</td>\n",
              "      <td>3</td>\n",
              "      <td>1</td>\n",
              "      <td>0</td>\n",
              "      <td>0</td>\n",
              "      <td>1</td>\n",
              "      <td>1</td>\n",
              "    </tr>\n",
              "    <tr>\n",
              "      <th>2</th>\n",
              "      <td>2</td>\n",
              "      <td>51.663014</td>\n",
              "      <td>1</td>\n",
              "      <td>165</td>\n",
              "      <td>64.0</td>\n",
              "      <td>130</td>\n",
              "      <td>70</td>\n",
              "      <td>3</td>\n",
              "      <td>1</td>\n",
              "      <td>0</td>\n",
              "      <td>0</td>\n",
              "      <td>0</td>\n",
              "      <td>1</td>\n",
              "    </tr>\n",
              "    <tr>\n",
              "      <th>3</th>\n",
              "      <td>3</td>\n",
              "      <td>48.282192</td>\n",
              "      <td>2</td>\n",
              "      <td>169</td>\n",
              "      <td>82.0</td>\n",
              "      <td>150</td>\n",
              "      <td>100</td>\n",
              "      <td>1</td>\n",
              "      <td>1</td>\n",
              "      <td>0</td>\n",
              "      <td>0</td>\n",
              "      <td>1</td>\n",
              "      <td>1</td>\n",
              "    </tr>\n",
              "    <tr>\n",
              "      <th>4</th>\n",
              "      <td>4</td>\n",
              "      <td>47.873973</td>\n",
              "      <td>1</td>\n",
              "      <td>156</td>\n",
              "      <td>56.0</td>\n",
              "      <td>100</td>\n",
              "      <td>60</td>\n",
              "      <td>1</td>\n",
              "      <td>1</td>\n",
              "      <td>0</td>\n",
              "      <td>0</td>\n",
              "      <td>0</td>\n",
              "      <td>0</td>\n",
              "    </tr>\n",
              "  </tbody>\n",
              "</table>\n",
              "</div>"
            ],
            "text/plain": [
              "   id        age  gender  height  weight  ...  gluc  smoke  alco  active  cardio\n",
              "0   0  50.391781       2     168    62.0  ...     1      0     0       1       0\n",
              "1   1  55.419178       1     156    85.0  ...     1      0     0       1       1\n",
              "2   2  51.663014       1     165    64.0  ...     1      0     0       0       1\n",
              "3   3  48.282192       2     169    82.0  ...     1      0     0       1       1\n",
              "4   4  47.873973       1     156    56.0  ...     1      0     0       0       0\n",
              "\n",
              "[5 rows x 13 columns]"
            ]
          },
          "metadata": {
            "tags": []
          },
          "execution_count": 113
        }
      ]
    },
    {
      "cell_type": "code",
      "metadata": {
        "id": "cASdstUls6JT"
      },
      "source": [
        "# Changing rename of the columns\n",
        "df.rename(columns={\"gluc\":\"glucose\",\"smoke\":\"Smoking\",\"alco\":\"Alcohol\",\"active\":\"Physical_Activity\",\n",
        "                   \"cardio\":\"cardio_vascular_disease\"},inplace=True)"
      ],
      "execution_count": 114,
      "outputs": []
    },
    {
      "cell_type": "code",
      "metadata": {
        "id": "WLsWBaBPs6JU"
      },
      "source": [
        "#Dropping id because it is a irrelevant columns\n",
        "df.drop('id',axis=1,inplace=True)"
      ],
      "execution_count": 115,
      "outputs": []
    },
    {
      "cell_type": "code",
      "metadata": {
        "colab": {
          "base_uri": "https://localhost:8080/"
        },
        "id": "sFztq5W7s6JV",
        "outputId": "07de724a-3bc3-4e75-a71c-78ceb72d75b8"
      },
      "source": [
        "# Checking the missing values of the dataset\n",
        "df.isnull().sum()"
      ],
      "execution_count": 116,
      "outputs": [
        {
          "output_type": "execute_result",
          "data": {
            "text/plain": [
              "age                        0\n",
              "gender                     0\n",
              "height                     0\n",
              "weight                     0\n",
              "ap_hi                      0\n",
              "ap_lo                      0\n",
              "cholesterol                0\n",
              "glucose                    0\n",
              "Smoking                    0\n",
              "Alcohol                    0\n",
              "Physical_Activity          0\n",
              "cardio_vascular_disease    0\n",
              "dtype: int64"
            ]
          },
          "metadata": {
            "tags": []
          },
          "execution_count": 116
        }
      ]
    },
    {
      "cell_type": "code",
      "metadata": {
        "id": "5Qlef6crs6JW"
      },
      "source": [
        "# Checking Anomalies in the dataset(In any columns)\n",
        "class Anomalies:\n",
        "    def __init__(self):\n",
        "        pass\n",
        "\n",
        "    def check_anomalies(self,df,columns):\n",
        "        df=df[df[columns]<0]\n",
        "        return df"
      ],
      "execution_count": 117,
      "outputs": []
    },
    {
      "cell_type": "code",
      "metadata": {
        "colab": {
          "base_uri": "https://localhost:8080/",
          "height": 69
        },
        "id": "DlgLYf0Ss6JX",
        "outputId": "414ca35e-e0dc-40c4-a4c2-c88e3ae81bdd"
      },
      "source": [
        "a=Anomalies()\n",
        "a.check_anomalies(df,'glucose')"
      ],
      "execution_count": 118,
      "outputs": [
        {
          "output_type": "execute_result",
          "data": {
            "text/html": [
              "<div>\n",
              "<style scoped>\n",
              "    .dataframe tbody tr th:only-of-type {\n",
              "        vertical-align: middle;\n",
              "    }\n",
              "\n",
              "    .dataframe tbody tr th {\n",
              "        vertical-align: top;\n",
              "    }\n",
              "\n",
              "    .dataframe thead th {\n",
              "        text-align: right;\n",
              "    }\n",
              "</style>\n",
              "<table border=\"1\" class=\"dataframe\">\n",
              "  <thead>\n",
              "    <tr style=\"text-align: right;\">\n",
              "      <th></th>\n",
              "      <th>age</th>\n",
              "      <th>gender</th>\n",
              "      <th>height</th>\n",
              "      <th>weight</th>\n",
              "      <th>ap_hi</th>\n",
              "      <th>ap_lo</th>\n",
              "      <th>cholesterol</th>\n",
              "      <th>glucose</th>\n",
              "      <th>Smoking</th>\n",
              "      <th>Alcohol</th>\n",
              "      <th>Physical_Activity</th>\n",
              "      <th>cardio_vascular_disease</th>\n",
              "    </tr>\n",
              "  </thead>\n",
              "  <tbody>\n",
              "  </tbody>\n",
              "</table>\n",
              "</div>"
            ],
            "text/plain": [
              "Empty DataFrame\n",
              "Columns: [age, gender, height, weight, ap_hi, ap_lo, cholesterol, glucose, Smoking, Alcohol, Physical_Activity, cardio_vascular_disease]\n",
              "Index: []"
            ]
          },
          "metadata": {
            "tags": []
          },
          "execution_count": 118
        }
      ]
    },
    {
      "cell_type": "code",
      "metadata": {
        "colab": {
          "base_uri": "https://localhost:8080/",
          "height": 69
        },
        "id": "afoPC3zXs6JY",
        "outputId": "9eee3837-0dfa-4d18-ecd7-0de9747992f4"
      },
      "source": [
        "a.check_anomalies(df,'weight')"
      ],
      "execution_count": 119,
      "outputs": [
        {
          "output_type": "execute_result",
          "data": {
            "text/html": [
              "<div>\n",
              "<style scoped>\n",
              "    .dataframe tbody tr th:only-of-type {\n",
              "        vertical-align: middle;\n",
              "    }\n",
              "\n",
              "    .dataframe tbody tr th {\n",
              "        vertical-align: top;\n",
              "    }\n",
              "\n",
              "    .dataframe thead th {\n",
              "        text-align: right;\n",
              "    }\n",
              "</style>\n",
              "<table border=\"1\" class=\"dataframe\">\n",
              "  <thead>\n",
              "    <tr style=\"text-align: right;\">\n",
              "      <th></th>\n",
              "      <th>age</th>\n",
              "      <th>gender</th>\n",
              "      <th>height</th>\n",
              "      <th>weight</th>\n",
              "      <th>ap_hi</th>\n",
              "      <th>ap_lo</th>\n",
              "      <th>cholesterol</th>\n",
              "      <th>glucose</th>\n",
              "      <th>Smoking</th>\n",
              "      <th>Alcohol</th>\n",
              "      <th>Physical_Activity</th>\n",
              "      <th>cardio_vascular_disease</th>\n",
              "    </tr>\n",
              "  </thead>\n",
              "  <tbody>\n",
              "  </tbody>\n",
              "</table>\n",
              "</div>"
            ],
            "text/plain": [
              "Empty DataFrame\n",
              "Columns: [age, gender, height, weight, ap_hi, ap_lo, cholesterol, glucose, Smoking, Alcohol, Physical_Activity, cardio_vascular_disease]\n",
              "Index: []"
            ]
          },
          "metadata": {
            "tags": []
          },
          "execution_count": 119
        }
      ]
    },
    {
      "cell_type": "code",
      "metadata": {
        "colab": {
          "base_uri": "https://localhost:8080/",
          "height": 286
        },
        "id": "XZxSzem6s6JZ",
        "outputId": "a12ab2a5-92f8-4d0a-90ce-f9921636b8ee"
      },
      "source": [
        "a.check_anomalies(df,'ap_hi')"
      ],
      "execution_count": 120,
      "outputs": [
        {
          "output_type": "execute_result",
          "data": {
            "text/html": [
              "<div>\n",
              "<style scoped>\n",
              "    .dataframe tbody tr th:only-of-type {\n",
              "        vertical-align: middle;\n",
              "    }\n",
              "\n",
              "    .dataframe tbody tr th {\n",
              "        vertical-align: top;\n",
              "    }\n",
              "\n",
              "    .dataframe thead th {\n",
              "        text-align: right;\n",
              "    }\n",
              "</style>\n",
              "<table border=\"1\" class=\"dataframe\">\n",
              "  <thead>\n",
              "    <tr style=\"text-align: right;\">\n",
              "      <th></th>\n",
              "      <th>age</th>\n",
              "      <th>gender</th>\n",
              "      <th>height</th>\n",
              "      <th>weight</th>\n",
              "      <th>ap_hi</th>\n",
              "      <th>ap_lo</th>\n",
              "      <th>cholesterol</th>\n",
              "      <th>glucose</th>\n",
              "      <th>Smoking</th>\n",
              "      <th>Alcohol</th>\n",
              "      <th>Physical_Activity</th>\n",
              "      <th>cardio_vascular_disease</th>\n",
              "    </tr>\n",
              "  </thead>\n",
              "  <tbody>\n",
              "    <tr>\n",
              "      <th>4607</th>\n",
              "      <td>41.865753</td>\n",
              "      <td>1</td>\n",
              "      <td>165</td>\n",
              "      <td>78.0</td>\n",
              "      <td>-100</td>\n",
              "      <td>80</td>\n",
              "      <td>2</td>\n",
              "      <td>1</td>\n",
              "      <td>0</td>\n",
              "      <td>0</td>\n",
              "      <td>1</td>\n",
              "      <td>0</td>\n",
              "    </tr>\n",
              "    <tr>\n",
              "      <th>16021</th>\n",
              "      <td>60.569863</td>\n",
              "      <td>2</td>\n",
              "      <td>161</td>\n",
              "      <td>90.0</td>\n",
              "      <td>-115</td>\n",
              "      <td>70</td>\n",
              "      <td>1</td>\n",
              "      <td>1</td>\n",
              "      <td>0</td>\n",
              "      <td>0</td>\n",
              "      <td>1</td>\n",
              "      <td>0</td>\n",
              "    </tr>\n",
              "    <tr>\n",
              "      <th>20536</th>\n",
              "      <td>42.687671</td>\n",
              "      <td>1</td>\n",
              "      <td>153</td>\n",
              "      <td>54.0</td>\n",
              "      <td>-100</td>\n",
              "      <td>70</td>\n",
              "      <td>1</td>\n",
              "      <td>1</td>\n",
              "      <td>0</td>\n",
              "      <td>0</td>\n",
              "      <td>1</td>\n",
              "      <td>0</td>\n",
              "    </tr>\n",
              "    <tr>\n",
              "      <th>23988</th>\n",
              "      <td>50.139726</td>\n",
              "      <td>1</td>\n",
              "      <td>162</td>\n",
              "      <td>74.0</td>\n",
              "      <td>-140</td>\n",
              "      <td>90</td>\n",
              "      <td>1</td>\n",
              "      <td>1</td>\n",
              "      <td>0</td>\n",
              "      <td>0</td>\n",
              "      <td>1</td>\n",
              "      <td>1</td>\n",
              "    </tr>\n",
              "    <tr>\n",
              "      <th>25240</th>\n",
              "      <td>40.304110</td>\n",
              "      <td>2</td>\n",
              "      <td>168</td>\n",
              "      <td>50.0</td>\n",
              "      <td>-120</td>\n",
              "      <td>80</td>\n",
              "      <td>2</td>\n",
              "      <td>1</td>\n",
              "      <td>0</td>\n",
              "      <td>0</td>\n",
              "      <td>0</td>\n",
              "      <td>1</td>\n",
              "    </tr>\n",
              "    <tr>\n",
              "      <th>35040</th>\n",
              "      <td>63.904110</td>\n",
              "      <td>2</td>\n",
              "      <td>168</td>\n",
              "      <td>59.0</td>\n",
              "      <td>-150</td>\n",
              "      <td>80</td>\n",
              "      <td>1</td>\n",
              "      <td>1</td>\n",
              "      <td>0</td>\n",
              "      <td>0</td>\n",
              "      <td>1</td>\n",
              "      <td>1</td>\n",
              "    </tr>\n",
              "    <tr>\n",
              "      <th>46627</th>\n",
              "      <td>64.783562</td>\n",
              "      <td>2</td>\n",
              "      <td>160</td>\n",
              "      <td>59.0</td>\n",
              "      <td>-120</td>\n",
              "      <td>80</td>\n",
              "      <td>1</td>\n",
              "      <td>1</td>\n",
              "      <td>0</td>\n",
              "      <td>0</td>\n",
              "      <td>0</td>\n",
              "      <td>0</td>\n",
              "    </tr>\n",
              "  </tbody>\n",
              "</table>\n",
              "</div>"
            ],
            "text/plain": [
              "             age  gender  ...  Physical_Activity  cardio_vascular_disease\n",
              "4607   41.865753       1  ...                  1                        0\n",
              "16021  60.569863       2  ...                  1                        0\n",
              "20536  42.687671       1  ...                  1                        0\n",
              "23988  50.139726       1  ...                  1                        1\n",
              "25240  40.304110       2  ...                  0                        1\n",
              "35040  63.904110       2  ...                  1                        1\n",
              "46627  64.783562       2  ...                  0                        0\n",
              "\n",
              "[7 rows x 12 columns]"
            ]
          },
          "metadata": {
            "tags": []
          },
          "execution_count": 120
        }
      ]
    },
    {
      "cell_type": "code",
      "metadata": {
        "colab": {
          "base_uri": "https://localhost:8080/",
          "height": 100
        },
        "id": "z_Q1_7gls6Jb",
        "outputId": "45328dc1-40ed-44d5-d384-4db8dc28f74a"
      },
      "source": [
        "a.check_anomalies(df,'ap_lo')"
      ],
      "execution_count": 121,
      "outputs": [
        {
          "output_type": "execute_result",
          "data": {
            "text/html": [
              "<div>\n",
              "<style scoped>\n",
              "    .dataframe tbody tr th:only-of-type {\n",
              "        vertical-align: middle;\n",
              "    }\n",
              "\n",
              "    .dataframe tbody tr th {\n",
              "        vertical-align: top;\n",
              "    }\n",
              "\n",
              "    .dataframe thead th {\n",
              "        text-align: right;\n",
              "    }\n",
              "</style>\n",
              "<table border=\"1\" class=\"dataframe\">\n",
              "  <thead>\n",
              "    <tr style=\"text-align: right;\">\n",
              "      <th></th>\n",
              "      <th>age</th>\n",
              "      <th>gender</th>\n",
              "      <th>height</th>\n",
              "      <th>weight</th>\n",
              "      <th>ap_hi</th>\n",
              "      <th>ap_lo</th>\n",
              "      <th>cholesterol</th>\n",
              "      <th>glucose</th>\n",
              "      <th>Smoking</th>\n",
              "      <th>Alcohol</th>\n",
              "      <th>Physical_Activity</th>\n",
              "      <th>cardio_vascular_disease</th>\n",
              "    </tr>\n",
              "  </thead>\n",
              "  <tbody>\n",
              "    <tr>\n",
              "      <th>60106</th>\n",
              "      <td>61.838356</td>\n",
              "      <td>1</td>\n",
              "      <td>167</td>\n",
              "      <td>74.0</td>\n",
              "      <td>15</td>\n",
              "      <td>-70</td>\n",
              "      <td>1</td>\n",
              "      <td>1</td>\n",
              "      <td>0</td>\n",
              "      <td>0</td>\n",
              "      <td>1</td>\n",
              "      <td>1</td>\n",
              "    </tr>\n",
              "  </tbody>\n",
              "</table>\n",
              "</div>"
            ],
            "text/plain": [
              "             age  gender  ...  Physical_Activity  cardio_vascular_disease\n",
              "60106  61.838356       1  ...                  1                        1\n",
              "\n",
              "[1 rows x 12 columns]"
            ]
          },
          "metadata": {
            "tags": []
          },
          "execution_count": 121
        }
      ]
    },
    {
      "cell_type": "code",
      "metadata": {
        "id": "aUmp54bts6Jc"
      },
      "source": [
        "#df.drop(index=[4607,16021,20536,23988,25240,35040,46627],inplace=True)"
      ],
      "execution_count": 122,
      "outputs": []
    },
    {
      "cell_type": "code",
      "metadata": {
        "id": "9zc9XTBls6Jc"
      },
      "source": [
        "#df.drop(index=[60106],inplace=True)"
      ],
      "execution_count": 123,
      "outputs": []
    },
    {
      "cell_type": "code",
      "metadata": {
        "colab": {
          "base_uri": "https://localhost:8080/",
          "height": 69
        },
        "id": "samVMnChs6Jd",
        "outputId": "0a122901-4d74-47f3-a25e-fa56a320da84"
      },
      "source": [
        "a.check_anomalies(df,'cholesterol')"
      ],
      "execution_count": 124,
      "outputs": [
        {
          "output_type": "execute_result",
          "data": {
            "text/html": [
              "<div>\n",
              "<style scoped>\n",
              "    .dataframe tbody tr th:only-of-type {\n",
              "        vertical-align: middle;\n",
              "    }\n",
              "\n",
              "    .dataframe tbody tr th {\n",
              "        vertical-align: top;\n",
              "    }\n",
              "\n",
              "    .dataframe thead th {\n",
              "        text-align: right;\n",
              "    }\n",
              "</style>\n",
              "<table border=\"1\" class=\"dataframe\">\n",
              "  <thead>\n",
              "    <tr style=\"text-align: right;\">\n",
              "      <th></th>\n",
              "      <th>age</th>\n",
              "      <th>gender</th>\n",
              "      <th>height</th>\n",
              "      <th>weight</th>\n",
              "      <th>ap_hi</th>\n",
              "      <th>ap_lo</th>\n",
              "      <th>cholesterol</th>\n",
              "      <th>glucose</th>\n",
              "      <th>Smoking</th>\n",
              "      <th>Alcohol</th>\n",
              "      <th>Physical_Activity</th>\n",
              "      <th>cardio_vascular_disease</th>\n",
              "    </tr>\n",
              "  </thead>\n",
              "  <tbody>\n",
              "  </tbody>\n",
              "</table>\n",
              "</div>"
            ],
            "text/plain": [
              "Empty DataFrame\n",
              "Columns: [age, gender, height, weight, ap_hi, ap_lo, cholesterol, glucose, Smoking, Alcohol, Physical_Activity, cardio_vascular_disease]\n",
              "Index: []"
            ]
          },
          "metadata": {
            "tags": []
          },
          "execution_count": 124
        }
      ]
    },
    {
      "cell_type": "code",
      "metadata": {
        "colab": {
          "base_uri": "https://localhost:8080/",
          "height": 69
        },
        "id": "9UOnL2kss6Je",
        "outputId": "2817f42b-b511-4f84-d107-111a51062634"
      },
      "source": [
        "a.check_anomalies(df,'Smoking')"
      ],
      "execution_count": 125,
      "outputs": [
        {
          "output_type": "execute_result",
          "data": {
            "text/html": [
              "<div>\n",
              "<style scoped>\n",
              "    .dataframe tbody tr th:only-of-type {\n",
              "        vertical-align: middle;\n",
              "    }\n",
              "\n",
              "    .dataframe tbody tr th {\n",
              "        vertical-align: top;\n",
              "    }\n",
              "\n",
              "    .dataframe thead th {\n",
              "        text-align: right;\n",
              "    }\n",
              "</style>\n",
              "<table border=\"1\" class=\"dataframe\">\n",
              "  <thead>\n",
              "    <tr style=\"text-align: right;\">\n",
              "      <th></th>\n",
              "      <th>age</th>\n",
              "      <th>gender</th>\n",
              "      <th>height</th>\n",
              "      <th>weight</th>\n",
              "      <th>ap_hi</th>\n",
              "      <th>ap_lo</th>\n",
              "      <th>cholesterol</th>\n",
              "      <th>glucose</th>\n",
              "      <th>Smoking</th>\n",
              "      <th>Alcohol</th>\n",
              "      <th>Physical_Activity</th>\n",
              "      <th>cardio_vascular_disease</th>\n",
              "    </tr>\n",
              "  </thead>\n",
              "  <tbody>\n",
              "  </tbody>\n",
              "</table>\n",
              "</div>"
            ],
            "text/plain": [
              "Empty DataFrame\n",
              "Columns: [age, gender, height, weight, ap_hi, ap_lo, cholesterol, glucose, Smoking, Alcohol, Physical_Activity, cardio_vascular_disease]\n",
              "Index: []"
            ]
          },
          "metadata": {
            "tags": []
          },
          "execution_count": 125
        }
      ]
    },
    {
      "cell_type": "code",
      "metadata": {
        "colab": {
          "base_uri": "https://localhost:8080/",
          "height": 69
        },
        "id": "YMciEMpYs6Jg",
        "outputId": "a53b7100-9ead-43e2-ce1d-8c8e7b6bf2ba"
      },
      "source": [
        "a.check_anomalies(df,'age')"
      ],
      "execution_count": 126,
      "outputs": [
        {
          "output_type": "execute_result",
          "data": {
            "text/html": [
              "<div>\n",
              "<style scoped>\n",
              "    .dataframe tbody tr th:only-of-type {\n",
              "        vertical-align: middle;\n",
              "    }\n",
              "\n",
              "    .dataframe tbody tr th {\n",
              "        vertical-align: top;\n",
              "    }\n",
              "\n",
              "    .dataframe thead th {\n",
              "        text-align: right;\n",
              "    }\n",
              "</style>\n",
              "<table border=\"1\" class=\"dataframe\">\n",
              "  <thead>\n",
              "    <tr style=\"text-align: right;\">\n",
              "      <th></th>\n",
              "      <th>age</th>\n",
              "      <th>gender</th>\n",
              "      <th>height</th>\n",
              "      <th>weight</th>\n",
              "      <th>ap_hi</th>\n",
              "      <th>ap_lo</th>\n",
              "      <th>cholesterol</th>\n",
              "      <th>glucose</th>\n",
              "      <th>Smoking</th>\n",
              "      <th>Alcohol</th>\n",
              "      <th>Physical_Activity</th>\n",
              "      <th>cardio_vascular_disease</th>\n",
              "    </tr>\n",
              "  </thead>\n",
              "  <tbody>\n",
              "  </tbody>\n",
              "</table>\n",
              "</div>"
            ],
            "text/plain": [
              "Empty DataFrame\n",
              "Columns: [age, gender, height, weight, ap_hi, ap_lo, cholesterol, glucose, Smoking, Alcohol, Physical_Activity, cardio_vascular_disease]\n",
              "Index: []"
            ]
          },
          "metadata": {
            "tags": []
          },
          "execution_count": 126
        }
      ]
    },
    {
      "cell_type": "code",
      "metadata": {
        "colab": {
          "base_uri": "https://localhost:8080/",
          "height": 69
        },
        "id": "AkqMs3z_s6Jg",
        "outputId": "67cdbd1c-fa6f-4fc1-9a1c-666bb33799aa"
      },
      "source": [
        "a.check_anomalies(df,'Alcohol')"
      ],
      "execution_count": 127,
      "outputs": [
        {
          "output_type": "execute_result",
          "data": {
            "text/html": [
              "<div>\n",
              "<style scoped>\n",
              "    .dataframe tbody tr th:only-of-type {\n",
              "        vertical-align: middle;\n",
              "    }\n",
              "\n",
              "    .dataframe tbody tr th {\n",
              "        vertical-align: top;\n",
              "    }\n",
              "\n",
              "    .dataframe thead th {\n",
              "        text-align: right;\n",
              "    }\n",
              "</style>\n",
              "<table border=\"1\" class=\"dataframe\">\n",
              "  <thead>\n",
              "    <tr style=\"text-align: right;\">\n",
              "      <th></th>\n",
              "      <th>age</th>\n",
              "      <th>gender</th>\n",
              "      <th>height</th>\n",
              "      <th>weight</th>\n",
              "      <th>ap_hi</th>\n",
              "      <th>ap_lo</th>\n",
              "      <th>cholesterol</th>\n",
              "      <th>glucose</th>\n",
              "      <th>Smoking</th>\n",
              "      <th>Alcohol</th>\n",
              "      <th>Physical_Activity</th>\n",
              "      <th>cardio_vascular_disease</th>\n",
              "    </tr>\n",
              "  </thead>\n",
              "  <tbody>\n",
              "  </tbody>\n",
              "</table>\n",
              "</div>"
            ],
            "text/plain": [
              "Empty DataFrame\n",
              "Columns: [age, gender, height, weight, ap_hi, ap_lo, cholesterol, glucose, Smoking, Alcohol, Physical_Activity, cardio_vascular_disease]\n",
              "Index: []"
            ]
          },
          "metadata": {
            "tags": []
          },
          "execution_count": 127
        }
      ]
    },
    {
      "cell_type": "code",
      "metadata": {
        "colab": {
          "base_uri": "https://localhost:8080/",
          "height": 69
        },
        "id": "MbdxndP_s6Jh",
        "outputId": "4aecab8a-dfbd-4849-9771-73856c7863e4"
      },
      "source": [
        "a.check_anomalies(df,'Physical_Activity')"
      ],
      "execution_count": 128,
      "outputs": [
        {
          "output_type": "execute_result",
          "data": {
            "text/html": [
              "<div>\n",
              "<style scoped>\n",
              "    .dataframe tbody tr th:only-of-type {\n",
              "        vertical-align: middle;\n",
              "    }\n",
              "\n",
              "    .dataframe tbody tr th {\n",
              "        vertical-align: top;\n",
              "    }\n",
              "\n",
              "    .dataframe thead th {\n",
              "        text-align: right;\n",
              "    }\n",
              "</style>\n",
              "<table border=\"1\" class=\"dataframe\">\n",
              "  <thead>\n",
              "    <tr style=\"text-align: right;\">\n",
              "      <th></th>\n",
              "      <th>age</th>\n",
              "      <th>gender</th>\n",
              "      <th>height</th>\n",
              "      <th>weight</th>\n",
              "      <th>ap_hi</th>\n",
              "      <th>ap_lo</th>\n",
              "      <th>cholesterol</th>\n",
              "      <th>glucose</th>\n",
              "      <th>Smoking</th>\n",
              "      <th>Alcohol</th>\n",
              "      <th>Physical_Activity</th>\n",
              "      <th>cardio_vascular_disease</th>\n",
              "    </tr>\n",
              "  </thead>\n",
              "  <tbody>\n",
              "  </tbody>\n",
              "</table>\n",
              "</div>"
            ],
            "text/plain": [
              "Empty DataFrame\n",
              "Columns: [age, gender, height, weight, ap_hi, ap_lo, cholesterol, glucose, Smoking, Alcohol, Physical_Activity, cardio_vascular_disease]\n",
              "Index: []"
            ]
          },
          "metadata": {
            "tags": []
          },
          "execution_count": 128
        }
      ]
    },
    {
      "cell_type": "code",
      "metadata": {
        "colab": {
          "base_uri": "https://localhost:8080/",
          "height": 69
        },
        "id": "pAqwwN6ps6Jh",
        "outputId": "c6c226be-2dc7-4661-dd1e-e3aec863964e"
      },
      "source": [
        "a.check_anomalies(df,'cardio_vascular_disease')"
      ],
      "execution_count": 129,
      "outputs": [
        {
          "output_type": "execute_result",
          "data": {
            "text/html": [
              "<div>\n",
              "<style scoped>\n",
              "    .dataframe tbody tr th:only-of-type {\n",
              "        vertical-align: middle;\n",
              "    }\n",
              "\n",
              "    .dataframe tbody tr th {\n",
              "        vertical-align: top;\n",
              "    }\n",
              "\n",
              "    .dataframe thead th {\n",
              "        text-align: right;\n",
              "    }\n",
              "</style>\n",
              "<table border=\"1\" class=\"dataframe\">\n",
              "  <thead>\n",
              "    <tr style=\"text-align: right;\">\n",
              "      <th></th>\n",
              "      <th>age</th>\n",
              "      <th>gender</th>\n",
              "      <th>height</th>\n",
              "      <th>weight</th>\n",
              "      <th>ap_hi</th>\n",
              "      <th>ap_lo</th>\n",
              "      <th>cholesterol</th>\n",
              "      <th>glucose</th>\n",
              "      <th>Smoking</th>\n",
              "      <th>Alcohol</th>\n",
              "      <th>Physical_Activity</th>\n",
              "      <th>cardio_vascular_disease</th>\n",
              "    </tr>\n",
              "  </thead>\n",
              "  <tbody>\n",
              "  </tbody>\n",
              "</table>\n",
              "</div>"
            ],
            "text/plain": [
              "Empty DataFrame\n",
              "Columns: [age, gender, height, weight, ap_hi, ap_lo, cholesterol, glucose, Smoking, Alcohol, Physical_Activity, cardio_vascular_disease]\n",
              "Index: []"
            ]
          },
          "metadata": {
            "tags": []
          },
          "execution_count": 129
        }
      ]
    },
    {
      "cell_type": "code",
      "metadata": {
        "id": "sZ7dbMXqs6Ji"
      },
      "source": [
        "#Exploratory Data Analysis"
      ],
      "execution_count": 130,
      "outputs": []
    },
    {
      "cell_type": "code",
      "metadata": {
        "id": "IxJdTTT1s6Ji"
      },
      "source": [
        "# Checking the boxplot of the Age\n",
        "class Visualize:\n",
        "        def __init__(self):\n",
        "            pass\n",
        "    \n",
        "        def plot_histogram(self,df,columns):\n",
        "            df=df[columns].hist()\n",
        "            return df\n",
        "        def plot_boxplot(self,df,columns):\n",
        "            df=sns.boxplot(df[columns])\n",
        "            return df"
      ],
      "execution_count": 131,
      "outputs": []
    },
    {
      "cell_type": "code",
      "metadata": {
        "colab": {
          "base_uri": "https://localhost:8080/",
          "height": 282
        },
        "id": "cMGuV59qs6Jj",
        "outputId": "f78037a3-5111-4adf-deee-f73446001d99"
      },
      "source": [
        "a=Visualize()\n",
        "a.plot_histogram(df,'age')"
      ],
      "execution_count": 132,
      "outputs": [
        {
          "output_type": "execute_result",
          "data": {
            "text/plain": [
              "<matplotlib.axes._subplots.AxesSubplot at 0x7fb426a3dcd0>"
            ]
          },
          "metadata": {
            "tags": []
          },
          "execution_count": 132
        },
        {
          "output_type": "display_data",
          "data": {
            "image/png": "[encoded data removed]",
            "text/plain": [
              "<Figure size 432x288 with 1 Axes>"
            ]
          },
          "metadata": {
            "tags": [],
            "needs_background": "light"
          }
        }
      ]
    },
    {
      "cell_type": "code",
      "metadata": {
        "colab": {
          "base_uri": "https://localhost:8080/",
          "height": 282
        },
        "id": "vTYzbGjSs6Jk",
        "outputId": "f2c64c8f-42f3-49ca-e886-0a2f6e75e6bd"
      },
      "source": [
        "a.plot_histogram(df,'weight')"
      ],
      "execution_count": 133,
      "outputs": [
        {
          "output_type": "execute_result",
          "data": {
            "text/plain": [
              "<matplotlib.axes._subplots.AxesSubplot at 0x7fb426971810>"
            ]
          },
          "metadata": {
            "tags": []
          },
          "execution_count": 133
        },
        {
          "output_type": "display_data",
          "data": {
            "image/png": "[encoded data removed]",
            "text/plain": [
              "<Figure size 432x288 with 1 Axes>"
            ]
          },
          "metadata": {
            "tags": [],
            "needs_background": "light"
          }
        }
      ]
    },
    {
      "cell_type": "code",
      "metadata": {
        "colab": {
          "base_uri": "https://localhost:8080/",
          "height": 282
        },
        "id": "jVAiWJUes6Jl",
        "outputId": "6db9ba3c-ad26-4c49-a62e-242396903115"
      },
      "source": [
        "a.plot_histogram(df,'height')"
      ],
      "execution_count": 134,
      "outputs": [
        {
          "output_type": "execute_result",
          "data": {
            "text/plain": [
              "<matplotlib.axes._subplots.AxesSubplot at 0x7fb42689f910>"
            ]
          },
          "metadata": {
            "tags": []
          },
          "execution_count": 134
        },
        {
          "output_type": "display_data",
          "data": {
            "image/png": "[encoded data removed]",
            "text/plain": [
              "<Figure size 432x288 with 1 Axes>"
            ]
          },
          "metadata": {
            "tags": [],
            "needs_background": "light"
          }
        }
      ]
    },
    {
      "cell_type": "code",
      "metadata": {
        "colab": {
          "base_uri": "https://localhost:8080/",
          "height": 282
        },
        "id": "zYCSqkjTs6Jm",
        "outputId": "61735692-bf99-4b6b-b70c-436dc8a37e19"
      },
      "source": [
        "a.plot_histogram(df,'Smoking')"
      ],
      "execution_count": 135,
      "outputs": [
        {
          "output_type": "execute_result",
          "data": {
            "text/plain": [
              "<matplotlib.axes._subplots.AxesSubplot at 0x7fb4268b0b50>"
            ]
          },
          "metadata": {
            "tags": []
          },
          "execution_count": 135
        },
        {
          "output_type": "display_data",
          "data": {
            "image/png": "[encoded data removed]",
            "text/plain": [
              "<Figure size 432x288 with 1 Axes>"
            ]
          },
          "metadata": {
            "tags": [],
            "needs_background": "light"
          }
        }
      ]
    },
    {
      "cell_type": "code",
      "metadata": {
        "colab": {
          "base_uri": "https://localhost:8080/",
          "height": 350
        },
        "id": "dFIMiDTQs6Jn",
        "outputId": "13b1281c-e103-4a22-8cc4-422e5ebeca0a"
      },
      "source": [
        "import seaborn as sns\n",
        "a.plot_boxplot(df,'age')"
      ],
      "execution_count": 136,
      "outputs": [
        {
          "output_type": "stream",
          "text": [
            "/usr/local/lib/python3.7/dist-packages/seaborn/_decorators.py:43: FutureWarning: Pass the following variable as a keyword arg: x. From version 0.12, the only valid positional argument will be `data`, and passing other arguments without an explicit keyword will result in an error or misinterpretation.\n",
            "  FutureWarning\n"
          ],
          "name": "stderr"
        },
        {
          "output_type": "execute_result",
          "data": {
            "text/plain": [
              "<matplotlib.axes._subplots.AxesSubplot at 0x7fb4267b71d0>"
            ]
          },
          "metadata": {
            "tags": []
          },
          "execution_count": 136
        },
        {
          "output_type": "display_data",
          "data": {
            "image/png": "[encoded data removed]",
            "text/plain": [
              "<Figure size 432x288 with 1 Axes>"
            ]
          },
          "metadata": {
            "tags": [],
            "needs_background": "light"
          }
        }
      ]
    },
    {
      "cell_type": "code",
      "metadata": {
        "colab": {
          "base_uri": "https://localhost:8080/",
          "height": 350
        },
        "id": "huEwlqA4s6Jo",
        "outputId": "fecf752e-edaf-43a9-d80b-ae8d139419bb"
      },
      "source": [
        "a.plot_boxplot(df,'weight')"
      ],
      "execution_count": 137,
      "outputs": [
        {
          "output_type": "stream",
          "text": [
            "/usr/local/lib/python3.7/dist-packages/seaborn/_decorators.py:43: FutureWarning: Pass the following variable as a keyword arg: x. From version 0.12, the only valid positional argument will be `data`, and passing other arguments without an explicit keyword will result in an error or misinterpretation.\n",
            "  FutureWarning\n"
          ],
          "name": "stderr"
        },
        {
          "output_type": "execute_result",
          "data": {
            "text/plain": [
              "<matplotlib.axes._subplots.AxesSubplot at 0x7fb4267200d0>"
            ]
          },
          "metadata": {
            "tags": []
          },
          "execution_count": 137
        },
        {
          "output_type": "display_data",
          "data": {
            "image/png": "[encoded data removed]",
            "text/plain": [
              "<Figure size 432x288 with 1 Axes>"
            ]
          },
          "metadata": {
            "tags": [],
            "needs_background": "light"
          }
        }
      ]
    },
    {
      "cell_type": "code",
      "metadata": {
        "colab": {
          "base_uri": "https://localhost:8080/",
          "height": 350
        },
        "id": "FfMxytX3s6Jo",
        "outputId": "ddde15ac-6164-45c4-c46a-aa22828bb428"
      },
      "source": [
        "a.plot_boxplot(df,'height')"
      ],
      "execution_count": 138,
      "outputs": [
        {
          "output_type": "stream",
          "text": [
            "/usr/local/lib/python3.7/dist-packages/seaborn/_decorators.py:43: FutureWarning: Pass the following variable as a keyword arg: x. From version 0.12, the only valid positional argument will be `data`, and passing other arguments without an explicit keyword will result in an error or misinterpretation.\n",
            "  FutureWarning\n"
          ],
          "name": "stderr"
        },
        {
          "output_type": "execute_result",
          "data": {
            "text/plain": [
              "<matplotlib.axes._subplots.AxesSubplot at 0x7fb426713250>"
            ]
          },
          "metadata": {
            "tags": []
          },
          "execution_count": 138
        },
        {
          "output_type": "display_data",
          "data": {
            "image/png": "[encoded data removed]",
            "text/plain": [
              "<Figure size 432x288 with 1 Axes>"
            ]
          },
          "metadata": {
            "tags": [],
            "needs_background": "light"
          }
        }
      ]
    },
    {
      "cell_type": "code",
      "metadata": {
        "colab": {
          "base_uri": "https://localhost:8080/"
        },
        "id": "d6eDlmCvs6Jp",
        "outputId": "088bff6f-9eca-4bab-9489-1ef2fecc838c"
      },
      "source": [
        "df.columns"
      ],
      "execution_count": 139,
      "outputs": [
        {
          "output_type": "execute_result",
          "data": {
            "text/plain": [
              "Index(['age', 'gender', 'height', 'weight', 'ap_hi', 'ap_lo', 'cholesterol',\n",
              "       'glucose', 'Smoking', 'Alcohol', 'Physical_Activity',\n",
              "       'cardio_vascular_disease'],\n",
              "      dtype='object')"
            ]
          },
          "metadata": {
            "tags": []
          },
          "execution_count": 139
        }
      ]
    },
    {
      "cell_type": "code",
      "metadata": {
        "colab": {
          "base_uri": "https://localhost:8080/",
          "height": 350
        },
        "id": "3W9cwCf6s6Jp",
        "outputId": "159e1d40-fb99-472a-e566-b3814deb05a0"
      },
      "source": [
        "a.plot_boxplot(df,'cholesterol')"
      ],
      "execution_count": 140,
      "outputs": [
        {
          "output_type": "stream",
          "text": [
            "/usr/local/lib/python3.7/dist-packages/seaborn/_decorators.py:43: FutureWarning: Pass the following variable as a keyword arg: x. From version 0.12, the only valid positional argument will be `data`, and passing other arguments without an explicit keyword will result in an error or misinterpretation.\n",
            "  FutureWarning\n"
          ],
          "name": "stderr"
        },
        {
          "output_type": "execute_result",
          "data": {
            "text/plain": [
              "<matplotlib.axes._subplots.AxesSubplot at 0x7fb426689f50>"
            ]
          },
          "metadata": {
            "tags": []
          },
          "execution_count": 140
        },
        {
          "output_type": "display_data",
          "data": {
            "image/png": "[encoded data removed]",
            "text/plain": [
              "<Figure size 432x288 with 1 Axes>"
            ]
          },
          "metadata": {
            "tags": [],
            "needs_background": "light"
          }
        }
      ]
    },
    {
      "cell_type": "code",
      "metadata": {
        "colab": {
          "base_uri": "https://localhost:8080/"
        },
        "id": "EnQlK_jzs6Jq",
        "outputId": "a48f1e03-b784-4329-b39f-8a6ba1ac0827"
      },
      "source": [
        "df['cardio_vascular_disease'].value_counts()"
      ],
      "execution_count": 141,
      "outputs": [
        {
          "output_type": "execute_result",
          "data": {
            "text/plain": [
              "0    35021\n",
              "1    34979\n",
              "Name: cardio_vascular_disease, dtype: int64"
            ]
          },
          "metadata": {
            "tags": []
          },
          "execution_count": 141
        }
      ]
    },
    {
      "cell_type": "code",
      "metadata": {
        "id": "hmsM6496s6Js"
      },
      "source": [
        "X=df.drop('cardio_vascular_disease',axis=1)\n",
        "y=df['cardio_vascular_disease']"
      ],
      "execution_count": 142,
      "outputs": []
    },
    {
      "cell_type": "code",
      "metadata": {
        "colab": {
          "base_uri": "https://localhost:8080/"
        },
        "id": "cnSNMZbfs6Js",
        "outputId": "1b7b534b-ad25-4054-8310-d6434f005282"
      },
      "source": [
        "X_train,X_test,y_train,y_test=train_test_split(X,y,test_size=0.25,random_state=45)\n",
        "print('The training data is ',X_train.shape,y_train.shape)\n",
        "print('The testing data is',X_test.shape,y_test.shape)"
      ],
      "execution_count": 143,
      "outputs": [
        {
          "output_type": "stream",
          "text": [
            "The training data is  (52500, 11) (52500,)\n",
            "The testing data is (17500, 11) (17500,)\n"
          ],
          "name": "stdout"
        }
      ]
    },
    {
      "cell_type": "code",
      "metadata": {
        "id": "zKpHPaXXxEa9"
      },
      "source": [
        "class Model_Building:\n",
        "    def __init__(self,Model):\n",
        "        print('----Model Building----')\n",
        "        print()\n",
        "        self.Model=Model\n",
        "    \n",
        "    def fit_data(self,data,targets):\n",
        "        print()\n",
        "        print('----Fitting the Data to the Model')\n",
        "        self.Model=self.Model.fit(data,targets)\n",
        "        return self.Model\n",
        "    \n",
        "    def predict_data(self,data):\n",
        "        print()\n",
        "        self.y_pred=self.Model.predict(data)\n",
        "    def result_training_data(self,y_true,y_pred):\n",
        "        print()\n",
        "        print('-----RESULT OF TRAINING DATA-----')\n",
        "        print()\n",
        "        print('-----Accuracy score for Training Data-----')\n",
        "        accuracy_score_train=accuracy_score(y_true,self.Model.predict(y_pred))\n",
        "        print(accuracy_score_train)\n",
        "        print()\n",
        "        print('-----Confusion Matrix for Training Data-----')\n",
        "        print()\n",
        "        confusion_matrix_train=confusion_matrix(y_true,self.Model.predict(y_pred))\n",
        "        print(confusion_matrix_train)\n",
        "        print()\n",
        "        print('-----Classification Report of Training Data-----')\n",
        "        classification_report_train=classification_report(y_true,self.Model.predict(y_pred))\n",
        "        print(classification_report_train)\n",
        "        print()\n",
        "        print('-----roc_auc_score of Training Data------')\n",
        "        roc_auc_score_train=roc_auc_score(y_true,self.Model.predict(y_pred))\n",
        "        print(roc_auc_score_train)\n",
        "        print()\n",
        "    def result_testing_data(self,y_true,y_pred):\n",
        "        print('-----RESULT OF TESTING DATA-----')\n",
        "        print('-----Accuracy score for Testing Data-----')\n",
        "        accuracy_score_test=accuracy_score(y_true,self.y_pred)\n",
        "        print(accuracy_score_test)\n",
        "        print()\n",
        "        print('-----Confusion Matrix for Testing Data-----')\n",
        "        confusion_matrix_test=confusion_matrix(y_true,self.y_pred)\n",
        "        print(confusion_matrix_test)\n",
        "        print()\n",
        "        print('-----Classification Report of Testing Data-----')\n",
        "        classification_report_test=classification_report(y_true,self.y_pred)\n",
        "        print(classification_report_test)\n",
        "        print()\n",
        "        print('-----roc_auc_score of Testing Data------')\n",
        "        roc_auc_score_test=roc_auc_score(y_true,self.y_pred)\n",
        "        print(roc_auc_score_test)\n",
        "        \n",
        "    def predict_probability(self,data):\n",
        "        probability=self.Model.predict_proba(data)\n",
        "        return probability"
      ],
      "execution_count": 144,
      "outputs": []
    },
    {
      "cell_type": "code",
      "metadata": {
        "id": "2cFKALits6Jx"
      },
      "source": [
        "#probs = clf_log.predict_probability(X_test)\n",
        "#preds = probs[:,1]\n",
        "#fpr, tpr, threshold = roc_curve(y_test, preds)\n",
        "#roc_auc = auc(fpr, tpr)"
      ],
      "execution_count": 145,
      "outputs": []
    },
    {
      "cell_type": "code",
      "metadata": {
        "id": "jmpAv3iOs6Jx"
      },
      "source": [
        "#plt.title('Receiver Operating Characteristic')\n",
        "#plt.plot(fpr, tpr, 'b', label = 'AUC = %0.2f' % roc_auc)\n",
        "#plt.legend(loc = 'lower right')\n",
        "#plt.plot([0, 1], [0, 1],'r--')\n",
        "#plt.xlim([0, 1])\n",
        "#plt.ylim([0, 1])\n",
        "#plt.ylabel('True Positive Rate')\n",
        "#plt.xlabel('False Positive Rate')\n",
        "#plt.show()"
      ],
      "execution_count": 146,
      "outputs": []
    },
    {
      "cell_type": "code",
      "metadata": {
        "colab": {
          "base_uri": "https://localhost:8080/"
        },
        "id": "jLcu1UkWs6Jy",
        "outputId": "bb09d26a-78f2-4abe-a347-23fd2492b411"
      },
      "source": [
        "clf_log=Model_Building(LogisticRegression())\n",
        "clf_log.fit_data(X_train,y_train)\n",
        "y_pred=clf_log.predict_data(X_test)\n",
        "clf_log.result_training_data(y_train,X_train)\n",
        "clf_log.result_testing_data(y_test,y_pred)"
      ],
      "execution_count": 147,
      "outputs": [
        {
          "output_type": "stream",
          "text": [
            "----Model Building----\n",
            "\n",
            "\n",
            "----Fitting the Data to the Model\n"
          ],
          "name": "stdout"
        },
        {
          "output_type": "stream",
          "text": [
            "/usr/local/lib/python3.7/dist-packages/sklearn/linear_model/_logistic.py:940: ConvergenceWarning: lbfgs failed to converge (status=1):\n",
            "STOP: TOTAL NO. of ITERATIONS REACHED LIMIT.\n",
            "\n",
            "Increase the number of iterations (max_iter) or scale the data as shown in:\n",
            "    https://scikit-learn.org/stable/modules/preprocessing.html\n",
            "Please also refer to the documentation for alternative solver options:\n",
            "    https://scikit-learn.org/stable/modules/linear_model.html#logistic-regression\n",
            "  extra_warning_msg=_LOGISTIC_SOLVER_CONVERGENCE_MSG)\n"
          ],
          "name": "stderr"
        },
        {
          "output_type": "stream",
          "text": [
            "\n",
            "\n",
            "-----RESULT OF TRAINING DATA-----\n",
            "\n",
            "-----Accuracy score for Training Data-----\n",
            "0.7051428571428572\n",
            "\n",
            "-----Confusion Matrix for Training Data-----\n",
            "\n",
            "[[19452  6766]\n",
            " [ 8714 17568]]\n",
            "\n",
            "-----Classification Report of Training Data-----\n",
            "              precision    recall  f1-score   support\n",
            "\n",
            "           0       0.69      0.74      0.72     26218\n",
            "           1       0.72      0.67      0.69     26282\n",
            "\n",
            "    accuracy                           0.71     52500\n",
            "   macro avg       0.71      0.71      0.70     52500\n",
            "weighted avg       0.71      0.71      0.70     52500\n",
            "\n",
            "\n",
            "-----roc_auc_score of Training Data------\n",
            "0.7051876515006332\n",
            "\n",
            "-----RESULT OF TESTING DATA-----\n",
            "-----Accuracy score for Testing Data-----\n",
            "0.7083428571428572\n",
            "\n",
            "-----Confusion Matrix for Testing Data-----\n",
            "[[6607 2196]\n",
            " [2908 5789]]\n",
            "\n",
            "-----Classification Report of Testing Data-----\n",
            "              precision    recall  f1-score   support\n",
            "\n",
            "           0       0.69      0.75      0.72      8803\n",
            "           1       0.72      0.67      0.69      8697\n",
            "\n",
            "    accuracy                           0.71     17500\n",
            "   macro avg       0.71      0.71      0.71     17500\n",
            "weighted avg       0.71      0.71      0.71     17500\n",
            "\n",
            "\n",
            "-----roc_auc_score of Testing Data------\n",
            "0.7080857079216791\n"
          ],
          "name": "stdout"
        }
      ]
    },
    {
      "cell_type": "code",
      "metadata": {
        "id": "0LGOC36Is6Jz",
        "colab": {
          "base_uri": "https://localhost:8080/"
        },
        "outputId": "37304faf-3cb2-4ab0-f18c-52ec3bc09937"
      },
      "source": [
        "y_score = clf_log.fit_data(X_train, y_train).decision_function(X_test)\n",
        "y_score"
      ],
      "execution_count": 148,
      "outputs": [
        {
          "output_type": "stream",
          "text": [
            "\n",
            "----Fitting the Data to the Model\n"
          ],
          "name": "stdout"
        },
        {
          "output_type": "stream",
          "text": [
            "/usr/local/lib/python3.7/dist-packages/sklearn/linear_model/_logistic.py:940: ConvergenceWarning: lbfgs failed to converge (status=1):\n",
            "STOP: TOTAL NO. of ITERATIONS REACHED LIMIT.\n",
            "\n",
            "Increase the number of iterations (max_iter) or scale the data as shown in:\n",
            "    https://scikit-learn.org/stable/modules/preprocessing.html\n",
            "Please also refer to the documentation for alternative solver options:\n",
            "    https://scikit-learn.org/stable/modules/linear_model.html#logistic-regression\n",
            "  extra_warning_msg=_LOGISTIC_SOLVER_CONVERGENCE_MSG)\n"
          ],
          "name": "stderr"
        },
        {
          "output_type": "execute_result",
          "data": {
            "text/plain": [
              "array([-1.09873207, -0.28021967,  0.37139419, ..., -0.51022909,\n",
              "       -1.74936021,  0.77169835])"
            ]
          },
          "metadata": {
            "tags": []
          },
          "execution_count": 148
        }
      ]
    },
    {
      "cell_type": "code",
      "metadata": {
        "id": "tquYbTi_s6J1"
      },
      "source": [
        "from sklearn.metrics import auc\n",
        "probs = clf_log.predict_probability(X_test)\n",
        "preds = probs[:,1]\n",
        "fpr, tpr, threshold = roc_curve(y_test, preds)\n",
        "roc_auc = auc(fpr, tpr)"
      ],
      "execution_count": 150,
      "outputs": []
    },
    {
      "cell_type": "code",
      "metadata": {
        "id": "H6rOAOL5s6J2",
        "colab": {
          "base_uri": "https://localhost:8080/",
          "height": 295
        },
        "outputId": "7cd0879f-6696-4340-f49d-7885204f8455"
      },
      "source": [
        "import matplotlib.pyplot as plt\n",
        "plt.title('Receiver Operating Characteristic')\n",
        "plt.plot(fpr, tpr, 'b', label = 'AUC = %0.2f' % roc_auc)\n",
        "plt.legend(loc = 'lower right')\n",
        "plt.plot([0, 1], [0, 1],'r--')\n",
        "plt.xlim([0, 1])\n",
        "plt.ylim([0, 1])\n",
        "plt.ylabel('True Positive Rate')\n",
        "plt.xlabel('False Positive Rate')\n",
        "plt.show()"
      ],
      "execution_count": 152,
      "outputs": [
        {
          "output_type": "display_data",
          "data": {
            "image/png": "[encoded data removed]",
            "text/plain": [
              "<Figure size 432x288 with 1 Axes>"
            ]
          },
          "metadata": {
            "tags": [],
            "needs_background": "light"
          }
        }
      ]
    },
    {
      "cell_type": "code",
      "metadata": {
        "id": "wRs3T5-9s6J2",
        "colab": {
          "base_uri": "https://localhost:8080/"
        },
        "outputId": "5674c08f-516d-44f1-a737-d56c94d232ca"
      },
      "source": [
        "clf_decision=Model_Building(DecisionTreeClassifier(max_depth=8))\n",
        "clf_decision.fit_data(X_train,y_train)\n",
        "y_pred_decision=clf_decision.predict_data(X_test)\n",
        "clf_decision.result_training_data(y_train,X_train)\n",
        "clf_decision.result_testing_data(y_test,y_pred_decision)"
      ],
      "execution_count": 153,
      "outputs": [
        {
          "output_type": "stream",
          "text": [
            "----Model Building----\n",
            "\n",
            "\n",
            "----Fitting the Data to the Model\n",
            "\n",
            "\n",
            "-----RESULT OF TRAINING DATA-----\n",
            "\n",
            "-----Accuracy score for Training Data-----\n",
            "0.742552380952381\n",
            "\n",
            "-----Confusion Matrix for Training Data-----\n",
            "\n",
            "[[20029  6189]\n",
            " [ 7327 18955]]\n",
            "\n",
            "-----Classification Report of Training Data-----\n",
            "              precision    recall  f1-score   support\n",
            "\n",
            "           0       0.73      0.76      0.75     26218\n",
            "           1       0.75      0.72      0.74     26282\n",
            "\n",
            "    accuracy                           0.74     52500\n",
            "   macro avg       0.74      0.74      0.74     52500\n",
            "weighted avg       0.74      0.74      0.74     52500\n",
            "\n",
            "\n",
            "-----roc_auc_score of Training Data------\n",
            "0.7425784227124606\n",
            "\n",
            "-----RESULT OF TESTING DATA-----\n",
            "-----Accuracy score for Testing Data-----\n",
            "0.7324571428571428\n",
            "\n",
            "-----Confusion Matrix for Testing Data-----\n",
            "[[6684 2119]\n",
            " [2563 6134]]\n",
            "\n",
            "-----Classification Report of Testing Data-----\n",
            "              precision    recall  f1-score   support\n",
            "\n",
            "           0       0.72      0.76      0.74      8803\n",
            "           1       0.74      0.71      0.72      8697\n",
            "\n",
            "    accuracy                           0.73     17500\n",
            "   macro avg       0.73      0.73      0.73     17500\n",
            "weighted avg       0.73      0.73      0.73     17500\n",
            "\n",
            "\n",
            "-----roc_auc_score of Testing Data------\n",
            "0.7322936426167133\n"
          ],
          "name": "stdout"
        }
      ]
    },
    {
      "cell_type": "code",
      "metadata": {
        "id": "kOt_GFeQs6J3"
      },
      "source": [
        "probs_decision = clf_decision.predict_probability(X_test)\n",
        "preds_decision = probs_decision[:,1]\n",
        "fpr, tpr, threshold = roc_curve(y_test, preds_decision)\n",
        "roc_auc_decision = auc(fpr, tpr)"
      ],
      "execution_count": 154,
      "outputs": []
    },
    {
      "cell_type": "code",
      "metadata": {
        "id": "DaigY95_s6J4",
        "colab": {
          "base_uri": "https://localhost:8080/"
        },
        "outputId": "a3860535-3b3c-46a8-8786-0b5475245c4b"
      },
      "source": [
        "print(fpr[1:5])"
      ],
      "execution_count": 155,
      "outputs": [
        {
          "output_type": "stream",
          "text": [
            "[0.00159037 0.00193116 0.00306714 0.00352153]\n"
          ],
          "name": "stdout"
        }
      ]
    },
    {
      "cell_type": "code",
      "metadata": {
        "id": "i0HwVnwls6J4",
        "colab": {
          "base_uri": "https://localhost:8080/"
        },
        "outputId": "4b4cb428-2796-43c3-c19d-54c1050338ac"
      },
      "source": [
        "print(tpr[1:5])"
      ],
      "execution_count": 156,
      "outputs": [
        {
          "output_type": "stream",
          "text": [
            "[0.006439   0.00954352 0.01103829 0.01333793]\n"
          ],
          "name": "stdout"
        }
      ]
    },
    {
      "cell_type": "code",
      "metadata": {
        "id": "RmITGCMis6J5",
        "colab": {
          "base_uri": "https://localhost:8080/"
        },
        "outputId": "69007a9e-b3f5-49ae-99f6-f578078b6a2a"
      },
      "source": [
        "print(threshold[1:5])"
      ],
      "execution_count": 157,
      "outputs": [
        {
          "output_type": "stream",
          "text": [
            "[1.         0.97       0.96       0.94444444]\n"
          ],
          "name": "stdout"
        }
      ]
    },
    {
      "cell_type": "code",
      "metadata": {
        "id": "w2jT9B1Is6J6",
        "colab": {
          "base_uri": "https://localhost:8080/",
          "height": 295
        },
        "outputId": "47e15915-e861-40ed-bf33-59efb269412b"
      },
      "source": [
        "plt.title('Receiver Operating Characteristic')\n",
        "plt.plot(fpr, tpr, 'b', label = 'AUC = %0.2f' % roc_auc_decision)\n",
        "plt.legend(loc = 'lower right')\n",
        "plt.plot([0, 1], [0, 1],'r--')\n",
        "plt.xlim([0, 1])\n",
        "plt.ylim([0, 1])\n",
        "plt.ylabel('True Positive Rate')\n",
        "plt.xlabel('False Positive Rate')\n",
        "plt.show()"
      ],
      "execution_count": 158,
      "outputs": [
        {
          "output_type": "display_data",
          "data": {
            "image/png": "[encoded data removed]",
            "text/plain": [
              "<Figure size 432x288 with 1 Axes>"
            ]
          },
          "metadata": {
            "tags": [],
            "needs_background": "light"
          }
        }
      ]
    },
    {
      "cell_type": "code",
      "metadata": {
        "id": "f9MvwdiNs6J7"
      },
      "source": [
        "param_grid=({\n",
        "    'penalty':['l1','l2','elasticnet'],\n",
        "    'C':[0.1,0.2,0.3,0.4,0.5,0.6,0.7,0.8,0.9],\n",
        "    'solver':['newton-cg', 'lbfgs', 'liblinear','sag' ,'saga']\n",
        "})"
      ],
      "execution_count": 159,
      "outputs": []
    },
    {
      "cell_type": "code",
      "metadata": {
        "id": "Y3ekOzy7s6J7"
      },
      "source": [
        "#clflog_grid=GridSearchCV(clf_log,param_grid=param_grid,scoring='f1',cv=5,verbose=3)\n",
        "#clflog_grid.fit(X_train,y_train)"
      ],
      "execution_count": 160,
      "outputs": []
    },
    {
      "cell_type": "code",
      "metadata": {
        "id": "NflTMOYHs6J8"
      },
      "source": [
        "#clflog_grid.best_params_"
      ],
      "execution_count": 161,
      "outputs": []
    },
    {
      "cell_type": "code",
      "metadata": {
        "id": "U3vaIEnKs6J8",
        "colab": {
          "base_uri": "https://localhost:8080/"
        },
        "outputId": "4b9530ea-4d89-4a8d-dc35-4615d7182804"
      },
      "source": [
        "#Plotting ROC_AUC Score\n",
        "y_score = clf_log.fit_data(X_train, y_train).decision_function(X_test)\n",
        "y_score"
      ],
      "execution_count": 162,
      "outputs": [
        {
          "output_type": "stream",
          "text": [
            "\n",
            "----Fitting the Data to the Model\n"
          ],
          "name": "stdout"
        },
        {
          "output_type": "stream",
          "text": [
            "/usr/local/lib/python3.7/dist-packages/sklearn/linear_model/_logistic.py:940: ConvergenceWarning: lbfgs failed to converge (status=1):\n",
            "STOP: TOTAL NO. of ITERATIONS REACHED LIMIT.\n",
            "\n",
            "Increase the number of iterations (max_iter) or scale the data as shown in:\n",
            "    https://scikit-learn.org/stable/modules/preprocessing.html\n",
            "Please also refer to the documentation for alternative solver options:\n",
            "    https://scikit-learn.org/stable/modules/linear_model.html#logistic-regression\n",
            "  extra_warning_msg=_LOGISTIC_SOLVER_CONVERGENCE_MSG)\n"
          ],
          "name": "stderr"
        },
        {
          "output_type": "execute_result",
          "data": {
            "text/plain": [
              "array([-1.09873207, -0.28021967,  0.37139419, ..., -0.51022909,\n",
              "       -1.74936021,  0.77169835])"
            ]
          },
          "metadata": {
            "tags": []
          },
          "execution_count": 162
        }
      ]
    },
    {
      "cell_type": "code",
      "metadata": {
        "id": "nb4VP2JAs6J9"
      },
      "source": [
        "probs = clf_log.predict_probability(X_test)\n",
        "preds = probs[:,1]\n",
        "fpr, tpr, threshold = roc_curve(y_test, preds)\n",
        "roc_auc = auc(fpr, tpr)"
      ],
      "execution_count": 163,
      "outputs": []
    },
    {
      "cell_type": "code",
      "metadata": {
        "id": "kLFUWlXBs6J-",
        "colab": {
          "base_uri": "https://localhost:8080/",
          "height": 295
        },
        "outputId": "5f4d1efe-58b5-480a-95f2-572242f602d6"
      },
      "source": [
        "import matplotlib.pyplot as plt\n",
        "plt.title('Receiver Operating Characteristic')\n",
        "plt.plot(fpr, tpr, 'b', label = 'AUC = %0.2f' % roc_auc)\n",
        "plt.legend(loc = 'lower right')\n",
        "plt.plot([0, 1], [0, 1],'r--')\n",
        "plt.xlim([0, 1])\n",
        "plt.ylim([0, 1])\n",
        "plt.ylabel('True Positive Rate')\n",
        "plt.xlabel('False Positive Rate')\n",
        "plt.show()"
      ],
      "execution_count": 164,
      "outputs": [
        {
          "output_type": "display_data",
          "data": {
            "image/png": "[encoded data removed]",
            "text/plain": [
              "<Figure size 432x288 with 1 Axes>"
            ]
          },
          "metadata": {
            "tags": [],
            "needs_background": "light"
          }
        }
      ]
    },
    {
      "cell_type": "code",
      "metadata": {
        "id": "vKa7YE-cs6J-"
      },
      "source": [
        "probs = clf_decision.predict_probability(X_test)\n",
        "preds = probs[:,1]\n",
        "fpr, tpr, threshold = roc_curve(y_test, preds)\n",
        "roc_auc = auc(fpr, tpr)"
      ],
      "execution_count": 165,
      "outputs": []
    },
    {
      "cell_type": "code",
      "metadata": {
        "id": "_dAzOKFQs6J_",
        "colab": {
          "base_uri": "https://localhost:8080/",
          "height": 295
        },
        "outputId": "ca8dc3e8-5a06-4c46-b0e5-ae6cf12e42a5"
      },
      "source": [
        "plt.title('Receiver Operating Characteristic')\n",
        "plt.plot(fpr, tpr, 'b', label = 'AUC = %0.2f' % roc_auc)\n",
        "plt.legend(loc = 'lower right')\n",
        "plt.plot([0, 1], [0, 1],'r--')\n",
        "plt.xlim([0, 1])\n",
        "plt.ylim([0, 1])\n",
        "plt.ylabel('True Positive Rate')\n",
        "plt.xlabel('False Positive Rate')\n",
        "plt.show()"
      ],
      "execution_count": 166,
      "outputs": [
        {
          "output_type": "display_data",
          "data": {
            "image/png": "[encoded data removed]",
            "text/plain": [
              "<Figure size 432x288 with 1 Axes>"
            ]
          },
          "metadata": {
            "tags": [],
            "needs_background": "light"
          }
        }
      ]
    },
    {
      "cell_type": "code",
      "metadata": {
        "id": "K_ZOcJNJs6KB"
      },
      "source": [
        "#param_grid_1=({\n",
        "#    'criterion':['gini','entropy'],\n",
        "#    'max_depth':np.arange(1,15,1),\n",
        "#    'ccp_alpha':np.arange(0.1,0.5,0.01),\n",
        "#})"
      ],
      "execution_count": 167,
      "outputs": []
    },
    {
      "cell_type": "code",
      "metadata": {
        "id": "XlmfiM-bs6KC"
      },
      "source": [
        "#clf_decision_grid=GridSearchCV(clf_decision_tree,param_grid=param_grid_1,scoring='f1',cv=5,n_jobs=-1,\n",
        "#                              verbose=5)\n",
        "#clf_decision_grid.fit(X_train,y_train)"
      ],
      "execution_count": 168,
      "outputs": []
    },
    {
      "cell_type": "code",
      "metadata": {
        "id": "vN5uQKRLs6KD"
      },
      "source": [
        "#clf_decision_grid.best_params_"
      ],
      "execution_count": 169,
      "outputs": []
    },
    {
      "cell_type": "code",
      "metadata": {
        "id": "ZcUklH55s6KE"
      },
      "source": [
        "from sklearn.neighbors import KNeighborsClassifier"
      ],
      "execution_count": 170,
      "outputs": []
    },
    {
      "cell_type": "code",
      "metadata": {
        "id": "wybDoY5Is6KE"
      },
      "source": [
        "from sklearn.ensemble import AdaBoostClassifier,ExtraTreesClassifier,GradientBoostingClassifier,BaggingClassifier,RandomForestClassifier"
      ],
      "execution_count": 174,
      "outputs": []
    },
    {
      "cell_type": "code",
      "metadata": {
        "id": "4h9tB5bds6KF"
      },
      "source": [
        "MLA=[\n",
        "    #GLM\n",
        "    LogisticRegression(C=0.2,solver='liblinear'),\n",
        "    #Tree\n",
        "    AdaBoostClassifier(),\n",
        "    ExtraTreesClassifier(max_depth=15),\n",
        "    GradientBoostingClassifier(),\n",
        "    RandomForestClassifier(max_depth=15),\n",
        "    DecisionTreeClassifier(max_depth=15),\n",
        "    KNeighborsClassifier()\n",
        "]"
      ],
      "execution_count": 175,
      "outputs": []
    },
    {
      "cell_type": "code",
      "metadata": {
        "id": "bSCnFsG0s6KF"
      },
      "source": [
        "from sklearn.metrics import precision_score,recall_score,f1_score"
      ],
      "execution_count": 177,
      "outputs": []
    },
    {
      "cell_type": "code",
      "metadata": {
        "id": "-bqhoZYyNdO1"
      },
      "source": [
        ""
      ],
      "execution_count": null,
      "outputs": []
    },
    {
      "cell_type": "code",
      "metadata": {
        "id": "3S3OCDrys6KG",
        "colab": {
          "base_uri": "https://localhost:8080/",
          "height": 283
        },
        "outputId": "7769419c-7c1d-43d2-9462-84b6b9a6e24b"
      },
      "source": [
        "MLA_columns = []\n",
        "MLA_compare = pd.DataFrame(columns = MLA_columns)\n",
        "\n",
        "\n",
        "row_index = 0\n",
        "for alg in MLA:\n",
        "    \n",
        "    \n",
        "    predicted = alg.fit(X_train, y_train).predict(X_test)\n",
        "    fp, tp, th = roc_curve(y_test, predicted)\n",
        "    MLA_name = alg.__class__.__name__\n",
        "    MLA_compare.loc[row_index,'MLA Name'] = MLA_name\n",
        "    MLA_compare.loc[row_index, 'MLA Train Accuracy'] = round(alg.score(X_train, y_train), 4)\n",
        "    MLA_compare.loc[row_index, 'MLA Test Accuracy'] = round(alg.score(X_test, y_test), 4)\n",
        "    MLA_compare.loc[row_index, 'MLA Precission'] = precision_score(y_test, predicted)\n",
        "    MLA_compare.loc[row_index, 'MLA Recall'] = recall_score(y_test, predicted)\n",
        "    MLA_compare.loc[row_index, 'MLA F1 Score']=f1_score(y_test,predicted)\n",
        "    MLA_compare.loc[row_index,'MLA_ROC_AUC']=roc_auc_score(y_test,predicted)\n",
        "    MLA_compare.loc[row_index, 'MLA AUC'] = auc(fp, tp)\n",
        "      \n",
        "    row_index+=1\n",
        "    \n",
        "MLA_compare.sort_values(by = ['MLA Test Accuracy'], ascending = False, inplace = True)    \n",
        "MLA_compare"
      ],
      "execution_count": 178,
      "outputs": [
        {
          "output_type": "execute_result",
          "data": {
            "text/html": [
              "<div>\n",
              "<style scoped>\n",
              "    .dataframe tbody tr th:only-of-type {\n",
              "        vertical-align: middle;\n",
              "    }\n",
              "\n",
              "    .dataframe tbody tr th {\n",
              "        vertical-align: top;\n",
              "    }\n",
              "\n",
              "    .dataframe thead th {\n",
              "        text-align: right;\n",
              "    }\n",
              "</style>\n",
              "<table border=\"1\" class=\"dataframe\">\n",
              "  <thead>\n",
              "    <tr style=\"text-align: right;\">\n",
              "      <th></th>\n",
              "      <th>MLA Name</th>\n",
              "      <th>MLA Train Accuracy</th>\n",
              "      <th>MLA Test Accuracy</th>\n",
              "      <th>MLA Precission</th>\n",
              "      <th>MLA Recall</th>\n",
              "      <th>MLA F1 Score</th>\n",
              "      <th>MLA_ROC_AUC</th>\n",
              "      <th>MLA AUC</th>\n",
              "    </tr>\n",
              "  </thead>\n",
              "  <tbody>\n",
              "    <tr>\n",
              "      <th>3</th>\n",
              "      <td>GradientBoostingClassifier</td>\n",
              "      <td>0.7391</td>\n",
              "      <td>0.7367</td>\n",
              "      <td>0.755148</td>\n",
              "      <td>0.695757</td>\n",
              "      <td>0.724237</td>\n",
              "      <td>0.736439</td>\n",
              "      <td>0.736439</td>\n",
              "    </tr>\n",
              "    <tr>\n",
              "      <th>4</th>\n",
              "      <td>RandomForestClassifier</td>\n",
              "      <td>0.8201</td>\n",
              "      <td>0.7357</td>\n",
              "      <td>0.757170</td>\n",
              "      <td>0.689088</td>\n",
              "      <td>0.721527</td>\n",
              "      <td>0.735377</td>\n",
              "      <td>0.735377</td>\n",
              "    </tr>\n",
              "    <tr>\n",
              "      <th>1</th>\n",
              "      <td>AdaBoostClassifier</td>\n",
              "      <td>0.7321</td>\n",
              "      <td>0.7292</td>\n",
              "      <td>0.769619</td>\n",
              "      <td>0.649534</td>\n",
              "      <td>0.704496</td>\n",
              "      <td>0.728720</td>\n",
              "      <td>0.728720</td>\n",
              "    </tr>\n",
              "    <tr>\n",
              "      <th>0</th>\n",
              "      <td>LogisticRegression</td>\n",
              "      <td>0.7183</td>\n",
              "      <td>0.7206</td>\n",
              "      <td>0.741808</td>\n",
              "      <td>0.671611</td>\n",
              "      <td>0.704967</td>\n",
              "      <td>0.720333</td>\n",
              "      <td>0.720333</td>\n",
              "    </tr>\n",
              "    <tr>\n",
              "      <th>5</th>\n",
              "      <td>DecisionTreeClassifier</td>\n",
              "      <td>0.8085</td>\n",
              "      <td>0.7021</td>\n",
              "      <td>0.720116</td>\n",
              "      <td>0.655283</td>\n",
              "      <td>0.686172</td>\n",
              "      <td>0.701832</td>\n",
              "      <td>0.701832</td>\n",
              "    </tr>\n",
              "    <tr>\n",
              "      <th>6</th>\n",
              "      <td>KNeighborsClassifier</td>\n",
              "      <td>0.7799</td>\n",
              "      <td>0.6923</td>\n",
              "      <td>0.700339</td>\n",
              "      <td>0.665632</td>\n",
              "      <td>0.682544</td>\n",
              "      <td>0.692125</td>\n",
              "      <td>0.692125</td>\n",
              "    </tr>\n",
              "    <tr>\n",
              "      <th>2</th>\n",
              "      <td>ExtraTreesClassifier</td>\n",
              "      <td>0.7337</td>\n",
              "      <td>0.6918</td>\n",
              "      <td>0.713455</td>\n",
              "      <td>0.634702</td>\n",
              "      <td>0.671778</td>\n",
              "      <td>0.691428</td>\n",
              "      <td>0.691428</td>\n",
              "    </tr>\n",
              "  </tbody>\n",
              "</table>\n",
              "</div>"
            ],
            "text/plain": [
              "                     MLA Name  MLA Train Accuracy  ...  MLA_ROC_AUC   MLA AUC\n",
              "3  GradientBoostingClassifier              0.7391  ...     0.736439  0.736439\n",
              "4      RandomForestClassifier              0.8201  ...     0.735377  0.735377\n",
              "1          AdaBoostClassifier              0.7321  ...     0.728720  0.728720\n",
              "0          LogisticRegression              0.7183  ...     0.720333  0.720333\n",
              "5      DecisionTreeClassifier              0.8085  ...     0.701832  0.701832\n",
              "6        KNeighborsClassifier              0.7799  ...     0.692125  0.692125\n",
              "2        ExtraTreesClassifier              0.7337  ...     0.691428  0.691428\n",
              "\n",
              "[7 rows x 8 columns]"
            ]
          },
          "metadata": {
            "tags": []
          },
          "execution_count": 178
        }
      ]
    },
    {
      "cell_type": "code",
      "metadata": {
        "id": "Vl-hn6mCs6KH",
        "colab": {
          "base_uri": "https://localhost:8080/",
          "height": 527
        },
        "outputId": "a54c1a4f-8184-4d15-a491-d1707540f4d3"
      },
      "source": [
        "plt.subplots(figsize=(15,6))\n",
        "sns.barplot(x=\"MLA Name\", y=\"MLA Train Accuracy\",data=MLA_compare,palette='hot',edgecolor=sns.color_palette('dark',7))\n",
        "plt.xticks(rotation=90)\n",
        "plt.title('MLA Train Accuracy Comparison')\n",
        "plt.show()"
      ],
      "execution_count": 179,
      "outputs": [
        {
          "output_type": "display_data",
          "data": {
            "image/png": "[encoded data removed]",
            "text/plain": [
              "<Figure size 1080x432 with 1 Axes>"
            ]
          },
          "metadata": {
            "tags": [],
            "needs_background": "light"
          }
        }
      ]
    },
    {
      "cell_type": "code",
      "metadata": {
        "id": "lu5D_1CTs6KJ",
        "colab": {
          "base_uri": "https://localhost:8080/",
          "height": 527
        },
        "outputId": "c8fb2f04-958b-4aaf-f902-52831810a9b2"
      },
      "source": [
        "plt.subplots(figsize=(15,6))\n",
        "sns.barplot(x=\"MLA Name\", y=\"MLA Test Accuracy\",data=MLA_compare,palette='hot',edgecolor=sns.color_palette('dark',7))\n",
        "plt.xticks(rotation=90)\n",
        "plt.title('MLA Test Accuracy Comparison')\n",
        "plt.show()"
      ],
      "execution_count": 180,
      "outputs": [
        {
          "output_type": "display_data",
          "data": {
            "image/png": "[encoded data removed]",
            "text/plain": [
              "<Figure size 1080x432 with 1 Axes>"
            ]
          },
          "metadata": {
            "tags": [],
            "needs_background": "light"
          }
        }
      ]
    },
    {
      "cell_type": "code",
      "metadata": {
        "id": "nX4R6JuZs6KM",
        "colab": {
          "base_uri": "https://localhost:8080/",
          "height": 527
        },
        "outputId": "64ea99ae-28c8-4a88-c904-ca9cf3a48d90"
      },
      "source": [
        "plt.subplots(figsize=(15,6))\n",
        "sns.barplot(x=\"MLA Name\", y=\"MLA Precission\",data=MLA_compare,palette='hot',edgecolor=sns.color_palette('dark',7))\n",
        "plt.xticks(rotation=90)\n",
        "plt.title('MLA Precission Comparison')\n",
        "plt.show()"
      ],
      "execution_count": 181,
      "outputs": [
        {
          "output_type": "display_data",
          "data": {
            "image/png": "[encoded data removed]",
            "text/plain": [
              "<Figure size 1080x432 with 1 Axes>"
            ]
          },
          "metadata": {
            "tags": [],
            "needs_background": "light"
          }
        }
      ]
    },
    {
      "cell_type": "code",
      "metadata": {
        "id": "nmBq1e4ps6KN",
        "colab": {
          "base_uri": "https://localhost:8080/",
          "height": 527
        },
        "outputId": "89927e40-5e06-4c91-eaa2-32b0a8cc2449"
      },
      "source": [
        "plt.subplots(figsize=(15,6))\n",
        "sns.barplot(x=\"MLA Name\", y=\"MLA Recall\",data=MLA_compare,palette='hot',edgecolor=sns.color_palette('dark',7))\n",
        "plt.xticks(rotation=90)\n",
        "plt.title('MLA Recall Comparison')\n",
        "plt.show()"
      ],
      "execution_count": 182,
      "outputs": [
        {
          "output_type": "display_data",
          "data": {
            "image/png": "[encoded data removed]",
            "text/plain": [
              "<Figure size 1080x432 with 1 Axes>"
            ]
          },
          "metadata": {
            "tags": [],
            "needs_background": "light"
          }
        }
      ]
    },
    {
      "cell_type": "code",
      "metadata": {
        "id": "4kTJGU7ks6KN",
        "colab": {
          "base_uri": "https://localhost:8080/",
          "height": 527
        },
        "outputId": "890d4b20-a243-40bd-c85a-e6d260412212"
      },
      "source": [
        "plt.subplots(figsize=(15,6))\n",
        "sns.barplot(x=\"MLA Name\", y=\"MLA AUC\",data=MLA_compare,palette='hot',edgecolor=sns.color_palette('dark',7))\n",
        "plt.xticks(rotation=90)\n",
        "plt.title('MLA AUC Comparison')\n",
        "plt.show()"
      ],
      "execution_count": 183,
      "outputs": [
        {
          "output_type": "display_data",
          "data": {
            "image/png": "[encoded data removed]",
            "text/plain": [
              "<Figure size 1080x432 with 1 Axes>"
            ]
          },
          "metadata": {
            "tags": [],
            "needs_background": "light"
          }
        }
      ]
    },
    {
      "cell_type": "code",
      "metadata": {
        "id": "dQq8FG4Cs6KO",
        "colab": {
          "base_uri": "https://localhost:8080/",
          "height": 527
        },
        "outputId": "b4e79365-0ad9-48ed-8362-efdd4bcc8057"
      },
      "source": [
        "plt.subplots(figsize=(15,6))\n",
        "sns.barplot(x=\"MLA Name\", y=\"MLA_ROC_AUC\",data=MLA_compare,palette='hot',edgecolor=sns.color_palette('dark',7))\n",
        "plt.xticks(rotation=90)\n",
        "plt.title('MLA ROC_AUC Comparison')\n",
        "plt.show()"
      ],
      "execution_count": 184,
      "outputs": [
        {
          "output_type": "display_data",
          "data": {
            "image/png": "[encoded data removed]",
            "text/plain": [
              "<Figure size 1080x432 with 1 Axes>"
            ]
          },
          "metadata": {
            "tags": [],
            "needs_background": "light"
          }
        }
      ]
    },
    {
      "cell_type": "code",
      "metadata": {
        "id": "6FZGDdsYs6KQ",
        "colab": {
          "base_uri": "https://localhost:8080/",
          "height": 527
        },
        "outputId": "94404c2a-4b1f-4e3e-9c9e-3c0ef350d006"
      },
      "source": [
        "plt.subplots(figsize=(15,6))\n",
        "sns.barplot(x=\"MLA Name\", y=\"MLA F1 Score\",data=MLA_compare,palette='hot',edgecolor=sns.color_palette('dark',7))\n",
        "plt.xticks(rotation=90)\n",
        "plt.title('MLA F1 Score Comparison')\n",
        "plt.show()"
      ],
      "execution_count": 185,
      "outputs": [
        {
          "output_type": "display_data",
          "data": {
            "image/png": "[encoded data removed]",
            "text/plain": [
              "<Figure size 1080x432 with 1 Axes>"
            ]
          },
          "metadata": {
            "tags": [],
            "needs_background": "light"
          }
        }
      ]
    },
    {
      "cell_type": "code",
      "metadata": {
        "id": "_l-bJ5NOs6KR",
        "colab": {
          "base_uri": "https://localhost:8080/",
          "height": 295
        },
        "outputId": "8bfa87ed-b1e5-488b-a212-f1fed0a1688f"
      },
      "source": [
        "index = 1\n",
        "for alg in MLA:\n",
        "    \n",
        "    \n",
        "    predicted = alg.fit(X_train, y_train).predict(X_test)\n",
        "    fp, tp, th = roc_curve(y_train,alg.predict(X_train))\n",
        "    roc_auc_mla_train = auc(fp, tp)\n",
        "    MLA_name = alg.__class__.__name__\n",
        "    plt.plot(fp, tp, lw=2, alpha=0.3, label='ROC %s (AUC = %0.2f)'  % (MLA_name, roc_auc_mla_train))\n",
        "   \n",
        "    index+=1\n",
        "\n",
        "plt.title('ROC Curve comparison')\n",
        "plt.legend(bbox_to_anchor=(1.05, 1), loc=2, borderaxespad=0.)\n",
        "plt.plot([0,1],[0,1],'r--')\n",
        "plt.xlim([0,1])\n",
        "plt.ylim([0,1])\n",
        "plt.ylabel('True Positive Rate')\n",
        "plt.xlabel('False Positive Rate')    \n",
        "plt.show()"
      ],
      "execution_count": 186,
      "outputs": [
        {
          "output_type": "display_data",
          "data": {
            "image/png": "[encoded data removed]",
            "text/plain": [
              "<Figure size 432x288 with 1 Axes>"
            ]
          },
          "metadata": {
            "tags": [],
            "needs_background": "light"
          }
        }
      ]
    },
    {
      "cell_type": "code",
      "metadata": {
        "id": "4OynTNTls6KT",
        "colab": {
          "base_uri": "https://localhost:8080/",
          "height": 295
        },
        "outputId": "d1ce3142-0408-4ecd-d390-271006a2f4fa"
      },
      "source": [
        "index = 1\n",
        "for alg in MLA:\n",
        "    \n",
        "    \n",
        "    predicted = alg.fit(X_train, y_train).predict(X_test)\n",
        "    fp, tp, th = roc_curve(y_test, predicted)\n",
        "    roc_auc_mla = auc(fp, tp)\n",
        "    MLA_name = alg.__class__.__name__\n",
        "    plt.plot(fp, tp, lw=2, alpha=0.3, label='ROC %s (AUC = %0.2f)'  % (MLA_name, roc_auc_mla))\n",
        "   \n",
        "    index+=1\n",
        "\n",
        "plt.title('ROC Curve comparison')\n",
        "plt.legend(bbox_to_anchor=(1.05, 1), loc=2, borderaxespad=0.)\n",
        "plt.plot([0,1],[0,1],'r--')\n",
        "plt.xlim([0,1])\n",
        "plt.ylim([0,1])\n",
        "plt.ylabel('True Positive Rate')\n",
        "plt.xlabel('False Positive Rate')    \n",
        "plt.show()"
      ],
      "execution_count": 187,
      "outputs": [
        {
          "output_type": "display_data",
          "data": {
            "image/png": "[encoded data removed]",
            "text/plain": [
              "<Figure size 432x288 with 1 Axes>"
            ]
          },
          "metadata": {
            "tags": [],
            "needs_background": "light"
          }
        }
      ]
    },
    {
      "cell_type": "code",
      "metadata": {
        "id": "b7msmQebNhsS"
      },
      "source": [
        "import numpy as np\n",
        "from skopt import BayesSearchCV\n",
        "search_spaces=({\n",
        "    'max_depth':np.arange(1,10,1),\n",
        "    'ccp_alpha':np.arange(0.01,1,0.1),\n",
        "})"
      ],
      "execution_count": 214,
      "outputs": []
    },
    {
      "cell_type": "code",
      "metadata": {
        "colab": {
          "base_uri": "https://localhost:8080/"
        },
        "id": "hBYCdGjHOIjR",
        "outputId": "3fb340e2-6f49-4933-a9c0-03cf86cf5ad8"
      },
      "source": [
        "clf_decision_tree=DecisionTreeClassifier(max_depth=9,ccp_alpha=0.01)\n",
        "clf_decision_tree.fit(X_train,y_train)"
      ],
      "execution_count": 217,
      "outputs": [
        {
          "output_type": "execute_result",
          "data": {
            "text/plain": [
              "DecisionTreeClassifier(ccp_alpha=0.01, class_weight=None, criterion='gini',\n",
              "                       max_depth=9, max_features=None, max_leaf_nodes=None,\n",
              "                       min_impurity_decrease=0.0, min_impurity_split=None,\n",
              "                       min_samples_leaf=1, min_samples_split=2,\n",
              "                       min_weight_fraction_leaf=0.0, presort='deprecated',\n",
              "                       random_state=None, splitter='best')"
            ]
          },
          "metadata": {
            "tags": []
          },
          "execution_count": 217
        }
      ]
    },
    {
      "cell_type": "code",
      "metadata": {
        "colab": {
          "base_uri": "https://localhost:8080/"
        },
        "id": "jXpZzOoUSGk8",
        "outputId": "649178bd-d871-4bf4-ff59-392ff4fcee85"
      },
      "source": [
        "y_pred_de=clf_decision_tree.predict(X_test)\n",
        "y_pred_de"
      ],
      "execution_count": 218,
      "outputs": [
        {
          "output_type": "execute_result",
          "data": {
            "text/plain": [
              "array([0, 0, 1, ..., 0, 0, 1])"
            ]
          },
          "metadata": {
            "tags": []
          },
          "execution_count": 218
        }
      ]
    },
    {
      "cell_type": "code",
      "metadata": {
        "colab": {
          "base_uri": "https://localhost:8080/"
        },
        "id": "dCDcyackSR9A",
        "outputId": "24a50897-d3e2-4fab-e6e9-acaeaecec5e0"
      },
      "source": [
        "classification_report_decision_train=classification_report(y_train,clf_decision_tree.predict(X_train))\n",
        "print(classification_report_decision_train)\n",
        "classification_report_decision_test=classification_report(y_test,y_pred_de)\n",
        "print(classification_report_decision_test)"
      ],
      "execution_count": 219,
      "outputs": [
        {
          "output_type": "stream",
          "text": [
            "              precision    recall  f1-score   support\n",
            "\n",
            "           0       0.68      0.80      0.74     26218\n",
            "           1       0.76      0.63      0.69     26282\n",
            "\n",
            "    accuracy                           0.71     52500\n",
            "   macro avg       0.72      0.71      0.71     52500\n",
            "weighted avg       0.72      0.71      0.71     52500\n",
            "\n",
            "              precision    recall  f1-score   support\n",
            "\n",
            "           0       0.68      0.81      0.74      8803\n",
            "           1       0.76      0.62      0.68      8697\n",
            "\n",
            "    accuracy                           0.71     17500\n",
            "   macro avg       0.72      0.71      0.71     17500\n",
            "weighted avg       0.72      0.71      0.71     17500\n",
            "\n"
          ],
          "name": "stdout"
        }
      ]
    },
    {
      "cell_type": "code",
      "metadata": {
        "colab": {
          "base_uri": "https://localhost:8080/"
        },
        "id": "YgcsVll-QfsR",
        "outputId": "0c7881a5-a4f6-4968-8986-5f30c54d328b"
      },
      "source": [
        "clf_decision_grid=BayesSearchCV(clf_decision_tree,search_spaces=search_spaces,n_iter=50,scoring='f1',verbose=5,cv=5)\n",
        "clf_decision_grid.fit(X_train,y_train)"
      ],
      "execution_count": 215,
      "outputs": [
        {
          "output_type": "stream",
          "text": [
            "Fitting 5 folds for each of 1 candidates, totalling 5 fits\n",
            "[CV] ccp_alpha=0.41000000000000003, max_depth=5 ......................\n",
            "[CV]  ccp_alpha=0.41000000000000003, max_depth=5, score=0.667, total=   0.1s\n",
            "[CV] ccp_alpha=0.41000000000000003, max_depth=5 ......................\n",
            "[CV]  ccp_alpha=0.41000000000000003, max_depth=5, score=0.667, total=   0.1s\n",
            "[CV] ccp_alpha=0.41000000000000003, max_depth=5 ......................\n"
          ],
          "name": "stdout"
        },
        {
          "output_type": "stream",
          "text": [
            "[Parallel(n_jobs=1)]: Using backend SequentialBackend with 1 concurrent workers.\n",
            "[Parallel(n_jobs=1)]: Done   1 out of   1 | elapsed:    0.1s remaining:    0.0s\n",
            "[Parallel(n_jobs=1)]: Done   2 out of   2 | elapsed:    0.2s remaining:    0.0s\n"
          ],
          "name": "stderr"
        },
        {
          "output_type": "stream",
          "text": [
            "[CV]  ccp_alpha=0.41000000000000003, max_depth=5, score=0.667, total=   0.1s\n",
            "[CV] ccp_alpha=0.41000000000000003, max_depth=5 ......................\n",
            "[CV]  ccp_alpha=0.41000000000000003, max_depth=5, score=0.667, total=   0.1s\n",
            "[CV] ccp_alpha=0.41000000000000003, max_depth=5 ......................\n",
            "[CV]  ccp_alpha=0.41000000000000003, max_depth=5, score=0.667, total=   0.1s\n",
            "Fitting 5 folds for each of 1 candidates, totalling 5 fits\n",
            "[CV] ccp_alpha=0.41000000000000003, max_depth=5 ......................\n"
          ],
          "name": "stdout"
        },
        {
          "output_type": "stream",
          "text": [
            "[Parallel(n_jobs=1)]: Done   3 out of   3 | elapsed:    0.2s remaining:    0.0s\n",
            "[Parallel(n_jobs=1)]: Done   4 out of   4 | elapsed:    0.3s remaining:    0.0s\n",
            "[Parallel(n_jobs=1)]: Done   5 out of   5 | elapsed:    0.4s finished\n",
            "[Parallel(n_jobs=1)]: Using backend SequentialBackend with 1 concurrent workers.\n"
          ],
          "name": "stderr"
        },
        {
          "output_type": "stream",
          "text": [
            "[CV]  ccp_alpha=0.41000000000000003, max_depth=5, score=0.667, total=   0.1s\n",
            "[CV] ccp_alpha=0.41000000000000003, max_depth=5 ......................\n",
            "[CV]  ccp_alpha=0.41000000000000003, max_depth=5, score=0.667, total=   0.1s\n",
            "[CV] ccp_alpha=0.41000000000000003, max_depth=5 ......................\n",
            "[CV]  ccp_alpha=0.41000000000000003, max_depth=5, score=0.667, total=   0.1s\n",
            "[CV] ccp_alpha=0.41000000000000003, max_depth=5 ......................\n"
          ],
          "name": "stdout"
        },
        {
          "output_type": "stream",
          "text": [
            "[Parallel(n_jobs=1)]: Done   1 out of   1 | elapsed:    0.1s remaining:    0.0s\n",
            "[Parallel(n_jobs=1)]: Done   2 out of   2 | elapsed:    0.2s remaining:    0.0s\n",
            "[Parallel(n_jobs=1)]: Done   3 out of   3 | elapsed:    0.3s remaining:    0.0s\n"
          ],
          "name": "stderr"
        },
        {
          "output_type": "stream",
          "text": [
            "[CV]  ccp_alpha=0.41000000000000003, max_depth=5, score=0.667, total=   0.1s\n",
            "[CV] ccp_alpha=0.41000000000000003, max_depth=5 ......................\n",
            "[CV]  ccp_alpha=0.41000000000000003, max_depth=5, score=0.667, total=   0.1s\n",
            "Fitting 5 folds for each of 1 candidates, totalling 5 fits\n",
            "[CV] ccp_alpha=0.91, max_depth=9 .....................................\n"
          ],
          "name": "stdout"
        },
        {
          "output_type": "stream",
          "text": [
            "[Parallel(n_jobs=1)]: Done   4 out of   4 | elapsed:    0.3s remaining:    0.0s\n",
            "[Parallel(n_jobs=1)]: Done   5 out of   5 | elapsed:    0.4s finished\n",
            "[Parallel(n_jobs=1)]: Using backend SequentialBackend with 1 concurrent workers.\n"
          ],
          "name": "stderr"
        },
        {
          "output_type": "stream",
          "text": [
            "[CV] ......... ccp_alpha=0.91, max_depth=9, score=0.667, total=   0.1s\n",
            "[CV] ccp_alpha=0.91, max_depth=9 .....................................\n",
            "[CV] ......... ccp_alpha=0.91, max_depth=9, score=0.667, total=   0.1s\n",
            "[CV] ccp_alpha=0.91, max_depth=9 .....................................\n"
          ],
          "name": "stdout"
        },
        {
          "output_type": "stream",
          "text": [
            "[Parallel(n_jobs=1)]: Done   1 out of   1 | elapsed:    0.1s remaining:    0.0s\n",
            "[Parallel(n_jobs=1)]: Done   2 out of   2 | elapsed:    0.3s remaining:    0.0s\n"
          ],
          "name": "stderr"
        },
        {
          "output_type": "stream",
          "text": [
            "[CV] ......... ccp_alpha=0.91, max_depth=9, score=0.667, total=   0.1s\n",
            "[CV] ccp_alpha=0.91, max_depth=9 .....................................\n",
            "[CV] ......... ccp_alpha=0.91, max_depth=9, score=0.667, total=   0.1s\n",
            "[CV] ccp_alpha=0.91, max_depth=9 .....................................\n"
          ],
          "name": "stdout"
        },
        {
          "output_type": "stream",
          "text": [
            "[Parallel(n_jobs=1)]: Done   3 out of   3 | elapsed:    0.4s remaining:    0.0s\n",
            "[Parallel(n_jobs=1)]: Done   4 out of   4 | elapsed:    0.5s remaining:    0.0s\n"
          ],
          "name": "stderr"
        },
        {
          "output_type": "stream",
          "text": [
            "[CV] ......... ccp_alpha=0.91, max_depth=9, score=0.667, total=   0.1s\n",
            "Fitting 5 folds for each of 1 candidates, totalling 5 fits\n",
            "[CV] ccp_alpha=0.6100000000000001, max_depth=6 .......................\n",
            "[CV]  ccp_alpha=0.6100000000000001, max_depth=6, score=0.667, total=   0.1s\n",
            "[CV] ccp_alpha=0.6100000000000001, max_depth=6 .......................\n"
          ],
          "name": "stdout"
        },
        {
          "output_type": "stream",
          "text": [
            "[Parallel(n_jobs=1)]: Done   5 out of   5 | elapsed:    0.7s finished\n",
            "[Parallel(n_jobs=1)]: Using backend SequentialBackend with 1 concurrent workers.\n",
            "[Parallel(n_jobs=1)]: Done   1 out of   1 | elapsed:    0.1s remaining:    0.0s\n"
          ],
          "name": "stderr"
        },
        {
          "output_type": "stream",
          "text": [
            "[CV]  ccp_alpha=0.6100000000000001, max_depth=6, score=0.667, total=   0.1s\n",
            "[CV] ccp_alpha=0.6100000000000001, max_depth=6 .......................\n",
            "[CV]  ccp_alpha=0.6100000000000001, max_depth=6, score=0.667, total=   0.1s\n",
            "[CV] ccp_alpha=0.6100000000000001, max_depth=6 .......................\n",
            "[CV]  ccp_alpha=0.6100000000000001, max_depth=6, score=0.667, total=   0.1s\n",
            "[CV] ccp_alpha=0.6100000000000001, max_depth=6 .......................\n"
          ],
          "name": "stdout"
        },
        {
          "output_type": "stream",
          "text": [
            "[Parallel(n_jobs=1)]: Done   2 out of   2 | elapsed:    0.2s remaining:    0.0s\n",
            "[Parallel(n_jobs=1)]: Done   3 out of   3 | elapsed:    0.3s remaining:    0.0s\n",
            "[Parallel(n_jobs=1)]: Done   4 out of   4 | elapsed:    0.4s remaining:    0.0s\n"
          ],
          "name": "stderr"
        },
        {
          "output_type": "stream",
          "text": [
            "[CV]  ccp_alpha=0.6100000000000001, max_depth=6, score=0.667, total=   0.1s\n",
            "Fitting 5 folds for each of 1 candidates, totalling 5 fits\n",
            "[CV] ccp_alpha=0.81, max_depth=4 .....................................\n",
            "[CV] ......... ccp_alpha=0.81, max_depth=4, score=0.667, total=   0.1s\n",
            "[CV] ccp_alpha=0.81, max_depth=4 .....................................\n",
            "[CV] ......... ccp_alpha=0.81, max_depth=4, score=0.667, total=   0.1s\n",
            "[CV] ccp_alpha=0.81, max_depth=4 .....................................\n"
          ],
          "name": "stdout"
        },
        {
          "output_type": "stream",
          "text": [
            "[Parallel(n_jobs=1)]: Done   5 out of   5 | elapsed:    0.5s finished\n",
            "[Parallel(n_jobs=1)]: Using backend SequentialBackend with 1 concurrent workers.\n",
            "[Parallel(n_jobs=1)]: Done   1 out of   1 | elapsed:    0.1s remaining:    0.0s\n",
            "[Parallel(n_jobs=1)]: Done   2 out of   2 | elapsed:    0.1s remaining:    0.0s\n"
          ],
          "name": "stderr"
        },
        {
          "output_type": "stream",
          "text": [
            "[CV] ......... ccp_alpha=0.81, max_depth=4, score=0.667, total=   0.1s\n",
            "[CV] ccp_alpha=0.81, max_depth=4 .....................................\n",
            "[CV] ......... ccp_alpha=0.81, max_depth=4, score=0.667, total=   0.1s\n",
            "[CV] ccp_alpha=0.81, max_depth=4 .....................................\n",
            "[CV] ......... ccp_alpha=0.81, max_depth=4, score=0.667, total=   0.1s\n",
            "Fitting 5 folds for each of 1 candidates, totalling 5 fits\n",
            "[CV] ccp_alpha=0.6100000000000001, max_depth=6 .......................\n"
          ],
          "name": "stdout"
        },
        {
          "output_type": "stream",
          "text": [
            "[Parallel(n_jobs=1)]: Done   3 out of   3 | elapsed:    0.2s remaining:    0.0s\n",
            "[Parallel(n_jobs=1)]: Done   4 out of   4 | elapsed:    0.3s remaining:    0.0s\n",
            "[Parallel(n_jobs=1)]: Done   5 out of   5 | elapsed:    0.4s finished\n",
            "[Parallel(n_jobs=1)]: Using backend SequentialBackend with 1 concurrent workers.\n"
          ],
          "name": "stderr"
        },
        {
          "output_type": "stream",
          "text": [
            "[CV]  ccp_alpha=0.6100000000000001, max_depth=6, score=0.667, total=   0.1s\n",
            "[CV] ccp_alpha=0.6100000000000001, max_depth=6 .......................\n",
            "[CV]  ccp_alpha=0.6100000000000001, max_depth=6, score=0.667, total=   0.1s\n",
            "[CV] ccp_alpha=0.6100000000000001, max_depth=6 .......................\n",
            "[CV]  ccp_alpha=0.6100000000000001, max_depth=6, score=0.667, total=   0.1s\n",
            "[CV] ccp_alpha=0.6100000000000001, max_depth=6 .......................\n"
          ],
          "name": "stdout"
        },
        {
          "output_type": "stream",
          "text": [
            "[Parallel(n_jobs=1)]: Done   1 out of   1 | elapsed:    0.1s remaining:    0.0s\n",
            "[Parallel(n_jobs=1)]: Done   2 out of   2 | elapsed:    0.2s remaining:    0.0s\n",
            "[Parallel(n_jobs=1)]: Done   3 out of   3 | elapsed:    0.3s remaining:    0.0s\n"
          ],
          "name": "stderr"
        },
        {
          "output_type": "stream",
          "text": [
            "[CV]  ccp_alpha=0.6100000000000001, max_depth=6, score=0.667, total=   0.1s\n",
            "[CV] ccp_alpha=0.6100000000000001, max_depth=6 .......................\n",
            "[CV]  ccp_alpha=0.6100000000000001, max_depth=6, score=0.667, total=   0.1s\n",
            "Fitting 5 folds for each of 1 candidates, totalling 5 fits\n",
            "[CV] ccp_alpha=0.01, max_depth=9 .....................................\n"
          ],
          "name": "stdout"
        },
        {
          "output_type": "stream",
          "text": [
            "[Parallel(n_jobs=1)]: Done   4 out of   4 | elapsed:    0.4s remaining:    0.0s\n",
            "[Parallel(n_jobs=1)]: Done   5 out of   5 | elapsed:    0.5s finished\n",
            "[Parallel(n_jobs=1)]: Using backend SequentialBackend with 1 concurrent workers.\n"
          ],
          "name": "stderr"
        },
        {
          "output_type": "stream",
          "text": [
            "[CV] ......... ccp_alpha=0.01, max_depth=9, score=0.682, total=   0.1s\n",
            "[CV] ccp_alpha=0.01, max_depth=9 .....................................\n",
            "[CV] ......... ccp_alpha=0.01, max_depth=9, score=0.695, total=   0.1s\n",
            "[CV] ccp_alpha=0.01, max_depth=9 .....................................\n"
          ],
          "name": "stdout"
        },
        {
          "output_type": "stream",
          "text": [
            "[Parallel(n_jobs=1)]: Done   1 out of   1 | elapsed:    0.1s remaining:    0.0s\n",
            "[Parallel(n_jobs=1)]: Done   2 out of   2 | elapsed:    0.3s remaining:    0.0s\n"
          ],
          "name": "stderr"
        },
        {
          "output_type": "stream",
          "text": [
            "[CV] ......... ccp_alpha=0.01, max_depth=9, score=0.692, total=   0.1s\n",
            "[CV] ccp_alpha=0.01, max_depth=9 .....................................\n",
            "[CV] ......... ccp_alpha=0.01, max_depth=9, score=0.687, total=   0.1s\n",
            "[CV] ccp_alpha=0.01, max_depth=9 .....................................\n"
          ],
          "name": "stdout"
        },
        {
          "output_type": "stream",
          "text": [
            "[Parallel(n_jobs=1)]: Done   3 out of   3 | elapsed:    0.4s remaining:    0.0s\n",
            "[Parallel(n_jobs=1)]: Done   4 out of   4 | elapsed:    0.5s remaining:    0.0s\n"
          ],
          "name": "stderr"
        },
        {
          "output_type": "stream",
          "text": [
            "[CV] ......... ccp_alpha=0.01, max_depth=9, score=0.676, total=   0.1s\n",
            "Fitting 5 folds for each of 1 candidates, totalling 5 fits\n",
            "[CV] ccp_alpha=0.11, max_depth=6 .....................................\n",
            "[CV] ......... ccp_alpha=0.11, max_depth=6, score=0.667, total=   0.1s\n",
            "[CV] ccp_alpha=0.11, max_depth=6 .....................................\n",
            "[CV] ......... ccp_alpha=0.11, max_depth=6, score=0.667, total=   0.1s\n",
            "[CV] ccp_alpha=0.11, max_depth=6 .....................................\n"
          ],
          "name": "stdout"
        },
        {
          "output_type": "stream",
          "text": [
            "[Parallel(n_jobs=1)]: Done   5 out of   5 | elapsed:    0.7s finished\n",
            "[Parallel(n_jobs=1)]: Using backend SequentialBackend with 1 concurrent workers.\n",
            "[Parallel(n_jobs=1)]: Done   1 out of   1 | elapsed:    0.1s remaining:    0.0s\n",
            "[Parallel(n_jobs=1)]: Done   2 out of   2 | elapsed:    0.2s remaining:    0.0s\n"
          ],
          "name": "stderr"
        },
        {
          "output_type": "stream",
          "text": [
            "[CV] ......... ccp_alpha=0.11, max_depth=6, score=0.667, total=   0.1s\n",
            "[CV] ccp_alpha=0.11, max_depth=6 .....................................\n",
            "[CV] ......... ccp_alpha=0.11, max_depth=6, score=0.667, total=   0.1s\n",
            "[CV] ccp_alpha=0.11, max_depth=6 .....................................\n",
            "[CV] ......... ccp_alpha=0.11, max_depth=6, score=0.667, total=   0.1s\n",
            "Fitting 5 folds for each of 1 candidates, totalling 5 fits\n"
          ],
          "name": "stdout"
        },
        {
          "output_type": "stream",
          "text": [
            "[Parallel(n_jobs=1)]: Done   3 out of   3 | elapsed:    0.3s remaining:    0.0s\n",
            "[Parallel(n_jobs=1)]: Done   4 out of   4 | elapsed:    0.4s remaining:    0.0s\n",
            "[Parallel(n_jobs=1)]: Done   5 out of   5 | elapsed:    0.5s finished\n",
            "[Parallel(n_jobs=1)]: Using backend SequentialBackend with 1 concurrent workers.\n",
            "[Parallel(n_jobs=1)]: Done   1 out of   1 | elapsed:    0.1s remaining:    0.0s\n"
          ],
          "name": "stderr"
        },
        {
          "output_type": "stream",
          "text": [
            "[CV] ccp_alpha=0.7100000000000001, max_depth=8 .......................\n",
            "[CV]  ccp_alpha=0.7100000000000001, max_depth=8, score=0.667, total=   0.1s\n",
            "[CV] ccp_alpha=0.7100000000000001, max_depth=8 .......................\n",
            "[CV]  ccp_alpha=0.7100000000000001, max_depth=8, score=0.667, total=   0.1s\n",
            "[CV] ccp_alpha=0.7100000000000001, max_depth=8 .......................\n",
            "[CV]  ccp_alpha=0.7100000000000001, max_depth=8, score=0.667, total=   0.1s\n",
            "[CV] ccp_alpha=0.7100000000000001, max_depth=8 .......................\n"
          ],
          "name": "stdout"
        },
        {
          "output_type": "stream",
          "text": [
            "[Parallel(n_jobs=1)]: Done   2 out of   2 | elapsed:    0.2s remaining:    0.0s\n",
            "[Parallel(n_jobs=1)]: Done   3 out of   3 | elapsed:    0.4s remaining:    0.0s\n"
          ],
          "name": "stderr"
        },
        {
          "output_type": "stream",
          "text": [
            "[CV]  ccp_alpha=0.7100000000000001, max_depth=8, score=0.667, total=   0.1s\n",
            "[CV] ccp_alpha=0.7100000000000001, max_depth=8 .......................\n",
            "[CV]  ccp_alpha=0.7100000000000001, max_depth=8, score=0.667, total=   0.1s\n"
          ],
          "name": "stdout"
        },
        {
          "output_type": "stream",
          "text": [
            "[Parallel(n_jobs=1)]: Done   4 out of   4 | elapsed:    0.5s remaining:    0.0s\n",
            "[Parallel(n_jobs=1)]: Done   5 out of   5 | elapsed:    0.6s finished\n"
          ],
          "name": "stderr"
        },
        {
          "output_type": "stream",
          "text": [
            "Fitting 5 folds for each of 1 candidates, totalling 5 fits\n",
            "[CV] ccp_alpha=0.01, max_depth=7 .....................................\n",
            "[CV] ......... ccp_alpha=0.01, max_depth=7, score=0.682, total=   0.1s\n",
            "[CV] ccp_alpha=0.01, max_depth=7 .....................................\n"
          ],
          "name": "stdout"
        },
        {
          "output_type": "stream",
          "text": [
            "[Parallel(n_jobs=1)]: Using backend SequentialBackend with 1 concurrent workers.\n",
            "[Parallel(n_jobs=1)]: Done   1 out of   1 | elapsed:    0.1s remaining:    0.0s\n"
          ],
          "name": "stderr"
        },
        {
          "output_type": "stream",
          "text": [
            "[CV] ......... ccp_alpha=0.01, max_depth=7, score=0.695, total=   0.1s\n",
            "[CV] ccp_alpha=0.01, max_depth=7 .....................................\n",
            "[CV] ......... ccp_alpha=0.01, max_depth=7, score=0.692, total=   0.1s\n",
            "[CV] ccp_alpha=0.01, max_depth=7 .....................................\n"
          ],
          "name": "stdout"
        },
        {
          "output_type": "stream",
          "text": [
            "[Parallel(n_jobs=1)]: Done   2 out of   2 | elapsed:    0.2s remaining:    0.0s\n",
            "[Parallel(n_jobs=1)]: Done   3 out of   3 | elapsed:    0.4s remaining:    0.0s\n"
          ],
          "name": "stderr"
        },
        {
          "output_type": "stream",
          "text": [
            "[CV] ......... ccp_alpha=0.01, max_depth=7, score=0.687, total=   0.1s\n",
            "[CV] ccp_alpha=0.01, max_depth=7 .....................................\n",
            "[CV] ......... ccp_alpha=0.01, max_depth=7, score=0.676, total=   0.1s\n"
          ],
          "name": "stdout"
        },
        {
          "output_type": "stream",
          "text": [
            "[Parallel(n_jobs=1)]: Done   4 out of   4 | elapsed:    0.5s remaining:    0.0s\n",
            "[Parallel(n_jobs=1)]: Done   5 out of   5 | elapsed:    0.6s finished\n"
          ],
          "name": "stderr"
        },
        {
          "output_type": "stream",
          "text": [
            "Fitting 5 folds for each of 1 candidates, totalling 5 fits\n",
            "[CV] ccp_alpha=0.31000000000000005, max_depth=7 ......................\n",
            "[CV]  ccp_alpha=0.31000000000000005, max_depth=7, score=0.667, total=   0.1s\n",
            "[CV] ccp_alpha=0.31000000000000005, max_depth=7 ......................\n"
          ],
          "name": "stdout"
        },
        {
          "output_type": "stream",
          "text": [
            "[Parallel(n_jobs=1)]: Using backend SequentialBackend with 1 concurrent workers.\n",
            "[Parallel(n_jobs=1)]: Done   1 out of   1 | elapsed:    0.1s remaining:    0.0s\n"
          ],
          "name": "stderr"
        },
        {
          "output_type": "stream",
          "text": [
            "[CV]  ccp_alpha=0.31000000000000005, max_depth=7, score=0.667, total=   0.1s\n",
            "[CV] ccp_alpha=0.31000000000000005, max_depth=7 ......................\n",
            "[CV]  ccp_alpha=0.31000000000000005, max_depth=7, score=0.667, total=   0.1s\n",
            "[CV] ccp_alpha=0.31000000000000005, max_depth=7 ......................\n"
          ],
          "name": "stdout"
        },
        {
          "output_type": "stream",
          "text": [
            "[Parallel(n_jobs=1)]: Done   2 out of   2 | elapsed:    0.2s remaining:    0.0s\n",
            "[Parallel(n_jobs=1)]: Done   3 out of   3 | elapsed:    0.4s remaining:    0.0s\n"
          ],
          "name": "stderr"
        },
        {
          "output_type": "stream",
          "text": [
            "[CV]  ccp_alpha=0.31000000000000005, max_depth=7, score=0.667, total=   0.1s\n",
            "[CV] ccp_alpha=0.31000000000000005, max_depth=7 ......................\n",
            "[CV]  ccp_alpha=0.31000000000000005, max_depth=7, score=0.667, total=   0.1s\n"
          ],
          "name": "stdout"
        },
        {
          "output_type": "stream",
          "text": [
            "[Parallel(n_jobs=1)]: Done   4 out of   4 | elapsed:    0.5s remaining:    0.0s\n",
            "[Parallel(n_jobs=1)]: Done   5 out of   5 | elapsed:    0.6s finished\n"
          ],
          "name": "stderr"
        },
        {
          "output_type": "stream",
          "text": [
            "Fitting 5 folds for each of 1 candidates, totalling 5 fits\n",
            "[CV] ccp_alpha=0.21000000000000002, max_depth=7 ......................\n",
            "[CV]  ccp_alpha=0.21000000000000002, max_depth=7, score=0.667, total=   0.1s\n",
            "[CV] ccp_alpha=0.21000000000000002, max_depth=7 ......................\n"
          ],
          "name": "stdout"
        },
        {
          "output_type": "stream",
          "text": [
            "[Parallel(n_jobs=1)]: Using backend SequentialBackend with 1 concurrent workers.\n",
            "[Parallel(n_jobs=1)]: Done   1 out of   1 | elapsed:    0.1s remaining:    0.0s\n"
          ],
          "name": "stderr"
        },
        {
          "output_type": "stream",
          "text": [
            "[CV]  ccp_alpha=0.21000000000000002, max_depth=7, score=0.667, total=   0.1s\n",
            "[CV] ccp_alpha=0.21000000000000002, max_depth=7 ......................\n",
            "[CV]  ccp_alpha=0.21000000000000002, max_depth=7, score=0.667, total=   0.1s\n",
            "[CV] ccp_alpha=0.21000000000000002, max_depth=7 ......................\n"
          ],
          "name": "stdout"
        },
        {
          "output_type": "stream",
          "text": [
            "[Parallel(n_jobs=1)]: Done   2 out of   2 | elapsed:    0.2s remaining:    0.0s\n",
            "[Parallel(n_jobs=1)]: Done   3 out of   3 | elapsed:    0.3s remaining:    0.0s\n"
          ],
          "name": "stderr"
        },
        {
          "output_type": "stream",
          "text": [
            "[CV]  ccp_alpha=0.21000000000000002, max_depth=7, score=0.667, total=   0.1s\n",
            "[CV] ccp_alpha=0.21000000000000002, max_depth=7 ......................\n",
            "[CV]  ccp_alpha=0.21000000000000002, max_depth=7, score=0.667, total=   0.1s\n"
          ],
          "name": "stdout"
        },
        {
          "output_type": "stream",
          "text": [
            "[Parallel(n_jobs=1)]: Done   4 out of   4 | elapsed:    0.5s remaining:    0.0s\n",
            "[Parallel(n_jobs=1)]: Done   5 out of   5 | elapsed:    0.6s finished\n"
          ],
          "name": "stderr"
        },
        {
          "output_type": "stream",
          "text": [
            "Fitting 5 folds for each of 1 candidates, totalling 5 fits\n",
            "[CV] ccp_alpha=0.51, max_depth=9 .....................................\n",
            "[CV] ......... ccp_alpha=0.51, max_depth=9, score=0.667, total=   0.2s\n",
            "[CV] ccp_alpha=0.51, max_depth=9 .....................................\n"
          ],
          "name": "stdout"
        },
        {
          "output_type": "stream",
          "text": [
            "[Parallel(n_jobs=1)]: Using backend SequentialBackend with 1 concurrent workers.\n",
            "[Parallel(n_jobs=1)]: Done   1 out of   1 | elapsed:    0.2s remaining:    0.0s\n"
          ],
          "name": "stderr"
        },
        {
          "output_type": "stream",
          "text": [
            "[CV] ......... ccp_alpha=0.51, max_depth=9, score=0.667, total=   0.1s\n",
            "[CV] ccp_alpha=0.51, max_depth=9 .....................................\n",
            "[CV] ......... ccp_alpha=0.51, max_depth=9, score=0.667, total=   0.1s\n",
            "[CV] ccp_alpha=0.51, max_depth=9 .....................................\n"
          ],
          "name": "stdout"
        },
        {
          "output_type": "stream",
          "text": [
            "[Parallel(n_jobs=1)]: Done   2 out of   2 | elapsed:    0.3s remaining:    0.0s\n",
            "[Parallel(n_jobs=1)]: Done   3 out of   3 | elapsed:    0.4s remaining:    0.0s\n"
          ],
          "name": "stderr"
        },
        {
          "output_type": "stream",
          "text": [
            "[CV] ......... ccp_alpha=0.51, max_depth=9, score=0.667, total=   0.1s\n",
            "[CV] ccp_alpha=0.51, max_depth=9 .....................................\n",
            "[CV] ......... ccp_alpha=0.51, max_depth=9, score=0.667, total=   0.1s\n"
          ],
          "name": "stdout"
        },
        {
          "output_type": "stream",
          "text": [
            "[Parallel(n_jobs=1)]: Done   4 out of   4 | elapsed:    0.6s remaining:    0.0s\n",
            "[Parallel(n_jobs=1)]: Done   5 out of   5 | elapsed:    0.7s finished\n"
          ],
          "name": "stderr"
        },
        {
          "output_type": "stream",
          "text": [
            "Fitting 5 folds for each of 1 candidates, totalling 5 fits\n",
            "[CV] ccp_alpha=0.01, max_depth=2 .....................................\n",
            "[CV] ......... ccp_alpha=0.01, max_depth=2, score=0.682, total=   0.1s\n",
            "[CV] ccp_alpha=0.01, max_depth=2 .....................................\n",
            "[CV] ......... ccp_alpha=0.01, max_depth=2, score=0.695, total=   0.1s\n",
            "[CV] ccp_alpha=0.01, max_depth=2 .....................................\n",
            "[CV] ......... ccp_alpha=0.01, max_depth=2, score=0.692, total=   0.0s\n",
            "[CV] ccp_alpha=0.01, max_depth=2 .....................................\n"
          ],
          "name": "stdout"
        },
        {
          "output_type": "stream",
          "text": [
            "[Parallel(n_jobs=1)]: Using backend SequentialBackend with 1 concurrent workers.\n",
            "[Parallel(n_jobs=1)]: Done   1 out of   1 | elapsed:    0.1s remaining:    0.0s\n",
            "[Parallel(n_jobs=1)]: Done   2 out of   2 | elapsed:    0.1s remaining:    0.0s\n",
            "[Parallel(n_jobs=1)]: Done   3 out of   3 | elapsed:    0.2s remaining:    0.0s\n"
          ],
          "name": "stderr"
        },
        {
          "output_type": "stream",
          "text": [
            "[CV] ......... ccp_alpha=0.01, max_depth=2, score=0.687, total=   0.0s\n",
            "[CV] ccp_alpha=0.01, max_depth=2 .....................................\n",
            "[CV] ......... ccp_alpha=0.01, max_depth=2, score=0.676, total=   0.0s\n"
          ],
          "name": "stdout"
        },
        {
          "output_type": "stream",
          "text": [
            "[Parallel(n_jobs=1)]: Done   4 out of   4 | elapsed:    0.2s remaining:    0.0s\n",
            "[Parallel(n_jobs=1)]: Done   5 out of   5 | elapsed:    0.3s finished\n"
          ],
          "name": "stderr"
        },
        {
          "output_type": "stream",
          "text": [
            "Fitting 5 folds for each of 1 candidates, totalling 5 fits\n",
            "[CV] ccp_alpha=0.01, max_depth=3 .....................................\n",
            "[CV] ......... ccp_alpha=0.01, max_depth=3, score=0.682, total=   0.1s\n",
            "[CV] ccp_alpha=0.01, max_depth=3 .....................................\n",
            "[CV] ......... ccp_alpha=0.01, max_depth=3, score=0.695, total=   0.1s\n",
            "[CV] ccp_alpha=0.01, max_depth=3 .....................................\n"
          ],
          "name": "stdout"
        },
        {
          "output_type": "stream",
          "text": [
            "[Parallel(n_jobs=1)]: Using backend SequentialBackend with 1 concurrent workers.\n",
            "[Parallel(n_jobs=1)]: Done   1 out of   1 | elapsed:    0.1s remaining:    0.0s\n",
            "[Parallel(n_jobs=1)]: Done   2 out of   2 | elapsed:    0.1s remaining:    0.0s\n"
          ],
          "name": "stderr"
        },
        {
          "output_type": "stream",
          "text": [
            "[CV] ......... ccp_alpha=0.01, max_depth=3, score=0.692, total=   0.1s\n",
            "[CV] ccp_alpha=0.01, max_depth=3 .....................................\n",
            "[CV] ......... ccp_alpha=0.01, max_depth=3, score=0.687, total=   0.1s\n",
            "[CV] ccp_alpha=0.01, max_depth=3 .....................................\n",
            "[CV] ......... ccp_alpha=0.01, max_depth=3, score=0.676, total=   0.1s\n"
          ],
          "name": "stdout"
        },
        {
          "output_type": "stream",
          "text": [
            "[Parallel(n_jobs=1)]: Done   3 out of   3 | elapsed:    0.2s remaining:    0.0s\n",
            "[Parallel(n_jobs=1)]: Done   4 out of   4 | elapsed:    0.3s remaining:    0.0s\n",
            "[Parallel(n_jobs=1)]: Done   5 out of   5 | elapsed:    0.3s finished\n"
          ],
          "name": "stderr"
        },
        {
          "output_type": "stream",
          "text": [
            "Fitting 5 folds for each of 1 candidates, totalling 5 fits\n",
            "[CV] ccp_alpha=0.01, max_depth=1 .....................................\n",
            "[CV] ......... ccp_alpha=0.01, max_depth=1, score=0.682, total=   0.0s\n",
            "[CV] ccp_alpha=0.01, max_depth=1 .....................................\n",
            "[CV] ......... ccp_alpha=0.01, max_depth=1, score=0.695, total=   0.0s\n",
            "[CV] ccp_alpha=0.01, max_depth=1 .....................................\n",
            "[CV] ......... ccp_alpha=0.01, max_depth=1, score=0.692, total=   0.0s\n",
            "[CV] ccp_alpha=0.01, max_depth=1 .....................................\n",
            "[CV] ......... ccp_alpha=0.01, max_depth=1, score=0.687, total=   0.0s\n",
            "[CV] ccp_alpha=0.01, max_depth=1 .....................................\n"
          ],
          "name": "stdout"
        },
        {
          "output_type": "stream",
          "text": [
            "[Parallel(n_jobs=1)]: Using backend SequentialBackend with 1 concurrent workers.\n",
            "[Parallel(n_jobs=1)]: Done   1 out of   1 | elapsed:    0.0s remaining:    0.0s\n",
            "[Parallel(n_jobs=1)]: Done   2 out of   2 | elapsed:    0.1s remaining:    0.0s\n",
            "[Parallel(n_jobs=1)]: Done   3 out of   3 | elapsed:    0.1s remaining:    0.0s\n",
            "[Parallel(n_jobs=1)]: Done   4 out of   4 | elapsed:    0.2s remaining:    0.0s\n",
            "[Parallel(n_jobs=1)]: Done   5 out of   5 | elapsed:    0.2s finished\n"
          ],
          "name": "stderr"
        },
        {
          "output_type": "stream",
          "text": [
            "[CV] ......... ccp_alpha=0.01, max_depth=1, score=0.676, total=   0.0s\n",
            "Fitting 5 folds for each of 1 candidates, totalling 5 fits\n",
            "[CV] ccp_alpha=0.01, max_depth=8 .....................................\n",
            "[CV] ......... ccp_alpha=0.01, max_depth=8, score=0.682, total=   0.1s\n",
            "[CV] ccp_alpha=0.01, max_depth=8 .....................................\n"
          ],
          "name": "stdout"
        },
        {
          "output_type": "stream",
          "text": [
            "[Parallel(n_jobs=1)]: Using backend SequentialBackend with 1 concurrent workers.\n",
            "[Parallel(n_jobs=1)]: Done   1 out of   1 | elapsed:    0.1s remaining:    0.0s\n"
          ],
          "name": "stderr"
        },
        {
          "output_type": "stream",
          "text": [
            "[CV] ......... ccp_alpha=0.01, max_depth=8, score=0.695, total=   0.1s\n",
            "[CV] ccp_alpha=0.01, max_depth=8 .....................................\n",
            "[CV] ......... ccp_alpha=0.01, max_depth=8, score=0.692, total=   0.1s\n",
            "[CV] ccp_alpha=0.01, max_depth=8 .....................................\n"
          ],
          "name": "stdout"
        },
        {
          "output_type": "stream",
          "text": [
            "[Parallel(n_jobs=1)]: Done   2 out of   2 | elapsed:    0.3s remaining:    0.0s\n",
            "[Parallel(n_jobs=1)]: Done   3 out of   3 | elapsed:    0.4s remaining:    0.0s\n"
          ],
          "name": "stderr"
        },
        {
          "output_type": "stream",
          "text": [
            "[CV] ......... ccp_alpha=0.01, max_depth=8, score=0.687, total=   0.1s\n",
            "[CV] ccp_alpha=0.01, max_depth=8 .....................................\n",
            "[CV] ......... ccp_alpha=0.01, max_depth=8, score=0.676, total=   0.1s\n"
          ],
          "name": "stdout"
        },
        {
          "output_type": "stream",
          "text": [
            "[Parallel(n_jobs=1)]: Done   4 out of   4 | elapsed:    0.5s remaining:    0.0s\n",
            "[Parallel(n_jobs=1)]: Done   5 out of   5 | elapsed:    0.6s finished\n"
          ],
          "name": "stderr"
        },
        {
          "output_type": "stream",
          "text": [
            "Fitting 5 folds for each of 1 candidates, totalling 5 fits\n",
            "[CV] ccp_alpha=0.01, max_depth=4 .....................................\n",
            "[CV] ......... ccp_alpha=0.01, max_depth=4, score=0.682, total=   0.1s\n",
            "[CV] ccp_alpha=0.01, max_depth=4 .....................................\n",
            "[CV] ......... ccp_alpha=0.01, max_depth=4, score=0.695, total=   0.1s\n",
            "[CV] ccp_alpha=0.01, max_depth=4 .....................................\n"
          ],
          "name": "stdout"
        },
        {
          "output_type": "stream",
          "text": [
            "[Parallel(n_jobs=1)]: Using backend SequentialBackend with 1 concurrent workers.\n",
            "[Parallel(n_jobs=1)]: Done   1 out of   1 | elapsed:    0.1s remaining:    0.0s\n",
            "[Parallel(n_jobs=1)]: Done   2 out of   2 | elapsed:    0.2s remaining:    0.0s\n"
          ],
          "name": "stderr"
        },
        {
          "output_type": "stream",
          "text": [
            "[CV] ......... ccp_alpha=0.01, max_depth=4, score=0.692, total=   0.1s\n",
            "[CV] ccp_alpha=0.01, max_depth=4 .....................................\n",
            "[CV] ......... ccp_alpha=0.01, max_depth=4, score=0.687, total=   0.1s\n",
            "[CV] ccp_alpha=0.01, max_depth=4 .....................................\n",
            "[CV] ......... ccp_alpha=0.01, max_depth=4, score=0.676, total=   0.1s\n"
          ],
          "name": "stdout"
        },
        {
          "output_type": "stream",
          "text": [
            "[Parallel(n_jobs=1)]: Done   3 out of   3 | elapsed:    0.2s remaining:    0.0s\n",
            "[Parallel(n_jobs=1)]: Done   4 out of   4 | elapsed:    0.3s remaining:    0.0s\n",
            "[Parallel(n_jobs=1)]: Done   5 out of   5 | elapsed:    0.4s finished\n"
          ],
          "name": "stderr"
        },
        {
          "output_type": "stream",
          "text": [
            "Fitting 5 folds for each of 1 candidates, totalling 5 fits\n",
            "[CV] ccp_alpha=0.01, max_depth=5 .....................................\n",
            "[CV] ......... ccp_alpha=0.01, max_depth=5, score=0.682, total=   0.1s\n",
            "[CV] ccp_alpha=0.01, max_depth=5 .....................................\n",
            "[CV] ......... ccp_alpha=0.01, max_depth=5, score=0.695, total=   0.1s\n",
            "[CV] ccp_alpha=0.01, max_depth=5 .....................................\n"
          ],
          "name": "stdout"
        },
        {
          "output_type": "stream",
          "text": [
            "[Parallel(n_jobs=1)]: Using backend SequentialBackend with 1 concurrent workers.\n",
            "[Parallel(n_jobs=1)]: Done   1 out of   1 | elapsed:    0.1s remaining:    0.0s\n",
            "[Parallel(n_jobs=1)]: Done   2 out of   2 | elapsed:    0.2s remaining:    0.0s\n"
          ],
          "name": "stderr"
        },
        {
          "output_type": "stream",
          "text": [
            "[CV] ......... ccp_alpha=0.01, max_depth=5, score=0.692, total=   0.1s\n",
            "[CV] ccp_alpha=0.01, max_depth=5 .....................................\n",
            "[CV] ......... ccp_alpha=0.01, max_depth=5, score=0.687, total=   0.1s\n",
            "[CV] ccp_alpha=0.01, max_depth=5 .....................................\n",
            "[CV] ......... ccp_alpha=0.01, max_depth=5, score=0.676, total=   0.1s\n"
          ],
          "name": "stdout"
        },
        {
          "output_type": "stream",
          "text": [
            "[Parallel(n_jobs=1)]: Done   3 out of   3 | elapsed:    0.3s remaining:    0.0s\n",
            "[Parallel(n_jobs=1)]: Done   4 out of   4 | elapsed:    0.4s remaining:    0.0s\n",
            "[Parallel(n_jobs=1)]: Done   5 out of   5 | elapsed:    0.4s finished\n"
          ],
          "name": "stderr"
        },
        {
          "output_type": "stream",
          "text": [
            "Fitting 5 folds for each of 1 candidates, totalling 5 fits\n",
            "[CV] ccp_alpha=0.01, max_depth=6 .....................................\n",
            "[CV] ......... ccp_alpha=0.01, max_depth=6, score=0.682, total=   0.1s\n",
            "[CV] ccp_alpha=0.01, max_depth=6 .....................................\n"
          ],
          "name": "stdout"
        },
        {
          "output_type": "stream",
          "text": [
            "[Parallel(n_jobs=1)]: Using backend SequentialBackend with 1 concurrent workers.\n",
            "[Parallel(n_jobs=1)]: Done   1 out of   1 | elapsed:    0.1s remaining:    0.0s\n"
          ],
          "name": "stderr"
        },
        {
          "output_type": "stream",
          "text": [
            "[CV] ......... ccp_alpha=0.01, max_depth=6, score=0.695, total=   0.1s\n",
            "[CV] ccp_alpha=0.01, max_depth=6 .....................................\n",
            "[CV] ......... ccp_alpha=0.01, max_depth=6, score=0.692, total=   0.1s\n",
            "[CV] ccp_alpha=0.01, max_depth=6 .....................................\n",
            "[CV] ......... ccp_alpha=0.01, max_depth=6, score=0.687, total=   0.1s\n",
            "[CV] ccp_alpha=0.01, max_depth=6 .....................................\n"
          ],
          "name": "stdout"
        },
        {
          "output_type": "stream",
          "text": [
            "[Parallel(n_jobs=1)]: Done   2 out of   2 | elapsed:    0.2s remaining:    0.0s\n",
            "[Parallel(n_jobs=1)]: Done   3 out of   3 | elapsed:    0.3s remaining:    0.0s\n",
            "[Parallel(n_jobs=1)]: Done   4 out of   4 | elapsed:    0.4s remaining:    0.0s\n"
          ],
          "name": "stderr"
        },
        {
          "output_type": "stream",
          "text": [
            "[CV] ......... ccp_alpha=0.01, max_depth=6, score=0.676, total=   0.1s\n"
          ],
          "name": "stdout"
        },
        {
          "output_type": "stream",
          "text": [
            "[Parallel(n_jobs=1)]: Done   5 out of   5 | elapsed:    0.5s finished\n",
            "/usr/local/lib/python3.7/dist-packages/skopt/optimizer/optimizer.py:449: UserWarning: The objective has been evaluated at this point before.\n",
            "  warnings.warn(\"The objective has been evaluated \"\n"
          ],
          "name": "stderr"
        },
        {
          "output_type": "stream",
          "text": [
            "Fitting 5 folds for each of 1 candidates, totalling 5 fits\n",
            "[CV] ccp_alpha=0.01, max_depth=1 .....................................\n",
            "[CV] ......... ccp_alpha=0.01, max_depth=1, score=0.682, total=   0.0s\n",
            "[CV] ccp_alpha=0.01, max_depth=1 .....................................\n",
            "[CV] ......... ccp_alpha=0.01, max_depth=1, score=0.695, total=   0.0s\n",
            "[CV] ccp_alpha=0.01, max_depth=1 .....................................\n",
            "[CV] ......... ccp_alpha=0.01, max_depth=1, score=0.692, total=   0.0s\n",
            "[CV] ccp_alpha=0.01, max_depth=1 .....................................\n",
            "[CV] ......... ccp_alpha=0.01, max_depth=1, score=0.687, total=   0.0s\n",
            "[CV] ccp_alpha=0.01, max_depth=1 .....................................\n",
            "[CV] ......... ccp_alpha=0.01, max_depth=1, score=0.676, total=   0.0s\n"
          ],
          "name": "stdout"
        },
        {
          "output_type": "stream",
          "text": [
            "[Parallel(n_jobs=1)]: Using backend SequentialBackend with 1 concurrent workers.\n",
            "[Parallel(n_jobs=1)]: Done   1 out of   1 | elapsed:    0.0s remaining:    0.0s\n",
            "[Parallel(n_jobs=1)]: Done   2 out of   2 | elapsed:    0.1s remaining:    0.0s\n",
            "[Parallel(n_jobs=1)]: Done   3 out of   3 | elapsed:    0.1s remaining:    0.0s\n",
            "[Parallel(n_jobs=1)]: Done   4 out of   4 | elapsed:    0.2s remaining:    0.0s\n",
            "[Parallel(n_jobs=1)]: Done   5 out of   5 | elapsed:    0.2s finished\n"
          ],
          "name": "stderr"
        },
        {
          "output_type": "stream",
          "text": [
            "Fitting 5 folds for each of 1 candidates, totalling 5 fits\n",
            "[CV] ccp_alpha=0.11, max_depth=1 .....................................\n",
            "[CV] ......... ccp_alpha=0.11, max_depth=1, score=0.667, total=   0.0s\n",
            "[CV] ccp_alpha=0.11, max_depth=1 .....................................\n",
            "[CV] ......... ccp_alpha=0.11, max_depth=1, score=0.667, total=   0.0s\n",
            "[CV] ccp_alpha=0.11, max_depth=1 .....................................\n",
            "[CV] ......... ccp_alpha=0.11, max_depth=1, score=0.667, total=   0.0s\n",
            "[CV] ccp_alpha=0.11, max_depth=1 .....................................\n",
            "[CV] ......... ccp_alpha=0.11, max_depth=1, score=0.667, total=   0.0s\n",
            "[CV] ccp_alpha=0.11, max_depth=1 .....................................\n",
            "[CV] ......... ccp_alpha=0.11, max_depth=1, score=0.667, total=   0.0s\n"
          ],
          "name": "stdout"
        },
        {
          "output_type": "stream",
          "text": [
            "[Parallel(n_jobs=1)]: Using backend SequentialBackend with 1 concurrent workers.\n",
            "[Parallel(n_jobs=1)]: Done   1 out of   1 | elapsed:    0.0s remaining:    0.0s\n",
            "[Parallel(n_jobs=1)]: Done   2 out of   2 | elapsed:    0.1s remaining:    0.0s\n",
            "[Parallel(n_jobs=1)]: Done   3 out of   3 | elapsed:    0.1s remaining:    0.0s\n",
            "[Parallel(n_jobs=1)]: Done   4 out of   4 | elapsed:    0.2s remaining:    0.0s\n",
            "[Parallel(n_jobs=1)]: Done   5 out of   5 | elapsed:    0.2s finished\n"
          ],
          "name": "stderr"
        },
        {
          "output_type": "stream",
          "text": [
            "Fitting 5 folds for each of 1 candidates, totalling 5 fits\n",
            "[CV] ccp_alpha=0.31000000000000005, max_depth=2 ......................\n",
            "[CV]  ccp_alpha=0.31000000000000005, max_depth=2, score=0.667, total=   0.1s\n",
            "[CV] ccp_alpha=0.31000000000000005, max_depth=2 ......................\n",
            "[CV]  ccp_alpha=0.31000000000000005, max_depth=2, score=0.667, total=   0.0s\n",
            "[CV] ccp_alpha=0.31000000000000005, max_depth=2 ......................\n",
            "[CV]  ccp_alpha=0.31000000000000005, max_depth=2, score=0.667, total=   0.0s\n",
            "[CV] ccp_alpha=0.31000000000000005, max_depth=2 ......................\n"
          ],
          "name": "stdout"
        },
        {
          "output_type": "stream",
          "text": [
            "[Parallel(n_jobs=1)]: Using backend SequentialBackend with 1 concurrent workers.\n",
            "[Parallel(n_jobs=1)]: Done   1 out of   1 | elapsed:    0.1s remaining:    0.0s\n",
            "[Parallel(n_jobs=1)]: Done   2 out of   2 | elapsed:    0.1s remaining:    0.0s\n",
            "[Parallel(n_jobs=1)]: Done   3 out of   3 | elapsed:    0.2s remaining:    0.0s\n",
            "[Parallel(n_jobs=1)]: Done   4 out of   4 | elapsed:    0.2s remaining:    0.0s\n"
          ],
          "name": "stderr"
        },
        {
          "output_type": "stream",
          "text": [
            "[CV]  ccp_alpha=0.31000000000000005, max_depth=2, score=0.667, total=   0.0s\n",
            "[CV] ccp_alpha=0.31000000000000005, max_depth=2 ......................\n",
            "[CV]  ccp_alpha=0.31000000000000005, max_depth=2, score=0.667, total=   0.0s\n"
          ],
          "name": "stdout"
        },
        {
          "output_type": "stream",
          "text": [
            "[Parallel(n_jobs=1)]: Done   5 out of   5 | elapsed:    0.2s finished\n"
          ],
          "name": "stderr"
        },
        {
          "output_type": "stream",
          "text": [
            "Fitting 5 folds for each of 1 candidates, totalling 5 fits\n",
            "[CV] ccp_alpha=0.91, max_depth=3 .....................................\n",
            "[CV] ......... ccp_alpha=0.91, max_depth=3, score=0.667, total=   0.1s\n",
            "[CV] ccp_alpha=0.91, max_depth=3 .....................................\n",
            "[CV] ......... ccp_alpha=0.91, max_depth=3, score=0.667, total=   0.1s\n",
            "[CV] ccp_alpha=0.91, max_depth=3 .....................................\n"
          ],
          "name": "stdout"
        },
        {
          "output_type": "stream",
          "text": [
            "[Parallel(n_jobs=1)]: Using backend SequentialBackend with 1 concurrent workers.\n",
            "[Parallel(n_jobs=1)]: Done   1 out of   1 | elapsed:    0.1s remaining:    0.0s\n",
            "[Parallel(n_jobs=1)]: Done   2 out of   2 | elapsed:    0.1s remaining:    0.0s\n",
            "[Parallel(n_jobs=1)]: Done   3 out of   3 | elapsed:    0.2s remaining:    0.0s\n"
          ],
          "name": "stderr"
        },
        {
          "output_type": "stream",
          "text": [
            "[CV] ......... ccp_alpha=0.91, max_depth=3, score=0.667, total=   0.1s\n",
            "[CV] ccp_alpha=0.91, max_depth=3 .....................................\n",
            "[CV] ......... ccp_alpha=0.91, max_depth=3, score=0.667, total=   0.1s\n",
            "[CV] ccp_alpha=0.91, max_depth=3 .....................................\n",
            "[CV] ......... ccp_alpha=0.91, max_depth=3, score=0.667, total=   0.1s\n"
          ],
          "name": "stdout"
        },
        {
          "output_type": "stream",
          "text": [
            "[Parallel(n_jobs=1)]: Done   4 out of   4 | elapsed:    0.3s remaining:    0.0s\n",
            "[Parallel(n_jobs=1)]: Done   5 out of   5 | elapsed:    0.3s finished\n"
          ],
          "name": "stderr"
        },
        {
          "output_type": "stream",
          "text": [
            "Fitting 5 folds for each of 1 candidates, totalling 5 fits\n",
            "[CV] ccp_alpha=0.21000000000000002, max_depth=1 ......................\n",
            "[CV]  ccp_alpha=0.21000000000000002, max_depth=1, score=0.667, total=   0.0s\n",
            "[CV] ccp_alpha=0.21000000000000002, max_depth=1 ......................\n",
            "[CV]  ccp_alpha=0.21000000000000002, max_depth=1, score=0.667, total=   0.0s\n",
            "[CV] ccp_alpha=0.21000000000000002, max_depth=1 ......................\n",
            "[CV]  ccp_alpha=0.21000000000000002, max_depth=1, score=0.667, total=   0.0s\n",
            "[CV] ccp_alpha=0.21000000000000002, max_depth=1 ......................\n",
            "[CV]  ccp_alpha=0.21000000000000002, max_depth=1, score=0.667, total=   0.0s\n",
            "[CV] ccp_alpha=0.21000000000000002, max_depth=1 ......................\n",
            "[CV]  ccp_alpha=0.21000000000000002, max_depth=1, score=0.667, total=   0.0s\n"
          ],
          "name": "stdout"
        },
        {
          "output_type": "stream",
          "text": [
            "[Parallel(n_jobs=1)]: Using backend SequentialBackend with 1 concurrent workers.\n",
            "[Parallel(n_jobs=1)]: Done   1 out of   1 | elapsed:    0.0s remaining:    0.0s\n",
            "[Parallel(n_jobs=1)]: Done   2 out of   2 | elapsed:    0.1s remaining:    0.0s\n",
            "[Parallel(n_jobs=1)]: Done   3 out of   3 | elapsed:    0.1s remaining:    0.0s\n",
            "[Parallel(n_jobs=1)]: Done   4 out of   4 | elapsed:    0.1s remaining:    0.0s\n",
            "[Parallel(n_jobs=1)]: Done   5 out of   5 | elapsed:    0.2s finished\n"
          ],
          "name": "stderr"
        },
        {
          "output_type": "stream",
          "text": [
            "Fitting 5 folds for each of 1 candidates, totalling 5 fits\n",
            "[CV] ccp_alpha=0.51, max_depth=2 .....................................\n",
            "[CV] ......... ccp_alpha=0.51, max_depth=2, score=0.667, total=   0.1s\n",
            "[CV] ccp_alpha=0.51, max_depth=2 .....................................\n",
            "[CV] ......... ccp_alpha=0.51, max_depth=2, score=0.667, total=   0.0s\n",
            "[CV] ccp_alpha=0.51, max_depth=2 .....................................\n",
            "[CV] ......... ccp_alpha=0.51, max_depth=2, score=0.667, total=   0.0s\n",
            "[CV] ccp_alpha=0.51, max_depth=2 .....................................\n"
          ],
          "name": "stdout"
        },
        {
          "output_type": "stream",
          "text": [
            "[Parallel(n_jobs=1)]: Using backend SequentialBackend with 1 concurrent workers.\n",
            "[Parallel(n_jobs=1)]: Done   1 out of   1 | elapsed:    0.1s remaining:    0.0s\n",
            "[Parallel(n_jobs=1)]: Done   2 out of   2 | elapsed:    0.1s remaining:    0.0s\n",
            "[Parallel(n_jobs=1)]: Done   3 out of   3 | elapsed:    0.2s remaining:    0.0s\n"
          ],
          "name": "stderr"
        },
        {
          "output_type": "stream",
          "text": [
            "[CV] ......... ccp_alpha=0.51, max_depth=2, score=0.667, total=   0.0s\n",
            "[CV] ccp_alpha=0.51, max_depth=2 .....................................\n",
            "[CV] ......... ccp_alpha=0.51, max_depth=2, score=0.667, total=   0.0s\n"
          ],
          "name": "stdout"
        },
        {
          "output_type": "stream",
          "text": [
            "[Parallel(n_jobs=1)]: Done   4 out of   4 | elapsed:    0.2s remaining:    0.0s\n",
            "[Parallel(n_jobs=1)]: Done   5 out of   5 | elapsed:    0.3s finished\n"
          ],
          "name": "stderr"
        },
        {
          "output_type": "stream",
          "text": [
            "Fitting 5 folds for each of 1 candidates, totalling 5 fits\n",
            "[CV] ccp_alpha=0.81, max_depth=3 .....................................\n",
            "[CV] ......... ccp_alpha=0.81, max_depth=3, score=0.667, total=   0.1s\n",
            "[CV] ccp_alpha=0.81, max_depth=3 .....................................\n",
            "[CV] ......... ccp_alpha=0.81, max_depth=3, score=0.667, total=   0.1s\n",
            "[CV] ccp_alpha=0.81, max_depth=3 .....................................\n"
          ],
          "name": "stdout"
        },
        {
          "output_type": "stream",
          "text": [
            "[Parallel(n_jobs=1)]: Using backend SequentialBackend with 1 concurrent workers.\n",
            "[Parallel(n_jobs=1)]: Done   1 out of   1 | elapsed:    0.1s remaining:    0.0s\n",
            "[Parallel(n_jobs=1)]: Done   2 out of   2 | elapsed:    0.1s remaining:    0.0s\n",
            "[Parallel(n_jobs=1)]: Done   3 out of   3 | elapsed:    0.2s remaining:    0.0s\n"
          ],
          "name": "stderr"
        },
        {
          "output_type": "stream",
          "text": [
            "[CV] ......... ccp_alpha=0.81, max_depth=3, score=0.667, total=   0.1s\n",
            "[CV] ccp_alpha=0.81, max_depth=3 .....................................\n",
            "[CV] ......... ccp_alpha=0.81, max_depth=3, score=0.667, total=   0.1s\n",
            "[CV] ccp_alpha=0.81, max_depth=3 .....................................\n",
            "[CV] ......... ccp_alpha=0.81, max_depth=3, score=0.667, total=   0.1s\n"
          ],
          "name": "stdout"
        },
        {
          "output_type": "stream",
          "text": [
            "[Parallel(n_jobs=1)]: Done   4 out of   4 | elapsed:    0.3s remaining:    0.0s\n",
            "[Parallel(n_jobs=1)]: Done   5 out of   5 | elapsed:    0.3s finished\n",
            "/usr/local/lib/python3.7/dist-packages/skopt/optimizer/optimizer.py:449: UserWarning: The objective has been evaluated at this point before.\n",
            "  warnings.warn(\"The objective has been evaluated \"\n"
          ],
          "name": "stderr"
        },
        {
          "output_type": "stream",
          "text": [
            "Fitting 5 folds for each of 1 candidates, totalling 5 fits\n",
            "[CV] ccp_alpha=0.01, max_depth=4 .....................................\n",
            "[CV] ......... ccp_alpha=0.01, max_depth=4, score=0.682, total=   0.1s\n",
            "[CV] ccp_alpha=0.01, max_depth=4 .....................................\n",
            "[CV] ......... ccp_alpha=0.01, max_depth=4, score=0.695, total=   0.1s\n",
            "[CV] ccp_alpha=0.01, max_depth=4 .....................................\n"
          ],
          "name": "stdout"
        },
        {
          "output_type": "stream",
          "text": [
            "[Parallel(n_jobs=1)]: Using backend SequentialBackend with 1 concurrent workers.\n",
            "[Parallel(n_jobs=1)]: Done   1 out of   1 | elapsed:    0.1s remaining:    0.0s\n",
            "[Parallel(n_jobs=1)]: Done   2 out of   2 | elapsed:    0.2s remaining:    0.0s\n"
          ],
          "name": "stderr"
        },
        {
          "output_type": "stream",
          "text": [
            "[CV] ......... ccp_alpha=0.01, max_depth=4, score=0.692, total=   0.1s\n",
            "[CV] ccp_alpha=0.01, max_depth=4 .....................................\n",
            "[CV] ......... ccp_alpha=0.01, max_depth=4, score=0.687, total=   0.1s\n",
            "[CV] ccp_alpha=0.01, max_depth=4 .....................................\n",
            "[CV] ......... ccp_alpha=0.01, max_depth=4, score=0.676, total=   0.1s\n"
          ],
          "name": "stdout"
        },
        {
          "output_type": "stream",
          "text": [
            "[Parallel(n_jobs=1)]: Done   3 out of   3 | elapsed:    0.2s remaining:    0.0s\n",
            "[Parallel(n_jobs=1)]: Done   4 out of   4 | elapsed:    0.3s remaining:    0.0s\n",
            "[Parallel(n_jobs=1)]: Done   5 out of   5 | elapsed:    0.4s finished\n",
            "/usr/local/lib/python3.7/dist-packages/skopt/optimizer/optimizer.py:449: UserWarning: The objective has been evaluated at this point before.\n",
            "  warnings.warn(\"The objective has been evaluated \"\n"
          ],
          "name": "stderr"
        },
        {
          "output_type": "stream",
          "text": [
            "Fitting 5 folds for each of 1 candidates, totalling 5 fits\n",
            "[CV] ccp_alpha=0.01, max_depth=8 .....................................\n",
            "[CV] ......... ccp_alpha=0.01, max_depth=8, score=0.682, total=   0.1s\n",
            "[CV] ccp_alpha=0.01, max_depth=8 .....................................\n"
          ],
          "name": "stdout"
        },
        {
          "output_type": "stream",
          "text": [
            "[Parallel(n_jobs=1)]: Using backend SequentialBackend with 1 concurrent workers.\n",
            "[Parallel(n_jobs=1)]: Done   1 out of   1 | elapsed:    0.1s remaining:    0.0s\n"
          ],
          "name": "stderr"
        },
        {
          "output_type": "stream",
          "text": [
            "[CV] ......... ccp_alpha=0.01, max_depth=8, score=0.695, total=   0.1s\n",
            "[CV] ccp_alpha=0.01, max_depth=8 .....................................\n",
            "[CV] ......... ccp_alpha=0.01, max_depth=8, score=0.692, total=   0.1s\n",
            "[CV] ccp_alpha=0.01, max_depth=8 .....................................\n"
          ],
          "name": "stdout"
        },
        {
          "output_type": "stream",
          "text": [
            "[Parallel(n_jobs=1)]: Done   2 out of   2 | elapsed:    0.3s remaining:    0.0s\n",
            "[Parallel(n_jobs=1)]: Done   3 out of   3 | elapsed:    0.4s remaining:    0.0s\n"
          ],
          "name": "stderr"
        },
        {
          "output_type": "stream",
          "text": [
            "[CV] ......... ccp_alpha=0.01, max_depth=8, score=0.687, total=   0.1s\n",
            "[CV] ccp_alpha=0.01, max_depth=8 .....................................\n",
            "[CV] ......... ccp_alpha=0.01, max_depth=8, score=0.676, total=   0.1s\n"
          ],
          "name": "stdout"
        },
        {
          "output_type": "stream",
          "text": [
            "[Parallel(n_jobs=1)]: Done   4 out of   4 | elapsed:    0.5s remaining:    0.0s\n",
            "[Parallel(n_jobs=1)]: Done   5 out of   5 | elapsed:    0.6s finished\n"
          ],
          "name": "stderr"
        },
        {
          "output_type": "stream",
          "text": [
            "Fitting 5 folds for each of 1 candidates, totalling 5 fits\n",
            "[CV] ccp_alpha=0.7100000000000001, max_depth=4 .......................\n",
            "[CV]  ccp_alpha=0.7100000000000001, max_depth=4, score=0.667, total=   0.1s\n",
            "[CV] ccp_alpha=0.7100000000000001, max_depth=4 .......................\n",
            "[CV]  ccp_alpha=0.7100000000000001, max_depth=4, score=0.667, total=   0.1s\n",
            "[CV] ccp_alpha=0.7100000000000001, max_depth=4 .......................\n"
          ],
          "name": "stdout"
        },
        {
          "output_type": "stream",
          "text": [
            "[Parallel(n_jobs=1)]: Using backend SequentialBackend with 1 concurrent workers.\n",
            "[Parallel(n_jobs=1)]: Done   1 out of   1 | elapsed:    0.1s remaining:    0.0s\n",
            "[Parallel(n_jobs=1)]: Done   2 out of   2 | elapsed:    0.2s remaining:    0.0s\n"
          ],
          "name": "stderr"
        },
        {
          "output_type": "stream",
          "text": [
            "[CV]  ccp_alpha=0.7100000000000001, max_depth=4, score=0.667, total=   0.1s\n",
            "[CV] ccp_alpha=0.7100000000000001, max_depth=4 .......................\n",
            "[CV]  ccp_alpha=0.7100000000000001, max_depth=4, score=0.667, total=   0.1s\n",
            "[CV] ccp_alpha=0.7100000000000001, max_depth=4 .......................\n",
            "[CV]  ccp_alpha=0.7100000000000001, max_depth=4, score=0.667, total=   0.1s\n"
          ],
          "name": "stdout"
        },
        {
          "output_type": "stream",
          "text": [
            "[Parallel(n_jobs=1)]: Done   3 out of   3 | elapsed:    0.2s remaining:    0.0s\n",
            "[Parallel(n_jobs=1)]: Done   4 out of   4 | elapsed:    0.3s remaining:    0.0s\n",
            "[Parallel(n_jobs=1)]: Done   5 out of   5 | elapsed:    0.4s finished\n",
            "/usr/local/lib/python3.7/dist-packages/skopt/optimizer/optimizer.py:449: UserWarning: The objective has been evaluated at this point before.\n",
            "  warnings.warn(\"The objective has been evaluated \"\n"
          ],
          "name": "stderr"
        },
        {
          "output_type": "stream",
          "text": [
            "Fitting 5 folds for each of 1 candidates, totalling 5 fits\n",
            "[CV] ccp_alpha=0.01, max_depth=5 .....................................\n",
            "[CV] ......... ccp_alpha=0.01, max_depth=5, score=0.682, total=   0.1s\n",
            "[CV] ccp_alpha=0.01, max_depth=5 .....................................\n",
            "[CV] ......... ccp_alpha=0.01, max_depth=5, score=0.695, total=   0.1s\n",
            "[CV] ccp_alpha=0.01, max_depth=5 .....................................\n"
          ],
          "name": "stdout"
        },
        {
          "output_type": "stream",
          "text": [
            "[Parallel(n_jobs=1)]: Using backend SequentialBackend with 1 concurrent workers.\n",
            "[Parallel(n_jobs=1)]: Done   1 out of   1 | elapsed:    0.1s remaining:    0.0s\n",
            "[Parallel(n_jobs=1)]: Done   2 out of   2 | elapsed:    0.2s remaining:    0.0s\n"
          ],
          "name": "stderr"
        },
        {
          "output_type": "stream",
          "text": [
            "[CV] ......... ccp_alpha=0.01, max_depth=5, score=0.692, total=   0.1s\n",
            "[CV] ccp_alpha=0.01, max_depth=5 .....................................\n",
            "[CV] ......... ccp_alpha=0.01, max_depth=5, score=0.687, total=   0.1s\n",
            "[CV] ccp_alpha=0.01, max_depth=5 .....................................\n",
            "[CV] ......... ccp_alpha=0.01, max_depth=5, score=0.676, total=   0.1s\n"
          ],
          "name": "stdout"
        },
        {
          "output_type": "stream",
          "text": [
            "[Parallel(n_jobs=1)]: Done   3 out of   3 | elapsed:    0.3s remaining:    0.0s\n",
            "[Parallel(n_jobs=1)]: Done   4 out of   4 | elapsed:    0.4s remaining:    0.0s\n",
            "[Parallel(n_jobs=1)]: Done   5 out of   5 | elapsed:    0.4s finished\n",
            "/usr/local/lib/python3.7/dist-packages/skopt/optimizer/optimizer.py:449: UserWarning: The objective has been evaluated at this point before.\n",
            "  warnings.warn(\"The objective has been evaluated \"\n"
          ],
          "name": "stderr"
        },
        {
          "output_type": "stream",
          "text": [
            "Fitting 5 folds for each of 1 candidates, totalling 5 fits\n",
            "[CV] ccp_alpha=0.01, max_depth=9 .....................................\n",
            "[CV] ......... ccp_alpha=0.01, max_depth=9, score=0.682, total=   0.2s\n",
            "[CV] ccp_alpha=0.01, max_depth=9 .....................................\n"
          ],
          "name": "stdout"
        },
        {
          "output_type": "stream",
          "text": [
            "[Parallel(n_jobs=1)]: Using backend SequentialBackend with 1 concurrent workers.\n",
            "[Parallel(n_jobs=1)]: Done   1 out of   1 | elapsed:    0.2s remaining:    0.0s\n"
          ],
          "name": "stderr"
        },
        {
          "output_type": "stream",
          "text": [
            "[CV] ......... ccp_alpha=0.01, max_depth=9, score=0.695, total=   0.1s\n",
            "[CV] ccp_alpha=0.01, max_depth=9 .....................................\n",
            "[CV] ......... ccp_alpha=0.01, max_depth=9, score=0.692, total=   0.1s\n",
            "[CV] ccp_alpha=0.01, max_depth=9 .....................................\n"
          ],
          "name": "stdout"
        },
        {
          "output_type": "stream",
          "text": [
            "[Parallel(n_jobs=1)]: Done   2 out of   2 | elapsed:    0.3s remaining:    0.0s\n",
            "[Parallel(n_jobs=1)]: Done   3 out of   3 | elapsed:    0.4s remaining:    0.0s\n"
          ],
          "name": "stderr"
        },
        {
          "output_type": "stream",
          "text": [
            "[CV] ......... ccp_alpha=0.01, max_depth=9, score=0.687, total=   0.1s\n",
            "[CV] ccp_alpha=0.01, max_depth=9 .....................................\n",
            "[CV] ......... ccp_alpha=0.01, max_depth=9, score=0.676, total=   0.1s\n"
          ],
          "name": "stdout"
        },
        {
          "output_type": "stream",
          "text": [
            "[Parallel(n_jobs=1)]: Done   4 out of   4 | elapsed:    0.6s remaining:    0.0s\n",
            "[Parallel(n_jobs=1)]: Done   5 out of   5 | elapsed:    0.7s finished\n",
            "/usr/local/lib/python3.7/dist-packages/skopt/optimizer/optimizer.py:449: UserWarning: The objective has been evaluated at this point before.\n",
            "  warnings.warn(\"The objective has been evaluated \"\n"
          ],
          "name": "stderr"
        },
        {
          "output_type": "stream",
          "text": [
            "Fitting 5 folds for each of 1 candidates, totalling 5 fits\n",
            "[CV] ccp_alpha=0.01, max_depth=2 .....................................\n",
            "[CV] ......... ccp_alpha=0.01, max_depth=2, score=0.682, total=   0.1s\n",
            "[CV] ccp_alpha=0.01, max_depth=2 .....................................\n",
            "[CV] ......... ccp_alpha=0.01, max_depth=2, score=0.695, total=   0.0s\n",
            "[CV] ccp_alpha=0.01, max_depth=2 .....................................\n",
            "[CV] ......... ccp_alpha=0.01, max_depth=2, score=0.692, total=   0.0s\n",
            "[CV] ccp_alpha=0.01, max_depth=2 .....................................\n"
          ],
          "name": "stdout"
        },
        {
          "output_type": "stream",
          "text": [
            "[Parallel(n_jobs=1)]: Using backend SequentialBackend with 1 concurrent workers.\n",
            "[Parallel(n_jobs=1)]: Done   1 out of   1 | elapsed:    0.1s remaining:    0.0s\n",
            "[Parallel(n_jobs=1)]: Done   2 out of   2 | elapsed:    0.1s remaining:    0.0s\n",
            "[Parallel(n_jobs=1)]: Done   3 out of   3 | elapsed:    0.2s remaining:    0.0s\n",
            "[Parallel(n_jobs=1)]: Done   4 out of   4 | elapsed:    0.2s remaining:    0.0s\n"
          ],
          "name": "stderr"
        },
        {
          "output_type": "stream",
          "text": [
            "[CV] ......... ccp_alpha=0.01, max_depth=2, score=0.687, total=   0.0s\n",
            "[CV] ccp_alpha=0.01, max_depth=2 .....................................\n",
            "[CV] ......... ccp_alpha=0.01, max_depth=2, score=0.676, total=   0.0s\n"
          ],
          "name": "stdout"
        },
        {
          "output_type": "stream",
          "text": [
            "[Parallel(n_jobs=1)]: Done   5 out of   5 | elapsed:    0.2s finished\n",
            "/usr/local/lib/python3.7/dist-packages/skopt/optimizer/optimizer.py:449: UserWarning: The objective has been evaluated at this point before.\n",
            "  warnings.warn(\"The objective has been evaluated \"\n"
          ],
          "name": "stderr"
        },
        {
          "output_type": "stream",
          "text": [
            "Fitting 5 folds for each of 1 candidates, totalling 5 fits\n",
            "[CV] ccp_alpha=0.01, max_depth=7 .....................................\n",
            "[CV] ......... ccp_alpha=0.01, max_depth=7, score=0.682, total=   0.1s\n",
            "[CV] ccp_alpha=0.01, max_depth=7 .....................................\n"
          ],
          "name": "stdout"
        },
        {
          "output_type": "stream",
          "text": [
            "[Parallel(n_jobs=1)]: Using backend SequentialBackend with 1 concurrent workers.\n",
            "[Parallel(n_jobs=1)]: Done   1 out of   1 | elapsed:    0.1s remaining:    0.0s\n"
          ],
          "name": "stderr"
        },
        {
          "output_type": "stream",
          "text": [
            "[CV] ......... ccp_alpha=0.01, max_depth=7, score=0.695, total=   0.1s\n",
            "[CV] ccp_alpha=0.01, max_depth=7 .....................................\n",
            "[CV] ......... ccp_alpha=0.01, max_depth=7, score=0.692, total=   0.1s\n",
            "[CV] ccp_alpha=0.01, max_depth=7 .....................................\n"
          ],
          "name": "stdout"
        },
        {
          "output_type": "stream",
          "text": [
            "[Parallel(n_jobs=1)]: Done   2 out of   2 | elapsed:    0.2s remaining:    0.0s\n",
            "[Parallel(n_jobs=1)]: Done   3 out of   3 | elapsed:    0.3s remaining:    0.0s\n"
          ],
          "name": "stderr"
        },
        {
          "output_type": "stream",
          "text": [
            "[CV] ......... ccp_alpha=0.01, max_depth=7, score=0.687, total=   0.1s\n",
            "[CV] ccp_alpha=0.01, max_depth=7 .....................................\n",
            "[CV] ......... ccp_alpha=0.01, max_depth=7, score=0.676, total=   0.1s\n"
          ],
          "name": "stdout"
        },
        {
          "output_type": "stream",
          "text": [
            "[Parallel(n_jobs=1)]: Done   4 out of   4 | elapsed:    0.5s remaining:    0.0s\n",
            "[Parallel(n_jobs=1)]: Done   5 out of   5 | elapsed:    0.6s finished\n",
            "/usr/local/lib/python3.7/dist-packages/skopt/optimizer/optimizer.py:449: UserWarning: The objective has been evaluated at this point before.\n",
            "  warnings.warn(\"The objective has been evaluated \"\n"
          ],
          "name": "stderr"
        },
        {
          "output_type": "stream",
          "text": [
            "Fitting 5 folds for each of 1 candidates, totalling 5 fits\n",
            "[CV] ccp_alpha=0.01, max_depth=3 .....................................\n",
            "[CV] ......... ccp_alpha=0.01, max_depth=3, score=0.682, total=   0.1s\n",
            "[CV] ccp_alpha=0.01, max_depth=3 .....................................\n",
            "[CV] ......... ccp_alpha=0.01, max_depth=3, score=0.695, total=   0.1s\n",
            "[CV] ccp_alpha=0.01, max_depth=3 .....................................\n"
          ],
          "name": "stdout"
        },
        {
          "output_type": "stream",
          "text": [
            "[Parallel(n_jobs=1)]: Using backend SequentialBackend with 1 concurrent workers.\n",
            "[Parallel(n_jobs=1)]: Done   1 out of   1 | elapsed:    0.1s remaining:    0.0s\n",
            "[Parallel(n_jobs=1)]: Done   2 out of   2 | elapsed:    0.1s remaining:    0.0s\n",
            "[Parallel(n_jobs=1)]: Done   3 out of   3 | elapsed:    0.2s remaining:    0.0s\n"
          ],
          "name": "stderr"
        },
        {
          "output_type": "stream",
          "text": [
            "[CV] ......... ccp_alpha=0.01, max_depth=3, score=0.692, total=   0.1s\n",
            "[CV] ccp_alpha=0.01, max_depth=3 .....................................\n",
            "[CV] ......... ccp_alpha=0.01, max_depth=3, score=0.687, total=   0.1s\n",
            "[CV] ccp_alpha=0.01, max_depth=3 .....................................\n",
            "[CV] ......... ccp_alpha=0.01, max_depth=3, score=0.676, total=   0.1s\n"
          ],
          "name": "stdout"
        },
        {
          "output_type": "stream",
          "text": [
            "[Parallel(n_jobs=1)]: Done   4 out of   4 | elapsed:    0.3s remaining:    0.0s\n",
            "[Parallel(n_jobs=1)]: Done   5 out of   5 | elapsed:    0.3s finished\n",
            "/usr/local/lib/python3.7/dist-packages/skopt/optimizer/optimizer.py:449: UserWarning: The objective has been evaluated at this point before.\n",
            "  warnings.warn(\"The objective has been evaluated \"\n"
          ],
          "name": "stderr"
        },
        {
          "output_type": "stream",
          "text": [
            "Fitting 5 folds for each of 1 candidates, totalling 5 fits\n",
            "[CV] ccp_alpha=0.01, max_depth=6 .....................................\n",
            "[CV] ......... ccp_alpha=0.01, max_depth=6, score=0.682, total=   0.1s\n",
            "[CV] ccp_alpha=0.01, max_depth=6 .....................................\n"
          ],
          "name": "stdout"
        },
        {
          "output_type": "stream",
          "text": [
            "[Parallel(n_jobs=1)]: Using backend SequentialBackend with 1 concurrent workers.\n",
            "[Parallel(n_jobs=1)]: Done   1 out of   1 | elapsed:    0.1s remaining:    0.0s\n"
          ],
          "name": "stderr"
        },
        {
          "output_type": "stream",
          "text": [
            "[CV] ......... ccp_alpha=0.01, max_depth=6, score=0.695, total=   0.1s\n",
            "[CV] ccp_alpha=0.01, max_depth=6 .....................................\n",
            "[CV] ......... ccp_alpha=0.01, max_depth=6, score=0.692, total=   0.1s\n",
            "[CV] ccp_alpha=0.01, max_depth=6 .....................................\n",
            "[CV] ......... ccp_alpha=0.01, max_depth=6, score=0.687, total=   0.1s\n",
            "[CV] ccp_alpha=0.01, max_depth=6 .....................................\n"
          ],
          "name": "stdout"
        },
        {
          "output_type": "stream",
          "text": [
            "[Parallel(n_jobs=1)]: Done   2 out of   2 | elapsed:    0.2s remaining:    0.0s\n",
            "[Parallel(n_jobs=1)]: Done   3 out of   3 | elapsed:    0.3s remaining:    0.0s\n",
            "[Parallel(n_jobs=1)]: Done   4 out of   4 | elapsed:    0.4s remaining:    0.0s\n"
          ],
          "name": "stderr"
        },
        {
          "output_type": "stream",
          "text": [
            "[CV] ......... ccp_alpha=0.01, max_depth=6, score=0.676, total=   0.1s\n"
          ],
          "name": "stdout"
        },
        {
          "output_type": "stream",
          "text": [
            "[Parallel(n_jobs=1)]: Done   5 out of   5 | elapsed:    0.5s finished\n",
            "/usr/local/lib/python3.7/dist-packages/skopt/optimizer/optimizer.py:449: UserWarning: The objective has been evaluated at this point before.\n",
            "  warnings.warn(\"The objective has been evaluated \"\n"
          ],
          "name": "stderr"
        },
        {
          "output_type": "stream",
          "text": [
            "Fitting 5 folds for each of 1 candidates, totalling 5 fits\n",
            "[CV] ccp_alpha=0.01, max_depth=8 .....................................\n",
            "[CV] ......... ccp_alpha=0.01, max_depth=8, score=0.682, total=   0.1s\n",
            "[CV] ccp_alpha=0.01, max_depth=8 .....................................\n"
          ],
          "name": "stdout"
        },
        {
          "output_type": "stream",
          "text": [
            "[Parallel(n_jobs=1)]: Using backend SequentialBackend with 1 concurrent workers.\n",
            "[Parallel(n_jobs=1)]: Done   1 out of   1 | elapsed:    0.1s remaining:    0.0s\n"
          ],
          "name": "stderr"
        },
        {
          "output_type": "stream",
          "text": [
            "[CV] ......... ccp_alpha=0.01, max_depth=8, score=0.695, total=   0.1s\n",
            "[CV] ccp_alpha=0.01, max_depth=8 .....................................\n",
            "[CV] ......... ccp_alpha=0.01, max_depth=8, score=0.692, total=   0.1s\n",
            "[CV] ccp_alpha=0.01, max_depth=8 .....................................\n"
          ],
          "name": "stdout"
        },
        {
          "output_type": "stream",
          "text": [
            "[Parallel(n_jobs=1)]: Done   2 out of   2 | elapsed:    0.3s remaining:    0.0s\n",
            "[Parallel(n_jobs=1)]: Done   3 out of   3 | elapsed:    0.4s remaining:    0.0s\n"
          ],
          "name": "stderr"
        },
        {
          "output_type": "stream",
          "text": [
            "[CV] ......... ccp_alpha=0.01, max_depth=8, score=0.687, total=   0.1s\n",
            "[CV] ccp_alpha=0.01, max_depth=8 .....................................\n",
            "[CV] ......... ccp_alpha=0.01, max_depth=8, score=0.676, total=   0.1s\n"
          ],
          "name": "stdout"
        },
        {
          "output_type": "stream",
          "text": [
            "[Parallel(n_jobs=1)]: Done   4 out of   4 | elapsed:    0.5s remaining:    0.0s\n",
            "[Parallel(n_jobs=1)]: Done   5 out of   5 | elapsed:    0.6s finished\n",
            "/usr/local/lib/python3.7/dist-packages/skopt/optimizer/optimizer.py:449: UserWarning: The objective has been evaluated at this point before.\n",
            "  warnings.warn(\"The objective has been evaluated \"\n"
          ],
          "name": "stderr"
        },
        {
          "output_type": "stream",
          "text": [
            "Fitting 5 folds for each of 1 candidates, totalling 5 fits\n",
            "[CV] ccp_alpha=0.01, max_depth=5 .....................................\n",
            "[CV] ......... ccp_alpha=0.01, max_depth=5, score=0.682, total=   0.1s\n",
            "[CV] ccp_alpha=0.01, max_depth=5 .....................................\n",
            "[CV] ......... ccp_alpha=0.01, max_depth=5, score=0.695, total=   0.1s\n",
            "[CV] ccp_alpha=0.01, max_depth=5 .....................................\n"
          ],
          "name": "stdout"
        },
        {
          "output_type": "stream",
          "text": [
            "[Parallel(n_jobs=1)]: Using backend SequentialBackend with 1 concurrent workers.\n",
            "[Parallel(n_jobs=1)]: Done   1 out of   1 | elapsed:    0.1s remaining:    0.0s\n",
            "[Parallel(n_jobs=1)]: Done   2 out of   2 | elapsed:    0.2s remaining:    0.0s\n"
          ],
          "name": "stderr"
        },
        {
          "output_type": "stream",
          "text": [
            "[CV] ......... ccp_alpha=0.01, max_depth=5, score=0.692, total=   0.1s\n",
            "[CV] ccp_alpha=0.01, max_depth=5 .....................................\n",
            "[CV] ......... ccp_alpha=0.01, max_depth=5, score=0.687, total=   0.1s\n",
            "[CV] ccp_alpha=0.01, max_depth=5 .....................................\n",
            "[CV] ......... ccp_alpha=0.01, max_depth=5, score=0.676, total=   0.1s\n"
          ],
          "name": "stdout"
        },
        {
          "output_type": "stream",
          "text": [
            "[Parallel(n_jobs=1)]: Done   3 out of   3 | elapsed:    0.3s remaining:    0.0s\n",
            "[Parallel(n_jobs=1)]: Done   4 out of   4 | elapsed:    0.4s remaining:    0.0s\n",
            "[Parallel(n_jobs=1)]: Done   5 out of   5 | elapsed:    0.4s finished\n",
            "/usr/local/lib/python3.7/dist-packages/skopt/optimizer/optimizer.py:449: UserWarning: The objective has been evaluated at this point before.\n",
            "  warnings.warn(\"The objective has been evaluated \"\n"
          ],
          "name": "stderr"
        },
        {
          "output_type": "stream",
          "text": [
            "Fitting 5 folds for each of 1 candidates, totalling 5 fits\n",
            "[CV] ccp_alpha=0.01, max_depth=9 .....................................\n",
            "[CV] ......... ccp_alpha=0.01, max_depth=9, score=0.682, total=   0.2s\n",
            "[CV] ccp_alpha=0.01, max_depth=9 .....................................\n"
          ],
          "name": "stdout"
        },
        {
          "output_type": "stream",
          "text": [
            "[Parallel(n_jobs=1)]: Using backend SequentialBackend with 1 concurrent workers.\n",
            "[Parallel(n_jobs=1)]: Done   1 out of   1 | elapsed:    0.2s remaining:    0.0s\n"
          ],
          "name": "stderr"
        },
        {
          "output_type": "stream",
          "text": [
            "[CV] ......... ccp_alpha=0.01, max_depth=9, score=0.695, total=   0.1s\n",
            "[CV] ccp_alpha=0.01, max_depth=9 .....................................\n",
            "[CV] ......... ccp_alpha=0.01, max_depth=9, score=0.692, total=   0.1s\n",
            "[CV] ccp_alpha=0.01, max_depth=9 .....................................\n"
          ],
          "name": "stdout"
        },
        {
          "output_type": "stream",
          "text": [
            "[Parallel(n_jobs=1)]: Done   2 out of   2 | elapsed:    0.3s remaining:    0.0s\n",
            "[Parallel(n_jobs=1)]: Done   3 out of   3 | elapsed:    0.4s remaining:    0.0s\n"
          ],
          "name": "stderr"
        },
        {
          "output_type": "stream",
          "text": [
            "[CV] ......... ccp_alpha=0.01, max_depth=9, score=0.687, total=   0.1s\n",
            "[CV] ccp_alpha=0.01, max_depth=9 .....................................\n",
            "[CV] ......... ccp_alpha=0.01, max_depth=9, score=0.676, total=   0.1s\n"
          ],
          "name": "stdout"
        },
        {
          "output_type": "stream",
          "text": [
            "[Parallel(n_jobs=1)]: Done   4 out of   4 | elapsed:    0.6s remaining:    0.0s\n",
            "[Parallel(n_jobs=1)]: Done   5 out of   5 | elapsed:    0.7s finished\n",
            "/usr/local/lib/python3.7/dist-packages/skopt/optimizer/optimizer.py:449: UserWarning: The objective has been evaluated at this point before.\n",
            "  warnings.warn(\"The objective has been evaluated \"\n"
          ],
          "name": "stderr"
        },
        {
          "output_type": "stream",
          "text": [
            "Fitting 5 folds for each of 1 candidates, totalling 5 fits\n",
            "[CV] ccp_alpha=0.01, max_depth=7 .....................................\n",
            "[CV] ......... ccp_alpha=0.01, max_depth=7, score=0.682, total=   0.1s\n",
            "[CV] ccp_alpha=0.01, max_depth=7 .....................................\n"
          ],
          "name": "stdout"
        },
        {
          "output_type": "stream",
          "text": [
            "[Parallel(n_jobs=1)]: Using backend SequentialBackend with 1 concurrent workers.\n",
            "[Parallel(n_jobs=1)]: Done   1 out of   1 | elapsed:    0.1s remaining:    0.0s\n"
          ],
          "name": "stderr"
        },
        {
          "output_type": "stream",
          "text": [
            "[CV] ......... ccp_alpha=0.01, max_depth=7, score=0.695, total=   0.1s\n",
            "[CV] ccp_alpha=0.01, max_depth=7 .....................................\n",
            "[CV] ......... ccp_alpha=0.01, max_depth=7, score=0.692, total=   0.1s\n",
            "[CV] ccp_alpha=0.01, max_depth=7 .....................................\n"
          ],
          "name": "stdout"
        },
        {
          "output_type": "stream",
          "text": [
            "[Parallel(n_jobs=1)]: Done   2 out of   2 | elapsed:    0.2s remaining:    0.0s\n",
            "[Parallel(n_jobs=1)]: Done   3 out of   3 | elapsed:    0.3s remaining:    0.0s\n"
          ],
          "name": "stderr"
        },
        {
          "output_type": "stream",
          "text": [
            "[CV] ......... ccp_alpha=0.01, max_depth=7, score=0.687, total=   0.1s\n",
            "[CV] ccp_alpha=0.01, max_depth=7 .....................................\n",
            "[CV] ......... ccp_alpha=0.01, max_depth=7, score=0.676, total=   0.1s\n"
          ],
          "name": "stdout"
        },
        {
          "output_type": "stream",
          "text": [
            "[Parallel(n_jobs=1)]: Done   4 out of   4 | elapsed:    0.5s remaining:    0.0s\n",
            "[Parallel(n_jobs=1)]: Done   5 out of   5 | elapsed:    0.6s finished\n"
          ],
          "name": "stderr"
        },
        {
          "output_type": "stream",
          "text": [
            "Fitting 5 folds for each of 1 candidates, totalling 5 fits\n",
            "[CV] ccp_alpha=0.6100000000000001, max_depth=8 .......................\n",
            "[CV]  ccp_alpha=0.6100000000000001, max_depth=8, score=0.667, total=   0.1s\n",
            "[CV] ccp_alpha=0.6100000000000001, max_depth=8 .......................\n"
          ],
          "name": "stdout"
        },
        {
          "output_type": "stream",
          "text": [
            "[Parallel(n_jobs=1)]: Using backend SequentialBackend with 1 concurrent workers.\n",
            "[Parallel(n_jobs=1)]: Done   1 out of   1 | elapsed:    0.1s remaining:    0.0s\n"
          ],
          "name": "stderr"
        },
        {
          "output_type": "stream",
          "text": [
            "[CV]  ccp_alpha=0.6100000000000001, max_depth=8, score=0.667, total=   0.1s\n",
            "[CV] ccp_alpha=0.6100000000000001, max_depth=8 .......................\n",
            "[CV]  ccp_alpha=0.6100000000000001, max_depth=8, score=0.667, total=   0.1s\n",
            "[CV] ccp_alpha=0.6100000000000001, max_depth=8 .......................\n"
          ],
          "name": "stdout"
        },
        {
          "output_type": "stream",
          "text": [
            "[Parallel(n_jobs=1)]: Done   2 out of   2 | elapsed:    0.3s remaining:    0.0s\n",
            "[Parallel(n_jobs=1)]: Done   3 out of   3 | elapsed:    0.4s remaining:    0.0s\n"
          ],
          "name": "stderr"
        },
        {
          "output_type": "stream",
          "text": [
            "[CV]  ccp_alpha=0.6100000000000001, max_depth=8, score=0.667, total=   0.1s\n",
            "[CV] ccp_alpha=0.6100000000000001, max_depth=8 .......................\n",
            "[CV]  ccp_alpha=0.6100000000000001, max_depth=8, score=0.667, total=   0.1s\n"
          ],
          "name": "stdout"
        },
        {
          "output_type": "stream",
          "text": [
            "[Parallel(n_jobs=1)]: Done   4 out of   4 | elapsed:    0.5s remaining:    0.0s\n",
            "[Parallel(n_jobs=1)]: Done   5 out of   5 | elapsed:    0.6s finished\n"
          ],
          "name": "stderr"
        },
        {
          "output_type": "stream",
          "text": [
            "Fitting 5 folds for each of 1 candidates, totalling 5 fits\n",
            "[CV] ccp_alpha=0.41000000000000003, max_depth=4 ......................\n",
            "[CV]  ccp_alpha=0.41000000000000003, max_depth=4, score=0.667, total=   0.1s\n",
            "[CV] ccp_alpha=0.41000000000000003, max_depth=4 ......................\n",
            "[CV]  ccp_alpha=0.41000000000000003, max_depth=4, score=0.667, total=   0.1s\n",
            "[CV] ccp_alpha=0.41000000000000003, max_depth=4 ......................\n"
          ],
          "name": "stdout"
        },
        {
          "output_type": "stream",
          "text": [
            "[Parallel(n_jobs=1)]: Using backend SequentialBackend with 1 concurrent workers.\n",
            "[Parallel(n_jobs=1)]: Done   1 out of   1 | elapsed:    0.1s remaining:    0.0s\n",
            "[Parallel(n_jobs=1)]: Done   2 out of   2 | elapsed:    0.2s remaining:    0.0s\n"
          ],
          "name": "stderr"
        },
        {
          "output_type": "stream",
          "text": [
            "[CV]  ccp_alpha=0.41000000000000003, max_depth=4, score=0.667, total=   0.1s\n",
            "[CV] ccp_alpha=0.41000000000000003, max_depth=4 ......................\n",
            "[CV]  ccp_alpha=0.41000000000000003, max_depth=4, score=0.667, total=   0.1s\n",
            "[CV] ccp_alpha=0.41000000000000003, max_depth=4 ......................\n",
            "[CV]  ccp_alpha=0.41000000000000003, max_depth=4, score=0.667, total=   0.1s\n"
          ],
          "name": "stdout"
        },
        {
          "output_type": "stream",
          "text": [
            "[Parallel(n_jobs=1)]: Done   3 out of   3 | elapsed:    0.2s remaining:    0.0s\n",
            "[Parallel(n_jobs=1)]: Done   4 out of   4 | elapsed:    0.3s remaining:    0.0s\n",
            "[Parallel(n_jobs=1)]: Done   5 out of   5 | elapsed:    0.4s finished\n",
            "/usr/local/lib/python3.7/dist-packages/skopt/optimizer/optimizer.py:449: UserWarning: The objective has been evaluated at this point before.\n",
            "  warnings.warn(\"The objective has been evaluated \"\n"
          ],
          "name": "stderr"
        },
        {
          "output_type": "stream",
          "text": [
            "Fitting 5 folds for each of 1 candidates, totalling 5 fits\n",
            "[CV] ccp_alpha=0.01, max_depth=1 .....................................\n",
            "[CV] ......... ccp_alpha=0.01, max_depth=1, score=0.682, total=   0.0s\n",
            "[CV] ccp_alpha=0.01, max_depth=1 .....................................\n",
            "[CV] ......... ccp_alpha=0.01, max_depth=1, score=0.695, total=   0.0s\n",
            "[CV] ccp_alpha=0.01, max_depth=1 .....................................\n",
            "[CV] ......... ccp_alpha=0.01, max_depth=1, score=0.692, total=   0.0s\n",
            "[CV] ccp_alpha=0.01, max_depth=1 .....................................\n",
            "[CV] ......... ccp_alpha=0.01, max_depth=1, score=0.687, total=   0.0s\n",
            "[CV] ccp_alpha=0.01, max_depth=1 .....................................\n",
            "[CV] ......... ccp_alpha=0.01, max_depth=1, score=0.676, total=   0.0s\n"
          ],
          "name": "stdout"
        },
        {
          "output_type": "stream",
          "text": [
            "[Parallel(n_jobs=1)]: Using backend SequentialBackend with 1 concurrent workers.\n",
            "[Parallel(n_jobs=1)]: Done   1 out of   1 | elapsed:    0.0s remaining:    0.0s\n",
            "[Parallel(n_jobs=1)]: Done   2 out of   2 | elapsed:    0.1s remaining:    0.0s\n",
            "[Parallel(n_jobs=1)]: Done   3 out of   3 | elapsed:    0.1s remaining:    0.0s\n",
            "[Parallel(n_jobs=1)]: Done   4 out of   4 | elapsed:    0.1s remaining:    0.0s\n",
            "[Parallel(n_jobs=1)]: Done   5 out of   5 | elapsed:    0.2s finished\n"
          ],
          "name": "stderr"
        },
        {
          "output_type": "stream",
          "text": [
            "Fitting 5 folds for each of 1 candidates, totalling 5 fits\n",
            "[CV] ccp_alpha=0.81, max_depth=5 .....................................\n",
            "[CV] ......... ccp_alpha=0.81, max_depth=5, score=0.667, total=   0.1s\n",
            "[CV] ccp_alpha=0.81, max_depth=5 .....................................\n",
            "[CV] ......... ccp_alpha=0.81, max_depth=5, score=0.667, total=   0.1s\n",
            "[CV] ccp_alpha=0.81, max_depth=5 .....................................\n"
          ],
          "name": "stdout"
        },
        {
          "output_type": "stream",
          "text": [
            "[Parallel(n_jobs=1)]: Using backend SequentialBackend with 1 concurrent workers.\n",
            "[Parallel(n_jobs=1)]: Done   1 out of   1 | elapsed:    0.1s remaining:    0.0s\n",
            "[Parallel(n_jobs=1)]: Done   2 out of   2 | elapsed:    0.2s remaining:    0.0s\n"
          ],
          "name": "stderr"
        },
        {
          "output_type": "stream",
          "text": [
            "[CV] ......... ccp_alpha=0.81, max_depth=5, score=0.667, total=   0.1s\n",
            "[CV] ccp_alpha=0.81, max_depth=5 .....................................\n",
            "[CV] ......... ccp_alpha=0.81, max_depth=5, score=0.667, total=   0.1s\n",
            "[CV] ccp_alpha=0.81, max_depth=5 .....................................\n",
            "[CV] ......... ccp_alpha=0.81, max_depth=5, score=0.667, total=   0.1s\n"
          ],
          "name": "stdout"
        },
        {
          "output_type": "stream",
          "text": [
            "[Parallel(n_jobs=1)]: Done   3 out of   3 | elapsed:    0.3s remaining:    0.0s\n",
            "[Parallel(n_jobs=1)]: Done   4 out of   4 | elapsed:    0.4s remaining:    0.0s\n",
            "[Parallel(n_jobs=1)]: Done   5 out of   5 | elapsed:    0.4s finished\n"
          ],
          "name": "stderr"
        },
        {
          "output_type": "stream",
          "text": [
            "Fitting 5 folds for each of 1 candidates, totalling 5 fits\n",
            "[CV] ccp_alpha=0.11, max_depth=3 .....................................\n",
            "[CV] ......... ccp_alpha=0.11, max_depth=3, score=0.667, total=   0.1s\n",
            "[CV] ccp_alpha=0.11, max_depth=3 .....................................\n",
            "[CV] ......... ccp_alpha=0.11, max_depth=3, score=0.667, total=   0.1s\n",
            "[CV] ccp_alpha=0.11, max_depth=3 .....................................\n",
            "[CV] ......... ccp_alpha=0.11, max_depth=3, score=0.667, total=   0.1s\n",
            "[CV] ccp_alpha=0.11, max_depth=3 .....................................\n"
          ],
          "name": "stdout"
        },
        {
          "output_type": "stream",
          "text": [
            "[Parallel(n_jobs=1)]: Using backend SequentialBackend with 1 concurrent workers.\n",
            "[Parallel(n_jobs=1)]: Done   1 out of   1 | elapsed:    0.1s remaining:    0.0s\n",
            "[Parallel(n_jobs=1)]: Done   2 out of   2 | elapsed:    0.1s remaining:    0.0s\n",
            "[Parallel(n_jobs=1)]: Done   3 out of   3 | elapsed:    0.2s remaining:    0.0s\n"
          ],
          "name": "stderr"
        },
        {
          "output_type": "stream",
          "text": [
            "[CV] ......... ccp_alpha=0.11, max_depth=3, score=0.667, total=   0.1s\n",
            "[CV] ccp_alpha=0.11, max_depth=3 .....................................\n",
            "[CV] ......... ccp_alpha=0.11, max_depth=3, score=0.667, total=   0.1s\n"
          ],
          "name": "stdout"
        },
        {
          "output_type": "stream",
          "text": [
            "[Parallel(n_jobs=1)]: Done   4 out of   4 | elapsed:    0.2s remaining:    0.0s\n",
            "[Parallel(n_jobs=1)]: Done   5 out of   5 | elapsed:    0.3s finished\n",
            "/usr/local/lib/python3.7/dist-packages/skopt/optimizer/optimizer.py:449: UserWarning: The objective has been evaluated at this point before.\n",
            "  warnings.warn(\"The objective has been evaluated \"\n"
          ],
          "name": "stderr"
        },
        {
          "output_type": "stream",
          "text": [
            "Fitting 5 folds for each of 1 candidates, totalling 5 fits\n",
            "[CV] ccp_alpha=0.01, max_depth=2 .....................................\n",
            "[CV] ......... ccp_alpha=0.01, max_depth=2, score=0.682, total=   0.1s\n",
            "[CV] ccp_alpha=0.01, max_depth=2 .....................................\n",
            "[CV] ......... ccp_alpha=0.01, max_depth=2, score=0.695, total=   0.0s\n",
            "[CV] ccp_alpha=0.01, max_depth=2 .....................................\n",
            "[CV] ......... ccp_alpha=0.01, max_depth=2, score=0.692, total=   0.0s\n",
            "[CV] ccp_alpha=0.01, max_depth=2 .....................................\n"
          ],
          "name": "stdout"
        },
        {
          "output_type": "stream",
          "text": [
            "[Parallel(n_jobs=1)]: Using backend SequentialBackend with 1 concurrent workers.\n",
            "[Parallel(n_jobs=1)]: Done   1 out of   1 | elapsed:    0.1s remaining:    0.0s\n",
            "[Parallel(n_jobs=1)]: Done   2 out of   2 | elapsed:    0.1s remaining:    0.0s\n",
            "[Parallel(n_jobs=1)]: Done   3 out of   3 | elapsed:    0.1s remaining:    0.0s\n",
            "[Parallel(n_jobs=1)]: Done   4 out of   4 | elapsed:    0.2s remaining:    0.0s\n"
          ],
          "name": "stderr"
        },
        {
          "output_type": "stream",
          "text": [
            "[CV] ......... ccp_alpha=0.01, max_depth=2, score=0.687, total=   0.0s\n",
            "[CV] ccp_alpha=0.01, max_depth=2 .....................................\n",
            "[CV] ......... ccp_alpha=0.01, max_depth=2, score=0.676, total=   0.0s\n"
          ],
          "name": "stdout"
        },
        {
          "output_type": "stream",
          "text": [
            "[Parallel(n_jobs=1)]: Done   5 out of   5 | elapsed:    0.2s finished\n",
            "/usr/local/lib/python3.7/dist-packages/skopt/optimizer/optimizer.py:449: UserWarning: The objective has been evaluated at this point before.\n",
            "  warnings.warn(\"The objective has been evaluated \"\n"
          ],
          "name": "stderr"
        },
        {
          "output_type": "stream",
          "text": [
            "Fitting 5 folds for each of 1 candidates, totalling 5 fits\n",
            "[CV] ccp_alpha=0.01, max_depth=6 .....................................\n",
            "[CV] ......... ccp_alpha=0.01, max_depth=6, score=0.682, total=   0.1s\n",
            "[CV] ccp_alpha=0.01, max_depth=6 .....................................\n"
          ],
          "name": "stdout"
        },
        {
          "output_type": "stream",
          "text": [
            "[Parallel(n_jobs=1)]: Using backend SequentialBackend with 1 concurrent workers.\n",
            "[Parallel(n_jobs=1)]: Done   1 out of   1 | elapsed:    0.1s remaining:    0.0s\n"
          ],
          "name": "stderr"
        },
        {
          "output_type": "stream",
          "text": [
            "[CV] ......... ccp_alpha=0.01, max_depth=6, score=0.695, total=   0.1s\n",
            "[CV] ccp_alpha=0.01, max_depth=6 .....................................\n",
            "[CV] ......... ccp_alpha=0.01, max_depth=6, score=0.692, total=   0.1s\n",
            "[CV] ccp_alpha=0.01, max_depth=6 .....................................\n",
            "[CV] ......... ccp_alpha=0.01, max_depth=6, score=0.687, total=   0.1s\n",
            "[CV] ccp_alpha=0.01, max_depth=6 .....................................\n"
          ],
          "name": "stdout"
        },
        {
          "output_type": "stream",
          "text": [
            "[Parallel(n_jobs=1)]: Done   2 out of   2 | elapsed:    0.2s remaining:    0.0s\n",
            "[Parallel(n_jobs=1)]: Done   3 out of   3 | elapsed:    0.3s remaining:    0.0s\n",
            "[Parallel(n_jobs=1)]: Done   4 out of   4 | elapsed:    0.4s remaining:    0.0s\n"
          ],
          "name": "stderr"
        },
        {
          "output_type": "stream",
          "text": [
            "[CV] ......... ccp_alpha=0.01, max_depth=6, score=0.676, total=   0.1s\n"
          ],
          "name": "stdout"
        },
        {
          "output_type": "stream",
          "text": [
            "[Parallel(n_jobs=1)]: Done   5 out of   5 | elapsed:    0.5s finished\n",
            "/usr/local/lib/python3.7/dist-packages/skopt/optimizer/optimizer.py:449: UserWarning: The objective has been evaluated at this point before.\n",
            "  warnings.warn(\"The objective has been evaluated \"\n"
          ],
          "name": "stderr"
        },
        {
          "output_type": "stream",
          "text": [
            "Fitting 5 folds for each of 1 candidates, totalling 5 fits\n",
            "[CV] ccp_alpha=0.01, max_depth=4 .....................................\n",
            "[CV] ......... ccp_alpha=0.01, max_depth=4, score=0.682, total=   0.1s\n",
            "[CV] ccp_alpha=0.01, max_depth=4 .....................................\n",
            "[CV] ......... ccp_alpha=0.01, max_depth=4, score=0.695, total=   0.1s\n",
            "[CV] ccp_alpha=0.01, max_depth=4 .....................................\n"
          ],
          "name": "stdout"
        },
        {
          "output_type": "stream",
          "text": [
            "[Parallel(n_jobs=1)]: Using backend SequentialBackend with 1 concurrent workers.\n",
            "[Parallel(n_jobs=1)]: Done   1 out of   1 | elapsed:    0.1s remaining:    0.0s\n",
            "[Parallel(n_jobs=1)]: Done   2 out of   2 | elapsed:    0.1s remaining:    0.0s\n"
          ],
          "name": "stderr"
        },
        {
          "output_type": "stream",
          "text": [
            "[CV] ......... ccp_alpha=0.01, max_depth=4, score=0.692, total=   0.1s\n",
            "[CV] ccp_alpha=0.01, max_depth=4 .....................................\n",
            "[CV] ......... ccp_alpha=0.01, max_depth=4, score=0.687, total=   0.1s\n",
            "[CV] ccp_alpha=0.01, max_depth=4 .....................................\n",
            "[CV] ......... ccp_alpha=0.01, max_depth=4, score=0.676, total=   0.1s\n"
          ],
          "name": "stdout"
        },
        {
          "output_type": "stream",
          "text": [
            "[Parallel(n_jobs=1)]: Done   3 out of   3 | elapsed:    0.2s remaining:    0.0s\n",
            "[Parallel(n_jobs=1)]: Done   4 out of   4 | elapsed:    0.3s remaining:    0.0s\n",
            "[Parallel(n_jobs=1)]: Done   5 out of   5 | elapsed:    0.4s finished\n"
          ],
          "name": "stderr"
        },
        {
          "output_type": "stream",
          "text": [
            "Fitting 5 folds for each of 1 candidates, totalling 5 fits\n",
            "[CV] ccp_alpha=0.91, max_depth=8 .....................................\n",
            "[CV] ......... ccp_alpha=0.91, max_depth=8, score=0.667, total=   0.1s\n",
            "[CV] ccp_alpha=0.91, max_depth=8 .....................................\n"
          ],
          "name": "stdout"
        },
        {
          "output_type": "stream",
          "text": [
            "[Parallel(n_jobs=1)]: Using backend SequentialBackend with 1 concurrent workers.\n",
            "[Parallel(n_jobs=1)]: Done   1 out of   1 | elapsed:    0.1s remaining:    0.0s\n"
          ],
          "name": "stderr"
        },
        {
          "output_type": "stream",
          "text": [
            "[CV] ......... ccp_alpha=0.91, max_depth=8, score=0.667, total=   0.1s\n",
            "[CV] ccp_alpha=0.91, max_depth=8 .....................................\n",
            "[CV] ......... ccp_alpha=0.91, max_depth=8, score=0.667, total=   0.1s\n",
            "[CV] ccp_alpha=0.91, max_depth=8 .....................................\n"
          ],
          "name": "stdout"
        },
        {
          "output_type": "stream",
          "text": [
            "[Parallel(n_jobs=1)]: Done   2 out of   2 | elapsed:    0.3s remaining:    0.0s\n",
            "[Parallel(n_jobs=1)]: Done   3 out of   3 | elapsed:    0.4s remaining:    0.0s\n"
          ],
          "name": "stderr"
        },
        {
          "output_type": "stream",
          "text": [
            "[CV] ......... ccp_alpha=0.91, max_depth=8, score=0.667, total=   0.1s\n",
            "[CV] ccp_alpha=0.91, max_depth=8 .....................................\n",
            "[CV] ......... ccp_alpha=0.91, max_depth=8, score=0.667, total=   0.1s\n"
          ],
          "name": "stdout"
        },
        {
          "output_type": "stream",
          "text": [
            "[Parallel(n_jobs=1)]: Done   4 out of   4 | elapsed:    0.5s remaining:    0.0s\n",
            "[Parallel(n_jobs=1)]: Done   5 out of   5 | elapsed:    0.6s finished\n",
            "/usr/local/lib/python3.7/dist-packages/skopt/optimizer/optimizer.py:449: UserWarning: The objective has been evaluated at this point before.\n",
            "  warnings.warn(\"The objective has been evaluated \"\n"
          ],
          "name": "stderr"
        },
        {
          "output_type": "stream",
          "text": [
            "Fitting 5 folds for each of 1 candidates, totalling 5 fits\n",
            "[CV] ccp_alpha=0.01, max_depth=3 .....................................\n",
            "[CV] ......... ccp_alpha=0.01, max_depth=3, score=0.682, total=   0.1s\n",
            "[CV] ccp_alpha=0.01, max_depth=3 .....................................\n",
            "[CV] ......... ccp_alpha=0.01, max_depth=3, score=0.695, total=   0.1s\n",
            "[CV] ccp_alpha=0.01, max_depth=3 .....................................\n",
            "[CV] ......... ccp_alpha=0.01, max_depth=3, score=0.692, total=   0.1s\n",
            "[CV] ccp_alpha=0.01, max_depth=3 .....................................\n"
          ],
          "name": "stdout"
        },
        {
          "output_type": "stream",
          "text": [
            "[Parallel(n_jobs=1)]: Using backend SequentialBackend with 1 concurrent workers.\n",
            "[Parallel(n_jobs=1)]: Done   1 out of   1 | elapsed:    0.1s remaining:    0.0s\n",
            "[Parallel(n_jobs=1)]: Done   2 out of   2 | elapsed:    0.1s remaining:    0.0s\n",
            "[Parallel(n_jobs=1)]: Done   3 out of   3 | elapsed:    0.2s remaining:    0.0s\n"
          ],
          "name": "stderr"
        },
        {
          "output_type": "stream",
          "text": [
            "[CV] ......... ccp_alpha=0.01, max_depth=3, score=0.687, total=   0.1s\n",
            "[CV] ccp_alpha=0.01, max_depth=3 .....................................\n",
            "[CV] ......... ccp_alpha=0.01, max_depth=3, score=0.676, total=   0.1s\n"
          ],
          "name": "stdout"
        },
        {
          "output_type": "stream",
          "text": [
            "[Parallel(n_jobs=1)]: Done   4 out of   4 | elapsed:    0.2s remaining:    0.0s\n",
            "[Parallel(n_jobs=1)]: Done   5 out of   5 | elapsed:    0.3s finished\n"
          ],
          "name": "stderr"
        },
        {
          "output_type": "execute_result",
          "data": {
            "text/plain": [
              "BayesSearchCV(cv=5, error_score='raise',\n",
              "              estimator=DecisionTreeClassifier(ccp_alpha=0.01,\n",
              "                                               class_weight=None,\n",
              "                                               criterion='gini', max_depth=8,\n",
              "                                               max_features=None,\n",
              "                                               max_leaf_nodes=None,\n",
              "                                               min_impurity_decrease=0.0,\n",
              "                                               min_impurity_split=None,\n",
              "                                               min_samples_leaf=1,\n",
              "                                               min_samples_split=2,\n",
              "                                               min_weight_fraction_leaf=0.0,\n",
              "                                               presort='deprecated',\n",
              "                                               random_state=None,\n",
              "                                               splitter='best'),\n",
              "              fit_params=None, iid=True, n_iter=50, n_jobs=1, n_points=1,\n",
              "              optimizer_kwargs=None, pre_dispatch='2*n_jobs', random_state=None,\n",
              "              refit=True, return_train_score=False, scoring='f1',\n",
              "              search_spaces={'ccp_alpha': array([0.01, 0.11, 0.21, 0.31, 0.41, 0.51, 0.61, 0.71, 0.81, 0.91]),\n",
              "                             'max_depth': array([1, 2, 3, 4, 5, 6, 7, 8, 9])},\n",
              "              verbose=5)"
            ]
          },
          "metadata": {
            "tags": []
          },
          "execution_count": 215
        }
      ]
    },
    {
      "cell_type": "code",
      "metadata": {
        "colab": {
          "base_uri": "https://localhost:8080/"
        },
        "id": "BiJ21oBDOCx8",
        "outputId": "f0742d63-8f53-4f8b-ac20-10b61496a7bd"
      },
      "source": [
        "clf_decision_grid.best_params_"
      ],
      "execution_count": 216,
      "outputs": [
        {
          "output_type": "execute_result",
          "data": {
            "text/plain": [
              "OrderedDict([('ccp_alpha', 0.01), ('max_depth', 9)])"
            ]
          },
          "metadata": {
            "tags": []
          },
          "execution_count": 216
        }
      ]
    },
    {
      "cell_type": "code",
      "metadata": {
        "colab": {
          "base_uri": "https://localhost:8080/"
        },
        "id": "53y9XSyMRqgs",
        "outputId": "04e91f8b-9d7c-4bd2-a106-3565d3f1f7f9"
      },
      "source": [
        "print(\"train score : %s\" % clf_decision_grid.best_score_)\n",
        "print(\"test score: %s\" % clf_decision_grid.score(X_test, y_test))"
      ],
      "execution_count": 220,
      "outputs": [
        {
          "output_type": "stream",
          "text": [
            "train score : 0.6864713672373828\n",
            "test score: 0.6820311510700267\n"
          ],
          "name": "stdout"
        }
      ]
    }
  ]
}