{
 "cells": [
  {
   "cell_type": "code",
   "execution_count": 319,
   "metadata": {
    "executionInfo": {
     "elapsed": 3808,
     "status": "ok",
     "timestamp": 1619894449786,
     "user": {
      "displayName": "Asif Tandel",
      "photoUrl": "https://lh3.googleusercontent.com/a-/AOh14GjtiZIVj12JyghednmlZINu3BYT52rx0U7dTlruAA=s64",
      "userId": "03386071215589122522"
     },
     "user_tz": -330
    },
    "id": "OBYV-SUP0mu3"
   },
   "outputs": [],
   "source": [
    "# Importing the Necessary Libraries\n",
    "import numpy as np\n",
    "import pandas as pd\n",
    "import matplotlib.pyplot as plt\n",
    "import seaborn as sns\n",
    "from sklearn.preprocessing import LabelEncoder\n",
    "from sklearn.model_selection import train_test_split,GridSearchCV\n",
    "from sklearn.linear_model import LogisticRegression\n",
    "from sklearn.tree import DecisionTreeClassifier\n",
    "from sklearn.ensemble import RandomForestClassifier,GradientBoostingClassifier,ExtraTreesClassifier,AdaBoostClassifier\n",
    "from sklearn.neighbors import KNeighborsClassifier\n",
    "from hyperopt import hp,fmin,tpe,STATUS_OK,Trials\n",
    "from tpot import TPOTClassifier\n",
    "from sklearn import metrics\n",
    "import pickle\n",
    "import joblib"
   ]
  },
  {
   "cell_type": "code",
   "execution_count": 320,
   "metadata": {},
   "outputs": [],
   "source": [
    "#Applying load_data function and checking first five rows of the data\n",
    "df=pd.read_csv('loan.csv',low_memory=False)"
   ]
  },
  {
   "cell_type": "code",
   "execution_count": 321,
   "metadata": {
    "executionInfo": {
     "elapsed": 6014,
     "status": "ok",
     "timestamp": 1619894452113,
     "user": {
      "displayName": "Asif Tandel",
      "photoUrl": "https://lh3.googleusercontent.com/a-/AOh14GjtiZIVj12JyghednmlZINu3BYT52rx0U7dTlruAA=s64",
      "userId": "03386071215589122522"
     },
     "user_tz": -330
    },
    "id": "1-XOOBje33uW"
   },
   "outputs": [
    {
     "name": "stdout",
     "output_type": "stream",
     "text": [
      "<class 'pandas.core.frame.DataFrame'>\n",
      "RangeIndex: 39717 entries, 0 to 39716\n",
      "Columns: 111 entries, id to total_il_high_credit_limit\n",
      "dtypes: float64(74), int64(13), object(24)\n",
      "memory usage: 33.6+ MB\n"
     ]
    }
   ],
   "source": [
    "# Checking the information of the dataset\n",
    "df.info()"
   ]
  },
  {
   "cell_type": "code",
   "execution_count": 322,
   "metadata": {},
   "outputs": [
    {
     "data": {
      "text/plain": [
       "(39717, 111)"
      ]
     },
     "execution_count": 322,
     "metadata": {},
     "output_type": "execute_result"
    }
   ],
   "source": [
    "#Checking the shape of the dataset\n",
    "df.shape"
   ]
  },
  {
   "cell_type": "code",
   "execution_count": 323,
   "metadata": {},
   "outputs": [],
   "source": [
    "#Making a copy of the original dataframe\n",
    "df1=df.copy()"
   ]
  },
  {
   "cell_type": "code",
   "execution_count": 324,
   "metadata": {
    "executionInfo": {
     "elapsed": 5958,
     "status": "ok",
     "timestamp": 1619894452122,
     "user": {
      "displayName": "Asif Tandel",
      "photoUrl": "https://lh3.googleusercontent.com/a-/AOh14GjtiZIVj12JyghednmlZINu3BYT52rx0U7dTlruAA=s64",
      "userId": "03386071215589122522"
     },
     "user_tz": -330
    },
    "id": "3zE5PaiS-JXl"
   },
   "outputs": [],
   "source": [
    "#In this approach we are dropping the missing values \n",
    "df1.dropna(axis=1,how='any',inplace=True)"
   ]
  },
  {
   "cell_type": "code",
   "execution_count": 325,
   "metadata": {
    "colab": {
     "base_uri": "https://localhost:8080/",
     "height": 34
    },
    "executionInfo": {
     "elapsed": 5942,
     "status": "ok",
     "timestamp": 1619894452124,
     "user": {
      "displayName": "Asif Tandel",
      "photoUrl": "https://lh3.googleusercontent.com/a-/AOh14GjtiZIVj12JyghednmlZINu3BYT52rx0U7dTlruAA=s64",
      "userId": "03386071215589122522"
     },
     "user_tz": -330
    },
    "id": "7zoDPtef-tjf",
    "outputId": "2b270ad1-858d-4328-e186-ceadf6dc4d0e"
   },
   "outputs": [
    {
     "data": {
      "text/plain": [
       "array([dtype('int64'), dtype('float64'), dtype('O')], dtype=object)"
      ]
     },
     "execution_count": 325,
     "metadata": {},
     "output_type": "execute_result"
    }
   ],
   "source": [
    "#Checking the unique dtypes of the dataset\n",
    "pd.unique(df1.dtypes)"
   ]
  },
  {
   "cell_type": "code",
   "execution_count": 326,
   "metadata": {
    "executionInfo": {
     "elapsed": 5909,
     "status": "ok",
     "timestamp": 1619894452125,
     "user": {
      "displayName": "Asif Tandel",
      "photoUrl": "https://lh3.googleusercontent.com/a-/AOh14GjtiZIVj12JyghednmlZINu3BYT52rx0U7dTlruAA=s64",
      "userId": "03386071215589122522"
     },
     "user_tz": -330
    },
    "id": "YlBIvopL-Vn8"
   },
   "outputs": [],
   "source": [
    "#Seperating the Numerical dtypes and categorical so as to analysis them properly because there\n",
    "# a lot of features so to make our life easier\n",
    "df_numeric=df1.select_dtypes(include=['int64','float64'])"
   ]
  },
  {
   "cell_type": "code",
   "execution_count": 327,
   "metadata": {
    "colab": {
     "base_uri": "https://localhost:8080/",
     "height": 439
    },
    "executionInfo": {
     "elapsed": 5878,
     "status": "ok",
     "timestamp": 1619894452127,
     "user": {
      "displayName": "Asif Tandel",
      "photoUrl": "https://lh3.googleusercontent.com/a-/AOh14GjtiZIVj12JyghednmlZINu3BYT52rx0U7dTlruAA=s64",
      "userId": "03386071215589122522"
     },
     "user_tz": -330
    },
    "id": "oiTeVlb5_dZ-",
    "outputId": "8e439121-ed88-426c-ff67-3bdc410a3990"
   },
   "outputs": [
    {
     "data": {
      "text/html": [
       "<div>\n",
       "<style scoped>\n",
       "    .dataframe tbody tr th:only-of-type {\n",
       "        vertical-align: middle;\n",
       "    }\n",
       "\n",
       "    .dataframe tbody tr th {\n",
       "        vertical-align: top;\n",
       "    }\n",
       "\n",
       "    .dataframe thead th {\n",
       "        text-align: right;\n",
       "    }\n",
       "</style>\n",
       "<table border=\"1\" class=\"dataframe\">\n",
       "  <thead>\n",
       "    <tr style=\"text-align: right;\">\n",
       "      <th></th>\n",
       "      <th>id</th>\n",
       "      <th>member_id</th>\n",
       "      <th>loan_amnt</th>\n",
       "      <th>funded_amnt</th>\n",
       "      <th>funded_amnt_inv</th>\n",
       "      <th>installment</th>\n",
       "      <th>annual_inc</th>\n",
       "      <th>dti</th>\n",
       "      <th>delinq_2yrs</th>\n",
       "      <th>inq_last_6mths</th>\n",
       "      <th>...</th>\n",
       "      <th>total_pymnt_inv</th>\n",
       "      <th>total_rec_prncp</th>\n",
       "      <th>total_rec_int</th>\n",
       "      <th>total_rec_late_fee</th>\n",
       "      <th>recoveries</th>\n",
       "      <th>collection_recovery_fee</th>\n",
       "      <th>last_pymnt_amnt</th>\n",
       "      <th>policy_code</th>\n",
       "      <th>acc_now_delinq</th>\n",
       "      <th>delinq_amnt</th>\n",
       "    </tr>\n",
       "  </thead>\n",
       "  <tbody>\n",
       "    <tr>\n",
       "      <th>0</th>\n",
       "      <td>1077501</td>\n",
       "      <td>1296599</td>\n",
       "      <td>5000</td>\n",
       "      <td>5000</td>\n",
       "      <td>4975.0</td>\n",
       "      <td>162.87</td>\n",
       "      <td>24000.0</td>\n",
       "      <td>27.65</td>\n",
       "      <td>0</td>\n",
       "      <td>1</td>\n",
       "      <td>...</td>\n",
       "      <td>5833.84</td>\n",
       "      <td>5000.00</td>\n",
       "      <td>863.16</td>\n",
       "      <td>0.00</td>\n",
       "      <td>0.00</td>\n",
       "      <td>0.00</td>\n",
       "      <td>171.62</td>\n",
       "      <td>1</td>\n",
       "      <td>0</td>\n",
       "      <td>0</td>\n",
       "    </tr>\n",
       "    <tr>\n",
       "      <th>1</th>\n",
       "      <td>1077430</td>\n",
       "      <td>1314167</td>\n",
       "      <td>2500</td>\n",
       "      <td>2500</td>\n",
       "      <td>2500.0</td>\n",
       "      <td>59.83</td>\n",
       "      <td>30000.0</td>\n",
       "      <td>1.00</td>\n",
       "      <td>0</td>\n",
       "      <td>5</td>\n",
       "      <td>...</td>\n",
       "      <td>1008.71</td>\n",
       "      <td>456.46</td>\n",
       "      <td>435.17</td>\n",
       "      <td>0.00</td>\n",
       "      <td>117.08</td>\n",
       "      <td>1.11</td>\n",
       "      <td>119.66</td>\n",
       "      <td>1</td>\n",
       "      <td>0</td>\n",
       "      <td>0</td>\n",
       "    </tr>\n",
       "    <tr>\n",
       "      <th>2</th>\n",
       "      <td>1077175</td>\n",
       "      <td>1313524</td>\n",
       "      <td>2400</td>\n",
       "      <td>2400</td>\n",
       "      <td>2400.0</td>\n",
       "      <td>84.33</td>\n",
       "      <td>12252.0</td>\n",
       "      <td>8.72</td>\n",
       "      <td>0</td>\n",
       "      <td>2</td>\n",
       "      <td>...</td>\n",
       "      <td>3005.67</td>\n",
       "      <td>2400.00</td>\n",
       "      <td>605.67</td>\n",
       "      <td>0.00</td>\n",
       "      <td>0.00</td>\n",
       "      <td>0.00</td>\n",
       "      <td>649.91</td>\n",
       "      <td>1</td>\n",
       "      <td>0</td>\n",
       "      <td>0</td>\n",
       "    </tr>\n",
       "    <tr>\n",
       "      <th>3</th>\n",
       "      <td>1076863</td>\n",
       "      <td>1277178</td>\n",
       "      <td>10000</td>\n",
       "      <td>10000</td>\n",
       "      <td>10000.0</td>\n",
       "      <td>339.31</td>\n",
       "      <td>49200.0</td>\n",
       "      <td>20.00</td>\n",
       "      <td>0</td>\n",
       "      <td>1</td>\n",
       "      <td>...</td>\n",
       "      <td>12231.89</td>\n",
       "      <td>10000.00</td>\n",
       "      <td>2214.92</td>\n",
       "      <td>16.97</td>\n",
       "      <td>0.00</td>\n",
       "      <td>0.00</td>\n",
       "      <td>357.48</td>\n",
       "      <td>1</td>\n",
       "      <td>0</td>\n",
       "      <td>0</td>\n",
       "    </tr>\n",
       "    <tr>\n",
       "      <th>4</th>\n",
       "      <td>1075358</td>\n",
       "      <td>1311748</td>\n",
       "      <td>3000</td>\n",
       "      <td>3000</td>\n",
       "      <td>3000.0</td>\n",
       "      <td>67.79</td>\n",
       "      <td>80000.0</td>\n",
       "      <td>17.94</td>\n",
       "      <td>0</td>\n",
       "      <td>0</td>\n",
       "      <td>...</td>\n",
       "      <td>3513.33</td>\n",
       "      <td>2475.94</td>\n",
       "      <td>1037.39</td>\n",
       "      <td>0.00</td>\n",
       "      <td>0.00</td>\n",
       "      <td>0.00</td>\n",
       "      <td>67.79</td>\n",
       "      <td>1</td>\n",
       "      <td>0</td>\n",
       "      <td>0</td>\n",
       "    </tr>\n",
       "  </tbody>\n",
       "</table>\n",
       "<p>5 rows × 27 columns</p>\n",
       "</div>"
      ],
      "text/plain": [
       "        id  member_id  loan_amnt  funded_amnt  funded_amnt_inv  installment  \\\n",
       "0  1077501    1296599       5000         5000           4975.0       162.87   \n",
       "1  1077430    1314167       2500         2500           2500.0        59.83   \n",
       "2  1077175    1313524       2400         2400           2400.0        84.33   \n",
       "3  1076863    1277178      10000        10000          10000.0       339.31   \n",
       "4  1075358    1311748       3000         3000           3000.0        67.79   \n",
       "\n",
       "   annual_inc    dti  delinq_2yrs  inq_last_6mths  ...  total_pymnt_inv  \\\n",
       "0     24000.0  27.65            0               1  ...          5833.84   \n",
       "1     30000.0   1.00            0               5  ...          1008.71   \n",
       "2     12252.0   8.72            0               2  ...          3005.67   \n",
       "3     49200.0  20.00            0               1  ...         12231.89   \n",
       "4     80000.0  17.94            0               0  ...          3513.33   \n",
       "\n",
       "   total_rec_prncp  total_rec_int  total_rec_late_fee  recoveries  \\\n",
       "0          5000.00         863.16                0.00        0.00   \n",
       "1           456.46         435.17                0.00      117.08   \n",
       "2          2400.00         605.67                0.00        0.00   \n",
       "3         10000.00        2214.92               16.97        0.00   \n",
       "4          2475.94        1037.39                0.00        0.00   \n",
       "\n",
       "   collection_recovery_fee  last_pymnt_amnt  policy_code  acc_now_delinq  \\\n",
       "0                     0.00           171.62            1               0   \n",
       "1                     1.11           119.66            1               0   \n",
       "2                     0.00           649.91            1               0   \n",
       "3                     0.00           357.48            1               0   \n",
       "4                     0.00            67.79            1               0   \n",
       "\n",
       "   delinq_amnt  \n",
       "0            0  \n",
       "1            0  \n",
       "2            0  \n",
       "3            0  \n",
       "4            0  \n",
       "\n",
       "[5 rows x 27 columns]"
      ]
     },
     "execution_count": 327,
     "metadata": {},
     "output_type": "execute_result"
    }
   ],
   "source": [
    "df_numeric.head()"
   ]
  },
  {
   "cell_type": "code",
   "execution_count": 328,
   "metadata": {
    "executionInfo": {
     "elapsed": 5857,
     "status": "ok",
     "timestamp": 1619894452129,
     "user": {
      "displayName": "Asif Tandel",
      "photoUrl": "https://lh3.googleusercontent.com/a-/AOh14GjtiZIVj12JyghednmlZINu3BYT52rx0U7dTlruAA=s64",
      "userId": "03386071215589122522"
     },
     "user_tz": -330
    },
    "id": "aZnI7EjW_iYc"
   },
   "outputs": [],
   "source": [
    "#Categorical features into seperate dataframe\n",
    "df_categorical=df1.select_dtypes(include='O')"
   ]
  },
  {
   "cell_type": "code",
   "execution_count": 329,
   "metadata": {},
   "outputs": [
    {
     "data": {
      "text/html": [
       "<div>\n",
       "<style scoped>\n",
       "    .dataframe tbody tr th:only-of-type {\n",
       "        vertical-align: middle;\n",
       "    }\n",
       "\n",
       "    .dataframe tbody tr th {\n",
       "        vertical-align: top;\n",
       "    }\n",
       "\n",
       "    .dataframe thead th {\n",
       "        text-align: right;\n",
       "    }\n",
       "</style>\n",
       "<table border=\"1\" class=\"dataframe\">\n",
       "  <thead>\n",
       "    <tr style=\"text-align: right;\">\n",
       "      <th></th>\n",
       "      <th>term</th>\n",
       "      <th>int_rate</th>\n",
       "      <th>grade</th>\n",
       "      <th>sub_grade</th>\n",
       "      <th>home_ownership</th>\n",
       "      <th>verification_status</th>\n",
       "      <th>issue_d</th>\n",
       "      <th>loan_status</th>\n",
       "      <th>pymnt_plan</th>\n",
       "      <th>url</th>\n",
       "      <th>purpose</th>\n",
       "      <th>zip_code</th>\n",
       "      <th>addr_state</th>\n",
       "      <th>earliest_cr_line</th>\n",
       "      <th>initial_list_status</th>\n",
       "      <th>application_type</th>\n",
       "    </tr>\n",
       "  </thead>\n",
       "  <tbody>\n",
       "    <tr>\n",
       "      <th>0</th>\n",
       "      <td>36 months</td>\n",
       "      <td>10.65%</td>\n",
       "      <td>B</td>\n",
       "      <td>B2</td>\n",
       "      <td>RENT</td>\n",
       "      <td>Verified</td>\n",
       "      <td>Dec-11</td>\n",
       "      <td>Fully Paid</td>\n",
       "      <td>n</td>\n",
       "      <td>https://lendingclub.com/browse/loanDetail.acti...</td>\n",
       "      <td>credit_card</td>\n",
       "      <td>860xx</td>\n",
       "      <td>AZ</td>\n",
       "      <td>Jan-85</td>\n",
       "      <td>f</td>\n",
       "      <td>INDIVIDUAL</td>\n",
       "    </tr>\n",
       "    <tr>\n",
       "      <th>1</th>\n",
       "      <td>60 months</td>\n",
       "      <td>15.27%</td>\n",
       "      <td>C</td>\n",
       "      <td>C4</td>\n",
       "      <td>RENT</td>\n",
       "      <td>Source Verified</td>\n",
       "      <td>Dec-11</td>\n",
       "      <td>Charged Off</td>\n",
       "      <td>n</td>\n",
       "      <td>https://lendingclub.com/browse/loanDetail.acti...</td>\n",
       "      <td>car</td>\n",
       "      <td>309xx</td>\n",
       "      <td>GA</td>\n",
       "      <td>Apr-99</td>\n",
       "      <td>f</td>\n",
       "      <td>INDIVIDUAL</td>\n",
       "    </tr>\n",
       "    <tr>\n",
       "      <th>2</th>\n",
       "      <td>36 months</td>\n",
       "      <td>15.96%</td>\n",
       "      <td>C</td>\n",
       "      <td>C5</td>\n",
       "      <td>RENT</td>\n",
       "      <td>Not Verified</td>\n",
       "      <td>Dec-11</td>\n",
       "      <td>Fully Paid</td>\n",
       "      <td>n</td>\n",
       "      <td>https://lendingclub.com/browse/loanDetail.acti...</td>\n",
       "      <td>small_business</td>\n",
       "      <td>606xx</td>\n",
       "      <td>IL</td>\n",
       "      <td>Nov-01</td>\n",
       "      <td>f</td>\n",
       "      <td>INDIVIDUAL</td>\n",
       "    </tr>\n",
       "    <tr>\n",
       "      <th>3</th>\n",
       "      <td>36 months</td>\n",
       "      <td>13.49%</td>\n",
       "      <td>C</td>\n",
       "      <td>C1</td>\n",
       "      <td>RENT</td>\n",
       "      <td>Source Verified</td>\n",
       "      <td>Dec-11</td>\n",
       "      <td>Fully Paid</td>\n",
       "      <td>n</td>\n",
       "      <td>https://lendingclub.com/browse/loanDetail.acti...</td>\n",
       "      <td>other</td>\n",
       "      <td>917xx</td>\n",
       "      <td>CA</td>\n",
       "      <td>Feb-96</td>\n",
       "      <td>f</td>\n",
       "      <td>INDIVIDUAL</td>\n",
       "    </tr>\n",
       "    <tr>\n",
       "      <th>4</th>\n",
       "      <td>60 months</td>\n",
       "      <td>12.69%</td>\n",
       "      <td>B</td>\n",
       "      <td>B5</td>\n",
       "      <td>RENT</td>\n",
       "      <td>Source Verified</td>\n",
       "      <td>Dec-11</td>\n",
       "      <td>Current</td>\n",
       "      <td>n</td>\n",
       "      <td>https://lendingclub.com/browse/loanDetail.acti...</td>\n",
       "      <td>other</td>\n",
       "      <td>972xx</td>\n",
       "      <td>OR</td>\n",
       "      <td>Jan-96</td>\n",
       "      <td>f</td>\n",
       "      <td>INDIVIDUAL</td>\n",
       "    </tr>\n",
       "  </tbody>\n",
       "</table>\n",
       "</div>"
      ],
      "text/plain": [
       "         term int_rate grade sub_grade home_ownership verification_status  \\\n",
       "0   36 months   10.65%     B        B2           RENT            Verified   \n",
       "1   60 months   15.27%     C        C4           RENT     Source Verified   \n",
       "2   36 months   15.96%     C        C5           RENT        Not Verified   \n",
       "3   36 months   13.49%     C        C1           RENT     Source Verified   \n",
       "4   60 months   12.69%     B        B5           RENT     Source Verified   \n",
       "\n",
       "  issue_d  loan_status pymnt_plan  \\\n",
       "0  Dec-11   Fully Paid          n   \n",
       "1  Dec-11  Charged Off          n   \n",
       "2  Dec-11   Fully Paid          n   \n",
       "3  Dec-11   Fully Paid          n   \n",
       "4  Dec-11      Current          n   \n",
       "\n",
       "                                                 url         purpose zip_code  \\\n",
       "0  https://lendingclub.com/browse/loanDetail.acti...     credit_card    860xx   \n",
       "1  https://lendingclub.com/browse/loanDetail.acti...             car    309xx   \n",
       "2  https://lendingclub.com/browse/loanDetail.acti...  small_business    606xx   \n",
       "3  https://lendingclub.com/browse/loanDetail.acti...           other    917xx   \n",
       "4  https://lendingclub.com/browse/loanDetail.acti...           other    972xx   \n",
       "\n",
       "  addr_state earliest_cr_line initial_list_status application_type  \n",
       "0         AZ           Jan-85                   f       INDIVIDUAL  \n",
       "1         GA           Apr-99                   f       INDIVIDUAL  \n",
       "2         IL           Nov-01                   f       INDIVIDUAL  \n",
       "3         CA           Feb-96                   f       INDIVIDUAL  \n",
       "4         OR           Jan-96                   f       INDIVIDUAL  "
      ]
     },
     "execution_count": 329,
     "metadata": {},
     "output_type": "execute_result"
    }
   ],
   "source": [
    "# Checking if it is applied correctly or not\n",
    "df_categorical.head()"
   ]
  },
  {
   "cell_type": "code",
   "execution_count": 330,
   "metadata": {},
   "outputs": [
    {
     "data": {
      "text/plain": [
       "Fully Paid     32950\n",
       "Charged Off     5627\n",
       "Current         1140\n",
       "Name: loan_status, dtype: int64"
      ]
     },
     "execution_count": 330,
     "metadata": {},
     "output_type": "execute_result"
    }
   ],
   "source": [
    "#Checking the value_counts of the target variable and we can clearly see that there is class imbalance \n",
    "#between them \n",
    "df_categorical['loan_status'].value_counts()"
   ]
  },
  {
   "cell_type": "code",
   "execution_count": 331,
   "metadata": {
    "colab": {
     "base_uri": "https://localhost:8080/"
    },
    "executionInfo": {
     "elapsed": 5771,
     "status": "ok",
     "timestamp": 1619894452136,
     "user": {
      "displayName": "Asif Tandel",
      "photoUrl": "https://lh3.googleusercontent.com/a-/AOh14GjtiZIVj12JyghednmlZINu3BYT52rx0U7dTlruAA=s64",
      "userId": "03386071215589122522"
     },
     "user_tz": -330
    },
    "id": "mqZXInhjB6bU",
    "outputId": "6778b8d3-5dd8-42da-cdd3-95ac9baf399e"
   },
   "outputs": [
    {
     "data": {
      "text/plain": [
       "0     Fully Paid\n",
       "1    Charged Off\n",
       "2     Fully Paid\n",
       "3     Fully Paid\n",
       "4        Current\n",
       "Name: loan_status, dtype: object"
      ]
     },
     "execution_count": 331,
     "metadata": {},
     "output_type": "execute_result"
    }
   ],
   "source": [
    "# Checking the first five rows of the target variable\n",
    "df_categorical['loan_status'].head()"
   ]
  },
  {
   "cell_type": "code",
   "execution_count": 332,
   "metadata": {},
   "outputs": [],
   "source": [
    "# So In the context of this case study we need only Fully Paid and Charged Off Loan Status therefore\n",
    "#I need to filter the two columns from it and leave the Current using this technique\n",
    "df_categorical=df_categorical[df_categorical['loan_status']!='Current']"
   ]
  },
  {
   "cell_type": "code",
   "execution_count": 333,
   "metadata": {},
   "outputs": [
    {
     "data": {
      "text/html": [
       "<div>\n",
       "<style scoped>\n",
       "    .dataframe tbody tr th:only-of-type {\n",
       "        vertical-align: middle;\n",
       "    }\n",
       "\n",
       "    .dataframe tbody tr th {\n",
       "        vertical-align: top;\n",
       "    }\n",
       "\n",
       "    .dataframe thead th {\n",
       "        text-align: right;\n",
       "    }\n",
       "</style>\n",
       "<table border=\"1\" class=\"dataframe\">\n",
       "  <thead>\n",
       "    <tr style=\"text-align: right;\">\n",
       "      <th></th>\n",
       "      <th>term</th>\n",
       "      <th>int_rate</th>\n",
       "      <th>grade</th>\n",
       "      <th>sub_grade</th>\n",
       "      <th>home_ownership</th>\n",
       "      <th>verification_status</th>\n",
       "      <th>issue_d</th>\n",
       "      <th>loan_status</th>\n",
       "      <th>pymnt_plan</th>\n",
       "      <th>url</th>\n",
       "      <th>purpose</th>\n",
       "      <th>zip_code</th>\n",
       "      <th>addr_state</th>\n",
       "      <th>earliest_cr_line</th>\n",
       "      <th>initial_list_status</th>\n",
       "      <th>application_type</th>\n",
       "    </tr>\n",
       "  </thead>\n",
       "  <tbody>\n",
       "    <tr>\n",
       "      <th>0</th>\n",
       "      <td>36 months</td>\n",
       "      <td>10.65%</td>\n",
       "      <td>B</td>\n",
       "      <td>B2</td>\n",
       "      <td>RENT</td>\n",
       "      <td>Verified</td>\n",
       "      <td>Dec-11</td>\n",
       "      <td>Fully Paid</td>\n",
       "      <td>n</td>\n",
       "      <td>https://lendingclub.com/browse/loanDetail.acti...</td>\n",
       "      <td>credit_card</td>\n",
       "      <td>860xx</td>\n",
       "      <td>AZ</td>\n",
       "      <td>Jan-85</td>\n",
       "      <td>f</td>\n",
       "      <td>INDIVIDUAL</td>\n",
       "    </tr>\n",
       "  </tbody>\n",
       "</table>\n",
       "</div>"
      ],
      "text/plain": [
       "         term int_rate grade sub_grade home_ownership verification_status  \\\n",
       "0   36 months   10.65%     B        B2           RENT            Verified   \n",
       "\n",
       "  issue_d loan_status pymnt_plan  \\\n",
       "0  Dec-11  Fully Paid          n   \n",
       "\n",
       "                                                 url      purpose zip_code  \\\n",
       "0  https://lendingclub.com/browse/loanDetail.acti...  credit_card    860xx   \n",
       "\n",
       "  addr_state earliest_cr_line initial_list_status application_type  \n",
       "0         AZ           Jan-85                   f       INDIVIDUAL  "
      ]
     },
     "execution_count": 333,
     "metadata": {},
     "output_type": "execute_result"
    }
   ],
   "source": [
    "# Filter out the Fully Paid Loan_Status\n",
    "df_categorical[df_categorical['loan_status']=='Fully Paid'].head(1)"
   ]
  },
  {
   "cell_type": "code",
   "execution_count": 334,
   "metadata": {},
   "outputs": [
    {
     "data": {
      "text/html": [
       "<div>\n",
       "<style scoped>\n",
       "    .dataframe tbody tr th:only-of-type {\n",
       "        vertical-align: middle;\n",
       "    }\n",
       "\n",
       "    .dataframe tbody tr th {\n",
       "        vertical-align: top;\n",
       "    }\n",
       "\n",
       "    .dataframe thead th {\n",
       "        text-align: right;\n",
       "    }\n",
       "</style>\n",
       "<table border=\"1\" class=\"dataframe\">\n",
       "  <thead>\n",
       "    <tr style=\"text-align: right;\">\n",
       "      <th></th>\n",
       "      <th>term</th>\n",
       "      <th>int_rate</th>\n",
       "      <th>grade</th>\n",
       "      <th>sub_grade</th>\n",
       "      <th>home_ownership</th>\n",
       "      <th>verification_status</th>\n",
       "      <th>issue_d</th>\n",
       "      <th>loan_status</th>\n",
       "      <th>pymnt_plan</th>\n",
       "      <th>url</th>\n",
       "      <th>purpose</th>\n",
       "      <th>zip_code</th>\n",
       "      <th>addr_state</th>\n",
       "      <th>earliest_cr_line</th>\n",
       "      <th>initial_list_status</th>\n",
       "      <th>application_type</th>\n",
       "    </tr>\n",
       "  </thead>\n",
       "  <tbody>\n",
       "    <tr>\n",
       "      <th>1</th>\n",
       "      <td>60 months</td>\n",
       "      <td>15.27%</td>\n",
       "      <td>C</td>\n",
       "      <td>C4</td>\n",
       "      <td>RENT</td>\n",
       "      <td>Source Verified</td>\n",
       "      <td>Dec-11</td>\n",
       "      <td>Charged Off</td>\n",
       "      <td>n</td>\n",
       "      <td>https://lendingclub.com/browse/loanDetail.acti...</td>\n",
       "      <td>car</td>\n",
       "      <td>309xx</td>\n",
       "      <td>GA</td>\n",
       "      <td>Apr-99</td>\n",
       "      <td>f</td>\n",
       "      <td>INDIVIDUAL</td>\n",
       "    </tr>\n",
       "  </tbody>\n",
       "</table>\n",
       "</div>"
      ],
      "text/plain": [
       "         term int_rate grade sub_grade home_ownership verification_status  \\\n",
       "1   60 months   15.27%     C        C4           RENT     Source Verified   \n",
       "\n",
       "  issue_d  loan_status pymnt_plan  \\\n",
       "1  Dec-11  Charged Off          n   \n",
       "\n",
       "                                                 url purpose zip_code  \\\n",
       "1  https://lendingclub.com/browse/loanDetail.acti...     car    309xx   \n",
       "\n",
       "  addr_state earliest_cr_line initial_list_status application_type  \n",
       "1         GA           Apr-99                   f       INDIVIDUAL  "
      ]
     },
     "execution_count": 334,
     "metadata": {},
     "output_type": "execute_result"
    }
   ],
   "source": [
    "df_categorical[df_categorical['loan_status']=='Charged Off'].head(1)"
   ]
  },
  {
   "cell_type": "code",
   "execution_count": 335,
   "metadata": {
    "colab": {
     "base_uri": "https://localhost:8080/",
     "height": 609
    },
    "executionInfo": {
     "elapsed": 5729,
     "status": "ok",
     "timestamp": 1619894452140,
     "user": {
      "displayName": "Asif Tandel",
      "photoUrl": "https://lh3.googleusercontent.com/a-/AOh14GjtiZIVj12JyghednmlZINu3BYT52rx0U7dTlruAA=s64",
      "userId": "03386071215589122522"
     },
     "user_tz": -330
    },
    "id": "4Q3hho4LFNq8",
    "outputId": "eb680871-9a63-4698-848d-a343c3c622cc"
   },
   "outputs": [
    {
     "data": {
      "text/html": [
       "<div>\n",
       "<style scoped>\n",
       "    .dataframe tbody tr th:only-of-type {\n",
       "        vertical-align: middle;\n",
       "    }\n",
       "\n",
       "    .dataframe tbody tr th {\n",
       "        vertical-align: top;\n",
       "    }\n",
       "\n",
       "    .dataframe thead th {\n",
       "        text-align: right;\n",
       "    }\n",
       "</style>\n",
       "<table border=\"1\" class=\"dataframe\">\n",
       "  <thead>\n",
       "    <tr style=\"text-align: right;\">\n",
       "      <th></th>\n",
       "      <th>term</th>\n",
       "      <th>int_rate</th>\n",
       "      <th>grade</th>\n",
       "      <th>sub_grade</th>\n",
       "      <th>home_ownership</th>\n",
       "      <th>verification_status</th>\n",
       "      <th>issue_d</th>\n",
       "      <th>loan_status</th>\n",
       "      <th>pymnt_plan</th>\n",
       "      <th>url</th>\n",
       "      <th>purpose</th>\n",
       "      <th>zip_code</th>\n",
       "      <th>addr_state</th>\n",
       "      <th>earliest_cr_line</th>\n",
       "      <th>initial_list_status</th>\n",
       "      <th>application_type</th>\n",
       "    </tr>\n",
       "  </thead>\n",
       "  <tbody>\n",
       "    <tr>\n",
       "      <th>0</th>\n",
       "      <td>36 months</td>\n",
       "      <td>10.65%</td>\n",
       "      <td>B</td>\n",
       "      <td>B2</td>\n",
       "      <td>RENT</td>\n",
       "      <td>Verified</td>\n",
       "      <td>Dec-11</td>\n",
       "      <td>Fully Paid</td>\n",
       "      <td>n</td>\n",
       "      <td>https://lendingclub.com/browse/loanDetail.acti...</td>\n",
       "      <td>credit_card</td>\n",
       "      <td>860xx</td>\n",
       "      <td>AZ</td>\n",
       "      <td>Jan-85</td>\n",
       "      <td>f</td>\n",
       "      <td>INDIVIDUAL</td>\n",
       "    </tr>\n",
       "    <tr>\n",
       "      <th>1</th>\n",
       "      <td>60 months</td>\n",
       "      <td>15.27%</td>\n",
       "      <td>C</td>\n",
       "      <td>C4</td>\n",
       "      <td>RENT</td>\n",
       "      <td>Source Verified</td>\n",
       "      <td>Dec-11</td>\n",
       "      <td>Charged Off</td>\n",
       "      <td>n</td>\n",
       "      <td>https://lendingclub.com/browse/loanDetail.acti...</td>\n",
       "      <td>car</td>\n",
       "      <td>309xx</td>\n",
       "      <td>GA</td>\n",
       "      <td>Apr-99</td>\n",
       "      <td>f</td>\n",
       "      <td>INDIVIDUAL</td>\n",
       "    </tr>\n",
       "    <tr>\n",
       "      <th>2</th>\n",
       "      <td>36 months</td>\n",
       "      <td>15.96%</td>\n",
       "      <td>C</td>\n",
       "      <td>C5</td>\n",
       "      <td>RENT</td>\n",
       "      <td>Not Verified</td>\n",
       "      <td>Dec-11</td>\n",
       "      <td>Fully Paid</td>\n",
       "      <td>n</td>\n",
       "      <td>https://lendingclub.com/browse/loanDetail.acti...</td>\n",
       "      <td>small_business</td>\n",
       "      <td>606xx</td>\n",
       "      <td>IL</td>\n",
       "      <td>Nov-01</td>\n",
       "      <td>f</td>\n",
       "      <td>INDIVIDUAL</td>\n",
       "    </tr>\n",
       "    <tr>\n",
       "      <th>3</th>\n",
       "      <td>36 months</td>\n",
       "      <td>13.49%</td>\n",
       "      <td>C</td>\n",
       "      <td>C1</td>\n",
       "      <td>RENT</td>\n",
       "      <td>Source Verified</td>\n",
       "      <td>Dec-11</td>\n",
       "      <td>Fully Paid</td>\n",
       "      <td>n</td>\n",
       "      <td>https://lendingclub.com/browse/loanDetail.acti...</td>\n",
       "      <td>other</td>\n",
       "      <td>917xx</td>\n",
       "      <td>CA</td>\n",
       "      <td>Feb-96</td>\n",
       "      <td>f</td>\n",
       "      <td>INDIVIDUAL</td>\n",
       "    </tr>\n",
       "    <tr>\n",
       "      <th>5</th>\n",
       "      <td>36 months</td>\n",
       "      <td>7.90%</td>\n",
       "      <td>A</td>\n",
       "      <td>A4</td>\n",
       "      <td>RENT</td>\n",
       "      <td>Source Verified</td>\n",
       "      <td>Dec-11</td>\n",
       "      <td>Fully Paid</td>\n",
       "      <td>n</td>\n",
       "      <td>https://lendingclub.com/browse/loanDetail.acti...</td>\n",
       "      <td>wedding</td>\n",
       "      <td>852xx</td>\n",
       "      <td>AZ</td>\n",
       "      <td>Nov-04</td>\n",
       "      <td>f</td>\n",
       "      <td>INDIVIDUAL</td>\n",
       "    </tr>\n",
       "  </tbody>\n",
       "</table>\n",
       "</div>"
      ],
      "text/plain": [
       "         term int_rate grade sub_grade home_ownership verification_status  \\\n",
       "0   36 months   10.65%     B        B2           RENT            Verified   \n",
       "1   60 months   15.27%     C        C4           RENT     Source Verified   \n",
       "2   36 months   15.96%     C        C5           RENT        Not Verified   \n",
       "3   36 months   13.49%     C        C1           RENT     Source Verified   \n",
       "5   36 months    7.90%     A        A4           RENT     Source Verified   \n",
       "\n",
       "  issue_d  loan_status pymnt_plan  \\\n",
       "0  Dec-11   Fully Paid          n   \n",
       "1  Dec-11  Charged Off          n   \n",
       "2  Dec-11   Fully Paid          n   \n",
       "3  Dec-11   Fully Paid          n   \n",
       "5  Dec-11   Fully Paid          n   \n",
       "\n",
       "                                                 url         purpose zip_code  \\\n",
       "0  https://lendingclub.com/browse/loanDetail.acti...     credit_card    860xx   \n",
       "1  https://lendingclub.com/browse/loanDetail.acti...             car    309xx   \n",
       "2  https://lendingclub.com/browse/loanDetail.acti...  small_business    606xx   \n",
       "3  https://lendingclub.com/browse/loanDetail.acti...           other    917xx   \n",
       "5  https://lendingclub.com/browse/loanDetail.acti...         wedding    852xx   \n",
       "\n",
       "  addr_state earliest_cr_line initial_list_status application_type  \n",
       "0         AZ           Jan-85                   f       INDIVIDUAL  \n",
       "1         GA           Apr-99                   f       INDIVIDUAL  \n",
       "2         IL           Nov-01                   f       INDIVIDUAL  \n",
       "3         CA           Feb-96                   f       INDIVIDUAL  \n",
       "5         AZ           Nov-04                   f       INDIVIDUAL  "
      ]
     },
     "execution_count": 335,
     "metadata": {},
     "output_type": "execute_result"
    }
   ],
   "source": [
    "df_categorical.head()"
   ]
  },
  {
   "cell_type": "code",
   "execution_count": 336,
   "metadata": {
    "colab": {
     "base_uri": "https://localhost:8080/"
    },
    "executionInfo": {
     "elapsed": 5679,
     "status": "ok",
     "timestamp": 1619894452146,
     "user": {
      "displayName": "Asif Tandel",
      "photoUrl": "https://lh3.googleusercontent.com/a-/AOh14GjtiZIVj12JyghednmlZINu3BYT52rx0U7dTlruAA=s64",
      "userId": "03386071215589122522"
     },
     "user_tz": -330
    },
    "id": "ISslTzQ6IwpA",
    "outputId": "97e9fc94-250a-4ea5-f156-dbfd7ee0762d"
   },
   "outputs": [],
   "source": [
    "#In this code we will replace '%'  with ' ' using replace function in lambda\n",
    "df_categorical['int_rate']=df_categorical['int_rate'].apply(lambda a:a.replace('%',''))"
   ]
  },
  {
   "cell_type": "code",
   "execution_count": 337,
   "metadata": {
    "colab": {
     "base_uri": "https://localhost:8080/"
    },
    "executionInfo": {
     "elapsed": 5663,
     "status": "ok",
     "timestamp": 1619894452147,
     "user": {
      "displayName": "Asif Tandel",
      "photoUrl": "https://lh3.googleusercontent.com/a-/AOh14GjtiZIVj12JyghednmlZINu3BYT52rx0U7dTlruAA=s64",
      "userId": "03386071215589122522"
     },
     "user_tz": -330
    },
    "id": "1Jz6wpLlI9Jn",
    "outputId": "d4d057b7-af93-4de6-9557-e3f209bd1b1d"
   },
   "outputs": [
    {
     "data": {
      "text/plain": [
       "1    15.27\n",
       "2    15.96\n",
       "3    13.49\n",
       "5     7.90\n",
       "Name: int_rate, dtype: object"
      ]
     },
     "execution_count": 337,
     "metadata": {},
     "output_type": "execute_result"
    }
   ],
   "source": [
    "df_categorical['int_rate'][1:5]"
   ]
  },
  {
   "cell_type": "code",
   "execution_count": 338,
   "metadata": {},
   "outputs": [],
   "source": [
    "#Converting the columns int_rate from string to object\n",
    "df_categorical['int_rate']=df_categorical['int_rate'].astype(dtype='float64')"
   ]
  },
  {
   "cell_type": "code",
   "execution_count": 339,
   "metadata": {
    "colab": {
     "base_uri": "https://localhost:8080/"
    },
    "executionInfo": {
     "elapsed": 5646,
     "status": "ok",
     "timestamp": 1619894452148,
     "user": {
      "displayName": "Asif Tandel",
      "photoUrl": "https://lh3.googleusercontent.com/a-/AOh14GjtiZIVj12JyghednmlZINu3BYT52rx0U7dTlruAA=s64",
      "userId": "03386071215589122522"
     },
     "user_tz": -330
    },
    "id": "U6uQPR9BJPgh",
    "outputId": "f88b73f6-adfa-4f67-e8d7-dcbaaf939625"
   },
   "outputs": [
    {
     "data": {
      "text/plain": [
       "int_rate    float64\n",
       "grade        object\n",
       "dtype: object"
      ]
     },
     "execution_count": 339,
     "metadata": {},
     "output_type": "execute_result"
    }
   ],
   "source": [
    "#Checking if it applied or not\n",
    "df_categorical.dtypes[1:3]"
   ]
  },
  {
   "cell_type": "markdown",
   "metadata": {},
   "source": [
    "# Analysis of Numeric Variables\n",
    "1.How to Handle Missing Values in Numeric Variable(if any)\n",
    "\n",
    "2.How to Handle Outliers in the Dataset\n",
    "\n",
    "3.Checking Distribution of the columns"
   ]
  },
  {
   "cell_type": "code",
   "execution_count": 340,
   "metadata": {
    "colab": {
     "base_uri": "https://localhost:8080/"
    },
    "executionInfo": {
     "elapsed": 5608,
     "status": "ok",
     "timestamp": 1619894452151,
     "user": {
      "displayName": "Asif Tandel",
      "photoUrl": "https://lh3.googleusercontent.com/a-/AOh14GjtiZIVj12JyghednmlZINu3BYT52rx0U7dTlruAA=s64",
      "userId": "03386071215589122522"
     },
     "user_tz": -330
    },
    "id": "eCAK7aijKb3h",
    "outputId": "08fcfb31-3531-47df-abc9-9162e9fce17e"
   },
   "outputs": [
    {
     "data": {
      "text/plain": [
       "id                 0\n",
       "member_id          0\n",
       "loan_amnt          0\n",
       "funded_amnt        0\n",
       "funded_amnt_inv    0\n",
       "dtype: int64"
      ]
     },
     "execution_count": 340,
     "metadata": {},
     "output_type": "execute_result"
    }
   ],
   "source": [
    "#Checking the missing values in the numeric variables\n",
    "#We can see that there are no  missing value present in the numeric features so we can go ahead\n",
    "df_numeric.isnull().sum().head()"
   ]
  },
  {
   "cell_type": "code",
   "execution_count": 341,
   "metadata": {
    "colab": {
     "base_uri": "https://localhost:8080/"
    },
    "executionInfo": {
     "elapsed": 5575,
     "status": "ok",
     "timestamp": 1619894452155,
     "user": {
      "displayName": "Asif Tandel",
      "photoUrl": "https://lh3.googleusercontent.com/a-/AOh14GjtiZIVj12JyghednmlZINu3BYT52rx0U7dTlruAA=s64",
      "userId": "03386071215589122522"
     },
     "user_tz": -330
    },
    "id": "H9ew-AEYMMqf",
    "outputId": "8784ce62-bc5a-4f92-bf01-d3f2840da21e"
   },
   "outputs": [
    {
     "data": {
      "text/plain": [
       "Index(['id', 'member_id', 'loan_amnt', 'funded_amnt', 'funded_amnt_inv',\n",
       "       'installment', 'annual_inc', 'dti', 'delinq_2yrs', 'inq_last_6mths',\n",
       "       'open_acc', 'pub_rec', 'revol_bal', 'total_acc', 'out_prncp',\n",
       "       'out_prncp_inv', 'total_pymnt', 'total_pymnt_inv', 'total_rec_prncp',\n",
       "       'total_rec_int', 'total_rec_late_fee', 'recoveries',\n",
       "       'collection_recovery_fee', 'last_pymnt_amnt', 'policy_code',\n",
       "       'acc_now_delinq', 'delinq_amnt'],\n",
       "      dtype='object')"
      ]
     },
     "execution_count": 341,
     "metadata": {},
     "output_type": "execute_result"
    }
   ],
   "source": [
    "#Checking the columns of the numeric dataset so we can side by side analysis\n",
    "df_numeric.columns"
   ]
  },
  {
   "cell_type": "code",
   "execution_count": 342,
   "metadata": {
    "colab": {
     "base_uri": "https://localhost:8080/",
     "height": 297
    },
    "executionInfo": {
     "elapsed": 6391,
     "status": "ok",
     "timestamp": 1619894452994,
     "user": {
      "displayName": "Asif Tandel",
      "photoUrl": "https://lh3.googleusercontent.com/a-/AOh14GjtiZIVj12JyghednmlZINu3BYT52rx0U7dTlruAA=s64",
      "userId": "03386071215589122522"
     },
     "user_tz": -330
    },
    "id": "8BUqjZxDMBNd",
    "outputId": "8801504b-2950-4ee9-eeab-cafb9fe4f91b"
   },
   "outputs": [
    {
     "data": {
      "text/plain": [
       "<AxesSubplot:xlabel='funded_amnt', ylabel='installment'>"
      ]
     },
     "execution_count": 342,
     "metadata": {},
     "output_type": "execute_result"
    },
    {
     "data": {
      "image/png": "[encoded data removed]",
      "text/plain": [
       "<Figure size 432x288 with 1 Axes>"
      ]
     },
     "metadata": {
      "needs_background": "light"
     },
     "output_type": "display_data"
    }
   ],
   "source": [
    "#Checking the relation between funded_amnt and installment with respect to loan_status\n",
    "sns.scatterplot(x=df1['funded_amnt'],y=df1['installment'],hue=df1['loan_status'])"
   ]
  },
  {
   "cell_type": "code",
   "execution_count": 343,
   "metadata": {},
   "outputs": [
    {
     "data": {
      "text/plain": [
       "<AxesSubplot:xlabel='funded_amnt'>"
      ]
     },
     "execution_count": 343,
     "metadata": {},
     "output_type": "execute_result"
    },
    {
     "data": {
      "image/png": "[encoded data removed]",
      "text/plain": [
       "<Figure size 432x288 with 1 Axes>"
      ]
     },
     "metadata": {
      "needs_background": "light"
     },
     "output_type": "display_data"
    }
   ],
   "source": [
    "#Checking the boxplot of the funded_amnt\n",
    "sns.boxplot(x=df1['funded_amnt'])"
   ]
  },
  {
   "cell_type": "code",
   "execution_count": 344,
   "metadata": {},
   "outputs": [
    {
     "data": {
      "text/plain": [
       "<AxesSubplot:xlabel='annual_inc', ylabel='loan_status'>"
      ]
     },
     "execution_count": 344,
     "metadata": {},
     "output_type": "execute_result"
    },
    {
     "data": {
      "image/png": "[encoded data removed]",
      "text/plain": [
       "<Figure size 432x288 with 1 Axes>"
      ]
     },
     "metadata": {
      "needs_background": "light"
     },
     "output_type": "display_data"
    }
   ],
   "source": [
    "#Check the relationship between loan_status and annual_inc\n",
    "sns.scatterplot(x=df1['annual_inc'],y=df1['loan_status'],hue=df1['funded_amnt'])"
   ]
  },
  {
   "cell_type": "markdown",
   "metadata": {},
   "source": [
    "Conclusion of this Relationship between loan_status and annual_inc with respect to funded_amnt:-\n",
    "    \n",
    "1.Fully Paid Loan are the one which has almost 6000-18000(average funded amnt) So they were able to pay the loan \n",
    "\n",
    "2.Charged Off Loan are the one which has more than 25000-30000(average fund amnt).So as the \n",
    "    amount of the funded_amnt is high then they are most probably likely to default(My Opinion)"
   ]
  },
  {
   "cell_type": "code",
   "execution_count": 345,
   "metadata": {},
   "outputs": [
    {
     "data": {
      "text/plain": [
       "<AxesSubplot:xlabel='total_rec_prncp', ylabel='total_rec_int'>"
      ]
     },
     "execution_count": 345,
     "metadata": {},
     "output_type": "execute_result"
    },
    {
     "data": {
      "image/png": "[encoded data removed]",
      "text/plain": [
       "<Figure size 432x288 with 1 Axes>"
      ]
     },
     "metadata": {
      "needs_background": "light"
     },
     "output_type": "display_data"
    }
   ],
   "source": [
    "sns.scatterplot(x=df1['total_rec_prncp'],y=df1['total_rec_int'],hue=df1['loan_status'])"
   ]
  },
  {
   "cell_type": "code",
   "execution_count": 346,
   "metadata": {},
   "outputs": [
    {
     "data": {
      "image/png": "[encoded data removed]",
      "text/plain": [
       "<Figure size 432x288 with 1 Axes>"
      ]
     },
     "metadata": {
      "needs_background": "light"
     },
     "output_type": "display_data"
    }
   ],
   "source": [
    "sns.boxplot(x=df1['purpose'],y=df1['funded_amnt'],hue=df1['loan_status'])\n",
    "plt.xticks(rotation=90)\n",
    "plt.show()"
   ]
  },
  {
   "cell_type": "markdown",
   "metadata": {},
   "source": [
    "Conclusion from this Analysis:\n",
    "\n",
    "The funded_amnt for Charged_Off is higher than Fully Paid"
   ]
  },
  {
   "cell_type": "code",
   "execution_count": 347,
   "metadata": {},
   "outputs": [
    {
     "data": {
      "image/png": "[encoded data removed]",
      "text/plain": [
       "<Figure size 432x288 with 1 Axes>"
      ]
     },
     "metadata": {
      "needs_background": "light"
     },
     "output_type": "display_data"
    }
   ],
   "source": [
    "#Checking the Distribution of the Features(some of the columns)\n",
    "# We can see that some of the columns is skewed \n",
    "plt.hist(df1['funded_amnt'])\n",
    "plt.title('The Distribution of Funded Amount',color='green')\n",
    "plt.show()"
   ]
  },
  {
   "cell_type": "code",
   "execution_count": 348,
   "metadata": {},
   "outputs": [
    {
     "data": {
      "image/png": "[encoded data removed]",
      "text/plain": [
       "<Figure size 432x288 with 1 Axes>"
      ]
     },
     "metadata": {
      "needs_background": "light"
     },
     "output_type": "display_data"
    }
   ],
   "source": [
    "plt.hist(df1['total_rec_prncp'])\n",
    "plt.title('The Distribution of total rec prncp',color='green')\n",
    "plt.show()"
   ]
  },
  {
   "cell_type": "code",
   "execution_count": 349,
   "metadata": {},
   "outputs": [
    {
     "data": {
      "image/png": "[encoded data removed]",
      "text/plain": [
       "<Figure size 432x288 with 1 Axes>"
      ]
     },
     "metadata": {
      "needs_background": "light"
     },
     "output_type": "display_data"
    }
   ],
   "source": [
    "plt.hist(df1['total_rec_int'])\n",
    "plt.title('The Distribution of total rec int',color='green')\n",
    "plt.show()"
   ]
  },
  {
   "cell_type": "code",
   "execution_count": 350,
   "metadata": {},
   "outputs": [
    {
     "name": "stdout",
     "output_type": "stream",
     "text": [
      "The First Quartile is 5400.0\n",
      "The third Quartile is 15000.0\n",
      "The InterQuartle Range is 9600.0\n"
     ]
    }
   ],
   "source": [
    "#How to check Outliers using Inter Quartile Range\n",
    "Q1=df1['funded_amnt'].quantile(0.25)\n",
    "Q3=df1['funded_amnt'].quantile(0.75)\n",
    "print('The First Quartile is',Q1)\n",
    "print('The third Quartile is',Q3)\n",
    "IQR=Q3-Q1\n",
    "print('The InterQuartle Range is',IQR)"
   ]
  },
  {
   "cell_type": "code",
   "execution_count": 351,
   "metadata": {},
   "outputs": [
    {
     "name": "stdout",
     "output_type": "stream",
     "text": [
      "The lower whisker of the funded amnt is -9000.0\n",
      "The upper whisker of the funded amnt is 29400.0\n"
     ]
    }
   ],
   "source": [
    "#Checking lower_whisker and upper whisker\n",
    "lower_whisker=df1['funded_amnt'].quantile(0.25) - 1.5 *IQR\n",
    "upper_whisker=df1['funded_amnt'].quantile(0.75) + 1.5 *IQR\n",
    "print('The lower whisker of the funded amnt is',lower_whisker)\n",
    "print('The upper whisker of the funded amnt is',upper_whisker)"
   ]
  },
  {
   "cell_type": "code",
   "execution_count": 352,
   "metadata": {},
   "outputs": [
    {
     "name": "stdout",
     "output_type": "stream",
     "text": [
      "The lower extreme of the funded amnt is -16161.716009784286\n",
      "The upper extreme of the funded amnt is 36561.716009784286\n"
     ]
    }
   ],
   "source": [
    "#Checking lower_extreme and higher extreme values\n",
    "lower_extreme=df1['funded_amnt'].quantile(0.25) - 3*df1['funded_amnt'].std()\n",
    "higher_extreme=df1['funded_amnt'].quantile(0.75) + 3*df1['funded_amnt'].std()\n",
    "print('The lower extreme of the funded amnt is',lower_extreme)\n",
    "print('The upper extreme of the funded amnt is',higher_extreme)"
   ]
  },
  {
   "cell_type": "code",
   "execution_count": 353,
   "metadata": {},
   "outputs": [
    {
     "data": {
      "text/plain": [
       "(1038, 43)"
      ]
     },
     "execution_count": 353,
     "metadata": {},
     "output_type": "execute_result"
    }
   ],
   "source": [
    "#Checking the value greater than upper_whisker\n",
    "df1[df1['funded_amnt']>29400].shape"
   ]
  },
  {
   "cell_type": "markdown",
   "metadata": {},
   "source": [
    "# Analysis In Categorical Variables:\n",
    "    \n",
    "1.How to Handle Missing Values in Categorical Features\n",
    "\n",
    "2.How to Check Relation between Categorical Features(Association)\n",
    "\n",
    "3.How to encode Categorical Features In Machine Learning(Using LabelEncoding)\n",
    "\n",
    "-There are other approach than LabelEncoding but for this usecase we will use the most simple one"
   ]
  },
  {
   "cell_type": "code",
   "execution_count": 354,
   "metadata": {},
   "outputs": [
    {
     "data": {
      "text/plain": [
       "term                   0\n",
       "int_rate               0\n",
       "grade                  0\n",
       "sub_grade              0\n",
       "home_ownership         0\n",
       "verification_status    0\n",
       "issue_d                0\n",
       "loan_status            0\n",
       "pymnt_plan             0\n",
       "url                    0\n",
       "purpose                0\n",
       "zip_code               0\n",
       "addr_state             0\n",
       "earliest_cr_line       0\n",
       "initial_list_status    0\n",
       "application_type       0\n",
       "dtype: int64"
      ]
     },
     "execution_count": 354,
     "metadata": {},
     "output_type": "execute_result"
    }
   ],
   "source": [
    "#Checking if it is having missing values\n",
    "#There is no missing values in categorical variable so we can go ahead in analyzing the categorical\n",
    "#variable \n",
    "df_categorical.isnull().sum()"
   ]
  },
  {
   "cell_type": "code",
   "execution_count": 355,
   "metadata": {},
   "outputs": [
    {
     "data": {
      "text/plain": [
       "<AxesSubplot:xlabel='home_ownership', ylabel='int_rate'>"
      ]
     },
     "execution_count": 355,
     "metadata": {},
     "output_type": "execute_result"
    },
    {
     "data": {
      "image/png": "[encoded data removed]",
      "text/plain": [
       "<Figure size 432x288 with 1 Axes>"
      ]
     },
     "metadata": {
      "needs_background": "light"
     },
     "output_type": "display_data"
    }
   ],
   "source": [
    "# Checking the relationship between int_rate,home_ownership with respect to loan_status\n",
    "sns.barplot(x='home_ownership',y='int_rate',hue='loan_status',data=df_categorical)"
   ]
  },
  {
   "cell_type": "markdown",
   "metadata": {},
   "source": [
    "Conclusion From the Relation:-\n",
    "\n",
    "Charged Off interest_rate are higher than Full_Paid.This is the opportunity for the Bank\n",
    "to take higher interest rate and penalty fee(In My Opinion)\n",
    "\n",
    "Highest Charged Off is For Rented Customers.From this Analysis We can say that there is high\n",
    "chance that they will default on loan "
   ]
  },
  {
   "cell_type": "code",
   "execution_count": 356,
   "metadata": {},
   "outputs": [
    {
     "data": {
      "image/png": "[encoded data removed]",
      "text/plain": [
       "<Figure size 432x288 with 1 Axes>"
      ]
     },
     "metadata": {
      "needs_background": "light"
     },
     "output_type": "display_data"
    }
   ],
   "source": [
    "#Checking the relationship between int_rate,loan_status,purpose\n",
    "sns.barplot(x='purpose',y='int_rate',hue='loan_status',data=df_categorical)\n",
    "plt.title('Checking the association btw purpose and int_rate with respect to loan_status',color='green')\n",
    "plt.xticks(rotation=90)\n",
    "plt.show()"
   ]
  },
  {
   "cell_type": "markdown",
   "metadata": {},
   "source": [
    "Conclusion From the Analysis:-\n",
    "    \n",
    "Highest Charged_Off Are (House,debt_consolidation,small_business,credit_card).So In my opinion\n",
    "bank should focus on this three to four sector to decrease their losses"
   ]
  },
  {
   "cell_type": "code",
   "execution_count": 357,
   "metadata": {},
   "outputs": [
    {
     "data": {
      "text/plain": [
       "<AxesSubplot:xlabel='term', ylabel='int_rate'>"
      ]
     },
     "execution_count": 357,
     "metadata": {},
     "output_type": "execute_result"
    },
    {
     "data": {
      "image/png": "[encoded data removed]",
      "text/plain": [
       "<Figure size 432x288 with 1 Axes>"
      ]
     },
     "metadata": {
      "needs_background": "light"
     },
     "output_type": "display_data"
    }
   ],
   "source": [
    "# Checking the association between term,int_rate,loan_status\n",
    "sns.barplot(x='term',y='int_rate',hue='loan_status',data=df_categorical)"
   ]
  },
  {
   "cell_type": "markdown",
   "metadata": {},
   "source": [
    "Conclusion from this Analysis:-\n",
    "\n",
    "Term with 36 months tend to have a lower_interest_rate for Charged_Off than than term of 60 months."
   ]
  },
  {
   "cell_type": "code",
   "execution_count": 358,
   "metadata": {},
   "outputs": [
    {
     "data": {
      "text/plain": [
       "<AxesSubplot:xlabel='term', ylabel='int_rate'>"
      ]
     },
     "execution_count": 358,
     "metadata": {},
     "output_type": "execute_result"
    },
    {
     "data": {
      "image/png": "[encoded data removed]",
      "text/plain": [
       "<Figure size 432x288 with 1 Axes>"
      ]
     },
     "metadata": {
      "needs_background": "light"
     },
     "output_type": "display_data"
    }
   ],
   "source": [
    "# Checking the association between term and int_rate\n",
    "sns.barplot(x='term',y='int_rate',data=df_categorical)"
   ]
  },
  {
   "cell_type": "markdown",
   "metadata": {},
   "source": [
    "Conclusion From this Analysis:-\n",
    "    \n",
    "So we are right The interest rate for term of 36 months is lower than 60 months."
   ]
  },
  {
   "cell_type": "code",
   "execution_count": 359,
   "metadata": {},
   "outputs": [
    {
     "data": {
      "text/plain": [
       "<AxesSubplot:xlabel='grade', ylabel='int_rate'>"
      ]
     },
     "execution_count": 359,
     "metadata": {},
     "output_type": "execute_result"
    },
    {
     "data": {
      "image/png": "[encoded data removed]",
      "text/plain": [
       "<Figure size 432x288 with 1 Axes>"
      ]
     },
     "metadata": {
      "needs_background": "light"
     },
     "output_type": "display_data"
    }
   ],
   "source": [
    "sns.barplot(x='grade',y='int_rate',hue='loan_status',data=df_categorical)"
   ]
  },
  {
   "cell_type": "code",
   "execution_count": 360,
   "metadata": {},
   "outputs": [
    {
     "data": {
      "image/png": "[encoded data removed]",
      "text/plain": [
       "<Figure size 432x288 with 1 Axes>"
      ]
     },
     "metadata": {
      "needs_background": "light"
     },
     "output_type": "display_data"
    }
   ],
   "source": [
    "sns.barplot(x='sub_grade',y='int_rate',hue='loan_status',data=df_categorical)\n",
    "plt.xticks(rotation=90)\n",
    "plt.show()"
   ]
  },
  {
   "cell_type": "code",
   "execution_count": 361,
   "metadata": {
    "executionInfo": {
     "elapsed": 6371,
     "status": "ok",
     "timestamp": 1619894452997,
     "user": {
      "displayName": "Asif Tandel",
      "photoUrl": "https://lh3.googleusercontent.com/a-/AOh14GjtiZIVj12JyghednmlZINu3BYT52rx0U7dTlruAA=s64",
      "userId": "03386071215589122522"
     },
     "user_tz": -330
    },
    "id": "8wDSRARVNou9"
   },
   "outputs": [],
   "source": [
    "  \n",
    "# This function take a dataframe\n",
    "# as a parameter and returning list\n",
    "# of column names whose contents \n",
    "# are duplicates.\n",
    "def getDuplicateColumns(df):\n",
    "  \n",
    "    # Create an empty set\n",
    "    duplicateColumnNames = set()\n",
    "      \n",
    "    # Iterate through all the columns \n",
    "    # of dataframe\n",
    "    for x in range(df.shape[1]):\n",
    "          \n",
    "        # Take column at xth index.\n",
    "        col = df.iloc[:, x]\n",
    "          \n",
    "        # Iterate through all the columns in\n",
    "        # DataFrame from (x + 1)th index to\n",
    "        # last index\n",
    "        for y in range(x + 1, df.shape[1]):\n",
    "              \n",
    "            # Take column at yth index.\n",
    "            otherCol = df.iloc[:, y]\n",
    "              \n",
    "            # Check if two columns at x & y\n",
    "            # index are equal or not,\n",
    "            # if equal then adding \n",
    "            # to the set\n",
    "            if col.equals(otherCol):\n",
    "                duplicateColumnNames.add(df.columns.values[y])\n",
    "                  \n",
    "    # Return list of unique column names \n",
    "    # whose contents are duplicates.\n",
    "    return list(duplicateColumnNames)"
   ]
  },
  {
   "cell_type": "code",
   "execution_count": 362,
   "metadata": {
    "colab": {
     "base_uri": "https://localhost:8080/"
    },
    "executionInfo": {
     "elapsed": 6360,
     "status": "ok",
     "timestamp": 1619894453001,
     "user": {
      "displayName": "Asif Tandel",
      "photoUrl": "https://lh3.googleusercontent.com/a-/AOh14GjtiZIVj12JyghednmlZINu3BYT52rx0U7dTlruAA=s64",
      "userId": "03386071215589122522"
     },
     "user_tz": -330
    },
    "id": "RXdrZ6jBNygS",
    "outputId": "6f39768a-9c2a-4f79-aab8-092f38cd3f8f"
   },
   "outputs": [
    {
     "data": {
      "text/plain": [
       "['delinq_amnt']"
      ]
     },
     "execution_count": 362,
     "metadata": {},
     "output_type": "execute_result"
    }
   ],
   "source": [
    "getDuplicateColumns(df_numeric)"
   ]
  },
  {
   "cell_type": "code",
   "execution_count": 363,
   "metadata": {
    "colab": {
     "base_uri": "https://localhost:8080/"
    },
    "executionInfo": {
     "elapsed": 635,
     "status": "ok",
     "timestamp": 1619894465041,
     "user": {
      "displayName": "Asif Tandel",
      "photoUrl": "https://lh3.googleusercontent.com/a-/AOh14GjtiZIVj12JyghednmlZINu3BYT52rx0U7dTlruAA=s64",
      "userId": "03386071215589122522"
     },
     "user_tz": -330
    },
    "id": "R3DBs8X_OLi7",
    "outputId": "8ee23122-4778-421b-cf3c-b8051480d5a3"
   },
   "outputs": [
    {
     "name": "stderr",
     "output_type": "stream",
     "text": [
      "C:\\Users\\asif\\Anaconda3\\envs\\imarticus\\lib\\site-packages\\pandas\\core\\frame.py:4174: SettingWithCopyWarning: \n",
      "A value is trying to be set on a copy of a slice from a DataFrame\n",
      "\n",
      "See the caveats in the documentation: https://pandas.pydata.org/pandas-docs/stable/user_guide/indexing.html#returning-a-view-versus-a-copy\n",
      "  errors=errors,\n"
     ]
    }
   ],
   "source": [
    "# Dropping duplicate and irrelevant columns in the data\n",
    "df_numeric.drop(columns=['loan_amnt','delinq_amnt','id'],axis=1,inplace=True)"
   ]
  },
  {
   "cell_type": "code",
   "execution_count": 364,
   "metadata": {},
   "outputs": [],
   "source": [
    "#Using LabelEncoder Object\n",
    "labelencoder=LabelEncoder()"
   ]
  },
  {
   "cell_type": "code",
   "execution_count": 365,
   "metadata": {},
   "outputs": [],
   "source": [
    "# Dropping some of the features which is not useful in interpreting the loan_status \n",
    "df4=df_categorical.copy()\n",
    "df4.drop(['issue_d','earliest_cr_line','zip_code','url'],axis=1,inplace=True)"
   ]
  },
  {
   "cell_type": "code",
   "execution_count": 366,
   "metadata": {},
   "outputs": [
    {
     "data": {
      "text/html": [
       "<div>\n",
       "<style scoped>\n",
       "    .dataframe tbody tr th:only-of-type {\n",
       "        vertical-align: middle;\n",
       "    }\n",
       "\n",
       "    .dataframe tbody tr th {\n",
       "        vertical-align: top;\n",
       "    }\n",
       "\n",
       "    .dataframe thead th {\n",
       "        text-align: right;\n",
       "    }\n",
       "</style>\n",
       "<table border=\"1\" class=\"dataframe\">\n",
       "  <thead>\n",
       "    <tr style=\"text-align: right;\">\n",
       "      <th></th>\n",
       "      <th>term</th>\n",
       "      <th>int_rate</th>\n",
       "      <th>grade</th>\n",
       "      <th>sub_grade</th>\n",
       "      <th>home_ownership</th>\n",
       "      <th>verification_status</th>\n",
       "      <th>loan_status</th>\n",
       "      <th>pymnt_plan</th>\n",
       "      <th>purpose</th>\n",
       "      <th>addr_state</th>\n",
       "      <th>initial_list_status</th>\n",
       "      <th>application_type</th>\n",
       "    </tr>\n",
       "  </thead>\n",
       "  <tbody>\n",
       "  </tbody>\n",
       "</table>\n",
       "</div>"
      ],
      "text/plain": [
       "Empty DataFrame\n",
       "Columns: [term, int_rate, grade, sub_grade, home_ownership, verification_status, loan_status, pymnt_plan, purpose, addr_state, initial_list_status, application_type]\n",
       "Index: []"
      ]
     },
     "execution_count": 366,
     "metadata": {},
     "output_type": "execute_result"
    }
   ],
   "source": [
    "# Checking If it is present or not and as per our data preprocessing steps the labels has been removed\n",
    "df4[df4['loan_status']=='Current']"
   ]
  },
  {
   "cell_type": "code",
   "execution_count": 367,
   "metadata": {},
   "outputs": [],
   "source": [
    "#Encoding Categorical Feature(Very Important Step in this UseCases)\n",
    "df4['addr_state']=labelencoder.fit_transform(df4['addr_state'])\n",
    "df4['sub_grade']=labelencoder.fit_transform(df4['sub_grade'])\n",
    "df4['loan_status']=labelencoder.fit_transform(df4['loan_status'])\n",
    "df4['term']=labelencoder.fit_transform(df4['term'])\n",
    "df4['home_ownership']=labelencoder.fit_transform(df4['home_ownership'])\n",
    "df4['verification_status']=labelencoder.fit_transform(df4['verification_status'])\n",
    "df4['pymnt_plan']=labelencoder.fit_transform(df4['pymnt_plan'])\n",
    "df4['grade']=labelencoder.fit_transform(df4['grade'])\n",
    "df4['purpose']=labelencoder.fit_transform(df4['purpose'])\n",
    "df4['initial_list_status']=labelencoder.fit_transform(df4['initial_list_status'])\n",
    "df4['application_type']=labelencoder.fit_transform(df4['application_type'])"
   ]
  },
  {
   "cell_type": "code",
   "execution_count": 368,
   "metadata": {},
   "outputs": [
    {
     "data": {
      "text/html": [
       "<div>\n",
       "<style scoped>\n",
       "    .dataframe tbody tr th:only-of-type {\n",
       "        vertical-align: middle;\n",
       "    }\n",
       "\n",
       "    .dataframe tbody tr th {\n",
       "        vertical-align: top;\n",
       "    }\n",
       "\n",
       "    .dataframe thead th {\n",
       "        text-align: right;\n",
       "    }\n",
       "</style>\n",
       "<table border=\"1\" class=\"dataframe\">\n",
       "  <thead>\n",
       "    <tr style=\"text-align: right;\">\n",
       "      <th></th>\n",
       "      <th>term</th>\n",
       "      <th>int_rate</th>\n",
       "      <th>grade</th>\n",
       "      <th>sub_grade</th>\n",
       "      <th>home_ownership</th>\n",
       "      <th>verification_status</th>\n",
       "      <th>loan_status</th>\n",
       "      <th>pymnt_plan</th>\n",
       "      <th>purpose</th>\n",
       "      <th>addr_state</th>\n",
       "      <th>initial_list_status</th>\n",
       "      <th>application_type</th>\n",
       "    </tr>\n",
       "  </thead>\n",
       "  <tbody>\n",
       "    <tr>\n",
       "      <th>0</th>\n",
       "      <td>0</td>\n",
       "      <td>10.65</td>\n",
       "      <td>1</td>\n",
       "      <td>6</td>\n",
       "      <td>4</td>\n",
       "      <td>2</td>\n",
       "      <td>1</td>\n",
       "      <td>0</td>\n",
       "      <td>1</td>\n",
       "      <td>3</td>\n",
       "      <td>0</td>\n",
       "      <td>0</td>\n",
       "    </tr>\n",
       "    <tr>\n",
       "      <th>1</th>\n",
       "      <td>1</td>\n",
       "      <td>15.27</td>\n",
       "      <td>2</td>\n",
       "      <td>13</td>\n",
       "      <td>4</td>\n",
       "      <td>1</td>\n",
       "      <td>0</td>\n",
       "      <td>0</td>\n",
       "      <td>0</td>\n",
       "      <td>10</td>\n",
       "      <td>0</td>\n",
       "      <td>0</td>\n",
       "    </tr>\n",
       "    <tr>\n",
       "      <th>2</th>\n",
       "      <td>0</td>\n",
       "      <td>15.96</td>\n",
       "      <td>2</td>\n",
       "      <td>14</td>\n",
       "      <td>4</td>\n",
       "      <td>0</td>\n",
       "      <td>1</td>\n",
       "      <td>0</td>\n",
       "      <td>11</td>\n",
       "      <td>14</td>\n",
       "      <td>0</td>\n",
       "      <td>0</td>\n",
       "    </tr>\n",
       "    <tr>\n",
       "      <th>3</th>\n",
       "      <td>0</td>\n",
       "      <td>13.49</td>\n",
       "      <td>2</td>\n",
       "      <td>10</td>\n",
       "      <td>4</td>\n",
       "      <td>1</td>\n",
       "      <td>1</td>\n",
       "      <td>0</td>\n",
       "      <td>9</td>\n",
       "      <td>4</td>\n",
       "      <td>0</td>\n",
       "      <td>0</td>\n",
       "    </tr>\n",
       "    <tr>\n",
       "      <th>5</th>\n",
       "      <td>0</td>\n",
       "      <td>7.90</td>\n",
       "      <td>0</td>\n",
       "      <td>3</td>\n",
       "      <td>4</td>\n",
       "      <td>1</td>\n",
       "      <td>1</td>\n",
       "      <td>0</td>\n",
       "      <td>13</td>\n",
       "      <td>3</td>\n",
       "      <td>0</td>\n",
       "      <td>0</td>\n",
       "    </tr>\n",
       "  </tbody>\n",
       "</table>\n",
       "</div>"
      ],
      "text/plain": [
       "   term  int_rate  grade  sub_grade  home_ownership  verification_status  \\\n",
       "0     0     10.65      1          6               4                    2   \n",
       "1     1     15.27      2         13               4                    1   \n",
       "2     0     15.96      2         14               4                    0   \n",
       "3     0     13.49      2         10               4                    1   \n",
       "5     0      7.90      0          3               4                    1   \n",
       "\n",
       "   loan_status  pymnt_plan  purpose  addr_state  initial_list_status  \\\n",
       "0            1           0        1           3                    0   \n",
       "1            0           0        0          10                    0   \n",
       "2            1           0       11          14                    0   \n",
       "3            1           0        9           4                    0   \n",
       "5            1           0       13           3                    0   \n",
       "\n",
       "   application_type  \n",
       "0                 0  \n",
       "1                 0  \n",
       "2                 0  \n",
       "3                 0  \n",
       "5                 0  "
      ]
     },
     "execution_count": 368,
     "metadata": {},
     "output_type": "execute_result"
    }
   ],
   "source": [
    "# Checking If it applied or not\n",
    "df4.head()"
   ]
  },
  {
   "cell_type": "code",
   "execution_count": 369,
   "metadata": {},
   "outputs": [
    {
     "data": {
      "text/plain": [
       "0     5627\n",
       "1    32950\n",
       "Name: loan_status, dtype: int64"
      ]
     },
     "execution_count": 369,
     "metadata": {},
     "output_type": "execute_result"
    }
   ],
   "source": [
    "df4['loan_status'].value_counts(ascending=True)"
   ]
  },
  {
   "cell_type": "code",
   "execution_count": 370,
   "metadata": {},
   "outputs": [],
   "source": [
    "df_model=pd.concat([df_numeric,df4],axis=1)"
   ]
  },
  {
   "cell_type": "code",
   "execution_count": 371,
   "metadata": {},
   "outputs": [
    {
     "data": {
      "text/plain": [
       "Index(['member_id', 'funded_amnt', 'funded_amnt_inv', 'installment',\n",
       "       'annual_inc', 'dti', 'delinq_2yrs', 'inq_last_6mths', 'open_acc',\n",
       "       'pub_rec', 'revol_bal', 'total_acc', 'out_prncp', 'out_prncp_inv',\n",
       "       'total_pymnt', 'total_pymnt_inv', 'total_rec_prncp', 'total_rec_int',\n",
       "       'total_rec_late_fee', 'recoveries', 'collection_recovery_fee',\n",
       "       'last_pymnt_amnt', 'policy_code', 'acc_now_delinq', 'term', 'int_rate',\n",
       "       'grade', 'sub_grade', 'home_ownership', 'verification_status',\n",
       "       'loan_status', 'pymnt_plan', 'purpose', 'addr_state',\n",
       "       'initial_list_status', 'application_type'],\n",
       "      dtype='object')"
      ]
     },
     "execution_count": 371,
     "metadata": {},
     "output_type": "execute_result"
    }
   ],
   "source": [
    "df_model.columns"
   ]
  },
  {
   "cell_type": "code",
   "execution_count": 372,
   "metadata": {},
   "outputs": [
    {
     "data": {
      "text/plain": [
       "(39717, 36)"
      ]
     },
     "execution_count": 372,
     "metadata": {},
     "output_type": "execute_result"
    }
   ],
   "source": [
    "df_model.shape"
   ]
  },
  {
   "cell_type": "code",
   "execution_count": 373,
   "metadata": {},
   "outputs": [],
   "source": [
    "df_model.dropna(axis=0,inplace=True)"
   ]
  },
  {
   "cell_type": "code",
   "execution_count": 374,
   "metadata": {},
   "outputs": [
    {
     "data": {
      "text/plain": [
       "member_id                  0\n",
       "funded_amnt                0\n",
       "funded_amnt_inv            0\n",
       "installment                0\n",
       "annual_inc                 0\n",
       "dti                        0\n",
       "delinq_2yrs                0\n",
       "inq_last_6mths             0\n",
       "open_acc                   0\n",
       "pub_rec                    0\n",
       "revol_bal                  0\n",
       "total_acc                  0\n",
       "out_prncp                  0\n",
       "out_prncp_inv              0\n",
       "total_pymnt                0\n",
       "total_pymnt_inv            0\n",
       "total_rec_prncp            0\n",
       "total_rec_int              0\n",
       "total_rec_late_fee         0\n",
       "recoveries                 0\n",
       "collection_recovery_fee    0\n",
       "last_pymnt_amnt            0\n",
       "policy_code                0\n",
       "acc_now_delinq             0\n",
       "term                       0\n",
       "int_rate                   0\n",
       "grade                      0\n",
       "sub_grade                  0\n",
       "home_ownership             0\n",
       "verification_status        0\n",
       "loan_status                0\n",
       "pymnt_plan                 0\n",
       "purpose                    0\n",
       "addr_state                 0\n",
       "initial_list_status        0\n",
       "application_type           0\n",
       "dtype: int64"
      ]
     },
     "execution_count": 374,
     "metadata": {},
     "output_type": "execute_result"
    }
   ],
   "source": [
    "df_model.isnull().sum()"
   ]
  },
  {
   "cell_type": "code",
   "execution_count": 375,
   "metadata": {},
   "outputs": [],
   "source": [
    "X=df_model.drop('loan_status',axis=1)\n",
    "y=df_model['loan_status']"
   ]
  },
  {
   "cell_type": "code",
   "execution_count": 376,
   "metadata": {},
   "outputs": [
    {
     "name": "stdout",
     "output_type": "stream",
     "text": [
      "Before undersampling:  Counter({1.0: 26343, 0.0: 4518})\n",
      "After undersampling:  Counter({0.0: 4518, 1.0: 4518})\n",
      "ROC AUC score for undersampled data:  0.7399382271146416\n"
     ]
    }
   ],
   "source": [
    "# using imblearn(under Sampling)\n",
    "from collections import Counter\n",
    "from imblearn.under_sampling import RandomUnderSampler\n",
    "from sklearn.model_selection import train_test_split\n",
    "#Split train-test data\n",
    "X_train, X_test, y_train, y_test = train_test_split(X,y,test_size=0.20,random_state=1)\n",
    "\n",
    "# summarize class distribution\n",
    "print(\"Before undersampling: \", Counter(y_train))\n",
    "\n",
    "# define undersampling strategy\n",
    "undersample = RandomUnderSampler(sampling_strategy='majority')\n",
    "\n",
    "# fit and apply the transform\n",
    "X_train_under, y_train_under = undersample.fit_resample(X_train, y_train)\n",
    "\n",
    "# summarize class distribution\n",
    "print(\"After undersampling: \", Counter(y_train_under))\n",
    "\n",
    "#PART 2\n",
    "# import SVM libraries \n",
    "from sklearn.svm import SVC\n",
    "from sklearn.metrics import classification_report, roc_auc_score\n",
    "\n",
    "model=SVC()\n",
    "clf_under = model.fit(X_train_under, y_train_under)\n",
    "pred_under = clf_under.predict(X_test)\n",
    "\n",
    "print(\"ROC AUC score for undersampled data: \", roc_auc_score(y_test, pred_under))"
   ]
  },
  {
   "cell_type": "code",
   "execution_count": 377,
   "metadata": {},
   "outputs": [],
   "source": [
    "# OverSampling\n",
    "from imblearn.over_sampling import SMOTE"
   ]
  },
  {
   "cell_type": "code",
   "execution_count": null,
   "metadata": {},
   "outputs": [
    {
     "name": "stdout",
     "output_type": "stream",
     "text": [
      "Before oversampling:  Counter({1.0: 26343, 0.0: 4518})\n",
      "After oversampling:  Counter({1.0: 26343, 0.0: 26343})\n"
     ]
    }
   ],
   "source": [
    "# summarize class distribution\n",
    "from imblearn.over_sampling import SMOTE\n",
    "print(\"Before oversampling: \",Counter(y_train))\n",
    "\n",
    "# define oversampling strategy\n",
    "SMOTE = SMOTE()\n",
    "\n",
    "# fit and apply the transform\n",
    "X_train_SMOTE, y_train_SMOTE = SMOTE.fit_resample(X_train, y_train)\n",
    "\n",
    "# summarize class distribution\n",
    "print(\"After oversampling: \",Counter(y_train_SMOTE))\n",
    "\n",
    "#PART 2\n",
    "# import SVM libraries \n",
    "from sklearn.svm import SVC\n",
    "from sklearn.metrics import classification_report, roc_auc_score\n",
    "\n",
    "model=SVC()\n",
    "clf_SMOTE = model.fit(X_train_SMOTE, y_train_SMOTE)\n",
    "pred_SMOTE = clf_SMOTE.predict(X_test)\n",
    "\n",
    "print(\"ROC AUC score for oversampled SMOTE data: \", roc_auc_score(y_test, pred_SMOTE))"
   ]
  },
  {
   "cell_type": "code",
   "execution_count": null,
   "metadata": {},
   "outputs": [],
   "source": [
    "from imblearn.pipeline import Pipeline\n",
    "from imblearn.over_sampling import SMOTE\n",
    "# define pipeline\n",
    "model = SVC()\n",
    "over = SMOTE(sampling_strategy=0.4,random_state=1)\n",
    "under = RandomUnderSampler(sampling_strategy=0.5,random_state=1)\n",
    "steps = [('o', over), ('u', under), ('model', model)]\n",
    "pipeline = Pipeline(steps=steps)\n",
    "\n",
    "#PART 2\n",
    "# import libraries for evaluation\n",
    "from sklearn.model_selection import cross_val_score\n",
    "from sklearn.metrics import roc_auc_score\n",
    "from numpy import mean\n",
    "\n",
    "# evaluate pipeline\n",
    "scores = cross_val_score(pipeline, X, y, scoring='roc_auc', cv=5, n_jobs=-1)\n",
    "score = mean(scores)\n",
    "print('ROC AUC score for the combined sampling method: %.3f' % score)"
   ]
  },
  {
   "cell_type": "code",
   "execution_count": null,
   "metadata": {},
   "outputs": [],
   "source": [
    "###### from sklearn.pipeline import Pipeline\n",
    "#from sklearn.neighbors import KNeighborsClassifier\n",
    "#over = SMOTE()\n",
    "#under = RandomUnderSampler()\n",
    "#steps = [('over', over), ('under', under),('knn',KNeighborsClassifier()),\n",
    "                              # ('decisiontree',DecisionTreeClassifier()),('rf',RandomForestClassifier())]\n",
    "#pipeline_decision=Pipeline(steps=steps)\n",
    "#pipeline_decision.fit(X_train,y_train)"
   ]
  },
  {
   "cell_type": "code",
   "execution_count": null,
   "metadata": {},
   "outputs": [],
   "source": [
    "from imblearn.over_sampling import SMOTE\n",
    "model_decision=DecisionTreeClassifier()\n",
    "over_decision=SMOTE(sampling_strategy=0.4,random_state=1)\n",
    "under_decision=RandomUnderSampler(sampling_strategy=0.5,random_state=1)\n",
    "steps=[('o',over_decision),('u',under_decision),('model',model_decision)]\n",
    "pipeline_decision=Pipeline(steps=steps)\n",
    "scores_d=cross_val_score(pipeline_decision,X_train,y_train,scoring='roc_auc',cv=5,n_jobs=-1)\n",
    "score_decision=mean(scores_d)\n",
    "print('ROC AUC score for the combined sampling method: %.3f' % score_decision)"
   ]
  },
  {
   "cell_type": "code",
   "execution_count": null,
   "metadata": {},
   "outputs": [],
   "source": []
  },
  {
   "cell_type": "markdown",
   "metadata": {},
   "source": [
    "# How do I know which sampling ratio is the best?"
   ]
  },
  {
   "cell_type": "markdown",
   "metadata": {},
   "source": [
    "In the tutorial above, we either under- or/and oversample the data to have a balanced 50:50 distribution of both classes. But what if we want to find out the best sampling ratio based on the model performance? We can do this by implementing a for loops in Python to iterate a possible list of sampling ratio and see which combination has the best performance based on the mean ROC AUC score (or other performance metrics of choice) after cross-validation.\n",
    "\n",
    "The code snippet shows you the codes to create a pipeline to resample the data using both under- and oversampling method. The list of possible ratios for oversampling is [0.3,0.4,0.5] while for undersampling [0.7,0.6,0.5]. These ratios are selected randomly for demonstration purposes and can be replaced with other values after some trial and error. The Support Vector Machine is then trained with the resampled data for every possible pair of the ratios combination before outputting the mean ROC AUC score after cross-validation."
   ]
  },
  {
   "cell_type": "code",
   "execution_count": null,
   "metadata": {},
   "outputs": [],
   "source": [
    "# values to evaluate\n",
    "#over_values = [0.3,0.4,0.5]\n",
    "#under_values = [0.7,0.6,0.5]\n",
    "#for o in over_values:\n",
    "#    for u in under_values:\n",
    "#        # define pipeline\n",
    "#        model = SVC()\n",
    "#        over = SMOTE(sampling_strategy=o)\n",
    "#        under = RandomUnderSampler(sampling_strategy=u)\n",
    "#        steps = [('over', over), ('under', under), ('model', model)]\n",
    "#        pipeline = Pipeline(steps=steps)\n",
    "#        # evaluate pipeline\n",
    "#        scores = cross_val_score(pipeline, X, y, scoring='roc_auc', cv=5, n_jobs=-1)\n",
    "#        score = mean(scores)\n",
    "#        print('SMOTE oversampling rate:%.1f, Random undersampling rate:%.1f , Mean ROC AUC: %.3f' % (o, u, score))\n"
   ]
  },
  {
   "cell_type": "code",
   "execution_count": null,
   "metadata": {},
   "outputs": [],
   "source": [
    "print('The shape of the X_train and y_train is:',X_train.shape,y_train.shape)\n",
    "print('The shape of the X_test and y_test is:',X_test.shape,y_test.shape)"
   ]
  },
  {
   "cell_type": "code",
   "execution_count": null,
   "metadata": {},
   "outputs": [],
   "source": [
    "from imblearn.over_sampling import SMOTE\n",
    "from imblearn.pipeline import Pipeline\n",
    "from imblearn.under_sampling import RandomUnderSampler\n",
    "over_rf=SMOTE(sampling_strategy=0.4,random_state=1)\n",
    "#under_rf=RandomUnderSampler()\n",
    "steps=[('o',over_rf),('model',RandomForestClassifier(random_state=1))]\n",
    "#pipeline_rf=Pipeline(steps=steps)"
   ]
  },
  {
   "cell_type": "code",
   "execution_count": null,
   "metadata": {},
   "outputs": [],
   "source": [
    "from sklearn.metrics import accuracy_score,confusion_matrix,roc_auc_score,auc,classification_report\n",
    "class Model_Building_Pipelines:\n",
    "    def __init__(self,Pipeline):\n",
    "        over_rf=SMOTE(sampling_strategy=0.4,random_state=1)\n",
    "        steps=[('o',over_rf),('model',RandomForestClassifier(random_state=1))]\n",
    "        print('----Building Pipelines----')\n",
    "        print()\n",
    "        self.Pipeline=Pipeline\n",
    "    def fit_data(self,features,targets):\n",
    "        print()\n",
    "        print('----Fitting the Data to the Model')\n",
    "        Pipeline=self.Pipeline.fit(features,targets)\n",
    "        return Pipeline\n",
    "    \n",
    "    def predict_data(self,data):\n",
    "        print()\n",
    "        self.y_pred=self.Pipeline.predict(data)\n",
    "    def result_training_data(self,y_true,y_pred):\n",
    "        print()\n",
    "        print('-----RESULT OF TRAINING DATA-----')\n",
    "        print()\n",
    "        print('-----Accuracy score for Training Data-----')\n",
    "        accuracy_score_train=accuracy_score(y_true,self.Pipeline.predict(y_pred))\n",
    "        print(accuracy_score_train)\n",
    "        print()\n",
    "        print('-----Confusion Matrix for Training Data-----')\n",
    "        print()\n",
    "        confusion_matrix_train=confusion_matrix(y_true,self.Pipeline.predict(y_pred))\n",
    "        print(confusion_matrix_train)\n",
    "        print()\n",
    "        print('-----Classification Report of Training Data-----')\n",
    "        classification_report_train=classification_report(y_true,self.Pipeline.predict(y_pred))\n",
    "        print(classification_report_train)\n",
    "        print()\n",
    "        print('-----roc_auc_score of Training Data------')\n",
    "        roc_auc_score_train=roc_auc_score(y_true,self.Pipeline.predict(y_pred))\n",
    "        print(roc_auc_score_train)\n",
    "        print()\n",
    "    def result_testing_data(self,y_true,y_pred):\n",
    "        print('-----RESULT OF TESTING DATA-----')\n",
    "        print('-----Accuracy score for Testing Data-----')\n",
    "        accuracy_score_test=accuracy_score(y_true,self.y_pred)\n",
    "        print(accuracy_score_test)\n",
    "        print()\n",
    "        print('-----Confusion Matrix for Testing Data-----')\n",
    "        confusion_matrix_test=confusion_matrix(y_true,self.y_pred)\n",
    "        print(confusion_matrix_test)\n",
    "        print()\n",
    "        print('-----Classification Report of Testing Data-----')\n",
    "        classification_report_test=classification_report(y_true,self.y_pred)\n",
    "        print(classification_report_test)\n",
    "        print()\n",
    "        print('-----roc_auc_score of Testing Data------')\n",
    "        roc_auc_score_test=roc_auc_score(y_true,self.y_pred)\n",
    "        print(roc_auc_score_test)\n",
    "        \n",
    "    def predict_probability(self,data):\n",
    "        print('--Predicting the Probability of the Model')\n",
    "        probability=self.Pipeline.predict_proba(data)\n",
    "        return probability"
   ]
  },
  {
   "cell_type": "code",
   "execution_count": null,
   "metadata": {},
   "outputs": [],
   "source": [
    "Pipeline_rf1=Model_Building_Pipelines(Pipeline(steps=steps))\n",
    "Pipeline_rf1.fit_data(X_train,y_train)\n",
    "y_pred_pipeline=Pipeline_rf1.predict_data(X_test)\n",
    "Pipeline_rf1.result_training_data(y_train,X_train)\n",
    "Pipeline_rf1.result_testing_data(y_test,y_pred_pipeline)"
   ]
  },
  {
   "cell_type": "code",
   "execution_count": null,
   "metadata": {},
   "outputs": [],
   "source": [
    "#Old Code\n",
    "#pipeline_rf.fit(X_train,y_train)"
   ]
  },
  {
   "cell_type": "code",
   "execution_count": null,
   "metadata": {},
   "outputs": [],
   "source": [
    "#Old Code\n",
    "#y_pred=pipeline_rf.predict(X_test)"
   ]
  },
  {
   "cell_type": "code",
   "execution_count": null,
   "metadata": {},
   "outputs": [],
   "source": [
    "class Tuning_Pipelines:\n",
    "    def __init__(self,Pipeline):\n",
    "        self.Pipeline=Pipeline\n",
    "    def params(self,param_grid):\n",
    "        self.param_grid=param_grid\n",
    "        return self.param_grid\n",
    "    def fit_data_1(self,features,targets):\n",
    "        self.Pipeline=GridSearchCV(self.Pipeline,param_grid=self.param_grid,scoring='f1',cv=5,n_jobs=-1)\n",
    "        self.Pipeline=self.Pipeline.fit(features,targets)\n",
    "        return self.Pipeline\n",
    "    def predict_data_1(self,data):\n",
    "        y_pred=self.Pipeline.predict(data)\n",
    "    \n",
    "    def result_training_data_1(self,y_true,y_pred):\n",
    "        print()\n",
    "        print('-----RESULT OF TRAINING DATA-----')\n",
    "        print()\n",
    "        print('-----Accuracy score for Training Data-----')\n",
    "        accuracy_score_train=accuracy_score(y_true,self.Pipeline.predict(y_pred))\n",
    "        print(accuracy_score_train)\n",
    "        print()\n",
    "        print('-----Confusion Matrix for Training Data-----')\n",
    "        print()\n",
    "        confusion_matrix_train=confusion_matrix(y_true,self.Pipeline.predict(y_pred))\n",
    "        print(confusion_matrix_train)\n",
    "        print()\n",
    "        print('-----Classification Report of Training Data-----')\n",
    "        classification_report_train=classification_report(y_true,self.Pipeline.predict(y_pred))\n",
    "        print(classification_report_train)\n",
    "        print()\n",
    "        print('-----roc_auc_score of Training Data------')\n",
    "        roc_auc_score_train=roc_auc_score(y_true,self.Pipeline.predict(y_pred))\n",
    "        print(roc_auc_score_train)\n",
    "        print()\n",
    "    def result_testing_data_1(self,y_true,y_pred):\n",
    "        print('-----RESULT OF TESTING DATA-----')\n",
    "        print('-----Accuracy score for Testing Data-----')\n",
    "        accuracy_score_test=accuracy_score(y_true,y_pred)\n",
    "        print(accuracy_score_test)\n",
    "        print()\n",
    "        print('-----Confusion Matrix for Testing Data-----')\n",
    "        confusion_matrix_test=confusion_matrix(y_true,y_pred)\n",
    "        print(confusion_matrix_test)\n",
    "        print()\n",
    "        print('-----Classification Report of Testing Data-----')\n",
    "        classification_report_test=classification_report(y_true,y_pred)\n",
    "        print(classification_report_test)\n",
    "        print()\n",
    "        print('-----roc_auc_score of Testing Data------')\n",
    "        roc_auc_score_test=roc_auc_score(y_true,y_pred)\n",
    "        print(roc_auc_score_test)\n",
    "        \n",
    "    def predict_probability_1(self,data):\n",
    "        print('--Predicting the Probability of the Model')\n",
    "        probability=self.Pipeline.predict_proba(data)\n",
    "        return probability"
   ]
  },
  {
   "cell_type": "code",
   "execution_count": null,
   "metadata": {},
   "outputs": [],
   "source": [
    "class Model_Tuning:\n",
    "    def __init__(self,Model):\n",
    "        print('-----BUILDING THE MODEL-----')\n",
    "        self.Model=Model\n",
    "    \n",
    "    def params(self,param_grid):\n",
    "        print('----SETTING THE PARAMS-------')\n",
    "        self.param_grid=param_grid\n",
    "        return self.param_grid\n",
    "\n",
    "    def fit_data(self,features,targets):\n",
    "        print('----FITTING THE MODEL-----')\n",
    "        self.Model=GridSearchCV(self.Model,param_grid=self.param_grid,scoring='f1',cv=5,verbose=3,n_jobs=-1)\n",
    "        self.Model=self.Model.fit(features,targets)\n",
    "        return self.Model\n",
    "    \n",
    "    def predict_data(self,data):\n",
    "        print('----PREDICTING THE MODEL----')\n",
    "        self.y_pred=self.Model.predict(data)\n",
    "    \n",
    "    def result_training_data(self,y_true,y_pred):\n",
    "        print()\n",
    "        print('-----RESULT OF TRAINING DATA-----')\n",
    "        print()\n",
    "        print('-----Accuracy score for Training Data-----')\n",
    "        accuracy_score_train=accuracy_score(y_true,self.Model.predict(y_pred))\n",
    "        print(accuracy_score_train)\n",
    "        print()\n",
    "        print('-----Confusion Matrix for Training Data-----')\n",
    "        print()\n",
    "        confusion_matrix_train=confusion_matrix(y_true,self.Model.predict(y_pred))\n",
    "        print(confusion_matrix_train)\n",
    "        print()\n",
    "        print('-----Classification Report of Training Data-----')\n",
    "        classification_report_train=classification_report(y_true,self.Model.predict(y_pred))\n",
    "        print(classification_report_train)\n",
    "        print()\n",
    "        print('-----roc_auc_score of Training Data------')\n",
    "        roc_auc_score_train=roc_auc_score(y_true,self.Model.predict(y_pred))\n",
    "        print(roc_auc_score_train)\n",
    "        print()\n",
    "    def result_testing_data(self,y_true,y_pred):\n",
    "        print('-----RESULT OF TESTING DATA-----')\n",
    "        print('-----Accuracy score for Testing Data-----')\n",
    "        accuracy_score_test=accuracy_score(y_true,self.y_pred)\n",
    "        print(accuracy_score_test)\n",
    "        print()\n",
    "        print('-----Confusion Matrix for Testing Data-----')\n",
    "        confusion_matrix_test=confusion_matrix(y_true,self.y_pred)\n",
    "        print(confusion_matrix_test)\n",
    "        print()\n",
    "        print('-----Classification Report of Testing Data-----')\n",
    "        classification_report_test=classification_report(y_true,self.y_pred)\n",
    "        print(classification_report_test)\n",
    "        print()\n",
    "        print('-----roc_auc_score of Testing Data------')\n",
    "        roc_auc_score_test=roc_auc_score(y_true,self.y_pred)\n",
    "        print(roc_auc_score_test)\n",
    "        \n",
    "    def predict_probability(self,data):\n",
    "        print('--Predicting the Probability of the Model')\n",
    "        probability=self.Model.predict_proba(data)\n",
    "        return probability"
   ]
  },
  {
   "cell_type": "code",
   "execution_count": null,
   "metadata": {},
   "outputs": [],
   "source": [
    "clf_decision=Model_Tuning(DecisionTreeClassifier())\n",
    "clf_decision.params(param_grid={\n",
    "    'max_depth':np.arange(2,7,1),\n",
    "    'ccp_alpha':np.arange(0.1,1,0.1)\n",
    "})\n",
    "clf_decision.fit_data(X_train,y_train)\n",
    "y_pred=clf_decision.predict_data(X_test)\n",
    "clf_decision.result_training_data(y_train,X_train)\n",
    "clf_decision.result_testing_data(y_test,y_pred)"
   ]
  },
  {
   "cell_type": "code",
   "execution_count": null,
   "metadata": {},
   "outputs": [],
   "source": [
    "clf_decision.fit_data(X_train,y_train)"
   ]
  },
  {
   "cell_type": "code",
   "execution_count": null,
   "metadata": {},
   "outputs": [],
   "source": [
    "Pipeline_grid=Tuning_Pipelines(Pipeline(steps=steps))\n",
    "Pipeline_grid.params(param_grid={\n",
    "    'Pipeline_grid__max_depth':np.arange(2,7,1),\n",
    "    'Pipeline_grid__ccp_alpha':np.arange(0.1,1,0.1)})"
   ]
  },
  {
   "cell_type": "code",
   "execution_count": null,
   "metadata": {},
   "outputs": [],
   "source": [
    "#Pipeline_grid.fit_data_1(X_train,y_train)"
   ]
  },
  {
   "cell_type": "code",
   "execution_count": null,
   "metadata": {},
   "outputs": [],
   "source": [
    "#y_pred=Pipeline_grid.predict_data_1(X_test)\n",
    "#Pipeline_grid.result_training_data_1(y_train,X_train)\n",
    "#Pipeline_grid.result_testing_data_1(y_test,y_pred)"
   ]
  },
  {
   "cell_type": "code",
   "execution_count": null,
   "metadata": {},
   "outputs": [],
   "source": [
    "###Now we are tuning the RandomForestModel(old code)\n",
    "#from sklearn.ensemble import RandomForestClassifier\n",
    "#param_grid=({\n",
    "#   'model__max_depth':np.arange(2,5,1),\n",
    "#    'model__ccp_alpha':np.arange(0,1,0.1)\n",
    "#})"
   ]
  },
  {
   "cell_type": "code",
   "execution_count": null,
   "metadata": {},
   "outputs": [],
   "source": [
    "#from sklearn.model_selection import GridSearchCV\n",
    "#from sklearn.pipeline import Pipeline\n",
    "#pipeline_rf_grid=GridSearchCV(pipeline_rf,param_grid=param_grid,scoring='roc_auc',cv=5,\n",
    "                              #verbose=3,n_jobs=-1)"
   ]
  },
  {
   "cell_type": "code",
   "execution_count": null,
   "metadata": {},
   "outputs": [],
   "source": [
    "#pipeline_rf_grid.fit(X_train,y_train)"
   ]
  },
  {
   "cell_type": "code",
   "execution_count": null,
   "metadata": {},
   "outputs": [],
   "source": [
    "print(pipeline_rf_grid.best_params_)"
   ]
  },
  {
   "cell_type": "code",
   "execution_count": null,
   "metadata": {},
   "outputs": [],
   "source": [
    "y_pred_grid=pipeline_rf_grid.predict(X_test)"
   ]
  },
  {
   "cell_type": "code",
   "execution_count": null,
   "metadata": {},
   "outputs": [],
   "source": [
    "def metrics_results_gridsearch():\n",
    "    accuracy_score_train=metrics.accuracy_score(y_train,pipeline_rf_grid.predict(X_train))\n",
    "    print(accuracy_score_train)\n",
    "    accuracy_score_test=metrics.accuracy_score(y_test,y_pred_grid)\n",
    "    print(accuracy_score_test)\n",
    "    classification_report_train=metrics.classification_report(y_train,pipeline_rf_grid.predict(X_train))\n",
    "    print(classification_report_train)\n",
    "    classification_report_test=metrics.classification_report(y_test,y_pred_grid)\n",
    "    print(classification_report_test)\n",
    "    confusion_matrix_train=metrics.confusion_matrix(y_train,pipeline_rf_grid.predict(X_train))\n",
    "    print(confusion_matrix_train)\n",
    "    confusion_matrix_test=metrics.confusion_matrix(y_test,y_pred_grid)\n",
    "    print(confusion_matrix_test)\n",
    "    roc_auc_score_train=metrics.roc_auc_score(y_train,pipeline_rf_grid.predict(X_train))\n",
    "    print(roc_auc_score_train)\n",
    "    roc_auc_score_test=metrics.roc_auc_score(y_test,y_pred_grid)\n",
    "    print(roc_auc_score_test)"
   ]
  },
  {
   "cell_type": "code",
   "execution_count": null,
   "metadata": {},
   "outputs": [],
   "source": [
    "metrics_results_gridsearch()"
   ]
  },
  {
   "cell_type": "code",
   "execution_count": null,
   "metadata": {},
   "outputs": [],
   "source": [
    "from imblearn.pipeline import Pipeline\n",
    "under_rf=RandomUnderSampler(sampling_strategy=0.5)\n",
    "steps=[('under_rf',under_rf),('model_rf',RandomForestClassifier(random_state=1))]\n",
    "pipeline_under=Pipeline(steps=steps)\n",
    "pipeline_under.fit(X_train,y_train)\n",
    "y_pred_un=pipeline_under.predict(X_test)"
   ]
  },
  {
   "cell_type": "code",
   "execution_count": null,
   "metadata": {},
   "outputs": [],
   "source": [
    "y_pred_un"
   ]
  },
  {
   "cell_type": "code",
   "execution_count": null,
   "metadata": {},
   "outputs": [],
   "source": [
    "from sklearn.metrics import confusion_matrix\n",
    "def metrics_result_undersampling():\n",
    "    confusion_matrix_train=confusion_matrix(y_train,pipeline_under.predict(X_train))\n",
    "    print('-------------CONFUSION MATRIX FOR TRAIN DATASET----------------')\n",
    "    print(confusion_matrix_train)\n",
    "    print('-------------CONFUSION MATRIX FOR TESTING DATASET--------------')\n",
    "    confusion_matrix_test=confusion_matrix(y_test,y_pred_un)\n",
    "    print(confusion_matrix_test)\n",
    "    classification_report_train=metrics.classification_report(y_train,pipeline_under.predict(X_train))\n",
    "    print(classification_report_train)\n",
    "    classification_report_test=metrics.classification_report(y_test,y_pred_un)\n",
    "    print(classification_report_test)\n",
    "    roc_auc_score_train=metrics.roc_auc_score(y_train,pipeline_under.predict(X_train))\n",
    "    print(roc_auc_score_train)\n",
    "    roc_auc_score_test=metrics.roc_auc_score(y_test,y_pred_un)\n",
    "    print(roc_auc_score_test)"
   ]
  },
  {
   "cell_type": "code",
   "execution_count": null,
   "metadata": {},
   "outputs": [],
   "source": [
    "metrics_result_undersampling()"
   ]
  },
  {
   "cell_type": "code",
   "execution_count": null,
   "metadata": {},
   "outputs": [],
   "source": [
    "\"\"\"Now HyperParameter Tuning the Model\"\"\"\n",
    "param_grid=({\n",
    "    'model_rf__max_depth':np.arange(1,5,2),\n",
    "    'model_rf__min_samples_split':np.arange(0,1,0.1)\n",
    "})"
   ]
  },
  {
   "cell_type": "code",
   "execution_count": null,
   "metadata": {},
   "outputs": [],
   "source": [
    "pipeline_under_grid=GridSearchCV(pipeline_under,param_grid=param_grid,scoring='roc_auc',cv=5,verbose=5)\n",
    "pipeline_under_grid.fit(X_train,y_train)"
   ]
  },
  {
   "cell_type": "code",
   "execution_count": null,
   "metadata": {},
   "outputs": [],
   "source": [
    "y_pred_un_grid=pipeline_under_grid.predict(X_test)\n",
    "y_pred_un_grid"
   ]
  },
  {
   "cell_type": "code",
   "execution_count": null,
   "metadata": {},
   "outputs": [],
   "source": [
    "def metrics_under_gridsearch():\n",
    "    confusion_matrix_train=confusion_matrix(y_train,pipeline_under_grid.predict(X_train))\n",
    "    print('-------------CONFUSION MATRIX FOR TRAIN DATASET----------------')\n",
    "    print(confusion_matrix_train)\n",
    "    print('-------------CONFUSION MATRIX FOR TESTING DATASET--------------')\n",
    "    confusion_matrix_test=confusion_matrix(y_test,y_pred_un_grid)\n",
    "    print(confusion_matrix_test)\n",
    "    classification_report_train=metrics.classification_report(y_train,pipeline_under_grid.predict(X_train))\n",
    "    print(classification_report_train)\n",
    "    classification_report_test=metrics.classification_report(y_test,y_pred_un_grid)\n",
    "    print(classification_report_test)\n",
    "    roc_auc_score_train=metrics.roc_auc_score(y_train,pipeline_under_grid.predict(X_train))\n",
    "    print(roc_auc_score_train)\n",
    "    roc_auc_score_test=metrics.roc_auc_score(y_test,y_pred_un_grid)\n",
    "    print(roc_auc_score_test)"
   ]
  },
  {
   "cell_type": "code",
   "execution_count": null,
   "metadata": {},
   "outputs": [],
   "source": [
    "metrics_under_gridsearch()"
   ]
  },
  {
   "cell_type": "markdown",
   "metadata": {},
   "source": [
    "# How to Save and Load ML Models\n",
    "\n",
    "WHAT On various instances, while working on developing a Machine Learning Model, we'll need to save our prediction models to file, and then restore them in order to reuse our previous work to.\n",
    "\n",
    "WHY We need to save and restore/reload later our ML Model , so as to -\n",
    "\n",
    "a) test our model on/with new data,\n",
    "\n",
    "b) compare multiple models,\n",
    "\n",
    "c) or anything else.\n",
    "\n",
    "object serialization This process / procedure of saving a ML Model is also known as object serialization - representing an object with a stream of bytes, in order to store it on disk, send it over a network or save to a database.\n",
    "\n",
    "deserialization While the restoring/reloading of ML Model procedure is known as deserialization.\n",
    "\n",
    "In this we will explore 3 ways to Save and Reload ML Models in Python and scikit-learn, we will also discuss about the pros and cons of each method.\n",
    "\n",
    "\n",
    "We will be covering following 3 approaches of Saving and Reloading a ML Model -\n",
    "\n",
    "1) Pickle Approach\n",
    "\n",
    "2) Joblib Approach\n",
    "\n",
    "3) Manual Save and Restore to JSON approach\n",
    "\n",
    "Now , lets develop a ML Model which we shall use to Save and Reload in this Kernel"
   ]
  },
  {
   "cell_type": "markdown",
   "metadata": {},
   "source": [
    "Approach 1 : Pickle approach\n",
    "\n",
    "Following lines of code, the Pickled_Model which we created in the previous step is saved to file, and then loaded as a new object called Pickled_Model.\n",
    "\n",
    "The loaded model is then used to calculate the accuracy score and predict outcomes on new unseen (test) data."
   ]
  },
  {
   "cell_type": "code",
   "execution_count": null,
   "metadata": {},
   "outputs": [],
   "source": [
    "# Save the Modle to file in the current working directory\n",
    "import pickle\n",
    "PKL_Filename='filemodel.pkl'\n",
    "with open(PKL_Filename,'wb') as file:\n",
    "    pickle.dump(pipeline_rf,file)"
   ]
  },
  {
   "cell_type": "code",
   "execution_count": null,
   "metadata": {},
   "outputs": [],
   "source": []
  },
  {
   "cell_type": "code",
   "execution_count": null,
   "metadata": {},
   "outputs": [],
   "source": [
    "# Load the Model back from file\n",
    "with open('filemodel.pkl','rb') as file:\n",
    "    Pickled_Model=pickle.load(file)"
   ]
  },
  {
   "cell_type": "code",
   "execution_count": null,
   "metadata": {},
   "outputs": [],
   "source": [
    "Pickled_Model"
   ]
  },
  {
   "cell_type": "code",
   "execution_count": null,
   "metadata": {},
   "outputs": [],
   "source": [
    "# Use the Reloaded Model to \n",
    "# Calculate the accuracy score and predict target values\n",
    "\n",
    "# Calculate the Score \n",
    "score_1=Pickled_Model.score(X_train,y_train)\n",
    "score_2 = Pickled_Model.score(X_test, y_test)  \n",
    "# Print the Score\n",
    "print(\"Train Score:{0:.2f} %\".format(100 * score_1))\n",
    "print(\"Test score: {0:.2f} %\".format(100 * score_2))  \n",
    "\n",
    "# Predict the Labels using the reloaded Model\n",
    "Ypredict = Pickled_Model.predict(X_test)  \n",
    "\n",
    "Ypredict"
   ]
  },
  {
   "cell_type": "markdown",
   "metadata": {},
   "source": [
    "Let's Reflect back on Pickle approach :\n",
    "\n",
    "PROs of Pickle :\n",
    "\n",
    "1) save and restore our learning models is quick - we can do it in two lines of code.\n",
    "\n",
    "2) It is useful if you have optimized the model's parameters on the training data, so you don't need to repeat this step again.\n",
    "\n",
    "CONs of Pickle :\n",
    "\n",
    "1) it doesn't save the test results or any data."
   ]
  },
  {
   "cell_type": "markdown",
   "metadata": {},
   "source": [
    "Approach 2 - Joblib :\n",
    "\n",
    "The Joblib Module is available from Scikit Learn package and is intended to be a replacement for Pickle, for objects containing large data.\n",
    "\n",
    "This approach will save our ML Model in the pickle format only but we dont need to load additional libraries as the 'Pickling' facility is available within Scikit Learn package itself which we will use invariably for developing our ML models.\n",
    "\n",
    "In following Python scripts , we will show how to Saev and reload ML Models using Joblib"
   ]
  },
  {
   "cell_type": "code",
   "execution_count": null,
   "metadata": {},
   "outputs": [],
   "source": [
    "import joblib"
   ]
  },
  {
   "cell_type": "code",
   "execution_count": null,
   "metadata": {},
   "outputs": [],
   "source": [
    "#Dumping the model using joblib in the current directory\n",
    "joblib_filename='joblib_Model.pkl'\n",
    "Joblib_Model=joblib.dump(pipeline_rf,joblib_filename)"
   ]
  },
  {
   "cell_type": "code",
   "execution_count": null,
   "metadata": {},
   "outputs": [],
   "source": [
    "# Loading the model in the current directory\n",
    "Joblib_Model_load=joblib.load(joblib_filename)"
   ]
  },
  {
   "cell_type": "code",
   "execution_count": null,
   "metadata": {},
   "outputs": [],
   "source": [
    "Joblib_Model_load"
   ]
  },
  {
   "cell_type": "code",
   "execution_count": null,
   "metadata": {},
   "outputs": [],
   "source": [
    "#Checking accuracy score\n",
    "\n",
    "Joblib_Model_train=Joblib_Model_load.score(X_train,y_train)\n",
    "Joblib_Model_test=Joblib_Model_load.score(X_test,y_test)\n",
    "# Print the Score\n",
    "print(\"Train Score:{0:.2f} %\".format(100 * Joblib_Model_train))\n",
    "print(\"Test score: {0:.2f} %\".format(100 * Joblib_Model_test))  \n",
    "\n",
    "# Predict the Labels using the reloaded Model\n",
    "Ypredict = Joblib_Model_load.predict(X_test)  \n",
    "\n",
    "Ypredict"
   ]
  },
  {
   "cell_type": "markdown",
   "metadata": {},
   "source": [
    "Let's Reflect back on Joblib approach :\n",
    "\n",
    "PROs of Joblib :\n",
    "\n",
    "1) the Joblib library offers a bit simpler workflow compared to Pickle.\n",
    "\n",
    "2) While Pickle requires a file object to be passed as an argument, Joblib works with both file objects and string filenames.\n",
    "\n",
    "3) In case our model contains large arrays of data, each array will be stored in a separate file, but the save and restore procedure will remain the same.\n",
    "\n",
    "4) Joblib also allows different compression methods, such as 'zlib', 'gzip', 'bz2', and different levels of compression."
   ]
  }
 ],
 "metadata": {
  "colab": {
   "authorship_tag": "ABX9TyOzGgtPmGGUKQYVz34GhW1w",
   "collapsed_sections": [],
   "name": "Loan Case Study.ipynb",
   "provenance": []
  },
  "kernelspec": {
   "display_name": "Anaconda (imarticus)",
   "language": "python",
   "name": "anaconda-imarticus"
  },
  "language_info": {
   "codemirror_mode": {
    "name": "ipython",
    "version": 3
   },
   "file_extension": ".py",
   "mimetype": "text/x-python",
   "name": "python",
   "nbconvert_exporter": "python",
   "pygments_lexer": "ipython3",
   "version": "3.6.9"
  }
 },
 "nbformat": 4,
 "nbformat_minor": 1
}
