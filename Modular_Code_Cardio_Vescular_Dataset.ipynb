{
 "cells": [
  {
   "cell_type": "markdown",
   "metadata": {
    "id": "nosj2F2ds6Ix"
   },
   "source": [
    "PROBLEM STATEMENT:-\n",
    "\n",
    "We need to predict the absence of cardio vescular disease on the basis of some independent features\n"
   ]
  },
  {
   "cell_type": "markdown",
   "metadata": {
    "id": "s8kdrvsrs6JE"
   },
   "source": [
    "Dataset Description:-\n",
    "    \n",
    "There are 3 types of input features:\n",
    "\n",
    "Objective: factual information;\n",
    "    \n",
    "Examination: results of medical examination;\n",
    "    \n",
    "Subjective: information given by the patient.\n",
    "    \n",
    "Features:\n",
    "\n",
    "1. Age | Objective Feature | age | int (days)\n",
    "\n",
    "2. Height | Objective Feature | height | int (cm) |\n",
    "\n",
    "3. Weight | Objective Feature | weight | float (kg) |\n",
    "\n",
    "4. Gender | Objective Feature | gender | categorical code |\n",
    "\n",
    "5. Systolic blood pressure | Examination Feature | ap_hi | int |\n",
    "\n",
    "6. Diastolic blood pressure | Examination Feature | ap_lo | int |\n",
    "\n",
    "7. Cholesterol | Examination Feature | cholesterol | 1: normal, 2: above normal, 3: well above normal |\n",
    "8. Glucose | Examination Feature | gluc | 1: normal, 2: above normal, 3: well above normal |\n",
    "\n",
    "9. Smoking | Subjective Feature | smoke | binary |\n",
    "\n",
    "10. Alcohol intake | Subjective Feature | alco | binary |\n",
    "\n",
    "11. Physical activity | Subjective Feature | active | binary |\n",
    "\n",
    "Target Variable:-\n",
    "\n",
    "12. Presence or absence of cardiovascular disease | Target Variable | cardio | binary |"
   ]
  },
  {
   "cell_type": "code",
   "execution_count": 2,
   "metadata": {
    "id": "4eSAIzmBs6JI"
   },
   "outputs": [],
   "source": [
    "#Importing all the necessary libraries\n",
    "import pandas as pd\n",
    "from sklearn.preprocessing import OneHotEncoder,LabelEncoder\n",
    "from sklearn.model_selection import train_test_split\n",
    "from sklearn.linear_model import LogisticRegression\n",
    "from sklearn.tree import DecisionTreeClassifier\n",
    "from sklearn.metrics import accuracy_score,classification_report,roc_auc_score,confusion_matrix,roc_curve\n",
    "from sklearn.model_selection import GridSearchCV\n",
    "#from skopt import BayesSearchCV"
   ]
  },
  {
   "cell_type": "code",
   "execution_count": 3,
   "metadata": {
    "colab": {
     "base_uri": "https://localhost:8080/"
    },
    "id": "FjgUCjNctSn_",
    "outputId": "5b0d8827-a249-47f0-c174-b96f0f1f3745"
   },
   "outputs": [],
   "source": [
    "#!pip install scikit-optimize"
   ]
  },
  {
   "cell_type": "code",
   "execution_count": 4,
   "metadata": {
    "id": "82IPd6tHs6JP"
   },
   "outputs": [],
   "source": [
    "#Importing the dataset into the notebook\n",
    "#Creating A Cleaning Class\n",
    "class FirstProcess:\n",
    "        def __init__(self):\n",
    "            pass\n",
    "    \n",
    "        def loading_data(self,filename):\n",
    "            \"\"\"Loading the data\"\"\"\n",
    "            df=pd.read_csv(filename,sep=';')\n",
    "            return df\n"
   ]
  },
  {
   "cell_type": "code",
   "execution_count": 5,
   "metadata": {
    "colab": {
     "base_uri": "https://localhost:8080/",
     "height": 419
    },
    "id": "zxOEB8hes6JQ",
    "outputId": "a3fc56ce-221c-4905-ebd6-2b62465256de"
   },
   "outputs": [
    {
     "data": {
      "text/html": [
       "<div>\n",
       "<style scoped>\n",
       "    .dataframe tbody tr th:only-of-type {\n",
       "        vertical-align: middle;\n",
       "    }\n",
       "\n",
       "    .dataframe tbody tr th {\n",
       "        vertical-align: top;\n",
       "    }\n",
       "\n",
       "    .dataframe thead th {\n",
       "        text-align: right;\n",
       "    }\n",
       "</style>\n",
       "<table border=\"1\" class=\"dataframe\">\n",
       "  <thead>\n",
       "    <tr style=\"text-align: right;\">\n",
       "      <th></th>\n",
       "      <th>id</th>\n",
       "      <th>age</th>\n",
       "      <th>gender</th>\n",
       "      <th>height</th>\n",
       "      <th>weight</th>\n",
       "      <th>ap_hi</th>\n",
       "      <th>ap_lo</th>\n",
       "      <th>cholesterol</th>\n",
       "      <th>gluc</th>\n",
       "      <th>smoke</th>\n",
       "      <th>alco</th>\n",
       "      <th>active</th>\n",
       "      <th>cardio</th>\n",
       "    </tr>\n",
       "  </thead>\n",
       "  <tbody>\n",
       "    <tr>\n",
       "      <th>0</th>\n",
       "      <td>0</td>\n",
       "      <td>18393</td>\n",
       "      <td>2</td>\n",
       "      <td>168</td>\n",
       "      <td>62.0</td>\n",
       "      <td>110</td>\n",
       "      <td>80</td>\n",
       "      <td>1</td>\n",
       "      <td>1</td>\n",
       "      <td>0</td>\n",
       "      <td>0</td>\n",
       "      <td>1</td>\n",
       "      <td>0</td>\n",
       "    </tr>\n",
       "    <tr>\n",
       "      <th>1</th>\n",
       "      <td>1</td>\n",
       "      <td>20228</td>\n",
       "      <td>1</td>\n",
       "      <td>156</td>\n",
       "      <td>85.0</td>\n",
       "      <td>140</td>\n",
       "      <td>90</td>\n",
       "      <td>3</td>\n",
       "      <td>1</td>\n",
       "      <td>0</td>\n",
       "      <td>0</td>\n",
       "      <td>1</td>\n",
       "      <td>1</td>\n",
       "    </tr>\n",
       "    <tr>\n",
       "      <th>2</th>\n",
       "      <td>2</td>\n",
       "      <td>18857</td>\n",
       "      <td>1</td>\n",
       "      <td>165</td>\n",
       "      <td>64.0</td>\n",
       "      <td>130</td>\n",
       "      <td>70</td>\n",
       "      <td>3</td>\n",
       "      <td>1</td>\n",
       "      <td>0</td>\n",
       "      <td>0</td>\n",
       "      <td>0</td>\n",
       "      <td>1</td>\n",
       "    </tr>\n",
       "    <tr>\n",
       "      <th>3</th>\n",
       "      <td>3</td>\n",
       "      <td>17623</td>\n",
       "      <td>2</td>\n",
       "      <td>169</td>\n",
       "      <td>82.0</td>\n",
       "      <td>150</td>\n",
       "      <td>100</td>\n",
       "      <td>1</td>\n",
       "      <td>1</td>\n",
       "      <td>0</td>\n",
       "      <td>0</td>\n",
       "      <td>1</td>\n",
       "      <td>1</td>\n",
       "    </tr>\n",
       "    <tr>\n",
       "      <th>4</th>\n",
       "      <td>4</td>\n",
       "      <td>17474</td>\n",
       "      <td>1</td>\n",
       "      <td>156</td>\n",
       "      <td>56.0</td>\n",
       "      <td>100</td>\n",
       "      <td>60</td>\n",
       "      <td>1</td>\n",
       "      <td>1</td>\n",
       "      <td>0</td>\n",
       "      <td>0</td>\n",
       "      <td>0</td>\n",
       "      <td>0</td>\n",
       "    </tr>\n",
       "    <tr>\n",
       "      <th>...</th>\n",
       "      <td>...</td>\n",
       "      <td>...</td>\n",
       "      <td>...</td>\n",
       "      <td>...</td>\n",
       "      <td>...</td>\n",
       "      <td>...</td>\n",
       "      <td>...</td>\n",
       "      <td>...</td>\n",
       "      <td>...</td>\n",
       "      <td>...</td>\n",
       "      <td>...</td>\n",
       "      <td>...</td>\n",
       "      <td>...</td>\n",
       "    </tr>\n",
       "    <tr>\n",
       "      <th>69995</th>\n",
       "      <td>99993</td>\n",
       "      <td>19240</td>\n",
       "      <td>2</td>\n",
       "      <td>168</td>\n",
       "      <td>76.0</td>\n",
       "      <td>120</td>\n",
       "      <td>80</td>\n",
       "      <td>1</td>\n",
       "      <td>1</td>\n",
       "      <td>1</td>\n",
       "      <td>0</td>\n",
       "      <td>1</td>\n",
       "      <td>0</td>\n",
       "    </tr>\n",
       "    <tr>\n",
       "      <th>69996</th>\n",
       "      <td>99995</td>\n",
       "      <td>22601</td>\n",
       "      <td>1</td>\n",
       "      <td>158</td>\n",
       "      <td>126.0</td>\n",
       "      <td>140</td>\n",
       "      <td>90</td>\n",
       "      <td>2</td>\n",
       "      <td>2</td>\n",
       "      <td>0</td>\n",
       "      <td>0</td>\n",
       "      <td>1</td>\n",
       "      <td>1</td>\n",
       "    </tr>\n",
       "    <tr>\n",
       "      <th>69997</th>\n",
       "      <td>99996</td>\n",
       "      <td>19066</td>\n",
       "      <td>2</td>\n",
       "      <td>183</td>\n",
       "      <td>105.0</td>\n",
       "      <td>180</td>\n",
       "      <td>90</td>\n",
       "      <td>3</td>\n",
       "      <td>1</td>\n",
       "      <td>0</td>\n",
       "      <td>1</td>\n",
       "      <td>0</td>\n",
       "      <td>1</td>\n",
       "    </tr>\n",
       "    <tr>\n",
       "      <th>69998</th>\n",
       "      <td>99998</td>\n",
       "      <td>22431</td>\n",
       "      <td>1</td>\n",
       "      <td>163</td>\n",
       "      <td>72.0</td>\n",
       "      <td>135</td>\n",
       "      <td>80</td>\n",
       "      <td>1</td>\n",
       "      <td>2</td>\n",
       "      <td>0</td>\n",
       "      <td>0</td>\n",
       "      <td>0</td>\n",
       "      <td>1</td>\n",
       "    </tr>\n",
       "    <tr>\n",
       "      <th>69999</th>\n",
       "      <td>99999</td>\n",
       "      <td>20540</td>\n",
       "      <td>1</td>\n",
       "      <td>170</td>\n",
       "      <td>72.0</td>\n",
       "      <td>120</td>\n",
       "      <td>80</td>\n",
       "      <td>2</td>\n",
       "      <td>1</td>\n",
       "      <td>0</td>\n",
       "      <td>0</td>\n",
       "      <td>1</td>\n",
       "      <td>0</td>\n",
       "    </tr>\n",
       "  </tbody>\n",
       "</table>\n",
       "<p>70000 rows × 13 columns</p>\n",
       "</div>"
      ],
      "text/plain": [
       "          id    age  gender  height  weight  ap_hi  ap_lo  cholesterol  gluc  \\\n",
       "0          0  18393       2     168    62.0    110     80            1     1   \n",
       "1          1  20228       1     156    85.0    140     90            3     1   \n",
       "2          2  18857       1     165    64.0    130     70            3     1   \n",
       "3          3  17623       2     169    82.0    150    100            1     1   \n",
       "4          4  17474       1     156    56.0    100     60            1     1   \n",
       "...      ...    ...     ...     ...     ...    ...    ...          ...   ...   \n",
       "69995  99993  19240       2     168    76.0    120     80            1     1   \n",
       "69996  99995  22601       1     158   126.0    140     90            2     2   \n",
       "69997  99996  19066       2     183   105.0    180     90            3     1   \n",
       "69998  99998  22431       1     163    72.0    135     80            1     2   \n",
       "69999  99999  20540       1     170    72.0    120     80            2     1   \n",
       "\n",
       "       smoke  alco  active  cardio  \n",
       "0          0     0       1       0  \n",
       "1          0     0       1       1  \n",
       "2          0     0       0       1  \n",
       "3          0     0       1       1  \n",
       "4          0     0       0       0  \n",
       "...      ...   ...     ...     ...  \n",
       "69995      1     0       1       0  \n",
       "69996      0     0       1       1  \n",
       "69997      0     1       0       1  \n",
       "69998      0     0       0       1  \n",
       "69999      0     0       1       0  \n",
       "\n",
       "[70000 rows x 13 columns]"
      ]
     },
     "execution_count": 5,
     "metadata": {},
     "output_type": "execute_result"
    }
   ],
   "source": [
    "#Checking the shape of the dataset\n",
    "a=FirstProcess()\n",
    "df=a.loading_data('cardio_train.csv')\n",
    "df"
   ]
  },
  {
   "cell_type": "code",
   "execution_count": 6,
   "metadata": {
    "colab": {
     "base_uri": "https://localhost:8080/",
     "height": 204
    },
    "id": "jYusVayEs6JS",
    "outputId": "16f7b123-596b-45e2-a36d-4f49e088a903"
   },
   "outputs": [
    {
     "data": {
      "text/html": [
       "<div>\n",
       "<style scoped>\n",
       "    .dataframe tbody tr th:only-of-type {\n",
       "        vertical-align: middle;\n",
       "    }\n",
       "\n",
       "    .dataframe tbody tr th {\n",
       "        vertical-align: top;\n",
       "    }\n",
       "\n",
       "    .dataframe thead th {\n",
       "        text-align: right;\n",
       "    }\n",
       "</style>\n",
       "<table border=\"1\" class=\"dataframe\">\n",
       "  <thead>\n",
       "    <tr style=\"text-align: right;\">\n",
       "      <th></th>\n",
       "      <th>id</th>\n",
       "      <th>age</th>\n",
       "      <th>gender</th>\n",
       "      <th>height</th>\n",
       "      <th>weight</th>\n",
       "      <th>ap_hi</th>\n",
       "      <th>ap_lo</th>\n",
       "      <th>cholesterol</th>\n",
       "      <th>gluc</th>\n",
       "      <th>smoke</th>\n",
       "      <th>alco</th>\n",
       "      <th>active</th>\n",
       "      <th>cardio</th>\n",
       "    </tr>\n",
       "  </thead>\n",
       "  <tbody>\n",
       "    <tr>\n",
       "      <th>0</th>\n",
       "      <td>0</td>\n",
       "      <td>50.391781</td>\n",
       "      <td>2</td>\n",
       "      <td>168</td>\n",
       "      <td>62.0</td>\n",
       "      <td>110</td>\n",
       "      <td>80</td>\n",
       "      <td>1</td>\n",
       "      <td>1</td>\n",
       "      <td>0</td>\n",
       "      <td>0</td>\n",
       "      <td>1</td>\n",
       "      <td>0</td>\n",
       "    </tr>\n",
       "    <tr>\n",
       "      <th>1</th>\n",
       "      <td>1</td>\n",
       "      <td>55.419178</td>\n",
       "      <td>1</td>\n",
       "      <td>156</td>\n",
       "      <td>85.0</td>\n",
       "      <td>140</td>\n",
       "      <td>90</td>\n",
       "      <td>3</td>\n",
       "      <td>1</td>\n",
       "      <td>0</td>\n",
       "      <td>0</td>\n",
       "      <td>1</td>\n",
       "      <td>1</td>\n",
       "    </tr>\n",
       "    <tr>\n",
       "      <th>2</th>\n",
       "      <td>2</td>\n",
       "      <td>51.663014</td>\n",
       "      <td>1</td>\n",
       "      <td>165</td>\n",
       "      <td>64.0</td>\n",
       "      <td>130</td>\n",
       "      <td>70</td>\n",
       "      <td>3</td>\n",
       "      <td>1</td>\n",
       "      <td>0</td>\n",
       "      <td>0</td>\n",
       "      <td>0</td>\n",
       "      <td>1</td>\n",
       "    </tr>\n",
       "    <tr>\n",
       "      <th>3</th>\n",
       "      <td>3</td>\n",
       "      <td>48.282192</td>\n",
       "      <td>2</td>\n",
       "      <td>169</td>\n",
       "      <td>82.0</td>\n",
       "      <td>150</td>\n",
       "      <td>100</td>\n",
       "      <td>1</td>\n",
       "      <td>1</td>\n",
       "      <td>0</td>\n",
       "      <td>0</td>\n",
       "      <td>1</td>\n",
       "      <td>1</td>\n",
       "    </tr>\n",
       "    <tr>\n",
       "      <th>4</th>\n",
       "      <td>4</td>\n",
       "      <td>47.873973</td>\n",
       "      <td>1</td>\n",
       "      <td>156</td>\n",
       "      <td>56.0</td>\n",
       "      <td>100</td>\n",
       "      <td>60</td>\n",
       "      <td>1</td>\n",
       "      <td>1</td>\n",
       "      <td>0</td>\n",
       "      <td>0</td>\n",
       "      <td>0</td>\n",
       "      <td>0</td>\n",
       "    </tr>\n",
       "  </tbody>\n",
       "</table>\n",
       "</div>"
      ],
      "text/plain": [
       "   id        age  gender  height  weight  ap_hi  ap_lo  cholesterol  gluc  \\\n",
       "0   0  50.391781       2     168    62.0    110     80            1     1   \n",
       "1   1  55.419178       1     156    85.0    140     90            3     1   \n",
       "2   2  51.663014       1     165    64.0    130     70            3     1   \n",
       "3   3  48.282192       2     169    82.0    150    100            1     1   \n",
       "4   4  47.873973       1     156    56.0    100     60            1     1   \n",
       "\n",
       "   smoke  alco  active  cardio  \n",
       "0      0     0       1       0  \n",
       "1      0     0       1       1  \n",
       "2      0     0       0       1  \n",
       "3      0     0       1       1  \n",
       "4      0     0       0       0  "
      ]
     },
     "execution_count": 6,
     "metadata": {},
     "output_type": "execute_result"
    }
   ],
   "source": [
    "# Converting age(in days) to age in years by dividing it by 1 years=365 converting_some_data(df,'age')\n",
    "df['age']=df['age']/365\n",
    "df.head()"
   ]
  },
  {
   "cell_type": "code",
   "execution_count": 7,
   "metadata": {
    "id": "cASdstUls6JT"
   },
   "outputs": [],
   "source": [
    "# Changing rename of the columns\n",
    "df.rename(columns={\"gluc\":\"glucose\",\"smoke\":\"Smoking\",\"alco\":\"Alcohol\",\"active\":\"Physical_Activity\",\n",
    "                   \"cardio\":\"cardio_vascular_disease\"},inplace=True)"
   ]
  },
  {
   "cell_type": "code",
   "execution_count": 8,
   "metadata": {
    "id": "WLsWBaBPs6JU"
   },
   "outputs": [],
   "source": [
    "#Dropping id because it is a irrelevant columns\n",
    "df.drop('id',axis=1,inplace=True)"
   ]
  },
  {
   "cell_type": "code",
   "execution_count": 9,
   "metadata": {
    "colab": {
     "base_uri": "https://localhost:8080/"
    },
    "id": "sFztq5W7s6JV",
    "outputId": "f0ca8643-774e-44e0-aab6-0b8a393d9516"
   },
   "outputs": [
    {
     "data": {
      "text/plain": [
       "age                        0\n",
       "gender                     0\n",
       "height                     0\n",
       "weight                     0\n",
       "ap_hi                      0\n",
       "ap_lo                      0\n",
       "cholesterol                0\n",
       "glucose                    0\n",
       "Smoking                    0\n",
       "Alcohol                    0\n",
       "Physical_Activity          0\n",
       "cardio_vascular_disease    0\n",
       "dtype: int64"
      ]
     },
     "execution_count": 9,
     "metadata": {},
     "output_type": "execute_result"
    }
   ],
   "source": [
    "# Checking the missing values of the dataset\n",
    "df.isnull().sum()"
   ]
  },
  {
   "cell_type": "code",
   "execution_count": 10,
   "metadata": {
    "id": "5Qlef6crs6JW"
   },
   "outputs": [],
   "source": [
    "# Checking Anomalies in the dataset(In any columns)\n",
    "class Anomalies:\n",
    "    def __init__(self):\n",
    "        pass\n",
    "\n",
    "    def check_anomalies(self,df,columns):\n",
    "        df=df[df[columns]<0]\n",
    "        return df"
   ]
  },
  {
   "cell_type": "code",
   "execution_count": 11,
   "metadata": {
    "colab": {
     "base_uri": "https://localhost:8080/",
     "height": 69
    },
    "id": "DlgLYf0Ss6JX",
    "outputId": "7fc82ed2-8367-4d68-d0f5-3467ccbf8124"
   },
   "outputs": [
    {
     "data": {
      "text/html": [
       "<div>\n",
       "<style scoped>\n",
       "    .dataframe tbody tr th:only-of-type {\n",
       "        vertical-align: middle;\n",
       "    }\n",
       "\n",
       "    .dataframe tbody tr th {\n",
       "        vertical-align: top;\n",
       "    }\n",
       "\n",
       "    .dataframe thead th {\n",
       "        text-align: right;\n",
       "    }\n",
       "</style>\n",
       "<table border=\"1\" class=\"dataframe\">\n",
       "  <thead>\n",
       "    <tr style=\"text-align: right;\">\n",
       "      <th></th>\n",
       "      <th>age</th>\n",
       "      <th>gender</th>\n",
       "      <th>height</th>\n",
       "      <th>weight</th>\n",
       "      <th>ap_hi</th>\n",
       "      <th>ap_lo</th>\n",
       "      <th>cholesterol</th>\n",
       "      <th>glucose</th>\n",
       "      <th>Smoking</th>\n",
       "      <th>Alcohol</th>\n",
       "      <th>Physical_Activity</th>\n",
       "      <th>cardio_vascular_disease</th>\n",
       "    </tr>\n",
       "  </thead>\n",
       "  <tbody>\n",
       "  </tbody>\n",
       "</table>\n",
       "</div>"
      ],
      "text/plain": [
       "Empty DataFrame\n",
       "Columns: [age, gender, height, weight, ap_hi, ap_lo, cholesterol, glucose, Smoking, Alcohol, Physical_Activity, cardio_vascular_disease]\n",
       "Index: []"
      ]
     },
     "execution_count": 11,
     "metadata": {},
     "output_type": "execute_result"
    }
   ],
   "source": [
    "a=Anomalies()\n",
    "a.check_anomalies(df,'glucose')"
   ]
  },
  {
   "cell_type": "code",
   "execution_count": 12,
   "metadata": {
    "colab": {
     "base_uri": "https://localhost:8080/",
     "height": 69
    },
    "id": "afoPC3zXs6JY",
    "outputId": "a4629bdf-f68d-47af-de98-cbcc88cfd5dc"
   },
   "outputs": [
    {
     "data": {
      "text/html": [
       "<div>\n",
       "<style scoped>\n",
       "    .dataframe tbody tr th:only-of-type {\n",
       "        vertical-align: middle;\n",
       "    }\n",
       "\n",
       "    .dataframe tbody tr th {\n",
       "        vertical-align: top;\n",
       "    }\n",
       "\n",
       "    .dataframe thead th {\n",
       "        text-align: right;\n",
       "    }\n",
       "</style>\n",
       "<table border=\"1\" class=\"dataframe\">\n",
       "  <thead>\n",
       "    <tr style=\"text-align: right;\">\n",
       "      <th></th>\n",
       "      <th>age</th>\n",
       "      <th>gender</th>\n",
       "      <th>height</th>\n",
       "      <th>weight</th>\n",
       "      <th>ap_hi</th>\n",
       "      <th>ap_lo</th>\n",
       "      <th>cholesterol</th>\n",
       "      <th>glucose</th>\n",
       "      <th>Smoking</th>\n",
       "      <th>Alcohol</th>\n",
       "      <th>Physical_Activity</th>\n",
       "      <th>cardio_vascular_disease</th>\n",
       "    </tr>\n",
       "  </thead>\n",
       "  <tbody>\n",
       "  </tbody>\n",
       "</table>\n",
       "</div>"
      ],
      "text/plain": [
       "Empty DataFrame\n",
       "Columns: [age, gender, height, weight, ap_hi, ap_lo, cholesterol, glucose, Smoking, Alcohol, Physical_Activity, cardio_vascular_disease]\n",
       "Index: []"
      ]
     },
     "execution_count": 12,
     "metadata": {},
     "output_type": "execute_result"
    }
   ],
   "source": [
    "a.check_anomalies(df,'weight')"
   ]
  },
  {
   "cell_type": "code",
   "execution_count": 13,
   "metadata": {
    "colab": {
     "base_uri": "https://localhost:8080/",
     "height": 286
    },
    "id": "XZxSzem6s6JZ",
    "outputId": "a1228bd4-f07f-4562-92e6-14a71b726f64"
   },
   "outputs": [
    {
     "data": {
      "text/html": [
       "<div>\n",
       "<style scoped>\n",
       "    .dataframe tbody tr th:only-of-type {\n",
       "        vertical-align: middle;\n",
       "    }\n",
       "\n",
       "    .dataframe tbody tr th {\n",
       "        vertical-align: top;\n",
       "    }\n",
       "\n",
       "    .dataframe thead th {\n",
       "        text-align: right;\n",
       "    }\n",
       "</style>\n",
       "<table border=\"1\" class=\"dataframe\">\n",
       "  <thead>\n",
       "    <tr style=\"text-align: right;\">\n",
       "      <th></th>\n",
       "      <th>age</th>\n",
       "      <th>gender</th>\n",
       "      <th>height</th>\n",
       "      <th>weight</th>\n",
       "      <th>ap_hi</th>\n",
       "      <th>ap_lo</th>\n",
       "      <th>cholesterol</th>\n",
       "      <th>glucose</th>\n",
       "      <th>Smoking</th>\n",
       "      <th>Alcohol</th>\n",
       "      <th>Physical_Activity</th>\n",
       "      <th>cardio_vascular_disease</th>\n",
       "    </tr>\n",
       "  </thead>\n",
       "  <tbody>\n",
       "    <tr>\n",
       "      <th>4607</th>\n",
       "      <td>41.865753</td>\n",
       "      <td>1</td>\n",
       "      <td>165</td>\n",
       "      <td>78.0</td>\n",
       "      <td>-100</td>\n",
       "      <td>80</td>\n",
       "      <td>2</td>\n",
       "      <td>1</td>\n",
       "      <td>0</td>\n",
       "      <td>0</td>\n",
       "      <td>1</td>\n",
       "      <td>0</td>\n",
       "    </tr>\n",
       "    <tr>\n",
       "      <th>16021</th>\n",
       "      <td>60.569863</td>\n",
       "      <td>2</td>\n",
       "      <td>161</td>\n",
       "      <td>90.0</td>\n",
       "      <td>-115</td>\n",
       "      <td>70</td>\n",
       "      <td>1</td>\n",
       "      <td>1</td>\n",
       "      <td>0</td>\n",
       "      <td>0</td>\n",
       "      <td>1</td>\n",
       "      <td>0</td>\n",
       "    </tr>\n",
       "    <tr>\n",
       "      <th>20536</th>\n",
       "      <td>42.687671</td>\n",
       "      <td>1</td>\n",
       "      <td>153</td>\n",
       "      <td>54.0</td>\n",
       "      <td>-100</td>\n",
       "      <td>70</td>\n",
       "      <td>1</td>\n",
       "      <td>1</td>\n",
       "      <td>0</td>\n",
       "      <td>0</td>\n",
       "      <td>1</td>\n",
       "      <td>0</td>\n",
       "    </tr>\n",
       "    <tr>\n",
       "      <th>23988</th>\n",
       "      <td>50.139726</td>\n",
       "      <td>1</td>\n",
       "      <td>162</td>\n",
       "      <td>74.0</td>\n",
       "      <td>-140</td>\n",
       "      <td>90</td>\n",
       "      <td>1</td>\n",
       "      <td>1</td>\n",
       "      <td>0</td>\n",
       "      <td>0</td>\n",
       "      <td>1</td>\n",
       "      <td>1</td>\n",
       "    </tr>\n",
       "    <tr>\n",
       "      <th>25240</th>\n",
       "      <td>40.304110</td>\n",
       "      <td>2</td>\n",
       "      <td>168</td>\n",
       "      <td>50.0</td>\n",
       "      <td>-120</td>\n",
       "      <td>80</td>\n",
       "      <td>2</td>\n",
       "      <td>1</td>\n",
       "      <td>0</td>\n",
       "      <td>0</td>\n",
       "      <td>0</td>\n",
       "      <td>1</td>\n",
       "    </tr>\n",
       "    <tr>\n",
       "      <th>35040</th>\n",
       "      <td>63.904110</td>\n",
       "      <td>2</td>\n",
       "      <td>168</td>\n",
       "      <td>59.0</td>\n",
       "      <td>-150</td>\n",
       "      <td>80</td>\n",
       "      <td>1</td>\n",
       "      <td>1</td>\n",
       "      <td>0</td>\n",
       "      <td>0</td>\n",
       "      <td>1</td>\n",
       "      <td>1</td>\n",
       "    </tr>\n",
       "    <tr>\n",
       "      <th>46627</th>\n",
       "      <td>64.783562</td>\n",
       "      <td>2</td>\n",
       "      <td>160</td>\n",
       "      <td>59.0</td>\n",
       "      <td>-120</td>\n",
       "      <td>80</td>\n",
       "      <td>1</td>\n",
       "      <td>1</td>\n",
       "      <td>0</td>\n",
       "      <td>0</td>\n",
       "      <td>0</td>\n",
       "      <td>0</td>\n",
       "    </tr>\n",
       "  </tbody>\n",
       "</table>\n",
       "</div>"
      ],
      "text/plain": [
       "             age  gender  height  weight  ap_hi  ap_lo  cholesterol  glucose  \\\n",
       "4607   41.865753       1     165    78.0   -100     80            2        1   \n",
       "16021  60.569863       2     161    90.0   -115     70            1        1   \n",
       "20536  42.687671       1     153    54.0   -100     70            1        1   \n",
       "23988  50.139726       1     162    74.0   -140     90            1        1   \n",
       "25240  40.304110       2     168    50.0   -120     80            2        1   \n",
       "35040  63.904110       2     168    59.0   -150     80            1        1   \n",
       "46627  64.783562       2     160    59.0   -120     80            1        1   \n",
       "\n",
       "       Smoking  Alcohol  Physical_Activity  cardio_vascular_disease  \n",
       "4607         0        0                  1                        0  \n",
       "16021        0        0                  1                        0  \n",
       "20536        0        0                  1                        0  \n",
       "23988        0        0                  1                        1  \n",
       "25240        0        0                  0                        1  \n",
       "35040        0        0                  1                        1  \n",
       "46627        0        0                  0                        0  "
      ]
     },
     "execution_count": 13,
     "metadata": {},
     "output_type": "execute_result"
    }
   ],
   "source": [
    "a.check_anomalies(df,'ap_hi')"
   ]
  },
  {
   "cell_type": "code",
   "execution_count": 14,
   "metadata": {
    "colab": {
     "base_uri": "https://localhost:8080/",
     "height": 100
    },
    "id": "z_Q1_7gls6Jb",
    "outputId": "9550ce6f-9ddc-4acb-d736-0ecc67a13b1f"
   },
   "outputs": [
    {
     "data": {
      "text/html": [
       "<div>\n",
       "<style scoped>\n",
       "    .dataframe tbody tr th:only-of-type {\n",
       "        vertical-align: middle;\n",
       "    }\n",
       "\n",
       "    .dataframe tbody tr th {\n",
       "        vertical-align: top;\n",
       "    }\n",
       "\n",
       "    .dataframe thead th {\n",
       "        text-align: right;\n",
       "    }\n",
       "</style>\n",
       "<table border=\"1\" class=\"dataframe\">\n",
       "  <thead>\n",
       "    <tr style=\"text-align: right;\">\n",
       "      <th></th>\n",
       "      <th>age</th>\n",
       "      <th>gender</th>\n",
       "      <th>height</th>\n",
       "      <th>weight</th>\n",
       "      <th>ap_hi</th>\n",
       "      <th>ap_lo</th>\n",
       "      <th>cholesterol</th>\n",
       "      <th>glucose</th>\n",
       "      <th>Smoking</th>\n",
       "      <th>Alcohol</th>\n",
       "      <th>Physical_Activity</th>\n",
       "      <th>cardio_vascular_disease</th>\n",
       "    </tr>\n",
       "  </thead>\n",
       "  <tbody>\n",
       "    <tr>\n",
       "      <th>60106</th>\n",
       "      <td>61.838356</td>\n",
       "      <td>1</td>\n",
       "      <td>167</td>\n",
       "      <td>74.0</td>\n",
       "      <td>15</td>\n",
       "      <td>-70</td>\n",
       "      <td>1</td>\n",
       "      <td>1</td>\n",
       "      <td>0</td>\n",
       "      <td>0</td>\n",
       "      <td>1</td>\n",
       "      <td>1</td>\n",
       "    </tr>\n",
       "  </tbody>\n",
       "</table>\n",
       "</div>"
      ],
      "text/plain": [
       "             age  gender  height  weight  ap_hi  ap_lo  cholesterol  glucose  \\\n",
       "60106  61.838356       1     167    74.0     15    -70            1        1   \n",
       "\n",
       "       Smoking  Alcohol  Physical_Activity  cardio_vascular_disease  \n",
       "60106        0        0                  1                        1  "
      ]
     },
     "execution_count": 14,
     "metadata": {},
     "output_type": "execute_result"
    }
   ],
   "source": [
    "a.check_anomalies(df,'ap_lo')"
   ]
  },
  {
   "cell_type": "code",
   "execution_count": 15,
   "metadata": {
    "id": "aUmp54bts6Jc"
   },
   "outputs": [],
   "source": [
    "#df.drop(index=[4607,16021,20536,23988,25240,35040,46627],inplace=True)"
   ]
  },
  {
   "cell_type": "code",
   "execution_count": 16,
   "metadata": {
    "id": "9zc9XTBls6Jc"
   },
   "outputs": [],
   "source": [
    "#df.drop(index=[60106],inplace=True)"
   ]
  },
  {
   "cell_type": "code",
   "execution_count": 17,
   "metadata": {
    "colab": {
     "base_uri": "https://localhost:8080/",
     "height": 69
    },
    "id": "samVMnChs6Jd",
    "outputId": "9344ce7b-b8e3-4348-c510-e85f48f19d42"
   },
   "outputs": [
    {
     "data": {
      "text/html": [
       "<div>\n",
       "<style scoped>\n",
       "    .dataframe tbody tr th:only-of-type {\n",
       "        vertical-align: middle;\n",
       "    }\n",
       "\n",
       "    .dataframe tbody tr th {\n",
       "        vertical-align: top;\n",
       "    }\n",
       "\n",
       "    .dataframe thead th {\n",
       "        text-align: right;\n",
       "    }\n",
       "</style>\n",
       "<table border=\"1\" class=\"dataframe\">\n",
       "  <thead>\n",
       "    <tr style=\"text-align: right;\">\n",
       "      <th></th>\n",
       "      <th>age</th>\n",
       "      <th>gender</th>\n",
       "      <th>height</th>\n",
       "      <th>weight</th>\n",
       "      <th>ap_hi</th>\n",
       "      <th>ap_lo</th>\n",
       "      <th>cholesterol</th>\n",
       "      <th>glucose</th>\n",
       "      <th>Smoking</th>\n",
       "      <th>Alcohol</th>\n",
       "      <th>Physical_Activity</th>\n",
       "      <th>cardio_vascular_disease</th>\n",
       "    </tr>\n",
       "  </thead>\n",
       "  <tbody>\n",
       "  </tbody>\n",
       "</table>\n",
       "</div>"
      ],
      "text/plain": [
       "Empty DataFrame\n",
       "Columns: [age, gender, height, weight, ap_hi, ap_lo, cholesterol, glucose, Smoking, Alcohol, Physical_Activity, cardio_vascular_disease]\n",
       "Index: []"
      ]
     },
     "execution_count": 17,
     "metadata": {},
     "output_type": "execute_result"
    }
   ],
   "source": [
    "a.check_anomalies(df,'cholesterol')"
   ]
  },
  {
   "cell_type": "code",
   "execution_count": 18,
   "metadata": {
    "colab": {
     "base_uri": "https://localhost:8080/",
     "height": 69
    },
    "id": "9UOnL2kss6Je",
    "outputId": "bd500013-0df9-425f-fb52-d13b90faf383"
   },
   "outputs": [
    {
     "data": {
      "text/html": [
       "<div>\n",
       "<style scoped>\n",
       "    .dataframe tbody tr th:only-of-type {\n",
       "        vertical-align: middle;\n",
       "    }\n",
       "\n",
       "    .dataframe tbody tr th {\n",
       "        vertical-align: top;\n",
       "    }\n",
       "\n",
       "    .dataframe thead th {\n",
       "        text-align: right;\n",
       "    }\n",
       "</style>\n",
       "<table border=\"1\" class=\"dataframe\">\n",
       "  <thead>\n",
       "    <tr style=\"text-align: right;\">\n",
       "      <th></th>\n",
       "      <th>age</th>\n",
       "      <th>gender</th>\n",
       "      <th>height</th>\n",
       "      <th>weight</th>\n",
       "      <th>ap_hi</th>\n",
       "      <th>ap_lo</th>\n",
       "      <th>cholesterol</th>\n",
       "      <th>glucose</th>\n",
       "      <th>Smoking</th>\n",
       "      <th>Alcohol</th>\n",
       "      <th>Physical_Activity</th>\n",
       "      <th>cardio_vascular_disease</th>\n",
       "    </tr>\n",
       "  </thead>\n",
       "  <tbody>\n",
       "  </tbody>\n",
       "</table>\n",
       "</div>"
      ],
      "text/plain": [
       "Empty DataFrame\n",
       "Columns: [age, gender, height, weight, ap_hi, ap_lo, cholesterol, glucose, Smoking, Alcohol, Physical_Activity, cardio_vascular_disease]\n",
       "Index: []"
      ]
     },
     "execution_count": 18,
     "metadata": {},
     "output_type": "execute_result"
    }
   ],
   "source": [
    "a.check_anomalies(df,'Smoking')"
   ]
  },
  {
   "cell_type": "code",
   "execution_count": 19,
   "metadata": {
    "colab": {
     "base_uri": "https://localhost:8080/",
     "height": 69
    },
    "id": "YMciEMpYs6Jg",
    "outputId": "ecec0be7-2e27-4620-9463-3adfde813d05"
   },
   "outputs": [
    {
     "data": {
      "text/html": [
       "<div>\n",
       "<style scoped>\n",
       "    .dataframe tbody tr th:only-of-type {\n",
       "        vertical-align: middle;\n",
       "    }\n",
       "\n",
       "    .dataframe tbody tr th {\n",
       "        vertical-align: top;\n",
       "    }\n",
       "\n",
       "    .dataframe thead th {\n",
       "        text-align: right;\n",
       "    }\n",
       "</style>\n",
       "<table border=\"1\" class=\"dataframe\">\n",
       "  <thead>\n",
       "    <tr style=\"text-align: right;\">\n",
       "      <th></th>\n",
       "      <th>age</th>\n",
       "      <th>gender</th>\n",
       "      <th>height</th>\n",
       "      <th>weight</th>\n",
       "      <th>ap_hi</th>\n",
       "      <th>ap_lo</th>\n",
       "      <th>cholesterol</th>\n",
       "      <th>glucose</th>\n",
       "      <th>Smoking</th>\n",
       "      <th>Alcohol</th>\n",
       "      <th>Physical_Activity</th>\n",
       "      <th>cardio_vascular_disease</th>\n",
       "    </tr>\n",
       "  </thead>\n",
       "  <tbody>\n",
       "  </tbody>\n",
       "</table>\n",
       "</div>"
      ],
      "text/plain": [
       "Empty DataFrame\n",
       "Columns: [age, gender, height, weight, ap_hi, ap_lo, cholesterol, glucose, Smoking, Alcohol, Physical_Activity, cardio_vascular_disease]\n",
       "Index: []"
      ]
     },
     "execution_count": 19,
     "metadata": {},
     "output_type": "execute_result"
    }
   ],
   "source": [
    "a.check_anomalies(df,'age')"
   ]
  },
  {
   "cell_type": "code",
   "execution_count": 20,
   "metadata": {
    "colab": {
     "base_uri": "https://localhost:8080/",
     "height": 69
    },
    "id": "AkqMs3z_s6Jg",
    "outputId": "c6522275-bad1-4b94-cb85-1b1cc5990d5b"
   },
   "outputs": [
    {
     "data": {
      "text/html": [
       "<div>\n",
       "<style scoped>\n",
       "    .dataframe tbody tr th:only-of-type {\n",
       "        vertical-align: middle;\n",
       "    }\n",
       "\n",
       "    .dataframe tbody tr th {\n",
       "        vertical-align: top;\n",
       "    }\n",
       "\n",
       "    .dataframe thead th {\n",
       "        text-align: right;\n",
       "    }\n",
       "</style>\n",
       "<table border=\"1\" class=\"dataframe\">\n",
       "  <thead>\n",
       "    <tr style=\"text-align: right;\">\n",
       "      <th></th>\n",
       "      <th>age</th>\n",
       "      <th>gender</th>\n",
       "      <th>height</th>\n",
       "      <th>weight</th>\n",
       "      <th>ap_hi</th>\n",
       "      <th>ap_lo</th>\n",
       "      <th>cholesterol</th>\n",
       "      <th>glucose</th>\n",
       "      <th>Smoking</th>\n",
       "      <th>Alcohol</th>\n",
       "      <th>Physical_Activity</th>\n",
       "      <th>cardio_vascular_disease</th>\n",
       "    </tr>\n",
       "  </thead>\n",
       "  <tbody>\n",
       "  </tbody>\n",
       "</table>\n",
       "</div>"
      ],
      "text/plain": [
       "Empty DataFrame\n",
       "Columns: [age, gender, height, weight, ap_hi, ap_lo, cholesterol, glucose, Smoking, Alcohol, Physical_Activity, cardio_vascular_disease]\n",
       "Index: []"
      ]
     },
     "execution_count": 20,
     "metadata": {},
     "output_type": "execute_result"
    }
   ],
   "source": [
    "a.check_anomalies(df,'Alcohol')"
   ]
  },
  {
   "cell_type": "code",
   "execution_count": 21,
   "metadata": {
    "colab": {
     "base_uri": "https://localhost:8080/",
     "height": 69
    },
    "id": "MbdxndP_s6Jh",
    "outputId": "342e699b-a574-491f-ba94-36bb8d65b755"
   },
   "outputs": [
    {
     "data": {
      "text/html": [
       "<div>\n",
       "<style scoped>\n",
       "    .dataframe tbody tr th:only-of-type {\n",
       "        vertical-align: middle;\n",
       "    }\n",
       "\n",
       "    .dataframe tbody tr th {\n",
       "        vertical-align: top;\n",
       "    }\n",
       "\n",
       "    .dataframe thead th {\n",
       "        text-align: right;\n",
       "    }\n",
       "</style>\n",
       "<table border=\"1\" class=\"dataframe\">\n",
       "  <thead>\n",
       "    <tr style=\"text-align: right;\">\n",
       "      <th></th>\n",
       "      <th>age</th>\n",
       "      <th>gender</th>\n",
       "      <th>height</th>\n",
       "      <th>weight</th>\n",
       "      <th>ap_hi</th>\n",
       "      <th>ap_lo</th>\n",
       "      <th>cholesterol</th>\n",
       "      <th>glucose</th>\n",
       "      <th>Smoking</th>\n",
       "      <th>Alcohol</th>\n",
       "      <th>Physical_Activity</th>\n",
       "      <th>cardio_vascular_disease</th>\n",
       "    </tr>\n",
       "  </thead>\n",
       "  <tbody>\n",
       "  </tbody>\n",
       "</table>\n",
       "</div>"
      ],
      "text/plain": [
       "Empty DataFrame\n",
       "Columns: [age, gender, height, weight, ap_hi, ap_lo, cholesterol, glucose, Smoking, Alcohol, Physical_Activity, cardio_vascular_disease]\n",
       "Index: []"
      ]
     },
     "execution_count": 21,
     "metadata": {},
     "output_type": "execute_result"
    }
   ],
   "source": [
    "a.check_anomalies(df,'Physical_Activity')"
   ]
  },
  {
   "cell_type": "code",
   "execution_count": 22,
   "metadata": {
    "colab": {
     "base_uri": "https://localhost:8080/",
     "height": 69
    },
    "id": "pAqwwN6ps6Jh",
    "outputId": "1463a9fc-fad5-4e6a-b3b5-126aa221055f"
   },
   "outputs": [
    {
     "data": {
      "text/html": [
       "<div>\n",
       "<style scoped>\n",
       "    .dataframe tbody tr th:only-of-type {\n",
       "        vertical-align: middle;\n",
       "    }\n",
       "\n",
       "    .dataframe tbody tr th {\n",
       "        vertical-align: top;\n",
       "    }\n",
       "\n",
       "    .dataframe thead th {\n",
       "        text-align: right;\n",
       "    }\n",
       "</style>\n",
       "<table border=\"1\" class=\"dataframe\">\n",
       "  <thead>\n",
       "    <tr style=\"text-align: right;\">\n",
       "      <th></th>\n",
       "      <th>age</th>\n",
       "      <th>gender</th>\n",
       "      <th>height</th>\n",
       "      <th>weight</th>\n",
       "      <th>ap_hi</th>\n",
       "      <th>ap_lo</th>\n",
       "      <th>cholesterol</th>\n",
       "      <th>glucose</th>\n",
       "      <th>Smoking</th>\n",
       "      <th>Alcohol</th>\n",
       "      <th>Physical_Activity</th>\n",
       "      <th>cardio_vascular_disease</th>\n",
       "    </tr>\n",
       "  </thead>\n",
       "  <tbody>\n",
       "  </tbody>\n",
       "</table>\n",
       "</div>"
      ],
      "text/plain": [
       "Empty DataFrame\n",
       "Columns: [age, gender, height, weight, ap_hi, ap_lo, cholesterol, glucose, Smoking, Alcohol, Physical_Activity, cardio_vascular_disease]\n",
       "Index: []"
      ]
     },
     "execution_count": 22,
     "metadata": {},
     "output_type": "execute_result"
    }
   ],
   "source": [
    "a.check_anomalies(df,'cardio_vascular_disease')"
   ]
  },
  {
   "cell_type": "code",
   "execution_count": 23,
   "metadata": {
    "id": "sZ7dbMXqs6Ji"
   },
   "outputs": [],
   "source": [
    "#Exploratory Data Analysis"
   ]
  },
  {
   "cell_type": "code",
   "execution_count": 24,
   "metadata": {
    "id": "IxJdTTT1s6Ji"
   },
   "outputs": [],
   "source": [
    "# Checking the boxplot of the Age\n",
    "class Visualize:\n",
    "        def __init__(self):\n",
    "            pass\n",
    "    \n",
    "        def plot_histogram(self,df,columns):\n",
    "            df=df[columns].hist()\n",
    "            return df\n",
    "        def plot_boxplot(self,df,columns):\n",
    "            df=sns.boxplot(df[columns])\n",
    "            return df"
   ]
  },
  {
   "cell_type": "code",
   "execution_count": 25,
   "metadata": {
    "colab": {
     "base_uri": "https://localhost:8080/",
     "height": 282
    },
    "id": "cMGuV59qs6Jj",
    "outputId": "46c83d3d-fa8f-49f5-ee25-c78ac142c8df"
   },
   "outputs": [
    {
     "data": {
      "text/plain": [
       "<AxesSubplot:>"
      ]
     },
     "execution_count": 25,
     "metadata": {},
     "output_type": "execute_result"
    },
    {
     "data": {
      "image/png": "[encoded data removed]",
      "text/plain": [
       "<Figure size 432x288 with 1 Axes>"
      ]
     },
     "metadata": {
      "needs_background": "light"
     },
     "output_type": "display_data"
    }
   ],
   "source": [
    "a=Visualize()\n",
    "a.plot_histogram(df,'age')"
   ]
  },
  {
   "cell_type": "code",
   "execution_count": 26,
   "metadata": {
    "colab": {
     "base_uri": "https://localhost:8080/",
     "height": 282
    },
    "id": "vTYzbGjSs6Jk",
    "outputId": "8af13bfd-8c42-417a-829a-583a256ca5fe"
   },
   "outputs": [
    {
     "data": {
      "text/plain": [
       "<AxesSubplot:>"
      ]
     },
     "execution_count": 26,
     "metadata": {},
     "output_type": "execute_result"
    },
    {
     "data": {
      "image/png": "[encoded data removed]",
      "text/plain": [
       "<Figure size 432x288 with 1 Axes>"
      ]
     },
     "metadata": {
      "needs_background": "light"
     },
     "output_type": "display_data"
    }
   ],
   "source": [
    "a.plot_histogram(df,'weight')"
   ]
  },
  {
   "cell_type": "code",
   "execution_count": 27,
   "metadata": {
    "colab": {
     "base_uri": "https://localhost:8080/",
     "height": 282
    },
    "id": "jVAiWJUes6Jl",
    "outputId": "57b777e6-00a1-4b80-8d7c-886b5b161af4"
   },
   "outputs": [
    {
     "data": {
      "text/plain": [
       "<AxesSubplot:>"
      ]
     },
     "execution_count": 27,
     "metadata": {},
     "output_type": "execute_result"
    },
    {
     "data": {
      "image/png": "[encoded data removed]",
      "text/plain": [
       "<Figure size 432x288 with 1 Axes>"
      ]
     },
     "metadata": {
      "needs_background": "light"
     },
     "output_type": "display_data"
    }
   ],
   "source": [
    "a.plot_histogram(df,'height')"
   ]
  },
  {
   "cell_type": "code",
   "execution_count": 28,
   "metadata": {
    "colab": {
     "base_uri": "https://localhost:8080/",
     "height": 282
    },
    "id": "zYCSqkjTs6Jm",
    "outputId": "e8e4005e-a4bc-42ab-8881-22ad87230942"
   },
   "outputs": [
    {
     "data": {
      "text/plain": [
       "<AxesSubplot:>"
      ]
     },
     "execution_count": 28,
     "metadata": {},
     "output_type": "execute_result"
    },
    {
     "data": {
      "image/png": "[encoded data removed]",
      "text/plain": [
       "<Figure size 432x288 with 1 Axes>"
      ]
     },
     "metadata": {
      "needs_background": "light"
     },
     "output_type": "display_data"
    }
   ],
   "source": [
    "a.plot_histogram(df,'Smoking')"
   ]
  },
  {
   "cell_type": "code",
   "execution_count": 29,
   "metadata": {
    "colab": {
     "base_uri": "https://localhost:8080/",
     "height": 350
    },
    "id": "dFIMiDTQs6Jn",
    "outputId": "2d8140ec-8f88-4062-d3c5-4781bb871b3a"
   },
   "outputs": [
    {
     "name": "stderr",
     "output_type": "stream",
     "text": [
      "C:\\Users\\asif\\Anaconda3\\envs\\imarticus\\lib\\site-packages\\seaborn\\_decorators.py:43: FutureWarning: Pass the following variable as a keyword arg: x. From version 0.12, the only valid positional argument will be `data`, and passing other arguments without an explicit keyword will result in an error or misinterpretation.\n",
      "  FutureWarning\n"
     ]
    },
    {
     "data": {
      "text/plain": [
       "<AxesSubplot:xlabel='age'>"
      ]
     },
     "execution_count": 29,
     "metadata": {},
     "output_type": "execute_result"
    },
    {
     "data": {
      "image/png": "[encoded data removed]",
      "text/plain": [
       "<Figure size 432x288 with 1 Axes>"
      ]
     },
     "metadata": {
      "needs_background": "light"
     },
     "output_type": "display_data"
    }
   ],
   "source": [
    "import seaborn as sns\n",
    "a.plot_boxplot(df,'age')"
   ]
  },
  {
   "cell_type": "code",
   "execution_count": 30,
   "metadata": {
    "colab": {
     "base_uri": "https://localhost:8080/",
     "height": 350
    },
    "id": "huEwlqA4s6Jo",
    "outputId": "05965f5f-7e9a-4a11-8a6e-f2c4c9ce93b4"
   },
   "outputs": [
    {
     "name": "stderr",
     "output_type": "stream",
     "text": [
      "C:\\Users\\asif\\Anaconda3\\envs\\imarticus\\lib\\site-packages\\seaborn\\_decorators.py:43: FutureWarning: Pass the following variable as a keyword arg: x. From version 0.12, the only valid positional argument will be `data`, and passing other arguments without an explicit keyword will result in an error or misinterpretation.\n",
      "  FutureWarning\n"
     ]
    },
    {
     "data": {
      "text/plain": [
       "<AxesSubplot:xlabel='weight'>"
      ]
     },
     "execution_count": 30,
     "metadata": {},
     "output_type": "execute_result"
    },
    {
     "data": {
      "image/png": "[encoded data removed]",
      "text/plain": [
       "<Figure size 432x288 with 1 Axes>"
      ]
     },
     "metadata": {
      "needs_background": "light"
     },
     "output_type": "display_data"
    }
   ],
   "source": [
    "a.plot_boxplot(df,'weight')"
   ]
  },
  {
   "cell_type": "code",
   "execution_count": 31,
   "metadata": {
    "colab": {
     "base_uri": "https://localhost:8080/",
     "height": 350
    },
    "id": "FfMxytX3s6Jo",
    "outputId": "204f8bd5-56cb-41b6-87f1-5e181abe1e03"
   },
   "outputs": [
    {
     "name": "stderr",
     "output_type": "stream",
     "text": [
      "C:\\Users\\asif\\Anaconda3\\envs\\imarticus\\lib\\site-packages\\seaborn\\_decorators.py:43: FutureWarning: Pass the following variable as a keyword arg: x. From version 0.12, the only valid positional argument will be `data`, and passing other arguments without an explicit keyword will result in an error or misinterpretation.\n",
      "  FutureWarning\n"
     ]
    },
    {
     "data": {
      "text/plain": [
       "<AxesSubplot:xlabel='height'>"
      ]
     },
     "execution_count": 31,
     "metadata": {},
     "output_type": "execute_result"
    },
    {
     "data": {
      "image/png": "[encoded data removed]",
      "text/plain": [
       "<Figure size 432x288 with 1 Axes>"
      ]
     },
     "metadata": {
      "needs_background": "light"
     },
     "output_type": "display_data"
    }
   ],
   "source": [
    "a.plot_boxplot(df,'height')"
   ]
  },
  {
   "cell_type": "code",
   "execution_count": 32,
   "metadata": {
    "colab": {
     "base_uri": "https://localhost:8080/"
    },
    "id": "d6eDlmCvs6Jp",
    "outputId": "fa886174-e5cc-46ce-bcbc-18a916f62365"
   },
   "outputs": [
    {
     "data": {
      "text/plain": [
       "Index(['age', 'gender', 'height', 'weight', 'ap_hi', 'ap_lo', 'cholesterol',\n",
       "       'glucose', 'Smoking', 'Alcohol', 'Physical_Activity',\n",
       "       'cardio_vascular_disease'],\n",
       "      dtype='object')"
      ]
     },
     "execution_count": 32,
     "metadata": {},
     "output_type": "execute_result"
    }
   ],
   "source": [
    "df.columns"
   ]
  },
  {
   "cell_type": "code",
   "execution_count": 33,
   "metadata": {
    "colab": {
     "base_uri": "https://localhost:8080/",
     "height": 350
    },
    "id": "3W9cwCf6s6Jp",
    "outputId": "5f9dd682-0f9b-4e10-d771-89cde86d8fd9"
   },
   "outputs": [
    {
     "name": "stderr",
     "output_type": "stream",
     "text": [
      "C:\\Users\\asif\\Anaconda3\\envs\\imarticus\\lib\\site-packages\\seaborn\\_decorators.py:43: FutureWarning: Pass the following variable as a keyword arg: x. From version 0.12, the only valid positional argument will be `data`, and passing other arguments without an explicit keyword will result in an error or misinterpretation.\n",
      "  FutureWarning\n"
     ]
    },
    {
     "data": {
      "text/plain": [
       "<AxesSubplot:xlabel='cholesterol'>"
      ]
     },
     "execution_count": 33,
     "metadata": {},
     "output_type": "execute_result"
    },
    {
     "data": {
      "image/png": "[encoded data removed]",
      "text/plain": [
       "<Figure size 432x288 with 1 Axes>"
      ]
     },
     "metadata": {
      "needs_background": "light"
     },
     "output_type": "display_data"
    }
   ],
   "source": [
    "a.plot_boxplot(df,'cholesterol')"
   ]
  },
  {
   "cell_type": "code",
   "execution_count": 34,
   "metadata": {
    "colab": {
     "base_uri": "https://localhost:8080/"
    },
    "id": "EnQlK_jzs6Jq",
    "outputId": "ae2cba2f-5cc7-4fb8-b6d4-ccfde7e66562"
   },
   "outputs": [
    {
     "data": {
      "text/plain": [
       "0    35021\n",
       "1    34979\n",
       "Name: cardio_vascular_disease, dtype: int64"
      ]
     },
     "execution_count": 34,
     "metadata": {},
     "output_type": "execute_result"
    }
   ],
   "source": [
    "df['cardio_vascular_disease'].value_counts()"
   ]
  },
  {
   "cell_type": "code",
   "execution_count": 35,
   "metadata": {
    "id": "hmsM6496s6Js"
   },
   "outputs": [],
   "source": [
    "X=df.drop('cardio_vascular_disease',axis=1)\n",
    "y=df['cardio_vascular_disease']"
   ]
  },
  {
   "cell_type": "code",
   "execution_count": 36,
   "metadata": {
    "colab": {
     "base_uri": "https://localhost:8080/"
    },
    "id": "cnSNMZbfs6Js",
    "outputId": "805e259c-bd95-4d5c-e5a2-5080eba2ff2f"
   },
   "outputs": [
    {
     "name": "stdout",
     "output_type": "stream",
     "text": [
      "The training data is  (52500, 11) (52500,)\n",
      "The testing data is (17500, 11) (17500,)\n"
     ]
    }
   ],
   "source": [
    "X_train,X_test,y_train,y_test=train_test_split(X,y,test_size=0.25,random_state=45)\n",
    "print('The training data is ',X_train.shape,y_train.shape)\n",
    "print('The testing data is',X_test.shape,y_test.shape)"
   ]
  },
  {
   "cell_type": "code",
   "execution_count": 37,
   "metadata": {
    "id": "zKpHPaXXxEa9"
   },
   "outputs": [],
   "source": [
    "class Model_Building:\n",
    "    def __init__(self,Model):\n",
    "        print('----Model Building----')\n",
    "        print()\n",
    "        self.Model=Model\n",
    "    \n",
    "    def fit_data(self,data,targets):\n",
    "        print()\n",
    "        print('----Fitting the Data to the Model')\n",
    "        self.Model=self.Model.fit(data,targets)\n",
    "        return self.Model\n",
    "    \n",
    "    def predict_data(self,data):\n",
    "        print()\n",
    "        self.y_pred=self.Model.predict(data)\n",
    "    def result_training_data(self,y_true,y_pred):\n",
    "        print()\n",
    "        print('-----RESULT OF TRAINING DATA-----')\n",
    "        print()\n",
    "        print('-----Accuracy score for Training Data-----')\n",
    "        accuracy_score_train=accuracy_score(y_true,self.Model.predict(y_pred))\n",
    "        print(accuracy_score_train)\n",
    "        print()\n",
    "        print('-----Confusion Matrix for Training Data-----')\n",
    "        print()\n",
    "        confusion_matrix_train=confusion_matrix(y_true,self.Model.predict(y_pred))\n",
    "        print(confusion_matrix_train)\n",
    "        print()\n",
    "        print('-----Classification Report of Training Data-----')\n",
    "        classification_report_train=classification_report(y_true,self.Model.predict(y_pred))\n",
    "        print(classification_report_train)\n",
    "        print()\n",
    "        print('-----roc_auc_score of Training Data------')\n",
    "        roc_auc_score_train=roc_auc_score(y_true,self.Model.predict(y_pred))\n",
    "        print(roc_auc_score_train)\n",
    "        print()\n",
    "    def result_testing_data(self,y_true,y_pred):\n",
    "        print('-----RESULT OF TESTING DATA-----')\n",
    "        print('-----Accuracy score for Testing Data-----')\n",
    "        accuracy_score_test=accuracy_score(y_true,self.y_pred)\n",
    "        print(accuracy_score_test)\n",
    "        print()\n",
    "        print('-----Confusion Matrix for Testing Data-----')\n",
    "        confusion_matrix_test=confusion_matrix(y_true,self.y_pred)\n",
    "        print(confusion_matrix_test)\n",
    "        print()\n",
    "        print('-----Classification Report of Testing Data-----')\n",
    "        classification_report_test=classification_report(y_true,self.y_pred)\n",
    "        print(classification_report_test)\n",
    "        print()\n",
    "        print('-----roc_auc_score of Testing Data------')\n",
    "        roc_auc_score_test=roc_auc_score(y_true,self.y_pred)\n",
    "        print(roc_auc_score_test)\n",
    "        \n",
    "    def predict_probability(self,data):\n",
    "        probability=self.Model.predict_proba(data)\n",
    "        return probability"
   ]
  },
  {
   "cell_type": "code",
   "execution_count": 38,
   "metadata": {
    "id": "2cFKALits6Jx"
   },
   "outputs": [],
   "source": [
    "#probs = clf_log.predict_probability(X_test)\n",
    "#preds = probs[:,1]\n",
    "#fpr, tpr, threshold = roc_curve(y_test, preds)\n",
    "#roc_auc = auc(fpr, tpr)"
   ]
  },
  {
   "cell_type": "code",
   "execution_count": 39,
   "metadata": {
    "id": "jmpAv3iOs6Jx"
   },
   "outputs": [],
   "source": [
    "#plt.title('Receiver Operating Characteristic')\n",
    "#plt.plot(fpr, tpr, 'b', label = 'AUC = %0.2f' % roc_auc)\n",
    "#plt.legend(loc = 'lower right')\n",
    "#plt.plot([0, 1], [0, 1],'r--')\n",
    "#plt.xlim([0, 1])\n",
    "#plt.ylim([0, 1])\n",
    "#plt.ylabel('True Positive Rate')\n",
    "#plt.xlabel('False Positive Rate')\n",
    "#plt.show()"
   ]
  },
  {
   "cell_type": "code",
   "execution_count": 40,
   "metadata": {
    "colab": {
     "base_uri": "https://localhost:8080/"
    },
    "id": "jLcu1UkWs6Jy",
    "outputId": "83f3df85-3291-4fc0-ffd6-b4f89fce5a7e"
   },
   "outputs": [
    {
     "name": "stdout",
     "output_type": "stream",
     "text": [
      "----Model Building----\n",
      "\n",
      "\n",
      "----Fitting the Data to the Model\n"
     ]
    },
    {
     "name": "stderr",
     "output_type": "stream",
     "text": [
      "C:\\Users\\asif\\Anaconda3\\envs\\imarticus\\lib\\site-packages\\sklearn\\linear_model\\_logistic.py:762: ConvergenceWarning: lbfgs failed to converge (status=1):\n",
      "STOP: TOTAL NO. of ITERATIONS REACHED LIMIT.\n",
      "\n",
      "Increase the number of iterations (max_iter) or scale the data as shown in:\n",
      "    https://scikit-learn.org/stable/modules/preprocessing.html\n",
      "Please also refer to the documentation for alternative solver options:\n",
      "    https://scikit-learn.org/stable/modules/linear_model.html#logistic-regression\n",
      "  extra_warning_msg=_LOGISTIC_SOLVER_CONVERGENCE_MSG)\n"
     ]
    },
    {
     "name": "stdout",
     "output_type": "stream",
     "text": [
      "\n",
      "\n",
      "-----RESULT OF TRAINING DATA-----\n",
      "\n",
      "-----Accuracy score for Training Data-----\n",
      "0.7043047619047619\n",
      "\n",
      "-----Confusion Matrix for Training Data-----\n",
      "\n",
      "[[19459  6759]\n",
      " [ 8765 17517]]\n",
      "\n",
      "-----Classification Report of Training Data-----\n",
      "              precision    recall  f1-score   support\n",
      "\n",
      "           0       0.69      0.74      0.71     26218\n",
      "           1       0.72      0.67      0.69     26282\n",
      "\n",
      "    accuracy                           0.70     52500\n",
      "   macro avg       0.71      0.70      0.70     52500\n",
      "weighted avg       0.71      0.70      0.70     52500\n",
      "\n",
      "\n",
      "-----roc_auc_score of Training Data------\n",
      "0.704350901776433\n",
      "\n",
      "-----RESULT OF TESTING DATA-----\n",
      "-----Accuracy score for Testing Data-----\n",
      "0.7073714285714285\n",
      "\n",
      "-----Confusion Matrix for Testing Data-----\n",
      "[[6584 2219]\n",
      " [2902 5795]]\n",
      "\n",
      "-----Classification Report of Testing Data-----\n",
      "              precision    recall  f1-score   support\n",
      "\n",
      "           0       0.69      0.75      0.72      8803\n",
      "           1       0.72      0.67      0.69      8697\n",
      "\n",
      "    accuracy                           0.71     17500\n",
      "   macro avg       0.71      0.71      0.71     17500\n",
      "weighted avg       0.71      0.71      0.71     17500\n",
      "\n",
      "\n",
      "-----roc_auc_score of Testing Data------\n",
      "0.7071242816275212\n"
     ]
    }
   ],
   "source": [
    "clf_log=Model_Building(LogisticRegression())\n",
    "clf_log.fit_data(X_train,y_train)\n",
    "y_pred=clf_log.predict_data(X_test)\n",
    "clf_log.result_training_data(y_train,X_train)\n",
    "clf_log.result_testing_data(y_test,y_pred)"
   ]
  },
  {
   "cell_type": "code",
   "execution_count": 41,
   "metadata": {
    "colab": {
     "base_uri": "https://localhost:8080/"
    },
    "id": "0LGOC36Is6Jz",
    "outputId": "2ef92e31-ae3d-4a91-f6a4-4de6efac1f18"
   },
   "outputs": [
    {
     "name": "stdout",
     "output_type": "stream",
     "text": [
      "\n",
      "----Fitting the Data to the Model\n"
     ]
    },
    {
     "name": "stderr",
     "output_type": "stream",
     "text": [
      "C:\\Users\\asif\\Anaconda3\\envs\\imarticus\\lib\\site-packages\\sklearn\\linear_model\\_logistic.py:762: ConvergenceWarning: lbfgs failed to converge (status=1):\n",
      "STOP: TOTAL NO. of ITERATIONS REACHED LIMIT.\n",
      "\n",
      "Increase the number of iterations (max_iter) or scale the data as shown in:\n",
      "    https://scikit-learn.org/stable/modules/preprocessing.html\n",
      "Please also refer to the documentation for alternative solver options:\n",
      "    https://scikit-learn.org/stable/modules/linear_model.html#logistic-regression\n",
      "  extra_warning_msg=_LOGISTIC_SOLVER_CONVERGENCE_MSG)\n"
     ]
    },
    {
     "data": {
      "text/plain": [
       "array([-1.13634193, -0.30966546,  0.34923695, ..., -0.53832976,\n",
       "       -1.82365714,  0.67473959])"
      ]
     },
     "execution_count": 41,
     "metadata": {},
     "output_type": "execute_result"
    }
   ],
   "source": [
    "y_score = clf_log.fit_data(X_train, y_train).decision_function(X_test)\n",
    "y_score"
   ]
  },
  {
   "cell_type": "code",
   "execution_count": 42,
   "metadata": {
    "id": "tquYbTi_s6J1"
   },
   "outputs": [],
   "source": [
    "from sklearn.metrics import auc\n",
    "probs = clf_log.predict_probability(X_test)\n",
    "preds = probs[:,1]\n",
    "fpr, tpr, threshold = roc_curve(y_test, preds)\n",
    "roc_auc = auc(fpr, tpr)"
   ]
  },
  {
   "cell_type": "code",
   "execution_count": 43,
   "metadata": {
    "colab": {
     "base_uri": "https://localhost:8080/",
     "height": 295
    },
    "id": "H6rOAOL5s6J2",
    "outputId": "c1b180cf-ffde-4848-f38a-ddf569a1a659"
   },
   "outputs": [
    {
     "data": {
      "image/png": "[encoded data removed]",
      "text/plain": [
       "<Figure size 432x288 with 1 Axes>"
      ]
     },
     "metadata": {
      "needs_background": "light"
     },
     "output_type": "display_data"
    }
   ],
   "source": [
    "import matplotlib.pyplot as plt\n",
    "plt.title('Receiver Operating Characteristic')\n",
    "plt.plot(fpr, tpr, 'b', label = 'AUC = %0.2f' % roc_auc)\n",
    "plt.legend(loc = 'lower right')\n",
    "plt.plot([0, 1], [0, 1],'r--')\n",
    "plt.xlim([0, 1])\n",
    "plt.ylim([0, 1])\n",
    "plt.ylabel('True Positive Rate')\n",
    "plt.xlabel('False Positive Rate')\n",
    "plt.show()"
   ]
  },
  {
   "cell_type": "code",
   "execution_count": 44,
   "metadata": {
    "colab": {
     "base_uri": "https://localhost:8080/"
    },
    "id": "wRs3T5-9s6J2",
    "outputId": "a9927583-42ff-44fc-be8e-a11289e1ff4f"
   },
   "outputs": [
    {
     "name": "stdout",
     "output_type": "stream",
     "text": [
      "----Model Building----\n",
      "\n",
      "\n",
      "----Fitting the Data to the Model\n",
      "\n",
      "\n",
      "-----RESULT OF TRAINING DATA-----\n",
      "\n",
      "-----Accuracy score for Training Data-----\n",
      "0.742552380952381\n",
      "\n",
      "-----Confusion Matrix for Training Data-----\n",
      "\n",
      "[[20029  6189]\n",
      " [ 7327 18955]]\n",
      "\n",
      "-----Classification Report of Training Data-----\n",
      "              precision    recall  f1-score   support\n",
      "\n",
      "           0       0.73      0.76      0.75     26218\n",
      "           1       0.75      0.72      0.74     26282\n",
      "\n",
      "    accuracy                           0.74     52500\n",
      "   macro avg       0.74      0.74      0.74     52500\n",
      "weighted avg       0.74      0.74      0.74     52500\n",
      "\n",
      "\n",
      "-----roc_auc_score of Training Data------\n",
      "0.7425784227124606\n",
      "\n",
      "-----RESULT OF TESTING DATA-----\n",
      "-----Accuracy score for Testing Data-----\n",
      "0.7324571428571428\n",
      "\n",
      "-----Confusion Matrix for Testing Data-----\n",
      "[[6684 2119]\n",
      " [2563 6134]]\n",
      "\n",
      "-----Classification Report of Testing Data-----\n",
      "              precision    recall  f1-score   support\n",
      "\n",
      "           0       0.72      0.76      0.74      8803\n",
      "           1       0.74      0.71      0.72      8697\n",
      "\n",
      "    accuracy                           0.73     17500\n",
      "   macro avg       0.73      0.73      0.73     17500\n",
      "weighted avg       0.73      0.73      0.73     17500\n",
      "\n",
      "\n",
      "-----roc_auc_score of Testing Data------\n",
      "0.7322936426167133\n"
     ]
    }
   ],
   "source": [
    "clf_decision=Model_Building(DecisionTreeClassifier(max_depth=8))\n",
    "clf_decision.fit_data(X_train,y_train)\n",
    "y_pred_decision=clf_decision.predict_data(X_test)\n",
    "clf_decision.result_training_data(y_train,X_train)\n",
    "clf_decision.result_testing_data(y_test,y_pred_decision)"
   ]
  },
  {
   "cell_type": "code",
   "execution_count": 45,
   "metadata": {
    "id": "kOt_GFeQs6J3"
   },
   "outputs": [],
   "source": [
    "probs_decision = clf_decision.predict_probability(X_test)\n",
    "preds_decision = probs_decision[:,1]\n",
    "fpr, tpr, threshold = roc_curve(y_test, preds_decision)\n",
    "roc_auc_decision = auc(fpr, tpr)"
   ]
  },
  {
   "cell_type": "code",
   "execution_count": 46,
   "metadata": {
    "colab": {
     "base_uri": "https://localhost:8080/"
    },
    "id": "DaigY95_s6J4",
    "outputId": "dbb8c965-3fe4-45e3-ded0-dadfc8900f7d"
   },
   "outputs": [
    {
     "name": "stdout",
     "output_type": "stream",
     "text": [
      "[0.00147677 0.00181756 0.00295354 0.00340793]\n"
     ]
    }
   ],
   "source": [
    "print(fpr[1:5])"
   ]
  },
  {
   "cell_type": "code",
   "execution_count": 47,
   "metadata": {
    "colab": {
     "base_uri": "https://localhost:8080/"
    },
    "id": "i0HwVnwls6J4",
    "outputId": "1a88025b-1503-4ac7-8ddf-2b0af4646aed"
   },
   "outputs": [
    {
     "name": "stdout",
     "output_type": "stream",
     "text": [
      "[0.006439   0.00954352 0.01103829 0.01333793]\n"
     ]
    }
   ],
   "source": [
    "print(tpr[1:5])"
   ]
  },
  {
   "cell_type": "code",
   "execution_count": 48,
   "metadata": {
    "colab": {
     "base_uri": "https://localhost:8080/"
    },
    "id": "RmITGCMis6J5",
    "outputId": "a21480dd-3c41-48c1-959b-e27e30efc21f"
   },
   "outputs": [
    {
     "name": "stdout",
     "output_type": "stream",
     "text": [
      "[1.         0.97       0.96       0.94444444]\n"
     ]
    }
   ],
   "source": [
    "print(threshold[1:5])"
   ]
  },
  {
   "cell_type": "code",
   "execution_count": 49,
   "metadata": {
    "colab": {
     "base_uri": "https://localhost:8080/",
     "height": 295
    },
    "id": "w2jT9B1Is6J6",
    "outputId": "ed48fa6a-fccb-41ba-e146-eb984302d08a"
   },
   "outputs": [
    {
     "data": {
      "image/png": "[encoded data removed]",
      "text/plain": [
       "<Figure size 432x288 with 1 Axes>"
      ]
     },
     "metadata": {
      "needs_background": "light"
     },
     "output_type": "display_data"
    }
   ],
   "source": [
    "plt.title('Receiver Operating Characteristic')\n",
    "plt.plot(fpr, tpr, 'b', label = 'AUC = %0.2f' % roc_auc_decision)\n",
    "plt.legend(loc = 'lower right')\n",
    "plt.plot([0, 1], [0, 1],'r--')\n",
    "plt.xlim([0, 1])\n",
    "plt.ylim([0, 1])\n",
    "plt.ylabel('True Positive Rate')\n",
    "plt.xlabel('False Positive Rate')\n",
    "plt.show()"
   ]
  },
  {
   "cell_type": "code",
   "execution_count": 50,
   "metadata": {
    "id": "f9MvwdiNs6J7"
   },
   "outputs": [],
   "source": [
    "param_grid=({\n",
    "    'penalty':['l1','l2','elasticnet'],\n",
    "    'C':[0.1,0.2,0.3,0.4,0.5,0.6,0.7,0.8,0.9],\n",
    "    'solver':['newton-cg', 'lbfgs', 'liblinear','sag' ,'saga']\n",
    "})"
   ]
  },
  {
   "cell_type": "code",
   "execution_count": 51,
   "metadata": {
    "id": "Y3ekOzy7s6J7"
   },
   "outputs": [],
   "source": [
    "#clflog_grid=GridSearchCV(clf_log,param_grid=param_grid,scoring='f1',cv=5,verbose=3)\n",
    "#clflog_grid.fit(X_train,y_train)"
   ]
  },
  {
   "cell_type": "code",
   "execution_count": 52,
   "metadata": {
    "id": "NflTMOYHs6J8"
   },
   "outputs": [],
   "source": [
    "#clflog_grid.best_params_"
   ]
  },
  {
   "cell_type": "code",
   "execution_count": 53,
   "metadata": {
    "colab": {
     "base_uri": "https://localhost:8080/"
    },
    "id": "U3vaIEnKs6J8",
    "outputId": "0e5c29f6-7f2f-444a-e88c-bb5b03846f48"
   },
   "outputs": [
    {
     "name": "stdout",
     "output_type": "stream",
     "text": [
      "\n",
      "----Fitting the Data to the Model\n"
     ]
    },
    {
     "name": "stderr",
     "output_type": "stream",
     "text": [
      "C:\\Users\\asif\\Anaconda3\\envs\\imarticus\\lib\\site-packages\\sklearn\\linear_model\\_logistic.py:762: ConvergenceWarning: lbfgs failed to converge (status=1):\n",
      "STOP: TOTAL NO. of ITERATIONS REACHED LIMIT.\n",
      "\n",
      "Increase the number of iterations (max_iter) or scale the data as shown in:\n",
      "    https://scikit-learn.org/stable/modules/preprocessing.html\n",
      "Please also refer to the documentation for alternative solver options:\n",
      "    https://scikit-learn.org/stable/modules/linear_model.html#logistic-regression\n",
      "  extra_warning_msg=_LOGISTIC_SOLVER_CONVERGENCE_MSG)\n"
     ]
    },
    {
     "data": {
      "text/plain": [
       "array([-1.13634193, -0.30966546,  0.34923695, ..., -0.53832976,\n",
       "       -1.82365714,  0.67473959])"
      ]
     },
     "execution_count": 53,
     "metadata": {},
     "output_type": "execute_result"
    }
   ],
   "source": [
    "#Plotting ROC_AUC Score\n",
    "y_score = clf_log.fit_data(X_train, y_train).decision_function(X_test)\n",
    "y_score"
   ]
  },
  {
   "cell_type": "code",
   "execution_count": 54,
   "metadata": {
    "id": "nb4VP2JAs6J9"
   },
   "outputs": [],
   "source": [
    "probs = clf_log.predict_probability(X_test)\n",
    "preds = probs[:,1]\n",
    "fpr, tpr, threshold = roc_curve(y_test, preds)\n",
    "roc_auc = auc(fpr, tpr)"
   ]
  },
  {
   "cell_type": "code",
   "execution_count": 55,
   "metadata": {
    "colab": {
     "base_uri": "https://localhost:8080/",
     "height": 295
    },
    "id": "kLFUWlXBs6J-",
    "outputId": "7850aa0a-d7db-4942-f75c-81770293f43f"
   },
   "outputs": [
    {
     "data": {
      "image/png": "[encoded data removed]",
      "text/plain": [
       "<Figure size 432x288 with 1 Axes>"
      ]
     },
     "metadata": {
      "needs_background": "light"
     },
     "output_type": "display_data"
    }
   ],
   "source": [
    "import matplotlib.pyplot as plt\n",
    "plt.title('Receiver Operating Characteristic')\n",
    "plt.plot(fpr, tpr, 'b', label = 'AUC = %0.2f' % roc_auc)\n",
    "plt.legend(loc = 'lower right')\n",
    "plt.plot([0, 1], [0, 1],'r--')\n",
    "plt.xlim([0, 1])\n",
    "plt.ylim([0, 1])\n",
    "plt.ylabel('True Positive Rate')\n",
    "plt.xlabel('False Positive Rate')\n",
    "plt.show()"
   ]
  },
  {
   "cell_type": "code",
   "execution_count": 56,
   "metadata": {
    "id": "vKa7YE-cs6J-"
   },
   "outputs": [],
   "source": [
    "probs = clf_decision.predict_probability(X_test)\n",
    "preds = probs[:,1]\n",
    "fpr, tpr, threshold = roc_curve(y_test, preds)\n",
    "roc_auc = auc(fpr, tpr)"
   ]
  },
  {
   "cell_type": "code",
   "execution_count": 57,
   "metadata": {
    "colab": {
     "base_uri": "https://localhost:8080/",
     "height": 295
    },
    "id": "_dAzOKFQs6J_",
    "outputId": "7f72b15a-e2e4-44a3-d2aa-a7ba409cf53e"
   },
   "outputs": [
    {
     "data": {
      "image/png": "[encoded data removed]",
      "text/plain": [
       "<Figure size 432x288 with 1 Axes>"
      ]
     },
     "metadata": {
      "needs_background": "light"
     },
     "output_type": "display_data"
    }
   ],
   "source": [
    "plt.title('Receiver Operating Characteristic')\n",
    "plt.plot(fpr, tpr, 'b', label = 'AUC = %0.2f' % roc_auc)\n",
    "plt.legend(loc = 'lower right')\n",
    "plt.plot([0, 1], [0, 1],'r--')\n",
    "plt.xlim([0, 1])\n",
    "plt.ylim([0, 1])\n",
    "plt.ylabel('True Positive Rate')\n",
    "plt.xlabel('False Positive Rate')\n",
    "plt.show()"
   ]
  },
  {
   "cell_type": "code",
   "execution_count": 58,
   "metadata": {
    "id": "K_ZOcJNJs6KB"
   },
   "outputs": [],
   "source": [
    "#param_grid_1=({\n",
    "#    'criterion':['gini','entropy'],\n",
    "#    'max_depth':np.arange(1,15,1),\n",
    "#    'ccp_alpha':np.arange(0.1,0.5,0.01),\n",
    "#})"
   ]
  },
  {
   "cell_type": "code",
   "execution_count": 59,
   "metadata": {
    "id": "XlmfiM-bs6KC"
   },
   "outputs": [],
   "source": [
    "#clf_decision_grid=GridSearchCV(clf_decision_tree,param_grid=param_grid_1,scoring='f1',cv=5,n_jobs=-1,\n",
    "#                              verbose=5)\n",
    "#clf_decision_grid.fit(X_train,y_train)"
   ]
  },
  {
   "cell_type": "code",
   "execution_count": 60,
   "metadata": {
    "id": "vN5uQKRLs6KD"
   },
   "outputs": [],
   "source": [
    "#clf_decision_grid.best_params_"
   ]
  },
  {
   "cell_type": "code",
   "execution_count": 61,
   "metadata": {
    "id": "ZcUklH55s6KE"
   },
   "outputs": [],
   "source": [
    "from sklearn.neighbors import KNeighborsClassifier"
   ]
  },
  {
   "cell_type": "code",
   "execution_count": 62,
   "metadata": {
    "id": "wybDoY5Is6KE"
   },
   "outputs": [],
   "source": [
    "from sklearn.ensemble import AdaBoostClassifier,ExtraTreesClassifier,GradientBoostingClassifier,BaggingClassifier,RandomForestClassifier"
   ]
  },
  {
   "cell_type": "code",
   "execution_count": 63,
   "metadata": {
    "id": "4h9tB5bds6KF"
   },
   "outputs": [],
   "source": [
    "MLA=[\n",
    "    #GLM\n",
    "    LogisticRegression(C=0.2,solver='liblinear'),\n",
    "    #Tree\n",
    "    AdaBoostClassifier(),\n",
    "    ExtraTreesClassifier(max_depth=15),\n",
    "    GradientBoostingClassifier(),\n",
    "    RandomForestClassifier(max_depth=15),\n",
    "    DecisionTreeClassifier(max_depth=15),\n",
    "    KNeighborsClassifier()\n",
    "]"
   ]
  },
  {
   "cell_type": "code",
   "execution_count": 64,
   "metadata": {
    "id": "bSCnFsG0s6KF"
   },
   "outputs": [],
   "source": [
    "from sklearn.metrics import precision_score,recall_score,f1_score"
   ]
  },
  {
   "cell_type": "code",
   "execution_count": null,
   "metadata": {
    "id": "-bqhoZYyNdO1"
   },
   "outputs": [],
   "source": []
  },
  {
   "cell_type": "code",
   "execution_count": 65,
   "metadata": {
    "colab": {
     "base_uri": "https://localhost:8080/",
     "height": 283
    },
    "id": "3S3OCDrys6KG",
    "outputId": "668e93d6-0420-4603-ba5e-90eb37abcdc5"
   },
   "outputs": [
    {
     "data": {
      "text/html": [
       "<div>\n",
       "<style scoped>\n",
       "    .dataframe tbody tr th:only-of-type {\n",
       "        vertical-align: middle;\n",
       "    }\n",
       "\n",
       "    .dataframe tbody tr th {\n",
       "        vertical-align: top;\n",
       "    }\n",
       "\n",
       "    .dataframe thead th {\n",
       "        text-align: right;\n",
       "    }\n",
       "</style>\n",
       "<table border=\"1\" class=\"dataframe\">\n",
       "  <thead>\n",
       "    <tr style=\"text-align: right;\">\n",
       "      <th></th>\n",
       "      <th>MLA Name</th>\n",
       "      <th>MLA Train Accuracy</th>\n",
       "      <th>MLA Test Accuracy</th>\n",
       "      <th>MLA Precission</th>\n",
       "      <th>MLA Recall</th>\n",
       "      <th>MLA F1 Score</th>\n",
       "      <th>MLA_ROC_AUC</th>\n",
       "      <th>MLA AUC</th>\n",
       "    </tr>\n",
       "  </thead>\n",
       "  <tbody>\n",
       "    <tr>\n",
       "      <th>4</th>\n",
       "      <td>RandomForestClassifier</td>\n",
       "      <td>0.8187</td>\n",
       "      <td>0.7374</td>\n",
       "      <td>0.759818</td>\n",
       "      <td>0.689663</td>\n",
       "      <td>0.723043</td>\n",
       "      <td>0.737141</td>\n",
       "      <td>0.737141</td>\n",
       "    </tr>\n",
       "    <tr>\n",
       "      <th>3</th>\n",
       "      <td>GradientBoostingClassifier</td>\n",
       "      <td>0.7391</td>\n",
       "      <td>0.7367</td>\n",
       "      <td>0.755148</td>\n",
       "      <td>0.695757</td>\n",
       "      <td>0.724237</td>\n",
       "      <td>0.736439</td>\n",
       "      <td>0.736439</td>\n",
       "    </tr>\n",
       "    <tr>\n",
       "      <th>1</th>\n",
       "      <td>AdaBoostClassifier</td>\n",
       "      <td>0.7321</td>\n",
       "      <td>0.7292</td>\n",
       "      <td>0.769619</td>\n",
       "      <td>0.649534</td>\n",
       "      <td>0.704496</td>\n",
       "      <td>0.728720</td>\n",
       "      <td>0.728720</td>\n",
       "    </tr>\n",
       "    <tr>\n",
       "      <th>0</th>\n",
       "      <td>LogisticRegression</td>\n",
       "      <td>0.7179</td>\n",
       "      <td>0.7208</td>\n",
       "      <td>0.741784</td>\n",
       "      <td>0.672186</td>\n",
       "      <td>0.705272</td>\n",
       "      <td>0.720507</td>\n",
       "      <td>0.720507</td>\n",
       "    </tr>\n",
       "    <tr>\n",
       "      <th>5</th>\n",
       "      <td>DecisionTreeClassifier</td>\n",
       "      <td>0.8084</td>\n",
       "      <td>0.7018</td>\n",
       "      <td>0.719239</td>\n",
       "      <td>0.655973</td>\n",
       "      <td>0.686151</td>\n",
       "      <td>0.701496</td>\n",
       "      <td>0.701496</td>\n",
       "    </tr>\n",
       "    <tr>\n",
       "      <th>2</th>\n",
       "      <td>ExtraTreesClassifier</td>\n",
       "      <td>0.7380</td>\n",
       "      <td>0.6951</td>\n",
       "      <td>0.713813</td>\n",
       "      <td>0.645280</td>\n",
       "      <td>0.677819</td>\n",
       "      <td>0.694843</td>\n",
       "      <td>0.694843</td>\n",
       "    </tr>\n",
       "    <tr>\n",
       "      <th>6</th>\n",
       "      <td>KNeighborsClassifier</td>\n",
       "      <td>0.7799</td>\n",
       "      <td>0.6923</td>\n",
       "      <td>0.700339</td>\n",
       "      <td>0.665632</td>\n",
       "      <td>0.682544</td>\n",
       "      <td>0.692125</td>\n",
       "      <td>0.692125</td>\n",
       "    </tr>\n",
       "  </tbody>\n",
       "</table>\n",
       "</div>"
      ],
      "text/plain": [
       "                     MLA Name  MLA Train Accuracy  MLA Test Accuracy  \\\n",
       "4      RandomForestClassifier              0.8187             0.7374   \n",
       "3  GradientBoostingClassifier              0.7391             0.7367   \n",
       "1          AdaBoostClassifier              0.7321             0.7292   \n",
       "0          LogisticRegression              0.7179             0.7208   \n",
       "5      DecisionTreeClassifier              0.8084             0.7018   \n",
       "2        ExtraTreesClassifier              0.7380             0.6951   \n",
       "6        KNeighborsClassifier              0.7799             0.6923   \n",
       "\n",
       "   MLA Precission  MLA Recall  MLA F1 Score  MLA_ROC_AUC   MLA AUC  \n",
       "4        0.759818    0.689663      0.723043     0.737141  0.737141  \n",
       "3        0.755148    0.695757      0.724237     0.736439  0.736439  \n",
       "1        0.769619    0.649534      0.704496     0.728720  0.728720  \n",
       "0        0.741784    0.672186      0.705272     0.720507  0.720507  \n",
       "5        0.719239    0.655973      0.686151     0.701496  0.701496  \n",
       "2        0.713813    0.645280      0.677819     0.694843  0.694843  \n",
       "6        0.700339    0.665632      0.682544     0.692125  0.692125  "
      ]
     },
     "execution_count": 65,
     "metadata": {},
     "output_type": "execute_result"
    }
   ],
   "source": [
    "MLA_columns = []\n",
    "MLA_compare = pd.DataFrame(columns = MLA_columns)\n",
    "\n",
    "\n",
    "row_index = 0\n",
    "for alg in MLA:\n",
    "    \n",
    "    \n",
    "    predicted = alg.fit(X_train, y_train).predict(X_test)\n",
    "    fp, tp, th = roc_curve(y_test, predicted)\n",
    "    MLA_name = alg.__class__.__name__\n",
    "    MLA_compare.loc[row_index,'MLA Name'] = MLA_name\n",
    "    MLA_compare.loc[row_index, 'MLA Train Accuracy'] = round(alg.score(X_train, y_train), 4)\n",
    "    MLA_compare.loc[row_index, 'MLA Test Accuracy'] = round(alg.score(X_test, y_test), 4)\n",
    "    MLA_compare.loc[row_index, 'MLA Precission'] = precision_score(y_test, predicted)\n",
    "    MLA_compare.loc[row_index, 'MLA Recall'] = recall_score(y_test, predicted)\n",
    "    MLA_compare.loc[row_index, 'MLA F1 Score']=f1_score(y_test,predicted)\n",
    "    MLA_compare.loc[row_index,'MLA_ROC_AUC']=roc_auc_score(y_test,predicted)\n",
    "    MLA_compare.loc[row_index, 'MLA AUC'] = auc(fp, tp)\n",
    "      \n",
    "    row_index+=1\n",
    "    \n",
    "MLA_compare.sort_values(by = ['MLA Test Accuracy'], ascending = False, inplace = True)    \n",
    "MLA_compare"
   ]
  },
  {
   "cell_type": "code",
   "execution_count": 66,
   "metadata": {
    "colab": {
     "base_uri": "https://localhost:8080/",
     "height": 527
    },
    "id": "Vl-hn6mCs6KH",
    "outputId": "a2e6e01d-6e64-4a63-82a9-3e326e61b97c"
   },
   "outputs": [
    {
     "data": {
      "image/png": "[encoded data removed]",
      "text/plain": [
       "<Figure size 1080x432 with 1 Axes>"
      ]
     },
     "metadata": {
      "needs_background": "light"
     },
     "output_type": "display_data"
    }
   ],
   "source": [
    "plt.subplots(figsize=(15,6))\n",
    "sns.barplot(x=\"MLA Name\", y=\"MLA Train Accuracy\",data=MLA_compare,palette='hot',edgecolor=sns.color_palette('dark',7))\n",
    "plt.xticks(rotation=90)\n",
    "plt.title('MLA Train Accuracy Comparison')\n",
    "plt.show()"
   ]
  },
  {
   "cell_type": "code",
   "execution_count": 67,
   "metadata": {
    "colab": {
     "base_uri": "https://localhost:8080/",
     "height": 527
    },
    "id": "lu5D_1CTs6KJ",
    "outputId": "dc29d7b0-3a5d-47d2-c852-0b1e76f1b6c7"
   },
   "outputs": [
    {
     "data": {
      "image/png": "[encoded data removed]",
      "text/plain": [
       "<Figure size 1080x432 with 1 Axes>"
      ]
     },
     "metadata": {
      "needs_background": "light"
     },
     "output_type": "display_data"
    }
   ],
   "source": [
    "plt.subplots(figsize=(15,6))\n",
    "sns.barplot(x=\"MLA Name\", y=\"MLA Test Accuracy\",data=MLA_compare,palette='hot',edgecolor=sns.color_palette('dark',7))\n",
    "plt.xticks(rotation=90)\n",
    "plt.title('MLA Test Accuracy Comparison')\n",
    "plt.show()"
   ]
  },
  {
   "cell_type": "code",
   "execution_count": 68,
   "metadata": {
    "colab": {
     "base_uri": "https://localhost:8080/",
     "height": 527
    },
    "id": "nX4R6JuZs6KM",
    "outputId": "9b0c9768-2c2d-48fc-9fb5-e3a715e195ed"
   },
   "outputs": [
    {
     "data": {
      "image/png": "[encoded data removed]",
      "text/plain": [
       "<Figure size 1080x432 with 1 Axes>"
      ]
     },
     "metadata": {
      "needs_background": "light"
     },
     "output_type": "display_data"
    }
   ],
   "source": [
    "plt.subplots(figsize=(15,6))\n",
    "sns.barplot(x=\"MLA Name\", y=\"MLA Precission\",data=MLA_compare,palette='hot',edgecolor=sns.color_palette('dark',7))\n",
    "plt.xticks(rotation=90)\n",
    "plt.title('MLA Precission Comparison')\n",
    "plt.show()"
   ]
  },
  {
   "cell_type": "code",
   "execution_count": 69,
   "metadata": {
    "colab": {
     "base_uri": "https://localhost:8080/",
     "height": 527
    },
    "id": "nmBq1e4ps6KN",
    "outputId": "b4e17901-1319-4ffd-88e2-448a45bc8336"
   },
   "outputs": [
    {
     "data": {
      "image/png": "[encoded data removed]",
      "text/plain": [
       "<Figure size 1080x432 with 1 Axes>"
      ]
     },
     "metadata": {
      "needs_background": "light"
     },
     "output_type": "display_data"
    }
   ],
   "source": [
    "plt.subplots(figsize=(15,6))\n",
    "sns.barplot(x=\"MLA Name\", y=\"MLA Recall\",data=MLA_compare,palette='hot',edgecolor=sns.color_palette('dark',7))\n",
    "plt.xticks(rotation=90)\n",
    "plt.title('MLA Recall Comparison')\n",
    "plt.show()"
   ]
  },
  {
   "cell_type": "code",
   "execution_count": 70,
   "metadata": {
    "colab": {
     "base_uri": "https://localhost:8080/",
     "height": 527
    },
    "id": "4kTJGU7ks6KN",
    "outputId": "5bb7f4ac-cfe1-4609-ace2-8f7cdfa7ea4b"
   },
   "outputs": [
    {
     "data": {
      "image/png": "[encoded data removed]",
      "text/plain": [
       "<Figure size 1080x432 with 1 Axes>"
      ]
     },
     "metadata": {
      "needs_background": "light"
     },
     "output_type": "display_data"
    }
   ],
   "source": [
    "plt.subplots(figsize=(15,6))\n",
    "sns.barplot(x=\"MLA Name\", y=\"MLA AUC\",data=MLA_compare,palette='hot',edgecolor=sns.color_palette('dark',7))\n",
    "plt.xticks(rotation=90)\n",
    "plt.title('MLA AUC Comparison')\n",
    "plt.show()"
   ]
  },
  {
   "cell_type": "code",
   "execution_count": 71,
   "metadata": {
    "colab": {
     "base_uri": "https://localhost:8080/",
     "height": 527
    },
    "id": "dQq8FG4Cs6KO",
    "outputId": "54b2017d-4ee6-4860-b948-474ab2cea5d3"
   },
   "outputs": [
    {
     "data": {
      "image/png": "[encoded data removed]",
      "text/plain": [
       "<Figure size 1080x432 with 1 Axes>"
      ]
     },
     "metadata": {
      "needs_background": "light"
     },
     "output_type": "display_data"
    }
   ],
   "source": [
    "plt.subplots(figsize=(15,6))\n",
    "sns.barplot(x=\"MLA Name\", y=\"MLA_ROC_AUC\",data=MLA_compare,palette='hot',edgecolor=sns.color_palette('dark',7))\n",
    "plt.xticks(rotation=90)\n",
    "plt.title('MLA ROC_AUC Comparison')\n",
    "plt.show()"
   ]
  },
  {
   "cell_type": "code",
   "execution_count": 72,
   "metadata": {
    "colab": {
     "base_uri": "https://localhost:8080/",
     "height": 527
    },
    "id": "6FZGDdsYs6KQ",
    "outputId": "a1a2bf28-41f4-4d5c-b888-00fd75cca510"
   },
   "outputs": [
    {
     "data": {
      "image/png": "[encoded data removed]",
      "text/plain": [
       "<Figure size 1080x432 with 1 Axes>"
      ]
     },
     "metadata": {
      "needs_background": "light"
     },
     "output_type": "display_data"
    }
   ],
   "source": [
    "plt.subplots(figsize=(15,6))\n",
    "sns.barplot(x=\"MLA Name\", y=\"MLA F1 Score\",data=MLA_compare,palette='hot',edgecolor=sns.color_palette('dark',7))\n",
    "plt.xticks(rotation=90)\n",
    "plt.title('MLA F1 Score Comparison')\n",
    "plt.show()"
   ]
  },
  {
   "cell_type": "code",
   "execution_count": 73,
   "metadata": {
    "colab": {
     "base_uri": "https://localhost:8080/",
     "height": 295
    },
    "id": "_l-bJ5NOs6KR",
    "outputId": "dd1f7334-4410-471a-85a1-514024a13185"
   },
   "outputs": [
    {
     "data": {
      "image/png": "[encoded data removed]",
      "text/plain": [
       "<Figure size 432x288 with 1 Axes>"
      ]
     },
     "metadata": {
      "needs_background": "light"
     },
     "output_type": "display_data"
    }
   ],
   "source": [
    "index = 1\n",
    "for alg in MLA:\n",
    "    \n",
    "    \n",
    "    predicted = alg.fit(X_train, y_train).predict(X_test)\n",
    "    fp, tp, th = roc_curve(y_train,alg.predict(X_train))\n",
    "    roc_auc_mla_train = auc(fp, tp)\n",
    "    MLA_name = alg.__class__.__name__\n",
    "    plt.plot(fp, tp, lw=2, alpha=0.3, label='ROC %s (AUC = %0.2f)'  % (MLA_name, roc_auc_mla_train))\n",
    "   \n",
    "    index+=1\n",
    "\n",
    "plt.title('ROC Curve comparison')\n",
    "plt.legend(bbox_to_anchor=(1.05, 1), loc=2, borderaxespad=0.)\n",
    "plt.plot([0,1],[0,1],'r--')\n",
    "plt.xlim([0,1])\n",
    "plt.ylim([0,1])\n",
    "plt.ylabel('True Positive Rate')\n",
    "plt.xlabel('False Positive Rate')    \n",
    "plt.show()"
   ]
  },
  {
   "cell_type": "code",
   "execution_count": 74,
   "metadata": {
    "colab": {
     "base_uri": "https://localhost:8080/",
     "height": 295
    },
    "id": "4OynTNTls6KT",
    "outputId": "11f4995d-8723-49b5-ee49-069b1b6a5318"
   },
   "outputs": [
    {
     "data": {
      "image/png": "[encoded data removed]",
      "text/plain": [
       "<Figure size 432x288 with 1 Axes>"
      ]
     },
     "metadata": {
      "needs_background": "light"
     },
     "output_type": "display_data"
    }
   ],
   "source": [
    "index = 1\n",
    "for alg in MLA:\n",
    "    \n",
    "    \n",
    "    predicted = alg.fit(X_train, y_train).predict(X_test)\n",
    "    fp, tp, th = roc_curve(y_test, predicted)\n",
    "    roc_auc_mla = auc(fp, tp)\n",
    "    MLA_name = alg.__class__.__name__\n",
    "    plt.plot(fp, tp, lw=2, alpha=0.3, label='ROC %s (AUC = %0.2f)'  % (MLA_name, roc_auc_mla))\n",
    "   \n",
    "    index+=1\n",
    "\n",
    "plt.title('ROC Curve comparison')\n",
    "plt.legend(bbox_to_anchor=(1.05, 1), loc=2, borderaxespad=0.)\n",
    "plt.plot([0,1],[0,1],'r--')\n",
    "plt.xlim([0,1])\n",
    "plt.ylim([0,1])\n",
    "plt.ylabel('True Positive Rate')\n",
    "plt.xlabel('False Positive Rate')    \n",
    "plt.show()"
   ]
  },
  {
   "cell_type": "code",
   "execution_count": 75,
   "metadata": {
    "id": "b7msmQebNhsS"
   },
   "outputs": [],
   "source": [
    "import numpy as np\n",
    "#from skopt import BayesSearchCV\n",
    "#from skopt.space import Real, Categorical, Integer\n",
    "#search_spaces=({\n",
    "#    'max_depth':Integer(1,15),\n",
    "#    'min_samples_split':Integer(3,10),\n",
    "#    'min_samples_leaf':Integer(1,10),\n",
    "#    'max_features':Categorical(['auto','log2','sqrt']),\n",
    "#    'ccp_alpha':np.arange(0.01,0.5,0.1)\n",
    "#})"
   ]
  },
  {
   "cell_type": "code",
   "execution_count": 76,
   "metadata": {
    "colab": {
     "base_uri": "https://localhost:8080/"
    },
    "id": "hBYCdGjHOIjR",
    "outputId": "c74ed428-91a4-4723-c637-5034dbe851a0"
   },
   "outputs": [],
   "source": [
    "#clf_decision_tree=DecisionTreeClassifier(random_state=1)\n",
    "#clf_decision_tree.fit(X_train,y_train)"
   ]
  },
  {
   "cell_type": "code",
   "execution_count": 77,
   "metadata": {
    "colab": {
     "base_uri": "https://localhost:8080/"
    },
    "id": "jXpZzOoUSGk8",
    "outputId": "8f582f28-88c1-49a0-d846-ed66fa63bde1"
   },
   "outputs": [],
   "source": [
    "#y_pred_de=clf_decision_tree.predict(X_test)\n",
    "#y_pred_de"
   ]
  },
  {
   "cell_type": "code",
   "execution_count": 78,
   "metadata": {
    "colab": {
     "base_uri": "https://localhost:8080/"
    },
    "id": "dCDcyackSR9A",
    "outputId": "6e7aa5ed-fedc-4dd1-c52a-3987bb28586a"
   },
   "outputs": [],
   "source": [
    "#classification_report_decision_train=classification_report(y_train,clf_decision_tree.predict(X_train))\n",
    "#print(classification_report_decision_train)\n",
    "#classification_report_decision_test=classification_report(y_test,y_pred_de)\n",
    "#print(classification_report_decision_test)"
   ]
  },
  {
   "cell_type": "code",
   "execution_count": 79,
   "metadata": {
    "colab": {
     "base_uri": "https://localhost:8080/"
    },
    "id": "YgcsVll-QfsR",
    "outputId": "261ea258-8522-4b20-95f2-c0160b9b5d5b"
   },
   "outputs": [],
   "source": [
    "#clf_decision_grid=BayesSearchCV(clf_decision_tree,search_spaces=search_spaces,n_iter=50,scoring='f1',verbose=5,cv=5)\n",
    "#clf_decision_grid.fit(X_train,y_train)"
   ]
  },
  {
   "cell_type": "code",
   "execution_count": 80,
   "metadata": {
    "colab": {
     "base_uri": "https://localhost:8080/"
    },
    "id": "BiJ21oBDOCx8",
    "outputId": "534fb6b2-c5ea-49aa-ddab-dbf3c806a000"
   },
   "outputs": [],
   "source": [
    "#clf_decision_grid.best_params_"
   ]
  },
  {
   "cell_type": "code",
   "execution_count": 81,
   "metadata": {
    "colab": {
     "base_uri": "https://localhost:8080/"
    },
    "id": "53y9XSyMRqgs",
    "outputId": "5498465f-9c02-41b5-f576-9455b07d6e93"
   },
   "outputs": [],
   "source": [
    "#print(\"train score : %s\" % clf_decision_grid.best_score_)\n",
    "#print(\"test score: %s\" % clf_decision_grid.score(X_test, y_test))"
   ]
  },
  {
   "cell_type": "code",
   "execution_count": 82,
   "metadata": {
    "colab": {
     "base_uri": "https://localhost:8080/"
    },
    "id": "lnZCIcGOTHDo",
    "outputId": "87fb47cb-ce6f-4af8-ba5f-81cc5551a273"
   },
   "outputs": [],
   "source": [
    "#y_pred_bayes=clf_decision_grid.predict(X_test)\n",
    "#y_pred_bayes"
   ]
  },
  {
   "cell_type": "code",
   "execution_count": 83,
   "metadata": {
    "id": "PVvHCVJnSoGx"
   },
   "outputs": [],
   "source": [
    "#After BayesSearchCV\n",
    "class Tuning:\n",
    "\n",
    "    def __init__(self):\n",
    "        pass\n",
    "    def metrics(self):\n",
    "        print('Model After BayesSearchCV')\n",
    "        confusion_matrix_train=confusion_matrix(y_train,clf_decision_grid.predict(X_train))\n",
    "        print(confusion_matrix_train)\n",
    "        print()\n",
    "        confusion_matrix_test=confusion_matrix(y_test,y_pred_bayes)\n",
    "        print(confusion_matrix_test)\n",
    "        print()\n",
    "        classification_report_decision_bayes=classification_report(y_train,clf_decision_grid.predict(X_train))\n",
    "        print(classification_report_decision_bayes)\n",
    "        print()\n",
    "        classification_report_test_bayes=classification_report(y_test,y_pred_bayes)\n",
    "        print(classification_report_test_bayes)\n",
    "        print()\n",
    "        roc_auc_score_train=roc_auc_score(y_train,clf_decision_grid.predict(X_train))\n",
    "        print(roc_auc_score_train)\n",
    "        print()\n",
    "        roc_auc_score_test=roc_auc_score(y_test,y_pred_bayes)\n",
    "        print(roc_auc_score_test)"
   ]
  },
  {
   "cell_type": "code",
   "execution_count": 84,
   "metadata": {
    "colab": {
     "base_uri": "https://localhost:8080/"
    },
    "id": "2gyJDNaVVbUQ",
    "outputId": "b8a866d0-1757-4aef-a807-b071c53f1845"
   },
   "outputs": [],
   "source": [
    "#tuning_classifier=Tuning()\n",
    "#tuning_classifier.metrics()"
   ]
  },
  {
   "cell_type": "code",
   "execution_count": 85,
   "metadata": {
    "colab": {
     "base_uri": "https://localhost:8080/"
    },
    "id": "JH1Js7FCYkj9",
    "outputId": "31e7e386-f81e-4156-ba22-b76be39a91ea"
   },
   "outputs": [],
   "source": [
    "#!pip install hyperopt"
   ]
  },
  {
   "cell_type": "markdown",
   "metadata": {
    "id": "dxAVhzMkc23F"
   },
   "source": [
    "Implementing HyperOpt "
   ]
  },
  {
   "cell_type": "code",
   "execution_count": 86,
   "metadata": {
    "id": "yfbQ4LZfcCHj"
   },
   "outputs": [],
   "source": [
    "from hyperopt import hp,fmin,tpe,STATUS_OK,Trials"
   ]
  },
  {
   "cell_type": "code",
   "execution_count": 87,
   "metadata": {
    "id": "kGoopZ3Tcn3S"
   },
   "outputs": [],
   "source": [
    "space = {'criterion': hp.choice('criterion', ['entropy', 'gini']),\n",
    "        'max_depth': hp.quniform('max_depth', 10, 1200, 10),\n",
    "        'max_features': hp.choice('max_features', ['auto', 'sqrt','log2', None]),\n",
    "        'min_samples_leaf': hp.uniform('min_samples_leaf', 0, 0.5),\n",
    "        'min_samples_split' : hp.uniform ('min_samples_split', 0, 1),\n",
    "         'ccp_alpha':hp.quniform('ccp_alpha',0.01,0.5,0.1)\n",
    "}"
   ]
  },
  {
   "cell_type": "code",
   "execution_count": 88,
   "metadata": {
    "colab": {
     "base_uri": "https://localhost:8080/"
    },
    "id": "V-MYsCeRc_El",
    "outputId": "71d31c3f-e754-4d39-b8f6-7eb374975260"
   },
   "outputs": [
    {
     "data": {
      "text/plain": [
       "{'criterion': <hyperopt.pyll.base.Apply at 0x1375697da58>,\n",
       " 'max_depth': <hyperopt.pyll.base.Apply at 0x1375697db00>,\n",
       " 'max_features': <hyperopt.pyll.base.Apply at 0x1375697d5c0>,\n",
       " 'min_samples_leaf': <hyperopt.pyll.base.Apply at 0x1375697d438>,\n",
       " 'min_samples_split': <hyperopt.pyll.base.Apply at 0x1375697d780>,\n",
       " 'ccp_alpha': <hyperopt.pyll.base.Apply at 0x1375697d6d8>}"
      ]
     },
     "execution_count": 88,
     "metadata": {},
     "output_type": "execute_result"
    }
   ],
   "source": [
    "space"
   ]
  },
  {
   "cell_type": "code",
   "execution_count": 89,
   "metadata": {
    "id": "Tl7yUMw-dIGG"
   },
   "outputs": [],
   "source": [
    "from sklearn.model_selection import cross_val_score\n",
    "def objective(space):\n",
    "    model = DecisionTreeClassifier(criterion = space['criterion'], max_depth = space['max_depth'],\n",
    "                                 max_features = space['max_features'],\n",
    "                                 min_samples_leaf = space['min_samples_leaf'],\n",
    "                                 min_samples_split = space['min_samples_split'],\n",
    "                                 ccp_alpha=space['ccp_alpha']\n",
    "                                 )\n",
    "    \n",
    "    accuracy = cross_val_score(model, X_train, y_train, cv = 5).mean()\n",
    "\n",
    "    # We aim to maximize accuracy, therefore we return it as a negative value\n",
    "    return {'loss': -accuracy, 'status': STATUS_OK }"
   ]
  },
  {
   "cell_type": "code",
   "execution_count": 90,
   "metadata": {
    "colab": {
     "base_uri": "https://localhost:8080/"
    },
    "id": "e7AVzZDLdV0p",
    "outputId": "79bc5d1c-e2e9-45ac-9d46-e89bae1d1d81"
   },
   "outputs": [
    {
     "name": "stdout",
     "output_type": "stream",
     "text": [
      "100%|███████████████████████████████████████████████| 80/80 [00:22<00:00,  3.58trial/s, best loss: -0.7302857142857142]\n"
     ]
    },
    {
     "data": {
      "text/plain": [
       "{'ccp_alpha': 0.0,\n",
       " 'criterion': 0,\n",
       " 'max_depth': 1160.0,\n",
       " 'max_features': 3,\n",
       " 'min_samples_leaf': 0.0025315471012753916,\n",
       " 'min_samples_split': 0.03525106736621103}"
      ]
     },
     "execution_count": 90,
     "metadata": {},
     "output_type": "execute_result"
    }
   ],
   "source": [
    "trials = Trials()\n",
    "best = fmin(fn= objective,\n",
    "            space= space,\n",
    "            algo= tpe.suggest,\n",
    "            max_evals = 80,\n",
    "            trials= trials)\n",
    "best"
   ]
  },
  {
   "cell_type": "code",
   "execution_count": 91,
   "metadata": {
    "colab": {
     "base_uri": "https://localhost:8080/"
    },
    "id": "6fRZM-A_ducM",
    "outputId": "3fddc90c-665a-4e72-d814-bf85032a3503"
   },
   "outputs": [
    {
     "name": "stdout",
     "output_type": "stream",
     "text": [
      "entropy\n",
      "None\n"
     ]
    }
   ],
   "source": [
    "crit = {0: 'entropy', 1: 'gini'}\n",
    "feat = {0: 'auto', 1: 'sqrt', 2: 'log2', 3: None}\n",
    "#est = {0: 10, 1: 50, 2: 300, 3: 750, 4: 1200,5:1300,6:1500}\n",
    "\n",
    "\n",
    "print(crit[best['criterion']])\n",
    "print(feat[best['max_features']])"
   ]
  },
  {
   "cell_type": "code",
   "execution_count": 92,
   "metadata": {
    "colab": {
     "base_uri": "https://localhost:8080/"
    },
    "id": "E_28eFiGeCuR",
    "outputId": "50d7ef1b-c7ac-4d75-ab60-5a1e9ffffdd5"
   },
   "outputs": [
    {
     "data": {
      "text/plain": [
       "0.0025315471012753916"
      ]
     },
     "execution_count": 92,
     "metadata": {},
     "output_type": "execute_result"
    }
   ],
   "source": [
    "best['min_samples_leaf']"
   ]
  },
  {
   "cell_type": "code",
   "execution_count": 93,
   "metadata": {
    "colab": {
     "base_uri": "https://localhost:8080/"
    },
    "id": "TzNkrTjSeQS-",
    "outputId": "7c795194-7ccb-4c48-fb89-d1199cb15da9"
   },
   "outputs": [
    {
     "name": "stdout",
     "output_type": "stream",
     "text": [
      "[[6862 1941]\n",
      " [2728 5969]]\n",
      "0.7332\n",
      "              precision    recall  f1-score   support\n",
      "\n",
      "           0       0.72      0.78      0.75      8803\n",
      "           1       0.75      0.69      0.72      8697\n",
      "\n",
      "    accuracy                           0.73     17500\n",
      "   macro avg       0.74      0.73      0.73     17500\n",
      "weighted avg       0.73      0.73      0.73     17500\n",
      "\n"
     ]
    }
   ],
   "source": [
    "\n",
    "traineddecision = DecisionTreeClassifier(criterion = crit[best['criterion']], max_depth = best['max_depth'], \n",
    "                                       max_features = feat[best['max_features']], \n",
    "                                       min_samples_leaf = best['min_samples_leaf'], \n",
    "                                       min_samples_split = best['min_samples_split'],).fit(X_train,y_train)\n",
    "predictiondecision = traineddecision.predict(X_test)\n",
    "print(confusion_matrix(y_test,predictiondecision))\n",
    "print(accuracy_score(y_test,predictiondecision))\n",
    "print(classification_report(y_test,predictiondecision))\n",
    "acc5 = accuracy_score(y_test,predictiondecision)"
   ]
  },
  {
   "cell_type": "markdown",
   "metadata": {
    "id": "j2xfy2Mti9OS"
   },
   "source": [
    "Genetic Algorithms\n",
    "\n",
    "Genetic Algorithms tries to apply natural selection mechanisms to Machine Learning contexts.\n",
    "\n",
    "Let's immagine we create a population of N Machine Learning models with some predifined Hyperparameters. We can then calculate the accuracy of each model and decide to keep just half of the models (the ones that performs best). We can now generate some offsprings having similar Hyperparameters to the ones of the best models so that go get again a population of N models. At this point we can again caltulate the accuracy of each model and repeate the cycle for a defined number of generations. In this way, just the best models will survive at the end of the process."
   ]
  },
  {
   "cell_type": "code",
   "execution_count": 94,
   "metadata": {
    "colab": {
     "base_uri": "https://localhost:8080/"
    },
    "id": "g4LKZ7bEh0NV",
    "outputId": "96e55e0a-7040-48f6-e9c9-a10034453530"
   },
   "outputs": [],
   "source": [
    "#!pip install tpot"
   ]
  },
  {
   "cell_type": "code",
   "execution_count": 95,
   "metadata": {
    "colab": {
     "base_uri": "https://localhost:8080/"
    },
    "id": "AN42x1ojjMek",
    "outputId": "30accbca-9c3d-4dea-a054-344cbfe97574"
   },
   "outputs": [
    {
     "name": "stdout",
     "output_type": "stream",
     "text": [
      "{'max_features': ['auto', 'sqrt', 'log2'], 'max_depth': [10, 120, 230, 340, 450, 560, 670, 780, 890, 1000], 'min_samples_split': [2, 5, 10, 14], 'min_samples_leaf': [1, 2, 4, 6, 8], 'criterion': ['entropy', 'gini']}\n"
     ]
    }
   ],
   "source": [
    "# Number of features to consider at every split\n",
    "max_features = ['auto', 'sqrt','log2']\n",
    "# Maximum number of levels in tree\n",
    "max_depth = [int(x) for x in np.linspace(10, 1000,10)]\n",
    "# Minimum number of samples required to split a node\n",
    "min_samples_split = [2, 5, 10,14]\n",
    "# Minimum number of samples required at each leaf node\n",
    "min_samples_leaf = [1, 2, 4,6,8]\n",
    "# Create the random grid\n",
    "param = {      'max_features': max_features,\n",
    "               'max_depth': max_depth,\n",
    "               'min_samples_split': min_samples_split,\n",
    "               'min_samples_leaf': min_samples_leaf,\n",
    "              'criterion':['entropy','gini']}\n",
    "print(param)"
   ]
  },
  {
   "cell_type": "code",
   "execution_count": 105,
   "metadata": {
    "colab": {
     "base_uri": "https://localhost:8080/",
     "height": 1000,
     "referenced_widgets": [
      "c1e91d97603943ec8350bcd1498c0b7b",
      "730c01e63b854e7bbb54964d4190a9c4",
      "64834123a9924f03961cae69203c4534",
      "5022ea4b8170425a9412b51ef9f17a09",
      "301262208e5b445a932acb14e74c6f77",
      "3513b4554eac47028685c95388bee5eb",
      "fd2002ae3131452cb33b6530efa1da50",
      "9353a12ed71745d79767807aa30bcd09"
     ]
    },
    "id": "ZmNKQBafjgwG",
    "outputId": "b73bf4b6-db4d-4384-daa7-f5f0ad9229fe"
   },
   "outputs": [
    {
     "data": {
      "application/vnd.jupyter.widget-view+json": {
       "model_id": "",
       "version_major": 2,
       "version_minor": 0
      },
      "text/plain": [
       "Optimization Progress:   0%|          | 0/144 [00:00<?, ?pipeline/s]"
      ]
     },
     "metadata": {},
     "output_type": "display_data"
    },
    {
     "name": "stdout",
     "output_type": "stream",
     "text": [
      "\n",
      "Generation 1 - Current best internal CV score: 0.7222476190476191\n",
      "\n",
      "Generation 2 - Current best internal CV score: 0.7222476190476191\n",
      "\n",
      "Generation 3 - Current best internal CV score: 0.7222476190476191\n",
      "\n",
      "Generation 4 - Current best internal CV score: 0.7238095238095238\n",
      "\n",
      "Generation 5 - Current best internal CV score: 0.7238095238095238\n",
      "\n",
      "Generation 6 - Current best internal CV score: 0.7242666666666667\n",
      "\n",
      "Generation 7 - Current best internal CV score: 0.7242666666666667\n",
      "\n",
      "Generation 8 - Current best internal CV score: 0.7242666666666667\n",
      "\n",
      "Generation 9 - Current best internal CV score: 0.7242666666666667\n",
      "\n",
      "Generation 10 - Current best internal CV score: 0.7242666666666667\n",
      "\n",
      "Best pipeline: DecisionTreeClassifier(input_matrix, criterion=entropy, max_depth=10, max_features=auto, min_samples_leaf=4, min_samples_split=14)\n"
     ]
    },
    {
     "data": {
      "text/plain": [
       "TPOTClassifier(config_dict={'sklearn.tree.DecisionTreeClassifier': {'criterion': ['entropy',\n",
       "                                                                                  'gini'],\n",
       "                                                                    'max_depth': [10,\n",
       "                                                                                  120,\n",
       "                                                                                  230,\n",
       "                                                                                  340,\n",
       "                                                                                  450,\n",
       "                                                                                  560,\n",
       "                                                                                  670,\n",
       "                                                                                  780,\n",
       "                                                                                  890,\n",
       "                                                                                  1000],\n",
       "                                                                    'max_features': ['auto',\n",
       "                                                                                     'sqrt',\n",
       "                                                                                     'log2'],\n",
       "                                                                    'min_samples_leaf': [1,\n",
       "                                                                                         2,\n",
       "                                                                                         4,\n",
       "                                                                                         6,\n",
       "                                                                                         8],\n",
       "                                                                    'min_samples_split': [2,\n",
       "                                                                                          5,\n",
       "                                                                                          10,\n",
       "                                                                                          14]}},\n",
       "               cv=4, early_stop=12, generations=10, offspring_size=12,\n",
       "               population_size=24, scoring='accuracy', verbosity=2)"
      ]
     },
     "execution_count": 105,
     "metadata": {},
     "output_type": "execute_result"
    }
   ],
   "source": [
    "from tpot import TPOTClassifier\n",
    "\n",
    "\n",
    "tpot_classifier = TPOTClassifier(generations= 10, population_size= 24, offspring_size= 12,\n",
    "                                 verbosity= 2, early_stop= 12,\n",
    "                                 config_dict={'sklearn.tree.DecisionTreeClassifier': param}, \n",
    "                                 cv = 4, scoring = 'accuracy')\n",
    "tpot_classifier.fit(X_train,y_train)"
   ]
  },
  {
   "cell_type": "code",
   "execution_count": 97,
   "metadata": {
    "colab": {
     "base_uri": "https://localhost:8080/"
    },
    "id": "4CcyGLhPkgUP",
    "outputId": "0405026d-55ad-4e0d-b410-4a1d6926632b"
   },
   "outputs": [
    {
     "data": {
      "text/plain": [
       "array([0, 0, 1, ..., 0, 0, 1], dtype=int64)"
      ]
     },
     "execution_count": 97,
     "metadata": {},
     "output_type": "execute_result"
    }
   ],
   "source": [
    "y_pred_tpot=tpot_classifier.predict(X_test)\n",
    "y_pred_tpot"
   ]
  },
  {
   "cell_type": "code",
   "execution_count": 98,
   "metadata": {
    "colab": {
     "base_uri": "https://localhost:8080/"
    },
    "id": "Gep6AkbMkQjd",
    "outputId": "eb41d048-e5fd-4a31-b9c9-374cf243f2cb"
   },
   "outputs": [
    {
     "name": "stdout",
     "output_type": "stream",
     "text": [
      "0.7246285714285714\n"
     ]
    }
   ],
   "source": [
    "accuracy = tpot_classifier.score(X_test, y_test)\n",
    "print(accuracy)"
   ]
  },
  {
   "cell_type": "code",
   "execution_count": 99,
   "metadata": {
    "id": "qnr4xh-Rkpo-"
   },
   "outputs": [],
   "source": [
    "class Tuning_TPOT:\n",
    "\n",
    "    def __init__(self):\n",
    "        pass\n",
    "    def metrics(self):\n",
    "      print('Model After Tuning TPOTClassifier')\n",
    "      confusion_matrix_train=confusion_matrix(y_train,tpot_classifier.predict(X_train))\n",
    "      print(confusion_matrix_train)\n",
    "      print()\n",
    "      confusion_matrix_test=confusion_matrix(y_test,y_pred_tpot)\n",
    "      print(confusion_matrix_test)\n",
    "      print()\n",
    "      classification_report_decision_bayes=classification_report(y_train,tpot_classifier.predict(X_train))\n",
    "      print(classification_report_decision_bayes)\n",
    "      print()\n",
    "      classification_report_test_bayes=classification_report(y_test,y_pred_tpot)\n",
    "      print(classification_report_test_bayes)\n",
    "      print()\n",
    "      roc_auc_score_train=roc_auc_score(y_train,tpot_classifier.predict(X_train))\n",
    "      print(roc_auc_score_train)\n",
    "      print()\n",
    "      roc_auc_score_test=roc_auc_score(y_test,y_pred_tpot)\n",
    "      print(roc_auc_score_test)"
   ]
  },
  {
   "cell_type": "code",
   "execution_count": 100,
   "metadata": {
    "colab": {
     "base_uri": "https://localhost:8080/"
    },
    "id": "8il9Yy8GlUS2",
    "outputId": "0436e426-72be-482e-d365-706841e488f6"
   },
   "outputs": [
    {
     "name": "stdout",
     "output_type": "stream",
     "text": [
      "Model After Tuning TPOTClassifier\n",
      "[[20845  5373]\n",
      " [ 8188 18094]]\n",
      "\n",
      "[[6906 1897]\n",
      " [2922 5775]]\n",
      "\n",
      "              precision    recall  f1-score   support\n",
      "\n",
      "           0       0.72      0.80      0.75     26218\n",
      "           1       0.77      0.69      0.73     26282\n",
      "\n",
      "    accuracy                           0.74     52500\n",
      "   macro avg       0.74      0.74      0.74     52500\n",
      "weighted avg       0.74      0.74      0.74     52500\n",
      "\n",
      "\n",
      "              precision    recall  f1-score   support\n",
      "\n",
      "           0       0.70      0.78      0.74      8803\n",
      "           1       0.75      0.66      0.71      8697\n",
      "\n",
      "    accuracy                           0.72     17500\n",
      "   macro avg       0.73      0.72      0.72     17500\n",
      "weighted avg       0.73      0.72      0.72     17500\n",
      "\n",
      "\n",
      "0.7417602185033488\n",
      "\n",
      "0.7242636794341294\n"
     ]
    }
   ],
   "source": [
    "a=Tuning_TPOT()\n",
    "a.metrics()"
   ]
  },
  {
   "cell_type": "code",
   "execution_count": 109,
   "metadata": {},
   "outputs": [
    {
     "name": "stdout",
     "output_type": "stream",
     "text": [
      "{'max_features': ['auto', 'sqrt', 'log2'], 'max_depth': [10, 120, 230, 340, 450, 560, 670, 780, 890, 1000], 'min_samples_split': [2, 5, 10, 14], 'min_samples_leaf': [1, 2, 4, 6, 8], 'criterion': ['entropy', 'gini']}\n"
     ]
    }
   ],
   "source": [
    "max_features = ['auto', 'sqrt','log2']\n",
    "# Maximum number of levels in tree\n",
    "max_depth = [int(x) for x in np.linspace(10, 1000,10)]\n",
    "# Minimum number of samples required to split a node\n",
    "min_samples_split = [2, 5, 10,14]\n",
    "# Minimum number of samples required at each leaf node\n",
    "min_samples_leaf = [1, 2, 4,6,8]\n",
    "# Create the random grid\n",
    "param= {      'max_features': max_features,\n",
    "               'max_depth': max_depth,\n",
    "               'min_samples_split': min_samples_split,\n",
    "               'min_samples_leaf': min_samples_leaf,\n",
    "               'criterion':['entropy','gini']}\n",
    "print(param)"
   ]
  },
  {
   "cell_type": "code",
   "execution_count": 110,
   "metadata": {},
   "outputs": [],
   "source": [
    "tpot_rf=TPOTClassifier(generations=10,population_size=24,offspring_size=12,verbosity=2,early_stop=12,\n",
    "config_dict={'sklearn.ensemble.RandomForestClassifier':param},scoring='accuracy',cv=4,n_jobs=-1)"
   ]
  },
  {
   "cell_type": "code",
   "execution_count": 111,
   "metadata": {},
   "outputs": [
    {
     "data": {
      "application/vnd.jupyter.widget-view+json": {
       "model_id": "",
       "version_major": 2,
       "version_minor": 0
      },
      "text/plain": [
       "Optimization Progress:   0%|          | 0/144 [00:00<?, ?pipeline/s]"
      ]
     },
     "metadata": {},
     "output_type": "display_data"
    },
    {
     "name": "stdout",
     "output_type": "stream",
     "text": [
      "\n",
      "Generation 1 - Current best internal CV score: 0.7344952380952381\n",
      "\n",
      "Generation 2 - Current best internal CV score: 0.7344952380952381\n",
      "\n",
      "Generation 3 - Current best internal CV score: 0.7344952380952381\n",
      "\n",
      "Generation 4 - Current best internal CV score: 0.7344952380952381\n",
      "\n",
      "Generation 5 - Current best internal CV score: 0.7344952380952381\n",
      "\n",
      "Generation 6 - Current best internal CV score: 0.7344952380952381\n",
      "\n",
      "Generation 7 - Current best internal CV score: 0.7344952380952381\n",
      "\n",
      "Generation 8 - Current best internal CV score: 0.7344952380952381\n",
      "\n",
      "Generation 9 - Current best internal CV score: 0.7349904761904762\n",
      "\n",
      "Generation 10 - Current best internal CV score: 0.7349904761904762\n",
      "\n",
      "Best pipeline: RandomForestClassifier(CombineDFs(input_matrix, input_matrix), criterion=entropy, max_depth=10, max_features=sqrt, min_samples_leaf=1, min_samples_split=2)\n"
     ]
    },
    {
     "data": {
      "text/plain": [
       "TPOTClassifier(config_dict={'sklearn.ensemble.RandomForestClassifier': {'criterion': ['entropy',\n",
       "                                                                                      'gini'],\n",
       "                                                                        'max_depth': [10,\n",
       "                                                                                      120,\n",
       "                                                                                      230,\n",
       "                                                                                      340,\n",
       "                                                                                      450,\n",
       "                                                                                      560,\n",
       "                                                                                      670,\n",
       "                                                                                      780,\n",
       "                                                                                      890,\n",
       "                                                                                      1000],\n",
       "                                                                        'max_features': ['auto',\n",
       "                                                                                         'sqrt',\n",
       "                                                                                         'log2'],\n",
       "                                                                        'min_samples_leaf': [1,\n",
       "                                                                                             2,\n",
       "                                                                                             4,\n",
       "                                                                                             6,\n",
       "                                                                                             8],\n",
       "                                                                        'min_samples_split': [2,\n",
       "                                                                                              5,\n",
       "                                                                                              10,\n",
       "                                                                                              14]}},\n",
       "               cv=4, early_stop=12, generations=10, n_jobs=-1,\n",
       "               offspring_size=12, population_size=24, scoring='accuracy',\n",
       "               verbosity=2)"
      ]
     },
     "execution_count": 111,
     "metadata": {},
     "output_type": "execute_result"
    }
   ],
   "source": [
    "%%time\n",
    "tpot_rf.fit(X_train,y_train)"
   ]
  },
  {
   "cell_type": "code",
   "execution_count": 112,
   "metadata": {},
   "outputs": [],
   "source": [
    "y_pred_rf=tpot_rf.predict(X_test)"
   ]
  },
  {
   "cell_type": "code",
   "execution_count": 116,
   "metadata": {},
   "outputs": [
    {
     "name": "stdout",
     "output_type": "stream",
     "text": [
      "[[21049  5169]\n",
      " [ 7671 18611]]\n",
      "[[6955 1848]\n",
      " [2736 5961]]\n",
      "              precision    recall  f1-score   support\n",
      "\n",
      "           0       0.73      0.80      0.77     26218\n",
      "           1       0.78      0.71      0.74     26282\n",
      "\n",
      "    accuracy                           0.76     52500\n",
      "   macro avg       0.76      0.76      0.75     52500\n",
      "weighted avg       0.76      0.76      0.75     52500\n",
      "\n",
      "              precision    recall  f1-score   support\n",
      "\n",
      "           0       0.72      0.79      0.75      8803\n",
      "           1       0.76      0.69      0.72      8697\n",
      "\n",
      "    accuracy                           0.74     17500\n",
      "   macro avg       0.74      0.74      0.74     17500\n",
      "weighted avg       0.74      0.74      0.74     17500\n",
      "\n"
     ]
    }
   ],
   "source": [
    "confusion_matrix_train=confusion_matrix(y_train,tpot_rf.predict(X_train))\n",
    "print(confusion_matrix_train)\n",
    "confusion_matrix_test=confusion_matrix(y_test,y_pred_rf)\n",
    "print(confusion_matrix_test)\n",
    "classification_report_rf_train=classification_report(y_train,tpot_rf.predict(X_train))\n",
    "print(classification_report_rf_train)\n",
    "classification_report_rf_test=classification_report(y_test,y_pred_rf)\n",
    "print(classification_report_rf_test)"
   ]
  }
 ],
 "metadata": {
  "colab": {
   "collapsed_sections": [],
   "name": "Modular Code Cardio Vescular Dataset.ipynb",
   "provenance": []
  },
  "kernelspec": {
   "display_name": "Anaconda (imarticus)",
   "language": "python",
   "name": "anaconda-imarticus"
  },
  "language_info": {
   "codemirror_mode": {
    "name": "ipython",
    "version": 3
   },
   "file_extension": ".py",
   "mimetype": "text/x-python",
   "name": "python",
   "nbconvert_exporter": "python",
   "pygments_lexer": "ipython3",
   "version": "3.6.9"
  },
  "widgets": {
   "application/vnd.jupyter.widget-state+json": {
    "301262208e5b445a932acb14e74c6f77": {
     "model_module": "@jupyter-widgets/controls",
     "model_name": "ProgressStyleModel",
     "state": {
      "_model_module": "@jupyter-widgets/controls",
      "_model_module_version": "1.5.0",
      "_model_name": "ProgressStyleModel",
      "_view_count": null,
      "_view_module": "@jupyter-widgets/base",
      "_view_module_version": "1.2.0",
      "_view_name": "StyleView",
      "bar_color": null,
      "description_width": "initial"
     }
    },
    "3513b4554eac47028685c95388bee5eb": {
     "model_module": "@jupyter-widgets/base",
     "model_name": "LayoutModel",
     "state": {
      "_model_module": "@jupyter-widgets/base",
      "_model_module_version": "1.2.0",
      "_model_name": "LayoutModel",
      "_view_count": null,
      "_view_module": "@jupyter-widgets/base",
      "_view_module_version": "1.2.0",
      "_view_name": "LayoutView",
      "align_content": null,
      "align_items": null,
      "align_self": null,
      "border": null,
      "bottom": null,
      "display": null,
      "flex": null,
      "flex_flow": null,
      "grid_area": null,
      "grid_auto_columns": null,
      "grid_auto_flow": null,
      "grid_auto_rows": null,
      "grid_column": null,
      "grid_gap": null,
      "grid_row": null,
      "grid_template_areas": null,
      "grid_template_columns": null,
      "grid_template_rows": null,
      "height": null,
      "justify_content": null,
      "justify_items": null,
      "left": null,
      "margin": null,
      "max_height": null,
      "max_width": null,
      "min_height": null,
      "min_width": null,
      "object_fit": null,
      "object_position": null,
      "order": null,
      "overflow": null,
      "overflow_x": null,
      "overflow_y": null,
      "padding": null,
      "right": null,
      "top": null,
      "visibility": null,
      "width": null
     }
    },
    "5022ea4b8170425a9412b51ef9f17a09": {
     "model_module": "@jupyter-widgets/controls",
     "model_name": "HTMLModel",
     "state": {
      "_dom_classes": [],
      "_model_module": "@jupyter-widgets/controls",
      "_model_module_version": "1.5.0",
      "_model_name": "HTMLModel",
      "_view_count": null,
      "_view_module": "@jupyter-widgets/controls",
      "_view_module_version": "1.5.0",
      "_view_name": "HTMLView",
      "description": "",
      "description_tooltip": null,
      "layout": "IPY_MODEL_9353a12ed71745d79767807aa30bcd09",
      "placeholder": "​",
      "style": "IPY_MODEL_fd2002ae3131452cb33b6530efa1da50",
      "value": " 144/144 [00:53&lt;00:00,  3.13pipeline/s]"
     }
    },
    "64834123a9924f03961cae69203c4534": {
     "model_module": "@jupyter-widgets/controls",
     "model_name": "FloatProgressModel",
     "state": {
      "_dom_classes": [],
      "_model_module": "@jupyter-widgets/controls",
      "_model_module_version": "1.5.0",
      "_model_name": "FloatProgressModel",
      "_view_count": null,
      "_view_module": "@jupyter-widgets/controls",
      "_view_module_version": "1.5.0",
      "_view_name": "ProgressView",
      "bar_style": "",
      "description": "Optimization Progress: 100%",
      "description_tooltip": null,
      "layout": "IPY_MODEL_3513b4554eac47028685c95388bee5eb",
      "max": 144,
      "min": 0,
      "orientation": "horizontal",
      "style": "IPY_MODEL_301262208e5b445a932acb14e74c6f77",
      "value": 144
     }
    },
    "730c01e63b854e7bbb54964d4190a9c4": {
     "model_module": "@jupyter-widgets/base",
     "model_name": "LayoutModel",
     "state": {
      "_model_module": "@jupyter-widgets/base",
      "_model_module_version": "1.2.0",
      "_model_name": "LayoutModel",
      "_view_count": null,
      "_view_module": "@jupyter-widgets/base",
      "_view_module_version": "1.2.0",
      "_view_name": "LayoutView",
      "align_content": null,
      "align_items": null,
      "align_self": null,
      "border": null,
      "bottom": null,
      "display": null,
      "flex": null,
      "flex_flow": null,
      "grid_area": null,
      "grid_auto_columns": null,
      "grid_auto_flow": null,
      "grid_auto_rows": null,
      "grid_column": null,
      "grid_gap": null,
      "grid_row": null,
      "grid_template_areas": null,
      "grid_template_columns": null,
      "grid_template_rows": null,
      "height": null,
      "justify_content": null,
      "justify_items": null,
      "left": null,
      "margin": null,
      "max_height": null,
      "max_width": null,
      "min_height": null,
      "min_width": null,
      "object_fit": null,
      "object_position": null,
      "order": null,
      "overflow": null,
      "overflow_x": null,
      "overflow_y": null,
      "padding": null,
      "right": null,
      "top": null,
      "visibility": null,
      "width": null
     }
    },
    "9353a12ed71745d79767807aa30bcd09": {
     "model_module": "@jupyter-widgets/base",
     "model_name": "LayoutModel",
     "state": {
      "_model_module": "@jupyter-widgets/base",
      "_model_module_version": "1.2.0",
      "_model_name": "LayoutModel",
      "_view_count": null,
      "_view_module": "@jupyter-widgets/base",
      "_view_module_version": "1.2.0",
      "_view_name": "LayoutView",
      "align_content": null,
      "align_items": null,
      "align_self": null,
      "border": null,
      "bottom": null,
      "display": null,
      "flex": null,
      "flex_flow": null,
      "grid_area": null,
      "grid_auto_columns": null,
      "grid_auto_flow": null,
      "grid_auto_rows": null,
      "grid_column": null,
      "grid_gap": null,
      "grid_row": null,
      "grid_template_areas": null,
      "grid_template_columns": null,
      "grid_template_rows": null,
      "height": null,
      "justify_content": null,
      "justify_items": null,
      "left": null,
      "margin": null,
      "max_height": null,
      "max_width": null,
      "min_height": null,
      "min_width": null,
      "object_fit": null,
      "object_position": null,
      "order": null,
      "overflow": null,
      "overflow_x": null,
      "overflow_y": null,
      "padding": null,
      "right": null,
      "top": null,
      "visibility": null,
      "width": null
     }
    },
    "c1e91d97603943ec8350bcd1498c0b7b": {
     "model_module": "@jupyter-widgets/controls",
     "model_name": "HBoxModel",
     "state": {
      "_dom_classes": [],
      "_model_module": "@jupyter-widgets/controls",
      "_model_module_version": "1.5.0",
      "_model_name": "HBoxModel",
      "_view_count": null,
      "_view_module": "@jupyter-widgets/controls",
      "_view_module_version": "1.5.0",
      "_view_name": "HBoxView",
      "box_style": "",
      "children": [
       "IPY_MODEL_64834123a9924f03961cae69203c4534",
       "IPY_MODEL_5022ea4b8170425a9412b51ef9f17a09"
      ],
      "layout": "IPY_MODEL_730c01e63b854e7bbb54964d4190a9c4"
     }
    },
    "fd2002ae3131452cb33b6530efa1da50": {
     "model_module": "@jupyter-widgets/controls",
     "model_name": "DescriptionStyleModel",
     "state": {
      "_model_module": "@jupyter-widgets/controls",
      "_model_module_version": "1.5.0",
      "_model_name": "DescriptionStyleModel",
      "_view_count": null,
      "_view_module": "@jupyter-widgets/base",
      "_view_module_version": "1.2.0",
      "_view_name": "StyleView",
      "description_width": ""
     }
    }
   }
  }
 },
 "nbformat": 4,
 "nbformat_minor": 1
}
