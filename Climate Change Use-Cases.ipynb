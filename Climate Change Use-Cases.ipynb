{
 "cells": [
  {
   "cell_type": "code",
   "execution_count": 1,
   "metadata": {},
   "outputs": [],
   "source": [
    "import numpy as np\n",
    "import pandas as pd\n",
    "import matplotlib.pyplot as plt\n",
    "import seaborn as sns\n",
    "%matplotlib inline"
   ]
  },
  {
   "cell_type": "code",
   "execution_count": 2,
   "metadata": {},
   "outputs": [],
   "source": [
    "df=pd.read_csv('GlobalLandTemperaturesByMajorCity.csv')"
   ]
  },
  {
   "cell_type": "code",
   "execution_count": 3,
   "metadata": {},
   "outputs": [
    {
     "data": {
      "text/html": [
       "<div>\n",
       "<style scoped>\n",
       "    .dataframe tbody tr th:only-of-type {\n",
       "        vertical-align: middle;\n",
       "    }\n",
       "\n",
       "    .dataframe tbody tr th {\n",
       "        vertical-align: top;\n",
       "    }\n",
       "\n",
       "    .dataframe thead th {\n",
       "        text-align: right;\n",
       "    }\n",
       "</style>\n",
       "<table border=\"1\" class=\"dataframe\">\n",
       "  <thead>\n",
       "    <tr style=\"text-align: right;\">\n",
       "      <th></th>\n",
       "      <th>dt</th>\n",
       "      <th>AverageTemperature</th>\n",
       "      <th>AverageTemperatureUncertainty</th>\n",
       "      <th>City</th>\n",
       "      <th>Country</th>\n",
       "      <th>Latitude</th>\n",
       "      <th>Longitude</th>\n",
       "    </tr>\n",
       "  </thead>\n",
       "  <tbody>\n",
       "    <tr>\n",
       "      <th>0</th>\n",
       "      <td>1849-01-01</td>\n",
       "      <td>26.704</td>\n",
       "      <td>1.435</td>\n",
       "      <td>Abidjan</td>\n",
       "      <td>Côte D'Ivoire</td>\n",
       "      <td>5.63N</td>\n",
       "      <td>3.23W</td>\n",
       "    </tr>\n",
       "    <tr>\n",
       "      <th>1</th>\n",
       "      <td>1849-02-01</td>\n",
       "      <td>27.434</td>\n",
       "      <td>1.362</td>\n",
       "      <td>Abidjan</td>\n",
       "      <td>Côte D'Ivoire</td>\n",
       "      <td>5.63N</td>\n",
       "      <td>3.23W</td>\n",
       "    </tr>\n",
       "    <tr>\n",
       "      <th>2</th>\n",
       "      <td>1849-03-01</td>\n",
       "      <td>28.101</td>\n",
       "      <td>1.612</td>\n",
       "      <td>Abidjan</td>\n",
       "      <td>Côte D'Ivoire</td>\n",
       "      <td>5.63N</td>\n",
       "      <td>3.23W</td>\n",
       "    </tr>\n",
       "    <tr>\n",
       "      <th>3</th>\n",
       "      <td>1849-04-01</td>\n",
       "      <td>26.140</td>\n",
       "      <td>1.387</td>\n",
       "      <td>Abidjan</td>\n",
       "      <td>Côte D'Ivoire</td>\n",
       "      <td>5.63N</td>\n",
       "      <td>3.23W</td>\n",
       "    </tr>\n",
       "    <tr>\n",
       "      <th>4</th>\n",
       "      <td>1849-05-01</td>\n",
       "      <td>25.427</td>\n",
       "      <td>1.200</td>\n",
       "      <td>Abidjan</td>\n",
       "      <td>Côte D'Ivoire</td>\n",
       "      <td>5.63N</td>\n",
       "      <td>3.23W</td>\n",
       "    </tr>\n",
       "  </tbody>\n",
       "</table>\n",
       "</div>"
      ],
      "text/plain": [
       "           dt  AverageTemperature  AverageTemperatureUncertainty     City  \\\n",
       "0  1849-01-01              26.704                          1.435  Abidjan   \n",
       "1  1849-02-01              27.434                          1.362  Abidjan   \n",
       "2  1849-03-01              28.101                          1.612  Abidjan   \n",
       "3  1849-04-01              26.140                          1.387  Abidjan   \n",
       "4  1849-05-01              25.427                          1.200  Abidjan   \n",
       "\n",
       "         Country Latitude Longitude  \n",
       "0  Côte D'Ivoire    5.63N     3.23W  \n",
       "1  Côte D'Ivoire    5.63N     3.23W  \n",
       "2  Côte D'Ivoire    5.63N     3.23W  \n",
       "3  Côte D'Ivoire    5.63N     3.23W  \n",
       "4  Côte D'Ivoire    5.63N     3.23W  "
      ]
     },
     "execution_count": 3,
     "metadata": {},
     "output_type": "execute_result"
    }
   ],
   "source": [
    "df.head()"
   ]
  },
  {
   "cell_type": "code",
   "execution_count": 4,
   "metadata": {},
   "outputs": [
    {
     "data": {
      "text/plain": [
       "(239177, 7)"
      ]
     },
     "execution_count": 4,
     "metadata": {},
     "output_type": "execute_result"
    }
   ],
   "source": [
    "df.shape"
   ]
  },
  {
   "cell_type": "code",
   "execution_count": 5,
   "metadata": {},
   "outputs": [],
   "source": [
    "# Changing the columns of the dataset to be more readable.\n",
    "df.rename(columns={'AverageTemperature':'Temperature','AverageTemperatureUncertainty':'deviation'},inplace=True)"
   ]
  },
  {
   "cell_type": "code",
   "execution_count": 6,
   "metadata": {},
   "outputs": [
    {
     "data": {
      "text/plain": [
       "dt                 0\n",
       "Temperature    11002\n",
       "deviation      11002\n",
       "City               0\n",
       "Country            0\n",
       "Latitude           0\n",
       "Longitude          0\n",
       "dtype: int64"
      ]
     },
     "execution_count": 6,
     "metadata": {},
     "output_type": "execute_result"
    }
   ],
   "source": [
    "df.isnull().sum()"
   ]
  },
  {
   "cell_type": "code",
   "execution_count": 29,
   "metadata": {},
   "outputs": [
    {
     "data": {
      "text/plain": [
       "Country\n",
       "Iraq            38.283\n",
       "Saudi Arabia    37.859\n",
       "India           36.477\n",
       "Pakistan        36.346\n",
       "Sudan           35.700\n",
       "Name: Temperature, dtype: float64"
      ]
     },
     "execution_count": 29,
     "metadata": {},
     "output_type": "execute_result"
    }
   ],
   "source": [
    "#Find out the maximum temperature of Country\n",
    "df.groupby('Country')['Temperature'].agg('max').sort_values(ascending=False).head()"
   ]
  },
  {
   "cell_type": "code",
   "execution_count": 40,
   "metadata": {},
   "outputs": [
    {
     "data": {
      "text/plain": [
       "City\n",
       "Harbin             -26.772\n",
       "Changchun          -23.272\n",
       "Moscow             -19.376\n",
       "Saint Petersburg   -18.644\n",
       "Montreal           -18.363\n",
       "Shenyang           -17.035\n",
       "Kiev               -16.191\n",
       "Toronto            -15.502\n",
       "Taiyuan            -13.116\n",
       "Berlin             -10.125\n",
       "Name: Temperature, dtype: float64"
      ]
     },
     "execution_count": 40,
     "metadata": {},
     "output_type": "execute_result"
    }
   ],
   "source": [
    "# Find out the minimum temperature of the city\n",
    "df.groupby('City')['Temperature'].agg('min').sort_values(ascending=True).head(10)"
   ]
  },
  {
   "cell_type": "code",
   "execution_count": 45,
   "metadata": {},
   "outputs": [
    {
     "data": {
      "text/plain": [
       "Country\n",
       "Germany           14.037\n",
       "United Kingdom    13.560\n",
       "France            13.224\n",
       "Italy             12.166\n",
       "Russia            11.685\n",
       "United States     10.193\n",
       "Spain              9.770\n",
       "Ukraine            9.514\n",
       "Canada             9.304\n",
       "Turkey             8.459\n",
       "Name: deviation, dtype: float64"
      ]
     },
     "execution_count": 45,
     "metadata": {},
     "output_type": "execute_result"
    }
   ],
   "source": [
    "# Find out the deviation with respect to country(uncertainty in climate)\n",
    "df.groupby('Country')['deviation'].agg('max').sort_values(ascending=False).head(10)"
   ]
  },
  {
   "cell_type": "code",
   "execution_count": 49,
   "metadata": {},
   "outputs": [
    {
     "data": {
      "text/plain": [
       "City\n",
       "Belo Horizonte    0.040\n",
       "Tokyo             0.049\n",
       "Calcutta          0.056\n",
       "Changchun         0.056\n",
       "Moscow            0.060\n",
       "                  ...  \n",
       "Fortaleza         0.150\n",
       "Mogadishu         0.172\n",
       "Lima              0.173\n",
       "Cape Town         0.177\n",
       "Rio De Janeiro    0.257\n",
       "Name: deviation, Length: 100, dtype: float64"
      ]
     },
     "execution_count": 49,
     "metadata": {},
     "output_type": "execute_result"
    }
   ],
   "source": [
    "#Find out the minimum deviation with respect to city(uncertainty in climate)\n",
    "df.groupby('City')['deviation'].agg('min').sort_values(ascending=True)"
   ]
  },
  {
   "cell_type": "code",
   "execution_count": 65,
   "metadata": {},
   "outputs": [
    {
     "data": {
      "text/html": [
       "<div>\n",
       "<style scoped>\n",
       "    .dataframe tbody tr th:only-of-type {\n",
       "        vertical-align: middle;\n",
       "    }\n",
       "\n",
       "    .dataframe tbody tr th {\n",
       "        vertical-align: top;\n",
       "    }\n",
       "\n",
       "    .dataframe thead th {\n",
       "        text-align: right;\n",
       "    }\n",
       "</style>\n",
       "<table border=\"1\" class=\"dataframe\">\n",
       "  <thead>\n",
       "    <tr style=\"text-align: right;\">\n",
       "      <th></th>\n",
       "      <th>dt</th>\n",
       "      <th>Temperature</th>\n",
       "      <th>deviation</th>\n",
       "      <th>City</th>\n",
       "      <th>Country</th>\n",
       "      <th>Latitude</th>\n",
       "      <th>Longitude</th>\n",
       "    </tr>\n",
       "  </thead>\n",
       "  <tbody>\n",
       "    <tr>\n",
       "      <th>17335</th>\n",
       "      <td>1796-01-01</td>\n",
       "      <td>22.672</td>\n",
       "      <td>2.317</td>\n",
       "      <td>Bangalore</td>\n",
       "      <td>India</td>\n",
       "      <td>12.05N</td>\n",
       "      <td>77.26E</td>\n",
       "    </tr>\n",
       "    <tr>\n",
       "      <th>17336</th>\n",
       "      <td>1796-02-01</td>\n",
       "      <td>24.420</td>\n",
       "      <td>1.419</td>\n",
       "      <td>Bangalore</td>\n",
       "      <td>India</td>\n",
       "      <td>12.05N</td>\n",
       "      <td>77.26E</td>\n",
       "    </tr>\n",
       "    <tr>\n",
       "      <th>17337</th>\n",
       "      <td>1796-03-01</td>\n",
       "      <td>26.092</td>\n",
       "      <td>2.459</td>\n",
       "      <td>Bangalore</td>\n",
       "      <td>India</td>\n",
       "      <td>12.05N</td>\n",
       "      <td>77.26E</td>\n",
       "    </tr>\n",
       "    <tr>\n",
       "      <th>17338</th>\n",
       "      <td>1796-04-01</td>\n",
       "      <td>27.687</td>\n",
       "      <td>1.746</td>\n",
       "      <td>Bangalore</td>\n",
       "      <td>India</td>\n",
       "      <td>12.05N</td>\n",
       "      <td>77.26E</td>\n",
       "    </tr>\n",
       "    <tr>\n",
       "      <th>17339</th>\n",
       "      <td>1796-05-01</td>\n",
       "      <td>27.619</td>\n",
       "      <td>1.277</td>\n",
       "      <td>Bangalore</td>\n",
       "      <td>India</td>\n",
       "      <td>12.05N</td>\n",
       "      <td>77.26E</td>\n",
       "    </tr>\n",
       "    <tr>\n",
       "      <th>...</th>\n",
       "      <td>...</td>\n",
       "      <td>...</td>\n",
       "      <td>...</td>\n",
       "      <td>...</td>\n",
       "      <td>...</td>\n",
       "      <td>...</td>\n",
       "      <td>...</td>\n",
       "    </tr>\n",
       "    <tr>\n",
       "      <th>19943</th>\n",
       "      <td>2013-05-01</td>\n",
       "      <td>29.189</td>\n",
       "      <td>0.514</td>\n",
       "      <td>Bangalore</td>\n",
       "      <td>India</td>\n",
       "      <td>12.05N</td>\n",
       "      <td>77.26E</td>\n",
       "    </tr>\n",
       "    <tr>\n",
       "      <th>19944</th>\n",
       "      <td>2013-06-01</td>\n",
       "      <td>25.835</td>\n",
       "      <td>0.384</td>\n",
       "      <td>Bangalore</td>\n",
       "      <td>India</td>\n",
       "      <td>12.05N</td>\n",
       "      <td>77.26E</td>\n",
       "    </tr>\n",
       "    <tr>\n",
       "      <th>19945</th>\n",
       "      <td>2013-07-01</td>\n",
       "      <td>25.008</td>\n",
       "      <td>0.416</td>\n",
       "      <td>Bangalore</td>\n",
       "      <td>India</td>\n",
       "      <td>12.05N</td>\n",
       "      <td>77.26E</td>\n",
       "    </tr>\n",
       "    <tr>\n",
       "      <th>19946</th>\n",
       "      <td>2013-08-01</td>\n",
       "      <td>25.236</td>\n",
       "      <td>0.520</td>\n",
       "      <td>Bangalore</td>\n",
       "      <td>India</td>\n",
       "      <td>12.05N</td>\n",
       "      <td>77.26E</td>\n",
       "    </tr>\n",
       "    <tr>\n",
       "      <th>19947</th>\n",
       "      <td>2013-09-01</td>\n",
       "      <td>NaN</td>\n",
       "      <td>NaN</td>\n",
       "      <td>Bangalore</td>\n",
       "      <td>India</td>\n",
       "      <td>12.05N</td>\n",
       "      <td>77.26E</td>\n",
       "    </tr>\n",
       "  </tbody>\n",
       "</table>\n",
       "<p>2613 rows × 7 columns</p>\n",
       "</div>"
      ],
      "text/plain": [
       "               dt  Temperature  deviation       City Country Latitude  \\\n",
       "17335  1796-01-01       22.672      2.317  Bangalore   India   12.05N   \n",
       "17336  1796-02-01       24.420      1.419  Bangalore   India   12.05N   \n",
       "17337  1796-03-01       26.092      2.459  Bangalore   India   12.05N   \n",
       "17338  1796-04-01       27.687      1.746  Bangalore   India   12.05N   \n",
       "17339  1796-05-01       27.619      1.277  Bangalore   India   12.05N   \n",
       "...           ...          ...        ...        ...     ...      ...   \n",
       "19943  2013-05-01       29.189      0.514  Bangalore   India   12.05N   \n",
       "19944  2013-06-01       25.835      0.384  Bangalore   India   12.05N   \n",
       "19945  2013-07-01       25.008      0.416  Bangalore   India   12.05N   \n",
       "19946  2013-08-01       25.236      0.520  Bangalore   India   12.05N   \n",
       "19947  2013-09-01          NaN        NaN  Bangalore   India   12.05N   \n",
       "\n",
       "      Longitude  \n",
       "17335    77.26E  \n",
       "17336    77.26E  \n",
       "17337    77.26E  \n",
       "17338    77.26E  \n",
       "17339    77.26E  \n",
       "...         ...  \n",
       "19943    77.26E  \n",
       "19944    77.26E  \n",
       "19945    77.26E  \n",
       "19946    77.26E  \n",
       "19947    77.26E  \n",
       "\n",
       "[2613 rows x 7 columns]"
      ]
     },
     "execution_count": 65,
     "metadata": {},
     "output_type": "execute_result"
    }
   ],
   "source": [
    "df[df.City=='Bangalore']"
   ]
  },
  {
   "cell_type": "code",
   "execution_count": 80,
   "metadata": {},
   "outputs": [
    {
     "data": {
      "text/plain": [
       "dtype('<M8[ns]')"
      ]
     },
     "execution_count": 80,
     "metadata": {},
     "output_type": "execute_result"
    }
   ],
   "source": [
    "df['dt'].dtypes"
   ]
  },
  {
   "cell_type": "code",
   "execution_count": 79,
   "metadata": {},
   "outputs": [],
   "source": [
    "df['dt']=pd.to_datetime(df['dt'])"
   ]
  },
  {
   "cell_type": "code",
   "execution_count": 82,
   "metadata": {},
   "outputs": [],
   "source": [
    "# extract year from dt columns\n",
    "df['year']=df['dt'].dt.year"
   ]
  },
  {
   "cell_type": "code",
   "execution_count": 83,
   "metadata": {},
   "outputs": [],
   "source": [
    "# extract month from dt columns\n",
    "df['month']=df['dt'].dt.month"
   ]
  },
  {
   "cell_type": "code",
   "execution_count": 84,
   "metadata": {},
   "outputs": [
    {
     "data": {
      "text/plain": [
       "dtype('int64')"
      ]
     },
     "execution_count": 84,
     "metadata": {},
     "output_type": "execute_result"
    }
   ],
   "source": [
    "df['year'].dtypes"
   ]
  },
  {
   "cell_type": "code",
   "execution_count": 85,
   "metadata": {},
   "outputs": [
    {
     "data": {
      "text/plain": [
       "dtype('int64')"
      ]
     },
     "execution_count": 85,
     "metadata": {},
     "output_type": "execute_result"
    }
   ],
   "source": [
    "df['month'].dtypes"
   ]
  },
  {
   "cell_type": "code",
   "execution_count": 91,
   "metadata": {},
   "outputs": [
    {
     "data": {
      "text/html": [
       "<div>\n",
       "<style scoped>\n",
       "    .dataframe tbody tr th:only-of-type {\n",
       "        vertical-align: middle;\n",
       "    }\n",
       "\n",
       "    .dataframe tbody tr th {\n",
       "        vertical-align: top;\n",
       "    }\n",
       "\n",
       "    .dataframe thead th {\n",
       "        text-align: right;\n",
       "    }\n",
       "</style>\n",
       "<table border=\"1\" class=\"dataframe\">\n",
       "  <thead>\n",
       "    <tr style=\"text-align: right;\">\n",
       "      <th></th>\n",
       "      <th>dt</th>\n",
       "      <th>Temperature</th>\n",
       "      <th>deviation</th>\n",
       "      <th>City</th>\n",
       "      <th>Country</th>\n",
       "      <th>Latitude</th>\n",
       "      <th>Longitude</th>\n",
       "      <th>year</th>\n",
       "      <th>month</th>\n",
       "    </tr>\n",
       "  </thead>\n",
       "  <tbody>\n",
       "    <tr>\n",
       "      <th>178570</th>\n",
       "      <td>1796-06-01</td>\n",
       "      <td>27.443</td>\n",
       "      <td>3.295</td>\n",
       "      <td>Pune</td>\n",
       "      <td>India</td>\n",
       "      <td>18.48N</td>\n",
       "      <td>74.37E</td>\n",
       "      <td>1796</td>\n",
       "      <td>6</td>\n",
       "    </tr>\n",
       "    <tr>\n",
       "      <th>178582</th>\n",
       "      <td>1797-06-01</td>\n",
       "      <td>28.374</td>\n",
       "      <td>2.120</td>\n",
       "      <td>Pune</td>\n",
       "      <td>India</td>\n",
       "      <td>18.48N</td>\n",
       "      <td>74.37E</td>\n",
       "      <td>1797</td>\n",
       "      <td>6</td>\n",
       "    </tr>\n",
       "    <tr>\n",
       "      <th>178594</th>\n",
       "      <td>1798-06-01</td>\n",
       "      <td>27.911</td>\n",
       "      <td>2.171</td>\n",
       "      <td>Pune</td>\n",
       "      <td>India</td>\n",
       "      <td>18.48N</td>\n",
       "      <td>74.37E</td>\n",
       "      <td>1798</td>\n",
       "      <td>6</td>\n",
       "    </tr>\n",
       "    <tr>\n",
       "      <th>178606</th>\n",
       "      <td>1799-06-01</td>\n",
       "      <td>28.231</td>\n",
       "      <td>2.497</td>\n",
       "      <td>Pune</td>\n",
       "      <td>India</td>\n",
       "      <td>18.48N</td>\n",
       "      <td>74.37E</td>\n",
       "      <td>1799</td>\n",
       "      <td>6</td>\n",
       "    </tr>\n",
       "    <tr>\n",
       "      <th>178618</th>\n",
       "      <td>1800-06-01</td>\n",
       "      <td>27.647</td>\n",
       "      <td>1.430</td>\n",
       "      <td>Pune</td>\n",
       "      <td>India</td>\n",
       "      <td>18.48N</td>\n",
       "      <td>74.37E</td>\n",
       "      <td>1800</td>\n",
       "      <td>6</td>\n",
       "    </tr>\n",
       "    <tr>\n",
       "      <th>...</th>\n",
       "      <td>...</td>\n",
       "      <td>...</td>\n",
       "      <td>...</td>\n",
       "      <td>...</td>\n",
       "      <td>...</td>\n",
       "      <td>...</td>\n",
       "      <td>...</td>\n",
       "      <td>...</td>\n",
       "      <td>...</td>\n",
       "    </tr>\n",
       "    <tr>\n",
       "      <th>181126</th>\n",
       "      <td>2009-06-01</td>\n",
       "      <td>28.616</td>\n",
       "      <td>0.295</td>\n",
       "      <td>Pune</td>\n",
       "      <td>India</td>\n",
       "      <td>18.48N</td>\n",
       "      <td>74.37E</td>\n",
       "      <td>2009</td>\n",
       "      <td>6</td>\n",
       "    </tr>\n",
       "    <tr>\n",
       "      <th>181138</th>\n",
       "      <td>2010-06-01</td>\n",
       "      <td>27.834</td>\n",
       "      <td>0.200</td>\n",
       "      <td>Pune</td>\n",
       "      <td>India</td>\n",
       "      <td>18.48N</td>\n",
       "      <td>74.37E</td>\n",
       "      <td>2010</td>\n",
       "      <td>6</td>\n",
       "    </tr>\n",
       "    <tr>\n",
       "      <th>181150</th>\n",
       "      <td>2011-06-01</td>\n",
       "      <td>27.096</td>\n",
       "      <td>0.595</td>\n",
       "      <td>Pune</td>\n",
       "      <td>India</td>\n",
       "      <td>18.48N</td>\n",
       "      <td>74.37E</td>\n",
       "      <td>2011</td>\n",
       "      <td>6</td>\n",
       "    </tr>\n",
       "    <tr>\n",
       "      <th>181162</th>\n",
       "      <td>2012-06-01</td>\n",
       "      <td>28.131</td>\n",
       "      <td>0.303</td>\n",
       "      <td>Pune</td>\n",
       "      <td>India</td>\n",
       "      <td>18.48N</td>\n",
       "      <td>74.37E</td>\n",
       "      <td>2012</td>\n",
       "      <td>6</td>\n",
       "    </tr>\n",
       "    <tr>\n",
       "      <th>181174</th>\n",
       "      <td>2013-06-01</td>\n",
       "      <td>26.362</td>\n",
       "      <td>0.255</td>\n",
       "      <td>Pune</td>\n",
       "      <td>India</td>\n",
       "      <td>18.48N</td>\n",
       "      <td>74.37E</td>\n",
       "      <td>2013</td>\n",
       "      <td>6</td>\n",
       "    </tr>\n",
       "  </tbody>\n",
       "</table>\n",
       "<p>218 rows × 9 columns</p>\n",
       "</div>"
      ],
      "text/plain": [
       "               dt  Temperature  deviation  City Country Latitude Longitude  \\\n",
       "178570 1796-06-01       27.443      3.295  Pune   India   18.48N    74.37E   \n",
       "178582 1797-06-01       28.374      2.120  Pune   India   18.48N    74.37E   \n",
       "178594 1798-06-01       27.911      2.171  Pune   India   18.48N    74.37E   \n",
       "178606 1799-06-01       28.231      2.497  Pune   India   18.48N    74.37E   \n",
       "178618 1800-06-01       27.647      1.430  Pune   India   18.48N    74.37E   \n",
       "...           ...          ...        ...   ...     ...      ...       ...   \n",
       "181126 2009-06-01       28.616      0.295  Pune   India   18.48N    74.37E   \n",
       "181138 2010-06-01       27.834      0.200  Pune   India   18.48N    74.37E   \n",
       "181150 2011-06-01       27.096      0.595  Pune   India   18.48N    74.37E   \n",
       "181162 2012-06-01       28.131      0.303  Pune   India   18.48N    74.37E   \n",
       "181174 2013-06-01       26.362      0.255  Pune   India   18.48N    74.37E   \n",
       "\n",
       "        year  month  \n",
       "178570  1796      6  \n",
       "178582  1797      6  \n",
       "178594  1798      6  \n",
       "178606  1799      6  \n",
       "178618  1800      6  \n",
       "...      ...    ...  \n",
       "181126  2009      6  \n",
       "181138  2010      6  \n",
       "181150  2011      6  \n",
       "181162  2012      6  \n",
       "181174  2013      6  \n",
       "\n",
       "[218 rows x 9 columns]"
      ]
     },
     "execution_count": 91,
     "metadata": {},
     "output_type": "execute_result"
    }
   ],
   "source": [
    "# Using City Temperature for the month of June\n",
    "df[(df['City']=='Pune') & (df['month']==6)]"
   ]
  },
  {
   "cell_type": "code",
   "execution_count": 95,
   "metadata": {},
   "outputs": [
    {
     "data": {
      "text/html": [
       "<div>\n",
       "<style scoped>\n",
       "    .dataframe tbody tr th:only-of-type {\n",
       "        vertical-align: middle;\n",
       "    }\n",
       "\n",
       "    .dataframe tbody tr th {\n",
       "        vertical-align: top;\n",
       "    }\n",
       "\n",
       "    .dataframe thead th {\n",
       "        text-align: right;\n",
       "    }\n",
       "</style>\n",
       "<table border=\"1\" class=\"dataframe\">\n",
       "  <thead>\n",
       "    <tr style=\"text-align: right;\">\n",
       "      <th></th>\n",
       "      <th>dt</th>\n",
       "      <th>Temperature</th>\n",
       "      <th>deviation</th>\n",
       "      <th>City</th>\n",
       "      <th>Country</th>\n",
       "      <th>Latitude</th>\n",
       "      <th>Longitude</th>\n",
       "      <th>year</th>\n",
       "      <th>month</th>\n",
       "    </tr>\n",
       "  </thead>\n",
       "  <tbody>\n",
       "    <tr>\n",
       "      <th>32596</th>\n",
       "      <td>2011-01-01</td>\n",
       "      <td>24.543</td>\n",
       "      <td>0.441</td>\n",
       "      <td>Bombay</td>\n",
       "      <td>India</td>\n",
       "      <td>18.48N</td>\n",
       "      <td>72.68E</td>\n",
       "      <td>2011</td>\n",
       "      <td>1</td>\n",
       "    </tr>\n",
       "    <tr>\n",
       "      <th>32608</th>\n",
       "      <td>2012-01-01</td>\n",
       "      <td>23.844</td>\n",
       "      <td>0.439</td>\n",
       "      <td>Bombay</td>\n",
       "      <td>India</td>\n",
       "      <td>18.48N</td>\n",
       "      <td>72.68E</td>\n",
       "      <td>2012</td>\n",
       "      <td>1</td>\n",
       "    </tr>\n",
       "    <tr>\n",
       "      <th>32620</th>\n",
       "      <td>2013-01-01</td>\n",
       "      <td>24.187</td>\n",
       "      <td>0.858</td>\n",
       "      <td>Bombay</td>\n",
       "      <td>India</td>\n",
       "      <td>18.48N</td>\n",
       "      <td>72.68E</td>\n",
       "      <td>2013</td>\n",
       "      <td>1</td>\n",
       "    </tr>\n",
       "  </tbody>\n",
       "</table>\n",
       "</div>"
      ],
      "text/plain": [
       "              dt  Temperature  deviation    City Country Latitude Longitude  \\\n",
       "32596 2011-01-01       24.543      0.441  Bombay   India   18.48N    72.68E   \n",
       "32608 2012-01-01       23.844      0.439  Bombay   India   18.48N    72.68E   \n",
       "32620 2013-01-01       24.187      0.858  Bombay   India   18.48N    72.68E   \n",
       "\n",
       "       year  month  \n",
       "32596  2011      1  \n",
       "32608  2012      1  \n",
       "32620  2013      1  "
      ]
     },
     "execution_count": 95,
     "metadata": {},
     "output_type": "execute_result"
    }
   ],
   "source": [
    "# Using City Temperature for the month Of January\n",
    "df[(df['City']=='Bombay') & (df['month']==1) & (df['year']>2010)]"
   ]
  },
  {
   "cell_type": "code",
   "execution_count": null,
   "metadata": {},
   "outputs": [],
   "source": []
  },
  {
   "cell_type": "code",
   "execution_count": null,
   "metadata": {},
   "outputs": [],
   "source": []
  },
  {
   "cell_type": "code",
   "execution_count": null,
   "metadata": {},
   "outputs": [],
   "source": []
  },
  {
   "cell_type": "code",
   "execution_count": null,
   "metadata": {},
   "outputs": [],
   "source": []
  },
  {
   "cell_type": "code",
   "execution_count": null,
   "metadata": {},
   "outputs": [],
   "source": []
  },
  {
   "cell_type": "code",
   "execution_count": null,
   "metadata": {},
   "outputs": [],
   "source": []
  },
  {
   "cell_type": "code",
   "execution_count": null,
   "metadata": {},
   "outputs": [],
   "source": []
  }
 ],
 "metadata": {
  "kernelspec": {
   "display_name": "Python 3",
   "language": "python",
   "name": "python3"
  },
  "language_info": {
   "codemirror_mode": {
    "name": "ipython",
    "version": 3
   },
   "file_extension": ".py",
   "mimetype": "text/x-python",
   "name": "python",
   "nbconvert_exporter": "python",
   "pygments_lexer": "ipython3",
   "version": "3.8.0"
  }
 },
 "nbformat": 4,
 "nbformat_minor": 4
}
